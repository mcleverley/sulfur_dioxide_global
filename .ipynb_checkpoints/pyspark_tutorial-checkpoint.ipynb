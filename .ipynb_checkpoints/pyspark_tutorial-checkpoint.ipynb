{
 "cells": [
  {
   "cell_type": "markdown",
   "metadata": {
    "toc": true
   },
   "source": [
    "<h1>Table of Contents<span class=\"tocSkip\"></span></h1>\n",
    "<div class=\"toc\"><ul class=\"toc-item\"><li><span><a href=\"#preface\" data-toc-modified-id=\"preface-1\"><span class=\"toc-item-num\">1&nbsp;&nbsp;</span>preface</a></span></li><li><span><a href=\"#the-tutorial\" data-toc-modified-id=\"the-tutorial-2\"><span class=\"toc-item-num\">2&nbsp;&nbsp;</span>the tutorial</a></span><ul class=\"toc-item\"><li><span><a href=\"#labs-begin\" data-toc-modified-id=\"labs-begin-2.1\"><span class=\"toc-item-num\">2.1&nbsp;&nbsp;</span>labs begin</a></span></li><li><span><a href=\"#about-RDDs:\" data-toc-modified-id=\"about-RDDs:-2.2\"><span class=\"toc-item-num\">2.2&nbsp;&nbsp;</span>about RDDs:</a></span><ul class=\"toc-item\"><li><span><a href=\"#actions\" data-toc-modified-id=\"actions-2.2.1\"><span class=\"toc-item-num\">2.2.1&nbsp;&nbsp;</span>actions</a></span></li></ul></li><li><span><a href=\"#reducebykey-suddenly-makes-sense-now\" data-toc-modified-id=\"reducebykey-suddenly-makes-sense-now-2.3\"><span class=\"toc-item-num\">2.3&nbsp;&nbsp;</span>reducebykey suddenly makes sense now</a></span></li></ul></li><li><span><a href=\"#launched-amazon-EMR-successfully\" data-toc-modified-id=\"launched-amazon-EMR-successfully-3\"><span class=\"toc-item-num\">3&nbsp;&nbsp;</span>launched amazon EMR successfully</a></span></li></ul></div>"
   ]
  },
  {
   "cell_type": "code",
   "execution_count": null,
   "metadata": {},
   "outputs": [],
   "source": []
  },
  {
   "cell_type": "markdown",
   "metadata": {},
   "source": [
    "# preface\n",
    "I used kitematic to run spark, because spark was not fun to set up manually.\n",
    "\n",
    "so this won't run on my hard drive, but that's fine since I can just run in kitematic.\n",
    "\n",
    "learned how to use spark, basically. mapreduce is very cool.\n",
    "next step is learning how to integrate AWS"
   ]
  },
  {
   "cell_type": "code",
   "execution_count": null,
   "metadata": {},
   "outputs": [],
   "source": []
  },
  {
   "cell_type": "code",
   "execution_count": null,
   "metadata": {},
   "outputs": [],
   "source": []
  },
  {
   "cell_type": "code",
   "execution_count": null,
   "metadata": {},
   "outputs": [],
   "source": []
  },
  {
   "cell_type": "markdown",
   "metadata": {},
   "source": [
    "# the tutorial"
   ]
  },
  {
   "cell_type": "markdown",
   "metadata": {},
   "source": [
    "so if i'm correct, then this notebook is running inside docker/kitematic, on a VM image configured specifically to run jupyter & pyspark.\n",
    "so the contents of this notebook are stored... where? probably in some docker directory.\n"
   ]
  },
  {
   "cell_type": "code",
   "execution_count": 1,
   "metadata": {},
   "outputs": [
    {
     "data": {
      "text/plain": [
       "'/home/jovyan/work'"
      ]
     },
     "execution_count": 1,
     "metadata": {},
     "output_type": "execute_result"
    }
   ],
   "source": [
    "pwd"
   ]
  },
  {
   "cell_type": "markdown",
   "metadata": {},
   "source": [
    "i don't see \"joyvan\" in my home directory, so the home is in docker somewhere, cool."
   ]
  },
  {
   "cell_type": "code",
   "execution_count": 2,
   "metadata": {},
   "outputs": [
    {
     "data": {
      "text/plain": [
       "[590, 97, 754, 800, 503]"
      ]
     },
     "execution_count": 2,
     "metadata": {},
     "output_type": "execute_result"
    }
   ],
   "source": [
    "import pyspark\n",
    "sc = pyspark.SparkContext('local[*]')\n",
    "rdd = sc.parallelize(range(1000))\n",
    "rdd.takeSample(False, 5)"
   ]
  },
  {
   "cell_type": "markdown",
   "metadata": {},
   "source": [
    "## labs begin"
   ]
  },
  {
   "cell_type": "code",
   "execution_count": 4,
   "metadata": {},
   "outputs": [],
   "source": [
    "sc.stop() # can't run multiple sparkcontexts at once"
   ]
  },
  {
   "cell_type": "code",
   "execution_count": 5,
   "metadata": {},
   "outputs": [
    {
     "data": {
      "text/plain": [
       "[6, 430, 707, 837, 824]"
      ]
     },
     "execution_count": 5,
     "metadata": {},
     "output_type": "execute_result"
    }
   ],
   "source": [
    "import pyspark\n",
    "sc = pyspark.SparkContext('local[*]')\n",
    "rdd = sc.parallelize(range(1000))\n",
    "rdd.takeSample(False, 5)"
   ]
  },
  {
   "cell_type": "markdown",
   "metadata": {},
   "source": [
    "let's test if this is persistent through the kitematic image just by restarting it"
   ]
  },
  {
   "cell_type": "markdown",
   "metadata": {},
   "source": [
    "oh hell yes, jupyterthemes works in here. groovy"
   ]
  },
  {
   "cell_type": "code",
   "execution_count": null,
   "metadata": {},
   "outputs": [],
   "source": []
  },
  {
   "cell_type": "code",
   "execution_count": null,
   "metadata": {},
   "outputs": [],
   "source": []
  },
  {
   "cell_type": "code",
   "execution_count": 1,
   "metadata": {},
   "outputs": [],
   "source": [
    "import pyspark\n",
    "sc = pyspark.SparkContext('local[*]') # make local spark context"
   ]
  },
  {
   "cell_type": "code",
   "execution_count": 2,
   "metadata": {},
   "outputs": [
    {
     "data": {
      "text/plain": [
       "pyspark.context.SparkContext"
      ]
     },
     "execution_count": 2,
     "metadata": {},
     "output_type": "execute_result"
    }
   ],
   "source": [
    "# Display the type of the Spark Context\n",
    "type(sc)\n",
    "\n",
    "# pyspark.context.SparkContext"
   ]
  },
  {
   "cell_type": "code",
   "execution_count": null,
   "metadata": {},
   "outputs": [],
   "source": []
  },
  {
   "cell_type": "code",
   "execution_count": 3,
   "metadata": {},
   "outputs": [
    {
     "ename": "ValueError",
     "evalue": "Cannot run multiple SparkContexts at once; existing SparkContext(app=pyspark-shell, master=local[*]) created by __init__ at <ipython-input-1-937c18504f12>:2 ",
     "output_type": "error",
     "traceback": [
      "\u001b[0;31m\u001b[0m",
      "\u001b[0;31mValueError\u001b[0mTraceback (most recent call last)",
      "\u001b[0;32m<ipython-input-3-b8a3ff68a89f>\u001b[0m in \u001b[0;36m<module>\u001b[0;34m\u001b[0m\n\u001b[1;32m      1\u001b[0m \u001b[0;31m# Create second spark context\u001b[0m\u001b[0;34m\u001b[0m\u001b[0;34m\u001b[0m\u001b[0;34m\u001b[0m\u001b[0m\n\u001b[0;32m----> 2\u001b[0;31m \u001b[0msc1\u001b[0m \u001b[0;34m=\u001b[0m \u001b[0mpyspark\u001b[0m\u001b[0;34m.\u001b[0m\u001b[0mSparkContext\u001b[0m\u001b[0;34m(\u001b[0m\u001b[0;34m'local[*]'\u001b[0m\u001b[0;34m)\u001b[0m\u001b[0;34m\u001b[0m\u001b[0;34m\u001b[0m\u001b[0m\n\u001b[0m",
      "\u001b[0;32m/usr/local/spark/python/pyspark/context.py\u001b[0m in \u001b[0;36m__init__\u001b[0;34m(self, master, appName, sparkHome, pyFiles, environment, batchSize, serializer, conf, gateway, jsc, profiler_cls)\u001b[0m\n\u001b[1;32m    131\u001b[0m                     \" note this option will be removed in Spark 3.0\")\n\u001b[1;32m    132\u001b[0m \u001b[0;34m\u001b[0m\u001b[0m\n\u001b[0;32m--> 133\u001b[0;31m         \u001b[0mSparkContext\u001b[0m\u001b[0;34m.\u001b[0m\u001b[0m_ensure_initialized\u001b[0m\u001b[0;34m(\u001b[0m\u001b[0mself\u001b[0m\u001b[0;34m,\u001b[0m \u001b[0mgateway\u001b[0m\u001b[0;34m=\u001b[0m\u001b[0mgateway\u001b[0m\u001b[0;34m,\u001b[0m \u001b[0mconf\u001b[0m\u001b[0;34m=\u001b[0m\u001b[0mconf\u001b[0m\u001b[0;34m)\u001b[0m\u001b[0;34m\u001b[0m\u001b[0;34m\u001b[0m\u001b[0m\n\u001b[0m\u001b[1;32m    134\u001b[0m         \u001b[0;32mtry\u001b[0m\u001b[0;34m:\u001b[0m\u001b[0;34m\u001b[0m\u001b[0;34m\u001b[0m\u001b[0m\n\u001b[1;32m    135\u001b[0m             self._do_init(master, appName, sparkHome, pyFiles, environment, batchSize, serializer,\n",
      "\u001b[0;32m/usr/local/spark/python/pyspark/context.py\u001b[0m in \u001b[0;36m_ensure_initialized\u001b[0;34m(cls, instance, gateway, conf)\u001b[0m\n\u001b[1;32m    330\u001b[0m                         \u001b[0;34m\" created by %s at %s:%s \"\u001b[0m\u001b[0;34m\u001b[0m\u001b[0;34m\u001b[0m\u001b[0m\n\u001b[1;32m    331\u001b[0m                         % (currentAppName, currentMaster,\n\u001b[0;32m--> 332\u001b[0;31m                             callsite.function, callsite.file, callsite.linenum))\n\u001b[0m\u001b[1;32m    333\u001b[0m                 \u001b[0;32melse\u001b[0m\u001b[0;34m:\u001b[0m\u001b[0;34m\u001b[0m\u001b[0;34m\u001b[0m\u001b[0m\n\u001b[1;32m    334\u001b[0m                     \u001b[0mSparkContext\u001b[0m\u001b[0;34m.\u001b[0m\u001b[0m_active_spark_context\u001b[0m \u001b[0;34m=\u001b[0m \u001b[0minstance\u001b[0m\u001b[0;34m\u001b[0m\u001b[0;34m\u001b[0m\u001b[0m\n",
      "\u001b[0;31mValueError\u001b[0m: Cannot run multiple SparkContexts at once; existing SparkContext(app=pyspark-shell, master=local[*]) created by __init__ at <ipython-input-1-937c18504f12>:2 "
     ]
    }
   ],
   "source": [
    "# Create second spark context\n",
    "sc1 = pyspark.SparkContext('local[*]')"
   ]
  },
  {
   "cell_type": "code",
   "execution_count": 5,
   "metadata": {
    "scrolled": true
   },
   "outputs": [
    {
     "name": "stdout",
     "output_type": "stream",
     "text": [
      "Help on SparkContext in module pyspark.context object:\n",
      "\n",
      "class SparkContext(builtins.object)\n",
      " |  SparkContext(master=None, appName=None, sparkHome=None, pyFiles=None, environment=None, batchSize=0, serializer=PickleSerializer(), conf=None, gateway=None, jsc=None, profiler_cls=<class 'pyspark.profiler.BasicProfiler'>)\n",
      " |  \n",
      " |  Main entry point for Spark functionality. A SparkContext represents the\n",
      " |  connection to a Spark cluster, and can be used to create L{RDD} and\n",
      " |  broadcast variables on that cluster.\n",
      " |  \n",
      " |  .. note:: :class:`SparkContext` instance is not supported to share across multiple\n",
      " |      processes out of the box, and PySpark does not guarantee multi-processing execution.\n",
      " |      Use threads instead for concurrent processing purpose.\n",
      " |  \n",
      " |  Methods defined here:\n",
      " |  \n",
      " |  __enter__(self)\n",
      " |      Enable 'with SparkContext(...) as sc: app(sc)' syntax.\n",
      " |  \n",
      " |  __exit__(self, type, value, trace)\n",
      " |      Enable 'with SparkContext(...) as sc: app' syntax.\n",
      " |      \n",
      " |      Specifically stop the context on exit of the with block.\n",
      " |  \n",
      " |  __getnewargs__(self)\n",
      " |  \n",
      " |  __init__(self, master=None, appName=None, sparkHome=None, pyFiles=None, environment=None, batchSize=0, serializer=PickleSerializer(), conf=None, gateway=None, jsc=None, profiler_cls=<class 'pyspark.profiler.BasicProfiler'>)\n",
      " |      Create a new SparkContext. At least the master and app name should be set,\n",
      " |      either through the named parameters here or through C{conf}.\n",
      " |      \n",
      " |      :param master: Cluster URL to connect to\n",
      " |             (e.g. mesos://host:port, spark://host:port, local[4]).\n",
      " |      :param appName: A name for your job, to display on the cluster web UI.\n",
      " |      :param sparkHome: Location where Spark is installed on cluster nodes.\n",
      " |      :param pyFiles: Collection of .zip or .py files to send to the cluster\n",
      " |             and add to PYTHONPATH.  These can be paths on the local file\n",
      " |             system or HDFS, HTTP, HTTPS, or FTP URLs.\n",
      " |      :param environment: A dictionary of environment variables to set on\n",
      " |             worker nodes.\n",
      " |      :param batchSize: The number of Python objects represented as a single\n",
      " |             Java object. Set 1 to disable batching, 0 to automatically choose\n",
      " |             the batch size based on object sizes, or -1 to use an unlimited\n",
      " |             batch size\n",
      " |      :param serializer: The serializer for RDDs.\n",
      " |      :param conf: A L{SparkConf} object setting Spark properties.\n",
      " |      :param gateway: Use an existing gateway and JVM, otherwise a new JVM\n",
      " |             will be instantiated.\n",
      " |      :param jsc: The JavaSparkContext instance (optional).\n",
      " |      :param profiler_cls: A class of custom Profiler used to do profiling\n",
      " |             (default is pyspark.profiler.BasicProfiler).\n",
      " |      \n",
      " |      \n",
      " |      >>> from pyspark.context import SparkContext\n",
      " |      >>> sc = SparkContext('local', 'test')\n",
      " |      \n",
      " |      >>> sc2 = SparkContext('local', 'test2') # doctest: +IGNORE_EXCEPTION_DETAIL\n",
      " |      Traceback (most recent call last):\n",
      " |          ...\n",
      " |      ValueError:...\n",
      " |  \n",
      " |  __repr__(self)\n",
      " |      Return repr(self).\n",
      " |  \n",
      " |  accumulator(self, value, accum_param=None)\n",
      " |      Create an L{Accumulator} with the given initial value, using a given\n",
      " |      L{AccumulatorParam} helper object to define how to add values of the\n",
      " |      data type if provided. Default AccumulatorParams are used for integers\n",
      " |      and floating-point numbers if you do not provide one. For other types,\n",
      " |      a custom AccumulatorParam can be used.\n",
      " |  \n",
      " |  addFile(self, path, recursive=False)\n",
      " |      Add a file to be downloaded with this Spark job on every node.\n",
      " |      The C{path} passed can be either a local file, a file in HDFS\n",
      " |      (or other Hadoop-supported filesystems), or an HTTP, HTTPS or\n",
      " |      FTP URI.\n",
      " |      \n",
      " |      To access the file in Spark jobs, use\n",
      " |      L{SparkFiles.get(fileName)<pyspark.files.SparkFiles.get>} with the\n",
      " |      filename to find its download location.\n",
      " |      \n",
      " |      A directory can be given if the recursive option is set to True.\n",
      " |      Currently directories are only supported for Hadoop-supported filesystems.\n",
      " |      \n",
      " |      .. note:: A path can be added only once. Subsequent additions of the same path are ignored.\n",
      " |      \n",
      " |      >>> from pyspark import SparkFiles\n",
      " |      >>> path = os.path.join(tempdir, \"test.txt\")\n",
      " |      >>> with open(path, \"w\") as testFile:\n",
      " |      ...    _ = testFile.write(\"100\")\n",
      " |      >>> sc.addFile(path)\n",
      " |      >>> def func(iterator):\n",
      " |      ...    with open(SparkFiles.get(\"test.txt\")) as testFile:\n",
      " |      ...        fileVal = int(testFile.readline())\n",
      " |      ...        return [x * fileVal for x in iterator]\n",
      " |      >>> sc.parallelize([1, 2, 3, 4]).mapPartitions(func).collect()\n",
      " |      [100, 200, 300, 400]\n",
      " |  \n",
      " |  addPyFile(self, path)\n",
      " |      Add a .py or .zip dependency for all tasks to be executed on this\n",
      " |      SparkContext in the future.  The C{path} passed can be either a local\n",
      " |      file, a file in HDFS (or other Hadoop-supported filesystems), or an\n",
      " |      HTTP, HTTPS or FTP URI.\n",
      " |      \n",
      " |      .. note:: A path can be added only once. Subsequent additions of the same path are ignored.\n",
      " |  \n",
      " |  binaryFiles(self, path, minPartitions=None)\n",
      " |      .. note:: Experimental\n",
      " |      \n",
      " |      Read a directory of binary files from HDFS, a local file system\n",
      " |      (available on all nodes), or any Hadoop-supported file system URI\n",
      " |      as a byte array. Each file is read as a single record and returned\n",
      " |      in a key-value pair, where the key is the path of each file, the\n",
      " |      value is the content of each file.\n",
      " |      \n",
      " |      .. note:: Small files are preferred, large file is also allowable, but\n",
      " |          may cause bad performance.\n",
      " |  \n",
      " |  binaryRecords(self, path, recordLength)\n",
      " |      .. note:: Experimental\n",
      " |      \n",
      " |      Load data from a flat binary file, assuming each record is a set of numbers\n",
      " |      with the specified numerical format (see ByteBuffer), and the number of\n",
      " |      bytes per record is constant.\n",
      " |      \n",
      " |      :param path: Directory to the input data files\n",
      " |      :param recordLength: The length at which to split the records\n",
      " |  \n",
      " |  broadcast(self, value)\n",
      " |      Broadcast a read-only variable to the cluster, returning a\n",
      " |      L{Broadcast<pyspark.broadcast.Broadcast>}\n",
      " |      object for reading it in distributed functions. The variable will\n",
      " |      be sent to each cluster only once.\n",
      " |  \n",
      " |  cancelAllJobs(self)\n",
      " |      Cancel all jobs that have been scheduled or are running.\n",
      " |  \n",
      " |  cancelJobGroup(self, groupId)\n",
      " |      Cancel active jobs for the specified group. See L{SparkContext.setJobGroup}\n",
      " |      for more information.\n",
      " |  \n",
      " |  dump_profiles(self, path)\n",
      " |      Dump the profile stats into directory `path`\n",
      " |  \n",
      " |  emptyRDD(self)\n",
      " |      Create an RDD that has no partitions or elements.\n",
      " |  \n",
      " |  getConf(self)\n",
      " |  \n",
      " |  getLocalProperty(self, key)\n",
      " |      Get a local property set in this thread, or null if it is missing. See\n",
      " |      L{setLocalProperty}\n",
      " |  \n",
      " |  hadoopFile(self, path, inputFormatClass, keyClass, valueClass, keyConverter=None, valueConverter=None, conf=None, batchSize=0)\n",
      " |      Read an 'old' Hadoop InputFormat with arbitrary key and value class from HDFS,\n",
      " |      a local file system (available on all nodes), or any Hadoop-supported file system URI.\n",
      " |      The mechanism is the same as for sc.sequenceFile.\n",
      " |      \n",
      " |      A Hadoop configuration can be passed in as a Python dict. This will be converted into a\n",
      " |      Configuration in Java.\n",
      " |      \n",
      " |      :param path: path to Hadoop file\n",
      " |      :param inputFormatClass: fully qualified classname of Hadoop InputFormat\n",
      " |             (e.g. \"org.apache.hadoop.mapred.TextInputFormat\")\n",
      " |      :param keyClass: fully qualified classname of key Writable class\n",
      " |             (e.g. \"org.apache.hadoop.io.Text\")\n",
      " |      :param valueClass: fully qualified classname of value Writable class\n",
      " |             (e.g. \"org.apache.hadoop.io.LongWritable\")\n",
      " |      :param keyConverter: (None by default)\n",
      " |      :param valueConverter: (None by default)\n",
      " |      :param conf: Hadoop configuration, passed in as a dict\n",
      " |             (None by default)\n",
      " |      :param batchSize: The number of Python objects represented as a single\n",
      " |             Java object. (default 0, choose batchSize automatically)\n",
      " |  \n",
      " |  hadoopRDD(self, inputFormatClass, keyClass, valueClass, keyConverter=None, valueConverter=None, conf=None, batchSize=0)\n",
      " |      Read an 'old' Hadoop InputFormat with arbitrary key and value class, from an arbitrary\n",
      " |      Hadoop configuration, which is passed in as a Python dict.\n",
      " |      This will be converted into a Configuration in Java.\n",
      " |      The mechanism is the same as for sc.sequenceFile.\n",
      " |      \n",
      " |      :param inputFormatClass: fully qualified classname of Hadoop InputFormat\n",
      " |             (e.g. \"org.apache.hadoop.mapred.TextInputFormat\")\n",
      " |      :param keyClass: fully qualified classname of key Writable class\n",
      " |             (e.g. \"org.apache.hadoop.io.Text\")\n",
      " |      :param valueClass: fully qualified classname of value Writable class\n",
      " |             (e.g. \"org.apache.hadoop.io.LongWritable\")\n",
      " |      :param keyConverter: (None by default)\n",
      " |      :param valueConverter: (None by default)\n",
      " |      :param conf: Hadoop configuration, passed in as a dict\n",
      " |             (None by default)\n",
      " |      :param batchSize: The number of Python objects represented as a single\n",
      " |             Java object. (default 0, choose batchSize automatically)\n",
      " |  \n",
      " |  newAPIHadoopFile(self, path, inputFormatClass, keyClass, valueClass, keyConverter=None, valueConverter=None, conf=None, batchSize=0)\n",
      " |      Read a 'new API' Hadoop InputFormat with arbitrary key and value class from HDFS,\n",
      " |      a local file system (available on all nodes), or any Hadoop-supported file system URI.\n",
      " |      The mechanism is the same as for sc.sequenceFile.\n",
      " |      \n",
      " |      A Hadoop configuration can be passed in as a Python dict. This will be converted into a\n",
      " |      Configuration in Java\n",
      " |      \n",
      " |      :param path: path to Hadoop file\n",
      " |      :param inputFormatClass: fully qualified classname of Hadoop InputFormat\n",
      " |             (e.g. \"org.apache.hadoop.mapreduce.lib.input.TextInputFormat\")\n",
      " |      :param keyClass: fully qualified classname of key Writable class\n",
      " |             (e.g. \"org.apache.hadoop.io.Text\")\n",
      " |      :param valueClass: fully qualified classname of value Writable class\n",
      " |             (e.g. \"org.apache.hadoop.io.LongWritable\")\n",
      " |      :param keyConverter: (None by default)\n",
      " |      :param valueConverter: (None by default)\n",
      " |      :param conf: Hadoop configuration, passed in as a dict\n",
      " |             (None by default)\n",
      " |      :param batchSize: The number of Python objects represented as a single\n",
      " |             Java object. (default 0, choose batchSize automatically)\n",
      " |  \n",
      " |  newAPIHadoopRDD(self, inputFormatClass, keyClass, valueClass, keyConverter=None, valueConverter=None, conf=None, batchSize=0)\n",
      " |      Read a 'new API' Hadoop InputFormat with arbitrary key and value class, from an arbitrary\n",
      " |      Hadoop configuration, which is passed in as a Python dict.\n",
      " |      This will be converted into a Configuration in Java.\n",
      " |      The mechanism is the same as for sc.sequenceFile.\n",
      " |      \n",
      " |      :param inputFormatClass: fully qualified classname of Hadoop InputFormat\n",
      " |             (e.g. \"org.apache.hadoop.mapreduce.lib.input.TextInputFormat\")\n",
      " |      :param keyClass: fully qualified classname of key Writable class\n",
      " |             (e.g. \"org.apache.hadoop.io.Text\")\n",
      " |      :param valueClass: fully qualified classname of value Writable class\n",
      " |             (e.g. \"org.apache.hadoop.io.LongWritable\")\n",
      " |      :param keyConverter: (None by default)\n",
      " |      :param valueConverter: (None by default)\n",
      " |      :param conf: Hadoop configuration, passed in as a dict\n",
      " |             (None by default)\n",
      " |      :param batchSize: The number of Python objects represented as a single\n",
      " |             Java object. (default 0, choose batchSize automatically)\n",
      " |  \n",
      " |  parallelize(self, c, numSlices=None)\n",
      " |      Distribute a local Python collection to form an RDD. Using xrange\n",
      " |      is recommended if the input represents a range for performance.\n",
      " |      \n",
      " |      >>> sc.parallelize([0, 2, 3, 4, 6], 5).glom().collect()\n",
      " |      [[0], [2], [3], [4], [6]]\n",
      " |      >>> sc.parallelize(xrange(0, 6, 2), 5).glom().collect()\n",
      " |      [[], [0], [], [2], [4]]\n",
      " |  \n",
      " |  pickleFile(self, name, minPartitions=None)\n",
      " |      Load an RDD previously saved using L{RDD.saveAsPickleFile} method.\n",
      " |      \n",
      " |      >>> tmpFile = NamedTemporaryFile(delete=True)\n",
      " |      >>> tmpFile.close()\n",
      " |      >>> sc.parallelize(range(10)).saveAsPickleFile(tmpFile.name, 5)\n",
      " |      >>> sorted(sc.pickleFile(tmpFile.name, 3).collect())\n",
      " |      [0, 1, 2, 3, 4, 5, 6, 7, 8, 9]\n",
      " |  \n",
      " |  range(self, start, end=None, step=1, numSlices=None)\n",
      " |      Create a new RDD of int containing elements from `start` to `end`\n",
      " |      (exclusive), increased by `step` every element. Can be called the same\n",
      " |      way as python's built-in range() function. If called with a single argument,\n",
      " |      the argument is interpreted as `end`, and `start` is set to 0.\n",
      " |      \n",
      " |      :param start: the start value\n",
      " |      :param end: the end value (exclusive)\n",
      " |      :param step: the incremental step (default: 1)\n",
      " |      :param numSlices: the number of partitions of the new RDD\n",
      " |      :return: An RDD of int\n",
      " |      \n",
      " |      >>> sc.range(5).collect()\n",
      " |      [0, 1, 2, 3, 4]\n",
      " |      >>> sc.range(2, 4).collect()\n",
      " |      [2, 3]\n",
      " |      >>> sc.range(1, 7, 2).collect()\n",
      " |      [1, 3, 5]\n",
      " |  \n",
      " |  runJob(self, rdd, partitionFunc, partitions=None, allowLocal=False)\n",
      " |      Executes the given partitionFunc on the specified set of partitions,\n",
      " |      returning the result as an array of elements.\n",
      " |      \n",
      " |      If 'partitions' is not specified, this will run over all partitions.\n",
      " |      \n",
      " |      >>> myRDD = sc.parallelize(range(6), 3)\n",
      " |      >>> sc.runJob(myRDD, lambda part: [x * x for x in part])\n",
      " |      [0, 1, 4, 9, 16, 25]\n",
      " |      \n",
      " |      >>> myRDD = sc.parallelize(range(6), 3)\n",
      " |      >>> sc.runJob(myRDD, lambda part: [x * x for x in part], [0, 2], True)\n",
      " |      [0, 1, 16, 25]\n",
      " |  \n",
      " |  sequenceFile(self, path, keyClass=None, valueClass=None, keyConverter=None, valueConverter=None, minSplits=None, batchSize=0)\n",
      " |      Read a Hadoop SequenceFile with arbitrary key and value Writable class from HDFS,\n",
      " |      a local file system (available on all nodes), or any Hadoop-supported file system URI.\n",
      " |      The mechanism is as follows:\n",
      " |      \n",
      " |          1. A Java RDD is created from the SequenceFile or other InputFormat, and the key\n",
      " |             and value Writable classes\n",
      " |          2. Serialization is attempted via Pyrolite pickling\n",
      " |          3. If this fails, the fallback is to call 'toString' on each key and value\n",
      " |          4. C{PickleSerializer} is used to deserialize pickled objects on the Python side\n",
      " |      \n",
      " |      :param path: path to sequncefile\n",
      " |      :param keyClass: fully qualified classname of key Writable class\n",
      " |             (e.g. \"org.apache.hadoop.io.Text\")\n",
      " |      :param valueClass: fully qualified classname of value Writable class\n",
      " |             (e.g. \"org.apache.hadoop.io.LongWritable\")\n",
      " |      :param keyConverter:\n",
      " |      :param valueConverter:\n",
      " |      :param minSplits: minimum splits in dataset\n",
      " |             (default min(2, sc.defaultParallelism))\n",
      " |      :param batchSize: The number of Python objects represented as a single\n",
      " |             Java object. (default 0, choose batchSize automatically)\n",
      " |  \n",
      " |  setCheckpointDir(self, dirName)\n",
      " |      Set the directory under which RDDs are going to be checkpointed. The\n",
      " |      directory must be an HDFS path if running on a cluster.\n",
      " |  \n",
      " |  setJobDescription(self, value)\n",
      " |      Set a human readable description of the current job.\n",
      " |  \n",
      " |  setJobGroup(self, groupId, description, interruptOnCancel=False)\n",
      " |      Assigns a group ID to all the jobs started by this thread until the group ID is set to a\n",
      " |      different value or cleared.\n",
      " |      \n",
      " |      Often, a unit of execution in an application consists of multiple Spark actions or jobs.\n",
      " |      Application programmers can use this method to group all those jobs together and give a\n",
      " |      group description. Once set, the Spark web UI will associate such jobs with this group.\n",
      " |      \n",
      " |      The application can use L{SparkContext.cancelJobGroup} to cancel all\n",
      " |      running jobs in this group.\n",
      " |      \n",
      " |      >>> import threading\n",
      " |      >>> from time import sleep\n",
      " |      >>> result = \"Not Set\"\n",
      " |      >>> lock = threading.Lock()\n",
      " |      >>> def map_func(x):\n",
      " |      ...     sleep(100)\n",
      " |      ...     raise Exception(\"Task should have been cancelled\")\n",
      " |      >>> def start_job(x):\n",
      " |      ...     global result\n",
      " |      ...     try:\n",
      " |      ...         sc.setJobGroup(\"job_to_cancel\", \"some description\")\n",
      " |      ...         result = sc.parallelize(range(x)).map(map_func).collect()\n",
      " |      ...     except Exception as e:\n",
      " |      ...         result = \"Cancelled\"\n",
      " |      ...     lock.release()\n",
      " |      >>> def stop_job():\n",
      " |      ...     sleep(5)\n",
      " |      ...     sc.cancelJobGroup(\"job_to_cancel\")\n",
      " |      >>> suppress = lock.acquire()\n",
      " |      >>> suppress = threading.Thread(target=start_job, args=(10,)).start()\n",
      " |      >>> suppress = threading.Thread(target=stop_job).start()\n",
      " |      >>> suppress = lock.acquire()\n",
      " |      >>> print(result)\n",
      " |      Cancelled\n",
      " |      \n",
      " |      If interruptOnCancel is set to true for the job group, then job cancellation will result\n",
      " |      in Thread.interrupt() being called on the job's executor threads. This is useful to help\n",
      " |      ensure that the tasks are actually stopped in a timely manner, but is off by default due\n",
      " |      to HDFS-1208, where HDFS may respond to Thread.interrupt() by marking nodes as dead.\n",
      " |  \n",
      " |  setLocalProperty(self, key, value)\n",
      " |      Set a local property that affects jobs submitted from this thread, such as the\n",
      " |      Spark fair scheduler pool.\n",
      " |  \n",
      " |  setLogLevel(self, logLevel)\n",
      " |      Control our logLevel. This overrides any user-defined log settings.\n",
      " |      Valid log levels include: ALL, DEBUG, ERROR, FATAL, INFO, OFF, TRACE, WARN\n",
      " |  \n",
      " |  show_profiles(self)\n",
      " |      Print the profile stats to stdout\n",
      " |  \n",
      " |  sparkUser(self)\n",
      " |      Get SPARK_USER for user who is running SparkContext.\n",
      " |  \n",
      " |  statusTracker(self)\n",
      " |      Return :class:`StatusTracker` object\n",
      " |  \n",
      " |  stop(self)\n",
      " |      Shut down the SparkContext.\n",
      " |  \n",
      " |  textFile(self, name, minPartitions=None, use_unicode=True)\n",
      " |      Read a text file from HDFS, a local file system (available on all\n",
      " |      nodes), or any Hadoop-supported file system URI, and return it as an\n",
      " |      RDD of Strings.\n",
      " |      \n",
      " |      If use_unicode is False, the strings will be kept as `str` (encoding\n",
      " |      as `utf-8`), which is faster and smaller than unicode. (Added in\n",
      " |      Spark 1.2)\n",
      " |      \n",
      " |      >>> path = os.path.join(tempdir, \"sample-text.txt\")\n",
      " |      >>> with open(path, \"w\") as testFile:\n",
      " |      ...    _ = testFile.write(\"Hello world!\")\n",
      " |      >>> textFile = sc.textFile(path)\n",
      " |      >>> textFile.collect()\n",
      " |      ['Hello world!']\n",
      " |  \n",
      " |  union(self, rdds)\n",
      " |      Build the union of a list of RDDs.\n",
      " |      \n",
      " |      This supports unions() of RDDs with different serialized formats,\n",
      " |      although this forces them to be reserialized using the default\n",
      " |      serializer:\n",
      " |      \n",
      " |      >>> path = os.path.join(tempdir, \"union-text.txt\")\n",
      " |      >>> with open(path, \"w\") as testFile:\n",
      " |      ...    _ = testFile.write(\"Hello\")\n",
      " |      >>> textFile = sc.textFile(path)\n",
      " |      >>> textFile.collect()\n",
      " |      ['Hello']\n",
      " |      >>> parallelized = sc.parallelize([\"World!\"])\n",
      " |      >>> sorted(sc.union([textFile, parallelized]).collect())\n",
      " |      ['Hello', 'World!']\n",
      " |  \n",
      " |  wholeTextFiles(self, path, minPartitions=None, use_unicode=True)\n",
      " |      Read a directory of text files from HDFS, a local file system\n",
      " |      (available on all nodes), or any  Hadoop-supported file system\n",
      " |      URI. Each file is read as a single record and returned in a\n",
      " |      key-value pair, where the key is the path of each file, the\n",
      " |      value is the content of each file.\n",
      " |      \n",
      " |      If use_unicode is False, the strings will be kept as `str` (encoding\n",
      " |      as `utf-8`), which is faster and smaller than unicode. (Added in\n",
      " |      Spark 1.2)\n",
      " |      \n",
      " |      For example, if you have the following files::\n",
      " |      \n",
      " |        hdfs://a-hdfs-path/part-00000\n",
      " |        hdfs://a-hdfs-path/part-00001\n",
      " |        ...\n",
      " |        hdfs://a-hdfs-path/part-nnnnn\n",
      " |      \n",
      " |      Do C{rdd = sparkContext.wholeTextFiles(\"hdfs://a-hdfs-path\")},\n",
      " |      then C{rdd} contains::\n",
      " |      \n",
      " |        (a-hdfs-path/part-00000, its content)\n",
      " |        (a-hdfs-path/part-00001, its content)\n",
      " |        ...\n",
      " |        (a-hdfs-path/part-nnnnn, its content)\n",
      " |      \n",
      " |      .. note:: Small files are preferred, as each file will be loaded\n",
      " |          fully in memory.\n",
      " |      \n",
      " |      >>> dirPath = os.path.join(tempdir, \"files\")\n",
      " |      >>> os.mkdir(dirPath)\n",
      " |      >>> with open(os.path.join(dirPath, \"1.txt\"), \"w\") as file1:\n",
      " |      ...    _ = file1.write(\"1\")\n",
      " |      >>> with open(os.path.join(dirPath, \"2.txt\"), \"w\") as file2:\n",
      " |      ...    _ = file2.write(\"2\")\n",
      " |      >>> textFiles = sc.wholeTextFiles(dirPath)\n",
      " |      >>> sorted(textFiles.collect())\n",
      " |      [('.../1.txt', '1'), ('.../2.txt', '2')]\n",
      " |  \n",
      " |  ----------------------------------------------------------------------\n",
      " |  Class methods defined here:\n",
      " |  \n",
      " |  getOrCreate(conf=None) from builtins.type\n",
      " |      Get or instantiate a SparkContext and register it as a singleton object.\n",
      " |      \n",
      " |      :param conf: SparkConf (optional)\n",
      " |  \n",
      " |  setSystemProperty(key, value) from builtins.type\n",
      " |      Set a Java system property, such as spark.executor.memory. This must\n",
      " |      must be invoked before instantiating SparkContext.\n",
      " |  \n",
      " |  ----------------------------------------------------------------------\n",
      " |  Data descriptors defined here:\n",
      " |  \n",
      " |  __dict__\n",
      " |      dictionary for instance variables (if defined)\n",
      " |  \n",
      " |  __weakref__\n",
      " |      list of weak references to the object (if defined)\n",
      " |  \n",
      " |  applicationId\n",
      " |      A unique identifier for the Spark application.\n",
      " |      Its format depends on the scheduler implementation.\n",
      " |      \n",
      " |      * in case of local spark app something like 'local-1433865536131'\n",
      " |      * in case of YARN something like 'application_1433865536131_34483'\n",
      " |      \n",
      " |      >>> sc.applicationId  # doctest: +ELLIPSIS\n",
      " |      'local-...'\n",
      " |  \n",
      " |  defaultMinPartitions\n",
      " |      Default min number of partitions for Hadoop RDDs when not given by user\n",
      " |  \n",
      " |  defaultParallelism\n",
      " |      Default level of parallelism to use when not given by user (e.g. for\n",
      " |      reduce tasks)\n",
      " |  \n",
      " |  startTime\n",
      " |      Return the epoch time when the Spark Context was started.\n",
      " |  \n",
      " |  uiWebUrl\n",
      " |      Return the URL of the SparkUI instance started by this SparkContext\n",
      " |  \n",
      " |  version\n",
      " |      The version of Spark on which this application is running.\n",
      " |  \n",
      " |  ----------------------------------------------------------------------\n",
      " |  Data and other attributes defined here:\n",
      " |  \n",
      " |  PACKAGE_EXTENSIONS = ('.zip', '.egg', '.jar')\n",
      "\n"
     ]
    }
   ],
   "source": [
    "help(sc)"
   ]
  },
  {
   "cell_type": "code",
   "execution_count": 14,
   "metadata": {},
   "outputs": [
    {
     "data": {
      "text/plain": [
       "[('spark.rdd.compress', 'True'),\n",
       " ('spark.serializer.objectStreamReset', '100'),\n",
       " ('spark.master', 'local[*]'),\n",
       " ('spark.driver.port', '42597'),\n",
       " ('spark.executor.id', 'driver'),\n",
       " ('spark.submit.deployMode', 'client'),\n",
       " ('spark.driver.host', '63052eec6ac1'),\n",
       " ('spark.app.id', 'local-1590785884313'),\n",
       " ('spark.ui.showConsoleProgress', 'true'),\n",
       " ('spark.app.name', 'pyspark-shell')]"
      ]
     },
     "execution_count": 14,
     "metadata": {},
     "output_type": "execute_result"
    }
   ],
   "source": [
    "sc._conf.getAll()\n"
   ]
  },
  {
   "cell_type": "code",
   "execution_count": 15,
   "metadata": {},
   "outputs": [],
   "source": [
    "sc.stop()"
   ]
  },
  {
   "cell_type": "markdown",
   "metadata": {},
   "source": [
    "## about RDDs:\n",
    "- they're like distributed dataframes, fail-safe and in-memory efficient, lazy eval\n",
    "- but they're immutable, so each transformation creates a copy\n",
    "- transformations create a new dataset from the existing by:\n",
    "    - passes each element through function, returns new RDD\n",
    "        - \"transformation\" = clone + apply. sorta like ghost module\n",
    "    - \"lazy\" means they don't compute results right away\n",
    "        - they only remember the trans applied to base dataset/file\n",
    "        - they only compute the trans when an action requires a result to deliver to driver\n",
    "        - transformation = RDD that returns another RDD, map, filter, reduce, join etc\n",
    "            - so if you transform RDD-A by squaring every element, it doesn't store the computed square\n",
    "                - it only stores \"each element\" and marks \"square this\" without actually computing\n",
    "                    - if you ask for RDD-A^2, _then_ it computes to give it to you\n",
    "                    - cool, very efficient\n",
    "### actions\n",
    "- actions return final results of RDD computations\n",
    "    - trigger execution using lineage graph\n",
    "    - load data into RDD, do all intermediate trans, \n",
    "        - return final results to driver program / write to filesystem\n",
    "- actions return a value (to spark driver, user program)\n",
    "    - example actions:\n",
    "- Transforms:\n",
    "    - map\n",
    "    - filter\n",
    "- Actions:\n",
    "    - reduce\n",
    "    - collect\n",
    "\n",
    "So a transform is like writing out your plan to build a sandcastle, but you've still just got some sand and a blueprint.\n",
    "\n",
    "\n",
    "An action is actually building the sandcastle and taking a photo of it."
   ]
  },
  {
   "cell_type": "code",
   "execution_count": 16,
   "metadata": {},
   "outputs": [],
   "source": [
    "sc = pyspark.SparkContext('local[*]') # initialize local context"
   ]
  },
  {
   "cell_type": "code",
   "execution_count": 17,
   "metadata": {},
   "outputs": [
    {
     "data": {
      "text/plain": [
       "1000"
      ]
     },
     "execution_count": 17,
     "metadata": {},
     "output_type": "execute_result"
    }
   ],
   "source": [
    "data = list(range(1000)) # make some data\n",
    "len(data)"
   ]
  },
  {
   "cell_type": "markdown",
   "metadata": {},
   "source": [
    "- RDDs are lists of entries\n",
    "    - lists are split into different partitions across different cores or computers\n",
    "    - each list held in memory is a \"partition\" of the RDD\n",
    "        - in-memory processing is much faster than writing to disk (thanks dr. gottlieb)\n",
    "        - so spark is super quick because of this\n",
    "        "
   ]
  },
  {
   "cell_type": "code",
   "execution_count": 19,
   "metadata": {},
   "outputs": [],
   "source": [
    "rdd = sc.parallelize(data) # spark-ify your regular data. local cores, though, so not much is changing"
   ]
  },
  {
   "cell_type": "code",
   "execution_count": 21,
   "metadata": {},
   "outputs": [
    {
     "data": {
      "text/plain": [
       "8"
      ]
     },
     "execution_count": 21,
     "metadata": {},
     "output_type": "execute_result"
    }
   ],
   "source": [
    "rdd.getNumPartitions() # 8, since i'm on an 8-core laptop"
   ]
  },
  {
   "cell_type": "code",
   "execution_count": 26,
   "metadata": {},
   "outputs": [
    {
     "data": {
      "text/plain": [
       "1000"
      ]
     },
     "execution_count": 26,
     "metadata": {},
     "output_type": "execute_result"
    }
   ],
   "source": [
    "rdd.count()"
   ]
  },
  {
   "cell_type": "code",
   "execution_count": 24,
   "metadata": {},
   "outputs": [
    {
     "data": {
      "text/plain": [
       "[0, 1, 2, 3, 4, 5, 6, 7, 8, 9]"
      ]
     },
     "execution_count": 24,
     "metadata": {},
     "output_type": "execute_result"
    }
   ],
   "source": [
    "rdd.take(10)"
   ]
  },
  {
   "cell_type": "code",
   "execution_count": 27,
   "metadata": {
    "scrolled": true
   },
   "outputs": [],
   "source": [
    "# rdd.collect()"
   ]
  },
  {
   "cell_type": "markdown",
   "metadata": {},
   "source": [
    "rdd.count takes about half a second, longer than pandas would take to count a len(1000) dataframe. so i guess pyspark has a 'distributed-processing lag' that becomes insignificant when dealing with large datasets"
   ]
  },
  {
   "cell_type": "code",
   "execution_count": 28,
   "metadata": {},
   "outputs": [
    {
     "data": {
      "text/plain": [
       "array([4.47338956e-01, 1.00032047e+00, 5.68344241e-02, 3.40794926e+00,\n",
       "       3.00107479e+00, 1.37064101e+00, 9.31065691e-01, 7.40494182e+00,\n",
       "       7.23857776e-01, 2.75694836e+00, 6.87231515e+00, 3.43468454e+00,\n",
       "       4.69036635e+00, 1.02022840e+01, 9.73709813e+00, 1.08227963e+01,\n",
       "       1.31398613e+01, 4.16709889e+00, 3.20354980e+00, 1.11106286e+01,\n",
       "       1.61648325e+00, 1.77816768e+01, 1.32986169e+01, 1.36422722e+01,\n",
       "       2.09701160e+01, 6.02257266e+00, 7.17206800e+00, 2.79184842e+01,\n",
       "       2.05375082e+01, 2.92135115e+01, 1.52573393e+01, 1.60998084e+01,\n",
       "       3.25553996e+01, 4.33743699e+00, 1.84051086e+01, 3.33666786e+01,\n",
       "       1.92857206e+01, 2.25626800e+00, 3.12626680e+01, 2.24326069e+01,\n",
       "       9.06456020e+00, 4.09564631e+01, 1.28714647e+00, 2.82907553e+01,\n",
       "       3.00967835e+01, 1.86222990e+01, 2.54613197e+01, 6.58361893e+00,\n",
       "       2.82855099e+01, 2.34230811e+00, 3.82956019e+01, 4.42510905e+00,\n",
       "       2.03253643e-01, 4.98569885e+01, 7.17443152e+00, 3.60702106e+01,\n",
       "       1.91570114e+01, 1.61773041e+01, 3.26494821e+01, 1.90821681e+01,\n",
       "       5.54824355e+00, 4.98401165e+01, 1.85856949e+01, 4.03221246e+01,\n",
       "       1.10622813e+01, 2.52530280e+01, 4.59994550e+01, 3.38648492e+01,\n",
       "       6.15749038e+01, 4.00784916e+01, 2.13078231e+01, 1.43306487e+00,\n",
       "       1.12629415e+01, 2.53340764e+01, 5.17551097e+01, 7.08708625e+01,\n",
       "       6.85085650e+01, 2.44438530e+01, 7.39756470e+00, 3.18204391e+01,\n",
       "       3.13418128e+01, 2.14334914e+01, 7.08398454e+01, 8.09430369e+01,\n",
       "       7.80964912e+01, 9.40194338e+00, 5.11874072e+00, 1.13320604e+01,\n",
       "       1.07410333e+01, 3.25040676e+01, 5.00451258e+01, 8.33752327e+00,\n",
       "       7.54477170e+01, 4.20991568e+01, 2.84355026e+01, 4.75987209e+01,\n",
       "       3.18723627e+01, 6.14641866e+01, 4.90352055e+01, 2.65251507e+01,\n",
       "       2.09537547e+00, 3.45561486e+01, 4.65962309e+01, 9.55653288e+01,\n",
       "       1.03027123e+02, 7.41396853e+01, 5.37920215e+01, 8.69833914e+01,\n",
       "       8.02198146e+01, 9.29906382e+01, 2.62005237e+01, 2.24632514e+01,\n",
       "       1.08228509e+02, 8.83978239e+01, 4.19212410e+01, 6.40939317e+01,\n",
       "       1.09444141e+02, 8.12782399e+01, 9.38350481e+01, 1.19492470e+02,\n",
       "       5.76856278e+01, 6.53173834e+01, 6.99908688e+01, 1.17706607e+02,\n",
       "       4.28561079e+01, 5.01621684e+01, 5.27831378e+01, 1.27055721e+00,\n",
       "       4.99106597e+00, 5.27910900e+01, 1.77036976e+01, 8.90294447e+01,\n",
       "       3.80028546e+01, 8.07006611e+01, 9.01845058e+00, 9.88432561e+00,\n",
       "       9.00956250e+01, 1.21216901e+02, 8.51836749e+01, 8.57433666e+01,\n",
       "       5.68653839e+01, 8.46169269e+01, 1.31710488e+02, 8.09818306e+01,\n",
       "       4.87169914e+01, 8.47983806e+01, 8.84006226e+01, 2.63560509e+01,\n",
       "       9.99203702e+01, 1.01266586e+02, 8.27867878e+01, 2.48130670e+01,\n",
       "       9.06936538e+00, 1.00350965e+01, 3.89276060e+01, 1.35056478e+02,\n",
       "       6.48193795e+01, 1.45817233e+02, 5.01244029e+00, 1.24651441e+02,\n",
       "       1.21942674e+02, 9.31303506e+01, 5.56836025e+01, 3.92713837e+01,\n",
       "       8.94369965e+01, 9.40156743e+01, 1.49937148e+02, 4.76480039e+01,\n",
       "       7.86630939e+00, 1.60516398e+02, 4.89668736e+01, 1.21129187e+02,\n",
       "       1.54218907e+02, 1.72337006e+02, 2.73549108e+01, 1.23571563e+02,\n",
       "       1.15167649e+02, 3.59049320e+01, 1.18277807e+02, 9.60297220e+01,\n",
       "       1.48796495e+02, 1.28533354e+02, 1.81717642e+02, 1.40215244e+02,\n",
       "       1.49914774e+02, 4.66505136e+01, 1.79442737e+01, 1.12873489e+02,\n",
       "       7.55166971e-01, 1.66970403e+02, 1.85967369e+02, 9.41880936e+01,\n",
       "       6.03037095e+01, 5.05253185e+00, 7.70447635e+01, 7.29336386e+01,\n",
       "       8.54070363e+01, 1.14814753e+02, 3.38677306e+01, 1.59278114e+02,\n",
       "       5.61371737e+01, 1.43951604e+02, 1.89212161e+02, 1.07671079e+02,\n",
       "       2.45445207e+01, 7.05249404e+01, 1.78266311e+02, 7.73839004e+01,\n",
       "       1.43136285e+02, 1.76550328e+02, 4.26715455e+01, 6.23491045e+01,\n",
       "       1.68948765e+02, 9.74695188e+01, 2.01741201e+02, 1.24744222e+02,\n",
       "       1.68922408e+02, 1.17158318e+02, 4.61002382e+00, 4.46001121e+01,\n",
       "       1.08588633e+02, 2.16161592e+02, 1.77649509e+02, 5.23296744e+01,\n",
       "       4.34334087e+01, 1.26854301e+02, 1.79095913e+02, 1.40316545e+01,\n",
       "       8.02656482e+01, 1.67239106e+02, 4.88539096e+01, 1.50107141e+02,\n",
       "       1.49112617e+02, 1.95571651e+02, 1.68925700e+02, 1.38259653e+02,\n",
       "       2.23307683e+02, 1.43723724e+02, 1.91351800e+02, 1.28629036e+02,\n",
       "       1.61435108e+02, 1.86765572e+02, 1.49188887e+02, 1.37722185e+02,\n",
       "       1.69549062e+02, 5.82081115e+01, 8.93513188e+01, 1.53110205e+02,\n",
       "       1.99178100e+02, 1.71421044e+02, 1.37427095e+02, 1.08127488e+02,\n",
       "       5.32199614e+00, 1.76078552e+02, 9.43082486e+01, 1.82648764e+01,\n",
       "       1.09635117e+02, 1.13156238e+02, 1.39968925e+02, 2.74766666e+01,\n",
       "       2.49140040e+02, 7.73919449e+00, 2.13607572e+02, 4.97592561e+01,\n",
       "       1.08518198e+02, 1.01599856e+02, 2.34766569e+02, 6.11617226e+01,\n",
       "       1.29602863e+02, 1.64592822e+02, 9.84680518e+01, 2.19291820e+02,\n",
       "       2.34615497e+02, 5.95670090e+01, 2.49801011e+01, 9.07897529e+01,\n",
       "       1.89854218e+02, 2.29809343e+02, 5.35038308e+00, 2.37819585e+02,\n",
       "       2.40585529e+02, 1.71417255e+02, 7.20419962e+01, 6.98173291e+01,\n",
       "       1.86447922e+02, 1.65198548e+02, 8.23280729e+01, 4.42258369e+01,\n",
       "       5.74382746e+01, 1.85423618e+02, 2.57684857e+02, 2.40333253e+02,\n",
       "       2.13614477e+02, 2.34787330e+01, 1.06742828e+02, 2.26709188e+02,\n",
       "       1.08875909e+02, 1.81311124e+02, 2.28184634e+02, 2.10252417e+02,\n",
       "       1.12527600e+02, 1.93815606e+02, 6.94999300e+01, 1.09322667e+02,\n",
       "       2.17924008e+02, 1.76954000e+02, 5.09206690e+00, 2.31309391e+02,\n",
       "       1.04995310e+02, 3.09798801e+02, 7.05926621e+01, 6.85666208e+00,\n",
       "       7.53344658e+01, 3.09359175e+02, 2.45122752e+02, 1.60883144e+02,\n",
       "       1.79428113e+02, 1.55892713e+02, 1.06899583e+02, 2.85375698e+02,\n",
       "       2.18015540e+02, 1.67826118e+02, 1.38948413e+01, 4.42017823e+01,\n",
       "       2.95765783e+02, 3.51677934e+01, 1.45927956e+01, 2.78535015e+02,\n",
       "       2.12233983e+02, 3.01835552e+02, 3.18207959e+02, 2.97728239e+02,\n",
       "       1.25312982e+02, 3.08815561e+02, 2.38982949e+02, 2.95535496e+02,\n",
       "       1.11200029e+00, 2.97826154e+02, 1.74890413e+02, 1.48278889e+02,\n",
       "       6.62588044e+01, 3.26649685e+02, 1.71790115e+02, 5.90920444e+01,\n",
       "       2.74804145e+02, 1.50193975e+02, 8.02256221e+00, 6.42573445e+01,\n",
       "       1.66646592e+02, 2.91933147e+02, 1.06378914e+02, 2.27730107e+02,\n",
       "       5.25754608e+01, 2.45413239e+02, 1.74695466e+02, 6.70077240e+01,\n",
       "       1.75128258e+02, 2.61308947e+02, 3.57320535e+02, 1.01279913e+02,\n",
       "       1.55661478e+02, 3.12806063e+01, 3.15236970e+02, 3.28499282e+02,\n",
       "       6.91963077e+01, 9.95464873e+01, 1.67431991e+02, 3.00849317e+02,\n",
       "       1.71380677e+02, 1.41073193e+02, 3.24547979e+02, 1.33614950e+02,\n",
       "       1.22183504e+02, 1.38816591e+02, 2.90445694e+02, 2.03795555e+02,\n",
       "       3.45706777e+01, 1.62243122e+02, 2.17013002e+02, 1.99209791e+02,\n",
       "       1.88639365e+02, 3.55010228e+02, 2.49602413e+02, 2.70776238e+02,\n",
       "       2.36459070e+02, 1.98909978e+02, 2.99872934e+02, 5.44301834e+01,\n",
       "       5.53299846e+01, 2.68137841e+02, 3.00469631e+02, 2.21753342e+02,\n",
       "       3.00476574e+02, 3.56117014e+02, 2.21253038e+02, 2.93466420e+02,\n",
       "       3.01033481e+02, 1.49841268e+02, 2.34005348e+02, 4.64556257e+01,\n",
       "       2.61779083e+01, 2.45088882e+02, 2.92547742e+02, 3.24148303e+02,\n",
       "       3.95015466e+02, 2.41323434e+02, 6.37045121e+01, 1.21716626e+02,\n",
       "       2.84622784e+02, 3.18353777e+02, 2.01330149e+02, 5.16651869e+00,\n",
       "       3.54721212e+02, 1.37572430e+02, 2.97671876e+02, 1.21696553e+02,\n",
       "       3.47398722e+02, 1.28232290e+02, 6.85987131e+00, 1.46551298e+02,\n",
       "       2.46706265e+02, 4.13706161e+02, 3.32979666e+02, 3.78191664e+02,\n",
       "       2.71014245e+02, 7.86056934e+01, 1.86053180e+02, 2.48012827e+02,\n",
       "       3.29922037e+01, 1.49975448e+02, 4.27290496e+00, 3.83409861e+02,\n",
       "       1.52836483e+00, 4.03655939e+02, 1.12912506e+02, 2.50294428e+01,\n",
       "       2.84851673e+02, 2.71145433e+01, 3.19490890e+02, 3.57983038e+02,\n",
       "       4.16147295e+02, 2.99669736e+02, 3.50543576e+02, 1.36464132e+02,\n",
       "       1.58575130e+02, 1.29509841e+02, 1.33983011e+02, 5.15951349e+01,\n",
       "       3.15866301e+02, 3.78997432e+02, 3.34874159e+02, 2.05127563e+02,\n",
       "       3.24358050e+02, 3.10976842e+02, 3.30366292e+02, 7.53693687e+01,\n",
       "       8.58477011e+00, 3.26657296e+02, 4.00582532e+02, 3.30244669e+02,\n",
       "       1.13626753e+02, 1.52909482e+02, 4.08711281e+02, 3.71108199e+02,\n",
       "       4.37505952e+02, 4.02296902e+02, 2.01897559e+02, 4.01594460e+02,\n",
       "       3.82341417e+02, 2.46864127e+02, 9.17895594e+01, 4.40261273e+02,\n",
       "       2.54276841e+02, 3.33853425e+01, 4.60191910e+02, 2.90408135e+02,\n",
       "       4.50286445e+02, 3.77973586e+01, 1.65603165e+02, 1.72946009e+02,\n",
       "       2.83365209e+02, 3.45977702e+02, 1.80566417e+02, 3.15788695e+02,\n",
       "       2.61442401e+02, 1.00439206e+02, 1.80341731e+02, 2.08061479e+02,\n",
       "       1.34827161e+02, 3.71916227e+02, 3.58611989e+01, 3.15408568e+02,\n",
       "       3.55142371e+02, 2.94330954e+02, 2.19229921e+02, 1.18654915e+02,\n",
       "       2.41208556e+02, 3.39136045e+02, 4.17143959e+02, 3.57585066e+01,\n",
       "       1.87657745e+02, 3.91418256e+01, 1.82334576e+02, 2.07452205e+02,\n",
       "       5.60463520e+01, 2.12698651e+02, 1.79915163e+02, 4.74141329e+02,\n",
       "       3.62975672e+02, 4.89596066e+02, 1.81156802e+01, 4.83486636e+02,\n",
       "       5.97030599e+01, 1.49223192e+02, 3.72033042e+01, 2.43125508e+02,\n",
       "       2.44096913e+02, 3.54998164e+02, 4.85354747e+02, 5.05897182e+02,\n",
       "       6.22558587e+01, 3.12570683e+01, 1.49678430e+02, 4.03390071e+02,\n",
       "       8.62471664e+01, 1.72682990e+02, 1.87030802e+02, 3.13663915e+02,\n",
       "       1.21651717e+02, 9.58079900e+01, 3.18991395e+02, 2.20035419e+02,\n",
       "       4.52579542e+02, 2.34069415e+02, 2.03034302e+02, 3.82767217e+02,\n",
       "       4.15190510e+02, 1.92515542e+02, 4.80774882e+02, 8.43721684e+01,\n",
       "       3.84703236e+02, 4.75002965e+02, 8.43905633e+01, 3.59563949e+02,\n",
       "       1.12543354e+02, 3.91215322e+02, 2.00560255e+02, 3.71837844e+02,\n",
       "       1.51935242e+02, 4.48778966e+02, 2.88163103e+02, 3.99257794e+02,\n",
       "       5.10104195e+01, 4.01858534e+01, 3.40578721e+02, 5.55117393e+02,\n",
       "       4.32194759e+02, 3.21802093e+01, 8.19801180e+01, 2.93300024e+02,\n",
       "       1.18596567e+02, 4.70053865e+02, 3.13797366e+02, 4.88114545e+02,\n",
       "       3.33726685e+02, 5.33732743e+02, 4.74451431e+02, 4.44555367e+02,\n",
       "       2.99084167e+02, 4.22746301e+02, 2.12785427e+02, 2.05815667e+01,\n",
       "       1.67095721e+02, 5.10513427e+02, 3.71509141e+02, 2.45805483e+02,\n",
       "       2.87801667e+02, 6.64999761e+01, 5.43175810e+02, 5.20777229e+02,\n",
       "       9.09820879e+01, 3.99093779e+01, 5.02033663e+02, 1.36494163e+02,\n",
       "       2.82589396e+02, 4.80908761e+02, 3.01233760e+02, 3.91936277e+02,\n",
       "       3.22194518e+02, 2.32730119e+02, 1.21180997e+01, 6.50199918e+01,\n",
       "       5.91626860e+00, 3.44637780e+02, 4.99975505e+02, 1.39394396e+01,\n",
       "       1.05924963e+02, 1.61465946e+02, 5.50116306e+02, 5.64391792e+02,\n",
       "       2.03538706e+02, 2.00020304e+02, 4.16884642e+02, 1.31104987e+02,\n",
       "       3.03999081e+01, 2.03433513e+02, 1.96369415e+02, 3.29098233e+02,\n",
       "       5.28573121e+02, 3.81732061e+02, 3.68733251e+02, 2.04785122e+02,\n",
       "       3.99060420e+02, 3.48874506e+02, 3.46553445e+02, 3.04543364e+02,\n",
       "       1.94841108e+02, 4.40613660e+01, 5.29223271e+02, 1.39370242e+02,\n",
       "       4.81421801e+02, 3.80396651e+02, 3.77678791e+02, 1.77873440e+02,\n",
       "       4.15854870e+02, 6.86751261e+01, 1.42927253e+02, 4.43908275e+02,\n",
       "       4.18062928e+02, 7.84867703e+00, 1.93764975e+02, 4.66822356e+02,\n",
       "       5.81133577e+02, 1.50035283e+02, 6.13304272e+02, 6.72338529e+01,\n",
       "       4.63786510e+02, 2.63360290e+01, 1.77050192e+02, 2.92186665e+02,\n",
       "       1.81697367e+02, 5.01760674e+02, 4.78914361e+02, 2.65006685e+02,\n",
       "       2.77573206e+02, 6.21270320e+02, 5.20940736e+02, 5.39485254e+02,\n",
       "       5.18504201e+02, 1.06647492e+02, 1.44618539e+02, 3.26469967e+02,\n",
       "       3.99836417e+01, 5.14973309e+02, 3.17442820e+01, 4.06020222e+02,\n",
       "       6.32948810e+02, 5.31117925e+01, 2.60388592e+01, 3.71665772e+02,\n",
       "       1.57383068e+02, 5.81454012e+02, 6.69880862e+01, 4.24416660e+02,\n",
       "       5.09729901e+02, 3.90409500e+02, 9.40806508e+01, 9.69894080e+01,\n",
       "       4.20952456e+02, 4.78623149e+02, 3.32402457e+02, 6.08059825e+02,\n",
       "       5.06072685e+02, 1.72925010e+02, 2.33553647e+02, 4.59959812e+02,\n",
       "       6.45012507e+02, 7.91597467e+01, 1.07841677e+02, 3.61541308e+01,\n",
       "       2.46299607e+02, 3.83300925e+02, 2.11714085e+02, 6.30784792e+02,\n",
       "       4.45755833e+02, 5.80849527e+02, 5.68515240e+02, 6.34262967e+02,\n",
       "       4.73633601e+02, 4.18316493e+00, 6.90823269e+02, 4.26646564e+02,\n",
       "       2.42721756e+02, 3.26446439e+02, 3.74326374e+02, 6.38892155e+02,\n",
       "       3.57569840e+02, 1.41665250e+02, 3.34333319e+02, 6.64065620e+02,\n",
       "       2.41457249e+01, 3.87061507e+02, 5.00645298e+02, 2.75976977e+02,\n",
       "       7.10495831e+01, 5.89458123e+02, 5.77381897e+02, 6.37530691e+02,\n",
       "       5.01640594e+02, 6.59330415e+02, 3.52388169e+02, 8.88905506e+01,\n",
       "       7.05323399e+02, 6.53362612e+02, 3.68579771e+02, 6.51482142e+02,\n",
       "       2.26787256e+02, 5.39488402e+02, 1.49941918e+02, 8.75571018e+01,\n",
       "       5.33288680e+02, 1.86480777e+02, 3.03465536e+02, 3.74459141e+02,\n",
       "       1.84832520e+02, 4.73226056e+02, 2.05969574e+02, 6.19499071e+02,\n",
       "       6.09197917e+02, 1.72171486e+02, 5.70413775e+02, 3.14415540e+02,\n",
       "       2.18205537e+02, 1.99914569e+02, 1.83611010e+02, 3.11743038e+02,\n",
       "       3.37551903e+02, 4.96825441e+02, 6.65354699e+02, 6.37211194e+02,\n",
       "       5.08723610e+02, 3.29681319e+02, 1.17294883e+02, 4.48072328e+02,\n",
       "       9.87159120e+01, 8.27220723e+01, 5.25980200e+01, 1.38269235e+02,\n",
       "       1.16512741e+02, 2.20811569e+02, 6.01803352e+02, 3.05361123e+02,\n",
       "       1.02047740e+02, 4.31545460e+01, 1.34196472e+02, 8.57547752e+00,\n",
       "       5.51145453e+02, 6.63926241e+02, 4.65591682e+02, 2.94631976e+02,\n",
       "       2.19212107e+02, 2.05107423e+02, 1.55283121e+02, 6.57312996e+02,\n",
       "       1.61151642e+02, 2.79310015e+02, 2.64092463e+02, 7.24682850e+02,\n",
       "       3.40915995e+02, 3.46404167e+02, 1.70258457e+02, 7.32135602e+02,\n",
       "       1.50810446e+02, 2.30370960e+02, 2.02417787e+02, 5.04632135e+02,\n",
       "       6.63936365e+02, 7.57773965e+02, 1.55033157e+02, 2.13682654e+02,\n",
       "       4.82392929e+02, 1.77046100e+02, 2.44126656e+02, 3.48166730e+02,\n",
       "       1.87788607e+01, 4.18225144e+02, 1.47728810e+02, 5.89196625e+02,\n",
       "       6.19943940e+02, 3.88212619e+01, 1.86664031e+02, 4.18389085e+02,\n",
       "       2.74181801e+02, 7.13596298e+02, 4.00971607e+02, 3.98665207e+02,\n",
       "       4.96134591e+00, 1.59504680e+02, 2.45877351e+02, 7.99842752e+02,\n",
       "       7.73617505e+02, 2.25489149e+02, 3.59267825e+01, 4.41161622e+02,\n",
       "       4.37143716e+02, 5.36588836e+02, 6.53435114e+01, 2.13974355e+02,\n",
       "       2.11353003e+02, 1.04146797e+02, 2.80788084e+01, 9.86663205e+00,\n",
       "       7.58961526e+02, 4.65606484e+02, 2.35465925e+02, 2.18602754e+02,\n",
       "       2.80352774e+02, 2.10684963e+02, 7.91287742e+01, 6.86180804e+02,\n",
       "       2.20577971e+02, 7.75588308e+02, 6.51902705e+02, 6.59626109e+02,\n",
       "       8.22519104e+02, 5.05786943e+02, 2.66062433e+01, 3.00066944e+02,\n",
       "       7.33172789e+02, 2.18730143e+02, 6.55425936e+02, 6.54918020e+02,\n",
       "       3.34867475e+01, 4.79645611e+01, 3.14777522e+02, 2.25490113e+02,\n",
       "       1.51036739e+02, 6.00597745e+02, 4.07490504e+02, 5.22490040e+02,\n",
       "       1.83058794e+02, 8.18967017e+02, 7.74348031e+02, 4.73848792e+02,\n",
       "       7.47851088e+02, 8.30173032e+02, 3.88532589e+02, 4.57390925e+02,\n",
       "       2.05663492e+02, 5.27845467e+02, 4.07067696e+02, 5.50098519e+02,\n",
       "       5.29445498e+02, 4.12091683e+02, 3.70524724e+02, 8.23889944e+02,\n",
       "       3.65089099e+02, 7.83214358e+02, 8.56000849e+02, 1.32392100e+02,\n",
       "       2.19935846e+02, 8.41729870e+01, 6.85812033e+02, 8.59231542e+02,\n",
       "       2.96507879e+02, 8.07155819e+02, 4.39670119e+02, 3.32226521e+02,\n",
       "       5.75908485e+02, 4.56231031e+02, 4.42118785e+01, 5.46697706e+02,\n",
       "       4.62653525e+02, 8.18064233e+02, 4.01056105e+02, 4.57196654e+02,\n",
       "       3.95739647e+02, 6.76237837e+02, 2.43012804e+02, 6.53462546e+02,\n",
       "       5.40911006e+02, 4.69980513e+02, 2.29147007e+02, 1.76369882e+02,\n",
       "       4.47686261e+02, 2.90367847e+02, 8.17069769e+01, 2.46084885e+02,\n",
       "       5.45871931e+02, 1.28534698e+02, 1.77974035e+01, 5.84139434e+02,\n",
       "       1.54911459e+02, 7.32335774e+02, 2.27255184e+02, 3.63839545e+02,\n",
       "       5.20492161e+00, 2.41661141e+02, 2.61544674e+02, 4.24115768e+02,\n",
       "       2.82171043e+02, 3.68625199e+02, 4.50351317e+02, 1.47823419e+02,\n",
       "       3.92435013e+02, 8.99524839e+02, 2.54173382e+02, 2.37610803e+02,\n",
       "       4.85176167e+02, 5.56747274e+02, 3.33716273e+02, 8.92706604e+02,\n",
       "       8.68954505e+02, 1.62680758e+02, 7.86885311e+02, 4.35221814e+02,\n",
       "       2.66720537e+02, 7.69440790e+02, 2.63213769e+02, 7.93889741e+02,\n",
       "       2.25334554e+02, 2.98315697e+02, 6.65474078e+01, 1.50897744e+02,\n",
       "       6.45152456e+02, 7.77560785e-01, 3.49335287e+02, 1.61807638e+02,\n",
       "       1.21889459e+02, 8.26015381e+02, 3.56391882e+02, 7.58920228e+02,\n",
       "       1.06908923e+02, 4.70799031e+02, 5.56480961e+02, 6.09007739e+02,\n",
       "       5.94313164e+02, 2.26410189e+02, 5.62008373e+02, 8.88734250e+02,\n",
       "       8.05429059e+02, 1.78814842e+02, 5.07332774e+02, 2.43948192e+02,\n",
       "       1.04837414e+02, 9.17757663e+02, 5.82023384e+01, 4.85846825e+02,\n",
       "       8.93766139e+02, 5.54055933e+02, 3.36962931e+01, 4.99160889e+02,\n",
       "       1.23498585e+02, 9.43991080e+02, 1.55411931e+02, 1.05704837e+02,\n",
       "       2.11958479e+02, 6.01152596e+01, 6.11053455e+02, 9.16468089e+02,\n",
       "       7.65320354e+02, 7.31036083e+02, 4.43481914e+02, 2.95764992e+02,\n",
       "       4.11829086e+01, 9.43903232e+02, 1.48157926e+02, 4.24280332e+02,\n",
       "       7.16673402e+02, 1.74980426e+02, 6.99698777e+02, 3.48838633e+02,\n",
       "       9.58023234e+02, 5.21999379e+02, 1.55880083e+02, 3.19319837e+02,\n",
       "       1.27183586e+02, 2.53149952e+02, 2.06634114e+02, 6.45319182e+02,\n",
       "       6.00148865e+02, 9.82708483e+01, 9.24652795e+02, 3.26301262e+02,\n",
       "       4.16736390e+02, 7.15490495e+02, 8.13556610e+02, 8.78772968e+02,\n",
       "       6.40910381e+02, 5.13092293e+02, 9.01177461e+02, 1.23185898e+02,\n",
       "       5.82090138e+02, 8.57785653e+02, 2.17238185e+02, 2.25684326e+02,\n",
       "       1.05205505e+00, 5.25079959e+02, 9.01496139e+02, 3.98217114e+02])"
      ]
     },
     "execution_count": 28,
     "metadata": {},
     "output_type": "execute_result"
    }
   ],
   "source": [
    "# let's start mapping the data\n",
    "import random\n",
    "import numpy as np\n",
    "\n",
    "nums = np.array(range(1,1001))\n",
    "sales_figures = nums * np.random.rand(1000)\n",
    "sales_figures"
   ]
  },
  {
   "cell_type": "code",
   "execution_count": 30,
   "metadata": {},
   "outputs": [],
   "source": [
    "price_items = sc.parallelize(sales_figures, 10)"
   ]
  },
  {
   "cell_type": "code",
   "execution_count": 31,
   "metadata": {},
   "outputs": [
    {
     "data": {
      "text/plain": [
       "[0.447338956126774,\n",
       " 1.0003204730240218,\n",
       " 0.056834424050291044,\n",
       " 3.407949259135434,\n",
       " 3.001074785289796,\n",
       " 1.370641011109083,\n",
       " 0.9310656914123406,\n",
       " 7.404941817510094,\n",
       " 0.7238577761196461,\n",
       " 2.756948355958504]"
      ]
     },
     "execution_count": 31,
     "metadata": {},
     "output_type": "execute_result"
    }
   ],
   "source": [
    "price_items.take(10)"
   ]
  },
  {
   "cell_type": "code",
   "execution_count": 32,
   "metadata": {},
   "outputs": [],
   "source": [
    "def sales_tax(num):\n",
    "    return num - (num*0.08)\n",
    "\n",
    "revenue_minus_tax = price_items.map(sales_tax) # map the function to every element. cool.\n",
    "# we made sure that sales tax takes in an int, and map assumes... one parameter for the map'd function?\n",
    "# lazy eval, not executed til we call an action"
   ]
  },
  {
   "cell_type": "code",
   "execution_count": 33,
   "metadata": {},
   "outputs": [
    {
     "data": {
      "text/plain": [
       "[0.41155183963663206,\n",
       " 0.9202948351821001,\n",
       " 0.05228767012626776,\n",
       " 3.135313318404599,\n",
       " 2.760988802466612,\n",
       " 1.2609897302203563,\n",
       " 0.8565804360993534,\n",
       " 6.812546472109287,\n",
       " 0.6659491540300744,\n",
       " 2.5363924874818236]"
      ]
     },
     "execution_count": 33,
     "metadata": {},
     "output_type": "execute_result"
    }
   ],
   "source": [
    "revenue_minus_tax.take(10) # cool"
   ]
  },
  {
   "cell_type": "code",
   "execution_count": 35,
   "metadata": {},
   "outputs": [],
   "source": [
    "discounted = price_items.map(lambda x: sales_tax(0.9*x))"
   ]
  },
  {
   "cell_type": "code",
   "execution_count": 36,
   "metadata": {},
   "outputs": [
    {
     "data": {
      "text/plain": [
       "[0.37039665567296887,\n",
       " 0.8282653516638901,\n",
       " 0.047058903113640985,\n",
       " 2.8217819865641394,\n",
       " 2.484889922219951,\n",
       " 1.1348907571983209,\n",
       " 0.7709223924894181,\n",
       " 6.1312918248983586,\n",
       " 0.5993542386270669,\n",
       " 2.2827532387336413]"
      ]
     },
     "execution_count": 36,
     "metadata": {},
     "output_type": "execute_result"
    }
   ],
   "source": [
    "discounted.take(10) # it worked!"
   ]
  },
  {
   "cell_type": "code",
   "execution_count": 37,
   "metadata": {},
   "outputs": [
    {
     "data": {
      "text/plain": [
       "[793.2432374699142,\n",
       " 781.6246139966601,\n",
       " 781.5518759731868,\n",
       " 765.6125139395746,\n",
       " 759.9033445550552,\n",
       " 758.8355777657586,\n",
       " 746.4388031812061,\n",
       " 746.1749377581554,\n",
       " 744.8065667565104,\n",
       " 740.0383627337565,\n",
       " 739.1610680280942,\n",
       " 735.8719590014583,\n",
       " 727.6240172455203,\n",
       " 719.4943300683107,\n",
       " 711.443716610029]"
      ]
     },
     "execution_count": 37,
     "metadata": {},
     "output_type": "execute_result"
    }
   ],
   "source": [
    "price_items.map(sales_tax).map(lambda x: x*0.9).top(15) # you can chain maps together"
   ]
  },
  {
   "cell_type": "code",
   "execution_count": 38,
   "metadata": {},
   "outputs": [
    {
     "data": {
      "text/plain": [
       "b'(10) PythonRDD[9] at RDD at PythonRDD.scala:53 []\\n |   ParallelCollectionRDD[4] at parallelize at PythonRDD.scala:195 []'"
      ]
     },
     "execution_count": 38,
     "metadata": {},
     "output_type": "execute_result"
    }
   ],
   "source": [
    "discounted.toDebugString()"
   ]
  },
  {
   "cell_type": "code",
   "execution_count": 39,
   "metadata": {},
   "outputs": [
    {
     "data": {
      "text/plain": [
       "b'(10) ParallelCollectionRDD[4] at parallelize at PythonRDD.scala:195 []'"
      ]
     },
     "execution_count": 39,
     "metadata": {},
     "output_type": "execute_result"
    }
   ],
   "source": [
    "price_items.toDebugString()"
   ]
  },
  {
   "cell_type": "code",
   "execution_count": 40,
   "metadata": {},
   "outputs": [
    {
     "data": {
      "text/plain": [
       "[(0.447338956126774, 0.3703966556729689),\n",
       " (1.0003204730240218, 0.8282653516638901),\n",
       " (0.056834424050291044, 0.047058903113640985),\n",
       " (3.407949259135434, 2.8217819865641394),\n",
       " (3.001074785289796, 2.4848899222199514),\n",
       " (1.370641011109083, 1.1348907571983207),\n",
       " (0.9310656914123406, 0.7709223924894181),\n",
       " (7.404941817510094, 6.1312918248983586),\n",
       " (0.7238577761196461, 0.5993542386270669),\n",
       " (2.756948355958504, 2.2827532387336413)]"
      ]
     },
     "execution_count": 40,
     "metadata": {},
     "output_type": "execute_result"
    }
   ],
   "source": [
    "mapped = price_items.map(lambda x: (x, x*0.92 * 0.9)) # trans\n",
    "mapped.take(10) # action"
   ]
  },
  {
   "cell_type": "code",
   "execution_count": 41,
   "metadata": {},
   "outputs": [
    {
     "data": {
      "text/plain": [
       "[0.447338956126774,\n",
       " 0.3703966556729689,\n",
       " 1.0003204730240218,\n",
       " 0.8282653516638901,\n",
       " 0.056834424050291044,\n",
       " 0.047058903113640985,\n",
       " 3.407949259135434,\n",
       " 2.8217819865641394,\n",
       " 3.001074785289796,\n",
       " 2.4848899222199514]"
      ]
     },
     "execution_count": 41,
     "metadata": {},
     "output_type": "execute_result"
    }
   ],
   "source": [
    "mapped = price_items.flatMap(lambda x: (x, x*0.92 * 0.9)) # trans\n",
    "mapped.take(10) # action"
   ]
  },
  {
   "cell_type": "code",
   "execution_count": 42,
   "metadata": {},
   "outputs": [
    {
     "data": {
      "text/plain": [
       "2000"
      ]
     },
     "execution_count": 42,
     "metadata": {},
     "output_type": "execute_result"
    }
   ],
   "source": [
    "mapped.count()"
   ]
  },
  {
   "cell_type": "code",
   "execution_count": 58,
   "metadata": {},
   "outputs": [
    {
     "name": "stdout",
     "output_type": "stream",
     "text": [
      "/home/jovyan/.ipython\r\n"
     ]
    }
   ],
   "source": [
    "!ipython locate"
   ]
  },
  {
   "cell_type": "code",
   "execution_count": 43,
   "metadata": {},
   "outputs": [
    {
     "data": {
      "text/plain": [
       "256"
      ]
     },
     "execution_count": 43,
     "metadata": {},
     "output_type": "execute_result"
    }
   ],
   "source": [
    "selection = discounted.filter(lambda x: x>300) # .filter returns elements matching the func passed\n",
    "selection.count()"
   ]
  },
  {
   "cell_type": "code",
   "execution_count": 44,
   "metadata": {},
   "outputs": [
    {
     "data": {
      "text/plain": [
       "117966.81452615118"
      ]
     },
     "execution_count": 44,
     "metadata": {},
     "output_type": "execute_result"
    }
   ],
   "source": [
    "selection.reduce(lambda x,y: x+y) # reduce will add x and y together to sum the RDD\n",
    "# selection isn't a list of tuples. how does it know to add each elem?"
   ]
  },
  {
   "cell_type": "code",
   "execution_count": 46,
   "metadata": {},
   "outputs": [
    {
     "data": {
      "text/plain": [
       "[(3, 327.07280552144664),\n",
       " (31, 342.54870112823164),\n",
       " (1, 313.14269773915),\n",
       " (5, 317.4633646572884),\n",
       " (16, 334.22711783496345),\n",
       " (22, 344.56996033738943),\n",
       " (48, 313.8098736810236)]"
      ]
     },
     "execution_count": 46,
     "metadata": {},
     "output_type": "execute_result"
    }
   ],
   "source": [
    "random.seed(42)\n",
    "sales_data = selection.map(lambda x: (random.randint(1,50), x)) # return tuple of rand, x\n",
    "sales_data.take(7) # so this \"assigns\" one of the 50 users to each item, simulating buyout"
   ]
  },
  {
   "cell_type": "code",
   "execution_count": 48,
   "metadata": {},
   "outputs": [
    {
     "data": {
      "text/plain": [
       "[(50, 3026.4377704913977),\n",
       " (40, 3120.1220842961743),\n",
       " (30, 2292.9184708637513),\n",
       " (20, 3365.7615137265443),\n",
       " (10, 2456.9858691934414),\n",
       " (11, 2543.0199063775403),\n",
       " (21, 1396.9166045677273),\n",
       " (31, 1079.9687762911494),\n",
       " (41, 2748.461055926573),\n",
       " (1, 1921.29821218601)]"
      ]
     },
     "execution_count": 48,
     "metadata": {},
     "output_type": "execute_result"
    }
   ],
   "source": [
    "total_spent = sales_data.reduceByKey(lambda x,y: x+y)\n",
    "total_spent.take(10)"
   ]
  },
  {
   "cell_type": "code",
   "execution_count": 49,
   "metadata": {},
   "outputs": [
    {
     "data": {
      "text/plain": [
       "50"
      ]
     },
     "execution_count": 49,
     "metadata": {},
     "output_type": "execute_result"
    }
   ],
   "source": [
    "total_spent.count()"
   ]
  },
  {
   "cell_type": "markdown",
   "metadata": {},
   "source": [
    "## reducebykey suddenly makes sense now\n",
    "- sales_data is in tuple form of a key, price. there are 50 keys for 1000 elems\n",
    "- reduceByKey(lambda x,y: x+y) runs through each elem in sales_data,\n",
    "    - takes in the x as key, y as price\n",
    "    - and reduces the _number of entries_ to however many _unique Xs exist_"
   ]
  },
  {
   "cell_type": "code",
   "execution_count": 52,
   "metadata": {},
   "outputs": [],
   "source": [
    "# total_spent.sortBy(lambda x: x[1],ascending=True).collect()"
   ]
  },
  {
   "cell_type": "code",
   "execution_count": 57,
   "metadata": {},
   "outputs": [
    {
     "data": {
      "text/plain": [
       "collections.defaultdict"
      ]
     },
     "execution_count": 57,
     "metadata": {},
     "output_type": "execute_result"
    }
   ],
   "source": [
    "total_items = sales_data.countByKey() # returns a dictionary of key:val pairs, for key:num_items_using_key\n",
    "type(total_items)"
   ]
  },
  {
   "cell_type": "code",
   "execution_count": 54,
   "metadata": {},
   "outputs": [
    {
     "data": {
      "text/plain": [
       "[(44, 10),\n",
       " (13, 10),\n",
       " (4, 9),\n",
       " (25, 9),\n",
       " (41, 9),\n",
       " (43, 9),\n",
       " (45, 8),\n",
       " (37, 7),\n",
       " (34, 7),\n",
       " (24, 7),\n",
       " (21, 6),\n",
       " (32, 6),\n",
       " (27, 6),\n",
       " (19, 6),\n",
       " (23, 6),\n",
       " (26, 6),\n",
       " (14, 6),\n",
       " (36, 6),\n",
       " (7, 5),\n",
       " (6, 5),\n",
       " (48, 5),\n",
       " (38, 5),\n",
       " (35, 5),\n",
       " (28, 5),\n",
       " (42, 5),\n",
       " (31, 5),\n",
       " (49, 5),\n",
       " (20, 5),\n",
       " (8, 5),\n",
       " (29, 4),\n",
       " (18, 4),\n",
       " (15, 4),\n",
       " (40, 4),\n",
       " (10, 4),\n",
       " (11, 4),\n",
       " (16, 4),\n",
       " (9, 4),\n",
       " (30, 3),\n",
       " (39, 3),\n",
       " (46, 3),\n",
       " (47, 3),\n",
       " (5, 3),\n",
       " (12, 3),\n",
       " (17, 3),\n",
       " (2, 3),\n",
       " (22, 3),\n",
       " (33, 3),\n",
       " (1, 3),\n",
       " (50, 2),\n",
       " (3, 1)]"
      ]
     },
     "execution_count": 54,
     "metadata": {},
     "output_type": "execute_result"
    }
   ],
   "source": [
    "sorted(total_items.items(), key=lambda kv: kv[1], reverse=True)"
   ]
  },
  {
   "cell_type": "markdown",
   "metadata": {},
   "source": [
    "# launched amazon EMR successfully\n",
    "- takeaways:\n",
    "    - setup is harder than running the actual program\n",
    "    - syntax is weird with amazon's EMR implementation\n",
    "    - jupyter notebooks make it a lot easier even launching in the cloud"
   ]
  },
  {
   "cell_type": "markdown",
   "metadata": {},
   "source": [
    "amazon's EMR pyspark code looks like this:"
   ]
  },
  {
   "cell_type": "code",
   "execution_count": 1,
   "metadata": {},
   "outputs": [
    {
     "ename": "NameError",
     "evalue": "name 'spark' is not defined",
     "output_type": "error",
     "traceback": [
      "\u001b[0;31m---------------------------------------------------------------------------\u001b[0m",
      "\u001b[0;31mNameError\u001b[0m                                 Traceback (most recent call last)",
      "\u001b[0;32m<ipython-input-1-8c1febc49dff>\u001b[0m in \u001b[0;36m<module>\u001b[0;34m\u001b[0m\n\u001b[1;32m      2\u001b[0m \u001b[0;34m\u001b[0m\u001b[0m\n\u001b[1;32m      3\u001b[0m \u001b[0;31m# spark's native read() method handles bucket loading\u001b[0m\u001b[0;34m\u001b[0m\u001b[0;34m\u001b[0m\u001b[0;34m\u001b[0m\u001b[0m\n\u001b[0;32m----> 4\u001b[0;31m \u001b[0mdf\u001b[0m \u001b[0;34m=\u001b[0m \u001b[0mspark\u001b[0m\u001b[0;34m.\u001b[0m\u001b[0mread\u001b[0m\u001b[0;34m(\u001b[0m\u001b[0;34m)\u001b[0m\u001b[0;34m.\u001b[0m\u001b[0mcsv\u001b[0m\u001b[0;34m(\u001b[0m\u001b[0;34m\"s3://big_data.csv\"\u001b[0m\u001b[0;34m)\u001b[0m\u001b[0;34m\u001b[0m\u001b[0;34m\u001b[0m\u001b[0m\n\u001b[0m\u001b[1;32m      5\u001b[0m \u001b[0;31m# in .csv() specify your desired s3 bucket url\u001b[0m\u001b[0;34m\u001b[0m\u001b[0;34m\u001b[0m\u001b[0;34m\u001b[0m\u001b[0m\n\u001b[1;32m      6\u001b[0m \u001b[0;31m# this handles parallelize automatically, i think\u001b[0m\u001b[0;34m\u001b[0m\u001b[0;34m\u001b[0m\u001b[0;34m\u001b[0m\u001b[0m\n",
      "\u001b[0;31mNameError\u001b[0m: name 'spark' is not defined"
     ]
    }
   ],
   "source": [
    "# EMR auto-instantiates a SparkSesssion called \"spark\" on launch\n",
    "\n",
    "# spark's native read() method handles bucket loading\n",
    "df = spark.read().csv(\"s3://big_data.csv\")\n",
    "# in .csv() specify your desired s3 bucket url\n",
    "# this handles parallelize automatically, i think"
   ]
  },
  {
   "cell_type": "markdown",
   "metadata": {},
   "source": [
    "i'm getting a weird KernelError  Error attempting to connect to Gateway server url 'http://localhost:17777'. Ensure gateway url is valid and the Gateway instance is running.\n",
    "\n",
    "doesn't show anything on google for amazon. I'll terminate cluster for now, maybe relaunch with different node configuration? For some reason the bootstrap worked originally, then the next 6 clusters kept terminating before launching due to NodeTypeMismatch (essentially), so i tinkered with the nodetypes and region subnet throughout.\n",
    "\n",
    "then i made a new one using bootstrap and EC2 key, and cloned the original to launch at the same time. both launched without a hitch. weird.\n",
    "\n",
    "\n",
    "opened both clusters with notebooks, same kernel error on both. maybe i'll call amazon support."
   ]
  },
  {
   "cell_type": "code",
   "execution_count": null,
   "metadata": {},
   "outputs": [],
   "source": [
    "\n",
    "\n",
    "from pyspark.sql import SparkSession\n",
    "\n",
    "spark = SparkSession \\\n",
    "    .builder \\\n",
    "    .appName(\"Python Spark SQL basic example\") \\\n",
    "    .config(\"spark.some.config.option\", \"some-value\") \\\n",
    "    .getOrCreate()\n",
    "\n",
    "df = spark.read.csv(\"/home/stp/test1.csv\",header=True,sep=\"|\");\n",
    "\n",
    "print(df.collect())\n",
    "\n"
   ]
  },
  {
   "cell_type": "markdown",
   "metadata": {},
   "source": [
    "how can i mapreduce on this SO2 data? it's got mixed datatypes, so i'll have to do it by column. it should be no problem to subset the RDD stack by creating new RDDs with only certain columns.\n",
    "\n",
    "my SQL csv export is displaying 1/20th progress bar after 6 hours. that's not good.\n",
    "at this speed, it'd be faster to redownload the entire dataset from NASA with updated data\n",
    "\n",
    "that's tempting, actually. save me the trouble of adding the new month in manually\n",
    "\n",
    "i'm just gonna do that. I wonder if SQL taking this long is unavoidable? It's hosted on amazon RDS, so is there a transfer time set by the configured hardware I chose? maybe using Redshift would be faster as it's a warehouse? but I don't really have terabytes/petabytes, just gigabytes. so probably don't need the extra monthly cost."
   ]
  },
  {
   "cell_type": "code",
   "execution_count": null,
   "metadata": {},
   "outputs": [],
   "source": []
  },
  {
   "cell_type": "code",
   "execution_count": null,
   "metadata": {},
   "outputs": [],
   "source": []
  },
  {
   "cell_type": "code",
   "execution_count": null,
   "metadata": {},
   "outputs": [],
   "source": []
  },
  {
   "cell_type": "code",
   "execution_count": null,
   "metadata": {},
   "outputs": [],
   "source": []
  },
  {
   "cell_type": "code",
   "execution_count": null,
   "metadata": {},
   "outputs": [],
   "source": []
  },
  {
   "cell_type": "code",
   "execution_count": null,
   "metadata": {},
   "outputs": [],
   "source": []
  }
 ],
 "metadata": {
  "kernelspec": {
   "display_name": "Python 3",
   "language": "python",
   "name": "python3"
  },
  "language_info": {
   "codemirror_mode": {
    "name": "ipython",
    "version": 3
   },
   "file_extension": ".py",
   "mimetype": "text/x-python",
   "name": "python",
   "nbconvert_exporter": "python",
   "pygments_lexer": "ipython3",
   "version": "3.7.4"
  },
  "toc": {
   "base_numbering": 1,
   "nav_menu": {},
   "number_sections": true,
   "sideBar": true,
   "skip_h1_title": false,
   "title_cell": "Table of Contents",
   "title_sidebar": "Contents",
   "toc_cell": true,
   "toc_position": {},
   "toc_section_display": true,
   "toc_window_display": true
  }
 },
 "nbformat": 4,
 "nbformat_minor": 4
}
