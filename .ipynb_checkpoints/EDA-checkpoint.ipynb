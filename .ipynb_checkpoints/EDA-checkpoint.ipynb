{
 "cells": [
  {
   "cell_type": "markdown",
   "metadata": {
    "toc": true
   },
   "source": [
    "<h1>Table of Contents<span class=\"tocSkip\"></span></h1>\n",
    "<div class=\"toc\"><ul class=\"toc-item\"><li><ul class=\"toc-item\"><li><ul class=\"toc-item\"><li><span><a href=\"#imports\" data-toc-modified-id=\"imports-0.0.1\"><span class=\"toc-item-num\">0.0.1&nbsp;&nbsp;</span>imports</a></span></li><li><span><a href=\"#functions\" data-toc-modified-id=\"functions-0.0.2\"><span class=\"toc-item-num\">0.0.2&nbsp;&nbsp;</span>functions</a></span></li></ul></li></ul></li><li><span><a href=\"#EDA\" data-toc-modified-id=\"EDA-1\"><span class=\"toc-item-num\">1&nbsp;&nbsp;</span>EDA</a></span><ul class=\"toc-item\"><li><span><a href=\"#exploring-&quot;SCIENCE_DATA&quot;\" data-toc-modified-id=\"exploring-&quot;SCIENCE_DATA&quot;-1.1\"><span class=\"toc-item-num\">1.1&nbsp;&nbsp;</span>exploring \"SCIENCE_DATA\"</a></span><ul class=\"toc-item\"><li><span><a href=\"#right,-i-forgot-there's-a-readme-explaining-everything-quite-clearly.\" data-toc-modified-id=\"right,-i-forgot-there's-a-readme-explaining-everything-quite-clearly.-1.1.1\"><span class=\"toc-item-num\">1.1.1&nbsp;&nbsp;</span>right, i forgot there's a readme explaining everything quite clearly.</a></span></li><li><span><a href=\"#so-how-do-i-interpret-the-320x36?\" data-toc-modified-id=\"so-how-do-i-interpret-the-320x36?-1.1.2\"><span class=\"toc-item-num\">1.1.2&nbsp;&nbsp;</span>so how do i interpret the 320x36?</a></span><ul class=\"toc-item\"><li><span><a href=\"#before-i-forget,-there's-probably-a-library-to-parse-lat/long-into-geographic-regions/cities/countries\" data-toc-modified-id=\"before-i-forget,-there's-probably-a-library-to-parse-lat/long-into-geographic-regions/cities/countries-1.1.2.1\"><span class=\"toc-item-num\">1.1.2.1&nbsp;&nbsp;</span>before i forget, there's probably a library to parse lat/long into geographic regions/cities/countries</a></span></li></ul></li></ul></li><li><span><a href=\"#Data-format-is-based-off-of-instrument-format\" data-toc-modified-id=\"Data-format-is-based-off-of-instrument-format-1.2\"><span class=\"toc-item-num\">1.2&nbsp;&nbsp;</span>Data format is based off of instrument format</a></span></li><li><span><a href=\"#filename-considerations\" data-toc-modified-id=\"filename-considerations-1.3\"><span class=\"toc-item-num\">1.3&nbsp;&nbsp;</span>filename considerations</a></span></li><li><span><a href=\"#right,-i-think-i've-got-the-format\" data-toc-modified-id=\"right,-i-think-i've-got-the-format-1.4\"><span class=\"toc-item-num\">1.4&nbsp;&nbsp;</span>right, i think i've got the format</a></span><ul class=\"toc-item\"><li><span><a href=\"#Matrix-matching\" data-toc-modified-id=\"Matrix-matching-1.4.1\"><span class=\"toc-item-num\">1.4.1&nbsp;&nbsp;</span>Matrix-matching</a></span></li></ul></li><li><span><a href=\"#speed-tests\" data-toc-modified-id=\"speed-tests-1.5\"><span class=\"toc-item-num\">1.5&nbsp;&nbsp;</span>speed tests</a></span></li><li><span><a href=\"#append-time:-81s-/-.h5\" data-toc-modified-id=\"append-time:-81s-/-.h5-1.6\"><span class=\"toc-item-num\">1.6&nbsp;&nbsp;</span>append time: 81s / .h5</a></span></li><li><span><a href=\"#TIME-issue:\" data-toc-modified-id=\"TIME-issue:-1.7\"><span class=\"toc-item-num\">1.7&nbsp;&nbsp;</span>TIME issue:</a></span><ul class=\"toc-item\"><li><span><a href=\"#matrix-to-DataFrame-directly\" data-toc-modified-id=\"matrix-to-DataFrame-directly-1.7.1\"><span class=\"toc-item-num\">1.7.1&nbsp;&nbsp;</span>matrix to DataFrame directly</a></span></li><li><span><a href=\"#nice.-i-can-just-flatten-the-arrays-and-dataframe-it\" data-toc-modified-id=\"nice.-i-can-just-flatten-the-arrays-and-dataframe-it-1.7.2\"><span class=\"toc-item-num\">1.7.2&nbsp;&nbsp;</span>nice. i can just flatten the arrays and dataframe it</a></span></li></ul></li><li><span><a href=\"#matrix-test:-much-faster,-but-warning\" data-toc-modified-id=\"matrix-test:-much-faster,-but-warning-1.8\"><span class=\"toc-item-num\">1.8&nbsp;&nbsp;</span>matrix test: much faster, but warning</a></span><ul class=\"toc-item\"><li><span><a href=\"#now-build-the-process_all_orbits()\" data-toc-modified-id=\"now-build-the-process_all_orbits()-1.8.1\"><span class=\"toc-item-num\">1.8.1&nbsp;&nbsp;</span>now build the process_all_orbits()</a></span></li></ul></li></ul></li></ul></div>"
   ]
  },
  {
   "cell_type": "markdown",
   "metadata": {},
   "source": [
    "### imports"
   ]
  },
  {
   "cell_type": "code",
   "execution_count": 44,
   "metadata": {},
   "outputs": [],
   "source": [
    "import h5py\n",
    "import os\n",
    "import pandas as pd\n",
    "import numpy as np\n",
    "from os import listdir\n",
    "from os.path import isfile, join\n",
    "import time"
   ]
  },
  {
   "cell_type": "markdown",
   "metadata": {},
   "source": [
    "### functions"
   ]
  },
  {
   "cell_type": "code",
   "execution_count": 154,
   "metadata": {},
   "outputs": [],
   "source": [
    "def peek_dataset(ds): # only works on 2d array datasets\n",
    "    for i in range(ds.shape[0]):\n",
    "        for k in range(ds.shape[1]):\n",
    "            print(ds[i][k])\n",
    "        print('\\n')\n",
    "        \n",
    "def create_base_df():\n",
    "    d = {'lat':[0.0],'long':[0.0],'sat_lat':[0.0],'sat_long':[0.0],'sat_alt':[0.0],'time':[0.0],'sza':[0.0],\n",
    "      'pbl':[0.0],'anom':[0],'cloud':[0.0]}\n",
    "    df = pd.DataFrame(data=d)\n",
    "    return df\n",
    "    \n",
    "\n",
    "def process_orbit_old(df, h5): # pandas DF, string. adds h5's observations to dataframe\n",
    "    f = h5py.File(h5, 'r') # read file\n",
    "    geo = f['GEOLOCATION_DATA'] # h5 Groups architecture is similar to dict\n",
    "    sci = f['SCIENCE_DATA']\n",
    "    c=0\n",
    "    for i in range(320): # track positions during orbit\n",
    "        for k in range(36): # cross positions at each track position\n",
    "            print(f'adding {c}...')\n",
    "            obs = {} # 11,520 max\n",
    "            obs['lat'] = geo['Latitude'][i][k]\n",
    "            obs['long'] = geo['Longitude'][i][k]\n",
    "            obs['sat_lat'] = geo['SpacecraftLatitude'][i] # 1d so just use 1st loop\n",
    "            obs['sat_long'] = geo['SpacecraftLongitude'][i]\n",
    "            obs['time'] = geo['TimeUTC'][i]\n",
    "            obs['sza'] = geo['SolarZenithAngle'][i]\n",
    "            obs['pbl'] = sci['ColumnAmountSO2_PBL'][i][k]\n",
    "            obs['anom'] = sci['Flag_SAA'][i][k]\n",
    "            obs['cloud'] = sci['RadiativeCloudFraction'][i][k]\n",
    "            # we don't have to filter out by SZA, Anomaly etc quite yet. save that for after the data's gathered\n",
    "            df = df.append(obs, ignore_index=True)\n",
    "            c+=1\n",
    "    # end loops\n",
    "    print(f'dataframe length: {len(df)}')\n",
    "    return df"
   ]
  },
  {
   "cell_type": "markdown",
   "metadata": {},
   "source": [
    "# EDA"
   ]
  },
  {
   "cell_type": "code",
   "execution_count": null,
   "metadata": {},
   "outputs": [],
   "source": []
  },
  {
   "cell_type": "code",
   "execution_count": 2,
   "metadata": {},
   "outputs": [],
   "source": [
    "filename = \"many_outs.h5\""
   ]
  },
  {
   "cell_type": "markdown",
   "metadata": {},
   "source": [
    "okay, found the issue\n",
    "- for downloading multiple .h5 files, nasa reccomends:\n",
    "    - cat <url.txt> | tr -d '\\r' | xargs -n 1 curl -LJO -n -c ~/.urs_cookies -b ~/.urs_cookies\n",
    "    - but i was getting some access denied + use --output recommendations. didn't work\n",
    "        - so i tried >> piping it to a file. i could have named it \"data.h5\", maybe? can you store h5s in other h5s?\n",
    "        - i named it 'data.iso' on someone's SO solution\n",
    "        - this went poorly. the data downloaded, but when trying to open it, it seemed super corrupted, even with specific encoding that allowed it to open\n",
    "    - i went back to NASA's downloading instructions and tested the curl cmd with a smaller subset of .h5 files, which worked (i think i had some typos in the cmdline, or i was formatting incorrectly) so i applied it to the original 2012-2020 46gb of data. currently downloading all the .h5s to my home directory, so i'll just have to move them en masse and loop-open them into a dataframe in the project folder (in 5 hours when it downloads)."
   ]
  },
  {
   "cell_type": "code",
   "execution_count": null,
   "metadata": {},
   "outputs": [],
   "source": []
  },
  {
   "cell_type": "code",
   "execution_count": 3,
   "metadata": {},
   "outputs": [],
   "source": [
    "# import os\n",
    "# for filename in os.listdir(os.getcwd()):\n",
    "#    with open(os.path.join(os.cwd(), filename), 'r') as f: # open in readonly mode\n",
    "#       # do your stuff"
   ]
  },
  {
   "cell_type": "code",
   "execution_count": 4,
   "metadata": {
    "scrolled": true
   },
   "outputs": [
    {
     "name": "stdout",
     "output_type": "stream",
     "text": [
      "keys: <KeysViewHDF5 ['ANCILLARY_DATA', 'GEOLOCATION_DATA', 'SCIENCE_DATA', 'nTimes', 'nWavel2', 'nWavel3', 'nXtrack']>\n"
     ]
    }
   ],
   "source": [
    "lst = []\n",
    "for filename in os.listdir(os.getcwd()):\n",
    "    if filename.endswith('.h5'):\n",
    "        with h5py.File(filename, 'r') as f:\n",
    "            print('keys: %s' %f.keys())\n",
    "            a_group_key = list(f.keys())[0]\n",
    "            data = list(f[a_group_key])"
   ]
  },
  {
   "cell_type": "code",
   "execution_count": 5,
   "metadata": {},
   "outputs": [],
   "source": [
    "import h5py\n",
    "f = h5py.File('one.h5', 'r')"
   ]
  },
  {
   "cell_type": "code",
   "execution_count": 6,
   "metadata": {},
   "outputs": [
    {
     "data": {
      "text/plain": [
       "<KeysViewHDF5 ['ANCILLARY_DATA', 'GEOLOCATION_DATA', 'SCIENCE_DATA', 'nTimes', 'nWavel2', 'nWavel3', 'nXtrack']>"
      ]
     },
     "execution_count": 6,
     "metadata": {},
     "output_type": "execute_result"
    }
   ],
   "source": [
    "f.keys()"
   ]
  },
  {
   "cell_type": "code",
   "execution_count": 7,
   "metadata": {},
   "outputs": [
    {
     "name": "stdout",
     "output_type": "stream",
     "text": [
      "ANCILLARY_DATA <class 'h5py._hl.group.Group'> \n",
      "\n",
      "GEOLOCATION_DATA <class 'h5py._hl.group.Group'> \n",
      "\n",
      "SCIENCE_DATA <class 'h5py._hl.group.Group'> \n",
      "\n",
      "nTimes <class 'h5py._hl.dataset.Dataset'> \n",
      "\n",
      "nWavel2 <class 'h5py._hl.dataset.Dataset'> \n",
      "\n",
      "nWavel3 <class 'h5py._hl.dataset.Dataset'> \n",
      "\n",
      "nXtrack <class 'h5py._hl.dataset.Dataset'> \n",
      "\n"
     ]
    }
   ],
   "source": [
    "for k in f.keys():\n",
    "    print(k, type(f[k]), '\\n') # remember to use the key on the dict obj to actually get the type of value"
   ]
  },
  {
   "cell_type": "markdown",
   "metadata": {},
   "source": [
    "- so the root h5py object is a dictionary... of sorts.\n",
    "    - we've got Groups, which are like folders, and Datasets, which are like arrays (but different)"
   ]
  },
  {
   "cell_type": "code",
   "execution_count": null,
   "metadata": {},
   "outputs": [],
   "source": []
  },
  {
   "cell_type": "code",
   "execution_count": 8,
   "metadata": {},
   "outputs": [
    {
     "data": {
      "text/plain": [
       "<KeysViewHDF5 ['Latitude', 'Longitude', 'SolarAzimuthAngle', 'SolarZenithAngle', 'SpacecraftAltitude', 'SpacecraftLatitude', 'SpacecraftLongitude', 'TimeTAI93', 'TimeUTC', 'ViewingAzimuthAngle', 'ViewingZenithAngle']>"
      ]
     },
     "execution_count": 8,
     "metadata": {},
     "output_type": "execute_result"
    }
   ],
   "source": [
    "f['GEOLOCATION_DATA'].keys() # looks like location of Suomi satellite at moment of reading\n",
    "# we're gonna want Latitude and Longitude to identify 'where' the reading is.\n",
    "# maybe TimeUTC as well, that could save a lot of re-coding work for broad regional targeting"
   ]
  },
  {
   "cell_type": "code",
   "execution_count": 9,
   "metadata": {},
   "outputs": [
    {
     "data": {
      "text/plain": [
       "<KeysViewHDF5 ['CloudPressure', 'TerrainPressure']>"
      ]
     },
     "execution_count": 9,
     "metadata": {},
     "output_type": "execute_result"
    }
   ],
   "source": [
    "f['ANCILLARY_DATA'].keys()"
   ]
  },
  {
   "cell_type": "code",
   "execution_count": 10,
   "metadata": {},
   "outputs": [
    {
     "data": {
      "text/plain": [
       "<KeysViewHDF5 ['CloudFraction', 'ColumnAmountO3', 'ColumnAmountSO2_PBL', 'ColumnAmountSO2_STL', 'ColumnAmountSO2_TRL', 'ColumnAmountSO2_TRM', 'ColumnAmountSO2_TRU', 'FittingWindow_STL', 'FittingWindow_TRL', 'FittingWindow_TRM', 'FittingWindow_TRU', 'Flag_SAA', 'Flag_SO2', 'RadiativeCloudFraction', 'Reflectivity331', 'SLER', 'UVAerosolIndex', 'Wavelengths_SLER', 'dNdR', 'nPrincipalComponents']>"
      ]
     },
     "execution_count": 10,
     "metadata": {},
     "output_type": "execute_result"
    }
   ],
   "source": [
    "f['SCIENCE_DATA'].keys()"
   ]
  },
  {
   "cell_type": "markdown",
   "metadata": {},
   "source": [
    "from the NASA dataset description:\n",
    "\n",
    "The goal of this dataset is to create and archive a Level 2 Sulfur Dioxide (SO2) Earth Science Data Record (ESDR) from backscatter Ultraviolet (BUV) measurements from the Ozone Mapping and Profiler Suite (OMPS) Nadir Mapper (NM) flown on the NASA/NOAA Suomi National Polar-orbiting Partnership (S-NPP) satellite since 2011. We apply the NASA Goddard Space Flight Center (GSFC) principal component analysis (PCA) satellite trace gas retrieval algorithm, to obtain the best measurement-based ESDR of volcanic and anthropogenic SO2 loadings and emissions, which is fully consistent with our SO2 ESDR (OMSO2) from the Ozone Monitoring Instrument (OMI) flown on the NASA Earth Observing System (EOS) Aura satellite since 2004. \n",
    "\n",
    "The SO2 ESDR released here at the Goddard Earth Science (GES) Data and Information Data Center (DISC), OMPS_NPP_NMSO2_PCA_L2, is a stand-alone dataset, but will also be part of the NASA's Making Earth System Data Records for Use in Research Environments (MEaSUREs) program. It covers the entire period of the S-NPP/OMPS mission since launch in October 2011, and forward data processing is ongoing. OMPS_NPP_NMSO2_PCA_L2 is a Level 2 orbital swath product, which will be used to study SO2 pollutants emitted from large point sources such as coal-fired power plants and smelters as well as to monitor volcanic SO2 emissions.\n",
    "\n",
    "Sulfur Dioxide (SO2) is a short-lived gas primarily produced by volcanoes, power plants, refineries, metal smelting and burning of fossil fuels. Where SO2 remains near the Earth's surface, it is toxic, causes acid rain, and degrades air quality. Where SO2 is lofted into the free troposphere, it forms aerosols that can alter cloud reflectivity and precipitation. In the stratosphere, volcanic SO2 forms sulfate aerosols that can result in climate change."
   ]
  },
  {
   "cell_type": "markdown",
   "metadata": {},
   "source": [
    "- translation:\n",
    "    - here's SO2 levels by latitude, date & many other variables\n",
    "        - derived from applying PCA algos to Ozone mapping data, which was measured from backscatter ultraviolet readings\n",
    "                - basically, NASA looks at backscattered UV off of the atmosphere - off of ozone, but can effectively derive SO2 from the ozone reading using PCA\n",
    "        - seems convoluted, but it's consistent with their last SO2 reading system from 2004, and it's probably the best estimate the world's got right now (unless anyone would like to step up and accurately measure trace gas concentrations globally every day. seems bloody hard in my opinion)"
   ]
  },
  {
   "cell_type": "markdown",
   "metadata": {},
   "source": [
    "## exploring \"SCIENCE_DATA\""
   ]
  },
  {
   "cell_type": "code",
   "execution_count": 11,
   "metadata": {},
   "outputs": [
    {
     "data": {
      "text/plain": [
       "<KeysViewHDF5 ['CloudFraction', 'ColumnAmountO3', 'ColumnAmountSO2_PBL', 'ColumnAmountSO2_STL', 'ColumnAmountSO2_TRL', 'ColumnAmountSO2_TRM', 'ColumnAmountSO2_TRU', 'FittingWindow_STL', 'FittingWindow_TRL', 'FittingWindow_TRM', 'FittingWindow_TRU', 'Flag_SAA', 'Flag_SO2', 'RadiativeCloudFraction', 'Reflectivity331', 'SLER', 'UVAerosolIndex', 'Wavelengths_SLER', 'dNdR', 'nPrincipalComponents']>"
      ]
     },
     "execution_count": 11,
     "metadata": {},
     "output_type": "execute_result"
    }
   ],
   "source": [
    "f['SCIENCE_DATA'].keys()"
   ]
  },
  {
   "cell_type": "code",
   "execution_count": 12,
   "metadata": {},
   "outputs": [
    {
     "data": {
      "text/plain": [
       "<HDF5 dataset \"ColumnAmountSO2_PBL\": shape (320, 36), type \"<f4\">"
      ]
     },
     "execution_count": 12,
     "metadata": {},
     "output_type": "execute_result"
    }
   ],
   "source": [
    "f['SCIENCE_DATA']['ColumnAmountSO2_PBL']"
   ]
  },
  {
   "cell_type": "code",
   "execution_count": 13,
   "metadata": {},
   "outputs": [],
   "source": [
    "pbl = f['SCIENCE_DATA']['ColumnAmountSO2_PBL']"
   ]
  },
  {
   "cell_type": "code",
   "execution_count": 58,
   "metadata": {},
   "outputs": [
    {
     "data": {
      "text/plain": [
       "<KeysViewHDF5 ['Latitude', 'Longitude', 'SolarAzimuthAngle', 'SolarZenithAngle', 'SpacecraftAltitude', 'SpacecraftLatitude', 'SpacecraftLongitude', 'TimeTAI93', 'TimeUTC', 'ViewingAzimuthAngle', 'ViewingZenithAngle']>"
      ]
     },
     "execution_count": 58,
     "metadata": {},
     "output_type": "execute_result"
    }
   ],
   "source": [
    "geo.keys()"
   ]
  },
  {
   "cell_type": "code",
   "execution_count": 63,
   "metadata": {},
   "outputs": [
    {
     "data": {
      "text/plain": [
       "b'2012-06-05T23:36:57.253489Z'"
      ]
     },
     "execution_count": 63,
     "metadata": {},
     "output_type": "execute_result"
    }
   ],
   "source": [
    "geo['TimeUTC'][310]"
   ]
  },
  {
   "cell_type": "code",
   "execution_count": 15,
   "metadata": {
    "scrolled": true
   },
   "outputs": [],
   "source": [
    "# peek_dataset(pbl) # a 320x36 matrix. now to figure out why there's 11520 readings in this dataset, which is one .h5 file\n"
   ]
  },
  {
   "cell_type": "code",
   "execution_count": 16,
   "metadata": {},
   "outputs": [
    {
     "name": "stdout",
     "output_type": "stream",
     "text": [
      "ColumnAmountSO2_PBL (320, 36)\n",
      "ColumnAmountSO2_STL (320, 36)\n",
      "ColumnAmountSO2_TRL (320, 36)\n",
      "ColumnAmountSO2_TRM (320, 36)\n",
      "ColumnAmountSO2_TRU (320, 36)\n",
      "Flag_SO2 (320, 36)\n"
     ]
    }
   ],
   "source": [
    "for k in f['SCIENCE_DATA'].keys(): # are they all 320x36? probably the SO2 at least\n",
    "#     print(k, type(k))\n",
    "    if 'SO2' in k: # k is a string\n",
    "        print(k, f['SCIENCE_DATA'][k].shape) # yes, the SO2 readings are matched in size.\n",
    "# probably different instruments or estimation methods. perhaps we could aggregate them later on, but they're all going in the dataframe for now"
   ]
  },
  {
   "cell_type": "markdown",
   "metadata": {},
   "source": [
    "### right, i forgot there's a readme explaining everything quite clearly.\n",
    "- units\n",
    "    - 5 estimates (principal components), related to various geophysical processes (ozone absorption, rotational Raman scattering) and instrument measurement details (wavelength shift, dark current)\n",
    "    - PCs used in SO2 spectral fitting to reduce interferences\n",
    "        - so we've got five estimates of total \"SO2 Vertical Column Density\" in Dobson Units (1DU = 2.69 * 10^16 molecules/cm^2)\n",
    "            - note the \"cm^2\". these are flat \"slices\" of a column? no\n",
    "            - each of the 5 estimates corresponds to a different assumed SO2 cloud height, or Center of Mass Altitude (CMA)\n",
    "            - all 5 VCD values represent the estimated total SO2 burden within entire atmospheric column:\n",
    "                - should not be interpreted as partial column amounts within different layers/parts of atmosphere\n",
    "                - they want users to select 1 or interpolate between two estimates that are most representative of conditions for a particular case of interest\n",
    "- so each of the 5 estimates measures with different heights/sensitivities, and therefore are 'tuned' to measure different... types of SO2 emission.\n",
    "    - anthropogenic (coal factories etc) SO2 emissions will look different, and be measured differently from volcanic eruptions\n",
    "    - that sort of thing"
   ]
  },
  {
   "cell_type": "markdown",
   "metadata": {},
   "source": [
    "- PBL: Planetary Boundary Layer\n",
    "    - assumes that SO2 is predominantly in lowest 1km of atmosphere\n",
    "    - use for studies on near-surface pollution\n",
    "        - for each OMPS orbit:\n",
    "            - process 36 rows (cross-track positions) one at a time\n",
    "            - use PCA to extract PCs for spectral range 310.5-340nm from sun-normalized BUV radiance spectra\n",
    "            - PCs are ranked in descending order according to spectral variance that they explain\n",
    "    - due to jacobian simplication, they recommend only using snow/ice free pixels with small radiative cloud fraction\n",
    "- the other 4 column amounts seem to be volcanic\n",
    "### so how do i interpret the 320x36?\n",
    "- wait, they're talking about pixels\n",
    "    - 320x36 is the \"resolution\" of the measurement\n",
    "    \n",
    "#### before i forget, there's probably a library to parse lat/long into geographic regions/cities/countries\n",
    "\n",
    "- it's an \"orbital-track\" product about the SNPP satellite.\n",
    "    - polar sun-synchronous orbit\n",
    "## Data format is based off of instrument format\n",
    "- OMPS-NM has 110° FoV, cross-track swath ~= 2800km\n",
    "    - global coverage,14-15 orbits/day\n",
    "    - \"nominal spatial resolution\" is 50km x 50km at nadir in nominal observation mode\n",
    "        - there's a higher res mode recorded once a week, but that's not in this dataset\n",
    "- for each OMPS orbit, process 36 rows (cross-track positions) use PCA to extract PCs for spectral range from BUV\n",
    "    - so, 320 PCs per position while crossing orbital track?\n",
    "        - what does the lat/long data look like? that might solve this question\n"
   ]
  },
  {
   "cell_type": "code",
   "execution_count": 17,
   "metadata": {},
   "outputs": [
    {
     "name": "stdout",
     "output_type": "stream",
     "text": [
      "(320, 36) (320, 36)\n"
     ]
    }
   ],
   "source": [
    "lat = f['GEOLOCATION_DATA']['Latitude']\n",
    "long = f['GEOLOCATION_DATA']['Longitude']\n",
    "print(lat.shape, long.shape)"
   ]
  },
  {
   "cell_type": "markdown",
   "metadata": {},
   "source": [
    "- so in one .h5's 36x320:\n",
    "    - began at -29, -152: about 1/3 of the way from NZ to Ecuador\n",
    "    - ended at 67, 16: northern middle Norway\n",
    "        - but those aren't the extreme bounds for lat or long.\n",
    "            - without plotting it out, my intuition says it's an oscillating path"
   ]
  },
  {
   "cell_type": "code",
   "execution_count": 18,
   "metadata": {},
   "outputs": [],
   "source": [
    "# peek_dataset(lat)\n",
    "# peek_dataset(long)"
   ]
  },
  {
   "cell_type": "markdown",
   "metadata": {},
   "source": [
    "- now the 50km spatial resolution makes sense.\n",
    "    - we've got 11520 'pixels' or 'granules' (are granules the .h5?)\n",
    "    - each pixel has an SO2 PBL reading, as well as a lat/long\n",
    "        - so the corresponding [x],[y] position in the matrix will match a geolocation to its PBL\n",
    "- warnings from the readme:\n",
    "    - all pixels:\n",
    "        - with large solar zenith angle (SZA>70)\n",
    "        - near edge of swath (rows 1-2, 35-36)\n",
    "        - affected by South Atlantic Anomaly (flag_SAA=1)\n",
    "            - should be excluded\n",
    "    - PBL SO2:\n",
    "        - only use:\n",
    "            - snow/ice free pixels\n",
    "            - with RadiativeCloudFraction (<0.3)\n",
    "            \n",
    "    "
   ]
  },
  {
   "cell_type": "markdown",
   "metadata": {},
   "source": [
    "## filename considerations\n",
    "- each .h5 file contains:\n",
    "    - date/time at start of orbit\n",
    "    - orbit number\n",
    "        - so each .h5 is an orbit. question answered\n",
    "- what about time? that should help me figure out \"unique positions\""
   ]
  },
  {
   "cell_type": "code",
   "execution_count": 19,
   "metadata": {},
   "outputs": [
    {
     "data": {
      "text/plain": [
       "(320,)"
      ]
     },
     "execution_count": 19,
     "metadata": {},
     "output_type": "execute_result"
    }
   ],
   "source": [
    "geo = f['GEOLOCATION_DATA']\n",
    "time = geo['TimeUTC']\n",
    "time.shape # ah"
   ]
  },
  {
   "cell_type": "code",
   "execution_count": 20,
   "metadata": {},
   "outputs": [
    {
     "data": {
      "text/plain": [
       "<KeysViewHDF5 ['Latitude', 'Longitude', 'SolarAzimuthAngle', 'SolarZenithAngle', 'SpacecraftAltitude', 'SpacecraftLatitude', 'SpacecraftLongitude', 'TimeTAI93', 'TimeUTC', 'ViewingAzimuthAngle', 'ViewingZenithAngle']>"
      ]
     },
     "execution_count": 20,
     "metadata": {},
     "output_type": "execute_result"
    }
   ],
   "source": [
    "geo.keys()"
   ]
  },
  {
   "cell_type": "code",
   "execution_count": 21,
   "metadata": {
    "scrolled": true
   },
   "outputs": [
    {
     "data": {
      "text/plain": [
       "(320, 36)"
      ]
     },
     "execution_count": 21,
     "metadata": {},
     "output_type": "execute_result"
    }
   ],
   "source": [
    "lat = geo['Latitude']\n",
    "lat.shape"
   ]
  },
  {
   "cell_type": "code",
   "execution_count": 22,
   "metadata": {},
   "outputs": [
    {
     "data": {
      "text/plain": [
       "-27.383163"
      ]
     },
     "execution_count": 22,
     "metadata": {},
     "output_type": "execute_result"
    }
   ],
   "source": [
    "lat[0][5]"
   ]
  },
  {
   "cell_type": "markdown",
   "metadata": {},
   "source": [
    "- so we've got 320 times per orbit, but 320x36 pixels and 320x36 lat/long coords\n",
    "- that means at 320 times throughout the day, the satellite gathers 36 pixels, and each one has a unique geolocation...?\n",
    "    - the 36 is \"cross-track positions\"\n",
    "        - is it a vertical \"36 slices of column underneath spacecraft\"?\n",
    "            - no\n",
    "            - if that were the case, \n",
    "                - there wouldn't be a separate lat/long for spacecraft as well\n",
    "                    - the \"spacecraft lat/long\" is (320) while \"lat/long\" is (320,36)\n",
    "                    - lines up with 320 timestamps\n",
    "    - how to interpret \"cross-track positions\"\n",
    "        - 36 positions that cross the track (orbital track path over earth's surface)\n",
    "        - so for each 320 position+timestamp along track, there's 36 \"positions\" that cross the track\n",
    "        - i'm assuming it does a left/right sweep below in its 110° fov while continuing \"forwards\"\n",
    "            - this makes the most sense. spacecraft geocoords are 1d, geocoords are 2d, so the 2nd dimension from line to plane has to be added somehow\n",
    "            - i could be stupendously wrong, but let's worry about that later"
   ]
  },
  {
   "cell_type": "code",
   "execution_count": null,
   "metadata": {},
   "outputs": [],
   "source": []
  },
  {
   "cell_type": "markdown",
   "metadata": {},
   "source": [
    "## right, i think i've got the format\n",
    "- each .h5 file is an orbit, with 320 track positions (geocoords+timestamp)\n",
    "    - each track position has 36 cross-track positions, so we get 320x36 matrix for readings+GPS\n",
    "    - each track/crosstrack combo is a 50km x 50km space of earth (i think...)\n",
    "        - the lat/long is decimals, but that can be converted to degrees if needed\n",
    "- for each .h5 file, we've got 11,520 PBL readings, but not all of them will be usable\n",
    "    - ice/snow, large solar zenith angle, south atlantic magnetic interference\n",
    "- and we've got something like... 40,000 or 50,000 h5s, maybe more\n",
    "### Matrix-matching\n",
    "- lat[5][6], long[5][6] and PBT[5][6] will give us the location and reading for the 5th position, 6th cross position\n",
    "    - so we can just write functions to neatly iterate through each h5's file tree and add each 'observation' to a big dataframe\n",
    "    - it's going to be big\n"
   ]
  },
  {
   "cell_type": "code",
   "execution_count": 23,
   "metadata": {},
   "outputs": [],
   "source": [
    "\n",
    "    "
   ]
  },
  {
   "cell_type": "markdown",
   "metadata": {},
   "source": [
    "## speed tests\n",
    "- append or concat? 11,520 matrix elements, 36,000ish orbits"
   ]
  },
  {
   "cell_type": "code",
   "execution_count": null,
   "metadata": {},
   "outputs": [],
   "source": [
    "\n",
    "\n",
    "start = time.time()\n",
    "print(\"hello\")\n",
    "end = time.time()\n",
    "print(end - start)"
   ]
  },
  {
   "cell_type": "code",
   "execution_count": 55,
   "metadata": {},
   "outputs": [],
   "source": [
    "def create_base_df():\n",
    "    d = {'lat':[0.0],'long':[0.0],'sat_lat':[0.0],'sat_long':[0.0],'time':[0.0],'sza':[0.0],\n",
    "      'pbl':[0.0],'anom':[0],'cloud':[0.0]}\n",
    "    df = pd.DataFrame(data=d)\n",
    "    return df\n",
    "\n",
    "def process_orbit_app(df, h5): # pandas DF, string. adds h5's observations to dataframe\n",
    "    start = time.time()\n",
    "    f = h5py.File(h5, 'r') # read file\n",
    "    geo = f['GEOLOCATION_DATA'] # h5 Groups architecture is similar to dict\n",
    "    sci = f['SCIENCE_DATA']\n",
    "    c=0\n",
    "    for i in range(320): # track positions during orbit\n",
    "        for k in range(36): # cross positions at each track position\n",
    "            print(f'adding {c}...')\n",
    "            obs = {} # 11,520 max\n",
    "            obs['lat'] = geo['Latitude'][i][k]\n",
    "            obs['long'] = geo['Longitude'][i][k]\n",
    "            obs['sat_lat'] = geo['SpacecraftLatitude'][i] # 1d so just use 1st loop\n",
    "            obs['sat_long'] = geo['SpacecraftLongitude'][i]\n",
    "            obs['time'] = geo['TimeUTC'][i]\n",
    "            obs['sza'] = geo['SolarZenithAngle'][i]\n",
    "            obs['pbl'] = sci['ColumnAmountSO2_PBL'][i][k]\n",
    "            obs['anom'] = sci['Flag_SAA'][i][k]\n",
    "            obs['cloud'] = sci['RadiativeCloudFraction'][i][k]\n",
    "            # we don't have to filter out by SZA, Anomaly etc quite yet. save that for after the data's gathered\n",
    "            df = df.append(obs, ignore_index=True)\n",
    "            c+=1\n",
    "    # end loops\n",
    "    print(f'dataframe length: {len(df)}')\n",
    "    end = time.time()\n",
    "    print(f'TIME .append()  :  {end - start}')\n",
    "    return df\n",
    "\n",
    "def process_orbit_list(df, h5): # pandas DF, string. adds h5's observations to dataframe\n",
    "#     start = time.time()\n",
    "    f = h5py.File(h5, 'r') # read file\n",
    "    geo = f['GEOLOCATION_DATA'] # h5 Groups architecture is similar to dict\n",
    "    sci = f['SCIENCE_DATA']\n",
    "    c=0\n",
    "    lat, long, sat_lat, sat_long, time, sza, pbl, anom, cloud = ([] for i in range(9)) # create 9 empty lists\n",
    "    for i in range(320): # track positions during orbit\n",
    "        for k in range(36): # cross positions at each track position\n",
    "            print(f'adding {c}...') # add to each list\n",
    "            lat.append(geo['Latitude'][i][k])\n",
    "            long.append(geo['Longitude'][i][k])\n",
    "            sat_lat.append(geo['SpacecraftLatitude'][i]) # 1d so just use 1st loop\n",
    "            sat_long.append(geo['SpacecraftLongitude'][i])\n",
    "            time.append(geo['TimeUTC'][i])\n",
    "            sza.append(geo['SolarZenithAngle'][i])\n",
    "            pbl.append(sci['ColumnAmountSO2_PBL'][i][k])\n",
    "            anom.append(sci['Flag_SAA'][i][k])\n",
    "            cloud.append(sci['RadiativeCloudFraction'][i][k])\n",
    "            # we don't have to filter out by SZA, Anomaly etc quite yet. save that for after the data's gathered\n",
    "            c+=1\n",
    "    # end loops\n",
    "    df = pd.DataFrame(list(zip(lat, long, sat_lat, sat_long, time, sza, pbl, anom, cloud)),\n",
    "                     columns=[\"lat\", \"long\", \"sat_lat\", \"sat_long\", \"time\", \"sza\", \"pbl\", \"anom\", \"cloud\"])\n",
    "    print(f'dataframe length: {len(df)}')\n",
    "#     end = time.time()\n",
    "#     print(f'TIME .append()  :  {end - start}')\n",
    "    return df"
   ]
  },
  {
   "cell_type": "code",
   "execution_count": 48,
   "metadata": {},
   "outputs": [],
   "source": [
    "def make_df(cols, ind):\n",
    "    \"\"\"Quickly make a DataFrame\"\"\"\n",
    "    data = {c: [str(c) + str(i) for i in ind]\n",
    "            for c in cols}\n",
    "    return pd.DataFrame(data, ind)\n"
   ]
  },
  {
   "cell_type": "code",
   "execution_count": 49,
   "metadata": {},
   "outputs": [
    {
     "data": {
      "text/plain": [
       "'df3'"
      ]
     },
     "metadata": {},
     "output_type": "display_data"
    },
    {
     "data": {
      "text/plain": [
       "'df4'"
      ]
     },
     "metadata": {},
     "output_type": "display_data"
    },
    {
     "data": {
      "text/plain": [
       "\"pd.concat([df3, df4], axis='col')\""
      ]
     },
     "metadata": {},
     "output_type": "display_data"
    }
   ],
   "source": [
    "df3 = make_df('AB', [0, 1])\n",
    "df4 = make_df('CD', [0, 1])\n",
    "display('df3', 'df4', \"pd.concat([df3, df4], axis='col')\")"
   ]
  },
  {
   "cell_type": "code",
   "execution_count": 51,
   "metadata": {},
   "outputs": [
    {
     "data": {
      "text/html": [
       "<div>\n",
       "<style scoped>\n",
       "    .dataframe tbody tr th:only-of-type {\n",
       "        vertical-align: middle;\n",
       "    }\n",
       "\n",
       "    .dataframe tbody tr th {\n",
       "        vertical-align: top;\n",
       "    }\n",
       "\n",
       "    .dataframe thead th {\n",
       "        text-align: right;\n",
       "    }\n",
       "</style>\n",
       "<table border=\"1\" class=\"dataframe\">\n",
       "  <thead>\n",
       "    <tr style=\"text-align: right;\">\n",
       "      <th></th>\n",
       "      <th>A</th>\n",
       "      <th>B</th>\n",
       "      <th>C</th>\n",
       "      <th>D</th>\n",
       "    </tr>\n",
       "  </thead>\n",
       "  <tbody>\n",
       "    <tr>\n",
       "      <td>0</td>\n",
       "      <td>A0</td>\n",
       "      <td>B0</td>\n",
       "      <td>C0</td>\n",
       "      <td>D0</td>\n",
       "    </tr>\n",
       "    <tr>\n",
       "      <td>1</td>\n",
       "      <td>A1</td>\n",
       "      <td>B1</td>\n",
       "      <td>C1</td>\n",
       "      <td>D1</td>\n",
       "    </tr>\n",
       "  </tbody>\n",
       "</table>\n",
       "</div>"
      ],
      "text/plain": [
       "    A   B   C   D\n",
       "0  A0  B0  C0  D0\n",
       "1  A1  B1  C1  D1"
      ]
     },
     "execution_count": 51,
     "metadata": {},
     "output_type": "execute_result"
    }
   ],
   "source": [
    "pd.concat([df3, df4], axis=1)"
   ]
  },
  {
   "cell_type": "code",
   "execution_count": 52,
   "metadata": {},
   "outputs": [],
   "source": [
    "# list of strings \n",
    "lst = ['Geeks', 'For', 'Geeks', 'is', 'portal', 'for', 'Geeks'] \n",
    "  \n",
    "# list of int \n",
    "lst2 = [11, 22, 33, 44, 55, 66, 77] \n",
    "lst3 = ['a','b','c','d','e','f','g']\n",
    "  \n",
    "# Calling DataFrame constructor after zipping \n",
    "# both lists, with columns specified \n",
    "df = pd.DataFrame(list(zip(lst, lst2, lst3)), \n",
    "               columns =['Name', 'val', 'chr']) "
   ]
  },
  {
   "cell_type": "code",
   "execution_count": 53,
   "metadata": {},
   "outputs": [
    {
     "data": {
      "text/html": [
       "<div>\n",
       "<style scoped>\n",
       "    .dataframe tbody tr th:only-of-type {\n",
       "        vertical-align: middle;\n",
       "    }\n",
       "\n",
       "    .dataframe tbody tr th {\n",
       "        vertical-align: top;\n",
       "    }\n",
       "\n",
       "    .dataframe thead th {\n",
       "        text-align: right;\n",
       "    }\n",
       "</style>\n",
       "<table border=\"1\" class=\"dataframe\">\n",
       "  <thead>\n",
       "    <tr style=\"text-align: right;\">\n",
       "      <th></th>\n",
       "      <th>Name</th>\n",
       "      <th>val</th>\n",
       "      <th>chr</th>\n",
       "    </tr>\n",
       "  </thead>\n",
       "  <tbody>\n",
       "    <tr>\n",
       "      <td>0</td>\n",
       "      <td>Geeks</td>\n",
       "      <td>11</td>\n",
       "      <td>a</td>\n",
       "    </tr>\n",
       "    <tr>\n",
       "      <td>1</td>\n",
       "      <td>For</td>\n",
       "      <td>22</td>\n",
       "      <td>b</td>\n",
       "    </tr>\n",
       "    <tr>\n",
       "      <td>2</td>\n",
       "      <td>Geeks</td>\n",
       "      <td>33</td>\n",
       "      <td>c</td>\n",
       "    </tr>\n",
       "    <tr>\n",
       "      <td>3</td>\n",
       "      <td>is</td>\n",
       "      <td>44</td>\n",
       "      <td>d</td>\n",
       "    </tr>\n",
       "    <tr>\n",
       "      <td>4</td>\n",
       "      <td>portal</td>\n",
       "      <td>55</td>\n",
       "      <td>e</td>\n",
       "    </tr>\n",
       "    <tr>\n",
       "      <td>5</td>\n",
       "      <td>for</td>\n",
       "      <td>66</td>\n",
       "      <td>f</td>\n",
       "    </tr>\n",
       "    <tr>\n",
       "      <td>6</td>\n",
       "      <td>Geeks</td>\n",
       "      <td>77</td>\n",
       "      <td>g</td>\n",
       "    </tr>\n",
       "  </tbody>\n",
       "</table>\n",
       "</div>"
      ],
      "text/plain": [
       "     Name  val chr\n",
       "0   Geeks   11   a\n",
       "1     For   22   b\n",
       "2   Geeks   33   c\n",
       "3      is   44   d\n",
       "4  portal   55   e\n",
       "5     for   66   f\n",
       "6   Geeks   77   g"
      ]
     },
     "execution_count": 53,
     "metadata": {},
     "output_type": "execute_result"
    }
   ],
   "source": [
    "df"
   ]
  },
  {
   "cell_type": "code",
   "execution_count": null,
   "metadata": {},
   "outputs": [],
   "source": []
  },
  {
   "cell_type": "code",
   "execution_count": 57,
   "metadata": {},
   "outputs": [
    {
     "name": "stdout",
     "output_type": "stream",
     "text": [
      "adding 0...\n",
      "adding 1...\n",
      "adding 2...\n",
      "adding 3...\n",
      "adding 4...\n",
      "adding 5...\n",
      "adding 6...\n",
      "adding 7...\n",
      "adding 8...\n",
      "adding 9...\n",
      "adding 10...\n",
      "adding 11...\n",
      "adding 12...\n",
      "adding 13...\n",
      "adding 14...\n",
      "adding 15...\n",
      "adding 16...\n",
      "adding 17...\n",
      "adding 18...\n",
      "adding 19...\n",
      "adding 20...\n",
      "adding 21...\n",
      "adding 22...\n",
      "adding 23...\n",
      "adding 24...\n",
      "adding 25...\n",
      "adding 26...\n",
      "adding 27...\n",
      "adding 28...\n",
      "adding 29...\n",
      "adding 30...\n",
      "adding 31...\n",
      "adding 32...\n",
      "adding 33...\n",
      "adding 34...\n",
      "adding 35...\n",
      "adding 36...\n",
      "adding 37...\n",
      "adding 38...\n",
      "adding 39...\n",
      "adding 40...\n",
      "adding 41...\n",
      "adding 42...\n",
      "adding 43...\n",
      "adding 44...\n",
      "adding 45...\n",
      "adding 46...\n",
      "adding 47...\n",
      "adding 48...\n",
      "adding 49...\n",
      "adding 50...\n",
      "adding 51...\n",
      "adding 52...\n",
      "adding 53...\n",
      "adding 54...\n",
      "adding 55...\n",
      "adding 56...\n",
      "adding 57...\n",
      "adding 58...\n",
      "adding 59...\n",
      "adding 60...\n",
      "adding 61...\n",
      "adding 62...\n",
      "adding 63...\n",
      "adding 64...\n",
      "adding 65...\n",
      "adding 66...\n",
      "adding 67...\n",
      "adding 68...\n",
      "adding 69...\n",
      "adding 70...\n",
      "adding 71...\n",
      "adding 72...\n",
      "adding 73...\n",
      "adding 74...\n",
      "adding 75...\n",
      "adding 76...\n",
      "adding 77...\n",
      "adding 78...\n",
      "adding 79...\n",
      "adding 80...\n",
      "adding 81...\n",
      "adding 82...\n",
      "adding 83...\n",
      "adding 84...\n",
      "adding 85...\n",
      "adding 86...\n",
      "adding 87...\n",
      "adding 88...\n",
      "adding 89...\n",
      "adding 90...\n",
      "adding 91...\n",
      "adding 92...\n",
      "adding 93...\n",
      "adding 94...\n",
      "adding 95...\n",
      "adding 96...\n",
      "adding 97...\n",
      "adding 98...\n",
      "adding 99...\n",
      "adding 100...\n",
      "adding 101...\n",
      "adding 102...\n",
      "adding 103...\n",
      "adding 104...\n",
      "adding 105...\n",
      "adding 106...\n",
      "adding 107...\n",
      "adding 108...\n",
      "adding 109...\n",
      "adding 110...\n",
      "adding 111...\n",
      "adding 112...\n",
      "adding 113...\n",
      "adding 114...\n",
      "adding 115...\n",
      "adding 116...\n",
      "adding 117...\n",
      "adding 118...\n",
      "adding 119...\n",
      "adding 120...\n",
      "adding 121...\n",
      "adding 122...\n",
      "adding 123...\n",
      "adding 124...\n",
      "adding 125...\n",
      "adding 126...\n",
      "adding 127...\n",
      "adding 128...\n",
      "adding 129...\n",
      "adding 130...\n",
      "adding 131...\n",
      "adding 132...\n",
      "adding 133...\n",
      "adding 134...\n",
      "adding 135...\n",
      "adding 136...\n",
      "adding 137...\n",
      "adding 138...\n",
      "adding 139...\n",
      "adding 140...\n",
      "adding 141...\n",
      "adding 142...\n",
      "adding 143...\n",
      "adding 144...\n",
      "adding 145...\n",
      "adding 146...\n",
      "adding 147...\n",
      "adding 148...\n",
      "adding 149...\n",
      "adding 150...\n",
      "adding 151...\n",
      "adding 152...\n",
      "adding 153...\n",
      "adding 154...\n",
      "adding 155...\n",
      "adding 156...\n",
      "adding 157...\n",
      "adding 158...\n",
      "adding 159...\n",
      "adding 160...\n",
      "adding 161...\n",
      "adding 162...\n",
      "adding 163...\n",
      "adding 164...\n",
      "adding 165...\n",
      "adding 166...\n",
      "adding 167...\n",
      "adding 168...\n",
      "adding 169...\n",
      "adding 170...\n",
      "adding 171...\n",
      "adding 172...\n",
      "adding 173...\n",
      "adding 174...\n",
      "adding 175...\n",
      "adding 176...\n",
      "adding 177...\n",
      "adding 178...\n",
      "adding 179...\n",
      "adding 180...\n",
      "adding 181...\n",
      "adding 182...\n",
      "adding 183...\n",
      "adding 184...\n",
      "adding 185...\n",
      "adding 186...\n",
      "adding 187...\n",
      "adding 188...\n",
      "adding 189...\n",
      "adding 190...\n",
      "adding 191...\n",
      "adding 192...\n",
      "adding 193...\n",
      "adding 194...\n",
      "adding 195...\n",
      "adding 196...\n",
      "adding 197...\n",
      "adding 198...\n",
      "adding 199...\n",
      "adding 200...\n",
      "adding 201...\n",
      "adding 202...\n",
      "adding 203...\n",
      "adding 204...\n",
      "adding 205...\n",
      "adding 206...\n",
      "adding 207...\n",
      "adding 208...\n",
      "adding 209...\n",
      "adding 210...\n",
      "adding 211...\n",
      "adding 212...\n",
      "adding 213...\n",
      "adding 214...\n",
      "adding 215...\n",
      "adding 216...\n",
      "adding 217...\n",
      "adding 218...\n",
      "adding 219...\n",
      "adding 220...\n",
      "adding 221...\n",
      "adding 222...\n",
      "adding 223...\n",
      "adding 224...\n",
      "adding 225...\n",
      "adding 226...\n",
      "adding 227...\n",
      "adding 228...\n",
      "adding 229...\n",
      "adding 230...\n",
      "adding 231...\n",
      "adding 232...\n",
      "adding 233...\n",
      "adding 234...\n",
      "adding 235...\n",
      "adding 236...\n",
      "adding 237...\n",
      "adding 238...\n",
      "adding 239...\n",
      "adding 240...\n",
      "adding 241...\n",
      "adding 242...\n",
      "adding 243...\n",
      "adding 244...\n",
      "adding 245...\n",
      "adding 246...\n",
      "adding 247...\n",
      "adding 248...\n",
      "adding 249...\n",
      "adding 250...\n",
      "adding 251...\n",
      "adding 252...\n",
      "adding 253...\n",
      "adding 254...\n",
      "adding 255...\n",
      "adding 256...\n",
      "adding 257...\n",
      "adding 258...\n",
      "adding 259...\n",
      "adding 260...\n",
      "adding 261...\n",
      "adding 262...\n",
      "adding 263...\n",
      "adding 264...\n",
      "adding 265...\n",
      "adding 266...\n",
      "adding 267...\n",
      "adding 268...\n",
      "adding 269...\n",
      "adding 270...\n",
      "adding 271...\n",
      "adding 272...\n",
      "adding 273...\n",
      "adding 274...\n",
      "adding 275...\n",
      "adding 276...\n",
      "adding 277...\n",
      "adding 278...\n",
      "adding 279...\n",
      "adding 280...\n",
      "adding 281...\n",
      "adding 282...\n",
      "adding 283...\n",
      "adding 284...\n",
      "adding 285...\n",
      "adding 286...\n",
      "adding 287...\n",
      "adding 288...\n",
      "adding 289...\n",
      "adding 290...\n",
      "adding 291...\n",
      "adding 292...\n",
      "adding 293...\n",
      "adding 294...\n",
      "adding 295...\n",
      "adding 296...\n",
      "adding 297...\n",
      "adding 298...\n",
      "adding 299...\n",
      "adding 300...\n",
      "adding 301...\n",
      "adding 302...\n",
      "adding 303...\n",
      "adding 304...\n",
      "adding 305...\n",
      "adding 306...\n",
      "adding 307...\n",
      "adding 308...\n",
      "adding 309...\n",
      "adding 310...\n",
      "adding 311...\n",
      "adding 312...\n",
      "adding 313...\n",
      "adding 314...\n",
      "adding 315...\n",
      "adding 316...\n",
      "adding 317...\n",
      "adding 318...\n",
      "adding 319...\n",
      "adding 320...\n",
      "adding 321...\n",
      "adding 322...\n",
      "adding 323...\n",
      "adding 324...\n",
      "adding 325...\n",
      "adding 326...\n",
      "adding 327...\n",
      "adding 328...\n",
      "adding 329...\n",
      "adding 330...\n",
      "adding 331...\n",
      "adding 332...\n",
      "adding 333...\n",
      "adding 334...\n",
      "adding 335...\n",
      "adding 336...\n",
      "adding 337...\n",
      "adding 338...\n",
      "adding 339...\n",
      "adding 340...\n",
      "adding 341...\n",
      "adding 342...\n",
      "adding 343...\n",
      "adding 344...\n",
      "adding 345...\n",
      "adding 346...\n",
      "adding 347...\n",
      "adding 348...\n",
      "adding 349...\n",
      "adding 350...\n",
      "adding 351...\n",
      "adding 352...\n",
      "adding 353...\n",
      "adding 354...\n",
      "adding 355...\n",
      "adding 356...\n",
      "adding 357...\n",
      "adding 358...\n",
      "adding 359...\n",
      "adding 360...\n",
      "adding 361...\n",
      "adding 362...\n",
      "adding 363...\n",
      "adding 364...\n",
      "adding 365...\n",
      "adding 366...\n",
      "adding 367...\n",
      "adding 368...\n",
      "adding 369...\n",
      "adding 370...\n",
      "adding 371...\n",
      "adding 372...\n",
      "adding 373...\n",
      "adding 374...\n",
      "adding 375...\n",
      "adding 376...\n",
      "adding 377...\n",
      "adding 378...\n",
      "adding 379...\n",
      "adding 380...\n",
      "adding 381...\n",
      "adding 382...\n",
      "adding 383...\n",
      "adding 384...\n",
      "adding 385...\n",
      "adding 386...\n",
      "adding 387...\n",
      "adding 388...\n",
      "adding 389...\n",
      "adding 390...\n",
      "adding 391...\n",
      "adding 392...\n",
      "adding 393...\n",
      "adding 394...\n",
      "adding 395...\n",
      "adding 396...\n",
      "adding 397...\n",
      "adding 398...\n",
      "adding 399...\n",
      "adding 400...\n",
      "adding 401...\n",
      "adding 402...\n",
      "adding 403...\n",
      "adding 404...\n",
      "adding 405...\n",
      "adding 406...\n",
      "adding 407...\n",
      "adding 408...\n",
      "adding 409...\n",
      "adding 410...\n",
      "adding 411...\n",
      "adding 412...\n",
      "adding 413...\n",
      "adding 414...\n",
      "adding 415...\n",
      "adding 416...\n",
      "adding 417...\n",
      "adding 418...\n",
      "adding 419...\n",
      "adding 420...\n",
      "adding 421...\n",
      "adding 422...\n",
      "adding 423...\n",
      "adding 424...\n",
      "adding 425...\n",
      "adding 426...\n",
      "adding 427...\n",
      "adding 428...\n",
      "adding 429...\n",
      "adding 430...\n",
      "adding 431...\n",
      "adding 432...\n",
      "adding 433...\n",
      "adding 434...\n",
      "adding 435...\n",
      "adding 436...\n",
      "adding 437...\n",
      "adding 438...\n",
      "adding 439...\n",
      "adding 440...\n",
      "adding 441...\n",
      "adding 442...\n",
      "adding 443...\n",
      "adding 444...\n",
      "adding 445...\n",
      "adding 446...\n",
      "adding 447...\n",
      "adding 448...\n",
      "adding 449...\n",
      "adding 450...\n",
      "adding 451...\n",
      "adding 452...\n",
      "adding 453...\n",
      "adding 454...\n",
      "adding 455...\n",
      "adding 456...\n",
      "adding 457...\n",
      "adding 458...\n",
      "adding 459...\n",
      "adding 460...\n",
      "adding 461...\n",
      "adding 462...\n",
      "adding 463...\n",
      "adding 464...\n",
      "adding 465...\n",
      "adding 466...\n",
      "adding 467...\n",
      "adding 468...\n",
      "adding 469...\n",
      "adding 470...\n",
      "adding 471...\n",
      "adding 472...\n",
      "adding 473...\n",
      "adding 474...\n",
      "adding 475...\n",
      "adding 476...\n",
      "adding 477...\n",
      "adding 478...\n",
      "adding 479...\n",
      "adding 480...\n",
      "adding 481...\n",
      "adding 482...\n",
      "adding 483...\n",
      "adding 484...\n",
      "adding 485...\n",
      "adding 486...\n",
      "adding 487...\n",
      "adding 488...\n",
      "adding 489...\n",
      "adding 490...\n",
      "adding 491...\n",
      "adding 492...\n",
      "adding 493...\n",
      "adding 494...\n",
      "adding 495...\n",
      "adding 496...\n",
      "adding 497...\n",
      "adding 498...\n",
      "adding 499...\n",
      "adding 500...\n",
      "adding 501...\n",
      "adding 502...\n",
      "adding 503...\n",
      "adding 504...\n",
      "adding 505...\n",
      "adding 506...\n",
      "adding 507...\n",
      "adding 508...\n",
      "adding 509...\n",
      "adding 510...\n",
      "adding 511...\n",
      "adding 512...\n",
      "adding 513...\n",
      "adding 514...\n",
      "adding 515...\n",
      "adding 516...\n",
      "adding 517...\n",
      "adding 518...\n",
      "adding 519...\n",
      "adding 520...\n",
      "adding 521...\n",
      "adding 522...\n",
      "adding 523...\n",
      "adding 524...\n",
      "adding 525...\n",
      "adding 526...\n",
      "adding 527...\n",
      "adding 528...\n",
      "adding 529...\n",
      "adding 530...\n",
      "adding 531...\n",
      "adding 532...\n",
      "adding 533...\n",
      "adding 534...\n",
      "adding 535...\n",
      "adding 536...\n",
      "adding 537...\n",
      "adding 538...\n",
      "adding 539...\n",
      "adding 540...\n",
      "adding 541...\n",
      "adding 542...\n",
      "adding 543...\n",
      "adding 544...\n",
      "adding 545...\n",
      "adding 546...\n",
      "adding 547...\n",
      "adding 548...\n",
      "adding 549...\n",
      "adding 550...\n",
      "adding 551...\n",
      "adding 552...\n",
      "adding 553...\n",
      "adding 554...\n",
      "adding 555...\n",
      "adding 556...\n",
      "adding 557...\n",
      "adding 558...\n",
      "adding 559...\n",
      "adding 560...\n",
      "adding 561...\n",
      "adding 562...\n",
      "adding 563...\n",
      "adding 564...\n",
      "adding 565...\n",
      "adding 566...\n",
      "adding 567...\n",
      "adding 568...\n",
      "adding 569...\n",
      "adding 570...\n",
      "adding 571...\n",
      "adding 572...\n",
      "adding 573...\n",
      "adding 574...\n",
      "adding 575...\n",
      "adding 576...\n",
      "adding 577...\n",
      "adding 578...\n",
      "adding 579...\n",
      "adding 580...\n",
      "adding 581...\n",
      "adding 582...\n",
      "adding 583...\n",
      "adding 584...\n",
      "adding 585...\n",
      "adding 586...\n",
      "adding 587...\n",
      "adding 588...\n",
      "adding 589...\n",
      "adding 590...\n",
      "adding 591...\n",
      "adding 592...\n",
      "adding 593...\n",
      "adding 594...\n",
      "adding 595...\n",
      "adding 596...\n",
      "adding 597...\n",
      "adding 598...\n",
      "adding 599...\n",
      "adding 600...\n",
      "adding 601...\n",
      "adding 602...\n",
      "adding 603...\n",
      "adding 604...\n",
      "adding 605...\n",
      "adding 606...\n",
      "adding 607...\n",
      "adding 608...\n",
      "adding 609...\n",
      "adding 610...\n",
      "adding 611...\n",
      "adding 612...\n",
      "adding 613...\n"
     ]
    },
    {
     "name": "stdout",
     "output_type": "stream",
     "text": [
      "adding 614...\n",
      "adding 615...\n",
      "adding 616...\n",
      "adding 617...\n",
      "adding 618...\n",
      "adding 619...\n",
      "adding 620...\n",
      "adding 621...\n",
      "adding 622...\n",
      "adding 623...\n",
      "adding 624...\n",
      "adding 625...\n",
      "adding 626...\n",
      "adding 627...\n",
      "adding 628...\n",
      "adding 629...\n",
      "adding 630...\n",
      "adding 631...\n",
      "adding 632...\n",
      "adding 633...\n",
      "adding 634...\n",
      "adding 635...\n",
      "adding 636...\n",
      "adding 637...\n",
      "adding 638...\n",
      "adding 639...\n",
      "adding 640...\n",
      "adding 641...\n",
      "adding 642...\n",
      "adding 643...\n",
      "adding 644...\n",
      "adding 645...\n",
      "adding 646...\n",
      "adding 647...\n",
      "adding 648...\n",
      "adding 649...\n",
      "adding 650...\n",
      "adding 651...\n",
      "adding 652...\n",
      "adding 653...\n",
      "adding 654...\n",
      "adding 655...\n",
      "adding 656...\n",
      "adding 657...\n",
      "adding 658...\n",
      "adding 659...\n",
      "adding 660...\n",
      "adding 661...\n",
      "adding 662...\n",
      "adding 663...\n",
      "adding 664...\n",
      "adding 665...\n",
      "adding 666...\n",
      "adding 667...\n",
      "adding 668...\n",
      "adding 669...\n",
      "adding 670...\n",
      "adding 671...\n",
      "adding 672...\n",
      "adding 673...\n",
      "adding 674...\n",
      "adding 675...\n",
      "adding 676...\n",
      "adding 677...\n",
      "adding 678...\n",
      "adding 679...\n",
      "adding 680...\n",
      "adding 681...\n",
      "adding 682...\n",
      "adding 683...\n",
      "adding 684...\n",
      "adding 685...\n",
      "adding 686...\n",
      "adding 687...\n",
      "adding 688...\n",
      "adding 689...\n",
      "adding 690...\n",
      "adding 691...\n",
      "adding 692...\n",
      "adding 693...\n",
      "adding 694...\n",
      "adding 695...\n",
      "adding 696...\n",
      "adding 697...\n",
      "adding 698...\n",
      "adding 699...\n",
      "adding 700...\n",
      "adding 701...\n",
      "adding 702...\n",
      "adding 703...\n",
      "adding 704...\n",
      "adding 705...\n",
      "adding 706...\n",
      "adding 707...\n",
      "adding 708...\n",
      "adding 709...\n",
      "adding 710...\n",
      "adding 711...\n",
      "adding 712...\n",
      "adding 713...\n",
      "adding 714...\n",
      "adding 715...\n",
      "adding 716...\n",
      "adding 717...\n",
      "adding 718...\n",
      "adding 719...\n",
      "adding 720...\n",
      "adding 721...\n",
      "adding 722...\n",
      "adding 723...\n",
      "adding 724...\n",
      "adding 725...\n",
      "adding 726...\n",
      "adding 727...\n",
      "adding 728...\n",
      "adding 729...\n",
      "adding 730...\n",
      "adding 731...\n",
      "adding 732...\n",
      "adding 733...\n",
      "adding 734...\n",
      "adding 735...\n",
      "adding 736...\n",
      "adding 737...\n",
      "adding 738...\n",
      "adding 739...\n",
      "adding 740...\n",
      "adding 741...\n",
      "adding 742...\n",
      "adding 743...\n",
      "adding 744...\n",
      "adding 745...\n",
      "adding 746...\n",
      "adding 747...\n",
      "adding 748...\n",
      "adding 749...\n",
      "adding 750...\n",
      "adding 751...\n",
      "adding 752...\n",
      "adding 753...\n",
      "adding 754...\n",
      "adding 755...\n",
      "adding 756...\n",
      "adding 757...\n",
      "adding 758...\n",
      "adding 759...\n",
      "adding 760...\n",
      "adding 761...\n",
      "adding 762...\n",
      "adding 763...\n",
      "adding 764...\n",
      "adding 765...\n",
      "adding 766...\n",
      "adding 767...\n",
      "adding 768...\n",
      "adding 769...\n",
      "adding 770...\n",
      "adding 771...\n",
      "adding 772...\n",
      "adding 773...\n",
      "adding 774...\n",
      "adding 775...\n",
      "adding 776...\n",
      "adding 777...\n",
      "adding 778...\n",
      "adding 779...\n",
      "adding 780...\n",
      "adding 781...\n",
      "adding 782...\n",
      "adding 783...\n",
      "adding 784...\n",
      "adding 785...\n",
      "adding 786...\n",
      "adding 787...\n",
      "adding 788...\n",
      "adding 789...\n",
      "adding 790...\n",
      "adding 791...\n",
      "adding 792...\n",
      "adding 793...\n",
      "adding 794...\n",
      "adding 795...\n",
      "adding 796...\n",
      "adding 797...\n",
      "adding 798...\n",
      "adding 799...\n",
      "adding 800...\n",
      "adding 801...\n",
      "adding 802...\n",
      "adding 803...\n",
      "adding 804...\n",
      "adding 805...\n",
      "adding 806...\n",
      "adding 807...\n",
      "adding 808...\n",
      "adding 809...\n",
      "adding 810...\n",
      "adding 811...\n",
      "adding 812...\n",
      "adding 813...\n",
      "adding 814...\n",
      "adding 815...\n",
      "adding 816...\n",
      "adding 817...\n",
      "adding 818...\n",
      "adding 819...\n",
      "adding 820...\n",
      "adding 821...\n",
      "adding 822...\n",
      "adding 823...\n",
      "adding 824...\n",
      "adding 825...\n",
      "adding 826...\n",
      "adding 827...\n",
      "adding 828...\n",
      "adding 829...\n",
      "adding 830...\n",
      "adding 831...\n",
      "adding 832...\n",
      "adding 833...\n",
      "adding 834...\n",
      "adding 835...\n",
      "adding 836...\n",
      "adding 837...\n",
      "adding 838...\n",
      "adding 839...\n",
      "adding 840...\n",
      "adding 841...\n",
      "adding 842...\n",
      "adding 843...\n",
      "adding 844...\n",
      "adding 845...\n",
      "adding 846...\n",
      "adding 847...\n",
      "adding 848...\n",
      "adding 849...\n",
      "adding 850...\n",
      "adding 851...\n",
      "adding 852...\n",
      "adding 853...\n",
      "adding 854...\n",
      "adding 855...\n",
      "adding 856...\n",
      "adding 857...\n",
      "adding 858...\n",
      "adding 859...\n",
      "adding 860...\n",
      "adding 861...\n",
      "adding 862...\n",
      "adding 863...\n",
      "adding 864...\n",
      "adding 865...\n",
      "adding 866...\n",
      "adding 867...\n",
      "adding 868...\n",
      "adding 869...\n",
      "adding 870...\n",
      "adding 871...\n",
      "adding 872...\n",
      "adding 873...\n",
      "adding 874...\n",
      "adding 875...\n",
      "adding 876...\n",
      "adding 877...\n",
      "adding 878...\n",
      "adding 879...\n",
      "adding 880...\n",
      "adding 881...\n",
      "adding 882...\n",
      "adding 883...\n",
      "adding 884...\n",
      "adding 885...\n",
      "adding 886...\n",
      "adding 887...\n",
      "adding 888...\n",
      "adding 889...\n",
      "adding 890...\n",
      "adding 891...\n",
      "adding 892...\n",
      "adding 893...\n",
      "adding 894...\n",
      "adding 895...\n",
      "adding 896...\n",
      "adding 897...\n",
      "adding 898...\n",
      "adding 899...\n",
      "adding 900...\n",
      "adding 901...\n",
      "adding 902...\n",
      "adding 903...\n",
      "adding 904...\n",
      "adding 905...\n",
      "adding 906...\n",
      "adding 907...\n",
      "adding 908...\n",
      "adding 909...\n",
      "adding 910...\n",
      "adding 911...\n",
      "adding 912...\n",
      "adding 913...\n",
      "adding 914...\n",
      "adding 915...\n",
      "adding 916...\n",
      "adding 917...\n",
      "adding 918...\n",
      "adding 919...\n",
      "adding 920...\n",
      "adding 921...\n",
      "adding 922...\n",
      "adding 923...\n",
      "adding 924...\n",
      "adding 925...\n",
      "adding 926...\n",
      "adding 927...\n",
      "adding 928...\n",
      "adding 929...\n",
      "adding 930...\n",
      "adding 931...\n",
      "adding 932...\n",
      "adding 933...\n",
      "adding 934...\n",
      "adding 935...\n",
      "adding 936...\n",
      "adding 937...\n",
      "adding 938...\n",
      "adding 939...\n",
      "adding 940...\n",
      "adding 941...\n",
      "adding 942...\n",
      "adding 943...\n",
      "adding 944...\n",
      "adding 945...\n",
      "adding 946...\n",
      "adding 947...\n",
      "adding 948...\n",
      "adding 949...\n",
      "adding 950...\n",
      "adding 951...\n",
      "adding 952...\n",
      "adding 953...\n",
      "adding 954...\n",
      "adding 955...\n",
      "adding 956...\n",
      "adding 957...\n",
      "adding 958...\n",
      "adding 959...\n",
      "adding 960...\n",
      "adding 961...\n",
      "adding 962...\n",
      "adding 963...\n",
      "adding 964...\n",
      "adding 965...\n",
      "adding 966...\n",
      "adding 967...\n",
      "adding 968...\n",
      "adding 969...\n",
      "adding 970...\n",
      "adding 971...\n",
      "adding 972...\n",
      "adding 973...\n",
      "adding 974...\n",
      "adding 975...\n",
      "adding 976...\n",
      "adding 977...\n",
      "adding 978...\n",
      "adding 979...\n",
      "adding 980...\n",
      "adding 981...\n",
      "adding 982...\n",
      "adding 983...\n",
      "adding 984...\n",
      "adding 985...\n",
      "adding 986...\n",
      "adding 987...\n",
      "adding 988...\n",
      "adding 989...\n",
      "adding 990...\n",
      "adding 991...\n",
      "adding 992...\n",
      "adding 993...\n",
      "adding 994...\n",
      "adding 995...\n",
      "adding 996...\n",
      "adding 997...\n",
      "adding 998...\n",
      "adding 999...\n",
      "adding 1000...\n",
      "adding 1001...\n",
      "adding 1002...\n",
      "adding 1003...\n",
      "adding 1004...\n",
      "adding 1005...\n",
      "adding 1006...\n",
      "adding 1007...\n",
      "adding 1008...\n",
      "adding 1009...\n",
      "adding 1010...\n",
      "adding 1011...\n",
      "adding 1012...\n",
      "adding 1013...\n",
      "adding 1014...\n",
      "adding 1015...\n",
      "adding 1016...\n",
      "adding 1017...\n",
      "adding 1018...\n",
      "adding 1019...\n",
      "adding 1020...\n",
      "adding 1021...\n",
      "adding 1022...\n",
      "adding 1023...\n",
      "adding 1024...\n",
      "adding 1025...\n",
      "adding 1026...\n",
      "adding 1027...\n",
      "adding 1028...\n",
      "adding 1029...\n",
      "adding 1030...\n",
      "adding 1031...\n",
      "adding 1032...\n",
      "adding 1033...\n",
      "adding 1034...\n",
      "adding 1035...\n",
      "adding 1036...\n",
      "adding 1037...\n",
      "adding 1038...\n",
      "adding 1039...\n",
      "adding 1040...\n",
      "adding 1041...\n",
      "adding 1042...\n",
      "adding 1043...\n",
      "adding 1044...\n",
      "adding 1045...\n",
      "adding 1046...\n",
      "adding 1047...\n",
      "adding 1048...\n",
      "adding 1049...\n",
      "adding 1050...\n",
      "adding 1051...\n",
      "adding 1052...\n",
      "adding 1053...\n",
      "adding 1054...\n",
      "adding 1055...\n",
      "adding 1056...\n",
      "adding 1057...\n",
      "adding 1058...\n",
      "adding 1059...\n",
      "adding 1060...\n",
      "adding 1061...\n",
      "adding 1062...\n",
      "adding 1063...\n",
      "adding 1064...\n",
      "adding 1065...\n",
      "adding 1066...\n",
      "adding 1067...\n",
      "adding 1068...\n",
      "adding 1069...\n",
      "adding 1070...\n",
      "adding 1071...\n",
      "adding 1072...\n",
      "adding 1073...\n",
      "adding 1074...\n",
      "adding 1075...\n",
      "adding 1076...\n",
      "adding 1077...\n",
      "adding 1078...\n",
      "adding 1079...\n",
      "adding 1080...\n",
      "adding 1081...\n",
      "adding 1082...\n",
      "adding 1083...\n",
      "adding 1084...\n",
      "adding 1085...\n",
      "adding 1086...\n",
      "adding 1087...\n",
      "adding 1088...\n",
      "adding 1089...\n",
      "adding 1090...\n",
      "adding 1091...\n",
      "adding 1092...\n",
      "adding 1093...\n",
      "adding 1094...\n",
      "adding 1095...\n",
      "adding 1096...\n",
      "adding 1097...\n",
      "adding 1098...\n",
      "adding 1099...\n",
      "adding 1100...\n",
      "adding 1101...\n",
      "adding 1102...\n",
      "adding 1103...\n",
      "adding 1104...\n",
      "adding 1105...\n",
      "adding 1106...\n",
      "adding 1107...\n",
      "adding 1108...\n",
      "adding 1109...\n",
      "adding 1110...\n",
      "adding 1111...\n",
      "adding 1112...\n",
      "adding 1113...\n",
      "adding 1114...\n",
      "adding 1115...\n",
      "adding 1116...\n",
      "adding 1117...\n",
      "adding 1118...\n",
      "adding 1119...\n",
      "adding 1120...\n",
      "adding 1121...\n",
      "adding 1122...\n",
      "adding 1123...\n",
      "adding 1124...\n",
      "adding 1125...\n",
      "adding 1126...\n",
      "adding 1127...\n",
      "adding 1128...\n",
      "adding 1129...\n",
      "adding 1130...\n",
      "adding 1131...\n",
      "adding 1132...\n",
      "adding 1133...\n",
      "adding 1134...\n",
      "adding 1135...\n",
      "adding 1136...\n",
      "adding 1137...\n",
      "adding 1138...\n",
      "adding 1139...\n",
      "adding 1140...\n",
      "adding 1141...\n",
      "adding 1142...\n",
      "adding 1143...\n",
      "adding 1144...\n",
      "adding 1145...\n",
      "adding 1146...\n",
      "adding 1147...\n",
      "adding 1148...\n",
      "adding 1149...\n",
      "adding 1150...\n",
      "adding 1151...\n",
      "adding 1152...\n",
      "adding 1153...\n",
      "adding 1154...\n",
      "adding 1155...\n",
      "adding 1156...\n",
      "adding 1157...\n",
      "adding 1158...\n",
      "adding 1159...\n",
      "adding 1160...\n",
      "adding 1161...\n",
      "adding 1162...\n",
      "adding 1163...\n",
      "adding 1164...\n",
      "adding 1165...\n",
      "adding 1166...\n",
      "adding 1167...\n",
      "adding 1168...\n",
      "adding 1169...\n",
      "adding 1170...\n",
      "adding 1171...\n",
      "adding 1172...\n",
      "adding 1173...\n",
      "adding 1174...\n",
      "adding 1175...\n",
      "adding 1176...\n",
      "adding 1177...\n",
      "adding 1178...\n",
      "adding 1179...\n",
      "adding 1180...\n",
      "adding 1181...\n",
      "adding 1182...\n",
      "adding 1183...\n",
      "adding 1184...\n",
      "adding 1185...\n",
      "adding 1186...\n",
      "adding 1187...\n",
      "adding 1188...\n",
      "adding 1189...\n",
      "adding 1190...\n",
      "adding 1191...\n",
      "adding 1192...\n",
      "adding 1193...\n",
      "adding 1194...\n",
      "adding 1195...\n",
      "adding 1196...\n",
      "adding 1197...\n",
      "adding 1198...\n",
      "adding 1199...\n",
      "adding 1200...\n",
      "adding 1201...\n",
      "adding 1202...\n",
      "adding 1203...\n",
      "adding 1204...\n",
      "adding 1205...\n",
      "adding 1206...\n"
     ]
    },
    {
     "name": "stdout",
     "output_type": "stream",
     "text": [
      "adding 1207...\n",
      "adding 1208...\n",
      "adding 1209...\n",
      "adding 1210...\n",
      "adding 1211...\n",
      "adding 1212...\n",
      "adding 1213...\n",
      "adding 1214...\n",
      "adding 1215...\n",
      "adding 1216...\n",
      "adding 1217...\n",
      "adding 1218...\n",
      "adding 1219...\n",
      "adding 1220...\n",
      "adding 1221...\n",
      "adding 1222...\n",
      "adding 1223...\n",
      "adding 1224...\n",
      "adding 1225...\n",
      "adding 1226...\n",
      "adding 1227...\n",
      "adding 1228...\n",
      "adding 1229...\n",
      "adding 1230...\n",
      "adding 1231...\n",
      "adding 1232...\n",
      "adding 1233...\n",
      "adding 1234...\n",
      "adding 1235...\n",
      "adding 1236...\n",
      "adding 1237...\n",
      "adding 1238...\n",
      "adding 1239...\n",
      "adding 1240...\n",
      "adding 1241...\n",
      "adding 1242...\n",
      "adding 1243...\n",
      "adding 1244...\n",
      "adding 1245...\n",
      "adding 1246...\n",
      "adding 1247...\n",
      "adding 1248...\n",
      "adding 1249...\n",
      "adding 1250...\n",
      "adding 1251...\n",
      "adding 1252...\n",
      "adding 1253...\n",
      "adding 1254...\n",
      "adding 1255...\n",
      "adding 1256...\n",
      "adding 1257...\n",
      "adding 1258...\n",
      "adding 1259...\n",
      "adding 1260...\n",
      "adding 1261...\n",
      "adding 1262...\n",
      "adding 1263...\n",
      "adding 1264...\n",
      "adding 1265...\n",
      "adding 1266...\n",
      "adding 1267...\n",
      "adding 1268...\n",
      "adding 1269...\n",
      "adding 1270...\n",
      "adding 1271...\n",
      "adding 1272...\n",
      "adding 1273...\n",
      "adding 1274...\n",
      "adding 1275...\n",
      "adding 1276...\n",
      "adding 1277...\n",
      "adding 1278...\n",
      "adding 1279...\n",
      "adding 1280...\n",
      "adding 1281...\n",
      "adding 1282...\n",
      "adding 1283...\n",
      "adding 1284...\n",
      "adding 1285...\n",
      "adding 1286...\n",
      "adding 1287...\n",
      "adding 1288...\n",
      "adding 1289...\n",
      "adding 1290...\n",
      "adding 1291...\n",
      "adding 1292...\n",
      "adding 1293...\n",
      "adding 1294...\n",
      "adding 1295...\n",
      "adding 1296...\n",
      "adding 1297...\n",
      "adding 1298...\n",
      "adding 1299...\n",
      "adding 1300...\n",
      "adding 1301...\n",
      "adding 1302...\n",
      "adding 1303...\n",
      "adding 1304...\n",
      "adding 1305...\n",
      "adding 1306...\n",
      "adding 1307...\n",
      "adding 1308...\n",
      "adding 1309...\n",
      "adding 1310...\n",
      "adding 1311...\n",
      "adding 1312...\n",
      "adding 1313...\n",
      "adding 1314...\n",
      "adding 1315...\n",
      "adding 1316...\n",
      "adding 1317...\n",
      "adding 1318...\n",
      "adding 1319...\n",
      "adding 1320...\n",
      "adding 1321...\n",
      "adding 1322...\n",
      "adding 1323...\n",
      "adding 1324...\n",
      "adding 1325...\n",
      "adding 1326...\n",
      "adding 1327...\n",
      "adding 1328...\n",
      "adding 1329...\n",
      "adding 1330...\n",
      "adding 1331...\n",
      "adding 1332...\n",
      "adding 1333...\n",
      "adding 1334...\n",
      "adding 1335...\n",
      "adding 1336...\n",
      "adding 1337...\n",
      "adding 1338...\n",
      "adding 1339...\n",
      "adding 1340...\n",
      "adding 1341...\n",
      "adding 1342...\n",
      "adding 1343...\n",
      "adding 1344...\n",
      "adding 1345...\n",
      "adding 1346...\n",
      "adding 1347...\n",
      "adding 1348...\n",
      "adding 1349...\n",
      "adding 1350...\n",
      "adding 1351...\n",
      "adding 1352...\n",
      "adding 1353...\n",
      "adding 1354...\n",
      "adding 1355...\n",
      "adding 1356...\n",
      "adding 1357...\n",
      "adding 1358...\n",
      "adding 1359...\n",
      "adding 1360...\n",
      "adding 1361...\n",
      "adding 1362...\n",
      "adding 1363...\n",
      "adding 1364...\n",
      "adding 1365...\n",
      "adding 1366...\n",
      "adding 1367...\n",
      "adding 1368...\n",
      "adding 1369...\n",
      "adding 1370...\n",
      "adding 1371...\n",
      "adding 1372...\n",
      "adding 1373...\n",
      "adding 1374...\n",
      "adding 1375...\n",
      "adding 1376...\n",
      "adding 1377...\n",
      "adding 1378...\n",
      "adding 1379...\n",
      "adding 1380...\n",
      "adding 1381...\n",
      "adding 1382...\n",
      "adding 1383...\n",
      "adding 1384...\n",
      "adding 1385...\n",
      "adding 1386...\n",
      "adding 1387...\n",
      "adding 1388...\n",
      "adding 1389...\n",
      "adding 1390...\n",
      "adding 1391...\n",
      "adding 1392...\n",
      "adding 1393...\n",
      "adding 1394...\n",
      "adding 1395...\n",
      "adding 1396...\n",
      "adding 1397...\n",
      "adding 1398...\n",
      "adding 1399...\n",
      "adding 1400...\n",
      "adding 1401...\n",
      "adding 1402...\n",
      "adding 1403...\n",
      "adding 1404...\n",
      "adding 1405...\n",
      "adding 1406...\n",
      "adding 1407...\n",
      "adding 1408...\n",
      "adding 1409...\n",
      "adding 1410...\n",
      "adding 1411...\n",
      "adding 1412...\n",
      "adding 1413...\n",
      "adding 1414...\n",
      "adding 1415...\n",
      "adding 1416...\n",
      "adding 1417...\n",
      "adding 1418...\n",
      "adding 1419...\n",
      "adding 1420...\n",
      "adding 1421...\n",
      "adding 1422...\n",
      "adding 1423...\n",
      "adding 1424...\n",
      "adding 1425...\n",
      "adding 1426...\n",
      "adding 1427...\n",
      "adding 1428...\n",
      "adding 1429...\n",
      "adding 1430...\n",
      "adding 1431...\n",
      "adding 1432...\n",
      "adding 1433...\n",
      "adding 1434...\n",
      "adding 1435...\n",
      "adding 1436...\n",
      "adding 1437...\n",
      "adding 1438...\n",
      "adding 1439...\n",
      "adding 1440...\n",
      "adding 1441...\n",
      "adding 1442...\n",
      "adding 1443...\n",
      "adding 1444...\n",
      "adding 1445...\n",
      "adding 1446...\n",
      "adding 1447...\n",
      "adding 1448...\n",
      "adding 1449...\n",
      "adding 1450...\n",
      "adding 1451...\n",
      "adding 1452...\n",
      "adding 1453...\n",
      "adding 1454...\n",
      "adding 1455...\n",
      "adding 1456...\n",
      "adding 1457...\n",
      "adding 1458...\n",
      "adding 1459...\n",
      "adding 1460...\n",
      "adding 1461...\n",
      "adding 1462...\n",
      "adding 1463...\n",
      "adding 1464...\n",
      "adding 1465...\n",
      "adding 1466...\n",
      "adding 1467...\n",
      "adding 1468...\n",
      "adding 1469...\n",
      "adding 1470...\n",
      "adding 1471...\n",
      "adding 1472...\n",
      "adding 1473...\n",
      "adding 1474...\n",
      "adding 1475...\n",
      "adding 1476...\n",
      "adding 1477...\n",
      "adding 1478...\n",
      "adding 1479...\n",
      "adding 1480...\n",
      "adding 1481...\n",
      "adding 1482...\n",
      "adding 1483...\n",
      "adding 1484...\n",
      "adding 1485...\n",
      "adding 1486...\n",
      "adding 1487...\n",
      "adding 1488...\n",
      "adding 1489...\n",
      "adding 1490...\n",
      "adding 1491...\n",
      "adding 1492...\n",
      "adding 1493...\n",
      "adding 1494...\n",
      "adding 1495...\n",
      "adding 1496...\n",
      "adding 1497...\n",
      "adding 1498...\n",
      "adding 1499...\n",
      "adding 1500...\n",
      "adding 1501...\n",
      "adding 1502...\n",
      "adding 1503...\n",
      "adding 1504...\n",
      "adding 1505...\n",
      "adding 1506...\n",
      "adding 1507...\n",
      "adding 1508...\n",
      "adding 1509...\n",
      "adding 1510...\n",
      "adding 1511...\n",
      "adding 1512...\n",
      "adding 1513...\n",
      "adding 1514...\n",
      "adding 1515...\n",
      "adding 1516...\n",
      "adding 1517...\n",
      "adding 1518...\n",
      "adding 1519...\n",
      "adding 1520...\n",
      "adding 1521...\n",
      "adding 1522...\n",
      "adding 1523...\n",
      "adding 1524...\n",
      "adding 1525...\n",
      "adding 1526...\n",
      "adding 1527...\n",
      "adding 1528...\n",
      "adding 1529...\n",
      "adding 1530...\n",
      "adding 1531...\n",
      "adding 1532...\n",
      "adding 1533...\n",
      "adding 1534...\n",
      "adding 1535...\n",
      "adding 1536...\n",
      "adding 1537...\n",
      "adding 1538...\n",
      "adding 1539...\n",
      "adding 1540...\n",
      "adding 1541...\n",
      "adding 1542...\n",
      "adding 1543...\n",
      "adding 1544...\n",
      "adding 1545...\n",
      "adding 1546...\n",
      "adding 1547...\n",
      "adding 1548...\n",
      "adding 1549...\n",
      "adding 1550...\n",
      "adding 1551...\n",
      "adding 1552...\n",
      "adding 1553...\n",
      "adding 1554...\n",
      "adding 1555...\n",
      "adding 1556...\n",
      "adding 1557...\n",
      "adding 1558...\n",
      "adding 1559...\n",
      "adding 1560...\n",
      "adding 1561...\n",
      "adding 1562...\n",
      "adding 1563...\n",
      "adding 1564...\n",
      "adding 1565...\n",
      "adding 1566...\n",
      "adding 1567...\n",
      "adding 1568...\n",
      "adding 1569...\n",
      "adding 1570...\n",
      "adding 1571...\n",
      "adding 1572...\n",
      "adding 1573...\n",
      "adding 1574...\n",
      "adding 1575...\n",
      "adding 1576...\n",
      "adding 1577...\n",
      "adding 1578...\n",
      "adding 1579...\n",
      "adding 1580...\n",
      "adding 1581...\n",
      "adding 1582...\n",
      "adding 1583...\n",
      "adding 1584...\n",
      "adding 1585...\n",
      "adding 1586...\n",
      "adding 1587...\n",
      "adding 1588...\n",
      "adding 1589...\n",
      "adding 1590...\n",
      "adding 1591...\n",
      "adding 1592...\n",
      "adding 1593...\n",
      "adding 1594...\n",
      "adding 1595...\n",
      "adding 1596...\n",
      "adding 1597...\n",
      "adding 1598...\n",
      "adding 1599...\n",
      "adding 1600...\n",
      "adding 1601...\n",
      "adding 1602...\n",
      "adding 1603...\n",
      "adding 1604...\n",
      "adding 1605...\n",
      "adding 1606...\n",
      "adding 1607...\n",
      "adding 1608...\n",
      "adding 1609...\n",
      "adding 1610...\n",
      "adding 1611...\n",
      "adding 1612...\n",
      "adding 1613...\n",
      "adding 1614...\n",
      "adding 1615...\n",
      "adding 1616...\n",
      "adding 1617...\n",
      "adding 1618...\n",
      "adding 1619...\n",
      "adding 1620...\n",
      "adding 1621...\n",
      "adding 1622...\n",
      "adding 1623...\n",
      "adding 1624...\n",
      "adding 1625...\n",
      "adding 1626...\n",
      "adding 1627...\n",
      "adding 1628...\n",
      "adding 1629...\n",
      "adding 1630...\n",
      "adding 1631...\n",
      "adding 1632...\n",
      "adding 1633...\n",
      "adding 1634...\n",
      "adding 1635...\n",
      "adding 1636...\n",
      "adding 1637...\n",
      "adding 1638...\n",
      "adding 1639...\n",
      "adding 1640...\n",
      "adding 1641...\n",
      "adding 1642...\n",
      "adding 1643...\n",
      "adding 1644...\n",
      "adding 1645...\n",
      "adding 1646...\n",
      "adding 1647...\n",
      "adding 1648...\n",
      "adding 1649...\n",
      "adding 1650...\n",
      "adding 1651...\n",
      "adding 1652...\n",
      "adding 1653...\n",
      "adding 1654...\n",
      "adding 1655...\n",
      "adding 1656...\n",
      "adding 1657...\n",
      "adding 1658...\n",
      "adding 1659...\n",
      "adding 1660...\n",
      "adding 1661...\n",
      "adding 1662...\n",
      "adding 1663...\n",
      "adding 1664...\n",
      "adding 1665...\n",
      "adding 1666...\n",
      "adding 1667...\n",
      "adding 1668...\n",
      "adding 1669...\n",
      "adding 1670...\n",
      "adding 1671...\n",
      "adding 1672...\n",
      "adding 1673...\n",
      "adding 1674...\n",
      "adding 1675...\n",
      "adding 1676...\n",
      "adding 1677...\n",
      "adding 1678...\n",
      "adding 1679...\n",
      "adding 1680...\n",
      "adding 1681...\n",
      "adding 1682...\n",
      "adding 1683...\n",
      "adding 1684...\n",
      "adding 1685...\n",
      "adding 1686...\n",
      "adding 1687...\n",
      "adding 1688...\n",
      "adding 1689...\n",
      "adding 1690...\n",
      "adding 1691...\n",
      "adding 1692...\n",
      "adding 1693...\n",
      "adding 1694...\n",
      "adding 1695...\n",
      "adding 1696...\n",
      "adding 1697...\n",
      "adding 1698...\n",
      "adding 1699...\n",
      "adding 1700...\n",
      "adding 1701...\n",
      "adding 1702...\n",
      "adding 1703...\n",
      "adding 1704...\n",
      "adding 1705...\n",
      "adding 1706...\n",
      "adding 1707...\n",
      "adding 1708...\n",
      "adding 1709...\n",
      "adding 1710...\n",
      "adding 1711...\n",
      "adding 1712...\n",
      "adding 1713...\n",
      "adding 1714...\n",
      "adding 1715...\n",
      "adding 1716...\n",
      "adding 1717...\n",
      "adding 1718...\n",
      "adding 1719...\n",
      "adding 1720...\n",
      "adding 1721...\n",
      "adding 1722...\n",
      "adding 1723...\n",
      "adding 1724...\n",
      "adding 1725...\n",
      "adding 1726...\n",
      "adding 1727...\n",
      "adding 1728...\n",
      "adding 1729...\n",
      "adding 1730...\n",
      "adding 1731...\n",
      "adding 1732...\n",
      "adding 1733...\n",
      "adding 1734...\n",
      "adding 1735...\n",
      "adding 1736...\n",
      "adding 1737...\n",
      "adding 1738...\n",
      "adding 1739...\n",
      "adding 1740...\n",
      "adding 1741...\n",
      "adding 1742...\n",
      "adding 1743...\n",
      "adding 1744...\n",
      "adding 1745...\n",
      "adding 1746...\n",
      "adding 1747...\n",
      "adding 1748...\n",
      "adding 1749...\n",
      "adding 1750...\n",
      "adding 1751...\n",
      "adding 1752...\n",
      "adding 1753...\n",
      "adding 1754...\n",
      "adding 1755...\n"
     ]
    },
    {
     "name": "stdout",
     "output_type": "stream",
     "text": [
      "adding 1756...\n",
      "adding 1757...\n",
      "adding 1758...\n",
      "adding 1759...\n",
      "adding 1760...\n",
      "adding 1761...\n",
      "adding 1762...\n",
      "adding 1763...\n",
      "adding 1764...\n",
      "adding 1765...\n",
      "adding 1766...\n",
      "adding 1767...\n",
      "adding 1768...\n",
      "adding 1769...\n",
      "adding 1770...\n",
      "adding 1771...\n",
      "adding 1772...\n",
      "adding 1773...\n",
      "adding 1774...\n",
      "adding 1775...\n",
      "adding 1776...\n",
      "adding 1777...\n",
      "adding 1778...\n",
      "adding 1779...\n",
      "adding 1780...\n",
      "adding 1781...\n",
      "adding 1782...\n",
      "adding 1783...\n",
      "adding 1784...\n",
      "adding 1785...\n",
      "adding 1786...\n",
      "adding 1787...\n",
      "adding 1788...\n",
      "adding 1789...\n",
      "adding 1790...\n",
      "adding 1791...\n",
      "adding 1792...\n",
      "adding 1793...\n",
      "adding 1794...\n",
      "adding 1795...\n",
      "adding 1796...\n",
      "adding 1797...\n",
      "adding 1798...\n",
      "adding 1799...\n",
      "adding 1800...\n",
      "adding 1801...\n",
      "adding 1802...\n",
      "adding 1803...\n",
      "adding 1804...\n",
      "adding 1805...\n",
      "adding 1806...\n",
      "adding 1807...\n",
      "adding 1808...\n",
      "adding 1809...\n",
      "adding 1810...\n",
      "adding 1811...\n",
      "adding 1812...\n",
      "adding 1813...\n",
      "adding 1814...\n",
      "adding 1815...\n",
      "adding 1816...\n",
      "adding 1817...\n",
      "adding 1818...\n",
      "adding 1819...\n",
      "adding 1820...\n",
      "adding 1821...\n",
      "adding 1822...\n",
      "adding 1823...\n",
      "adding 1824...\n",
      "adding 1825...\n",
      "adding 1826...\n",
      "adding 1827...\n",
      "adding 1828...\n",
      "adding 1829...\n",
      "adding 1830...\n",
      "adding 1831...\n",
      "adding 1832...\n",
      "adding 1833...\n",
      "adding 1834...\n",
      "adding 1835...\n",
      "adding 1836...\n",
      "adding 1837...\n",
      "adding 1838...\n",
      "adding 1839...\n",
      "adding 1840...\n",
      "adding 1841...\n",
      "adding 1842...\n",
      "adding 1843...\n",
      "adding 1844...\n",
      "adding 1845...\n",
      "adding 1846...\n",
      "adding 1847...\n",
      "adding 1848...\n",
      "adding 1849...\n",
      "adding 1850...\n",
      "adding 1851...\n",
      "adding 1852...\n",
      "adding 1853...\n",
      "adding 1854...\n",
      "adding 1855...\n",
      "adding 1856...\n",
      "adding 1857...\n",
      "adding 1858...\n",
      "adding 1859...\n",
      "adding 1860...\n",
      "adding 1861...\n",
      "adding 1862...\n",
      "adding 1863...\n",
      "adding 1864...\n",
      "adding 1865...\n",
      "adding 1866...\n",
      "adding 1867...\n",
      "adding 1868...\n",
      "adding 1869...\n",
      "adding 1870...\n",
      "adding 1871...\n",
      "adding 1872...\n",
      "adding 1873...\n",
      "adding 1874...\n",
      "adding 1875...\n",
      "adding 1876...\n",
      "adding 1877...\n",
      "adding 1878...\n",
      "adding 1879...\n",
      "adding 1880...\n",
      "adding 1881...\n",
      "adding 1882...\n",
      "adding 1883...\n",
      "adding 1884...\n",
      "adding 1885...\n",
      "adding 1886...\n",
      "adding 1887...\n",
      "adding 1888...\n",
      "adding 1889...\n",
      "adding 1890...\n",
      "adding 1891...\n",
      "adding 1892...\n",
      "adding 1893...\n",
      "adding 1894...\n",
      "adding 1895...\n",
      "adding 1896...\n",
      "adding 1897...\n",
      "adding 1898...\n",
      "adding 1899...\n",
      "adding 1900...\n",
      "adding 1901...\n",
      "adding 1902...\n",
      "adding 1903...\n",
      "adding 1904...\n",
      "adding 1905...\n",
      "adding 1906...\n",
      "adding 1907...\n",
      "adding 1908...\n",
      "adding 1909...\n",
      "adding 1910...\n",
      "adding 1911...\n",
      "adding 1912...\n",
      "adding 1913...\n",
      "adding 1914...\n",
      "adding 1915...\n",
      "adding 1916...\n",
      "adding 1917...\n",
      "adding 1918...\n",
      "adding 1919...\n",
      "adding 1920...\n",
      "adding 1921...\n",
      "adding 1922...\n",
      "adding 1923...\n",
      "adding 1924...\n",
      "adding 1925...\n",
      "adding 1926...\n",
      "adding 1927...\n",
      "adding 1928...\n",
      "adding 1929...\n",
      "adding 1930...\n",
      "adding 1931...\n",
      "adding 1932...\n",
      "adding 1933...\n",
      "adding 1934...\n",
      "adding 1935...\n",
      "adding 1936...\n",
      "adding 1937...\n",
      "adding 1938...\n",
      "adding 1939...\n",
      "adding 1940...\n",
      "adding 1941...\n",
      "adding 1942...\n",
      "adding 1943...\n",
      "adding 1944...\n",
      "adding 1945...\n",
      "adding 1946...\n",
      "adding 1947...\n",
      "adding 1948...\n",
      "adding 1949...\n",
      "adding 1950...\n",
      "adding 1951...\n",
      "adding 1952...\n",
      "adding 1953...\n",
      "adding 1954...\n",
      "adding 1955...\n",
      "adding 1956...\n",
      "adding 1957...\n",
      "adding 1958...\n",
      "adding 1959...\n",
      "adding 1960...\n",
      "adding 1961...\n",
      "adding 1962...\n",
      "adding 1963...\n",
      "adding 1964...\n",
      "adding 1965...\n",
      "adding 1966...\n",
      "adding 1967...\n",
      "adding 1968...\n",
      "adding 1969...\n",
      "adding 1970...\n",
      "adding 1971...\n",
      "adding 1972...\n",
      "adding 1973...\n",
      "adding 1974...\n",
      "adding 1975...\n",
      "adding 1976...\n",
      "adding 1977...\n",
      "adding 1978...\n",
      "adding 1979...\n",
      "adding 1980...\n",
      "adding 1981...\n",
      "adding 1982...\n",
      "adding 1983...\n",
      "adding 1984...\n",
      "adding 1985...\n",
      "adding 1986...\n",
      "adding 1987...\n",
      "adding 1988...\n",
      "adding 1989...\n",
      "adding 1990...\n",
      "adding 1991...\n",
      "adding 1992...\n",
      "adding 1993...\n",
      "adding 1994...\n",
      "adding 1995...\n",
      "adding 1996...\n",
      "adding 1997...\n",
      "adding 1998...\n",
      "adding 1999...\n",
      "adding 2000...\n",
      "adding 2001...\n",
      "adding 2002...\n",
      "adding 2003...\n",
      "adding 2004...\n",
      "adding 2005...\n",
      "adding 2006...\n",
      "adding 2007...\n",
      "adding 2008...\n",
      "adding 2009...\n",
      "adding 2010...\n",
      "adding 2011...\n",
      "adding 2012...\n",
      "adding 2013...\n",
      "adding 2014...\n",
      "adding 2015...\n",
      "adding 2016...\n",
      "adding 2017...\n",
      "adding 2018...\n",
      "adding 2019...\n",
      "adding 2020...\n",
      "adding 2021...\n",
      "adding 2022...\n",
      "adding 2023...\n",
      "adding 2024...\n",
      "adding 2025...\n",
      "adding 2026...\n",
      "adding 2027...\n",
      "adding 2028...\n",
      "adding 2029...\n",
      "adding 2030...\n",
      "adding 2031...\n",
      "adding 2032...\n",
      "adding 2033...\n",
      "adding 2034...\n",
      "adding 2035...\n",
      "adding 2036...\n",
      "adding 2037...\n",
      "adding 2038...\n",
      "adding 2039...\n",
      "adding 2040...\n",
      "adding 2041...\n",
      "adding 2042...\n",
      "adding 2043...\n",
      "adding 2044...\n",
      "adding 2045...\n",
      "adding 2046...\n",
      "adding 2047...\n",
      "adding 2048...\n",
      "adding 2049...\n",
      "adding 2050...\n",
      "adding 2051...\n",
      "adding 2052...\n",
      "adding 2053...\n",
      "adding 2054...\n",
      "adding 2055...\n",
      "adding 2056...\n",
      "adding 2057...\n",
      "adding 2058...\n",
      "adding 2059...\n",
      "adding 2060...\n",
      "adding 2061...\n",
      "adding 2062...\n",
      "adding 2063...\n",
      "adding 2064...\n",
      "adding 2065...\n",
      "adding 2066...\n",
      "adding 2067...\n",
      "adding 2068...\n",
      "adding 2069...\n",
      "adding 2070...\n",
      "adding 2071...\n",
      "adding 2072...\n",
      "adding 2073...\n",
      "adding 2074...\n",
      "adding 2075...\n",
      "adding 2076...\n",
      "adding 2077...\n",
      "adding 2078...\n",
      "adding 2079...\n",
      "adding 2080...\n",
      "adding 2081...\n",
      "adding 2082...\n",
      "adding 2083...\n",
      "adding 2084...\n",
      "adding 2085...\n",
      "adding 2086...\n",
      "adding 2087...\n",
      "adding 2088...\n",
      "adding 2089...\n",
      "adding 2090...\n",
      "adding 2091...\n",
      "adding 2092...\n",
      "adding 2093...\n",
      "adding 2094...\n",
      "adding 2095...\n",
      "adding 2096...\n",
      "adding 2097...\n",
      "adding 2098...\n",
      "adding 2099...\n",
      "adding 2100...\n",
      "adding 2101...\n",
      "adding 2102...\n",
      "adding 2103...\n",
      "adding 2104...\n",
      "adding 2105...\n",
      "adding 2106...\n",
      "adding 2107...\n",
      "adding 2108...\n",
      "adding 2109...\n",
      "adding 2110...\n",
      "adding 2111...\n",
      "adding 2112...\n",
      "adding 2113...\n",
      "adding 2114...\n",
      "adding 2115...\n",
      "adding 2116...\n",
      "adding 2117...\n",
      "adding 2118...\n",
      "adding 2119...\n",
      "adding 2120...\n",
      "adding 2121...\n",
      "adding 2122...\n",
      "adding 2123...\n",
      "adding 2124...\n",
      "adding 2125...\n",
      "adding 2126...\n",
      "adding 2127...\n",
      "adding 2128...\n",
      "adding 2129...\n",
      "adding 2130...\n",
      "adding 2131...\n",
      "adding 2132...\n",
      "adding 2133...\n",
      "adding 2134...\n",
      "adding 2135...\n",
      "adding 2136...\n",
      "adding 2137...\n",
      "adding 2138...\n",
      "adding 2139...\n",
      "adding 2140...\n",
      "adding 2141...\n",
      "adding 2142...\n",
      "adding 2143...\n",
      "adding 2144...\n",
      "adding 2145...\n",
      "adding 2146...\n",
      "adding 2147...\n",
      "adding 2148...\n",
      "adding 2149...\n",
      "adding 2150...\n",
      "adding 2151...\n",
      "adding 2152...\n",
      "adding 2153...\n",
      "adding 2154...\n",
      "adding 2155...\n",
      "adding 2156...\n",
      "adding 2157...\n",
      "adding 2158...\n",
      "adding 2159...\n",
      "adding 2160...\n",
      "adding 2161...\n",
      "adding 2162...\n",
      "adding 2163...\n",
      "adding 2164...\n",
      "adding 2165...\n",
      "adding 2166...\n",
      "adding 2167...\n",
      "adding 2168...\n",
      "adding 2169...\n",
      "adding 2170...\n",
      "adding 2171...\n",
      "adding 2172...\n",
      "adding 2173...\n",
      "adding 2174...\n",
      "adding 2175...\n",
      "adding 2176...\n",
      "adding 2177...\n",
      "adding 2178...\n",
      "adding 2179...\n",
      "adding 2180...\n",
      "adding 2181...\n",
      "adding 2182...\n",
      "adding 2183...\n",
      "adding 2184...\n",
      "adding 2185...\n",
      "adding 2186...\n",
      "adding 2187...\n",
      "adding 2188...\n",
      "adding 2189...\n",
      "adding 2190...\n",
      "adding 2191...\n",
      "adding 2192...\n",
      "adding 2193...\n",
      "adding 2194...\n",
      "adding 2195...\n",
      "adding 2196...\n",
      "adding 2197...\n",
      "adding 2198...\n",
      "adding 2199...\n",
      "adding 2200...\n",
      "adding 2201...\n",
      "adding 2202...\n",
      "adding 2203...\n",
      "adding 2204...\n",
      "adding 2205...\n",
      "adding 2206...\n",
      "adding 2207...\n",
      "adding 2208...\n",
      "adding 2209...\n",
      "adding 2210...\n",
      "adding 2211...\n",
      "adding 2212...\n",
      "adding 2213...\n",
      "adding 2214...\n",
      "adding 2215...\n",
      "adding 2216...\n",
      "adding 2217...\n",
      "adding 2218...\n",
      "adding 2219...\n",
      "adding 2220...\n",
      "adding 2221...\n",
      "adding 2222...\n",
      "adding 2223...\n",
      "adding 2224...\n",
      "adding 2225...\n",
      "adding 2226...\n",
      "adding 2227...\n",
      "adding 2228...\n",
      "adding 2229...\n",
      "adding 2230...\n",
      "adding 2231...\n",
      "adding 2232...\n",
      "adding 2233...\n",
      "adding 2234...\n",
      "adding 2235...\n",
      "adding 2236...\n",
      "adding 2237...\n",
      "adding 2238...\n",
      "adding 2239...\n",
      "adding 2240...\n",
      "adding 2241...\n",
      "adding 2242...\n",
      "adding 2243...\n",
      "adding 2244...\n",
      "adding 2245...\n",
      "adding 2246...\n",
      "adding 2247...\n",
      "adding 2248...\n",
      "adding 2249...\n",
      "adding 2250...\n",
      "adding 2251...\n",
      "adding 2252...\n",
      "adding 2253...\n",
      "adding 2254...\n",
      "adding 2255...\n",
      "adding 2256...\n",
      "adding 2257...\n",
      "adding 2258...\n",
      "adding 2259...\n",
      "adding 2260...\n",
      "adding 2261...\n",
      "adding 2262...\n",
      "adding 2263...\n",
      "adding 2264...\n",
      "adding 2265...\n",
      "adding 2266...\n",
      "adding 2267...\n",
      "adding 2268...\n",
      "adding 2269...\n",
      "adding 2270...\n",
      "adding 2271...\n",
      "adding 2272...\n",
      "adding 2273...\n",
      "adding 2274...\n",
      "adding 2275...\n",
      "adding 2276...\n",
      "adding 2277...\n",
      "adding 2278...\n",
      "adding 2279...\n",
      "adding 2280...\n",
      "adding 2281...\n",
      "adding 2282...\n",
      "adding 2283...\n",
      "adding 2284...\n",
      "adding 2285...\n",
      "adding 2286...\n",
      "adding 2287...\n",
      "adding 2288...\n",
      "adding 2289...\n",
      "adding 2290...\n",
      "adding 2291...\n",
      "adding 2292...\n",
      "adding 2293...\n",
      "adding 2294...\n",
      "adding 2295...\n",
      "adding 2296...\n",
      "adding 2297...\n",
      "adding 2298...\n",
      "adding 2299...\n",
      "adding 2300...\n",
      "adding 2301...\n",
      "adding 2302...\n",
      "adding 2303...\n",
      "adding 2304...\n",
      "adding 2305...\n",
      "adding 2306...\n",
      "adding 2307...\n",
      "adding 2308...\n",
      "adding 2309...\n",
      "adding 2310...\n",
      "adding 2311...\n",
      "adding 2312...\n",
      "adding 2313...\n",
      "adding 2314...\n",
      "adding 2315...\n",
      "adding 2316...\n",
      "adding 2317...\n",
      "adding 2318...\n",
      "adding 2319...\n",
      "adding 2320...\n",
      "adding 2321...\n",
      "adding 2322...\n",
      "adding 2323...\n"
     ]
    },
    {
     "name": "stdout",
     "output_type": "stream",
     "text": [
      "adding 2324...\n",
      "adding 2325...\n",
      "adding 2326...\n",
      "adding 2327...\n",
      "adding 2328...\n",
      "adding 2329...\n",
      "adding 2330...\n",
      "adding 2331...\n",
      "adding 2332...\n",
      "adding 2333...\n",
      "adding 2334...\n",
      "adding 2335...\n",
      "adding 2336...\n",
      "adding 2337...\n",
      "adding 2338...\n",
      "adding 2339...\n",
      "adding 2340...\n",
      "adding 2341...\n",
      "adding 2342...\n",
      "adding 2343...\n",
      "adding 2344...\n",
      "adding 2345...\n",
      "adding 2346...\n",
      "adding 2347...\n",
      "adding 2348...\n",
      "adding 2349...\n",
      "adding 2350...\n",
      "adding 2351...\n",
      "adding 2352...\n",
      "adding 2353...\n",
      "adding 2354...\n",
      "adding 2355...\n",
      "adding 2356...\n",
      "adding 2357...\n",
      "adding 2358...\n",
      "adding 2359...\n",
      "adding 2360...\n",
      "adding 2361...\n",
      "adding 2362...\n",
      "adding 2363...\n",
      "adding 2364...\n",
      "adding 2365...\n",
      "adding 2366...\n",
      "adding 2367...\n",
      "adding 2368...\n",
      "adding 2369...\n",
      "adding 2370...\n",
      "adding 2371...\n",
      "adding 2372...\n",
      "adding 2373...\n",
      "adding 2374...\n",
      "adding 2375...\n",
      "adding 2376...\n",
      "adding 2377...\n",
      "adding 2378...\n",
      "adding 2379...\n",
      "adding 2380...\n",
      "adding 2381...\n",
      "adding 2382...\n",
      "adding 2383...\n",
      "adding 2384...\n",
      "adding 2385...\n",
      "adding 2386...\n",
      "adding 2387...\n",
      "adding 2388...\n",
      "adding 2389...\n",
      "adding 2390...\n",
      "adding 2391...\n",
      "adding 2392...\n",
      "adding 2393...\n",
      "adding 2394...\n",
      "adding 2395...\n",
      "adding 2396...\n",
      "adding 2397...\n",
      "adding 2398...\n",
      "adding 2399...\n",
      "adding 2400...\n",
      "adding 2401...\n",
      "adding 2402...\n",
      "adding 2403...\n",
      "adding 2404...\n",
      "adding 2405...\n",
      "adding 2406...\n",
      "adding 2407...\n",
      "adding 2408...\n",
      "adding 2409...\n",
      "adding 2410...\n",
      "adding 2411...\n",
      "adding 2412...\n",
      "adding 2413...\n",
      "adding 2414...\n",
      "adding 2415...\n",
      "adding 2416...\n",
      "adding 2417...\n",
      "adding 2418...\n",
      "adding 2419...\n",
      "adding 2420...\n",
      "adding 2421...\n",
      "adding 2422...\n",
      "adding 2423...\n",
      "adding 2424...\n",
      "adding 2425...\n",
      "adding 2426...\n",
      "adding 2427...\n",
      "adding 2428...\n",
      "adding 2429...\n",
      "adding 2430...\n",
      "adding 2431...\n",
      "adding 2432...\n",
      "adding 2433...\n",
      "adding 2434...\n",
      "adding 2435...\n",
      "adding 2436...\n",
      "adding 2437...\n",
      "adding 2438...\n",
      "adding 2439...\n",
      "adding 2440...\n",
      "adding 2441...\n",
      "adding 2442...\n",
      "adding 2443...\n",
      "adding 2444...\n",
      "adding 2445...\n",
      "adding 2446...\n",
      "adding 2447...\n",
      "adding 2448...\n",
      "adding 2449...\n",
      "adding 2450...\n",
      "adding 2451...\n",
      "adding 2452...\n",
      "adding 2453...\n",
      "adding 2454...\n",
      "adding 2455...\n",
      "adding 2456...\n",
      "adding 2457...\n",
      "adding 2458...\n",
      "adding 2459...\n",
      "adding 2460...\n",
      "adding 2461...\n",
      "adding 2462...\n",
      "adding 2463...\n",
      "adding 2464...\n",
      "adding 2465...\n",
      "adding 2466...\n",
      "adding 2467...\n",
      "adding 2468...\n",
      "adding 2469...\n",
      "adding 2470...\n",
      "adding 2471...\n",
      "adding 2472...\n",
      "adding 2473...\n",
      "adding 2474...\n",
      "adding 2475...\n",
      "adding 2476...\n",
      "adding 2477...\n",
      "adding 2478...\n",
      "adding 2479...\n",
      "adding 2480...\n",
      "adding 2481...\n",
      "adding 2482...\n",
      "adding 2483...\n",
      "adding 2484...\n",
      "adding 2485...\n",
      "adding 2486...\n",
      "adding 2487...\n",
      "adding 2488...\n",
      "adding 2489...\n",
      "adding 2490...\n",
      "adding 2491...\n",
      "adding 2492...\n",
      "adding 2493...\n",
      "adding 2494...\n",
      "adding 2495...\n",
      "adding 2496...\n",
      "adding 2497...\n",
      "adding 2498...\n",
      "adding 2499...\n",
      "adding 2500...\n",
      "adding 2501...\n",
      "adding 2502...\n",
      "adding 2503...\n",
      "adding 2504...\n",
      "adding 2505...\n",
      "adding 2506...\n",
      "adding 2507...\n",
      "adding 2508...\n",
      "adding 2509...\n",
      "adding 2510...\n",
      "adding 2511...\n",
      "adding 2512...\n",
      "adding 2513...\n",
      "adding 2514...\n",
      "adding 2515...\n",
      "adding 2516...\n",
      "adding 2517...\n",
      "adding 2518...\n",
      "adding 2519...\n",
      "adding 2520...\n",
      "adding 2521...\n",
      "adding 2522...\n",
      "adding 2523...\n",
      "adding 2524...\n",
      "adding 2525...\n",
      "adding 2526...\n",
      "adding 2527...\n",
      "adding 2528...\n",
      "adding 2529...\n",
      "adding 2530...\n",
      "adding 2531...\n",
      "adding 2532...\n",
      "adding 2533...\n",
      "adding 2534...\n",
      "adding 2535...\n",
      "adding 2536...\n",
      "adding 2537...\n",
      "adding 2538...\n",
      "adding 2539...\n",
      "adding 2540...\n",
      "adding 2541...\n",
      "adding 2542...\n",
      "adding 2543...\n",
      "adding 2544...\n",
      "adding 2545...\n",
      "adding 2546...\n",
      "adding 2547...\n",
      "adding 2548...\n",
      "adding 2549...\n",
      "adding 2550...\n",
      "adding 2551...\n",
      "adding 2552...\n",
      "adding 2553...\n",
      "adding 2554...\n",
      "adding 2555...\n",
      "adding 2556...\n",
      "adding 2557...\n",
      "adding 2558...\n",
      "adding 2559...\n",
      "adding 2560...\n",
      "adding 2561...\n",
      "adding 2562...\n",
      "adding 2563...\n",
      "adding 2564...\n",
      "adding 2565...\n",
      "adding 2566...\n",
      "adding 2567...\n",
      "adding 2568...\n",
      "adding 2569...\n",
      "adding 2570...\n",
      "adding 2571...\n",
      "adding 2572...\n",
      "adding 2573...\n",
      "adding 2574...\n",
      "adding 2575...\n",
      "adding 2576...\n",
      "adding 2577...\n",
      "adding 2578...\n",
      "adding 2579...\n",
      "adding 2580...\n",
      "adding 2581...\n",
      "adding 2582...\n",
      "adding 2583...\n",
      "adding 2584...\n",
      "adding 2585...\n",
      "adding 2586...\n",
      "adding 2587...\n",
      "adding 2588...\n",
      "adding 2589...\n",
      "adding 2590...\n",
      "adding 2591...\n",
      "adding 2592...\n",
      "adding 2593...\n",
      "adding 2594...\n",
      "adding 2595...\n",
      "adding 2596...\n",
      "adding 2597...\n",
      "adding 2598...\n",
      "adding 2599...\n",
      "adding 2600...\n",
      "adding 2601...\n",
      "adding 2602...\n",
      "adding 2603...\n",
      "adding 2604...\n",
      "adding 2605...\n",
      "adding 2606...\n",
      "adding 2607...\n",
      "adding 2608...\n",
      "adding 2609...\n",
      "adding 2610...\n",
      "adding 2611...\n",
      "adding 2612...\n",
      "adding 2613...\n",
      "adding 2614...\n",
      "adding 2615...\n",
      "adding 2616...\n",
      "adding 2617...\n",
      "adding 2618...\n",
      "adding 2619...\n",
      "adding 2620...\n",
      "adding 2621...\n",
      "adding 2622...\n",
      "adding 2623...\n",
      "adding 2624...\n",
      "adding 2625...\n",
      "adding 2626...\n",
      "adding 2627...\n",
      "adding 2628...\n",
      "adding 2629...\n",
      "adding 2630...\n",
      "adding 2631...\n",
      "adding 2632...\n",
      "adding 2633...\n",
      "adding 2634...\n",
      "adding 2635...\n",
      "adding 2636...\n",
      "adding 2637...\n",
      "adding 2638...\n",
      "adding 2639...\n",
      "adding 2640...\n",
      "adding 2641...\n",
      "adding 2642...\n",
      "adding 2643...\n",
      "adding 2644...\n",
      "adding 2645...\n",
      "adding 2646...\n",
      "adding 2647...\n",
      "adding 2648...\n",
      "adding 2649...\n",
      "adding 2650...\n",
      "adding 2651...\n",
      "adding 2652...\n",
      "adding 2653...\n",
      "adding 2654...\n",
      "adding 2655...\n",
      "adding 2656...\n",
      "adding 2657...\n",
      "adding 2658...\n",
      "adding 2659...\n",
      "adding 2660...\n",
      "adding 2661...\n",
      "adding 2662...\n",
      "adding 2663...\n",
      "adding 2664...\n",
      "adding 2665...\n",
      "adding 2666...\n",
      "adding 2667...\n",
      "adding 2668...\n",
      "adding 2669...\n",
      "adding 2670...\n",
      "adding 2671...\n",
      "adding 2672...\n",
      "adding 2673...\n",
      "adding 2674...\n",
      "adding 2675...\n",
      "adding 2676...\n",
      "adding 2677...\n",
      "adding 2678...\n",
      "adding 2679...\n",
      "adding 2680...\n",
      "adding 2681...\n",
      "adding 2682...\n",
      "adding 2683...\n",
      "adding 2684...\n",
      "adding 2685...\n",
      "adding 2686...\n",
      "adding 2687...\n",
      "adding 2688...\n",
      "adding 2689...\n",
      "adding 2690...\n",
      "adding 2691...\n",
      "adding 2692...\n",
      "adding 2693...\n",
      "adding 2694...\n",
      "adding 2695...\n",
      "adding 2696...\n",
      "adding 2697...\n",
      "adding 2698...\n",
      "adding 2699...\n",
      "adding 2700...\n",
      "adding 2701...\n",
      "adding 2702...\n",
      "adding 2703...\n",
      "adding 2704...\n",
      "adding 2705...\n",
      "adding 2706...\n",
      "adding 2707...\n",
      "adding 2708...\n",
      "adding 2709...\n",
      "adding 2710...\n",
      "adding 2711...\n",
      "adding 2712...\n",
      "adding 2713...\n",
      "adding 2714...\n",
      "adding 2715...\n",
      "adding 2716...\n",
      "adding 2717...\n",
      "adding 2718...\n",
      "adding 2719...\n",
      "adding 2720...\n",
      "adding 2721...\n",
      "adding 2722...\n",
      "adding 2723...\n",
      "adding 2724...\n",
      "adding 2725...\n",
      "adding 2726...\n",
      "adding 2727...\n",
      "adding 2728...\n",
      "adding 2729...\n",
      "adding 2730...\n",
      "adding 2731...\n",
      "adding 2732...\n",
      "adding 2733...\n",
      "adding 2734...\n",
      "adding 2735...\n",
      "adding 2736...\n",
      "adding 2737...\n",
      "adding 2738...\n",
      "adding 2739...\n",
      "adding 2740...\n",
      "adding 2741...\n",
      "adding 2742...\n",
      "adding 2743...\n",
      "adding 2744...\n",
      "adding 2745...\n",
      "adding 2746...\n",
      "adding 2747...\n",
      "adding 2748...\n",
      "adding 2749...\n",
      "adding 2750...\n",
      "adding 2751...\n",
      "adding 2752...\n",
      "adding 2753...\n",
      "adding 2754...\n",
      "adding 2755...\n",
      "adding 2756...\n",
      "adding 2757...\n",
      "adding 2758...\n",
      "adding 2759...\n",
      "adding 2760...\n",
      "adding 2761...\n",
      "adding 2762...\n",
      "adding 2763...\n",
      "adding 2764...\n",
      "adding 2765...\n",
      "adding 2766...\n",
      "adding 2767...\n",
      "adding 2768...\n",
      "adding 2769...\n",
      "adding 2770...\n",
      "adding 2771...\n",
      "adding 2772...\n",
      "adding 2773...\n",
      "adding 2774...\n",
      "adding 2775...\n",
      "adding 2776...\n",
      "adding 2777...\n",
      "adding 2778...\n",
      "adding 2779...\n",
      "adding 2780...\n",
      "adding 2781...\n",
      "adding 2782...\n",
      "adding 2783...\n",
      "adding 2784...\n",
      "adding 2785...\n",
      "adding 2786...\n",
      "adding 2787...\n",
      "adding 2788...\n",
      "adding 2789...\n",
      "adding 2790...\n",
      "adding 2791...\n",
      "adding 2792...\n",
      "adding 2793...\n",
      "adding 2794...\n",
      "adding 2795...\n",
      "adding 2796...\n",
      "adding 2797...\n",
      "adding 2798...\n",
      "adding 2799...\n",
      "adding 2800...\n",
      "adding 2801...\n",
      "adding 2802...\n",
      "adding 2803...\n",
      "adding 2804...\n",
      "adding 2805...\n",
      "adding 2806...\n",
      "adding 2807...\n",
      "adding 2808...\n",
      "adding 2809...\n",
      "adding 2810...\n",
      "adding 2811...\n",
      "adding 2812...\n",
      "adding 2813...\n",
      "adding 2814...\n",
      "adding 2815...\n",
      "adding 2816...\n",
      "adding 2817...\n",
      "adding 2818...\n",
      "adding 2819...\n",
      "adding 2820...\n",
      "adding 2821...\n",
      "adding 2822...\n",
      "adding 2823...\n",
      "adding 2824...\n",
      "adding 2825...\n",
      "adding 2826...\n",
      "adding 2827...\n",
      "adding 2828...\n",
      "adding 2829...\n",
      "adding 2830...\n",
      "adding 2831...\n",
      "adding 2832...\n",
      "adding 2833...\n",
      "adding 2834...\n",
      "adding 2835...\n",
      "adding 2836...\n",
      "adding 2837...\n",
      "adding 2838...\n",
      "adding 2839...\n",
      "adding 2840...\n",
      "adding 2841...\n",
      "adding 2842...\n",
      "adding 2843...\n",
      "adding 2844...\n",
      "adding 2845...\n",
      "adding 2846...\n",
      "adding 2847...\n",
      "adding 2848...\n",
      "adding 2849...\n",
      "adding 2850...\n",
      "adding 2851...\n",
      "adding 2852...\n",
      "adding 2853...\n",
      "adding 2854...\n",
      "adding 2855...\n",
      "adding 2856...\n",
      "adding 2857...\n",
      "adding 2858...\n",
      "adding 2859...\n",
      "adding 2860...\n",
      "adding 2861...\n",
      "adding 2862...\n",
      "adding 2863...\n",
      "adding 2864...\n",
      "adding 2865...\n",
      "adding 2866...\n",
      "adding 2867...\n",
      "adding 2868...\n",
      "adding 2869...\n",
      "adding 2870...\n",
      "adding 2871...\n",
      "adding 2872...\n",
      "adding 2873...\n",
      "adding 2874...\n"
     ]
    },
    {
     "name": "stdout",
     "output_type": "stream",
     "text": [
      "adding 2875...\n",
      "adding 2876...\n",
      "adding 2877...\n",
      "adding 2878...\n",
      "adding 2879...\n",
      "adding 2880...\n",
      "adding 2881...\n",
      "adding 2882...\n",
      "adding 2883...\n",
      "adding 2884...\n",
      "adding 2885...\n",
      "adding 2886...\n",
      "adding 2887...\n",
      "adding 2888...\n",
      "adding 2889...\n",
      "adding 2890...\n",
      "adding 2891...\n",
      "adding 2892...\n",
      "adding 2893...\n",
      "adding 2894...\n",
      "adding 2895...\n",
      "adding 2896...\n",
      "adding 2897...\n",
      "adding 2898...\n",
      "adding 2899...\n",
      "adding 2900...\n",
      "adding 2901...\n",
      "adding 2902...\n",
      "adding 2903...\n",
      "adding 2904...\n",
      "adding 2905...\n",
      "adding 2906...\n",
      "adding 2907...\n",
      "adding 2908...\n",
      "adding 2909...\n",
      "adding 2910...\n",
      "adding 2911...\n",
      "adding 2912...\n",
      "adding 2913...\n",
      "adding 2914...\n",
      "adding 2915...\n",
      "adding 2916...\n",
      "adding 2917...\n",
      "adding 2918...\n",
      "adding 2919...\n",
      "adding 2920...\n",
      "adding 2921...\n",
      "adding 2922...\n",
      "adding 2923...\n",
      "adding 2924...\n",
      "adding 2925...\n",
      "adding 2926...\n",
      "adding 2927...\n",
      "adding 2928...\n",
      "adding 2929...\n",
      "adding 2930...\n",
      "adding 2931...\n",
      "adding 2932...\n",
      "adding 2933...\n",
      "adding 2934...\n",
      "adding 2935...\n",
      "adding 2936...\n",
      "adding 2937...\n",
      "adding 2938...\n",
      "adding 2939...\n",
      "adding 2940...\n",
      "adding 2941...\n",
      "adding 2942...\n",
      "adding 2943...\n",
      "adding 2944...\n",
      "adding 2945...\n",
      "adding 2946...\n",
      "adding 2947...\n",
      "adding 2948...\n",
      "adding 2949...\n",
      "adding 2950...\n",
      "adding 2951...\n",
      "adding 2952...\n",
      "adding 2953...\n",
      "adding 2954...\n",
      "adding 2955...\n",
      "adding 2956...\n",
      "adding 2957...\n",
      "adding 2958...\n",
      "adding 2959...\n",
      "adding 2960...\n",
      "adding 2961...\n",
      "adding 2962...\n",
      "adding 2963...\n",
      "adding 2964...\n",
      "adding 2965...\n",
      "adding 2966...\n",
      "adding 2967...\n",
      "adding 2968...\n",
      "adding 2969...\n",
      "adding 2970...\n",
      "adding 2971...\n",
      "adding 2972...\n",
      "adding 2973...\n",
      "adding 2974...\n",
      "adding 2975...\n",
      "adding 2976...\n",
      "adding 2977...\n",
      "adding 2978...\n",
      "adding 2979...\n",
      "adding 2980...\n",
      "adding 2981...\n",
      "adding 2982...\n",
      "adding 2983...\n",
      "adding 2984...\n",
      "adding 2985...\n",
      "adding 2986...\n",
      "adding 2987...\n",
      "adding 2988...\n",
      "adding 2989...\n",
      "adding 2990...\n",
      "adding 2991...\n",
      "adding 2992...\n",
      "adding 2993...\n",
      "adding 2994...\n",
      "adding 2995...\n",
      "adding 2996...\n",
      "adding 2997...\n",
      "adding 2998...\n",
      "adding 2999...\n",
      "adding 3000...\n",
      "adding 3001...\n",
      "adding 3002...\n",
      "adding 3003...\n",
      "adding 3004...\n",
      "adding 3005...\n",
      "adding 3006...\n",
      "adding 3007...\n",
      "adding 3008...\n",
      "adding 3009...\n",
      "adding 3010...\n",
      "adding 3011...\n",
      "adding 3012...\n",
      "adding 3013...\n",
      "adding 3014...\n",
      "adding 3015...\n",
      "adding 3016...\n",
      "adding 3017...\n",
      "adding 3018...\n",
      "adding 3019...\n",
      "adding 3020...\n",
      "adding 3021...\n",
      "adding 3022...\n",
      "adding 3023...\n",
      "adding 3024...\n",
      "adding 3025...\n",
      "adding 3026...\n",
      "adding 3027...\n",
      "adding 3028...\n",
      "adding 3029...\n",
      "adding 3030...\n",
      "adding 3031...\n",
      "adding 3032...\n",
      "adding 3033...\n",
      "adding 3034...\n",
      "adding 3035...\n",
      "adding 3036...\n",
      "adding 3037...\n",
      "adding 3038...\n",
      "adding 3039...\n",
      "adding 3040...\n",
      "adding 3041...\n",
      "adding 3042...\n",
      "adding 3043...\n",
      "adding 3044...\n",
      "adding 3045...\n",
      "adding 3046...\n",
      "adding 3047...\n",
      "adding 3048...\n",
      "adding 3049...\n",
      "adding 3050...\n",
      "adding 3051...\n",
      "adding 3052...\n",
      "adding 3053...\n",
      "adding 3054...\n",
      "adding 3055...\n",
      "adding 3056...\n",
      "adding 3057...\n",
      "adding 3058...\n",
      "adding 3059...\n",
      "adding 3060...\n",
      "adding 3061...\n",
      "adding 3062...\n",
      "adding 3063...\n",
      "adding 3064...\n",
      "adding 3065...\n",
      "adding 3066...\n",
      "adding 3067...\n",
      "adding 3068...\n",
      "adding 3069...\n",
      "adding 3070...\n",
      "adding 3071...\n",
      "adding 3072...\n",
      "adding 3073...\n",
      "adding 3074...\n",
      "adding 3075...\n",
      "adding 3076...\n",
      "adding 3077...\n",
      "adding 3078...\n",
      "adding 3079...\n",
      "adding 3080...\n",
      "adding 3081...\n",
      "adding 3082...\n",
      "adding 3083...\n",
      "adding 3084...\n",
      "adding 3085...\n",
      "adding 3086...\n",
      "adding 3087...\n",
      "adding 3088...\n",
      "adding 3089...\n",
      "adding 3090...\n",
      "adding 3091...\n",
      "adding 3092...\n",
      "adding 3093...\n",
      "adding 3094...\n",
      "adding 3095...\n",
      "adding 3096...\n",
      "adding 3097...\n",
      "adding 3098...\n",
      "adding 3099...\n",
      "adding 3100...\n",
      "adding 3101...\n",
      "adding 3102...\n",
      "adding 3103...\n",
      "adding 3104...\n",
      "adding 3105...\n",
      "adding 3106...\n",
      "adding 3107...\n",
      "adding 3108...\n",
      "adding 3109...\n",
      "adding 3110...\n",
      "adding 3111...\n",
      "adding 3112...\n",
      "adding 3113...\n",
      "adding 3114...\n",
      "adding 3115...\n",
      "adding 3116...\n",
      "adding 3117...\n",
      "adding 3118...\n",
      "adding 3119...\n",
      "adding 3120...\n",
      "adding 3121...\n",
      "adding 3122...\n",
      "adding 3123...\n",
      "adding 3124...\n",
      "adding 3125...\n",
      "adding 3126...\n",
      "adding 3127...\n",
      "adding 3128...\n",
      "adding 3129...\n",
      "adding 3130...\n",
      "adding 3131...\n",
      "adding 3132...\n",
      "adding 3133...\n",
      "adding 3134...\n",
      "adding 3135...\n",
      "adding 3136...\n",
      "adding 3137...\n",
      "adding 3138...\n",
      "adding 3139...\n",
      "adding 3140...\n",
      "adding 3141...\n",
      "adding 3142...\n",
      "adding 3143...\n",
      "adding 3144...\n",
      "adding 3145...\n",
      "adding 3146...\n",
      "adding 3147...\n",
      "adding 3148...\n",
      "adding 3149...\n",
      "adding 3150...\n",
      "adding 3151...\n",
      "adding 3152...\n",
      "adding 3153...\n",
      "adding 3154...\n",
      "adding 3155...\n",
      "adding 3156...\n",
      "adding 3157...\n",
      "adding 3158...\n",
      "adding 3159...\n",
      "adding 3160...\n",
      "adding 3161...\n",
      "adding 3162...\n",
      "adding 3163...\n",
      "adding 3164...\n",
      "adding 3165...\n",
      "adding 3166...\n",
      "adding 3167...\n",
      "adding 3168...\n",
      "adding 3169...\n",
      "adding 3170...\n",
      "adding 3171...\n",
      "adding 3172...\n",
      "adding 3173...\n",
      "adding 3174...\n",
      "adding 3175...\n",
      "adding 3176...\n",
      "adding 3177...\n",
      "adding 3178...\n",
      "adding 3179...\n",
      "adding 3180...\n",
      "adding 3181...\n",
      "adding 3182...\n",
      "adding 3183...\n",
      "adding 3184...\n",
      "adding 3185...\n",
      "adding 3186...\n",
      "adding 3187...\n",
      "adding 3188...\n",
      "adding 3189...\n",
      "adding 3190...\n",
      "adding 3191...\n",
      "adding 3192...\n",
      "adding 3193...\n",
      "adding 3194...\n",
      "adding 3195...\n",
      "adding 3196...\n",
      "adding 3197...\n",
      "adding 3198...\n",
      "adding 3199...\n",
      "adding 3200...\n",
      "adding 3201...\n",
      "adding 3202...\n",
      "adding 3203...\n",
      "adding 3204...\n",
      "adding 3205...\n",
      "adding 3206...\n",
      "adding 3207...\n",
      "adding 3208...\n",
      "adding 3209...\n",
      "adding 3210...\n",
      "adding 3211...\n",
      "adding 3212...\n",
      "adding 3213...\n",
      "adding 3214...\n",
      "adding 3215...\n",
      "adding 3216...\n",
      "adding 3217...\n",
      "adding 3218...\n",
      "adding 3219...\n",
      "adding 3220...\n",
      "adding 3221...\n",
      "adding 3222...\n",
      "adding 3223...\n",
      "adding 3224...\n",
      "adding 3225...\n",
      "adding 3226...\n",
      "adding 3227...\n",
      "adding 3228...\n",
      "adding 3229...\n",
      "adding 3230...\n",
      "adding 3231...\n",
      "adding 3232...\n",
      "adding 3233...\n",
      "adding 3234...\n",
      "adding 3235...\n",
      "adding 3236...\n",
      "adding 3237...\n",
      "adding 3238...\n",
      "adding 3239...\n",
      "adding 3240...\n",
      "adding 3241...\n",
      "adding 3242...\n",
      "adding 3243...\n",
      "adding 3244...\n",
      "adding 3245...\n",
      "adding 3246...\n",
      "adding 3247...\n",
      "adding 3248...\n",
      "adding 3249...\n",
      "adding 3250...\n",
      "adding 3251...\n",
      "adding 3252...\n",
      "adding 3253...\n",
      "adding 3254...\n",
      "adding 3255...\n",
      "adding 3256...\n",
      "adding 3257...\n",
      "adding 3258...\n",
      "adding 3259...\n",
      "adding 3260...\n",
      "adding 3261...\n",
      "adding 3262...\n",
      "adding 3263...\n",
      "adding 3264...\n",
      "adding 3265...\n",
      "adding 3266...\n",
      "adding 3267...\n",
      "adding 3268...\n",
      "adding 3269...\n",
      "adding 3270...\n",
      "adding 3271...\n",
      "adding 3272...\n",
      "adding 3273...\n",
      "adding 3274...\n",
      "adding 3275...\n",
      "adding 3276...\n",
      "adding 3277...\n",
      "adding 3278...\n",
      "adding 3279...\n",
      "adding 3280...\n",
      "adding 3281...\n",
      "adding 3282...\n",
      "adding 3283...\n",
      "adding 3284...\n",
      "adding 3285...\n",
      "adding 3286...\n",
      "adding 3287...\n",
      "adding 3288...\n",
      "adding 3289...\n",
      "adding 3290...\n",
      "adding 3291...\n",
      "adding 3292...\n",
      "adding 3293...\n",
      "adding 3294...\n",
      "adding 3295...\n",
      "adding 3296...\n",
      "adding 3297...\n",
      "adding 3298...\n",
      "adding 3299...\n",
      "adding 3300...\n",
      "adding 3301...\n",
      "adding 3302...\n",
      "adding 3303...\n",
      "adding 3304...\n",
      "adding 3305...\n",
      "adding 3306...\n",
      "adding 3307...\n",
      "adding 3308...\n",
      "adding 3309...\n",
      "adding 3310...\n",
      "adding 3311...\n",
      "adding 3312...\n",
      "adding 3313...\n",
      "adding 3314...\n",
      "adding 3315...\n",
      "adding 3316...\n",
      "adding 3317...\n",
      "adding 3318...\n",
      "adding 3319...\n",
      "adding 3320...\n",
      "adding 3321...\n",
      "adding 3322...\n",
      "adding 3323...\n",
      "adding 3324...\n",
      "adding 3325...\n",
      "adding 3326...\n",
      "adding 3327...\n",
      "adding 3328...\n",
      "adding 3329...\n",
      "adding 3330...\n",
      "adding 3331...\n",
      "adding 3332...\n",
      "adding 3333...\n",
      "adding 3334...\n",
      "adding 3335...\n",
      "adding 3336...\n",
      "adding 3337...\n",
      "adding 3338...\n",
      "adding 3339...\n",
      "adding 3340...\n",
      "adding 3341...\n",
      "adding 3342...\n",
      "adding 3343...\n",
      "adding 3344...\n",
      "adding 3345...\n",
      "adding 3346...\n",
      "adding 3347...\n",
      "adding 3348...\n",
      "adding 3349...\n",
      "adding 3350...\n",
      "adding 3351...\n",
      "adding 3352...\n",
      "adding 3353...\n",
      "adding 3354...\n",
      "adding 3355...\n",
      "adding 3356...\n",
      "adding 3357...\n",
      "adding 3358...\n",
      "adding 3359...\n",
      "adding 3360...\n",
      "adding 3361...\n",
      "adding 3362...\n",
      "adding 3363...\n",
      "adding 3364...\n",
      "adding 3365...\n",
      "adding 3366...\n",
      "adding 3367...\n",
      "adding 3368...\n",
      "adding 3369...\n",
      "adding 3370...\n",
      "adding 3371...\n",
      "adding 3372...\n",
      "adding 3373...\n",
      "adding 3374...\n",
      "adding 3375...\n",
      "adding 3376...\n",
      "adding 3377...\n",
      "adding 3378...\n",
      "adding 3379...\n",
      "adding 3380...\n",
      "adding 3381...\n",
      "adding 3382...\n",
      "adding 3383...\n",
      "adding 3384...\n",
      "adding 3385...\n",
      "adding 3386...\n",
      "adding 3387...\n",
      "adding 3388...\n",
      "adding 3389...\n",
      "adding 3390...\n",
      "adding 3391...\n",
      "adding 3392...\n",
      "adding 3393...\n",
      "adding 3394...\n",
      "adding 3395...\n",
      "adding 3396...\n",
      "adding 3397...\n",
      "adding 3398...\n",
      "adding 3399...\n",
      "adding 3400...\n",
      "adding 3401...\n",
      "adding 3402...\n",
      "adding 3403...\n",
      "adding 3404...\n",
      "adding 3405...\n",
      "adding 3406...\n",
      "adding 3407...\n",
      "adding 3408...\n",
      "adding 3409...\n",
      "adding 3410...\n",
      "adding 3411...\n",
      "adding 3412...\n",
      "adding 3413...\n",
      "adding 3414...\n",
      "adding 3415...\n",
      "adding 3416...\n",
      "adding 3417...\n",
      "adding 3418...\n",
      "adding 3419...\n",
      "adding 3420...\n",
      "adding 3421...\n",
      "adding 3422...\n",
      "adding 3423...\n",
      "adding 3424...\n",
      "adding 3425...\n",
      "adding 3426...\n",
      "adding 3427...\n"
     ]
    },
    {
     "name": "stdout",
     "output_type": "stream",
     "text": [
      "adding 3428...\n",
      "adding 3429...\n",
      "adding 3430...\n",
      "adding 3431...\n",
      "adding 3432...\n",
      "adding 3433...\n",
      "adding 3434...\n",
      "adding 3435...\n",
      "adding 3436...\n",
      "adding 3437...\n",
      "adding 3438...\n",
      "adding 3439...\n",
      "adding 3440...\n",
      "adding 3441...\n",
      "adding 3442...\n",
      "adding 3443...\n",
      "adding 3444...\n",
      "adding 3445...\n",
      "adding 3446...\n",
      "adding 3447...\n",
      "adding 3448...\n",
      "adding 3449...\n",
      "adding 3450...\n",
      "adding 3451...\n",
      "adding 3452...\n",
      "adding 3453...\n",
      "adding 3454...\n",
      "adding 3455...\n",
      "adding 3456...\n",
      "adding 3457...\n",
      "adding 3458...\n",
      "adding 3459...\n",
      "adding 3460...\n",
      "adding 3461...\n",
      "adding 3462...\n",
      "adding 3463...\n",
      "adding 3464...\n",
      "adding 3465...\n",
      "adding 3466...\n",
      "adding 3467...\n",
      "adding 3468...\n",
      "adding 3469...\n",
      "adding 3470...\n",
      "adding 3471...\n",
      "adding 3472...\n",
      "adding 3473...\n",
      "adding 3474...\n",
      "adding 3475...\n",
      "adding 3476...\n",
      "adding 3477...\n",
      "adding 3478...\n",
      "adding 3479...\n",
      "adding 3480...\n",
      "adding 3481...\n",
      "adding 3482...\n",
      "adding 3483...\n",
      "adding 3484...\n",
      "adding 3485...\n",
      "adding 3486...\n",
      "adding 3487...\n",
      "adding 3488...\n",
      "adding 3489...\n",
      "adding 3490...\n",
      "adding 3491...\n",
      "adding 3492...\n",
      "adding 3493...\n",
      "adding 3494...\n",
      "adding 3495...\n",
      "adding 3496...\n",
      "adding 3497...\n",
      "adding 3498...\n",
      "adding 3499...\n",
      "adding 3500...\n",
      "adding 3501...\n",
      "adding 3502...\n",
      "adding 3503...\n",
      "adding 3504...\n",
      "adding 3505...\n",
      "adding 3506...\n",
      "adding 3507...\n",
      "adding 3508...\n",
      "adding 3509...\n",
      "adding 3510...\n",
      "adding 3511...\n",
      "adding 3512...\n",
      "adding 3513...\n",
      "adding 3514...\n",
      "adding 3515...\n",
      "adding 3516...\n",
      "adding 3517...\n",
      "adding 3518...\n",
      "adding 3519...\n",
      "adding 3520...\n",
      "adding 3521...\n",
      "adding 3522...\n",
      "adding 3523...\n",
      "adding 3524...\n",
      "adding 3525...\n",
      "adding 3526...\n",
      "adding 3527...\n",
      "adding 3528...\n",
      "adding 3529...\n",
      "adding 3530...\n",
      "adding 3531...\n",
      "adding 3532...\n",
      "adding 3533...\n",
      "adding 3534...\n",
      "adding 3535...\n",
      "adding 3536...\n",
      "adding 3537...\n",
      "adding 3538...\n",
      "adding 3539...\n",
      "adding 3540...\n",
      "adding 3541...\n",
      "adding 3542...\n",
      "adding 3543...\n",
      "adding 3544...\n",
      "adding 3545...\n",
      "adding 3546...\n",
      "adding 3547...\n",
      "adding 3548...\n",
      "adding 3549...\n",
      "adding 3550...\n",
      "adding 3551...\n",
      "adding 3552...\n",
      "adding 3553...\n",
      "adding 3554...\n",
      "adding 3555...\n",
      "adding 3556...\n",
      "adding 3557...\n",
      "adding 3558...\n",
      "adding 3559...\n",
      "adding 3560...\n",
      "adding 3561...\n",
      "adding 3562...\n",
      "adding 3563...\n",
      "adding 3564...\n",
      "adding 3565...\n",
      "adding 3566...\n",
      "adding 3567...\n",
      "adding 3568...\n",
      "adding 3569...\n",
      "adding 3570...\n",
      "adding 3571...\n",
      "adding 3572...\n",
      "adding 3573...\n",
      "adding 3574...\n",
      "adding 3575...\n",
      "adding 3576...\n",
      "adding 3577...\n",
      "adding 3578...\n",
      "adding 3579...\n",
      "adding 3580...\n",
      "adding 3581...\n",
      "adding 3582...\n",
      "adding 3583...\n",
      "adding 3584...\n",
      "adding 3585...\n",
      "adding 3586...\n",
      "adding 3587...\n",
      "adding 3588...\n",
      "adding 3589...\n",
      "adding 3590...\n",
      "adding 3591...\n",
      "adding 3592...\n",
      "adding 3593...\n",
      "adding 3594...\n",
      "adding 3595...\n",
      "adding 3596...\n",
      "adding 3597...\n",
      "adding 3598...\n",
      "adding 3599...\n",
      "adding 3600...\n",
      "adding 3601...\n",
      "adding 3602...\n",
      "adding 3603...\n",
      "adding 3604...\n",
      "adding 3605...\n",
      "adding 3606...\n",
      "adding 3607...\n",
      "adding 3608...\n",
      "adding 3609...\n",
      "adding 3610...\n",
      "adding 3611...\n",
      "adding 3612...\n",
      "adding 3613...\n",
      "adding 3614...\n",
      "adding 3615...\n",
      "adding 3616...\n",
      "adding 3617...\n",
      "adding 3618...\n",
      "adding 3619...\n",
      "adding 3620...\n",
      "adding 3621...\n",
      "adding 3622...\n",
      "adding 3623...\n",
      "adding 3624...\n",
      "adding 3625...\n",
      "adding 3626...\n",
      "adding 3627...\n",
      "adding 3628...\n",
      "adding 3629...\n",
      "adding 3630...\n",
      "adding 3631...\n",
      "adding 3632...\n",
      "adding 3633...\n",
      "adding 3634...\n",
      "adding 3635...\n",
      "adding 3636...\n",
      "adding 3637...\n",
      "adding 3638...\n",
      "adding 3639...\n",
      "adding 3640...\n",
      "adding 3641...\n",
      "adding 3642...\n",
      "adding 3643...\n",
      "adding 3644...\n",
      "adding 3645...\n",
      "adding 3646...\n",
      "adding 3647...\n",
      "adding 3648...\n",
      "adding 3649...\n",
      "adding 3650...\n",
      "adding 3651...\n",
      "adding 3652...\n",
      "adding 3653...\n",
      "adding 3654...\n",
      "adding 3655...\n",
      "adding 3656...\n",
      "adding 3657...\n",
      "adding 3658...\n",
      "adding 3659...\n",
      "adding 3660...\n",
      "adding 3661...\n",
      "adding 3662...\n",
      "adding 3663...\n",
      "adding 3664...\n",
      "adding 3665...\n",
      "adding 3666...\n",
      "adding 3667...\n",
      "adding 3668...\n",
      "adding 3669...\n",
      "adding 3670...\n",
      "adding 3671...\n",
      "adding 3672...\n",
      "adding 3673...\n",
      "adding 3674...\n",
      "adding 3675...\n",
      "adding 3676...\n",
      "adding 3677...\n",
      "adding 3678...\n",
      "adding 3679...\n",
      "adding 3680...\n",
      "adding 3681...\n",
      "adding 3682...\n",
      "adding 3683...\n",
      "adding 3684...\n",
      "adding 3685...\n",
      "adding 3686...\n",
      "adding 3687...\n",
      "adding 3688...\n",
      "adding 3689...\n",
      "adding 3690...\n",
      "adding 3691...\n",
      "adding 3692...\n",
      "adding 3693...\n",
      "adding 3694...\n",
      "adding 3695...\n",
      "adding 3696...\n",
      "adding 3697...\n",
      "adding 3698...\n",
      "adding 3699...\n",
      "adding 3700...\n",
      "adding 3701...\n",
      "adding 3702...\n",
      "adding 3703...\n",
      "adding 3704...\n",
      "adding 3705...\n",
      "adding 3706...\n",
      "adding 3707...\n",
      "adding 3708...\n",
      "adding 3709...\n",
      "adding 3710...\n",
      "adding 3711...\n",
      "adding 3712...\n",
      "adding 3713...\n",
      "adding 3714...\n",
      "adding 3715...\n",
      "adding 3716...\n",
      "adding 3717...\n",
      "adding 3718...\n",
      "adding 3719...\n",
      "adding 3720...\n",
      "adding 3721...\n",
      "adding 3722...\n",
      "adding 3723...\n",
      "adding 3724...\n",
      "adding 3725...\n",
      "adding 3726...\n",
      "adding 3727...\n",
      "adding 3728...\n",
      "adding 3729...\n",
      "adding 3730...\n",
      "adding 3731...\n",
      "adding 3732...\n",
      "adding 3733...\n",
      "adding 3734...\n",
      "adding 3735...\n",
      "adding 3736...\n",
      "adding 3737...\n",
      "adding 3738...\n",
      "adding 3739...\n",
      "adding 3740...\n",
      "adding 3741...\n",
      "adding 3742...\n",
      "adding 3743...\n",
      "adding 3744...\n",
      "adding 3745...\n",
      "adding 3746...\n",
      "adding 3747...\n",
      "adding 3748...\n",
      "adding 3749...\n",
      "adding 3750...\n",
      "adding 3751...\n",
      "adding 3752...\n",
      "adding 3753...\n",
      "adding 3754...\n",
      "adding 3755...\n",
      "adding 3756...\n",
      "adding 3757...\n",
      "adding 3758...\n",
      "adding 3759...\n",
      "adding 3760...\n",
      "adding 3761...\n",
      "adding 3762...\n",
      "adding 3763...\n",
      "adding 3764...\n",
      "adding 3765...\n",
      "adding 3766...\n",
      "adding 3767...\n",
      "adding 3768...\n",
      "adding 3769...\n",
      "adding 3770...\n",
      "adding 3771...\n",
      "adding 3772...\n",
      "adding 3773...\n",
      "adding 3774...\n",
      "adding 3775...\n",
      "adding 3776...\n",
      "adding 3777...\n",
      "adding 3778...\n",
      "adding 3779...\n",
      "adding 3780...\n",
      "adding 3781...\n",
      "adding 3782...\n",
      "adding 3783...\n",
      "adding 3784...\n",
      "adding 3785...\n",
      "adding 3786...\n",
      "adding 3787...\n",
      "adding 3788...\n",
      "adding 3789...\n",
      "adding 3790...\n",
      "adding 3791...\n",
      "adding 3792...\n",
      "adding 3793...\n",
      "adding 3794...\n",
      "adding 3795...\n",
      "adding 3796...\n",
      "adding 3797...\n",
      "adding 3798...\n",
      "adding 3799...\n",
      "adding 3800...\n",
      "adding 3801...\n",
      "adding 3802...\n",
      "adding 3803...\n",
      "adding 3804...\n",
      "adding 3805...\n",
      "adding 3806...\n",
      "adding 3807...\n",
      "adding 3808...\n",
      "adding 3809...\n",
      "adding 3810...\n",
      "adding 3811...\n",
      "adding 3812...\n",
      "adding 3813...\n",
      "adding 3814...\n",
      "adding 3815...\n",
      "adding 3816...\n",
      "adding 3817...\n",
      "adding 3818...\n",
      "adding 3819...\n",
      "adding 3820...\n",
      "adding 3821...\n",
      "adding 3822...\n",
      "adding 3823...\n",
      "adding 3824...\n",
      "adding 3825...\n",
      "adding 3826...\n",
      "adding 3827...\n",
      "adding 3828...\n",
      "adding 3829...\n",
      "adding 3830...\n",
      "adding 3831...\n",
      "adding 3832...\n",
      "adding 3833...\n",
      "adding 3834...\n",
      "adding 3835...\n",
      "adding 3836...\n",
      "adding 3837...\n",
      "adding 3838...\n",
      "adding 3839...\n",
      "adding 3840...\n",
      "adding 3841...\n",
      "adding 3842...\n",
      "adding 3843...\n",
      "adding 3844...\n",
      "adding 3845...\n",
      "adding 3846...\n",
      "adding 3847...\n",
      "adding 3848...\n",
      "adding 3849...\n",
      "adding 3850...\n",
      "adding 3851...\n",
      "adding 3852...\n",
      "adding 3853...\n",
      "adding 3854...\n",
      "adding 3855...\n",
      "adding 3856...\n",
      "adding 3857...\n",
      "adding 3858...\n",
      "adding 3859...\n",
      "adding 3860...\n",
      "adding 3861...\n",
      "adding 3862...\n",
      "adding 3863...\n",
      "adding 3864...\n",
      "adding 3865...\n",
      "adding 3866...\n",
      "adding 3867...\n",
      "adding 3868...\n",
      "adding 3869...\n",
      "adding 3870...\n",
      "adding 3871...\n",
      "adding 3872...\n",
      "adding 3873...\n",
      "adding 3874...\n",
      "adding 3875...\n",
      "adding 3876...\n",
      "adding 3877...\n",
      "adding 3878...\n",
      "adding 3879...\n",
      "adding 3880...\n",
      "adding 3881...\n",
      "adding 3882...\n",
      "adding 3883...\n",
      "adding 3884...\n",
      "adding 3885...\n",
      "adding 3886...\n",
      "adding 3887...\n",
      "adding 3888...\n",
      "adding 3889...\n",
      "adding 3890...\n",
      "adding 3891...\n",
      "adding 3892...\n",
      "adding 3893...\n",
      "adding 3894...\n",
      "adding 3895...\n",
      "adding 3896...\n",
      "adding 3897...\n",
      "adding 3898...\n",
      "adding 3899...\n",
      "adding 3900...\n",
      "adding 3901...\n",
      "adding 3902...\n",
      "adding 3903...\n",
      "adding 3904...\n",
      "adding 3905...\n",
      "adding 3906...\n",
      "adding 3907...\n",
      "adding 3908...\n",
      "adding 3909...\n",
      "adding 3910...\n",
      "adding 3911...\n",
      "adding 3912...\n",
      "adding 3913...\n",
      "adding 3914...\n",
      "adding 3915...\n",
      "adding 3916...\n",
      "adding 3917...\n",
      "adding 3918...\n",
      "adding 3919...\n",
      "adding 3920...\n",
      "adding 3921...\n",
      "adding 3922...\n",
      "adding 3923...\n",
      "adding 3924...\n",
      "adding 3925...\n",
      "adding 3926...\n",
      "adding 3927...\n",
      "adding 3928...\n",
      "adding 3929...\n",
      "adding 3930...\n",
      "adding 3931...\n",
      "adding 3932...\n",
      "adding 3933...\n",
      "adding 3934...\n",
      "adding 3935...\n",
      "adding 3936...\n",
      "adding 3937...\n",
      "adding 3938...\n",
      "adding 3939...\n",
      "adding 3940...\n",
      "adding 3941...\n",
      "adding 3942...\n",
      "adding 3943...\n",
      "adding 3944...\n",
      "adding 3945...\n",
      "adding 3946...\n",
      "adding 3947...\n",
      "adding 3948...\n",
      "adding 3949...\n",
      "adding 3950...\n",
      "adding 3951...\n",
      "adding 3952...\n",
      "adding 3953...\n",
      "adding 3954...\n",
      "adding 3955...\n",
      "adding 3956...\n",
      "adding 3957...\n",
      "adding 3958...\n",
      "adding 3959...\n",
      "adding 3960...\n",
      "adding 3961...\n",
      "adding 3962...\n",
      "adding 3963...\n",
      "adding 3964...\n",
      "adding 3965...\n",
      "adding 3966...\n",
      "adding 3967...\n",
      "adding 3968...\n",
      "adding 3969...\n",
      "adding 3970...\n",
      "adding 3971...\n",
      "adding 3972...\n",
      "adding 3973...\n",
      "adding 3974...\n",
      "adding 3975...\n",
      "adding 3976...\n",
      "adding 3977...\n",
      "adding 3978...\n",
      "adding 3979...\n"
     ]
    },
    {
     "name": "stdout",
     "output_type": "stream",
     "text": [
      "adding 3980...\n",
      "adding 3981...\n",
      "adding 3982...\n",
      "adding 3983...\n",
      "adding 3984...\n",
      "adding 3985...\n",
      "adding 3986...\n",
      "adding 3987...\n",
      "adding 3988...\n",
      "adding 3989...\n",
      "adding 3990...\n",
      "adding 3991...\n",
      "adding 3992...\n",
      "adding 3993...\n",
      "adding 3994...\n",
      "adding 3995...\n",
      "adding 3996...\n",
      "adding 3997...\n",
      "adding 3998...\n",
      "adding 3999...\n",
      "adding 4000...\n",
      "adding 4001...\n",
      "adding 4002...\n",
      "adding 4003...\n",
      "adding 4004...\n",
      "adding 4005...\n",
      "adding 4006...\n",
      "adding 4007...\n",
      "adding 4008...\n",
      "adding 4009...\n",
      "adding 4010...\n",
      "adding 4011...\n",
      "adding 4012...\n",
      "adding 4013...\n",
      "adding 4014...\n",
      "adding 4015...\n",
      "adding 4016...\n",
      "adding 4017...\n",
      "adding 4018...\n",
      "adding 4019...\n",
      "adding 4020...\n",
      "adding 4021...\n",
      "adding 4022...\n",
      "adding 4023...\n",
      "adding 4024...\n",
      "adding 4025...\n",
      "adding 4026...\n",
      "adding 4027...\n",
      "adding 4028...\n",
      "adding 4029...\n",
      "adding 4030...\n",
      "adding 4031...\n",
      "adding 4032...\n",
      "adding 4033...\n",
      "adding 4034...\n",
      "adding 4035...\n",
      "adding 4036...\n",
      "adding 4037...\n",
      "adding 4038...\n",
      "adding 4039...\n",
      "adding 4040...\n",
      "adding 4041...\n",
      "adding 4042...\n",
      "adding 4043...\n",
      "adding 4044...\n",
      "adding 4045...\n",
      "adding 4046...\n",
      "adding 4047...\n",
      "adding 4048...\n",
      "adding 4049...\n",
      "adding 4050...\n",
      "adding 4051...\n",
      "adding 4052...\n",
      "adding 4053...\n",
      "adding 4054...\n",
      "adding 4055...\n",
      "adding 4056...\n",
      "adding 4057...\n",
      "adding 4058...\n",
      "adding 4059...\n",
      "adding 4060...\n",
      "adding 4061...\n",
      "adding 4062...\n",
      "adding 4063...\n",
      "adding 4064...\n",
      "adding 4065...\n",
      "adding 4066...\n",
      "adding 4067...\n",
      "adding 4068...\n",
      "adding 4069...\n",
      "adding 4070...\n",
      "adding 4071...\n",
      "adding 4072...\n",
      "adding 4073...\n",
      "adding 4074...\n",
      "adding 4075...\n",
      "adding 4076...\n",
      "adding 4077...\n",
      "adding 4078...\n",
      "adding 4079...\n",
      "adding 4080...\n",
      "adding 4081...\n",
      "adding 4082...\n",
      "adding 4083...\n",
      "adding 4084...\n",
      "adding 4085...\n",
      "adding 4086...\n",
      "adding 4087...\n",
      "adding 4088...\n",
      "adding 4089...\n",
      "adding 4090...\n",
      "adding 4091...\n",
      "adding 4092...\n",
      "adding 4093...\n",
      "adding 4094...\n",
      "adding 4095...\n",
      "adding 4096...\n",
      "adding 4097...\n",
      "adding 4098...\n",
      "adding 4099...\n",
      "adding 4100...\n",
      "adding 4101...\n",
      "adding 4102...\n",
      "adding 4103...\n",
      "adding 4104...\n",
      "adding 4105...\n",
      "adding 4106...\n",
      "adding 4107...\n",
      "adding 4108...\n",
      "adding 4109...\n",
      "adding 4110...\n",
      "adding 4111...\n",
      "adding 4112...\n",
      "adding 4113...\n",
      "adding 4114...\n",
      "adding 4115...\n",
      "adding 4116...\n",
      "adding 4117...\n",
      "adding 4118...\n",
      "adding 4119...\n",
      "adding 4120...\n",
      "adding 4121...\n",
      "adding 4122...\n",
      "adding 4123...\n",
      "adding 4124...\n",
      "adding 4125...\n",
      "adding 4126...\n",
      "adding 4127...\n",
      "adding 4128...\n",
      "adding 4129...\n",
      "adding 4130...\n",
      "adding 4131...\n",
      "adding 4132...\n",
      "adding 4133...\n",
      "adding 4134...\n",
      "adding 4135...\n",
      "adding 4136...\n",
      "adding 4137...\n",
      "adding 4138...\n",
      "adding 4139...\n",
      "adding 4140...\n",
      "adding 4141...\n",
      "adding 4142...\n",
      "adding 4143...\n",
      "adding 4144...\n",
      "adding 4145...\n",
      "adding 4146...\n",
      "adding 4147...\n",
      "adding 4148...\n",
      "adding 4149...\n",
      "adding 4150...\n",
      "adding 4151...\n",
      "adding 4152...\n",
      "adding 4153...\n",
      "adding 4154...\n",
      "adding 4155...\n",
      "adding 4156...\n",
      "adding 4157...\n",
      "adding 4158...\n",
      "adding 4159...\n",
      "adding 4160...\n",
      "adding 4161...\n",
      "adding 4162...\n",
      "adding 4163...\n",
      "adding 4164...\n",
      "adding 4165...\n",
      "adding 4166...\n",
      "adding 4167...\n",
      "adding 4168...\n",
      "adding 4169...\n",
      "adding 4170...\n",
      "adding 4171...\n",
      "adding 4172...\n",
      "adding 4173...\n",
      "adding 4174...\n",
      "adding 4175...\n",
      "adding 4176...\n",
      "adding 4177...\n",
      "adding 4178...\n",
      "adding 4179...\n",
      "adding 4180...\n",
      "adding 4181...\n",
      "adding 4182...\n",
      "adding 4183...\n",
      "adding 4184...\n",
      "adding 4185...\n",
      "adding 4186...\n",
      "adding 4187...\n",
      "adding 4188...\n",
      "adding 4189...\n",
      "adding 4190...\n",
      "adding 4191...\n",
      "adding 4192...\n",
      "adding 4193...\n",
      "adding 4194...\n",
      "adding 4195...\n",
      "adding 4196...\n",
      "adding 4197...\n",
      "adding 4198...\n",
      "adding 4199...\n",
      "adding 4200...\n",
      "adding 4201...\n",
      "adding 4202...\n",
      "adding 4203...\n",
      "adding 4204...\n",
      "adding 4205...\n",
      "adding 4206...\n",
      "adding 4207...\n",
      "adding 4208...\n",
      "adding 4209...\n",
      "adding 4210...\n",
      "adding 4211...\n",
      "adding 4212...\n",
      "adding 4213...\n",
      "adding 4214...\n",
      "adding 4215...\n",
      "adding 4216...\n",
      "adding 4217...\n",
      "adding 4218...\n",
      "adding 4219...\n",
      "adding 4220...\n",
      "adding 4221...\n",
      "adding 4222...\n",
      "adding 4223...\n",
      "adding 4224...\n",
      "adding 4225...\n",
      "adding 4226...\n",
      "adding 4227...\n",
      "adding 4228...\n",
      "adding 4229...\n",
      "adding 4230...\n",
      "adding 4231...\n",
      "adding 4232...\n",
      "adding 4233...\n",
      "adding 4234...\n",
      "adding 4235...\n",
      "adding 4236...\n",
      "adding 4237...\n",
      "adding 4238...\n",
      "adding 4239...\n",
      "adding 4240...\n",
      "adding 4241...\n",
      "adding 4242...\n",
      "adding 4243...\n",
      "adding 4244...\n",
      "adding 4245...\n",
      "adding 4246...\n",
      "adding 4247...\n",
      "adding 4248...\n",
      "adding 4249...\n",
      "adding 4250...\n",
      "adding 4251...\n",
      "adding 4252...\n",
      "adding 4253...\n",
      "adding 4254...\n",
      "adding 4255...\n",
      "adding 4256...\n",
      "adding 4257...\n",
      "adding 4258...\n",
      "adding 4259...\n",
      "adding 4260...\n",
      "adding 4261...\n",
      "adding 4262...\n",
      "adding 4263...\n",
      "adding 4264...\n",
      "adding 4265...\n",
      "adding 4266...\n",
      "adding 4267...\n",
      "adding 4268...\n",
      "adding 4269...\n",
      "adding 4270...\n",
      "adding 4271...\n",
      "adding 4272...\n",
      "adding 4273...\n",
      "adding 4274...\n",
      "adding 4275...\n",
      "adding 4276...\n",
      "adding 4277...\n",
      "adding 4278...\n",
      "adding 4279...\n",
      "adding 4280...\n",
      "adding 4281...\n",
      "adding 4282...\n",
      "adding 4283...\n",
      "adding 4284...\n",
      "adding 4285...\n",
      "adding 4286...\n",
      "adding 4287...\n",
      "adding 4288...\n",
      "adding 4289...\n",
      "adding 4290...\n",
      "adding 4291...\n",
      "adding 4292...\n",
      "adding 4293...\n",
      "adding 4294...\n",
      "adding 4295...\n",
      "adding 4296...\n",
      "adding 4297...\n",
      "adding 4298...\n",
      "adding 4299...\n",
      "adding 4300...\n",
      "adding 4301...\n",
      "adding 4302...\n",
      "adding 4303...\n",
      "adding 4304...\n",
      "adding 4305...\n",
      "adding 4306...\n",
      "adding 4307...\n",
      "adding 4308...\n",
      "adding 4309...\n",
      "adding 4310...\n",
      "adding 4311...\n",
      "adding 4312...\n",
      "adding 4313...\n",
      "adding 4314...\n",
      "adding 4315...\n",
      "adding 4316...\n",
      "adding 4317...\n",
      "adding 4318...\n",
      "adding 4319...\n",
      "adding 4320...\n",
      "adding 4321...\n",
      "adding 4322...\n",
      "adding 4323...\n",
      "adding 4324...\n",
      "adding 4325...\n",
      "adding 4326...\n",
      "adding 4327...\n",
      "adding 4328...\n",
      "adding 4329...\n",
      "adding 4330...\n",
      "adding 4331...\n",
      "adding 4332...\n",
      "adding 4333...\n",
      "adding 4334...\n",
      "adding 4335...\n",
      "adding 4336...\n",
      "adding 4337...\n",
      "adding 4338...\n",
      "adding 4339...\n",
      "adding 4340...\n",
      "adding 4341...\n",
      "adding 4342...\n",
      "adding 4343...\n",
      "adding 4344...\n",
      "adding 4345...\n",
      "adding 4346...\n",
      "adding 4347...\n",
      "adding 4348...\n",
      "adding 4349...\n",
      "adding 4350...\n",
      "adding 4351...\n",
      "adding 4352...\n",
      "adding 4353...\n",
      "adding 4354...\n",
      "adding 4355...\n",
      "adding 4356...\n",
      "adding 4357...\n",
      "adding 4358...\n",
      "adding 4359...\n",
      "adding 4360...\n",
      "adding 4361...\n",
      "adding 4362...\n",
      "adding 4363...\n",
      "adding 4364...\n",
      "adding 4365...\n",
      "adding 4366...\n",
      "adding 4367...\n",
      "adding 4368...\n",
      "adding 4369...\n",
      "adding 4370...\n",
      "adding 4371...\n",
      "adding 4372...\n",
      "adding 4373...\n",
      "adding 4374...\n",
      "adding 4375...\n",
      "adding 4376...\n",
      "adding 4377...\n",
      "adding 4378...\n",
      "adding 4379...\n",
      "adding 4380...\n",
      "adding 4381...\n",
      "adding 4382...\n",
      "adding 4383...\n",
      "adding 4384...\n",
      "adding 4385...\n",
      "adding 4386...\n",
      "adding 4387...\n",
      "adding 4388...\n",
      "adding 4389...\n",
      "adding 4390...\n",
      "adding 4391...\n",
      "adding 4392...\n",
      "adding 4393...\n",
      "adding 4394...\n",
      "adding 4395...\n",
      "adding 4396...\n",
      "adding 4397...\n",
      "adding 4398...\n",
      "adding 4399...\n",
      "adding 4400...\n",
      "adding 4401...\n",
      "adding 4402...\n",
      "adding 4403...\n",
      "adding 4404...\n",
      "adding 4405...\n",
      "adding 4406...\n",
      "adding 4407...\n",
      "adding 4408...\n",
      "adding 4409...\n",
      "adding 4410...\n",
      "adding 4411...\n",
      "adding 4412...\n",
      "adding 4413...\n",
      "adding 4414...\n",
      "adding 4415...\n",
      "adding 4416...\n",
      "adding 4417...\n",
      "adding 4418...\n",
      "adding 4419...\n",
      "adding 4420...\n",
      "adding 4421...\n",
      "adding 4422...\n",
      "adding 4423...\n",
      "adding 4424...\n",
      "adding 4425...\n",
      "adding 4426...\n",
      "adding 4427...\n",
      "adding 4428...\n",
      "adding 4429...\n",
      "adding 4430...\n",
      "adding 4431...\n",
      "adding 4432...\n",
      "adding 4433...\n",
      "adding 4434...\n",
      "adding 4435...\n",
      "adding 4436...\n",
      "adding 4437...\n",
      "adding 4438...\n",
      "adding 4439...\n",
      "adding 4440...\n",
      "adding 4441...\n",
      "adding 4442...\n",
      "adding 4443...\n",
      "adding 4444...\n",
      "adding 4445...\n",
      "adding 4446...\n",
      "adding 4447...\n",
      "adding 4448...\n",
      "adding 4449...\n",
      "adding 4450...\n",
      "adding 4451...\n",
      "adding 4452...\n",
      "adding 4453...\n",
      "adding 4454...\n",
      "adding 4455...\n",
      "adding 4456...\n",
      "adding 4457...\n",
      "adding 4458...\n",
      "adding 4459...\n",
      "adding 4460...\n",
      "adding 4461...\n",
      "adding 4462...\n",
      "adding 4463...\n",
      "adding 4464...\n",
      "adding 4465...\n",
      "adding 4466...\n",
      "adding 4467...\n",
      "adding 4468...\n",
      "adding 4469...\n",
      "adding 4470...\n",
      "adding 4471...\n",
      "adding 4472...\n",
      "adding 4473...\n",
      "adding 4474...\n",
      "adding 4475...\n",
      "adding 4476...\n",
      "adding 4477...\n",
      "adding 4478...\n",
      "adding 4479...\n",
      "adding 4480...\n",
      "adding 4481...\n",
      "adding 4482...\n",
      "adding 4483...\n",
      "adding 4484...\n",
      "adding 4485...\n",
      "adding 4486...\n",
      "adding 4487...\n",
      "adding 4488...\n",
      "adding 4489...\n",
      "adding 4490...\n",
      "adding 4491...\n",
      "adding 4492...\n",
      "adding 4493...\n",
      "adding 4494...\n",
      "adding 4495...\n",
      "adding 4496...\n",
      "adding 4497...\n",
      "adding 4498...\n",
      "adding 4499...\n",
      "adding 4500...\n",
      "adding 4501...\n",
      "adding 4502...\n",
      "adding 4503...\n",
      "adding 4504...\n",
      "adding 4505...\n",
      "adding 4506...\n",
      "adding 4507...\n",
      "adding 4508...\n",
      "adding 4509...\n",
      "adding 4510...\n",
      "adding 4511...\n",
      "adding 4512...\n",
      "adding 4513...\n",
      "adding 4514...\n",
      "adding 4515...\n",
      "adding 4516...\n",
      "adding 4517...\n",
      "adding 4518...\n",
      "adding 4519...\n",
      "adding 4520...\n",
      "adding 4521...\n",
      "adding 4522...\n",
      "adding 4523...\n",
      "adding 4524...\n",
      "adding 4525...\n",
      "adding 4526...\n",
      "adding 4527...\n",
      "adding 4528...\n",
      "adding 4529...\n",
      "adding 4530...\n",
      "adding 4531...\n",
      "adding 4532...\n",
      "adding 4533...\n",
      "adding 4534...\n",
      "adding 4535...\n",
      "adding 4536...\n",
      "adding 4537...\n",
      "adding 4538...\n",
      "adding 4539...\n",
      "adding 4540...\n",
      "adding 4541...\n",
      "adding 4542...\n",
      "adding 4543...\n",
      "adding 4544...\n"
     ]
    },
    {
     "name": "stdout",
     "output_type": "stream",
     "text": [
      "adding 4545...\n",
      "adding 4546...\n",
      "adding 4547...\n",
      "adding 4548...\n",
      "adding 4549...\n",
      "adding 4550...\n",
      "adding 4551...\n",
      "adding 4552...\n",
      "adding 4553...\n",
      "adding 4554...\n",
      "adding 4555...\n",
      "adding 4556...\n",
      "adding 4557...\n",
      "adding 4558...\n",
      "adding 4559...\n",
      "adding 4560...\n",
      "adding 4561...\n",
      "adding 4562...\n",
      "adding 4563...\n",
      "adding 4564...\n",
      "adding 4565...\n",
      "adding 4566...\n",
      "adding 4567...\n",
      "adding 4568...\n",
      "adding 4569...\n",
      "adding 4570...\n",
      "adding 4571...\n",
      "adding 4572...\n",
      "adding 4573...\n",
      "adding 4574...\n",
      "adding 4575...\n",
      "adding 4576...\n",
      "adding 4577...\n",
      "adding 4578...\n",
      "adding 4579...\n",
      "adding 4580...\n",
      "adding 4581...\n",
      "adding 4582...\n",
      "adding 4583...\n",
      "adding 4584...\n",
      "adding 4585...\n",
      "adding 4586...\n",
      "adding 4587...\n",
      "adding 4588...\n",
      "adding 4589...\n",
      "adding 4590...\n",
      "adding 4591...\n",
      "adding 4592...\n",
      "adding 4593...\n",
      "adding 4594...\n",
      "adding 4595...\n",
      "adding 4596...\n",
      "adding 4597...\n",
      "adding 4598...\n",
      "adding 4599...\n",
      "adding 4600...\n",
      "adding 4601...\n",
      "adding 4602...\n",
      "adding 4603...\n",
      "adding 4604...\n",
      "adding 4605...\n",
      "adding 4606...\n",
      "adding 4607...\n",
      "adding 4608...\n",
      "adding 4609...\n",
      "adding 4610...\n",
      "adding 4611...\n",
      "adding 4612...\n",
      "adding 4613...\n",
      "adding 4614...\n",
      "adding 4615...\n",
      "adding 4616...\n",
      "adding 4617...\n",
      "adding 4618...\n",
      "adding 4619...\n",
      "adding 4620...\n",
      "adding 4621...\n",
      "adding 4622...\n",
      "adding 4623...\n",
      "adding 4624...\n",
      "adding 4625...\n",
      "adding 4626...\n",
      "adding 4627...\n",
      "adding 4628...\n",
      "adding 4629...\n",
      "adding 4630...\n",
      "adding 4631...\n",
      "adding 4632...\n",
      "adding 4633...\n",
      "adding 4634...\n",
      "adding 4635...\n",
      "adding 4636...\n",
      "adding 4637...\n",
      "adding 4638...\n",
      "adding 4639...\n",
      "adding 4640...\n",
      "adding 4641...\n",
      "adding 4642...\n",
      "adding 4643...\n",
      "adding 4644...\n",
      "adding 4645...\n",
      "adding 4646...\n",
      "adding 4647...\n",
      "adding 4648...\n",
      "adding 4649...\n",
      "adding 4650...\n",
      "adding 4651...\n",
      "adding 4652...\n",
      "adding 4653...\n",
      "adding 4654...\n",
      "adding 4655...\n",
      "adding 4656...\n",
      "adding 4657...\n",
      "adding 4658...\n",
      "adding 4659...\n",
      "adding 4660...\n",
      "adding 4661...\n",
      "adding 4662...\n",
      "adding 4663...\n",
      "adding 4664...\n",
      "adding 4665...\n",
      "adding 4666...\n",
      "adding 4667...\n",
      "adding 4668...\n",
      "adding 4669...\n",
      "adding 4670...\n",
      "adding 4671...\n",
      "adding 4672...\n",
      "adding 4673...\n",
      "adding 4674...\n",
      "adding 4675...\n",
      "adding 4676...\n",
      "adding 4677...\n",
      "adding 4678...\n",
      "adding 4679...\n",
      "adding 4680...\n",
      "adding 4681...\n",
      "adding 4682...\n",
      "adding 4683...\n",
      "adding 4684...\n",
      "adding 4685...\n",
      "adding 4686...\n",
      "adding 4687...\n",
      "adding 4688...\n",
      "adding 4689...\n",
      "adding 4690...\n",
      "adding 4691...\n",
      "adding 4692...\n",
      "adding 4693...\n",
      "adding 4694...\n",
      "adding 4695...\n",
      "adding 4696...\n",
      "adding 4697...\n",
      "adding 4698...\n",
      "adding 4699...\n",
      "adding 4700...\n",
      "adding 4701...\n",
      "adding 4702...\n",
      "adding 4703...\n",
      "adding 4704...\n",
      "adding 4705...\n",
      "adding 4706...\n",
      "adding 4707...\n",
      "adding 4708...\n",
      "adding 4709...\n",
      "adding 4710...\n",
      "adding 4711...\n",
      "adding 4712...\n",
      "adding 4713...\n",
      "adding 4714...\n",
      "adding 4715...\n",
      "adding 4716...\n",
      "adding 4717...\n",
      "adding 4718...\n",
      "adding 4719...\n",
      "adding 4720...\n",
      "adding 4721...\n",
      "adding 4722...\n",
      "adding 4723...\n",
      "adding 4724...\n",
      "adding 4725...\n",
      "adding 4726...\n",
      "adding 4727...\n",
      "adding 4728...\n",
      "adding 4729...\n",
      "adding 4730...\n",
      "adding 4731...\n",
      "adding 4732...\n",
      "adding 4733...\n",
      "adding 4734...\n",
      "adding 4735...\n",
      "adding 4736...\n",
      "adding 4737...\n",
      "adding 4738...\n",
      "adding 4739...\n",
      "adding 4740...\n",
      "adding 4741...\n",
      "adding 4742...\n",
      "adding 4743...\n",
      "adding 4744...\n",
      "adding 4745...\n",
      "adding 4746...\n",
      "adding 4747...\n",
      "adding 4748...\n",
      "adding 4749...\n",
      "adding 4750...\n",
      "adding 4751...\n",
      "adding 4752...\n",
      "adding 4753...\n",
      "adding 4754...\n",
      "adding 4755...\n",
      "adding 4756...\n",
      "adding 4757...\n",
      "adding 4758...\n",
      "adding 4759...\n",
      "adding 4760...\n",
      "adding 4761...\n",
      "adding 4762...\n",
      "adding 4763...\n",
      "adding 4764...\n",
      "adding 4765...\n",
      "adding 4766...\n",
      "adding 4767...\n",
      "adding 4768...\n",
      "adding 4769...\n",
      "adding 4770...\n",
      "adding 4771...\n",
      "adding 4772...\n",
      "adding 4773...\n",
      "adding 4774...\n",
      "adding 4775...\n",
      "adding 4776...\n",
      "adding 4777...\n",
      "adding 4778...\n",
      "adding 4779...\n",
      "adding 4780...\n",
      "adding 4781...\n",
      "adding 4782...\n",
      "adding 4783...\n",
      "adding 4784...\n",
      "adding 4785...\n",
      "adding 4786...\n",
      "adding 4787...\n",
      "adding 4788...\n",
      "adding 4789...\n",
      "adding 4790...\n",
      "adding 4791...\n",
      "adding 4792...\n",
      "adding 4793...\n",
      "adding 4794...\n",
      "adding 4795...\n",
      "adding 4796...\n",
      "adding 4797...\n",
      "adding 4798...\n",
      "adding 4799...\n",
      "adding 4800...\n",
      "adding 4801...\n",
      "adding 4802...\n",
      "adding 4803...\n",
      "adding 4804...\n",
      "adding 4805...\n",
      "adding 4806...\n",
      "adding 4807...\n",
      "adding 4808...\n",
      "adding 4809...\n",
      "adding 4810...\n",
      "adding 4811...\n",
      "adding 4812...\n",
      "adding 4813...\n",
      "adding 4814...\n",
      "adding 4815...\n",
      "adding 4816...\n",
      "adding 4817...\n",
      "adding 4818...\n",
      "adding 4819...\n",
      "adding 4820...\n",
      "adding 4821...\n",
      "adding 4822...\n",
      "adding 4823...\n",
      "adding 4824...\n",
      "adding 4825...\n",
      "adding 4826...\n",
      "adding 4827...\n",
      "adding 4828...\n",
      "adding 4829...\n",
      "adding 4830...\n",
      "adding 4831...\n",
      "adding 4832...\n",
      "adding 4833...\n",
      "adding 4834...\n",
      "adding 4835...\n",
      "adding 4836...\n",
      "adding 4837...\n",
      "adding 4838...\n",
      "adding 4839...\n",
      "adding 4840...\n",
      "adding 4841...\n",
      "adding 4842...\n",
      "adding 4843...\n",
      "adding 4844...\n",
      "adding 4845...\n",
      "adding 4846...\n",
      "adding 4847...\n",
      "adding 4848...\n",
      "adding 4849...\n",
      "adding 4850...\n",
      "adding 4851...\n",
      "adding 4852...\n",
      "adding 4853...\n",
      "adding 4854...\n",
      "adding 4855...\n",
      "adding 4856...\n",
      "adding 4857...\n",
      "adding 4858...\n",
      "adding 4859...\n",
      "adding 4860...\n",
      "adding 4861...\n",
      "adding 4862...\n",
      "adding 4863...\n",
      "adding 4864...\n",
      "adding 4865...\n",
      "adding 4866...\n",
      "adding 4867...\n",
      "adding 4868...\n",
      "adding 4869...\n",
      "adding 4870...\n",
      "adding 4871...\n",
      "adding 4872...\n",
      "adding 4873...\n",
      "adding 4874...\n",
      "adding 4875...\n",
      "adding 4876...\n",
      "adding 4877...\n",
      "adding 4878...\n",
      "adding 4879...\n",
      "adding 4880...\n",
      "adding 4881...\n",
      "adding 4882...\n",
      "adding 4883...\n",
      "adding 4884...\n",
      "adding 4885...\n",
      "adding 4886...\n",
      "adding 4887...\n",
      "adding 4888...\n",
      "adding 4889...\n",
      "adding 4890...\n",
      "adding 4891...\n",
      "adding 4892...\n",
      "adding 4893...\n",
      "adding 4894...\n",
      "adding 4895...\n",
      "adding 4896...\n",
      "adding 4897...\n",
      "adding 4898...\n",
      "adding 4899...\n",
      "adding 4900...\n",
      "adding 4901...\n",
      "adding 4902...\n",
      "adding 4903...\n",
      "adding 4904...\n",
      "adding 4905...\n",
      "adding 4906...\n",
      "adding 4907...\n",
      "adding 4908...\n",
      "adding 4909...\n",
      "adding 4910...\n",
      "adding 4911...\n",
      "adding 4912...\n",
      "adding 4913...\n",
      "adding 4914...\n",
      "adding 4915...\n",
      "adding 4916...\n",
      "adding 4917...\n",
      "adding 4918...\n",
      "adding 4919...\n",
      "adding 4920...\n",
      "adding 4921...\n",
      "adding 4922...\n",
      "adding 4923...\n",
      "adding 4924...\n",
      "adding 4925...\n",
      "adding 4926...\n",
      "adding 4927...\n",
      "adding 4928...\n",
      "adding 4929...\n",
      "adding 4930...\n",
      "adding 4931...\n",
      "adding 4932...\n",
      "adding 4933...\n",
      "adding 4934...\n",
      "adding 4935...\n",
      "adding 4936...\n",
      "adding 4937...\n",
      "adding 4938...\n",
      "adding 4939...\n",
      "adding 4940...\n",
      "adding 4941...\n",
      "adding 4942...\n",
      "adding 4943...\n",
      "adding 4944...\n",
      "adding 4945...\n",
      "adding 4946...\n",
      "adding 4947...\n",
      "adding 4948...\n",
      "adding 4949...\n",
      "adding 4950...\n",
      "adding 4951...\n",
      "adding 4952...\n",
      "adding 4953...\n",
      "adding 4954...\n",
      "adding 4955...\n",
      "adding 4956...\n",
      "adding 4957...\n",
      "adding 4958...\n",
      "adding 4959...\n",
      "adding 4960...\n",
      "adding 4961...\n",
      "adding 4962...\n",
      "adding 4963...\n",
      "adding 4964...\n",
      "adding 4965...\n",
      "adding 4966...\n",
      "adding 4967...\n",
      "adding 4968...\n",
      "adding 4969...\n",
      "adding 4970...\n",
      "adding 4971...\n",
      "adding 4972...\n",
      "adding 4973...\n",
      "adding 4974...\n",
      "adding 4975...\n",
      "adding 4976...\n",
      "adding 4977...\n",
      "adding 4978...\n",
      "adding 4979...\n",
      "adding 4980...\n",
      "adding 4981...\n",
      "adding 4982...\n",
      "adding 4983...\n",
      "adding 4984...\n",
      "adding 4985...\n",
      "adding 4986...\n",
      "adding 4987...\n",
      "adding 4988...\n",
      "adding 4989...\n",
      "adding 4990...\n",
      "adding 4991...\n",
      "adding 4992...\n",
      "adding 4993...\n",
      "adding 4994...\n",
      "adding 4995...\n",
      "adding 4996...\n",
      "adding 4997...\n",
      "adding 4998...\n",
      "adding 4999...\n",
      "adding 5000...\n",
      "adding 5001...\n",
      "adding 5002...\n",
      "adding 5003...\n",
      "adding 5004...\n",
      "adding 5005...\n",
      "adding 5006...\n",
      "adding 5007...\n",
      "adding 5008...\n",
      "adding 5009...\n",
      "adding 5010...\n",
      "adding 5011...\n",
      "adding 5012...\n",
      "adding 5013...\n",
      "adding 5014...\n",
      "adding 5015...\n",
      "adding 5016...\n",
      "adding 5017...\n",
      "adding 5018...\n",
      "adding 5019...\n",
      "adding 5020...\n",
      "adding 5021...\n",
      "adding 5022...\n",
      "adding 5023...\n",
      "adding 5024...\n",
      "adding 5025...\n",
      "adding 5026...\n",
      "adding 5027...\n",
      "adding 5028...\n",
      "adding 5029...\n",
      "adding 5030...\n",
      "adding 5031...\n",
      "adding 5032...\n",
      "adding 5033...\n",
      "adding 5034...\n",
      "adding 5035...\n",
      "adding 5036...\n",
      "adding 5037...\n",
      "adding 5038...\n",
      "adding 5039...\n",
      "adding 5040...\n",
      "adding 5041...\n",
      "adding 5042...\n",
      "adding 5043...\n",
      "adding 5044...\n",
      "adding 5045...\n",
      "adding 5046...\n",
      "adding 5047...\n",
      "adding 5048...\n",
      "adding 5049...\n",
      "adding 5050...\n",
      "adding 5051...\n",
      "adding 5052...\n",
      "adding 5053...\n",
      "adding 5054...\n",
      "adding 5055...\n",
      "adding 5056...\n",
      "adding 5057...\n",
      "adding 5058...\n",
      "adding 5059...\n",
      "adding 5060...\n",
      "adding 5061...\n",
      "adding 5062...\n",
      "adding 5063...\n",
      "adding 5064...\n",
      "adding 5065...\n",
      "adding 5066...\n",
      "adding 5067...\n",
      "adding 5068...\n",
      "adding 5069...\n",
      "adding 5070...\n",
      "adding 5071...\n",
      "adding 5072...\n",
      "adding 5073...\n",
      "adding 5074...\n",
      "adding 5075...\n",
      "adding 5076...\n",
      "adding 5077...\n",
      "adding 5078...\n",
      "adding 5079...\n",
      "adding 5080...\n",
      "adding 5081...\n",
      "adding 5082...\n",
      "adding 5083...\n",
      "adding 5084...\n",
      "adding 5085...\n",
      "adding 5086...\n",
      "adding 5087...\n",
      "adding 5088...\n",
      "adding 5089...\n",
      "adding 5090...\n",
      "adding 5091...\n",
      "adding 5092...\n",
      "adding 5093...\n",
      "adding 5094...\n",
      "adding 5095...\n",
      "adding 5096...\n",
      "adding 5097...\n",
      "adding 5098...\n",
      "adding 5099...\n",
      "adding 5100...\n",
      "adding 5101...\n",
      "adding 5102...\n",
      "adding 5103...\n",
      "adding 5104...\n",
      "adding 5105...\n",
      "adding 5106...\n"
     ]
    },
    {
     "name": "stdout",
     "output_type": "stream",
     "text": [
      "adding 5107...\n",
      "adding 5108...\n",
      "adding 5109...\n",
      "adding 5110...\n",
      "adding 5111...\n",
      "adding 5112...\n",
      "adding 5113...\n",
      "adding 5114...\n",
      "adding 5115...\n",
      "adding 5116...\n",
      "adding 5117...\n",
      "adding 5118...\n",
      "adding 5119...\n",
      "adding 5120...\n",
      "adding 5121...\n",
      "adding 5122...\n",
      "adding 5123...\n",
      "adding 5124...\n",
      "adding 5125...\n",
      "adding 5126...\n",
      "adding 5127...\n",
      "adding 5128...\n",
      "adding 5129...\n",
      "adding 5130...\n",
      "adding 5131...\n",
      "adding 5132...\n",
      "adding 5133...\n",
      "adding 5134...\n",
      "adding 5135...\n",
      "adding 5136...\n",
      "adding 5137...\n",
      "adding 5138...\n",
      "adding 5139...\n",
      "adding 5140...\n",
      "adding 5141...\n",
      "adding 5142...\n",
      "adding 5143...\n",
      "adding 5144...\n",
      "adding 5145...\n",
      "adding 5146...\n",
      "adding 5147...\n",
      "adding 5148...\n",
      "adding 5149...\n",
      "adding 5150...\n",
      "adding 5151...\n",
      "adding 5152...\n",
      "adding 5153...\n",
      "adding 5154...\n",
      "adding 5155...\n",
      "adding 5156...\n",
      "adding 5157...\n",
      "adding 5158...\n",
      "adding 5159...\n",
      "adding 5160...\n",
      "adding 5161...\n",
      "adding 5162...\n",
      "adding 5163...\n",
      "adding 5164...\n",
      "adding 5165...\n",
      "adding 5166...\n",
      "adding 5167...\n",
      "adding 5168...\n",
      "adding 5169...\n",
      "adding 5170...\n",
      "adding 5171...\n",
      "adding 5172...\n",
      "adding 5173...\n",
      "adding 5174...\n",
      "adding 5175...\n",
      "adding 5176...\n",
      "adding 5177...\n",
      "adding 5178...\n",
      "adding 5179...\n",
      "adding 5180...\n",
      "adding 5181...\n",
      "adding 5182...\n",
      "adding 5183...\n",
      "adding 5184...\n",
      "adding 5185...\n",
      "adding 5186...\n",
      "adding 5187...\n",
      "adding 5188...\n",
      "adding 5189...\n",
      "adding 5190...\n",
      "adding 5191...\n",
      "adding 5192...\n",
      "adding 5193...\n",
      "adding 5194...\n",
      "adding 5195...\n",
      "adding 5196...\n",
      "adding 5197...\n",
      "adding 5198...\n",
      "adding 5199...\n",
      "adding 5200...\n",
      "adding 5201...\n",
      "adding 5202...\n",
      "adding 5203...\n",
      "adding 5204...\n",
      "adding 5205...\n",
      "adding 5206...\n",
      "adding 5207...\n",
      "adding 5208...\n",
      "adding 5209...\n",
      "adding 5210...\n",
      "adding 5211...\n",
      "adding 5212...\n",
      "adding 5213...\n",
      "adding 5214...\n",
      "adding 5215...\n",
      "adding 5216...\n",
      "adding 5217...\n",
      "adding 5218...\n",
      "adding 5219...\n",
      "adding 5220...\n",
      "adding 5221...\n",
      "adding 5222...\n",
      "adding 5223...\n",
      "adding 5224...\n",
      "adding 5225...\n",
      "adding 5226...\n",
      "adding 5227...\n",
      "adding 5228...\n",
      "adding 5229...\n",
      "adding 5230...\n",
      "adding 5231...\n",
      "adding 5232...\n",
      "adding 5233...\n",
      "adding 5234...\n",
      "adding 5235...\n",
      "adding 5236...\n",
      "adding 5237...\n",
      "adding 5238...\n",
      "adding 5239...\n",
      "adding 5240...\n",
      "adding 5241...\n",
      "adding 5242...\n",
      "adding 5243...\n",
      "adding 5244...\n",
      "adding 5245...\n",
      "adding 5246...\n",
      "adding 5247...\n",
      "adding 5248...\n",
      "adding 5249...\n",
      "adding 5250...\n",
      "adding 5251...\n",
      "adding 5252...\n",
      "adding 5253...\n",
      "adding 5254...\n",
      "adding 5255...\n",
      "adding 5256...\n",
      "adding 5257...\n",
      "adding 5258...\n",
      "adding 5259...\n",
      "adding 5260...\n",
      "adding 5261...\n",
      "adding 5262...\n",
      "adding 5263...\n",
      "adding 5264...\n",
      "adding 5265...\n",
      "adding 5266...\n",
      "adding 5267...\n",
      "adding 5268...\n",
      "adding 5269...\n",
      "adding 5270...\n",
      "adding 5271...\n",
      "adding 5272...\n",
      "adding 5273...\n",
      "adding 5274...\n",
      "adding 5275...\n",
      "adding 5276...\n",
      "adding 5277...\n",
      "adding 5278...\n",
      "adding 5279...\n",
      "adding 5280...\n",
      "adding 5281...\n",
      "adding 5282...\n",
      "adding 5283...\n",
      "adding 5284...\n",
      "adding 5285...\n",
      "adding 5286...\n",
      "adding 5287...\n",
      "adding 5288...\n",
      "adding 5289...\n",
      "adding 5290...\n",
      "adding 5291...\n",
      "adding 5292...\n",
      "adding 5293...\n",
      "adding 5294...\n",
      "adding 5295...\n",
      "adding 5296...\n",
      "adding 5297...\n",
      "adding 5298...\n",
      "adding 5299...\n",
      "adding 5300...\n",
      "adding 5301...\n",
      "adding 5302...\n",
      "adding 5303...\n",
      "adding 5304...\n",
      "adding 5305...\n",
      "adding 5306...\n",
      "adding 5307...\n",
      "adding 5308...\n",
      "adding 5309...\n",
      "adding 5310...\n",
      "adding 5311...\n",
      "adding 5312...\n",
      "adding 5313...\n",
      "adding 5314...\n",
      "adding 5315...\n",
      "adding 5316...\n",
      "adding 5317...\n",
      "adding 5318...\n",
      "adding 5319...\n",
      "adding 5320...\n",
      "adding 5321...\n",
      "adding 5322...\n",
      "adding 5323...\n",
      "adding 5324...\n",
      "adding 5325...\n",
      "adding 5326...\n",
      "adding 5327...\n",
      "adding 5328...\n",
      "adding 5329...\n",
      "adding 5330...\n",
      "adding 5331...\n",
      "adding 5332...\n",
      "adding 5333...\n",
      "adding 5334...\n",
      "adding 5335...\n",
      "adding 5336...\n",
      "adding 5337...\n",
      "adding 5338...\n",
      "adding 5339...\n",
      "adding 5340...\n",
      "adding 5341...\n",
      "adding 5342...\n",
      "adding 5343...\n",
      "adding 5344...\n",
      "adding 5345...\n",
      "adding 5346...\n",
      "adding 5347...\n",
      "adding 5348...\n",
      "adding 5349...\n",
      "adding 5350...\n",
      "adding 5351...\n",
      "adding 5352...\n",
      "adding 5353...\n",
      "adding 5354...\n",
      "adding 5355...\n",
      "adding 5356...\n",
      "adding 5357...\n",
      "adding 5358...\n",
      "adding 5359...\n",
      "adding 5360...\n",
      "adding 5361...\n",
      "adding 5362...\n",
      "adding 5363...\n",
      "adding 5364...\n",
      "adding 5365...\n",
      "adding 5366...\n",
      "adding 5367...\n",
      "adding 5368...\n",
      "adding 5369...\n",
      "adding 5370...\n",
      "adding 5371...\n",
      "adding 5372...\n",
      "adding 5373...\n",
      "adding 5374...\n",
      "adding 5375...\n",
      "adding 5376...\n",
      "adding 5377...\n",
      "adding 5378...\n",
      "adding 5379...\n",
      "adding 5380...\n",
      "adding 5381...\n",
      "adding 5382...\n",
      "adding 5383...\n",
      "adding 5384...\n",
      "adding 5385...\n",
      "adding 5386...\n",
      "adding 5387...\n",
      "adding 5388...\n",
      "adding 5389...\n",
      "adding 5390...\n",
      "adding 5391...\n",
      "adding 5392...\n",
      "adding 5393...\n",
      "adding 5394...\n",
      "adding 5395...\n",
      "adding 5396...\n",
      "adding 5397...\n",
      "adding 5398...\n",
      "adding 5399...\n",
      "adding 5400...\n",
      "adding 5401...\n",
      "adding 5402...\n",
      "adding 5403...\n",
      "adding 5404...\n",
      "adding 5405...\n",
      "adding 5406...\n",
      "adding 5407...\n",
      "adding 5408...\n",
      "adding 5409...\n",
      "adding 5410...\n",
      "adding 5411...\n",
      "adding 5412...\n",
      "adding 5413...\n",
      "adding 5414...\n",
      "adding 5415...\n",
      "adding 5416...\n",
      "adding 5417...\n",
      "adding 5418...\n",
      "adding 5419...\n",
      "adding 5420...\n",
      "adding 5421...\n",
      "adding 5422...\n",
      "adding 5423...\n",
      "adding 5424...\n",
      "adding 5425...\n",
      "adding 5426...\n",
      "adding 5427...\n",
      "adding 5428...\n",
      "adding 5429...\n",
      "adding 5430...\n",
      "adding 5431...\n",
      "adding 5432...\n",
      "adding 5433...\n",
      "adding 5434...\n",
      "adding 5435...\n",
      "adding 5436...\n",
      "adding 5437...\n",
      "adding 5438...\n",
      "adding 5439...\n",
      "adding 5440...\n",
      "adding 5441...\n",
      "adding 5442...\n",
      "adding 5443...\n",
      "adding 5444...\n",
      "adding 5445...\n",
      "adding 5446...\n",
      "adding 5447...\n",
      "adding 5448...\n",
      "adding 5449...\n",
      "adding 5450...\n",
      "adding 5451...\n",
      "adding 5452...\n",
      "adding 5453...\n",
      "adding 5454...\n",
      "adding 5455...\n",
      "adding 5456...\n",
      "adding 5457...\n",
      "adding 5458...\n",
      "adding 5459...\n",
      "adding 5460...\n",
      "adding 5461...\n",
      "adding 5462...\n",
      "adding 5463...\n",
      "adding 5464...\n",
      "adding 5465...\n",
      "adding 5466...\n",
      "adding 5467...\n",
      "adding 5468...\n",
      "adding 5469...\n",
      "adding 5470...\n",
      "adding 5471...\n",
      "adding 5472...\n",
      "adding 5473...\n",
      "adding 5474...\n",
      "adding 5475...\n",
      "adding 5476...\n",
      "adding 5477...\n",
      "adding 5478...\n",
      "adding 5479...\n",
      "adding 5480...\n",
      "adding 5481...\n",
      "adding 5482...\n",
      "adding 5483...\n",
      "adding 5484...\n",
      "adding 5485...\n",
      "adding 5486...\n",
      "adding 5487...\n",
      "adding 5488...\n",
      "adding 5489...\n",
      "adding 5490...\n",
      "adding 5491...\n",
      "adding 5492...\n",
      "adding 5493...\n",
      "adding 5494...\n",
      "adding 5495...\n",
      "adding 5496...\n",
      "adding 5497...\n",
      "adding 5498...\n",
      "adding 5499...\n",
      "adding 5500...\n",
      "adding 5501...\n",
      "adding 5502...\n",
      "adding 5503...\n",
      "adding 5504...\n",
      "adding 5505...\n",
      "adding 5506...\n",
      "adding 5507...\n",
      "adding 5508...\n",
      "adding 5509...\n",
      "adding 5510...\n",
      "adding 5511...\n",
      "adding 5512...\n",
      "adding 5513...\n",
      "adding 5514...\n",
      "adding 5515...\n",
      "adding 5516...\n",
      "adding 5517...\n",
      "adding 5518...\n",
      "adding 5519...\n",
      "adding 5520...\n",
      "adding 5521...\n",
      "adding 5522...\n",
      "adding 5523...\n",
      "adding 5524...\n",
      "adding 5525...\n",
      "adding 5526...\n",
      "adding 5527...\n",
      "adding 5528...\n",
      "adding 5529...\n",
      "adding 5530...\n",
      "adding 5531...\n",
      "adding 5532...\n",
      "adding 5533...\n",
      "adding 5534...\n",
      "adding 5535...\n",
      "adding 5536...\n",
      "adding 5537...\n",
      "adding 5538...\n",
      "adding 5539...\n",
      "adding 5540...\n",
      "adding 5541...\n",
      "adding 5542...\n",
      "adding 5543...\n",
      "adding 5544...\n",
      "adding 5545...\n",
      "adding 5546...\n",
      "adding 5547...\n",
      "adding 5548...\n",
      "adding 5549...\n",
      "adding 5550...\n",
      "adding 5551...\n",
      "adding 5552...\n",
      "adding 5553...\n",
      "adding 5554...\n",
      "adding 5555...\n",
      "adding 5556...\n",
      "adding 5557...\n",
      "adding 5558...\n",
      "adding 5559...\n",
      "adding 5560...\n",
      "adding 5561...\n",
      "adding 5562...\n",
      "adding 5563...\n",
      "adding 5564...\n",
      "adding 5565...\n",
      "adding 5566...\n",
      "adding 5567...\n",
      "adding 5568...\n",
      "adding 5569...\n",
      "adding 5570...\n",
      "adding 5571...\n",
      "adding 5572...\n",
      "adding 5573...\n",
      "adding 5574...\n",
      "adding 5575...\n",
      "adding 5576...\n",
      "adding 5577...\n",
      "adding 5578...\n",
      "adding 5579...\n",
      "adding 5580...\n",
      "adding 5581...\n",
      "adding 5582...\n",
      "adding 5583...\n",
      "adding 5584...\n",
      "adding 5585...\n",
      "adding 5586...\n",
      "adding 5587...\n",
      "adding 5588...\n",
      "adding 5589...\n",
      "adding 5590...\n",
      "adding 5591...\n",
      "adding 5592...\n",
      "adding 5593...\n",
      "adding 5594...\n",
      "adding 5595...\n",
      "adding 5596...\n",
      "adding 5597...\n",
      "adding 5598...\n",
      "adding 5599...\n",
      "adding 5600...\n",
      "adding 5601...\n",
      "adding 5602...\n",
      "adding 5603...\n",
      "adding 5604...\n",
      "adding 5605...\n",
      "adding 5606...\n",
      "adding 5607...\n",
      "adding 5608...\n",
      "adding 5609...\n",
      "adding 5610...\n",
      "adding 5611...\n",
      "adding 5612...\n",
      "adding 5613...\n",
      "adding 5614...\n",
      "adding 5615...\n",
      "adding 5616...\n",
      "adding 5617...\n",
      "adding 5618...\n",
      "adding 5619...\n",
      "adding 5620...\n",
      "adding 5621...\n",
      "adding 5622...\n",
      "adding 5623...\n",
      "adding 5624...\n",
      "adding 5625...\n",
      "adding 5626...\n",
      "adding 5627...\n",
      "adding 5628...\n",
      "adding 5629...\n",
      "adding 5630...\n",
      "adding 5631...\n",
      "adding 5632...\n",
      "adding 5633...\n",
      "adding 5634...\n",
      "adding 5635...\n",
      "adding 5636...\n",
      "adding 5637...\n",
      "adding 5638...\n",
      "adding 5639...\n",
      "adding 5640...\n",
      "adding 5641...\n",
      "adding 5642...\n",
      "adding 5643...\n",
      "adding 5644...\n",
      "adding 5645...\n",
      "adding 5646...\n",
      "adding 5647...\n",
      "adding 5648...\n",
      "adding 5649...\n",
      "adding 5650...\n",
      "adding 5651...\n",
      "adding 5652...\n",
      "adding 5653...\n",
      "adding 5654...\n",
      "adding 5655...\n",
      "adding 5656...\n",
      "adding 5657...\n",
      "adding 5658...\n",
      "adding 5659...\n",
      "adding 5660...\n",
      "adding 5661...\n",
      "adding 5662...\n",
      "adding 5663...\n",
      "adding 5664...\n",
      "adding 5665...\n",
      "adding 5666...\n",
      "adding 5667...\n",
      "adding 5668...\n"
     ]
    },
    {
     "name": "stdout",
     "output_type": "stream",
     "text": [
      "adding 5669...\n",
      "adding 5670...\n",
      "adding 5671...\n",
      "adding 5672...\n",
      "adding 5673...\n",
      "adding 5674...\n",
      "adding 5675...\n",
      "adding 5676...\n",
      "adding 5677...\n",
      "adding 5678...\n",
      "adding 5679...\n",
      "adding 5680...\n",
      "adding 5681...\n",
      "adding 5682...\n",
      "adding 5683...\n",
      "adding 5684...\n",
      "adding 5685...\n",
      "adding 5686...\n",
      "adding 5687...\n",
      "adding 5688...\n",
      "adding 5689...\n",
      "adding 5690...\n",
      "adding 5691...\n",
      "adding 5692...\n",
      "adding 5693...\n",
      "adding 5694...\n",
      "adding 5695...\n",
      "adding 5696...\n",
      "adding 5697...\n",
      "adding 5698...\n",
      "adding 5699...\n",
      "adding 5700...\n",
      "adding 5701...\n",
      "adding 5702...\n",
      "adding 5703...\n",
      "adding 5704...\n",
      "adding 5705...\n",
      "adding 5706...\n",
      "adding 5707...\n",
      "adding 5708...\n",
      "adding 5709...\n",
      "adding 5710...\n",
      "adding 5711...\n",
      "adding 5712...\n",
      "adding 5713...\n",
      "adding 5714...\n",
      "adding 5715...\n",
      "adding 5716...\n",
      "adding 5717...\n",
      "adding 5718...\n",
      "adding 5719...\n",
      "adding 5720...\n",
      "adding 5721...\n",
      "adding 5722...\n",
      "adding 5723...\n",
      "adding 5724...\n",
      "adding 5725...\n",
      "adding 5726...\n",
      "adding 5727...\n",
      "adding 5728...\n",
      "adding 5729...\n",
      "adding 5730...\n",
      "adding 5731...\n",
      "adding 5732...\n",
      "adding 5733...\n",
      "adding 5734...\n",
      "adding 5735...\n",
      "adding 5736...\n",
      "adding 5737...\n",
      "adding 5738...\n",
      "adding 5739...\n",
      "adding 5740...\n",
      "adding 5741...\n",
      "adding 5742...\n",
      "adding 5743...\n",
      "adding 5744...\n",
      "adding 5745...\n",
      "adding 5746...\n",
      "adding 5747...\n",
      "adding 5748...\n",
      "adding 5749...\n",
      "adding 5750...\n",
      "adding 5751...\n",
      "adding 5752...\n",
      "adding 5753...\n",
      "adding 5754...\n",
      "adding 5755...\n",
      "adding 5756...\n",
      "adding 5757...\n",
      "adding 5758...\n",
      "adding 5759...\n",
      "adding 5760...\n",
      "adding 5761...\n",
      "adding 5762...\n",
      "adding 5763...\n",
      "adding 5764...\n",
      "adding 5765...\n",
      "adding 5766...\n",
      "adding 5767...\n",
      "adding 5768...\n",
      "adding 5769...\n",
      "adding 5770...\n",
      "adding 5771...\n",
      "adding 5772...\n",
      "adding 5773...\n",
      "adding 5774...\n",
      "adding 5775...\n",
      "adding 5776...\n",
      "adding 5777...\n",
      "adding 5778...\n",
      "adding 5779...\n",
      "adding 5780...\n",
      "adding 5781...\n",
      "adding 5782...\n",
      "adding 5783...\n",
      "adding 5784...\n",
      "adding 5785...\n",
      "adding 5786...\n",
      "adding 5787...\n",
      "adding 5788...\n",
      "adding 5789...\n",
      "adding 5790...\n",
      "adding 5791...\n",
      "adding 5792...\n",
      "adding 5793...\n",
      "adding 5794...\n",
      "adding 5795...\n",
      "adding 5796...\n",
      "adding 5797...\n",
      "adding 5798...\n",
      "adding 5799...\n",
      "adding 5800...\n",
      "adding 5801...\n",
      "adding 5802...\n",
      "adding 5803...\n",
      "adding 5804...\n",
      "adding 5805...\n",
      "adding 5806...\n",
      "adding 5807...\n",
      "adding 5808...\n",
      "adding 5809...\n",
      "adding 5810...\n",
      "adding 5811...\n",
      "adding 5812...\n",
      "adding 5813...\n",
      "adding 5814...\n",
      "adding 5815...\n",
      "adding 5816...\n",
      "adding 5817...\n",
      "adding 5818...\n",
      "adding 5819...\n",
      "adding 5820...\n",
      "adding 5821...\n",
      "adding 5822...\n",
      "adding 5823...\n",
      "adding 5824...\n",
      "adding 5825...\n",
      "adding 5826...\n",
      "adding 5827...\n",
      "adding 5828...\n",
      "adding 5829...\n",
      "adding 5830...\n",
      "adding 5831...\n",
      "adding 5832...\n",
      "adding 5833...\n",
      "adding 5834...\n",
      "adding 5835...\n",
      "adding 5836...\n",
      "adding 5837...\n",
      "adding 5838...\n",
      "adding 5839...\n",
      "adding 5840...\n",
      "adding 5841...\n",
      "adding 5842...\n",
      "adding 5843...\n",
      "adding 5844...\n",
      "adding 5845...\n",
      "adding 5846...\n",
      "adding 5847...\n",
      "adding 5848...\n",
      "adding 5849...\n",
      "adding 5850...\n",
      "adding 5851...\n",
      "adding 5852...\n",
      "adding 5853...\n",
      "adding 5854...\n",
      "adding 5855...\n",
      "adding 5856...\n",
      "adding 5857...\n",
      "adding 5858...\n",
      "adding 5859...\n",
      "adding 5860...\n",
      "adding 5861...\n",
      "adding 5862...\n",
      "adding 5863...\n",
      "adding 5864...\n",
      "adding 5865...\n",
      "adding 5866...\n",
      "adding 5867...\n",
      "adding 5868...\n",
      "adding 5869...\n",
      "adding 5870...\n",
      "adding 5871...\n",
      "adding 5872...\n",
      "adding 5873...\n",
      "adding 5874...\n",
      "adding 5875...\n",
      "adding 5876...\n",
      "adding 5877...\n",
      "adding 5878...\n",
      "adding 5879...\n",
      "adding 5880...\n",
      "adding 5881...\n",
      "adding 5882...\n",
      "adding 5883...\n",
      "adding 5884...\n",
      "adding 5885...\n",
      "adding 5886...\n",
      "adding 5887...\n",
      "adding 5888...\n",
      "adding 5889...\n",
      "adding 5890...\n",
      "adding 5891...\n",
      "adding 5892...\n",
      "adding 5893...\n",
      "adding 5894...\n",
      "adding 5895...\n",
      "adding 5896...\n",
      "adding 5897...\n",
      "adding 5898...\n",
      "adding 5899...\n",
      "adding 5900...\n",
      "adding 5901...\n",
      "adding 5902...\n",
      "adding 5903...\n",
      "adding 5904...\n",
      "adding 5905...\n",
      "adding 5906...\n",
      "adding 5907...\n",
      "adding 5908...\n",
      "adding 5909...\n",
      "adding 5910...\n",
      "adding 5911...\n",
      "adding 5912...\n",
      "adding 5913...\n",
      "adding 5914...\n",
      "adding 5915...\n",
      "adding 5916...\n",
      "adding 5917...\n",
      "adding 5918...\n",
      "adding 5919...\n",
      "adding 5920...\n",
      "adding 5921...\n",
      "adding 5922...\n",
      "adding 5923...\n",
      "adding 5924...\n",
      "adding 5925...\n",
      "adding 5926...\n",
      "adding 5927...\n",
      "adding 5928...\n",
      "adding 5929...\n",
      "adding 5930...\n",
      "adding 5931...\n",
      "adding 5932...\n",
      "adding 5933...\n",
      "adding 5934...\n",
      "adding 5935...\n",
      "adding 5936...\n",
      "adding 5937...\n",
      "adding 5938...\n",
      "adding 5939...\n",
      "adding 5940...\n",
      "adding 5941...\n",
      "adding 5942...\n",
      "adding 5943...\n",
      "adding 5944...\n",
      "adding 5945...\n",
      "adding 5946...\n",
      "adding 5947...\n",
      "adding 5948...\n",
      "adding 5949...\n",
      "adding 5950...\n",
      "adding 5951...\n",
      "adding 5952...\n",
      "adding 5953...\n",
      "adding 5954...\n",
      "adding 5955...\n",
      "adding 5956...\n",
      "adding 5957...\n",
      "adding 5958...\n",
      "adding 5959...\n",
      "adding 5960...\n",
      "adding 5961...\n",
      "adding 5962...\n",
      "adding 5963...\n",
      "adding 5964...\n",
      "adding 5965...\n",
      "adding 5966...\n",
      "adding 5967...\n",
      "adding 5968...\n",
      "adding 5969...\n",
      "adding 5970...\n",
      "adding 5971...\n",
      "adding 5972...\n",
      "adding 5973...\n",
      "adding 5974...\n",
      "adding 5975...\n",
      "adding 5976...\n",
      "adding 5977...\n",
      "adding 5978...\n",
      "adding 5979...\n",
      "adding 5980...\n",
      "adding 5981...\n",
      "adding 5982...\n",
      "adding 5983...\n",
      "adding 5984...\n",
      "adding 5985...\n",
      "adding 5986...\n",
      "adding 5987...\n",
      "adding 5988...\n",
      "adding 5989...\n",
      "adding 5990...\n",
      "adding 5991...\n",
      "adding 5992...\n",
      "adding 5993...\n",
      "adding 5994...\n",
      "adding 5995...\n",
      "adding 5996...\n",
      "adding 5997...\n",
      "adding 5998...\n",
      "adding 5999...\n",
      "adding 6000...\n",
      "adding 6001...\n",
      "adding 6002...\n",
      "adding 6003...\n",
      "adding 6004...\n",
      "adding 6005...\n",
      "adding 6006...\n",
      "adding 6007...\n",
      "adding 6008...\n",
      "adding 6009...\n",
      "adding 6010...\n",
      "adding 6011...\n",
      "adding 6012...\n",
      "adding 6013...\n",
      "adding 6014...\n",
      "adding 6015...\n",
      "adding 6016...\n",
      "adding 6017...\n",
      "adding 6018...\n",
      "adding 6019...\n",
      "adding 6020...\n",
      "adding 6021...\n",
      "adding 6022...\n",
      "adding 6023...\n",
      "adding 6024...\n",
      "adding 6025...\n",
      "adding 6026...\n",
      "adding 6027...\n",
      "adding 6028...\n",
      "adding 6029...\n",
      "adding 6030...\n",
      "adding 6031...\n",
      "adding 6032...\n",
      "adding 6033...\n",
      "adding 6034...\n",
      "adding 6035...\n",
      "adding 6036...\n",
      "adding 6037...\n",
      "adding 6038...\n",
      "adding 6039...\n",
      "adding 6040...\n",
      "adding 6041...\n",
      "adding 6042...\n",
      "adding 6043...\n",
      "adding 6044...\n",
      "adding 6045...\n",
      "adding 6046...\n",
      "adding 6047...\n",
      "adding 6048...\n",
      "adding 6049...\n",
      "adding 6050...\n",
      "adding 6051...\n",
      "adding 6052...\n",
      "adding 6053...\n",
      "adding 6054...\n",
      "adding 6055...\n",
      "adding 6056...\n",
      "adding 6057...\n",
      "adding 6058...\n",
      "adding 6059...\n",
      "adding 6060...\n",
      "adding 6061...\n",
      "adding 6062...\n",
      "adding 6063...\n",
      "adding 6064...\n",
      "adding 6065...\n",
      "adding 6066...\n",
      "adding 6067...\n",
      "adding 6068...\n",
      "adding 6069...\n",
      "adding 6070...\n",
      "adding 6071...\n",
      "adding 6072...\n",
      "adding 6073...\n",
      "adding 6074...\n",
      "adding 6075...\n",
      "adding 6076...\n",
      "adding 6077...\n",
      "adding 6078...\n",
      "adding 6079...\n",
      "adding 6080...\n",
      "adding 6081...\n",
      "adding 6082...\n",
      "adding 6083...\n",
      "adding 6084...\n",
      "adding 6085...\n",
      "adding 6086...\n",
      "adding 6087...\n",
      "adding 6088...\n",
      "adding 6089...\n",
      "adding 6090...\n",
      "adding 6091...\n",
      "adding 6092...\n",
      "adding 6093...\n",
      "adding 6094...\n",
      "adding 6095...\n",
      "adding 6096...\n",
      "adding 6097...\n",
      "adding 6098...\n",
      "adding 6099...\n",
      "adding 6100...\n",
      "adding 6101...\n",
      "adding 6102...\n",
      "adding 6103...\n",
      "adding 6104...\n",
      "adding 6105...\n",
      "adding 6106...\n",
      "adding 6107...\n",
      "adding 6108...\n",
      "adding 6109...\n",
      "adding 6110...\n",
      "adding 6111...\n",
      "adding 6112...\n",
      "adding 6113...\n",
      "adding 6114...\n",
      "adding 6115...\n",
      "adding 6116...\n",
      "adding 6117...\n",
      "adding 6118...\n",
      "adding 6119...\n",
      "adding 6120...\n",
      "adding 6121...\n",
      "adding 6122...\n",
      "adding 6123...\n",
      "adding 6124...\n",
      "adding 6125...\n",
      "adding 6126...\n",
      "adding 6127...\n",
      "adding 6128...\n",
      "adding 6129...\n",
      "adding 6130...\n",
      "adding 6131...\n",
      "adding 6132...\n",
      "adding 6133...\n",
      "adding 6134...\n",
      "adding 6135...\n",
      "adding 6136...\n",
      "adding 6137...\n",
      "adding 6138...\n",
      "adding 6139...\n",
      "adding 6140...\n",
      "adding 6141...\n",
      "adding 6142...\n",
      "adding 6143...\n",
      "adding 6144...\n",
      "adding 6145...\n",
      "adding 6146...\n",
      "adding 6147...\n",
      "adding 6148...\n",
      "adding 6149...\n",
      "adding 6150...\n",
      "adding 6151...\n",
      "adding 6152...\n",
      "adding 6153...\n",
      "adding 6154...\n",
      "adding 6155...\n",
      "adding 6156...\n",
      "adding 6157...\n",
      "adding 6158...\n",
      "adding 6159...\n",
      "adding 6160...\n",
      "adding 6161...\n",
      "adding 6162...\n",
      "adding 6163...\n",
      "adding 6164...\n",
      "adding 6165...\n",
      "adding 6166...\n",
      "adding 6167...\n",
      "adding 6168...\n",
      "adding 6169...\n",
      "adding 6170...\n",
      "adding 6171...\n",
      "adding 6172...\n",
      "adding 6173...\n",
      "adding 6174...\n",
      "adding 6175...\n",
      "adding 6176...\n",
      "adding 6177...\n",
      "adding 6178...\n",
      "adding 6179...\n",
      "adding 6180...\n",
      "adding 6181...\n",
      "adding 6182...\n",
      "adding 6183...\n",
      "adding 6184...\n",
      "adding 6185...\n",
      "adding 6186...\n",
      "adding 6187...\n",
      "adding 6188...\n",
      "adding 6189...\n",
      "adding 6190...\n",
      "adding 6191...\n",
      "adding 6192...\n",
      "adding 6193...\n",
      "adding 6194...\n",
      "adding 6195...\n",
      "adding 6196...\n",
      "adding 6197...\n",
      "adding 6198...\n",
      "adding 6199...\n",
      "adding 6200...\n",
      "adding 6201...\n",
      "adding 6202...\n",
      "adding 6203...\n",
      "adding 6204...\n",
      "adding 6205...\n",
      "adding 6206...\n",
      "adding 6207...\n",
      "adding 6208...\n",
      "adding 6209...\n",
      "adding 6210...\n",
      "adding 6211...\n",
      "adding 6212...\n",
      "adding 6213...\n",
      "adding 6214...\n",
      "adding 6215...\n",
      "adding 6216...\n",
      "adding 6217...\n",
      "adding 6218...\n",
      "adding 6219...\n",
      "adding 6220...\n",
      "adding 6221...\n",
      "adding 6222...\n",
      "adding 6223...\n",
      "adding 6224...\n"
     ]
    },
    {
     "name": "stdout",
     "output_type": "stream",
     "text": [
      "adding 6225...\n",
      "adding 6226...\n",
      "adding 6227...\n",
      "adding 6228...\n",
      "adding 6229...\n",
      "adding 6230...\n",
      "adding 6231...\n",
      "adding 6232...\n",
      "adding 6233...\n",
      "adding 6234...\n",
      "adding 6235...\n",
      "adding 6236...\n",
      "adding 6237...\n",
      "adding 6238...\n",
      "adding 6239...\n",
      "adding 6240...\n",
      "adding 6241...\n",
      "adding 6242...\n",
      "adding 6243...\n",
      "adding 6244...\n",
      "adding 6245...\n",
      "adding 6246...\n",
      "adding 6247...\n",
      "adding 6248...\n",
      "adding 6249...\n",
      "adding 6250...\n",
      "adding 6251...\n",
      "adding 6252...\n",
      "adding 6253...\n",
      "adding 6254...\n",
      "adding 6255...\n",
      "adding 6256...\n",
      "adding 6257...\n",
      "adding 6258...\n",
      "adding 6259...\n",
      "adding 6260...\n",
      "adding 6261...\n",
      "adding 6262...\n",
      "adding 6263...\n",
      "adding 6264...\n",
      "adding 6265...\n",
      "adding 6266...\n",
      "adding 6267...\n",
      "adding 6268...\n",
      "adding 6269...\n",
      "adding 6270...\n",
      "adding 6271...\n",
      "adding 6272...\n",
      "adding 6273...\n",
      "adding 6274...\n",
      "adding 6275...\n",
      "adding 6276...\n",
      "adding 6277...\n",
      "adding 6278...\n",
      "adding 6279...\n",
      "adding 6280...\n",
      "adding 6281...\n",
      "adding 6282...\n",
      "adding 6283...\n",
      "adding 6284...\n",
      "adding 6285...\n",
      "adding 6286...\n",
      "adding 6287...\n",
      "adding 6288...\n",
      "adding 6289...\n",
      "adding 6290...\n",
      "adding 6291...\n",
      "adding 6292...\n",
      "adding 6293...\n",
      "adding 6294...\n",
      "adding 6295...\n",
      "adding 6296...\n",
      "adding 6297...\n",
      "adding 6298...\n",
      "adding 6299...\n",
      "adding 6300...\n",
      "adding 6301...\n",
      "adding 6302...\n",
      "adding 6303...\n",
      "adding 6304...\n",
      "adding 6305...\n",
      "adding 6306...\n",
      "adding 6307...\n",
      "adding 6308...\n",
      "adding 6309...\n",
      "adding 6310...\n",
      "adding 6311...\n",
      "adding 6312...\n",
      "adding 6313...\n",
      "adding 6314...\n",
      "adding 6315...\n",
      "adding 6316...\n",
      "adding 6317...\n",
      "adding 6318...\n",
      "adding 6319...\n",
      "adding 6320...\n",
      "adding 6321...\n",
      "adding 6322...\n",
      "adding 6323...\n",
      "adding 6324...\n",
      "adding 6325...\n",
      "adding 6326...\n",
      "adding 6327...\n",
      "adding 6328...\n",
      "adding 6329...\n",
      "adding 6330...\n",
      "adding 6331...\n",
      "adding 6332...\n",
      "adding 6333...\n",
      "adding 6334...\n",
      "adding 6335...\n",
      "adding 6336...\n",
      "adding 6337...\n",
      "adding 6338...\n",
      "adding 6339...\n",
      "adding 6340...\n",
      "adding 6341...\n",
      "adding 6342...\n",
      "adding 6343...\n",
      "adding 6344...\n",
      "adding 6345...\n",
      "adding 6346...\n",
      "adding 6347...\n",
      "adding 6348...\n",
      "adding 6349...\n",
      "adding 6350...\n",
      "adding 6351...\n",
      "adding 6352...\n",
      "adding 6353...\n",
      "adding 6354...\n",
      "adding 6355...\n",
      "adding 6356...\n",
      "adding 6357...\n",
      "adding 6358...\n",
      "adding 6359...\n",
      "adding 6360...\n",
      "adding 6361...\n",
      "adding 6362...\n",
      "adding 6363...\n",
      "adding 6364...\n",
      "adding 6365...\n",
      "adding 6366...\n",
      "adding 6367...\n",
      "adding 6368...\n",
      "adding 6369...\n",
      "adding 6370...\n",
      "adding 6371...\n",
      "adding 6372...\n",
      "adding 6373...\n",
      "adding 6374...\n",
      "adding 6375...\n",
      "adding 6376...\n",
      "adding 6377...\n",
      "adding 6378...\n",
      "adding 6379...\n",
      "adding 6380...\n",
      "adding 6381...\n",
      "adding 6382...\n",
      "adding 6383...\n",
      "adding 6384...\n",
      "adding 6385...\n",
      "adding 6386...\n",
      "adding 6387...\n",
      "adding 6388...\n",
      "adding 6389...\n",
      "adding 6390...\n",
      "adding 6391...\n",
      "adding 6392...\n",
      "adding 6393...\n",
      "adding 6394...\n",
      "adding 6395...\n",
      "adding 6396...\n",
      "adding 6397...\n",
      "adding 6398...\n",
      "adding 6399...\n",
      "adding 6400...\n",
      "adding 6401...\n",
      "adding 6402...\n",
      "adding 6403...\n",
      "adding 6404...\n",
      "adding 6405...\n",
      "adding 6406...\n",
      "adding 6407...\n",
      "adding 6408...\n",
      "adding 6409...\n",
      "adding 6410...\n",
      "adding 6411...\n",
      "adding 6412...\n",
      "adding 6413...\n",
      "adding 6414...\n",
      "adding 6415...\n",
      "adding 6416...\n",
      "adding 6417...\n",
      "adding 6418...\n",
      "adding 6419...\n",
      "adding 6420...\n",
      "adding 6421...\n",
      "adding 6422...\n",
      "adding 6423...\n",
      "adding 6424...\n",
      "adding 6425...\n",
      "adding 6426...\n",
      "adding 6427...\n",
      "adding 6428...\n",
      "adding 6429...\n",
      "adding 6430...\n",
      "adding 6431...\n",
      "adding 6432...\n",
      "adding 6433...\n",
      "adding 6434...\n",
      "adding 6435...\n",
      "adding 6436...\n",
      "adding 6437...\n",
      "adding 6438...\n",
      "adding 6439...\n",
      "adding 6440...\n",
      "adding 6441...\n",
      "adding 6442...\n",
      "adding 6443...\n",
      "adding 6444...\n",
      "adding 6445...\n",
      "adding 6446...\n",
      "adding 6447...\n",
      "adding 6448...\n",
      "adding 6449...\n",
      "adding 6450...\n",
      "adding 6451...\n",
      "adding 6452...\n",
      "adding 6453...\n",
      "adding 6454...\n",
      "adding 6455...\n",
      "adding 6456...\n",
      "adding 6457...\n",
      "adding 6458...\n",
      "adding 6459...\n",
      "adding 6460...\n",
      "adding 6461...\n",
      "adding 6462...\n",
      "adding 6463...\n",
      "adding 6464...\n",
      "adding 6465...\n",
      "adding 6466...\n",
      "adding 6467...\n",
      "adding 6468...\n",
      "adding 6469...\n",
      "adding 6470...\n",
      "adding 6471...\n",
      "adding 6472...\n",
      "adding 6473...\n",
      "adding 6474...\n",
      "adding 6475...\n",
      "adding 6476...\n",
      "adding 6477...\n",
      "adding 6478...\n",
      "adding 6479...\n",
      "adding 6480...\n",
      "adding 6481...\n",
      "adding 6482...\n",
      "adding 6483...\n",
      "adding 6484...\n",
      "adding 6485...\n",
      "adding 6486...\n",
      "adding 6487...\n",
      "adding 6488...\n",
      "adding 6489...\n",
      "adding 6490...\n",
      "adding 6491...\n",
      "adding 6492...\n",
      "adding 6493...\n",
      "adding 6494...\n",
      "adding 6495...\n",
      "adding 6496...\n",
      "adding 6497...\n",
      "adding 6498...\n",
      "adding 6499...\n",
      "adding 6500...\n",
      "adding 6501...\n",
      "adding 6502...\n",
      "adding 6503...\n",
      "adding 6504...\n",
      "adding 6505...\n",
      "adding 6506...\n",
      "adding 6507...\n",
      "adding 6508...\n",
      "adding 6509...\n",
      "adding 6510...\n",
      "adding 6511...\n",
      "adding 6512...\n",
      "adding 6513...\n",
      "adding 6514...\n",
      "adding 6515...\n",
      "adding 6516...\n",
      "adding 6517...\n",
      "adding 6518...\n",
      "adding 6519...\n",
      "adding 6520...\n",
      "adding 6521...\n",
      "adding 6522...\n",
      "adding 6523...\n",
      "adding 6524...\n",
      "adding 6525...\n",
      "adding 6526...\n",
      "adding 6527...\n",
      "adding 6528...\n",
      "adding 6529...\n",
      "adding 6530...\n",
      "adding 6531...\n",
      "adding 6532...\n",
      "adding 6533...\n",
      "adding 6534...\n",
      "adding 6535...\n",
      "adding 6536...\n",
      "adding 6537...\n",
      "adding 6538...\n",
      "adding 6539...\n",
      "adding 6540...\n",
      "adding 6541...\n",
      "adding 6542...\n",
      "adding 6543...\n",
      "adding 6544...\n",
      "adding 6545...\n",
      "adding 6546...\n",
      "adding 6547...\n",
      "adding 6548...\n",
      "adding 6549...\n",
      "adding 6550...\n",
      "adding 6551...\n",
      "adding 6552...\n",
      "adding 6553...\n",
      "adding 6554...\n",
      "adding 6555...\n",
      "adding 6556...\n",
      "adding 6557...\n",
      "adding 6558...\n",
      "adding 6559...\n",
      "adding 6560...\n",
      "adding 6561...\n",
      "adding 6562...\n",
      "adding 6563...\n",
      "adding 6564...\n",
      "adding 6565...\n",
      "adding 6566...\n",
      "adding 6567...\n",
      "adding 6568...\n",
      "adding 6569...\n",
      "adding 6570...\n",
      "adding 6571...\n",
      "adding 6572...\n",
      "adding 6573...\n",
      "adding 6574...\n",
      "adding 6575...\n",
      "adding 6576...\n",
      "adding 6577...\n",
      "adding 6578...\n",
      "adding 6579...\n",
      "adding 6580...\n",
      "adding 6581...\n",
      "adding 6582...\n",
      "adding 6583...\n",
      "adding 6584...\n",
      "adding 6585...\n",
      "adding 6586...\n",
      "adding 6587...\n",
      "adding 6588...\n",
      "adding 6589...\n",
      "adding 6590...\n",
      "adding 6591...\n",
      "adding 6592...\n",
      "adding 6593...\n",
      "adding 6594...\n",
      "adding 6595...\n",
      "adding 6596...\n",
      "adding 6597...\n",
      "adding 6598...\n",
      "adding 6599...\n",
      "adding 6600...\n",
      "adding 6601...\n",
      "adding 6602...\n",
      "adding 6603...\n",
      "adding 6604...\n",
      "adding 6605...\n",
      "adding 6606...\n",
      "adding 6607...\n",
      "adding 6608...\n",
      "adding 6609...\n",
      "adding 6610...\n",
      "adding 6611...\n",
      "adding 6612...\n",
      "adding 6613...\n",
      "adding 6614...\n",
      "adding 6615...\n",
      "adding 6616...\n",
      "adding 6617...\n",
      "adding 6618...\n",
      "adding 6619...\n",
      "adding 6620...\n",
      "adding 6621...\n",
      "adding 6622...\n",
      "adding 6623...\n",
      "adding 6624...\n",
      "adding 6625...\n",
      "adding 6626...\n",
      "adding 6627...\n",
      "adding 6628...\n",
      "adding 6629...\n",
      "adding 6630...\n",
      "adding 6631...\n",
      "adding 6632...\n",
      "adding 6633...\n",
      "adding 6634...\n",
      "adding 6635...\n",
      "adding 6636...\n",
      "adding 6637...\n",
      "adding 6638...\n",
      "adding 6639...\n",
      "adding 6640...\n",
      "adding 6641...\n",
      "adding 6642...\n",
      "adding 6643...\n",
      "adding 6644...\n",
      "adding 6645...\n",
      "adding 6646...\n",
      "adding 6647...\n",
      "adding 6648...\n",
      "adding 6649...\n",
      "adding 6650...\n",
      "adding 6651...\n",
      "adding 6652...\n",
      "adding 6653...\n",
      "adding 6654...\n",
      "adding 6655...\n",
      "adding 6656...\n",
      "adding 6657...\n",
      "adding 6658...\n",
      "adding 6659...\n",
      "adding 6660...\n",
      "adding 6661...\n",
      "adding 6662...\n",
      "adding 6663...\n",
      "adding 6664...\n",
      "adding 6665...\n",
      "adding 6666...\n",
      "adding 6667...\n",
      "adding 6668...\n",
      "adding 6669...\n",
      "adding 6670...\n",
      "adding 6671...\n",
      "adding 6672...\n",
      "adding 6673...\n",
      "adding 6674...\n",
      "adding 6675...\n",
      "adding 6676...\n",
      "adding 6677...\n",
      "adding 6678...\n",
      "adding 6679...\n",
      "adding 6680...\n",
      "adding 6681...\n",
      "adding 6682...\n",
      "adding 6683...\n",
      "adding 6684...\n",
      "adding 6685...\n",
      "adding 6686...\n",
      "adding 6687...\n",
      "adding 6688...\n",
      "adding 6689...\n",
      "adding 6690...\n",
      "adding 6691...\n",
      "adding 6692...\n",
      "adding 6693...\n",
      "adding 6694...\n",
      "adding 6695...\n",
      "adding 6696...\n",
      "adding 6697...\n",
      "adding 6698...\n",
      "adding 6699...\n",
      "adding 6700...\n",
      "adding 6701...\n",
      "adding 6702...\n",
      "adding 6703...\n",
      "adding 6704...\n",
      "adding 6705...\n",
      "adding 6706...\n",
      "adding 6707...\n",
      "adding 6708...\n",
      "adding 6709...\n",
      "adding 6710...\n",
      "adding 6711...\n",
      "adding 6712...\n",
      "adding 6713...\n",
      "adding 6714...\n",
      "adding 6715...\n",
      "adding 6716...\n",
      "adding 6717...\n",
      "adding 6718...\n",
      "adding 6719...\n",
      "adding 6720...\n",
      "adding 6721...\n",
      "adding 6722...\n",
      "adding 6723...\n",
      "adding 6724...\n",
      "adding 6725...\n",
      "adding 6726...\n",
      "adding 6727...\n",
      "adding 6728...\n",
      "adding 6729...\n",
      "adding 6730...\n",
      "adding 6731...\n",
      "adding 6732...\n",
      "adding 6733...\n",
      "adding 6734...\n",
      "adding 6735...\n",
      "adding 6736...\n",
      "adding 6737...\n",
      "adding 6738...\n",
      "adding 6739...\n",
      "adding 6740...\n",
      "adding 6741...\n",
      "adding 6742...\n",
      "adding 6743...\n",
      "adding 6744...\n",
      "adding 6745...\n",
      "adding 6746...\n",
      "adding 6747...\n",
      "adding 6748...\n",
      "adding 6749...\n",
      "adding 6750...\n",
      "adding 6751...\n",
      "adding 6752...\n",
      "adding 6753...\n",
      "adding 6754...\n",
      "adding 6755...\n",
      "adding 6756...\n",
      "adding 6757...\n",
      "adding 6758...\n",
      "adding 6759...\n",
      "adding 6760...\n",
      "adding 6761...\n",
      "adding 6762...\n",
      "adding 6763...\n",
      "adding 6764...\n",
      "adding 6765...\n",
      "adding 6766...\n",
      "adding 6767...\n",
      "adding 6768...\n",
      "adding 6769...\n",
      "adding 6770...\n",
      "adding 6771...\n",
      "adding 6772...\n",
      "adding 6773...\n",
      "adding 6774...\n",
      "adding 6775...\n",
      "adding 6776...\n",
      "adding 6777...\n",
      "adding 6778...\n",
      "adding 6779...\n",
      "adding 6780...\n",
      "adding 6781...\n"
     ]
    },
    {
     "name": "stdout",
     "output_type": "stream",
     "text": [
      "adding 6782...\n",
      "adding 6783...\n",
      "adding 6784...\n",
      "adding 6785...\n",
      "adding 6786...\n",
      "adding 6787...\n",
      "adding 6788...\n",
      "adding 6789...\n",
      "adding 6790...\n",
      "adding 6791...\n",
      "adding 6792...\n",
      "adding 6793...\n",
      "adding 6794...\n",
      "adding 6795...\n",
      "adding 6796...\n",
      "adding 6797...\n",
      "adding 6798...\n",
      "adding 6799...\n",
      "adding 6800...\n",
      "adding 6801...\n",
      "adding 6802...\n",
      "adding 6803...\n",
      "adding 6804...\n",
      "adding 6805...\n",
      "adding 6806...\n",
      "adding 6807...\n",
      "adding 6808...\n",
      "adding 6809...\n",
      "adding 6810...\n",
      "adding 6811...\n",
      "adding 6812...\n",
      "adding 6813...\n",
      "adding 6814...\n",
      "adding 6815...\n",
      "adding 6816...\n",
      "adding 6817...\n",
      "adding 6818...\n",
      "adding 6819...\n",
      "adding 6820...\n",
      "adding 6821...\n",
      "adding 6822...\n",
      "adding 6823...\n",
      "adding 6824...\n",
      "adding 6825...\n",
      "adding 6826...\n",
      "adding 6827...\n",
      "adding 6828...\n",
      "adding 6829...\n",
      "adding 6830...\n",
      "adding 6831...\n",
      "adding 6832...\n",
      "adding 6833...\n",
      "adding 6834...\n",
      "adding 6835...\n",
      "adding 6836...\n",
      "adding 6837...\n",
      "adding 6838...\n",
      "adding 6839...\n",
      "adding 6840...\n",
      "adding 6841...\n",
      "adding 6842...\n",
      "adding 6843...\n",
      "adding 6844...\n",
      "adding 6845...\n",
      "adding 6846...\n",
      "adding 6847...\n",
      "adding 6848...\n",
      "adding 6849...\n",
      "adding 6850...\n",
      "adding 6851...\n",
      "adding 6852...\n",
      "adding 6853...\n",
      "adding 6854...\n",
      "adding 6855...\n",
      "adding 6856...\n",
      "adding 6857...\n",
      "adding 6858...\n",
      "adding 6859...\n",
      "adding 6860...\n",
      "adding 6861...\n",
      "adding 6862...\n",
      "adding 6863...\n",
      "adding 6864...\n",
      "adding 6865...\n",
      "adding 6866...\n",
      "adding 6867...\n",
      "adding 6868...\n",
      "adding 6869...\n",
      "adding 6870...\n",
      "adding 6871...\n",
      "adding 6872...\n",
      "adding 6873...\n",
      "adding 6874...\n",
      "adding 6875...\n",
      "adding 6876...\n",
      "adding 6877...\n",
      "adding 6878...\n",
      "adding 6879...\n",
      "adding 6880...\n",
      "adding 6881...\n",
      "adding 6882...\n",
      "adding 6883...\n",
      "adding 6884...\n",
      "adding 6885...\n",
      "adding 6886...\n",
      "adding 6887...\n",
      "adding 6888...\n",
      "adding 6889...\n",
      "adding 6890...\n",
      "adding 6891...\n",
      "adding 6892...\n",
      "adding 6893...\n",
      "adding 6894...\n",
      "adding 6895...\n",
      "adding 6896...\n",
      "adding 6897...\n",
      "adding 6898...\n",
      "adding 6899...\n",
      "adding 6900...\n",
      "adding 6901...\n",
      "adding 6902...\n",
      "adding 6903...\n",
      "adding 6904...\n",
      "adding 6905...\n",
      "adding 6906...\n",
      "adding 6907...\n",
      "adding 6908...\n",
      "adding 6909...\n",
      "adding 6910...\n",
      "adding 6911...\n",
      "adding 6912...\n",
      "adding 6913...\n",
      "adding 6914...\n",
      "adding 6915...\n",
      "adding 6916...\n",
      "adding 6917...\n",
      "adding 6918...\n",
      "adding 6919...\n",
      "adding 6920...\n",
      "adding 6921...\n",
      "adding 6922...\n",
      "adding 6923...\n",
      "adding 6924...\n",
      "adding 6925...\n",
      "adding 6926...\n",
      "adding 6927...\n",
      "adding 6928...\n",
      "adding 6929...\n",
      "adding 6930...\n",
      "adding 6931...\n",
      "adding 6932...\n",
      "adding 6933...\n",
      "adding 6934...\n",
      "adding 6935...\n",
      "adding 6936...\n",
      "adding 6937...\n",
      "adding 6938...\n",
      "adding 6939...\n",
      "adding 6940...\n",
      "adding 6941...\n",
      "adding 6942...\n",
      "adding 6943...\n",
      "adding 6944...\n",
      "adding 6945...\n",
      "adding 6946...\n",
      "adding 6947...\n",
      "adding 6948...\n",
      "adding 6949...\n",
      "adding 6950...\n",
      "adding 6951...\n",
      "adding 6952...\n",
      "adding 6953...\n",
      "adding 6954...\n",
      "adding 6955...\n",
      "adding 6956...\n",
      "adding 6957...\n",
      "adding 6958...\n",
      "adding 6959...\n",
      "adding 6960...\n",
      "adding 6961...\n",
      "adding 6962...\n",
      "adding 6963...\n",
      "adding 6964...\n",
      "adding 6965...\n",
      "adding 6966...\n",
      "adding 6967...\n",
      "adding 6968...\n",
      "adding 6969...\n",
      "adding 6970...\n",
      "adding 6971...\n",
      "adding 6972...\n",
      "adding 6973...\n",
      "adding 6974...\n",
      "adding 6975...\n",
      "adding 6976...\n",
      "adding 6977...\n",
      "adding 6978...\n",
      "adding 6979...\n",
      "adding 6980...\n",
      "adding 6981...\n",
      "adding 6982...\n",
      "adding 6983...\n",
      "adding 6984...\n",
      "adding 6985...\n",
      "adding 6986...\n",
      "adding 6987...\n",
      "adding 6988...\n",
      "adding 6989...\n",
      "adding 6990...\n",
      "adding 6991...\n",
      "adding 6992...\n",
      "adding 6993...\n",
      "adding 6994...\n",
      "adding 6995...\n",
      "adding 6996...\n",
      "adding 6997...\n",
      "adding 6998...\n",
      "adding 6999...\n",
      "adding 7000...\n",
      "adding 7001...\n",
      "adding 7002...\n",
      "adding 7003...\n",
      "adding 7004...\n",
      "adding 7005...\n",
      "adding 7006...\n",
      "adding 7007...\n",
      "adding 7008...\n",
      "adding 7009...\n",
      "adding 7010...\n",
      "adding 7011...\n",
      "adding 7012...\n",
      "adding 7013...\n",
      "adding 7014...\n",
      "adding 7015...\n",
      "adding 7016...\n",
      "adding 7017...\n",
      "adding 7018...\n",
      "adding 7019...\n",
      "adding 7020...\n",
      "adding 7021...\n",
      "adding 7022...\n",
      "adding 7023...\n",
      "adding 7024...\n",
      "adding 7025...\n",
      "adding 7026...\n",
      "adding 7027...\n",
      "adding 7028...\n",
      "adding 7029...\n",
      "adding 7030...\n",
      "adding 7031...\n",
      "adding 7032...\n",
      "adding 7033...\n",
      "adding 7034...\n",
      "adding 7035...\n",
      "adding 7036...\n",
      "adding 7037...\n",
      "adding 7038...\n",
      "adding 7039...\n",
      "adding 7040...\n",
      "adding 7041...\n",
      "adding 7042...\n",
      "adding 7043...\n",
      "adding 7044...\n",
      "adding 7045...\n",
      "adding 7046...\n",
      "adding 7047...\n",
      "adding 7048...\n",
      "adding 7049...\n",
      "adding 7050...\n",
      "adding 7051...\n",
      "adding 7052...\n",
      "adding 7053...\n",
      "adding 7054...\n",
      "adding 7055...\n",
      "adding 7056...\n",
      "adding 7057...\n",
      "adding 7058...\n",
      "adding 7059...\n",
      "adding 7060...\n",
      "adding 7061...\n",
      "adding 7062...\n",
      "adding 7063...\n",
      "adding 7064...\n",
      "adding 7065...\n",
      "adding 7066...\n",
      "adding 7067...\n",
      "adding 7068...\n",
      "adding 7069...\n",
      "adding 7070...\n",
      "adding 7071...\n",
      "adding 7072...\n",
      "adding 7073...\n",
      "adding 7074...\n",
      "adding 7075...\n",
      "adding 7076...\n",
      "adding 7077...\n",
      "adding 7078...\n",
      "adding 7079...\n",
      "adding 7080...\n",
      "adding 7081...\n",
      "adding 7082...\n",
      "adding 7083...\n",
      "adding 7084...\n",
      "adding 7085...\n",
      "adding 7086...\n",
      "adding 7087...\n",
      "adding 7088...\n",
      "adding 7089...\n",
      "adding 7090...\n",
      "adding 7091...\n",
      "adding 7092...\n",
      "adding 7093...\n",
      "adding 7094...\n",
      "adding 7095...\n",
      "adding 7096...\n",
      "adding 7097...\n",
      "adding 7098...\n",
      "adding 7099...\n",
      "adding 7100...\n",
      "adding 7101...\n",
      "adding 7102...\n",
      "adding 7103...\n",
      "adding 7104...\n",
      "adding 7105...\n",
      "adding 7106...\n",
      "adding 7107...\n",
      "adding 7108...\n",
      "adding 7109...\n",
      "adding 7110...\n",
      "adding 7111...\n",
      "adding 7112...\n",
      "adding 7113...\n",
      "adding 7114...\n",
      "adding 7115...\n",
      "adding 7116...\n",
      "adding 7117...\n",
      "adding 7118...\n",
      "adding 7119...\n",
      "adding 7120...\n",
      "adding 7121...\n",
      "adding 7122...\n",
      "adding 7123...\n",
      "adding 7124...\n",
      "adding 7125...\n",
      "adding 7126...\n",
      "adding 7127...\n",
      "adding 7128...\n",
      "adding 7129...\n",
      "adding 7130...\n",
      "adding 7131...\n",
      "adding 7132...\n",
      "adding 7133...\n",
      "adding 7134...\n",
      "adding 7135...\n",
      "adding 7136...\n",
      "adding 7137...\n",
      "adding 7138...\n",
      "adding 7139...\n",
      "adding 7140...\n",
      "adding 7141...\n",
      "adding 7142...\n",
      "adding 7143...\n",
      "adding 7144...\n",
      "adding 7145...\n",
      "adding 7146...\n",
      "adding 7147...\n",
      "adding 7148...\n",
      "adding 7149...\n",
      "adding 7150...\n",
      "adding 7151...\n",
      "adding 7152...\n",
      "adding 7153...\n",
      "adding 7154...\n",
      "adding 7155...\n",
      "adding 7156...\n",
      "adding 7157...\n",
      "adding 7158...\n",
      "adding 7159...\n",
      "adding 7160...\n",
      "adding 7161...\n",
      "adding 7162...\n",
      "adding 7163...\n",
      "adding 7164...\n",
      "adding 7165...\n",
      "adding 7166...\n",
      "adding 7167...\n",
      "adding 7168...\n",
      "adding 7169...\n",
      "adding 7170...\n",
      "adding 7171...\n",
      "adding 7172...\n",
      "adding 7173...\n",
      "adding 7174...\n",
      "adding 7175...\n",
      "adding 7176...\n",
      "adding 7177...\n",
      "adding 7178...\n",
      "adding 7179...\n",
      "adding 7180...\n",
      "adding 7181...\n",
      "adding 7182...\n",
      "adding 7183...\n",
      "adding 7184...\n",
      "adding 7185...\n",
      "adding 7186...\n",
      "adding 7187...\n",
      "adding 7188...\n",
      "adding 7189...\n",
      "adding 7190...\n",
      "adding 7191...\n",
      "adding 7192...\n",
      "adding 7193...\n",
      "adding 7194...\n",
      "adding 7195...\n",
      "adding 7196...\n",
      "adding 7197...\n",
      "adding 7198...\n",
      "adding 7199...\n",
      "adding 7200...\n",
      "adding 7201...\n",
      "adding 7202...\n",
      "adding 7203...\n",
      "adding 7204...\n",
      "adding 7205...\n",
      "adding 7206...\n",
      "adding 7207...\n",
      "adding 7208...\n",
      "adding 7209...\n",
      "adding 7210...\n",
      "adding 7211...\n",
      "adding 7212...\n",
      "adding 7213...\n",
      "adding 7214...\n",
      "adding 7215...\n",
      "adding 7216...\n",
      "adding 7217...\n",
      "adding 7218...\n",
      "adding 7219...\n",
      "adding 7220...\n",
      "adding 7221...\n",
      "adding 7222...\n",
      "adding 7223...\n",
      "adding 7224...\n",
      "adding 7225...\n",
      "adding 7226...\n",
      "adding 7227...\n",
      "adding 7228...\n",
      "adding 7229...\n",
      "adding 7230...\n",
      "adding 7231...\n",
      "adding 7232...\n",
      "adding 7233...\n",
      "adding 7234...\n",
      "adding 7235...\n",
      "adding 7236...\n",
      "adding 7237...\n",
      "adding 7238...\n",
      "adding 7239...\n",
      "adding 7240...\n",
      "adding 7241...\n",
      "adding 7242...\n",
      "adding 7243...\n",
      "adding 7244...\n",
      "adding 7245...\n",
      "adding 7246...\n",
      "adding 7247...\n",
      "adding 7248...\n",
      "adding 7249...\n",
      "adding 7250...\n",
      "adding 7251...\n",
      "adding 7252...\n",
      "adding 7253...\n",
      "adding 7254...\n",
      "adding 7255...\n",
      "adding 7256...\n",
      "adding 7257...\n",
      "adding 7258...\n",
      "adding 7259...\n",
      "adding 7260...\n",
      "adding 7261...\n",
      "adding 7262...\n",
      "adding 7263...\n",
      "adding 7264...\n",
      "adding 7265...\n",
      "adding 7266...\n",
      "adding 7267...\n",
      "adding 7268...\n",
      "adding 7269...\n",
      "adding 7270...\n",
      "adding 7271...\n",
      "adding 7272...\n",
      "adding 7273...\n",
      "adding 7274...\n",
      "adding 7275...\n",
      "adding 7276...\n",
      "adding 7277...\n",
      "adding 7278...\n",
      "adding 7279...\n",
      "adding 7280...\n",
      "adding 7281...\n",
      "adding 7282...\n",
      "adding 7283...\n",
      "adding 7284...\n",
      "adding 7285...\n",
      "adding 7286...\n",
      "adding 7287...\n",
      "adding 7288...\n",
      "adding 7289...\n",
      "adding 7290...\n",
      "adding 7291...\n",
      "adding 7292...\n",
      "adding 7293...\n",
      "adding 7294...\n",
      "adding 7295...\n",
      "adding 7296...\n",
      "adding 7297...\n",
      "adding 7298...\n",
      "adding 7299...\n",
      "adding 7300...\n",
      "adding 7301...\n",
      "adding 7302...\n",
      "adding 7303...\n",
      "adding 7304...\n",
      "adding 7305...\n",
      "adding 7306...\n",
      "adding 7307...\n",
      "adding 7308...\n",
      "adding 7309...\n",
      "adding 7310...\n",
      "adding 7311...\n",
      "adding 7312...\n",
      "adding 7313...\n",
      "adding 7314...\n",
      "adding 7315...\n",
      "adding 7316...\n",
      "adding 7317...\n",
      "adding 7318...\n",
      "adding 7319...\n",
      "adding 7320...\n",
      "adding 7321...\n",
      "adding 7322...\n",
      "adding 7323...\n",
      "adding 7324...\n",
      "adding 7325...\n",
      "adding 7326...\n",
      "adding 7327...\n",
      "adding 7328...\n",
      "adding 7329...\n",
      "adding 7330...\n",
      "adding 7331...\n",
      "adding 7332...\n",
      "adding 7333...\n",
      "adding 7334...\n",
      "adding 7335...\n"
     ]
    },
    {
     "name": "stdout",
     "output_type": "stream",
     "text": [
      "adding 7336...\n",
      "adding 7337...\n",
      "adding 7338...\n",
      "adding 7339...\n",
      "adding 7340...\n",
      "adding 7341...\n",
      "adding 7342...\n",
      "adding 7343...\n",
      "adding 7344...\n",
      "adding 7345...\n",
      "adding 7346...\n",
      "adding 7347...\n",
      "adding 7348...\n",
      "adding 7349...\n",
      "adding 7350...\n",
      "adding 7351...\n",
      "adding 7352...\n",
      "adding 7353...\n",
      "adding 7354...\n",
      "adding 7355...\n",
      "adding 7356...\n",
      "adding 7357...\n",
      "adding 7358...\n",
      "adding 7359...\n",
      "adding 7360...\n",
      "adding 7361...\n",
      "adding 7362...\n",
      "adding 7363...\n",
      "adding 7364...\n",
      "adding 7365...\n",
      "adding 7366...\n",
      "adding 7367...\n",
      "adding 7368...\n",
      "adding 7369...\n",
      "adding 7370...\n",
      "adding 7371...\n",
      "adding 7372...\n",
      "adding 7373...\n",
      "adding 7374...\n",
      "adding 7375...\n",
      "adding 7376...\n",
      "adding 7377...\n",
      "adding 7378...\n",
      "adding 7379...\n",
      "adding 7380...\n",
      "adding 7381...\n",
      "adding 7382...\n",
      "adding 7383...\n",
      "adding 7384...\n",
      "adding 7385...\n",
      "adding 7386...\n",
      "adding 7387...\n",
      "adding 7388...\n",
      "adding 7389...\n",
      "adding 7390...\n",
      "adding 7391...\n",
      "adding 7392...\n",
      "adding 7393...\n",
      "adding 7394...\n",
      "adding 7395...\n",
      "adding 7396...\n",
      "adding 7397...\n",
      "adding 7398...\n",
      "adding 7399...\n",
      "adding 7400...\n",
      "adding 7401...\n",
      "adding 7402...\n",
      "adding 7403...\n",
      "adding 7404...\n",
      "adding 7405...\n",
      "adding 7406...\n",
      "adding 7407...\n",
      "adding 7408...\n",
      "adding 7409...\n",
      "adding 7410...\n",
      "adding 7411...\n",
      "adding 7412...\n",
      "adding 7413...\n",
      "adding 7414...\n",
      "adding 7415...\n",
      "adding 7416...\n",
      "adding 7417...\n",
      "adding 7418...\n",
      "adding 7419...\n",
      "adding 7420...\n",
      "adding 7421...\n",
      "adding 7422...\n",
      "adding 7423...\n",
      "adding 7424...\n",
      "adding 7425...\n",
      "adding 7426...\n",
      "adding 7427...\n",
      "adding 7428...\n",
      "adding 7429...\n",
      "adding 7430...\n",
      "adding 7431...\n",
      "adding 7432...\n",
      "adding 7433...\n",
      "adding 7434...\n",
      "adding 7435...\n",
      "adding 7436...\n",
      "adding 7437...\n",
      "adding 7438...\n",
      "adding 7439...\n",
      "adding 7440...\n",
      "adding 7441...\n",
      "adding 7442...\n",
      "adding 7443...\n",
      "adding 7444...\n",
      "adding 7445...\n",
      "adding 7446...\n",
      "adding 7447...\n",
      "adding 7448...\n",
      "adding 7449...\n",
      "adding 7450...\n",
      "adding 7451...\n",
      "adding 7452...\n",
      "adding 7453...\n",
      "adding 7454...\n",
      "adding 7455...\n",
      "adding 7456...\n",
      "adding 7457...\n",
      "adding 7458...\n",
      "adding 7459...\n",
      "adding 7460...\n",
      "adding 7461...\n",
      "adding 7462...\n",
      "adding 7463...\n",
      "adding 7464...\n",
      "adding 7465...\n",
      "adding 7466...\n",
      "adding 7467...\n",
      "adding 7468...\n",
      "adding 7469...\n",
      "adding 7470...\n",
      "adding 7471...\n",
      "adding 7472...\n",
      "adding 7473...\n",
      "adding 7474...\n",
      "adding 7475...\n",
      "adding 7476...\n",
      "adding 7477...\n",
      "adding 7478...\n",
      "adding 7479...\n",
      "adding 7480...\n",
      "adding 7481...\n",
      "adding 7482...\n",
      "adding 7483...\n",
      "adding 7484...\n",
      "adding 7485...\n",
      "adding 7486...\n",
      "adding 7487...\n",
      "adding 7488...\n",
      "adding 7489...\n",
      "adding 7490...\n",
      "adding 7491...\n",
      "adding 7492...\n",
      "adding 7493...\n",
      "adding 7494...\n",
      "adding 7495...\n",
      "adding 7496...\n",
      "adding 7497...\n",
      "adding 7498...\n",
      "adding 7499...\n",
      "adding 7500...\n",
      "adding 7501...\n",
      "adding 7502...\n",
      "adding 7503...\n",
      "adding 7504...\n",
      "adding 7505...\n",
      "adding 7506...\n",
      "adding 7507...\n",
      "adding 7508...\n",
      "adding 7509...\n",
      "adding 7510...\n",
      "adding 7511...\n",
      "adding 7512...\n",
      "adding 7513...\n",
      "adding 7514...\n",
      "adding 7515...\n",
      "adding 7516...\n",
      "adding 7517...\n",
      "adding 7518...\n",
      "adding 7519...\n",
      "adding 7520...\n",
      "adding 7521...\n",
      "adding 7522...\n",
      "adding 7523...\n",
      "adding 7524...\n",
      "adding 7525...\n",
      "adding 7526...\n",
      "adding 7527...\n",
      "adding 7528...\n",
      "adding 7529...\n",
      "adding 7530...\n",
      "adding 7531...\n",
      "adding 7532...\n",
      "adding 7533...\n",
      "adding 7534...\n",
      "adding 7535...\n",
      "adding 7536...\n",
      "adding 7537...\n",
      "adding 7538...\n",
      "adding 7539...\n",
      "adding 7540...\n",
      "adding 7541...\n",
      "adding 7542...\n",
      "adding 7543...\n",
      "adding 7544...\n",
      "adding 7545...\n",
      "adding 7546...\n",
      "adding 7547...\n",
      "adding 7548...\n",
      "adding 7549...\n",
      "adding 7550...\n",
      "adding 7551...\n",
      "adding 7552...\n",
      "adding 7553...\n",
      "adding 7554...\n",
      "adding 7555...\n",
      "adding 7556...\n",
      "adding 7557...\n",
      "adding 7558...\n",
      "adding 7559...\n",
      "adding 7560...\n",
      "adding 7561...\n",
      "adding 7562...\n",
      "adding 7563...\n",
      "adding 7564...\n",
      "adding 7565...\n",
      "adding 7566...\n",
      "adding 7567...\n",
      "adding 7568...\n",
      "adding 7569...\n",
      "adding 7570...\n",
      "adding 7571...\n",
      "adding 7572...\n",
      "adding 7573...\n",
      "adding 7574...\n",
      "adding 7575...\n",
      "adding 7576...\n",
      "adding 7577...\n",
      "adding 7578...\n",
      "adding 7579...\n",
      "adding 7580...\n",
      "adding 7581...\n",
      "adding 7582...\n",
      "adding 7583...\n",
      "adding 7584...\n",
      "adding 7585...\n",
      "adding 7586...\n",
      "adding 7587...\n",
      "adding 7588...\n",
      "adding 7589...\n",
      "adding 7590...\n",
      "adding 7591...\n",
      "adding 7592...\n",
      "adding 7593...\n",
      "adding 7594...\n",
      "adding 7595...\n",
      "adding 7596...\n",
      "adding 7597...\n",
      "adding 7598...\n",
      "adding 7599...\n",
      "adding 7600...\n",
      "adding 7601...\n",
      "adding 7602...\n",
      "adding 7603...\n",
      "adding 7604...\n",
      "adding 7605...\n",
      "adding 7606...\n",
      "adding 7607...\n",
      "adding 7608...\n",
      "adding 7609...\n",
      "adding 7610...\n",
      "adding 7611...\n",
      "adding 7612...\n",
      "adding 7613...\n",
      "adding 7614...\n",
      "adding 7615...\n",
      "adding 7616...\n",
      "adding 7617...\n",
      "adding 7618...\n",
      "adding 7619...\n",
      "adding 7620...\n",
      "adding 7621...\n",
      "adding 7622...\n",
      "adding 7623...\n",
      "adding 7624...\n",
      "adding 7625...\n",
      "adding 7626...\n",
      "adding 7627...\n",
      "adding 7628...\n",
      "adding 7629...\n",
      "adding 7630...\n",
      "adding 7631...\n",
      "adding 7632...\n",
      "adding 7633...\n",
      "adding 7634...\n",
      "adding 7635...\n",
      "adding 7636...\n",
      "adding 7637...\n",
      "adding 7638...\n",
      "adding 7639...\n",
      "adding 7640...\n",
      "adding 7641...\n",
      "adding 7642...\n",
      "adding 7643...\n",
      "adding 7644...\n",
      "adding 7645...\n",
      "adding 7646...\n",
      "adding 7647...\n",
      "adding 7648...\n",
      "adding 7649...\n",
      "adding 7650...\n",
      "adding 7651...\n",
      "adding 7652...\n",
      "adding 7653...\n",
      "adding 7654...\n",
      "adding 7655...\n",
      "adding 7656...\n",
      "adding 7657...\n",
      "adding 7658...\n",
      "adding 7659...\n",
      "adding 7660...\n",
      "adding 7661...\n",
      "adding 7662...\n",
      "adding 7663...\n",
      "adding 7664...\n",
      "adding 7665...\n",
      "adding 7666...\n",
      "adding 7667...\n",
      "adding 7668...\n",
      "adding 7669...\n",
      "adding 7670...\n",
      "adding 7671...\n",
      "adding 7672...\n",
      "adding 7673...\n",
      "adding 7674...\n",
      "adding 7675...\n",
      "adding 7676...\n",
      "adding 7677...\n",
      "adding 7678...\n",
      "adding 7679...\n",
      "adding 7680...\n",
      "adding 7681...\n",
      "adding 7682...\n",
      "adding 7683...\n",
      "adding 7684...\n",
      "adding 7685...\n",
      "adding 7686...\n",
      "adding 7687...\n",
      "adding 7688...\n",
      "adding 7689...\n",
      "adding 7690...\n",
      "adding 7691...\n",
      "adding 7692...\n",
      "adding 7693...\n",
      "adding 7694...\n",
      "adding 7695...\n",
      "adding 7696...\n",
      "adding 7697...\n",
      "adding 7698...\n",
      "adding 7699...\n",
      "adding 7700...\n",
      "adding 7701...\n",
      "adding 7702...\n",
      "adding 7703...\n",
      "adding 7704...\n",
      "adding 7705...\n",
      "adding 7706...\n",
      "adding 7707...\n",
      "adding 7708...\n",
      "adding 7709...\n",
      "adding 7710...\n",
      "adding 7711...\n",
      "adding 7712...\n",
      "adding 7713...\n",
      "adding 7714...\n",
      "adding 7715...\n",
      "adding 7716...\n",
      "adding 7717...\n",
      "adding 7718...\n",
      "adding 7719...\n",
      "adding 7720...\n",
      "adding 7721...\n",
      "adding 7722...\n",
      "adding 7723...\n",
      "adding 7724...\n",
      "adding 7725...\n",
      "adding 7726...\n",
      "adding 7727...\n",
      "adding 7728...\n",
      "adding 7729...\n",
      "adding 7730...\n",
      "adding 7731...\n",
      "adding 7732...\n",
      "adding 7733...\n",
      "adding 7734...\n",
      "adding 7735...\n",
      "adding 7736...\n",
      "adding 7737...\n",
      "adding 7738...\n",
      "adding 7739...\n",
      "adding 7740...\n",
      "adding 7741...\n",
      "adding 7742...\n",
      "adding 7743...\n",
      "adding 7744...\n",
      "adding 7745...\n",
      "adding 7746...\n",
      "adding 7747...\n",
      "adding 7748...\n",
      "adding 7749...\n",
      "adding 7750...\n",
      "adding 7751...\n",
      "adding 7752...\n",
      "adding 7753...\n",
      "adding 7754...\n",
      "adding 7755...\n",
      "adding 7756...\n",
      "adding 7757...\n",
      "adding 7758...\n",
      "adding 7759...\n",
      "adding 7760...\n",
      "adding 7761...\n",
      "adding 7762...\n",
      "adding 7763...\n",
      "adding 7764...\n",
      "adding 7765...\n",
      "adding 7766...\n",
      "adding 7767...\n",
      "adding 7768...\n",
      "adding 7769...\n",
      "adding 7770...\n",
      "adding 7771...\n",
      "adding 7772...\n",
      "adding 7773...\n",
      "adding 7774...\n",
      "adding 7775...\n",
      "adding 7776...\n",
      "adding 7777...\n",
      "adding 7778...\n",
      "adding 7779...\n",
      "adding 7780...\n",
      "adding 7781...\n",
      "adding 7782...\n",
      "adding 7783...\n",
      "adding 7784...\n",
      "adding 7785...\n",
      "adding 7786...\n",
      "adding 7787...\n",
      "adding 7788...\n",
      "adding 7789...\n",
      "adding 7790...\n",
      "adding 7791...\n",
      "adding 7792...\n",
      "adding 7793...\n",
      "adding 7794...\n",
      "adding 7795...\n",
      "adding 7796...\n",
      "adding 7797...\n",
      "adding 7798...\n",
      "adding 7799...\n",
      "adding 7800...\n",
      "adding 7801...\n",
      "adding 7802...\n",
      "adding 7803...\n",
      "adding 7804...\n",
      "adding 7805...\n",
      "adding 7806...\n",
      "adding 7807...\n",
      "adding 7808...\n",
      "adding 7809...\n",
      "adding 7810...\n",
      "adding 7811...\n",
      "adding 7812...\n",
      "adding 7813...\n",
      "adding 7814...\n",
      "adding 7815...\n",
      "adding 7816...\n",
      "adding 7817...\n",
      "adding 7818...\n",
      "adding 7819...\n",
      "adding 7820...\n",
      "adding 7821...\n",
      "adding 7822...\n",
      "adding 7823...\n",
      "adding 7824...\n",
      "adding 7825...\n",
      "adding 7826...\n",
      "adding 7827...\n",
      "adding 7828...\n",
      "adding 7829...\n",
      "adding 7830...\n",
      "adding 7831...\n",
      "adding 7832...\n",
      "adding 7833...\n",
      "adding 7834...\n",
      "adding 7835...\n",
      "adding 7836...\n",
      "adding 7837...\n",
      "adding 7838...\n",
      "adding 7839...\n",
      "adding 7840...\n",
      "adding 7841...\n",
      "adding 7842...\n",
      "adding 7843...\n",
      "adding 7844...\n",
      "adding 7845...\n",
      "adding 7846...\n",
      "adding 7847...\n",
      "adding 7848...\n",
      "adding 7849...\n",
      "adding 7850...\n",
      "adding 7851...\n",
      "adding 7852...\n",
      "adding 7853...\n",
      "adding 7854...\n",
      "adding 7855...\n",
      "adding 7856...\n",
      "adding 7857...\n",
      "adding 7858...\n",
      "adding 7859...\n",
      "adding 7860...\n",
      "adding 7861...\n",
      "adding 7862...\n",
      "adding 7863...\n",
      "adding 7864...\n",
      "adding 7865...\n",
      "adding 7866...\n",
      "adding 7867...\n",
      "adding 7868...\n",
      "adding 7869...\n",
      "adding 7870...\n",
      "adding 7871...\n",
      "adding 7872...\n",
      "adding 7873...\n",
      "adding 7874...\n",
      "adding 7875...\n",
      "adding 7876...\n",
      "adding 7877...\n",
      "adding 7878...\n",
      "adding 7879...\n",
      "adding 7880...\n",
      "adding 7881...\n",
      "adding 7882...\n",
      "adding 7883...\n",
      "adding 7884...\n"
     ]
    },
    {
     "name": "stdout",
     "output_type": "stream",
     "text": [
      "adding 7885...\n",
      "adding 7886...\n",
      "adding 7887...\n",
      "adding 7888...\n",
      "adding 7889...\n",
      "adding 7890...\n",
      "adding 7891...\n",
      "adding 7892...\n",
      "adding 7893...\n",
      "adding 7894...\n",
      "adding 7895...\n",
      "adding 7896...\n",
      "adding 7897...\n",
      "adding 7898...\n",
      "adding 7899...\n",
      "adding 7900...\n",
      "adding 7901...\n",
      "adding 7902...\n",
      "adding 7903...\n",
      "adding 7904...\n",
      "adding 7905...\n",
      "adding 7906...\n",
      "adding 7907...\n",
      "adding 7908...\n",
      "adding 7909...\n",
      "adding 7910...\n",
      "adding 7911...\n",
      "adding 7912...\n",
      "adding 7913...\n",
      "adding 7914...\n",
      "adding 7915...\n",
      "adding 7916...\n",
      "adding 7917...\n",
      "adding 7918...\n",
      "adding 7919...\n",
      "adding 7920...\n",
      "adding 7921...\n",
      "adding 7922...\n",
      "adding 7923...\n",
      "adding 7924...\n",
      "adding 7925...\n",
      "adding 7926...\n",
      "adding 7927...\n",
      "adding 7928...\n",
      "adding 7929...\n",
      "adding 7930...\n",
      "adding 7931...\n",
      "adding 7932...\n",
      "adding 7933...\n",
      "adding 7934...\n",
      "adding 7935...\n",
      "adding 7936...\n",
      "adding 7937...\n",
      "adding 7938...\n",
      "adding 7939...\n",
      "adding 7940...\n",
      "adding 7941...\n",
      "adding 7942...\n",
      "adding 7943...\n",
      "adding 7944...\n",
      "adding 7945...\n",
      "adding 7946...\n",
      "adding 7947...\n",
      "adding 7948...\n",
      "adding 7949...\n",
      "adding 7950...\n",
      "adding 7951...\n",
      "adding 7952...\n",
      "adding 7953...\n",
      "adding 7954...\n",
      "adding 7955...\n",
      "adding 7956...\n",
      "adding 7957...\n",
      "adding 7958...\n",
      "adding 7959...\n",
      "adding 7960...\n",
      "adding 7961...\n",
      "adding 7962...\n",
      "adding 7963...\n",
      "adding 7964...\n",
      "adding 7965...\n",
      "adding 7966...\n",
      "adding 7967...\n",
      "adding 7968...\n",
      "adding 7969...\n",
      "adding 7970...\n",
      "adding 7971...\n",
      "adding 7972...\n",
      "adding 7973...\n",
      "adding 7974...\n",
      "adding 7975...\n",
      "adding 7976...\n",
      "adding 7977...\n",
      "adding 7978...\n",
      "adding 7979...\n",
      "adding 7980...\n",
      "adding 7981...\n",
      "adding 7982...\n",
      "adding 7983...\n",
      "adding 7984...\n",
      "adding 7985...\n",
      "adding 7986...\n",
      "adding 7987...\n",
      "adding 7988...\n",
      "adding 7989...\n",
      "adding 7990...\n",
      "adding 7991...\n",
      "adding 7992...\n",
      "adding 7993...\n",
      "adding 7994...\n",
      "adding 7995...\n",
      "adding 7996...\n",
      "adding 7997...\n",
      "adding 7998...\n",
      "adding 7999...\n",
      "adding 8000...\n",
      "adding 8001...\n",
      "adding 8002...\n",
      "adding 8003...\n",
      "adding 8004...\n",
      "adding 8005...\n",
      "adding 8006...\n",
      "adding 8007...\n",
      "adding 8008...\n",
      "adding 8009...\n",
      "adding 8010...\n",
      "adding 8011...\n",
      "adding 8012...\n",
      "adding 8013...\n",
      "adding 8014...\n",
      "adding 8015...\n",
      "adding 8016...\n",
      "adding 8017...\n",
      "adding 8018...\n",
      "adding 8019...\n",
      "adding 8020...\n",
      "adding 8021...\n",
      "adding 8022...\n",
      "adding 8023...\n",
      "adding 8024...\n",
      "adding 8025...\n",
      "adding 8026...\n",
      "adding 8027...\n",
      "adding 8028...\n",
      "adding 8029...\n",
      "adding 8030...\n",
      "adding 8031...\n",
      "adding 8032...\n",
      "adding 8033...\n",
      "adding 8034...\n",
      "adding 8035...\n",
      "adding 8036...\n",
      "adding 8037...\n",
      "adding 8038...\n",
      "adding 8039...\n",
      "adding 8040...\n",
      "adding 8041...\n",
      "adding 8042...\n",
      "adding 8043...\n",
      "adding 8044...\n",
      "adding 8045...\n",
      "adding 8046...\n",
      "adding 8047...\n",
      "adding 8048...\n",
      "adding 8049...\n",
      "adding 8050...\n",
      "adding 8051...\n",
      "adding 8052...\n",
      "adding 8053...\n",
      "adding 8054...\n",
      "adding 8055...\n",
      "adding 8056...\n",
      "adding 8057...\n",
      "adding 8058...\n",
      "adding 8059...\n",
      "adding 8060...\n",
      "adding 8061...\n",
      "adding 8062...\n",
      "adding 8063...\n",
      "adding 8064...\n",
      "adding 8065...\n",
      "adding 8066...\n",
      "adding 8067...\n",
      "adding 8068...\n",
      "adding 8069...\n",
      "adding 8070...\n",
      "adding 8071...\n",
      "adding 8072...\n",
      "adding 8073...\n",
      "adding 8074...\n",
      "adding 8075...\n",
      "adding 8076...\n",
      "adding 8077...\n",
      "adding 8078...\n",
      "adding 8079...\n",
      "adding 8080...\n",
      "adding 8081...\n",
      "adding 8082...\n",
      "adding 8083...\n",
      "adding 8084...\n",
      "adding 8085...\n",
      "adding 8086...\n",
      "adding 8087...\n",
      "adding 8088...\n",
      "adding 8089...\n",
      "adding 8090...\n",
      "adding 8091...\n",
      "adding 8092...\n",
      "adding 8093...\n",
      "adding 8094...\n",
      "adding 8095...\n",
      "adding 8096...\n",
      "adding 8097...\n",
      "adding 8098...\n",
      "adding 8099...\n",
      "adding 8100...\n",
      "adding 8101...\n",
      "adding 8102...\n",
      "adding 8103...\n",
      "adding 8104...\n",
      "adding 8105...\n",
      "adding 8106...\n",
      "adding 8107...\n",
      "adding 8108...\n",
      "adding 8109...\n",
      "adding 8110...\n",
      "adding 8111...\n",
      "adding 8112...\n",
      "adding 8113...\n",
      "adding 8114...\n",
      "adding 8115...\n",
      "adding 8116...\n",
      "adding 8117...\n",
      "adding 8118...\n",
      "adding 8119...\n",
      "adding 8120...\n",
      "adding 8121...\n",
      "adding 8122...\n",
      "adding 8123...\n",
      "adding 8124...\n",
      "adding 8125...\n",
      "adding 8126...\n",
      "adding 8127...\n",
      "adding 8128...\n",
      "adding 8129...\n",
      "adding 8130...\n",
      "adding 8131...\n",
      "adding 8132...\n",
      "adding 8133...\n",
      "adding 8134...\n",
      "adding 8135...\n",
      "adding 8136...\n",
      "adding 8137...\n",
      "adding 8138...\n",
      "adding 8139...\n",
      "adding 8140...\n",
      "adding 8141...\n",
      "adding 8142...\n",
      "adding 8143...\n",
      "adding 8144...\n",
      "adding 8145...\n",
      "adding 8146...\n",
      "adding 8147...\n",
      "adding 8148...\n",
      "adding 8149...\n",
      "adding 8150...\n",
      "adding 8151...\n",
      "adding 8152...\n",
      "adding 8153...\n",
      "adding 8154...\n",
      "adding 8155...\n",
      "adding 8156...\n",
      "adding 8157...\n",
      "adding 8158...\n",
      "adding 8159...\n",
      "adding 8160...\n",
      "adding 8161...\n",
      "adding 8162...\n",
      "adding 8163...\n",
      "adding 8164...\n",
      "adding 8165...\n",
      "adding 8166...\n",
      "adding 8167...\n",
      "adding 8168...\n",
      "adding 8169...\n",
      "adding 8170...\n",
      "adding 8171...\n",
      "adding 8172...\n",
      "adding 8173...\n",
      "adding 8174...\n",
      "adding 8175...\n",
      "adding 8176...\n",
      "adding 8177...\n",
      "adding 8178...\n",
      "adding 8179...\n",
      "adding 8180...\n",
      "adding 8181...\n",
      "adding 8182...\n",
      "adding 8183...\n",
      "adding 8184...\n",
      "adding 8185...\n",
      "adding 8186...\n",
      "adding 8187...\n",
      "adding 8188...\n",
      "adding 8189...\n",
      "adding 8190...\n",
      "adding 8191...\n",
      "adding 8192...\n",
      "adding 8193...\n",
      "adding 8194...\n",
      "adding 8195...\n",
      "adding 8196...\n",
      "adding 8197...\n",
      "adding 8198...\n",
      "adding 8199...\n",
      "adding 8200...\n",
      "adding 8201...\n",
      "adding 8202...\n",
      "adding 8203...\n",
      "adding 8204...\n",
      "adding 8205...\n",
      "adding 8206...\n",
      "adding 8207...\n",
      "adding 8208...\n",
      "adding 8209...\n",
      "adding 8210...\n",
      "adding 8211...\n",
      "adding 8212...\n",
      "adding 8213...\n",
      "adding 8214...\n",
      "adding 8215...\n",
      "adding 8216...\n",
      "adding 8217...\n",
      "adding 8218...\n",
      "adding 8219...\n",
      "adding 8220...\n",
      "adding 8221...\n",
      "adding 8222...\n",
      "adding 8223...\n",
      "adding 8224...\n",
      "adding 8225...\n",
      "adding 8226...\n",
      "adding 8227...\n",
      "adding 8228...\n",
      "adding 8229...\n",
      "adding 8230...\n",
      "adding 8231...\n",
      "adding 8232...\n",
      "adding 8233...\n",
      "adding 8234...\n",
      "adding 8235...\n",
      "adding 8236...\n",
      "adding 8237...\n",
      "adding 8238...\n",
      "adding 8239...\n",
      "adding 8240...\n",
      "adding 8241...\n",
      "adding 8242...\n",
      "adding 8243...\n",
      "adding 8244...\n",
      "adding 8245...\n",
      "adding 8246...\n",
      "adding 8247...\n",
      "adding 8248...\n",
      "adding 8249...\n",
      "adding 8250...\n",
      "adding 8251...\n",
      "adding 8252...\n",
      "adding 8253...\n",
      "adding 8254...\n",
      "adding 8255...\n",
      "adding 8256...\n",
      "adding 8257...\n",
      "adding 8258...\n",
      "adding 8259...\n",
      "adding 8260...\n",
      "adding 8261...\n",
      "adding 8262...\n",
      "adding 8263...\n",
      "adding 8264...\n",
      "adding 8265...\n",
      "adding 8266...\n",
      "adding 8267...\n",
      "adding 8268...\n",
      "adding 8269...\n",
      "adding 8270...\n",
      "adding 8271...\n",
      "adding 8272...\n",
      "adding 8273...\n",
      "adding 8274...\n",
      "adding 8275...\n",
      "adding 8276...\n",
      "adding 8277...\n",
      "adding 8278...\n",
      "adding 8279...\n",
      "adding 8280...\n",
      "adding 8281...\n",
      "adding 8282...\n",
      "adding 8283...\n",
      "adding 8284...\n",
      "adding 8285...\n",
      "adding 8286...\n",
      "adding 8287...\n",
      "adding 8288...\n",
      "adding 8289...\n",
      "adding 8290...\n",
      "adding 8291...\n",
      "adding 8292...\n",
      "adding 8293...\n",
      "adding 8294...\n",
      "adding 8295...\n",
      "adding 8296...\n",
      "adding 8297...\n",
      "adding 8298...\n",
      "adding 8299...\n",
      "adding 8300...\n",
      "adding 8301...\n",
      "adding 8302...\n",
      "adding 8303...\n",
      "adding 8304...\n",
      "adding 8305...\n",
      "adding 8306...\n",
      "adding 8307...\n",
      "adding 8308...\n",
      "adding 8309...\n",
      "adding 8310...\n",
      "adding 8311...\n",
      "adding 8312...\n",
      "adding 8313...\n",
      "adding 8314...\n",
      "adding 8315...\n",
      "adding 8316...\n",
      "adding 8317...\n",
      "adding 8318...\n",
      "adding 8319...\n",
      "adding 8320...\n",
      "adding 8321...\n",
      "adding 8322...\n",
      "adding 8323...\n",
      "adding 8324...\n",
      "adding 8325...\n",
      "adding 8326...\n",
      "adding 8327...\n",
      "adding 8328...\n",
      "adding 8329...\n",
      "adding 8330...\n",
      "adding 8331...\n",
      "adding 8332...\n",
      "adding 8333...\n",
      "adding 8334...\n",
      "adding 8335...\n",
      "adding 8336...\n",
      "adding 8337...\n",
      "adding 8338...\n",
      "adding 8339...\n",
      "adding 8340...\n",
      "adding 8341...\n",
      "adding 8342...\n",
      "adding 8343...\n",
      "adding 8344...\n",
      "adding 8345...\n",
      "adding 8346...\n",
      "adding 8347...\n",
      "adding 8348...\n",
      "adding 8349...\n",
      "adding 8350...\n",
      "adding 8351...\n",
      "adding 8352...\n",
      "adding 8353...\n",
      "adding 8354...\n",
      "adding 8355...\n",
      "adding 8356...\n",
      "adding 8357...\n",
      "adding 8358...\n",
      "adding 8359...\n",
      "adding 8360...\n",
      "adding 8361...\n",
      "adding 8362...\n",
      "adding 8363...\n",
      "adding 8364...\n",
      "adding 8365...\n",
      "adding 8366...\n",
      "adding 8367...\n",
      "adding 8368...\n",
      "adding 8369...\n",
      "adding 8370...\n",
      "adding 8371...\n",
      "adding 8372...\n",
      "adding 8373...\n",
      "adding 8374...\n",
      "adding 8375...\n",
      "adding 8376...\n",
      "adding 8377...\n",
      "adding 8378...\n",
      "adding 8379...\n",
      "adding 8380...\n",
      "adding 8381...\n",
      "adding 8382...\n",
      "adding 8383...\n",
      "adding 8384...\n",
      "adding 8385...\n",
      "adding 8386...\n",
      "adding 8387...\n",
      "adding 8388...\n",
      "adding 8389...\n",
      "adding 8390...\n",
      "adding 8391...\n",
      "adding 8392...\n",
      "adding 8393...\n",
      "adding 8394...\n",
      "adding 8395...\n",
      "adding 8396...\n",
      "adding 8397...\n",
      "adding 8398...\n",
      "adding 8399...\n",
      "adding 8400...\n",
      "adding 8401...\n",
      "adding 8402...\n",
      "adding 8403...\n",
      "adding 8404...\n",
      "adding 8405...\n",
      "adding 8406...\n",
      "adding 8407...\n",
      "adding 8408...\n",
      "adding 8409...\n",
      "adding 8410...\n",
      "adding 8411...\n",
      "adding 8412...\n",
      "adding 8413...\n",
      "adding 8414...\n",
      "adding 8415...\n",
      "adding 8416...\n",
      "adding 8417...\n",
      "adding 8418...\n",
      "adding 8419...\n",
      "adding 8420...\n",
      "adding 8421...\n",
      "adding 8422...\n",
      "adding 8423...\n",
      "adding 8424...\n",
      "adding 8425...\n",
      "adding 8426...\n",
      "adding 8427...\n",
      "adding 8428...\n",
      "adding 8429...\n",
      "adding 8430...\n",
      "adding 8431...\n",
      "adding 8432...\n"
     ]
    },
    {
     "name": "stdout",
     "output_type": "stream",
     "text": [
      "adding 8433...\n",
      "adding 8434...\n",
      "adding 8435...\n",
      "adding 8436...\n",
      "adding 8437...\n",
      "adding 8438...\n",
      "adding 8439...\n",
      "adding 8440...\n",
      "adding 8441...\n",
      "adding 8442...\n",
      "adding 8443...\n",
      "adding 8444...\n",
      "adding 8445...\n",
      "adding 8446...\n",
      "adding 8447...\n",
      "adding 8448...\n",
      "adding 8449...\n",
      "adding 8450...\n",
      "adding 8451...\n",
      "adding 8452...\n",
      "adding 8453...\n",
      "adding 8454...\n",
      "adding 8455...\n",
      "adding 8456...\n",
      "adding 8457...\n",
      "adding 8458...\n",
      "adding 8459...\n",
      "adding 8460...\n",
      "adding 8461...\n",
      "adding 8462...\n",
      "adding 8463...\n",
      "adding 8464...\n",
      "adding 8465...\n",
      "adding 8466...\n",
      "adding 8467...\n",
      "adding 8468...\n",
      "adding 8469...\n",
      "adding 8470...\n",
      "adding 8471...\n",
      "adding 8472...\n",
      "adding 8473...\n",
      "adding 8474...\n",
      "adding 8475...\n",
      "adding 8476...\n",
      "adding 8477...\n",
      "adding 8478...\n",
      "adding 8479...\n",
      "adding 8480...\n",
      "adding 8481...\n",
      "adding 8482...\n",
      "adding 8483...\n",
      "adding 8484...\n",
      "adding 8485...\n",
      "adding 8486...\n",
      "adding 8487...\n",
      "adding 8488...\n",
      "adding 8489...\n",
      "adding 8490...\n",
      "adding 8491...\n",
      "adding 8492...\n",
      "adding 8493...\n",
      "adding 8494...\n",
      "adding 8495...\n",
      "adding 8496...\n",
      "adding 8497...\n",
      "adding 8498...\n",
      "adding 8499...\n",
      "adding 8500...\n",
      "adding 8501...\n",
      "adding 8502...\n",
      "adding 8503...\n",
      "adding 8504...\n",
      "adding 8505...\n",
      "adding 8506...\n",
      "adding 8507...\n",
      "adding 8508...\n",
      "adding 8509...\n",
      "adding 8510...\n",
      "adding 8511...\n",
      "adding 8512...\n",
      "adding 8513...\n",
      "adding 8514...\n",
      "adding 8515...\n",
      "adding 8516...\n",
      "adding 8517...\n",
      "adding 8518...\n",
      "adding 8519...\n",
      "adding 8520...\n",
      "adding 8521...\n",
      "adding 8522...\n",
      "adding 8523...\n",
      "adding 8524...\n",
      "adding 8525...\n",
      "adding 8526...\n",
      "adding 8527...\n",
      "adding 8528...\n",
      "adding 8529...\n",
      "adding 8530...\n",
      "adding 8531...\n",
      "adding 8532...\n",
      "adding 8533...\n",
      "adding 8534...\n",
      "adding 8535...\n",
      "adding 8536...\n",
      "adding 8537...\n",
      "adding 8538...\n",
      "adding 8539...\n",
      "adding 8540...\n",
      "adding 8541...\n",
      "adding 8542...\n",
      "adding 8543...\n",
      "adding 8544...\n",
      "adding 8545...\n",
      "adding 8546...\n",
      "adding 8547...\n",
      "adding 8548...\n",
      "adding 8549...\n",
      "adding 8550...\n",
      "adding 8551...\n",
      "adding 8552...\n",
      "adding 8553...\n",
      "adding 8554...\n",
      "adding 8555...\n",
      "adding 8556...\n",
      "adding 8557...\n",
      "adding 8558...\n",
      "adding 8559...\n",
      "adding 8560...\n",
      "adding 8561...\n",
      "adding 8562...\n",
      "adding 8563...\n",
      "adding 8564...\n",
      "adding 8565...\n",
      "adding 8566...\n",
      "adding 8567...\n",
      "adding 8568...\n",
      "adding 8569...\n",
      "adding 8570...\n",
      "adding 8571...\n",
      "adding 8572...\n",
      "adding 8573...\n",
      "adding 8574...\n",
      "adding 8575...\n",
      "adding 8576...\n",
      "adding 8577...\n",
      "adding 8578...\n",
      "adding 8579...\n",
      "adding 8580...\n",
      "adding 8581...\n",
      "adding 8582...\n",
      "adding 8583...\n",
      "adding 8584...\n",
      "adding 8585...\n",
      "adding 8586...\n",
      "adding 8587...\n",
      "adding 8588...\n",
      "adding 8589...\n",
      "adding 8590...\n",
      "adding 8591...\n",
      "adding 8592...\n",
      "adding 8593...\n",
      "adding 8594...\n",
      "adding 8595...\n",
      "adding 8596...\n",
      "adding 8597...\n",
      "adding 8598...\n",
      "adding 8599...\n",
      "adding 8600...\n",
      "adding 8601...\n",
      "adding 8602...\n",
      "adding 8603...\n",
      "adding 8604...\n",
      "adding 8605...\n",
      "adding 8606...\n",
      "adding 8607...\n",
      "adding 8608...\n",
      "adding 8609...\n",
      "adding 8610...\n",
      "adding 8611...\n",
      "adding 8612...\n",
      "adding 8613...\n",
      "adding 8614...\n",
      "adding 8615...\n",
      "adding 8616...\n",
      "adding 8617...\n",
      "adding 8618...\n",
      "adding 8619...\n",
      "adding 8620...\n",
      "adding 8621...\n",
      "adding 8622...\n",
      "adding 8623...\n",
      "adding 8624...\n",
      "adding 8625...\n",
      "adding 8626...\n",
      "adding 8627...\n",
      "adding 8628...\n",
      "adding 8629...\n",
      "adding 8630...\n",
      "adding 8631...\n",
      "adding 8632...\n",
      "adding 8633...\n",
      "adding 8634...\n",
      "adding 8635...\n",
      "adding 8636...\n",
      "adding 8637...\n",
      "adding 8638...\n",
      "adding 8639...\n",
      "adding 8640...\n",
      "adding 8641...\n",
      "adding 8642...\n",
      "adding 8643...\n",
      "adding 8644...\n",
      "adding 8645...\n",
      "adding 8646...\n",
      "adding 8647...\n",
      "adding 8648...\n",
      "adding 8649...\n",
      "adding 8650...\n",
      "adding 8651...\n",
      "adding 8652...\n",
      "adding 8653...\n",
      "adding 8654...\n",
      "adding 8655...\n",
      "adding 8656...\n",
      "adding 8657...\n",
      "adding 8658...\n",
      "adding 8659...\n",
      "adding 8660...\n",
      "adding 8661...\n",
      "adding 8662...\n",
      "adding 8663...\n",
      "adding 8664...\n",
      "adding 8665...\n",
      "adding 8666...\n",
      "adding 8667...\n",
      "adding 8668...\n",
      "adding 8669...\n",
      "adding 8670...\n",
      "adding 8671...\n",
      "adding 8672...\n",
      "adding 8673...\n",
      "adding 8674...\n",
      "adding 8675...\n",
      "adding 8676...\n",
      "adding 8677...\n",
      "adding 8678...\n",
      "adding 8679...\n",
      "adding 8680...\n",
      "adding 8681...\n",
      "adding 8682...\n",
      "adding 8683...\n",
      "adding 8684...\n",
      "adding 8685...\n",
      "adding 8686...\n",
      "adding 8687...\n",
      "adding 8688...\n",
      "adding 8689...\n",
      "adding 8690...\n",
      "adding 8691...\n",
      "adding 8692...\n",
      "adding 8693...\n",
      "adding 8694...\n",
      "adding 8695...\n",
      "adding 8696...\n",
      "adding 8697...\n",
      "adding 8698...\n",
      "adding 8699...\n",
      "adding 8700...\n",
      "adding 8701...\n",
      "adding 8702...\n",
      "adding 8703...\n",
      "adding 8704...\n",
      "adding 8705...\n",
      "adding 8706...\n",
      "adding 8707...\n",
      "adding 8708...\n",
      "adding 8709...\n",
      "adding 8710...\n",
      "adding 8711...\n",
      "adding 8712...\n",
      "adding 8713...\n",
      "adding 8714...\n",
      "adding 8715...\n",
      "adding 8716...\n",
      "adding 8717...\n",
      "adding 8718...\n",
      "adding 8719...\n",
      "adding 8720...\n",
      "adding 8721...\n",
      "adding 8722...\n",
      "adding 8723...\n",
      "adding 8724...\n",
      "adding 8725...\n",
      "adding 8726...\n",
      "adding 8727...\n",
      "adding 8728...\n",
      "adding 8729...\n",
      "adding 8730...\n",
      "adding 8731...\n",
      "adding 8732...\n",
      "adding 8733...\n",
      "adding 8734...\n",
      "adding 8735...\n",
      "adding 8736...\n",
      "adding 8737...\n",
      "adding 8738...\n",
      "adding 8739...\n",
      "adding 8740...\n",
      "adding 8741...\n",
      "adding 8742...\n",
      "adding 8743...\n",
      "adding 8744...\n",
      "adding 8745...\n",
      "adding 8746...\n",
      "adding 8747...\n",
      "adding 8748...\n",
      "adding 8749...\n",
      "adding 8750...\n",
      "adding 8751...\n",
      "adding 8752...\n",
      "adding 8753...\n",
      "adding 8754...\n",
      "adding 8755...\n",
      "adding 8756...\n",
      "adding 8757...\n",
      "adding 8758...\n",
      "adding 8759...\n",
      "adding 8760...\n",
      "adding 8761...\n",
      "adding 8762...\n",
      "adding 8763...\n",
      "adding 8764...\n",
      "adding 8765...\n",
      "adding 8766...\n",
      "adding 8767...\n",
      "adding 8768...\n",
      "adding 8769...\n",
      "adding 8770...\n",
      "adding 8771...\n",
      "adding 8772...\n",
      "adding 8773...\n",
      "adding 8774...\n",
      "adding 8775...\n",
      "adding 8776...\n",
      "adding 8777...\n",
      "adding 8778...\n",
      "adding 8779...\n",
      "adding 8780...\n",
      "adding 8781...\n",
      "adding 8782...\n",
      "adding 8783...\n",
      "adding 8784...\n",
      "adding 8785...\n",
      "adding 8786...\n",
      "adding 8787...\n",
      "adding 8788...\n",
      "adding 8789...\n",
      "adding 8790...\n",
      "adding 8791...\n",
      "adding 8792...\n",
      "adding 8793...\n",
      "adding 8794...\n",
      "adding 8795...\n",
      "adding 8796...\n",
      "adding 8797...\n",
      "adding 8798...\n",
      "adding 8799...\n",
      "adding 8800...\n",
      "adding 8801...\n",
      "adding 8802...\n",
      "adding 8803...\n",
      "adding 8804...\n",
      "adding 8805...\n",
      "adding 8806...\n",
      "adding 8807...\n",
      "adding 8808...\n",
      "adding 8809...\n",
      "adding 8810...\n",
      "adding 8811...\n",
      "adding 8812...\n",
      "adding 8813...\n",
      "adding 8814...\n",
      "adding 8815...\n",
      "adding 8816...\n",
      "adding 8817...\n",
      "adding 8818...\n",
      "adding 8819...\n",
      "adding 8820...\n",
      "adding 8821...\n",
      "adding 8822...\n",
      "adding 8823...\n",
      "adding 8824...\n",
      "adding 8825...\n",
      "adding 8826...\n",
      "adding 8827...\n",
      "adding 8828...\n",
      "adding 8829...\n",
      "adding 8830...\n",
      "adding 8831...\n",
      "adding 8832...\n",
      "adding 8833...\n",
      "adding 8834...\n",
      "adding 8835...\n",
      "adding 8836...\n",
      "adding 8837...\n",
      "adding 8838...\n",
      "adding 8839...\n",
      "adding 8840...\n",
      "adding 8841...\n",
      "adding 8842...\n",
      "adding 8843...\n",
      "adding 8844...\n",
      "adding 8845...\n",
      "adding 8846...\n",
      "adding 8847...\n",
      "adding 8848...\n",
      "adding 8849...\n",
      "adding 8850...\n",
      "adding 8851...\n",
      "adding 8852...\n",
      "adding 8853...\n",
      "adding 8854...\n",
      "adding 8855...\n",
      "adding 8856...\n",
      "adding 8857...\n",
      "adding 8858...\n",
      "adding 8859...\n",
      "adding 8860...\n",
      "adding 8861...\n",
      "adding 8862...\n",
      "adding 8863...\n",
      "adding 8864...\n",
      "adding 8865...\n",
      "adding 8866...\n",
      "adding 8867...\n",
      "adding 8868...\n",
      "adding 8869...\n",
      "adding 8870...\n",
      "adding 8871...\n",
      "adding 8872...\n",
      "adding 8873...\n",
      "adding 8874...\n",
      "adding 8875...\n",
      "adding 8876...\n",
      "adding 8877...\n",
      "adding 8878...\n",
      "adding 8879...\n",
      "adding 8880...\n",
      "adding 8881...\n",
      "adding 8882...\n",
      "adding 8883...\n",
      "adding 8884...\n",
      "adding 8885...\n",
      "adding 8886...\n",
      "adding 8887...\n",
      "adding 8888...\n",
      "adding 8889...\n",
      "adding 8890...\n",
      "adding 8891...\n",
      "adding 8892...\n",
      "adding 8893...\n",
      "adding 8894...\n",
      "adding 8895...\n",
      "adding 8896...\n",
      "adding 8897...\n",
      "adding 8898...\n",
      "adding 8899...\n",
      "adding 8900...\n",
      "adding 8901...\n",
      "adding 8902...\n",
      "adding 8903...\n",
      "adding 8904...\n",
      "adding 8905...\n",
      "adding 8906...\n",
      "adding 8907...\n",
      "adding 8908...\n",
      "adding 8909...\n",
      "adding 8910...\n",
      "adding 8911...\n",
      "adding 8912...\n",
      "adding 8913...\n",
      "adding 8914...\n",
      "adding 8915...\n",
      "adding 8916...\n",
      "adding 8917...\n",
      "adding 8918...\n",
      "adding 8919...\n",
      "adding 8920...\n",
      "adding 8921...\n",
      "adding 8922...\n",
      "adding 8923...\n",
      "adding 8924...\n",
      "adding 8925...\n",
      "adding 8926...\n",
      "adding 8927...\n",
      "adding 8928...\n",
      "adding 8929...\n",
      "adding 8930...\n",
      "adding 8931...\n",
      "adding 8932...\n",
      "adding 8933...\n",
      "adding 8934...\n",
      "adding 8935...\n",
      "adding 8936...\n",
      "adding 8937...\n",
      "adding 8938...\n",
      "adding 8939...\n",
      "adding 8940...\n",
      "adding 8941...\n",
      "adding 8942...\n",
      "adding 8943...\n",
      "adding 8944...\n",
      "adding 8945...\n",
      "adding 8946...\n",
      "adding 8947...\n",
      "adding 8948...\n",
      "adding 8949...\n",
      "adding 8950...\n",
      "adding 8951...\n",
      "adding 8952...\n",
      "adding 8953...\n",
      "adding 8954...\n",
      "adding 8955...\n",
      "adding 8956...\n",
      "adding 8957...\n",
      "adding 8958...\n",
      "adding 8959...\n",
      "adding 8960...\n",
      "adding 8961...\n",
      "adding 8962...\n",
      "adding 8963...\n",
      "adding 8964...\n",
      "adding 8965...\n",
      "adding 8966...\n",
      "adding 8967...\n",
      "adding 8968...\n",
      "adding 8969...\n",
      "adding 8970...\n",
      "adding 8971...\n",
      "adding 8972...\n",
      "adding 8973...\n",
      "adding 8974...\n",
      "adding 8975...\n",
      "adding 8976...\n",
      "adding 8977...\n",
      "adding 8978...\n",
      "adding 8979...\n",
      "adding 8980...\n",
      "adding 8981...\n",
      "adding 8982...\n",
      "adding 8983...\n",
      "adding 8984...\n",
      "adding 8985...\n",
      "adding 8986...\n",
      "adding 8987...\n",
      "adding 8988...\n",
      "adding 8989...\n",
      "adding 8990...\n",
      "adding 8991...\n",
      "adding 8992...\n",
      "adding 8993...\n",
      "adding 8994...\n",
      "adding 8995...\n",
      "adding 8996...\n",
      "adding 8997...\n",
      "adding 8998...\n",
      "adding 8999...\n",
      "adding 9000...\n",
      "adding 9001...\n",
      "adding 9002...\n",
      "adding 9003...\n",
      "adding 9004...\n"
     ]
    },
    {
     "name": "stdout",
     "output_type": "stream",
     "text": [
      "adding 9005...\n",
      "adding 9006...\n",
      "adding 9007...\n",
      "adding 9008...\n",
      "adding 9009...\n",
      "adding 9010...\n",
      "adding 9011...\n",
      "adding 9012...\n",
      "adding 9013...\n",
      "adding 9014...\n",
      "adding 9015...\n",
      "adding 9016...\n",
      "adding 9017...\n",
      "adding 9018...\n",
      "adding 9019...\n",
      "adding 9020...\n",
      "adding 9021...\n",
      "adding 9022...\n",
      "adding 9023...\n",
      "adding 9024...\n",
      "adding 9025...\n",
      "adding 9026...\n",
      "adding 9027...\n",
      "adding 9028...\n",
      "adding 9029...\n",
      "adding 9030...\n",
      "adding 9031...\n",
      "adding 9032...\n",
      "adding 9033...\n",
      "adding 9034...\n",
      "adding 9035...\n",
      "adding 9036...\n",
      "adding 9037...\n",
      "adding 9038...\n",
      "adding 9039...\n",
      "adding 9040...\n",
      "adding 9041...\n",
      "adding 9042...\n",
      "adding 9043...\n",
      "adding 9044...\n",
      "adding 9045...\n",
      "adding 9046...\n",
      "adding 9047...\n",
      "adding 9048...\n",
      "adding 9049...\n",
      "adding 9050...\n",
      "adding 9051...\n",
      "adding 9052...\n",
      "adding 9053...\n",
      "adding 9054...\n",
      "adding 9055...\n",
      "adding 9056...\n",
      "adding 9057...\n",
      "adding 9058...\n",
      "adding 9059...\n",
      "adding 9060...\n",
      "adding 9061...\n",
      "adding 9062...\n",
      "adding 9063...\n",
      "adding 9064...\n",
      "adding 9065...\n",
      "adding 9066...\n",
      "adding 9067...\n",
      "adding 9068...\n",
      "adding 9069...\n",
      "adding 9070...\n",
      "adding 9071...\n",
      "adding 9072...\n",
      "adding 9073...\n",
      "adding 9074...\n",
      "adding 9075...\n",
      "adding 9076...\n",
      "adding 9077...\n",
      "adding 9078...\n",
      "adding 9079...\n",
      "adding 9080...\n",
      "adding 9081...\n",
      "adding 9082...\n",
      "adding 9083...\n",
      "adding 9084...\n",
      "adding 9085...\n",
      "adding 9086...\n",
      "adding 9087...\n",
      "adding 9088...\n",
      "adding 9089...\n",
      "adding 9090...\n",
      "adding 9091...\n",
      "adding 9092...\n",
      "adding 9093...\n",
      "adding 9094...\n",
      "adding 9095...\n",
      "adding 9096...\n",
      "adding 9097...\n",
      "adding 9098...\n",
      "adding 9099...\n",
      "adding 9100...\n",
      "adding 9101...\n",
      "adding 9102...\n",
      "adding 9103...\n",
      "adding 9104...\n",
      "adding 9105...\n",
      "adding 9106...\n",
      "adding 9107...\n",
      "adding 9108...\n",
      "adding 9109...\n",
      "adding 9110...\n",
      "adding 9111...\n",
      "adding 9112...\n",
      "adding 9113...\n",
      "adding 9114...\n",
      "adding 9115...\n",
      "adding 9116...\n",
      "adding 9117...\n",
      "adding 9118...\n",
      "adding 9119...\n",
      "adding 9120...\n",
      "adding 9121...\n",
      "adding 9122...\n",
      "adding 9123...\n",
      "adding 9124...\n",
      "adding 9125...\n",
      "adding 9126...\n",
      "adding 9127...\n",
      "adding 9128...\n",
      "adding 9129...\n",
      "adding 9130...\n",
      "adding 9131...\n",
      "adding 9132...\n",
      "adding 9133...\n",
      "adding 9134...\n",
      "adding 9135...\n",
      "adding 9136...\n",
      "adding 9137...\n",
      "adding 9138...\n",
      "adding 9139...\n",
      "adding 9140...\n",
      "adding 9141...\n",
      "adding 9142...\n",
      "adding 9143...\n",
      "adding 9144...\n",
      "adding 9145...\n",
      "adding 9146...\n",
      "adding 9147...\n",
      "adding 9148...\n",
      "adding 9149...\n",
      "adding 9150...\n",
      "adding 9151...\n",
      "adding 9152...\n",
      "adding 9153...\n",
      "adding 9154...\n",
      "adding 9155...\n",
      "adding 9156...\n",
      "adding 9157...\n",
      "adding 9158...\n",
      "adding 9159...\n",
      "adding 9160...\n",
      "adding 9161...\n",
      "adding 9162...\n",
      "adding 9163...\n",
      "adding 9164...\n",
      "adding 9165...\n",
      "adding 9166...\n",
      "adding 9167...\n",
      "adding 9168...\n",
      "adding 9169...\n",
      "adding 9170...\n",
      "adding 9171...\n",
      "adding 9172...\n",
      "adding 9173...\n",
      "adding 9174...\n",
      "adding 9175...\n",
      "adding 9176...\n",
      "adding 9177...\n",
      "adding 9178...\n",
      "adding 9179...\n",
      "adding 9180...\n",
      "adding 9181...\n",
      "adding 9182...\n",
      "adding 9183...\n",
      "adding 9184...\n",
      "adding 9185...\n",
      "adding 9186...\n",
      "adding 9187...\n",
      "adding 9188...\n",
      "adding 9189...\n",
      "adding 9190...\n",
      "adding 9191...\n",
      "adding 9192...\n",
      "adding 9193...\n",
      "adding 9194...\n",
      "adding 9195...\n",
      "adding 9196...\n",
      "adding 9197...\n",
      "adding 9198...\n",
      "adding 9199...\n",
      "adding 9200...\n",
      "adding 9201...\n",
      "adding 9202...\n",
      "adding 9203...\n",
      "adding 9204...\n",
      "adding 9205...\n",
      "adding 9206...\n",
      "adding 9207...\n",
      "adding 9208...\n",
      "adding 9209...\n",
      "adding 9210...\n",
      "adding 9211...\n",
      "adding 9212...\n",
      "adding 9213...\n",
      "adding 9214...\n",
      "adding 9215...\n",
      "adding 9216...\n",
      "adding 9217...\n",
      "adding 9218...\n",
      "adding 9219...\n",
      "adding 9220...\n",
      "adding 9221...\n",
      "adding 9222...\n",
      "adding 9223...\n",
      "adding 9224...\n",
      "adding 9225...\n",
      "adding 9226...\n",
      "adding 9227...\n",
      "adding 9228...\n",
      "adding 9229...\n",
      "adding 9230...\n",
      "adding 9231...\n",
      "adding 9232...\n",
      "adding 9233...\n",
      "adding 9234...\n",
      "adding 9235...\n",
      "adding 9236...\n",
      "adding 9237...\n",
      "adding 9238...\n",
      "adding 9239...\n",
      "adding 9240...\n",
      "adding 9241...\n",
      "adding 9242...\n",
      "adding 9243...\n",
      "adding 9244...\n",
      "adding 9245...\n",
      "adding 9246...\n",
      "adding 9247...\n",
      "adding 9248...\n",
      "adding 9249...\n",
      "adding 9250...\n",
      "adding 9251...\n",
      "adding 9252...\n",
      "adding 9253...\n",
      "adding 9254...\n",
      "adding 9255...\n",
      "adding 9256...\n",
      "adding 9257...\n",
      "adding 9258...\n",
      "adding 9259...\n",
      "adding 9260...\n",
      "adding 9261...\n",
      "adding 9262...\n",
      "adding 9263...\n",
      "adding 9264...\n",
      "adding 9265...\n",
      "adding 9266...\n",
      "adding 9267...\n",
      "adding 9268...\n",
      "adding 9269...\n",
      "adding 9270...\n",
      "adding 9271...\n",
      "adding 9272...\n",
      "adding 9273...\n",
      "adding 9274...\n",
      "adding 9275...\n",
      "adding 9276...\n",
      "adding 9277...\n",
      "adding 9278...\n",
      "adding 9279...\n",
      "adding 9280...\n",
      "adding 9281...\n",
      "adding 9282...\n",
      "adding 9283...\n",
      "adding 9284...\n",
      "adding 9285...\n",
      "adding 9286...\n",
      "adding 9287...\n",
      "adding 9288...\n",
      "adding 9289...\n",
      "adding 9290...\n",
      "adding 9291...\n",
      "adding 9292...\n",
      "adding 9293...\n",
      "adding 9294...\n",
      "adding 9295...\n",
      "adding 9296...\n",
      "adding 9297...\n",
      "adding 9298...\n",
      "adding 9299...\n",
      "adding 9300...\n",
      "adding 9301...\n",
      "adding 9302...\n",
      "adding 9303...\n",
      "adding 9304...\n",
      "adding 9305...\n",
      "adding 9306...\n",
      "adding 9307...\n",
      "adding 9308...\n",
      "adding 9309...\n",
      "adding 9310...\n",
      "adding 9311...\n",
      "adding 9312...\n",
      "adding 9313...\n",
      "adding 9314...\n",
      "adding 9315...\n",
      "adding 9316...\n",
      "adding 9317...\n",
      "adding 9318...\n",
      "adding 9319...\n",
      "adding 9320...\n",
      "adding 9321...\n",
      "adding 9322...\n",
      "adding 9323...\n",
      "adding 9324...\n",
      "adding 9325...\n",
      "adding 9326...\n",
      "adding 9327...\n",
      "adding 9328...\n",
      "adding 9329...\n",
      "adding 9330...\n",
      "adding 9331...\n",
      "adding 9332...\n",
      "adding 9333...\n",
      "adding 9334...\n",
      "adding 9335...\n",
      "adding 9336...\n",
      "adding 9337...\n",
      "adding 9338...\n",
      "adding 9339...\n",
      "adding 9340...\n",
      "adding 9341...\n",
      "adding 9342...\n",
      "adding 9343...\n",
      "adding 9344...\n",
      "adding 9345...\n",
      "adding 9346...\n",
      "adding 9347...\n",
      "adding 9348...\n",
      "adding 9349...\n",
      "adding 9350...\n",
      "adding 9351...\n",
      "adding 9352...\n",
      "adding 9353...\n",
      "adding 9354...\n",
      "adding 9355...\n",
      "adding 9356...\n",
      "adding 9357...\n",
      "adding 9358...\n",
      "adding 9359...\n",
      "adding 9360...\n",
      "adding 9361...\n",
      "adding 9362...\n",
      "adding 9363...\n",
      "adding 9364...\n",
      "adding 9365...\n",
      "adding 9366...\n",
      "adding 9367...\n",
      "adding 9368...\n",
      "adding 9369...\n",
      "adding 9370...\n",
      "adding 9371...\n",
      "adding 9372...\n",
      "adding 9373...\n",
      "adding 9374...\n",
      "adding 9375...\n",
      "adding 9376...\n",
      "adding 9377...\n",
      "adding 9378...\n",
      "adding 9379...\n",
      "adding 9380...\n",
      "adding 9381...\n",
      "adding 9382...\n",
      "adding 9383...\n",
      "adding 9384...\n",
      "adding 9385...\n",
      "adding 9386...\n",
      "adding 9387...\n",
      "adding 9388...\n",
      "adding 9389...\n",
      "adding 9390...\n",
      "adding 9391...\n",
      "adding 9392...\n",
      "adding 9393...\n",
      "adding 9394...\n",
      "adding 9395...\n",
      "adding 9396...\n",
      "adding 9397...\n",
      "adding 9398...\n",
      "adding 9399...\n",
      "adding 9400...\n",
      "adding 9401...\n",
      "adding 9402...\n",
      "adding 9403...\n",
      "adding 9404...\n",
      "adding 9405...\n",
      "adding 9406...\n",
      "adding 9407...\n",
      "adding 9408...\n",
      "adding 9409...\n",
      "adding 9410...\n",
      "adding 9411...\n",
      "adding 9412...\n",
      "adding 9413...\n",
      "adding 9414...\n",
      "adding 9415...\n",
      "adding 9416...\n",
      "adding 9417...\n",
      "adding 9418...\n",
      "adding 9419...\n",
      "adding 9420...\n",
      "adding 9421...\n",
      "adding 9422...\n",
      "adding 9423...\n",
      "adding 9424...\n",
      "adding 9425...\n",
      "adding 9426...\n",
      "adding 9427...\n",
      "adding 9428...\n",
      "adding 9429...\n",
      "adding 9430...\n",
      "adding 9431...\n",
      "adding 9432...\n",
      "adding 9433...\n",
      "adding 9434...\n",
      "adding 9435...\n",
      "adding 9436...\n",
      "adding 9437...\n",
      "adding 9438...\n",
      "adding 9439...\n",
      "adding 9440...\n",
      "adding 9441...\n",
      "adding 9442...\n",
      "adding 9443...\n",
      "adding 9444...\n",
      "adding 9445...\n",
      "adding 9446...\n",
      "adding 9447...\n",
      "adding 9448...\n",
      "adding 9449...\n",
      "adding 9450...\n",
      "adding 9451...\n",
      "adding 9452...\n",
      "adding 9453...\n",
      "adding 9454...\n",
      "adding 9455...\n",
      "adding 9456...\n",
      "adding 9457...\n",
      "adding 9458...\n",
      "adding 9459...\n",
      "adding 9460...\n",
      "adding 9461...\n",
      "adding 9462...\n",
      "adding 9463...\n",
      "adding 9464...\n",
      "adding 9465...\n",
      "adding 9466...\n",
      "adding 9467...\n",
      "adding 9468...\n",
      "adding 9469...\n",
      "adding 9470...\n",
      "adding 9471...\n",
      "adding 9472...\n",
      "adding 9473...\n",
      "adding 9474...\n",
      "adding 9475...\n",
      "adding 9476...\n",
      "adding 9477...\n",
      "adding 9478...\n",
      "adding 9479...\n",
      "adding 9480...\n",
      "adding 9481...\n",
      "adding 9482...\n",
      "adding 9483...\n",
      "adding 9484...\n",
      "adding 9485...\n",
      "adding 9486...\n",
      "adding 9487...\n",
      "adding 9488...\n",
      "adding 9489...\n",
      "adding 9490...\n",
      "adding 9491...\n",
      "adding 9492...\n",
      "adding 9493...\n",
      "adding 9494...\n",
      "adding 9495...\n",
      "adding 9496...\n",
      "adding 9497...\n",
      "adding 9498...\n",
      "adding 9499...\n",
      "adding 9500...\n",
      "adding 9501...\n",
      "adding 9502...\n",
      "adding 9503...\n",
      "adding 9504...\n",
      "adding 9505...\n",
      "adding 9506...\n",
      "adding 9507...\n",
      "adding 9508...\n",
      "adding 9509...\n",
      "adding 9510...\n",
      "adding 9511...\n",
      "adding 9512...\n",
      "adding 9513...\n",
      "adding 9514...\n",
      "adding 9515...\n",
      "adding 9516...\n",
      "adding 9517...\n",
      "adding 9518...\n",
      "adding 9519...\n",
      "adding 9520...\n",
      "adding 9521...\n",
      "adding 9522...\n",
      "adding 9523...\n",
      "adding 9524...\n",
      "adding 9525...\n",
      "adding 9526...\n",
      "adding 9527...\n",
      "adding 9528...\n",
      "adding 9529...\n",
      "adding 9530...\n",
      "adding 9531...\n",
      "adding 9532...\n",
      "adding 9533...\n",
      "adding 9534...\n",
      "adding 9535...\n",
      "adding 9536...\n",
      "adding 9537...\n",
      "adding 9538...\n",
      "adding 9539...\n",
      "adding 9540...\n",
      "adding 9541...\n",
      "adding 9542...\n",
      "adding 9543...\n",
      "adding 9544...\n",
      "adding 9545...\n",
      "adding 9546...\n",
      "adding 9547...\n",
      "adding 9548...\n",
      "adding 9549...\n",
      "adding 9550...\n",
      "adding 9551...\n",
      "adding 9552...\n",
      "adding 9553...\n",
      "adding 9554...\n",
      "adding 9555...\n",
      "adding 9556...\n",
      "adding 9557...\n",
      "adding 9558...\n",
      "adding 9559...\n",
      "adding 9560...\n",
      "adding 9561...\n",
      "adding 9562...\n",
      "adding 9563...\n",
      "adding 9564...\n",
      "adding 9565...\n",
      "adding 9566...\n",
      "adding 9567...\n",
      "adding 9568...\n",
      "adding 9569...\n",
      "adding 9570...\n",
      "adding 9571...\n",
      "adding 9572...\n",
      "adding 9573...\n",
      "adding 9574...\n"
     ]
    },
    {
     "name": "stdout",
     "output_type": "stream",
     "text": [
      "adding 9575...\n",
      "adding 9576...\n",
      "adding 9577...\n",
      "adding 9578...\n",
      "adding 9579...\n",
      "adding 9580...\n",
      "adding 9581...\n",
      "adding 9582...\n",
      "adding 9583...\n",
      "adding 9584...\n",
      "adding 9585...\n",
      "adding 9586...\n",
      "adding 9587...\n",
      "adding 9588...\n",
      "adding 9589...\n",
      "adding 9590...\n",
      "adding 9591...\n",
      "adding 9592...\n",
      "adding 9593...\n",
      "adding 9594...\n",
      "adding 9595...\n",
      "adding 9596...\n",
      "adding 9597...\n",
      "adding 9598...\n",
      "adding 9599...\n",
      "adding 9600...\n",
      "adding 9601...\n",
      "adding 9602...\n",
      "adding 9603...\n",
      "adding 9604...\n",
      "adding 9605...\n",
      "adding 9606...\n",
      "adding 9607...\n",
      "adding 9608...\n",
      "adding 9609...\n",
      "adding 9610...\n",
      "adding 9611...\n",
      "adding 9612...\n",
      "adding 9613...\n",
      "adding 9614...\n",
      "adding 9615...\n",
      "adding 9616...\n",
      "adding 9617...\n",
      "adding 9618...\n",
      "adding 9619...\n",
      "adding 9620...\n",
      "adding 9621...\n",
      "adding 9622...\n",
      "adding 9623...\n",
      "adding 9624...\n",
      "adding 9625...\n",
      "adding 9626...\n",
      "adding 9627...\n",
      "adding 9628...\n",
      "adding 9629...\n",
      "adding 9630...\n",
      "adding 9631...\n",
      "adding 9632...\n",
      "adding 9633...\n",
      "adding 9634...\n",
      "adding 9635...\n",
      "adding 9636...\n",
      "adding 9637...\n",
      "adding 9638...\n",
      "adding 9639...\n",
      "adding 9640...\n",
      "adding 9641...\n",
      "adding 9642...\n",
      "adding 9643...\n",
      "adding 9644...\n",
      "adding 9645...\n",
      "adding 9646...\n",
      "adding 9647...\n",
      "adding 9648...\n",
      "adding 9649...\n",
      "adding 9650...\n",
      "adding 9651...\n",
      "adding 9652...\n",
      "adding 9653...\n",
      "adding 9654...\n",
      "adding 9655...\n",
      "adding 9656...\n",
      "adding 9657...\n",
      "adding 9658...\n",
      "adding 9659...\n",
      "adding 9660...\n",
      "adding 9661...\n",
      "adding 9662...\n",
      "adding 9663...\n",
      "adding 9664...\n",
      "adding 9665...\n",
      "adding 9666...\n",
      "adding 9667...\n",
      "adding 9668...\n",
      "adding 9669...\n",
      "adding 9670...\n",
      "adding 9671...\n",
      "adding 9672...\n",
      "adding 9673...\n",
      "adding 9674...\n",
      "adding 9675...\n",
      "adding 9676...\n",
      "adding 9677...\n",
      "adding 9678...\n",
      "adding 9679...\n",
      "adding 9680...\n",
      "adding 9681...\n",
      "adding 9682...\n",
      "adding 9683...\n",
      "adding 9684...\n",
      "adding 9685...\n",
      "adding 9686...\n",
      "adding 9687...\n",
      "adding 9688...\n",
      "adding 9689...\n",
      "adding 9690...\n",
      "adding 9691...\n",
      "adding 9692...\n",
      "adding 9693...\n",
      "adding 9694...\n",
      "adding 9695...\n",
      "adding 9696...\n",
      "adding 9697...\n",
      "adding 9698...\n",
      "adding 9699...\n",
      "adding 9700...\n",
      "adding 9701...\n",
      "adding 9702...\n",
      "adding 9703...\n",
      "adding 9704...\n",
      "adding 9705...\n",
      "adding 9706...\n",
      "adding 9707...\n",
      "adding 9708...\n",
      "adding 9709...\n",
      "adding 9710...\n",
      "adding 9711...\n",
      "adding 9712...\n",
      "adding 9713...\n",
      "adding 9714...\n",
      "adding 9715...\n",
      "adding 9716...\n",
      "adding 9717...\n",
      "adding 9718...\n",
      "adding 9719...\n",
      "adding 9720...\n",
      "adding 9721...\n",
      "adding 9722...\n",
      "adding 9723...\n",
      "adding 9724...\n",
      "adding 9725...\n",
      "adding 9726...\n",
      "adding 9727...\n",
      "adding 9728...\n",
      "adding 9729...\n",
      "adding 9730...\n",
      "adding 9731...\n",
      "adding 9732...\n",
      "adding 9733...\n",
      "adding 9734...\n",
      "adding 9735...\n",
      "adding 9736...\n",
      "adding 9737...\n",
      "adding 9738...\n",
      "adding 9739...\n",
      "adding 9740...\n",
      "adding 9741...\n",
      "adding 9742...\n",
      "adding 9743...\n",
      "adding 9744...\n",
      "adding 9745...\n",
      "adding 9746...\n",
      "adding 9747...\n",
      "adding 9748...\n",
      "adding 9749...\n",
      "adding 9750...\n",
      "adding 9751...\n",
      "adding 9752...\n",
      "adding 9753...\n",
      "adding 9754...\n",
      "adding 9755...\n",
      "adding 9756...\n",
      "adding 9757...\n",
      "adding 9758...\n",
      "adding 9759...\n",
      "adding 9760...\n",
      "adding 9761...\n",
      "adding 9762...\n",
      "adding 9763...\n",
      "adding 9764...\n",
      "adding 9765...\n",
      "adding 9766...\n",
      "adding 9767...\n",
      "adding 9768...\n",
      "adding 9769...\n",
      "adding 9770...\n",
      "adding 9771...\n",
      "adding 9772...\n",
      "adding 9773...\n",
      "adding 9774...\n",
      "adding 9775...\n",
      "adding 9776...\n",
      "adding 9777...\n",
      "adding 9778...\n",
      "adding 9779...\n",
      "adding 9780...\n",
      "adding 9781...\n",
      "adding 9782...\n",
      "adding 9783...\n",
      "adding 9784...\n",
      "adding 9785...\n",
      "adding 9786...\n",
      "adding 9787...\n",
      "adding 9788...\n",
      "adding 9789...\n",
      "adding 9790...\n",
      "adding 9791...\n",
      "adding 9792...\n",
      "adding 9793...\n",
      "adding 9794...\n",
      "adding 9795...\n",
      "adding 9796...\n",
      "adding 9797...\n",
      "adding 9798...\n",
      "adding 9799...\n",
      "adding 9800...\n",
      "adding 9801...\n",
      "adding 9802...\n",
      "adding 9803...\n",
      "adding 9804...\n",
      "adding 9805...\n",
      "adding 9806...\n",
      "adding 9807...\n",
      "adding 9808...\n",
      "adding 9809...\n",
      "adding 9810...\n",
      "adding 9811...\n",
      "adding 9812...\n",
      "adding 9813...\n",
      "adding 9814...\n",
      "adding 9815...\n",
      "adding 9816...\n",
      "adding 9817...\n",
      "adding 9818...\n",
      "adding 9819...\n",
      "adding 9820...\n",
      "adding 9821...\n",
      "adding 9822...\n",
      "adding 9823...\n",
      "adding 9824...\n",
      "adding 9825...\n",
      "adding 9826...\n",
      "adding 9827...\n",
      "adding 9828...\n",
      "adding 9829...\n",
      "adding 9830...\n",
      "adding 9831...\n",
      "adding 9832...\n",
      "adding 9833...\n",
      "adding 9834...\n",
      "adding 9835...\n",
      "adding 9836...\n",
      "adding 9837...\n",
      "adding 9838...\n",
      "adding 9839...\n",
      "adding 9840...\n",
      "adding 9841...\n",
      "adding 9842...\n",
      "adding 9843...\n",
      "adding 9844...\n",
      "adding 9845...\n",
      "adding 9846...\n",
      "adding 9847...\n",
      "adding 9848...\n",
      "adding 9849...\n",
      "adding 9850...\n",
      "adding 9851...\n",
      "adding 9852...\n",
      "adding 9853...\n",
      "adding 9854...\n",
      "adding 9855...\n",
      "adding 9856...\n",
      "adding 9857...\n",
      "adding 9858...\n",
      "adding 9859...\n",
      "adding 9860...\n",
      "adding 9861...\n",
      "adding 9862...\n",
      "adding 9863...\n",
      "adding 9864...\n",
      "adding 9865...\n",
      "adding 9866...\n",
      "adding 9867...\n",
      "adding 9868...\n",
      "adding 9869...\n",
      "adding 9870...\n",
      "adding 9871...\n",
      "adding 9872...\n",
      "adding 9873...\n",
      "adding 9874...\n",
      "adding 9875...\n",
      "adding 9876...\n",
      "adding 9877...\n",
      "adding 9878...\n",
      "adding 9879...\n",
      "adding 9880...\n",
      "adding 9881...\n",
      "adding 9882...\n",
      "adding 9883...\n",
      "adding 9884...\n",
      "adding 9885...\n",
      "adding 9886...\n",
      "adding 9887...\n",
      "adding 9888...\n",
      "adding 9889...\n",
      "adding 9890...\n",
      "adding 9891...\n",
      "adding 9892...\n",
      "adding 9893...\n",
      "adding 9894...\n",
      "adding 9895...\n",
      "adding 9896...\n",
      "adding 9897...\n",
      "adding 9898...\n",
      "adding 9899...\n",
      "adding 9900...\n",
      "adding 9901...\n",
      "adding 9902...\n",
      "adding 9903...\n",
      "adding 9904...\n",
      "adding 9905...\n",
      "adding 9906...\n",
      "adding 9907...\n",
      "adding 9908...\n",
      "adding 9909...\n",
      "adding 9910...\n",
      "adding 9911...\n",
      "adding 9912...\n",
      "adding 9913...\n",
      "adding 9914...\n",
      "adding 9915...\n",
      "adding 9916...\n",
      "adding 9917...\n",
      "adding 9918...\n",
      "adding 9919...\n",
      "adding 9920...\n",
      "adding 9921...\n",
      "adding 9922...\n",
      "adding 9923...\n",
      "adding 9924...\n",
      "adding 9925...\n",
      "adding 9926...\n",
      "adding 9927...\n",
      "adding 9928...\n",
      "adding 9929...\n",
      "adding 9930...\n",
      "adding 9931...\n",
      "adding 9932...\n",
      "adding 9933...\n",
      "adding 9934...\n",
      "adding 9935...\n",
      "adding 9936...\n",
      "adding 9937...\n",
      "adding 9938...\n",
      "adding 9939...\n",
      "adding 9940...\n",
      "adding 9941...\n",
      "adding 9942...\n",
      "adding 9943...\n",
      "adding 9944...\n",
      "adding 9945...\n",
      "adding 9946...\n",
      "adding 9947...\n",
      "adding 9948...\n",
      "adding 9949...\n",
      "adding 9950...\n",
      "adding 9951...\n",
      "adding 9952...\n",
      "adding 9953...\n",
      "adding 9954...\n",
      "adding 9955...\n",
      "adding 9956...\n",
      "adding 9957...\n",
      "adding 9958...\n",
      "adding 9959...\n",
      "adding 9960...\n",
      "adding 9961...\n",
      "adding 9962...\n",
      "adding 9963...\n",
      "adding 9964...\n",
      "adding 9965...\n",
      "adding 9966...\n",
      "adding 9967...\n",
      "adding 9968...\n",
      "adding 9969...\n",
      "adding 9970...\n",
      "adding 9971...\n",
      "adding 9972...\n",
      "adding 9973...\n",
      "adding 9974...\n",
      "adding 9975...\n",
      "adding 9976...\n",
      "adding 9977...\n",
      "adding 9978...\n",
      "adding 9979...\n",
      "adding 9980...\n",
      "adding 9981...\n",
      "adding 9982...\n",
      "adding 9983...\n",
      "adding 9984...\n",
      "adding 9985...\n",
      "adding 9986...\n",
      "adding 9987...\n",
      "adding 9988...\n",
      "adding 9989...\n",
      "adding 9990...\n",
      "adding 9991...\n",
      "adding 9992...\n",
      "adding 9993...\n",
      "adding 9994...\n",
      "adding 9995...\n",
      "adding 9996...\n",
      "adding 9997...\n",
      "adding 9998...\n",
      "adding 9999...\n",
      "adding 10000...\n",
      "adding 10001...\n",
      "adding 10002...\n",
      "adding 10003...\n",
      "adding 10004...\n",
      "adding 10005...\n",
      "adding 10006...\n",
      "adding 10007...\n",
      "adding 10008...\n",
      "adding 10009...\n",
      "adding 10010...\n",
      "adding 10011...\n",
      "adding 10012...\n",
      "adding 10013...\n",
      "adding 10014...\n",
      "adding 10015...\n",
      "adding 10016...\n",
      "adding 10017...\n",
      "adding 10018...\n",
      "adding 10019...\n",
      "adding 10020...\n",
      "adding 10021...\n",
      "adding 10022...\n",
      "adding 10023...\n",
      "adding 10024...\n",
      "adding 10025...\n",
      "adding 10026...\n",
      "adding 10027...\n",
      "adding 10028...\n",
      "adding 10029...\n",
      "adding 10030...\n",
      "adding 10031...\n",
      "adding 10032...\n",
      "adding 10033...\n",
      "adding 10034...\n",
      "adding 10035...\n",
      "adding 10036...\n",
      "adding 10037...\n",
      "adding 10038...\n",
      "adding 10039...\n",
      "adding 10040...\n",
      "adding 10041...\n",
      "adding 10042...\n",
      "adding 10043...\n",
      "adding 10044...\n",
      "adding 10045...\n",
      "adding 10046...\n",
      "adding 10047...\n",
      "adding 10048...\n",
      "adding 10049...\n",
      "adding 10050...\n",
      "adding 10051...\n",
      "adding 10052...\n",
      "adding 10053...\n",
      "adding 10054...\n",
      "adding 10055...\n",
      "adding 10056...\n",
      "adding 10057...\n",
      "adding 10058...\n",
      "adding 10059...\n",
      "adding 10060...\n",
      "adding 10061...\n",
      "adding 10062...\n",
      "adding 10063...\n",
      "adding 10064...\n",
      "adding 10065...\n",
      "adding 10066...\n",
      "adding 10067...\n",
      "adding 10068...\n",
      "adding 10069...\n",
      "adding 10070...\n",
      "adding 10071...\n",
      "adding 10072...\n",
      "adding 10073...\n",
      "adding 10074...\n",
      "adding 10075...\n",
      "adding 10076...\n",
      "adding 10077...\n",
      "adding 10078...\n",
      "adding 10079...\n",
      "adding 10080...\n",
      "adding 10081...\n",
      "adding 10082...\n",
      "adding 10083...\n",
      "adding 10084...\n",
      "adding 10085...\n",
      "adding 10086...\n",
      "adding 10087...\n",
      "adding 10088...\n",
      "adding 10089...\n",
      "adding 10090...\n",
      "adding 10091...\n",
      "adding 10092...\n",
      "adding 10093...\n",
      "adding 10094...\n",
      "adding 10095...\n",
      "adding 10096...\n",
      "adding 10097...\n",
      "adding 10098...\n",
      "adding 10099...\n",
      "adding 10100...\n",
      "adding 10101...\n",
      "adding 10102...\n",
      "adding 10103...\n",
      "adding 10104...\n",
      "adding 10105...\n",
      "adding 10106...\n",
      "adding 10107...\n",
      "adding 10108...\n",
      "adding 10109...\n",
      "adding 10110...\n",
      "adding 10111...\n",
      "adding 10112...\n",
      "adding 10113...\n",
      "adding 10114...\n",
      "adding 10115...\n",
      "adding 10116...\n",
      "adding 10117...\n",
      "adding 10118...\n",
      "adding 10119...\n",
      "adding 10120...\n",
      "adding 10121...\n",
      "adding 10122...\n",
      "adding 10123...\n",
      "adding 10124...\n",
      "adding 10125...\n",
      "adding 10126...\n",
      "adding 10127...\n",
      "adding 10128...\n",
      "adding 10129...\n",
      "adding 10130...\n",
      "adding 10131...\n",
      "adding 10132...\n",
      "adding 10133...\n",
      "adding 10134...\n",
      "adding 10135...\n",
      "adding 10136...\n",
      "adding 10137...\n",
      "adding 10138...\n",
      "adding 10139...\n",
      "adding 10140...\n"
     ]
    },
    {
     "name": "stdout",
     "output_type": "stream",
     "text": [
      "adding 10141...\n",
      "adding 10142...\n",
      "adding 10143...\n",
      "adding 10144...\n",
      "adding 10145...\n",
      "adding 10146...\n",
      "adding 10147...\n",
      "adding 10148...\n",
      "adding 10149...\n",
      "adding 10150...\n",
      "adding 10151...\n",
      "adding 10152...\n",
      "adding 10153...\n",
      "adding 10154...\n",
      "adding 10155...\n",
      "adding 10156...\n",
      "adding 10157...\n",
      "adding 10158...\n",
      "adding 10159...\n",
      "adding 10160...\n",
      "adding 10161...\n",
      "adding 10162...\n",
      "adding 10163...\n",
      "adding 10164...\n",
      "adding 10165...\n",
      "adding 10166...\n",
      "adding 10167...\n",
      "adding 10168...\n",
      "adding 10169...\n",
      "adding 10170...\n",
      "adding 10171...\n",
      "adding 10172...\n",
      "adding 10173...\n",
      "adding 10174...\n",
      "adding 10175...\n",
      "adding 10176...\n",
      "adding 10177...\n",
      "adding 10178...\n",
      "adding 10179...\n",
      "adding 10180...\n",
      "adding 10181...\n",
      "adding 10182...\n",
      "adding 10183...\n",
      "adding 10184...\n",
      "adding 10185...\n",
      "adding 10186...\n",
      "adding 10187...\n",
      "adding 10188...\n",
      "adding 10189...\n",
      "adding 10190...\n",
      "adding 10191...\n",
      "adding 10192...\n",
      "adding 10193...\n",
      "adding 10194...\n",
      "adding 10195...\n",
      "adding 10196...\n",
      "adding 10197...\n",
      "adding 10198...\n",
      "adding 10199...\n",
      "adding 10200...\n",
      "adding 10201...\n",
      "adding 10202...\n",
      "adding 10203...\n",
      "adding 10204...\n",
      "adding 10205...\n",
      "adding 10206...\n",
      "adding 10207...\n",
      "adding 10208...\n",
      "adding 10209...\n",
      "adding 10210...\n",
      "adding 10211...\n",
      "adding 10212...\n",
      "adding 10213...\n",
      "adding 10214...\n",
      "adding 10215...\n",
      "adding 10216...\n",
      "adding 10217...\n",
      "adding 10218...\n",
      "adding 10219...\n",
      "adding 10220...\n",
      "adding 10221...\n",
      "adding 10222...\n",
      "adding 10223...\n",
      "adding 10224...\n",
      "adding 10225...\n",
      "adding 10226...\n",
      "adding 10227...\n",
      "adding 10228...\n",
      "adding 10229...\n",
      "adding 10230...\n",
      "adding 10231...\n",
      "adding 10232...\n",
      "adding 10233...\n",
      "adding 10234...\n",
      "adding 10235...\n",
      "adding 10236...\n",
      "adding 10237...\n",
      "adding 10238...\n",
      "adding 10239...\n",
      "adding 10240...\n",
      "adding 10241...\n",
      "adding 10242...\n",
      "adding 10243...\n",
      "adding 10244...\n",
      "adding 10245...\n",
      "adding 10246...\n",
      "adding 10247...\n",
      "adding 10248...\n",
      "adding 10249...\n",
      "adding 10250...\n",
      "adding 10251...\n",
      "adding 10252...\n",
      "adding 10253...\n",
      "adding 10254...\n",
      "adding 10255...\n",
      "adding 10256...\n",
      "adding 10257...\n",
      "adding 10258...\n",
      "adding 10259...\n",
      "adding 10260...\n",
      "adding 10261...\n",
      "adding 10262...\n",
      "adding 10263...\n",
      "adding 10264...\n",
      "adding 10265...\n",
      "adding 10266...\n",
      "adding 10267...\n",
      "adding 10268...\n",
      "adding 10269...\n",
      "adding 10270...\n",
      "adding 10271...\n",
      "adding 10272...\n",
      "adding 10273...\n",
      "adding 10274...\n",
      "adding 10275...\n",
      "adding 10276...\n",
      "adding 10277...\n",
      "adding 10278...\n",
      "adding 10279...\n",
      "adding 10280...\n",
      "adding 10281...\n",
      "adding 10282...\n",
      "adding 10283...\n",
      "adding 10284...\n",
      "adding 10285...\n",
      "adding 10286...\n",
      "adding 10287...\n",
      "adding 10288...\n",
      "adding 10289...\n",
      "adding 10290...\n",
      "adding 10291...\n",
      "adding 10292...\n",
      "adding 10293...\n",
      "adding 10294...\n",
      "adding 10295...\n",
      "adding 10296...\n",
      "adding 10297...\n",
      "adding 10298...\n",
      "adding 10299...\n",
      "adding 10300...\n",
      "adding 10301...\n",
      "adding 10302...\n",
      "adding 10303...\n",
      "adding 10304...\n",
      "adding 10305...\n",
      "adding 10306...\n",
      "adding 10307...\n",
      "adding 10308...\n",
      "adding 10309...\n",
      "adding 10310...\n",
      "adding 10311...\n",
      "adding 10312...\n",
      "adding 10313...\n",
      "adding 10314...\n",
      "adding 10315...\n",
      "adding 10316...\n",
      "adding 10317...\n",
      "adding 10318...\n",
      "adding 10319...\n",
      "adding 10320...\n",
      "adding 10321...\n",
      "adding 10322...\n",
      "adding 10323...\n",
      "adding 10324...\n",
      "adding 10325...\n",
      "adding 10326...\n",
      "adding 10327...\n",
      "adding 10328...\n",
      "adding 10329...\n",
      "adding 10330...\n",
      "adding 10331...\n",
      "adding 10332...\n",
      "adding 10333...\n",
      "adding 10334...\n",
      "adding 10335...\n",
      "adding 10336...\n",
      "adding 10337...\n",
      "adding 10338...\n",
      "adding 10339...\n",
      "adding 10340...\n",
      "adding 10341...\n",
      "adding 10342...\n",
      "adding 10343...\n",
      "adding 10344...\n",
      "adding 10345...\n",
      "adding 10346...\n",
      "adding 10347...\n",
      "adding 10348...\n",
      "adding 10349...\n",
      "adding 10350...\n",
      "adding 10351...\n",
      "adding 10352...\n",
      "adding 10353...\n",
      "adding 10354...\n",
      "adding 10355...\n",
      "adding 10356...\n",
      "adding 10357...\n",
      "adding 10358...\n",
      "adding 10359...\n",
      "adding 10360...\n",
      "adding 10361...\n",
      "adding 10362...\n",
      "adding 10363...\n",
      "adding 10364...\n",
      "adding 10365...\n",
      "adding 10366...\n",
      "adding 10367...\n",
      "adding 10368...\n",
      "adding 10369...\n",
      "adding 10370...\n",
      "adding 10371...\n",
      "adding 10372...\n",
      "adding 10373...\n",
      "adding 10374...\n",
      "adding 10375...\n",
      "adding 10376...\n",
      "adding 10377...\n",
      "adding 10378...\n",
      "adding 10379...\n",
      "adding 10380...\n",
      "adding 10381...\n",
      "adding 10382...\n",
      "adding 10383...\n",
      "adding 10384...\n",
      "adding 10385...\n",
      "adding 10386...\n",
      "adding 10387...\n",
      "adding 10388...\n",
      "adding 10389...\n",
      "adding 10390...\n",
      "adding 10391...\n",
      "adding 10392...\n",
      "adding 10393...\n",
      "adding 10394...\n",
      "adding 10395...\n",
      "adding 10396...\n",
      "adding 10397...\n",
      "adding 10398...\n",
      "adding 10399...\n",
      "adding 10400...\n",
      "adding 10401...\n",
      "adding 10402...\n",
      "adding 10403...\n",
      "adding 10404...\n",
      "adding 10405...\n",
      "adding 10406...\n",
      "adding 10407...\n",
      "adding 10408...\n",
      "adding 10409...\n",
      "adding 10410...\n",
      "adding 10411...\n",
      "adding 10412...\n",
      "adding 10413...\n",
      "adding 10414...\n",
      "adding 10415...\n",
      "adding 10416...\n",
      "adding 10417...\n",
      "adding 10418...\n",
      "adding 10419...\n",
      "adding 10420...\n",
      "adding 10421...\n",
      "adding 10422...\n",
      "adding 10423...\n",
      "adding 10424...\n",
      "adding 10425...\n",
      "adding 10426...\n",
      "adding 10427...\n",
      "adding 10428...\n",
      "adding 10429...\n",
      "adding 10430...\n",
      "adding 10431...\n",
      "adding 10432...\n",
      "adding 10433...\n",
      "adding 10434...\n",
      "adding 10435...\n",
      "adding 10436...\n",
      "adding 10437...\n",
      "adding 10438...\n",
      "adding 10439...\n",
      "adding 10440...\n",
      "adding 10441...\n",
      "adding 10442...\n",
      "adding 10443...\n",
      "adding 10444...\n",
      "adding 10445...\n",
      "adding 10446...\n",
      "adding 10447...\n",
      "adding 10448...\n",
      "adding 10449...\n",
      "adding 10450...\n",
      "adding 10451...\n",
      "adding 10452...\n",
      "adding 10453...\n",
      "adding 10454...\n",
      "adding 10455...\n",
      "adding 10456...\n",
      "adding 10457...\n",
      "adding 10458...\n",
      "adding 10459...\n",
      "adding 10460...\n",
      "adding 10461...\n",
      "adding 10462...\n",
      "adding 10463...\n",
      "adding 10464...\n",
      "adding 10465...\n",
      "adding 10466...\n",
      "adding 10467...\n",
      "adding 10468...\n",
      "adding 10469...\n",
      "adding 10470...\n",
      "adding 10471...\n",
      "adding 10472...\n",
      "adding 10473...\n",
      "adding 10474...\n",
      "adding 10475...\n",
      "adding 10476...\n",
      "adding 10477...\n",
      "adding 10478...\n",
      "adding 10479...\n",
      "adding 10480...\n",
      "adding 10481...\n",
      "adding 10482...\n",
      "adding 10483...\n",
      "adding 10484...\n",
      "adding 10485...\n",
      "adding 10486...\n",
      "adding 10487...\n",
      "adding 10488...\n",
      "adding 10489...\n",
      "adding 10490...\n",
      "adding 10491...\n",
      "adding 10492...\n",
      "adding 10493...\n",
      "adding 10494...\n",
      "adding 10495...\n",
      "adding 10496...\n",
      "adding 10497...\n",
      "adding 10498...\n",
      "adding 10499...\n",
      "adding 10500...\n",
      "adding 10501...\n",
      "adding 10502...\n",
      "adding 10503...\n",
      "adding 10504...\n",
      "adding 10505...\n",
      "adding 10506...\n",
      "adding 10507...\n",
      "adding 10508...\n",
      "adding 10509...\n",
      "adding 10510...\n",
      "adding 10511...\n",
      "adding 10512...\n",
      "adding 10513...\n",
      "adding 10514...\n",
      "adding 10515...\n",
      "adding 10516...\n",
      "adding 10517...\n",
      "adding 10518...\n",
      "adding 10519...\n",
      "adding 10520...\n",
      "adding 10521...\n",
      "adding 10522...\n",
      "adding 10523...\n",
      "adding 10524...\n",
      "adding 10525...\n",
      "adding 10526...\n",
      "adding 10527...\n",
      "adding 10528...\n",
      "adding 10529...\n",
      "adding 10530...\n",
      "adding 10531...\n",
      "adding 10532...\n",
      "adding 10533...\n",
      "adding 10534...\n",
      "adding 10535...\n",
      "adding 10536...\n",
      "adding 10537...\n",
      "adding 10538...\n",
      "adding 10539...\n",
      "adding 10540...\n",
      "adding 10541...\n",
      "adding 10542...\n",
      "adding 10543...\n",
      "adding 10544...\n",
      "adding 10545...\n",
      "adding 10546...\n",
      "adding 10547...\n",
      "adding 10548...\n",
      "adding 10549...\n",
      "adding 10550...\n",
      "adding 10551...\n",
      "adding 10552...\n",
      "adding 10553...\n",
      "adding 10554...\n",
      "adding 10555...\n",
      "adding 10556...\n",
      "adding 10557...\n",
      "adding 10558...\n",
      "adding 10559...\n",
      "adding 10560...\n",
      "adding 10561...\n",
      "adding 10562...\n",
      "adding 10563...\n",
      "adding 10564...\n",
      "adding 10565...\n",
      "adding 10566...\n",
      "adding 10567...\n",
      "adding 10568...\n",
      "adding 10569...\n",
      "adding 10570...\n",
      "adding 10571...\n",
      "adding 10572...\n",
      "adding 10573...\n",
      "adding 10574...\n",
      "adding 10575...\n",
      "adding 10576...\n",
      "adding 10577...\n",
      "adding 10578...\n",
      "adding 10579...\n",
      "adding 10580...\n",
      "adding 10581...\n",
      "adding 10582...\n",
      "adding 10583...\n",
      "adding 10584...\n",
      "adding 10585...\n",
      "adding 10586...\n",
      "adding 10587...\n",
      "adding 10588...\n",
      "adding 10589...\n",
      "adding 10590...\n",
      "adding 10591...\n",
      "adding 10592...\n",
      "adding 10593...\n",
      "adding 10594...\n",
      "adding 10595...\n",
      "adding 10596...\n",
      "adding 10597...\n",
      "adding 10598...\n",
      "adding 10599...\n",
      "adding 10600...\n",
      "adding 10601...\n",
      "adding 10602...\n",
      "adding 10603...\n",
      "adding 10604...\n",
      "adding 10605...\n",
      "adding 10606...\n",
      "adding 10607...\n",
      "adding 10608...\n",
      "adding 10609...\n",
      "adding 10610...\n",
      "adding 10611...\n",
      "adding 10612...\n",
      "adding 10613...\n",
      "adding 10614...\n",
      "adding 10615...\n",
      "adding 10616...\n",
      "adding 10617...\n",
      "adding 10618...\n",
      "adding 10619...\n",
      "adding 10620...\n",
      "adding 10621...\n",
      "adding 10622...\n",
      "adding 10623...\n",
      "adding 10624...\n",
      "adding 10625...\n",
      "adding 10626...\n",
      "adding 10627...\n",
      "adding 10628...\n",
      "adding 10629...\n",
      "adding 10630...\n",
      "adding 10631...\n",
      "adding 10632...\n",
      "adding 10633...\n",
      "adding 10634...\n",
      "adding 10635...\n",
      "adding 10636...\n",
      "adding 10637...\n",
      "adding 10638...\n",
      "adding 10639...\n",
      "adding 10640...\n",
      "adding 10641...\n",
      "adding 10642...\n",
      "adding 10643...\n",
      "adding 10644...\n",
      "adding 10645...\n",
      "adding 10646...\n",
      "adding 10647...\n",
      "adding 10648...\n",
      "adding 10649...\n",
      "adding 10650...\n",
      "adding 10651...\n",
      "adding 10652...\n",
      "adding 10653...\n",
      "adding 10654...\n",
      "adding 10655...\n",
      "adding 10656...\n",
      "adding 10657...\n",
      "adding 10658...\n",
      "adding 10659...\n",
      "adding 10660...\n",
      "adding 10661...\n",
      "adding 10662...\n",
      "adding 10663...\n",
      "adding 10664...\n",
      "adding 10665...\n",
      "adding 10666...\n",
      "adding 10667...\n",
      "adding 10668...\n",
      "adding 10669...\n",
      "adding 10670...\n",
      "adding 10671...\n",
      "adding 10672...\n",
      "adding 10673...\n",
      "adding 10674...\n"
     ]
    },
    {
     "name": "stdout",
     "output_type": "stream",
     "text": [
      "adding 10675...\n",
      "adding 10676...\n",
      "adding 10677...\n",
      "adding 10678...\n",
      "adding 10679...\n",
      "adding 10680...\n",
      "adding 10681...\n",
      "adding 10682...\n",
      "adding 10683...\n",
      "adding 10684...\n",
      "adding 10685...\n",
      "adding 10686...\n",
      "adding 10687...\n",
      "adding 10688...\n",
      "adding 10689...\n",
      "adding 10690...\n",
      "adding 10691...\n",
      "adding 10692...\n",
      "adding 10693...\n",
      "adding 10694...\n",
      "adding 10695...\n",
      "adding 10696...\n",
      "adding 10697...\n",
      "adding 10698...\n",
      "adding 10699...\n",
      "adding 10700...\n",
      "adding 10701...\n",
      "adding 10702...\n",
      "adding 10703...\n",
      "adding 10704...\n",
      "adding 10705...\n",
      "adding 10706...\n",
      "adding 10707...\n",
      "adding 10708...\n",
      "adding 10709...\n",
      "adding 10710...\n",
      "adding 10711...\n",
      "adding 10712...\n",
      "adding 10713...\n",
      "adding 10714...\n",
      "adding 10715...\n",
      "adding 10716...\n",
      "adding 10717...\n",
      "adding 10718...\n",
      "adding 10719...\n",
      "adding 10720...\n",
      "adding 10721...\n",
      "adding 10722...\n",
      "adding 10723...\n",
      "adding 10724...\n",
      "adding 10725...\n",
      "adding 10726...\n",
      "adding 10727...\n",
      "adding 10728...\n",
      "adding 10729...\n",
      "adding 10730...\n",
      "adding 10731...\n",
      "adding 10732...\n",
      "adding 10733...\n",
      "adding 10734...\n",
      "adding 10735...\n",
      "adding 10736...\n",
      "adding 10737...\n",
      "adding 10738...\n",
      "adding 10739...\n",
      "adding 10740...\n",
      "adding 10741...\n",
      "adding 10742...\n",
      "adding 10743...\n",
      "adding 10744...\n",
      "adding 10745...\n",
      "adding 10746...\n",
      "adding 10747...\n",
      "adding 10748...\n",
      "adding 10749...\n",
      "adding 10750...\n",
      "adding 10751...\n",
      "adding 10752...\n",
      "adding 10753...\n",
      "adding 10754...\n",
      "adding 10755...\n",
      "adding 10756...\n",
      "adding 10757...\n",
      "adding 10758...\n",
      "adding 10759...\n",
      "adding 10760...\n",
      "adding 10761...\n",
      "adding 10762...\n",
      "adding 10763...\n",
      "adding 10764...\n",
      "adding 10765...\n",
      "adding 10766...\n",
      "adding 10767...\n",
      "adding 10768...\n",
      "adding 10769...\n",
      "adding 10770...\n",
      "adding 10771...\n",
      "adding 10772...\n",
      "adding 10773...\n",
      "adding 10774...\n",
      "adding 10775...\n",
      "adding 10776...\n",
      "adding 10777...\n",
      "adding 10778...\n",
      "adding 10779...\n",
      "adding 10780...\n",
      "adding 10781...\n",
      "adding 10782...\n",
      "adding 10783...\n",
      "adding 10784...\n",
      "adding 10785...\n",
      "adding 10786...\n",
      "adding 10787...\n",
      "adding 10788...\n",
      "adding 10789...\n",
      "adding 10790...\n",
      "adding 10791...\n",
      "adding 10792...\n",
      "adding 10793...\n",
      "adding 10794...\n",
      "adding 10795...\n",
      "adding 10796...\n",
      "adding 10797...\n",
      "adding 10798...\n",
      "adding 10799...\n",
      "adding 10800...\n",
      "adding 10801...\n",
      "adding 10802...\n",
      "adding 10803...\n",
      "adding 10804...\n",
      "adding 10805...\n",
      "adding 10806...\n",
      "adding 10807...\n",
      "adding 10808...\n",
      "adding 10809...\n",
      "adding 10810...\n",
      "adding 10811...\n",
      "adding 10812...\n",
      "adding 10813...\n",
      "adding 10814...\n",
      "adding 10815...\n",
      "adding 10816...\n",
      "adding 10817...\n",
      "adding 10818...\n",
      "adding 10819...\n",
      "adding 10820...\n",
      "adding 10821...\n",
      "adding 10822...\n",
      "adding 10823...\n",
      "adding 10824...\n",
      "adding 10825...\n",
      "adding 10826...\n",
      "adding 10827...\n",
      "adding 10828...\n",
      "adding 10829...\n",
      "adding 10830...\n",
      "adding 10831...\n",
      "adding 10832...\n",
      "adding 10833...\n",
      "adding 10834...\n",
      "adding 10835...\n",
      "adding 10836...\n",
      "adding 10837...\n",
      "adding 10838...\n",
      "adding 10839...\n",
      "adding 10840...\n",
      "adding 10841...\n",
      "adding 10842...\n",
      "adding 10843...\n",
      "adding 10844...\n",
      "adding 10845...\n",
      "adding 10846...\n",
      "adding 10847...\n",
      "adding 10848...\n",
      "adding 10849...\n",
      "adding 10850...\n",
      "adding 10851...\n",
      "adding 10852...\n",
      "adding 10853...\n",
      "adding 10854...\n",
      "adding 10855...\n",
      "adding 10856...\n",
      "adding 10857...\n",
      "adding 10858...\n",
      "adding 10859...\n",
      "adding 10860...\n",
      "adding 10861...\n",
      "adding 10862...\n",
      "adding 10863...\n",
      "adding 10864...\n",
      "adding 10865...\n",
      "adding 10866...\n",
      "adding 10867...\n",
      "adding 10868...\n",
      "adding 10869...\n",
      "adding 10870...\n",
      "adding 10871...\n",
      "adding 10872...\n",
      "adding 10873...\n",
      "adding 10874...\n",
      "adding 10875...\n",
      "adding 10876...\n",
      "adding 10877...\n",
      "adding 10878...\n",
      "adding 10879...\n",
      "adding 10880...\n",
      "adding 10881...\n",
      "adding 10882...\n",
      "adding 10883...\n",
      "adding 10884...\n",
      "adding 10885...\n",
      "adding 10886...\n",
      "adding 10887...\n",
      "adding 10888...\n",
      "adding 10889...\n",
      "adding 10890...\n",
      "adding 10891...\n",
      "adding 10892...\n",
      "adding 10893...\n",
      "adding 10894...\n",
      "adding 10895...\n",
      "adding 10896...\n",
      "adding 10897...\n",
      "adding 10898...\n",
      "adding 10899...\n",
      "adding 10900...\n",
      "adding 10901...\n",
      "adding 10902...\n",
      "adding 10903...\n",
      "adding 10904...\n",
      "adding 10905...\n",
      "adding 10906...\n",
      "adding 10907...\n",
      "adding 10908...\n",
      "adding 10909...\n",
      "adding 10910...\n",
      "adding 10911...\n",
      "adding 10912...\n",
      "adding 10913...\n",
      "adding 10914...\n",
      "adding 10915...\n",
      "adding 10916...\n",
      "adding 10917...\n",
      "adding 10918...\n",
      "adding 10919...\n",
      "adding 10920...\n",
      "adding 10921...\n",
      "adding 10922...\n",
      "adding 10923...\n",
      "adding 10924...\n",
      "adding 10925...\n",
      "adding 10926...\n",
      "adding 10927...\n",
      "adding 10928...\n",
      "adding 10929...\n",
      "adding 10930...\n",
      "adding 10931...\n",
      "adding 10932...\n",
      "adding 10933...\n",
      "adding 10934...\n",
      "adding 10935...\n",
      "adding 10936...\n",
      "adding 10937...\n",
      "adding 10938...\n",
      "adding 10939...\n",
      "adding 10940...\n",
      "adding 10941...\n",
      "adding 10942...\n",
      "adding 10943...\n",
      "adding 10944...\n",
      "adding 10945...\n",
      "adding 10946...\n",
      "adding 10947...\n",
      "adding 10948...\n",
      "adding 10949...\n",
      "adding 10950...\n",
      "adding 10951...\n",
      "adding 10952...\n",
      "adding 10953...\n",
      "adding 10954...\n",
      "adding 10955...\n",
      "adding 10956...\n",
      "adding 10957...\n",
      "adding 10958...\n",
      "adding 10959...\n",
      "adding 10960...\n",
      "adding 10961...\n",
      "adding 10962...\n",
      "adding 10963...\n",
      "adding 10964...\n",
      "adding 10965...\n",
      "adding 10966...\n",
      "adding 10967...\n",
      "adding 10968...\n",
      "adding 10969...\n",
      "adding 10970...\n",
      "adding 10971...\n",
      "adding 10972...\n",
      "adding 10973...\n",
      "adding 10974...\n",
      "adding 10975...\n",
      "adding 10976...\n",
      "adding 10977...\n",
      "adding 10978...\n",
      "adding 10979...\n",
      "adding 10980...\n",
      "adding 10981...\n",
      "adding 10982...\n",
      "adding 10983...\n",
      "adding 10984...\n",
      "adding 10985...\n",
      "adding 10986...\n",
      "adding 10987...\n",
      "adding 10988...\n",
      "adding 10989...\n",
      "adding 10990...\n",
      "adding 10991...\n",
      "adding 10992...\n",
      "adding 10993...\n",
      "adding 10994...\n",
      "adding 10995...\n",
      "adding 10996...\n",
      "adding 10997...\n",
      "adding 10998...\n",
      "adding 10999...\n",
      "adding 11000...\n",
      "adding 11001...\n",
      "adding 11002...\n",
      "adding 11003...\n",
      "adding 11004...\n",
      "adding 11005...\n",
      "adding 11006...\n",
      "adding 11007...\n",
      "adding 11008...\n",
      "adding 11009...\n",
      "adding 11010...\n",
      "adding 11011...\n",
      "adding 11012...\n",
      "adding 11013...\n",
      "adding 11014...\n",
      "adding 11015...\n",
      "adding 11016...\n",
      "adding 11017...\n",
      "adding 11018...\n",
      "adding 11019...\n",
      "adding 11020...\n",
      "adding 11021...\n",
      "adding 11022...\n",
      "adding 11023...\n",
      "adding 11024...\n",
      "adding 11025...\n",
      "adding 11026...\n",
      "adding 11027...\n",
      "adding 11028...\n",
      "adding 11029...\n",
      "adding 11030...\n",
      "adding 11031...\n",
      "adding 11032...\n",
      "adding 11033...\n",
      "adding 11034...\n",
      "adding 11035...\n",
      "adding 11036...\n",
      "adding 11037...\n",
      "adding 11038...\n",
      "adding 11039...\n",
      "adding 11040...\n",
      "adding 11041...\n",
      "adding 11042...\n",
      "adding 11043...\n",
      "adding 11044...\n",
      "adding 11045...\n",
      "adding 11046...\n",
      "adding 11047...\n",
      "adding 11048...\n",
      "adding 11049...\n",
      "adding 11050...\n",
      "adding 11051...\n",
      "adding 11052...\n",
      "adding 11053...\n",
      "adding 11054...\n",
      "adding 11055...\n",
      "adding 11056...\n",
      "adding 11057...\n",
      "adding 11058...\n",
      "adding 11059...\n",
      "adding 11060...\n",
      "adding 11061...\n",
      "adding 11062...\n",
      "adding 11063...\n",
      "adding 11064...\n",
      "adding 11065...\n",
      "adding 11066...\n",
      "adding 11067...\n",
      "adding 11068...\n",
      "adding 11069...\n",
      "adding 11070...\n",
      "adding 11071...\n",
      "adding 11072...\n",
      "adding 11073...\n",
      "adding 11074...\n",
      "adding 11075...\n",
      "adding 11076...\n",
      "adding 11077...\n",
      "adding 11078...\n",
      "adding 11079...\n",
      "adding 11080...\n",
      "adding 11081...\n",
      "adding 11082...\n",
      "adding 11083...\n",
      "adding 11084...\n",
      "adding 11085...\n",
      "adding 11086...\n",
      "adding 11087...\n",
      "adding 11088...\n",
      "adding 11089...\n",
      "adding 11090...\n",
      "adding 11091...\n",
      "adding 11092...\n",
      "adding 11093...\n",
      "adding 11094...\n",
      "adding 11095...\n",
      "adding 11096...\n",
      "adding 11097...\n",
      "adding 11098...\n",
      "adding 11099...\n",
      "adding 11100...\n",
      "adding 11101...\n",
      "adding 11102...\n",
      "adding 11103...\n",
      "adding 11104...\n",
      "adding 11105...\n",
      "adding 11106...\n",
      "adding 11107...\n",
      "adding 11108...\n",
      "adding 11109...\n",
      "adding 11110...\n",
      "adding 11111...\n",
      "adding 11112...\n",
      "adding 11113...\n",
      "adding 11114...\n",
      "adding 11115...\n",
      "adding 11116...\n",
      "adding 11117...\n",
      "adding 11118...\n",
      "adding 11119...\n",
      "adding 11120...\n",
      "adding 11121...\n",
      "adding 11122...\n",
      "adding 11123...\n",
      "adding 11124...\n",
      "adding 11125...\n",
      "adding 11126...\n",
      "adding 11127...\n",
      "adding 11128...\n",
      "adding 11129...\n",
      "adding 11130...\n",
      "adding 11131...\n",
      "adding 11132...\n",
      "adding 11133...\n",
      "adding 11134...\n",
      "adding 11135...\n",
      "adding 11136...\n",
      "adding 11137...\n",
      "adding 11138...\n",
      "adding 11139...\n",
      "adding 11140...\n",
      "adding 11141...\n",
      "adding 11142...\n",
      "adding 11143...\n",
      "adding 11144...\n",
      "adding 11145...\n",
      "adding 11146...\n",
      "adding 11147...\n",
      "adding 11148...\n",
      "adding 11149...\n",
      "adding 11150...\n",
      "adding 11151...\n",
      "adding 11152...\n",
      "adding 11153...\n",
      "adding 11154...\n",
      "adding 11155...\n",
      "adding 11156...\n",
      "adding 11157...\n",
      "adding 11158...\n",
      "adding 11159...\n",
      "adding 11160...\n",
      "adding 11161...\n",
      "adding 11162...\n",
      "adding 11163...\n",
      "adding 11164...\n",
      "adding 11165...\n",
      "adding 11166...\n",
      "adding 11167...\n",
      "adding 11168...\n",
      "adding 11169...\n",
      "adding 11170...\n",
      "adding 11171...\n",
      "adding 11172...\n",
      "adding 11173...\n",
      "adding 11174...\n",
      "adding 11175...\n",
      "adding 11176...\n",
      "adding 11177...\n",
      "adding 11178...\n",
      "adding 11179...\n",
      "adding 11180...\n",
      "adding 11181...\n",
      "adding 11182...\n",
      "adding 11183...\n",
      "adding 11184...\n",
      "adding 11185...\n",
      "adding 11186...\n",
      "adding 11187...\n",
      "adding 11188...\n",
      "adding 11189...\n",
      "adding 11190...\n",
      "adding 11191...\n",
      "adding 11192...\n",
      "adding 11193...\n",
      "adding 11194...\n",
      "adding 11195...\n",
      "adding 11196...\n",
      "adding 11197...\n",
      "adding 11198...\n",
      "adding 11199...\n",
      "adding 11200...\n",
      "adding 11201...\n",
      "adding 11202...\n",
      "adding 11203...\n",
      "adding 11204...\n",
      "adding 11205...\n",
      "adding 11206...\n",
      "adding 11207...\n",
      "adding 11208...\n",
      "adding 11209...\n",
      "adding 11210...\n",
      "adding 11211...\n",
      "adding 11212...\n",
      "adding 11213...\n",
      "adding 11214...\n",
      "adding 11215...\n"
     ]
    },
    {
     "name": "stdout",
     "output_type": "stream",
     "text": [
      "adding 11216...\n",
      "adding 11217...\n",
      "adding 11218...\n",
      "adding 11219...\n",
      "adding 11220...\n",
      "adding 11221...\n",
      "adding 11222...\n",
      "adding 11223...\n",
      "adding 11224...\n",
      "adding 11225...\n",
      "adding 11226...\n",
      "adding 11227...\n",
      "adding 11228...\n",
      "adding 11229...\n",
      "adding 11230...\n",
      "adding 11231...\n",
      "adding 11232...\n",
      "adding 11233...\n",
      "adding 11234...\n",
      "adding 11235...\n",
      "adding 11236...\n",
      "adding 11237...\n",
      "adding 11238...\n",
      "adding 11239...\n",
      "adding 11240...\n",
      "adding 11241...\n",
      "adding 11242...\n",
      "adding 11243...\n",
      "adding 11244...\n",
      "adding 11245...\n",
      "adding 11246...\n",
      "adding 11247...\n",
      "adding 11248...\n",
      "adding 11249...\n",
      "adding 11250...\n",
      "adding 11251...\n",
      "adding 11252...\n",
      "adding 11253...\n",
      "adding 11254...\n",
      "adding 11255...\n",
      "adding 11256...\n",
      "adding 11257...\n",
      "adding 11258...\n",
      "adding 11259...\n",
      "adding 11260...\n",
      "adding 11261...\n",
      "adding 11262...\n",
      "adding 11263...\n",
      "adding 11264...\n",
      "adding 11265...\n",
      "adding 11266...\n",
      "adding 11267...\n",
      "adding 11268...\n",
      "adding 11269...\n",
      "adding 11270...\n",
      "adding 11271...\n",
      "adding 11272...\n",
      "adding 11273...\n",
      "adding 11274...\n",
      "adding 11275...\n",
      "adding 11276...\n",
      "adding 11277...\n",
      "adding 11278...\n",
      "adding 11279...\n",
      "adding 11280...\n",
      "adding 11281...\n",
      "adding 11282...\n",
      "adding 11283...\n",
      "adding 11284...\n",
      "adding 11285...\n",
      "adding 11286...\n",
      "adding 11287...\n",
      "adding 11288...\n",
      "adding 11289...\n",
      "adding 11290...\n",
      "adding 11291...\n",
      "adding 11292...\n",
      "adding 11293...\n",
      "adding 11294...\n",
      "adding 11295...\n",
      "adding 11296...\n",
      "adding 11297...\n",
      "adding 11298...\n",
      "adding 11299...\n",
      "adding 11300...\n",
      "adding 11301...\n",
      "adding 11302...\n",
      "adding 11303...\n",
      "adding 11304...\n",
      "adding 11305...\n",
      "adding 11306...\n",
      "adding 11307...\n",
      "adding 11308...\n",
      "adding 11309...\n",
      "adding 11310...\n",
      "adding 11311...\n",
      "adding 11312...\n",
      "adding 11313...\n",
      "adding 11314...\n",
      "adding 11315...\n",
      "adding 11316...\n",
      "adding 11317...\n",
      "adding 11318...\n",
      "adding 11319...\n",
      "adding 11320...\n",
      "adding 11321...\n",
      "adding 11322...\n",
      "adding 11323...\n",
      "adding 11324...\n",
      "adding 11325...\n",
      "adding 11326...\n",
      "adding 11327...\n",
      "adding 11328...\n",
      "adding 11329...\n",
      "adding 11330...\n",
      "adding 11331...\n",
      "adding 11332...\n",
      "adding 11333...\n",
      "adding 11334...\n",
      "adding 11335...\n",
      "adding 11336...\n",
      "adding 11337...\n",
      "adding 11338...\n",
      "adding 11339...\n",
      "adding 11340...\n",
      "adding 11341...\n",
      "adding 11342...\n",
      "adding 11343...\n",
      "adding 11344...\n",
      "adding 11345...\n",
      "adding 11346...\n",
      "adding 11347...\n",
      "adding 11348...\n",
      "adding 11349...\n",
      "adding 11350...\n",
      "adding 11351...\n",
      "adding 11352...\n",
      "adding 11353...\n",
      "adding 11354...\n",
      "adding 11355...\n",
      "adding 11356...\n",
      "adding 11357...\n",
      "adding 11358...\n",
      "adding 11359...\n",
      "adding 11360...\n",
      "adding 11361...\n",
      "adding 11362...\n",
      "adding 11363...\n",
      "adding 11364...\n",
      "adding 11365...\n",
      "adding 11366...\n",
      "adding 11367...\n",
      "adding 11368...\n",
      "adding 11369...\n",
      "adding 11370...\n",
      "adding 11371...\n",
      "adding 11372...\n",
      "adding 11373...\n",
      "adding 11374...\n",
      "adding 11375...\n",
      "adding 11376...\n",
      "adding 11377...\n",
      "adding 11378...\n",
      "adding 11379...\n",
      "adding 11380...\n",
      "adding 11381...\n",
      "adding 11382...\n",
      "adding 11383...\n",
      "adding 11384...\n",
      "adding 11385...\n",
      "adding 11386...\n",
      "adding 11387...\n",
      "adding 11388...\n",
      "adding 11389...\n",
      "adding 11390...\n",
      "adding 11391...\n",
      "adding 11392...\n",
      "adding 11393...\n",
      "adding 11394...\n",
      "adding 11395...\n",
      "adding 11396...\n",
      "adding 11397...\n",
      "adding 11398...\n",
      "adding 11399...\n",
      "adding 11400...\n",
      "adding 11401...\n",
      "adding 11402...\n",
      "adding 11403...\n",
      "adding 11404...\n",
      "adding 11405...\n",
      "adding 11406...\n",
      "adding 11407...\n",
      "adding 11408...\n",
      "adding 11409...\n",
      "adding 11410...\n",
      "adding 11411...\n",
      "adding 11412...\n",
      "adding 11413...\n",
      "adding 11414...\n",
      "adding 11415...\n",
      "adding 11416...\n",
      "adding 11417...\n",
      "adding 11418...\n",
      "adding 11419...\n",
      "adding 11420...\n",
      "adding 11421...\n",
      "adding 11422...\n",
      "adding 11423...\n",
      "adding 11424...\n",
      "adding 11425...\n",
      "adding 11426...\n",
      "adding 11427...\n",
      "adding 11428...\n",
      "adding 11429...\n",
      "adding 11430...\n",
      "adding 11431...\n",
      "adding 11432...\n",
      "adding 11433...\n",
      "adding 11434...\n",
      "adding 11435...\n",
      "adding 11436...\n",
      "adding 11437...\n",
      "adding 11438...\n",
      "adding 11439...\n",
      "adding 11440...\n",
      "adding 11441...\n",
      "adding 11442...\n",
      "adding 11443...\n",
      "adding 11444...\n",
      "adding 11445...\n",
      "adding 11446...\n",
      "adding 11447...\n",
      "adding 11448...\n",
      "adding 11449...\n",
      "adding 11450...\n",
      "adding 11451...\n",
      "adding 11452...\n",
      "adding 11453...\n",
      "adding 11454...\n",
      "adding 11455...\n",
      "adding 11456...\n",
      "adding 11457...\n",
      "adding 11458...\n",
      "adding 11459...\n",
      "adding 11460...\n",
      "adding 11461...\n",
      "adding 11462...\n",
      "adding 11463...\n",
      "adding 11464...\n",
      "adding 11465...\n",
      "adding 11466...\n",
      "adding 11467...\n",
      "adding 11468...\n",
      "adding 11469...\n",
      "adding 11470...\n",
      "adding 11471...\n",
      "adding 11472...\n",
      "adding 11473...\n",
      "adding 11474...\n",
      "adding 11475...\n",
      "adding 11476...\n",
      "adding 11477...\n",
      "adding 11478...\n",
      "adding 11479...\n",
      "adding 11480...\n",
      "adding 11481...\n",
      "adding 11482...\n",
      "adding 11483...\n",
      "adding 11484...\n",
      "adding 11485...\n",
      "adding 11486...\n",
      "adding 11487...\n",
      "adding 11488...\n",
      "adding 11489...\n",
      "adding 11490...\n",
      "adding 11491...\n",
      "adding 11492...\n",
      "adding 11493...\n",
      "adding 11494...\n",
      "adding 11495...\n",
      "adding 11496...\n",
      "adding 11497...\n",
      "adding 11498...\n",
      "adding 11499...\n",
      "adding 11500...\n",
      "adding 11501...\n",
      "adding 11502...\n",
      "adding 11503...\n",
      "adding 11504...\n",
      "adding 11505...\n",
      "adding 11506...\n",
      "adding 11507...\n",
      "adding 11508...\n",
      "adding 11509...\n",
      "adding 11510...\n",
      "adding 11511...\n",
      "adding 11512...\n",
      "adding 11513...\n",
      "adding 11514...\n",
      "adding 11515...\n",
      "adding 11516...\n",
      "adding 11517...\n",
      "adding 11518...\n",
      "adding 11519...\n",
      "dataframe length: 11521\n",
      "TIME .append()  :  78.52940011024475\n",
      "TIME .append()  :  78.52955389022827\n"
     ]
    }
   ],
   "source": [
    "\n",
    "filename = 'one.h5'\n",
    "df = create_base_df()\n",
    "start = time.time()\n",
    "df = process_orbit_app(df, filename)\n",
    "end = time.time()\n",
    "print(f'TIME .append()  :  {end - start}')"
   ]
  },
  {
   "cell_type": "markdown",
   "metadata": {},
   "source": [
    "## append time: 81s / .h5\n",
    "## list zip time: 78s / .h5\n",
    "- closer than i thought. i thought i read .concat() was faster? but then again i'm not using concat in the end - that combines dataframes"
   ]
  },
  {
   "cell_type": "code",
   "execution_count": null,
   "metadata": {},
   "outputs": [],
   "source": []
  },
  {
   "cell_type": "code",
   "execution_count": null,
   "metadata": {},
   "outputs": [],
   "source": []
  },
  {
   "cell_type": "code",
   "execution_count": null,
   "metadata": {},
   "outputs": [],
   "source": []
  },
  {
   "cell_type": "code",
   "execution_count": null,
   "metadata": {},
   "outputs": [],
   "source": []
  },
  {
   "cell_type": "code",
   "execution_count": null,
   "metadata": {},
   "outputs": [],
   "source": [
    "from os import listdir\n",
    "from os.path import isfile, join\n",
    "\n",
    "onlyfiles = [f for f in listdir(mypath) if isfile(join(mypath, f))]"
   ]
  },
  {
   "cell_type": "code",
   "execution_count": 38,
   "metadata": {},
   "outputs": [
    {
     "data": {
      "text/plain": [
       "'/Users/mark/Documents/flatiron/projects/so2/sulfur_dioxide_global'"
      ]
     },
     "execution_count": 38,
     "metadata": {},
     "output_type": "execute_result"
    }
   ],
   "source": [
    "os.getcwd()"
   ]
  },
  {
   "cell_type": "code",
   "execution_count": 39,
   "metadata": {},
   "outputs": [
    {
     "data": {
      "text/plain": [
       "['EDA.ipynb',\n",
       " 'one.h5',\n",
       " '.DS_Store',\n",
       " 'omps_readme.pdf',\n",
       " 'README.md',\n",
       " '.gitignore',\n",
       " '.ipynb_checkpoints',\n",
       " '.git',\n",
       " 'data']"
      ]
     },
     "execution_count": 39,
     "metadata": {},
     "output_type": "execute_result"
    }
   ],
   "source": [
    "os.listdir(os.getcwd())"
   ]
  },
  {
   "cell_type": "markdown",
   "metadata": {},
   "source": [
    "## TIME issue:\n",
    "- 80 seconds per h5 for 38k h5s gives us 844 hours of runtime for the function.\n",
    "    - that is absolutely uncool\n",
    "- is it an unavoidable issue with the amount of data in terms of functional calls?\n",
    "    - i'm dealing with h5.Datasets, which are basically arrays\n",
    "        - i have a feeling there's a faster way to array->dataframe than nested loop appending\n",
    "    "
   ]
  },
  {
   "cell_type": "code",
   "execution_count": 41,
   "metadata": {},
   "outputs": [],
   "source": []
  },
  {
   "cell_type": "code",
   "execution_count": 42,
   "metadata": {},
   "outputs": [
    {
     "data": {
      "text/plain": [
       "38976"
      ]
     },
     "execution_count": 42,
     "metadata": {},
     "output_type": "execute_result"
    }
   ],
   "source": [
    "len(files)"
   ]
  },
  {
   "cell_type": "code",
   "execution_count": 64,
   "metadata": {},
   "outputs": [
    {
     "data": {
      "text/plain": [
       "<KeysViewHDF5 ['CloudFraction', 'ColumnAmountO3', 'ColumnAmountSO2_PBL', 'ColumnAmountSO2_STL', 'ColumnAmountSO2_TRL', 'ColumnAmountSO2_TRM', 'ColumnAmountSO2_TRU', 'FittingWindow_STL', 'FittingWindow_TRL', 'FittingWindow_TRM', 'FittingWindow_TRU', 'Flag_SAA', 'Flag_SO2', 'RadiativeCloudFraction', 'Reflectivity331', 'SLER', 'UVAerosolIndex', 'Wavelengths_SLER', 'dNdR', 'nPrincipalComponents']>"
      ]
     },
     "execution_count": 64,
     "metadata": {},
     "output_type": "execute_result"
    }
   ],
   "source": [
    "sci.keys()"
   ]
  },
  {
   "cell_type": "markdown",
   "metadata": {},
   "source": [
    "### matrix to DataFrame directly"
   ]
  },
  {
   "cell_type": "code",
   "execution_count": 66,
   "metadata": {},
   "outputs": [
    {
     "data": {
      "text/plain": [
       "(320, 36)"
      ]
     },
     "execution_count": 66,
     "metadata": {},
     "output_type": "execute_result"
    }
   ],
   "source": [
    "mat = sci['ColumnAmountSO2_PBL']\n",
    "mat.shape"
   ]
  },
  {
   "cell_type": "code",
   "execution_count": null,
   "metadata": {},
   "outputs": [],
   "source": [
    "pd.DataFrame()"
   ]
  },
  {
   "cell_type": "code",
   "execution_count": 69,
   "metadata": {},
   "outputs": [
    {
     "data": {
      "text/html": [
       "<div>\n",
       "<style scoped>\n",
       "    .dataframe tbody tr th:only-of-type {\n",
       "        vertical-align: middle;\n",
       "    }\n",
       "\n",
       "    .dataframe tbody tr th {\n",
       "        vertical-align: top;\n",
       "    }\n",
       "\n",
       "    .dataframe thead th {\n",
       "        text-align: right;\n",
       "    }\n",
       "</style>\n",
       "<table border=\"1\" class=\"dataframe\">\n",
       "  <thead>\n",
       "    <tr style=\"text-align: right;\">\n",
       "      <th></th>\n",
       "      <th>0</th>\n",
       "      <th>1</th>\n",
       "      <th>2</th>\n",
       "      <th>3</th>\n",
       "      <th>4</th>\n",
       "      <th>5</th>\n",
       "      <th>6</th>\n",
       "      <th>7</th>\n",
       "      <th>8</th>\n",
       "      <th>9</th>\n",
       "      <th>...</th>\n",
       "      <th>26</th>\n",
       "      <th>27</th>\n",
       "      <th>28</th>\n",
       "      <th>29</th>\n",
       "      <th>30</th>\n",
       "      <th>31</th>\n",
       "      <th>32</th>\n",
       "      <th>33</th>\n",
       "      <th>34</th>\n",
       "      <th>35</th>\n",
       "    </tr>\n",
       "  </thead>\n",
       "  <tbody>\n",
       "    <tr>\n",
       "      <td>0</td>\n",
       "      <td>-4.029547e-01</td>\n",
       "      <td>9.849648e-01</td>\n",
       "      <td>2.042481e-01</td>\n",
       "      <td>4.230238e-01</td>\n",
       "      <td>2.397932e-01</td>\n",
       "      <td>1.811823e-01</td>\n",
       "      <td>2.592041e-01</td>\n",
       "      <td>5.033290e-01</td>\n",
       "      <td>2.876406e-01</td>\n",
       "      <td>2.669230e-01</td>\n",
       "      <td>...</td>\n",
       "      <td>4.640397e-01</td>\n",
       "      <td>4.937508e-02</td>\n",
       "      <td>3.414404e-01</td>\n",
       "      <td>7.708734e-02</td>\n",
       "      <td>1.848868e-01</td>\n",
       "      <td>-9.566254e-03</td>\n",
       "      <td>-1.734747e-01</td>\n",
       "      <td>1.331405e+00</td>\n",
       "      <td>-6.412577e-02</td>\n",
       "      <td>7.685578e-01</td>\n",
       "    </tr>\n",
       "    <tr>\n",
       "      <td>1</td>\n",
       "      <td>5.941088e-01</td>\n",
       "      <td>1.994952e-01</td>\n",
       "      <td>2.601840e-01</td>\n",
       "      <td>-3.926543e-01</td>\n",
       "      <td>4.075236e-01</td>\n",
       "      <td>5.000751e-01</td>\n",
       "      <td>-1.440047e-01</td>\n",
       "      <td>-8.859561e-03</td>\n",
       "      <td>-3.318212e-02</td>\n",
       "      <td>-4.084798e-01</td>\n",
       "      <td>...</td>\n",
       "      <td>4.130578e-02</td>\n",
       "      <td>1.336854e+00</td>\n",
       "      <td>6.432132e-02</td>\n",
       "      <td>-9.903105e-02</td>\n",
       "      <td>-3.579566e-01</td>\n",
       "      <td>-2.172945e-02</td>\n",
       "      <td>1.041501e-01</td>\n",
       "      <td>2.704256e-01</td>\n",
       "      <td>1.046404e-01</td>\n",
       "      <td>-7.228448e-02</td>\n",
       "    </tr>\n",
       "    <tr>\n",
       "      <td>2</td>\n",
       "      <td>1.646080e-01</td>\n",
       "      <td>-1.204964e-01</td>\n",
       "      <td>-1.745902e-01</td>\n",
       "      <td>-1.018621e-01</td>\n",
       "      <td>6.856797e-01</td>\n",
       "      <td>3.116942e-01</td>\n",
       "      <td>4.405132e-01</td>\n",
       "      <td>-1.187112e-01</td>\n",
       "      <td>-6.027973e-02</td>\n",
       "      <td>3.566566e-01</td>\n",
       "      <td>...</td>\n",
       "      <td>1.352778e-02</td>\n",
       "      <td>8.329485e-02</td>\n",
       "      <td>3.949238e-03</td>\n",
       "      <td>5.537626e-02</td>\n",
       "      <td>-1.838077e-02</td>\n",
       "      <td>4.684832e-01</td>\n",
       "      <td>-2.047891e-01</td>\n",
       "      <td>-1.427619e-01</td>\n",
       "      <td>6.267340e-01</td>\n",
       "      <td>4.096892e-02</td>\n",
       "    </tr>\n",
       "    <tr>\n",
       "      <td>3</td>\n",
       "      <td>7.128267e-02</td>\n",
       "      <td>8.145315e-02</td>\n",
       "      <td>9.390183e-02</td>\n",
       "      <td>-1.174992e-04</td>\n",
       "      <td>2.583468e-01</td>\n",
       "      <td>-1.184929e-01</td>\n",
       "      <td>2.506859e-02</td>\n",
       "      <td>2.105715e-01</td>\n",
       "      <td>2.007283e-01</td>\n",
       "      <td>2.295893e-01</td>\n",
       "      <td>...</td>\n",
       "      <td>-1.128365e-01</td>\n",
       "      <td>7.414775e-02</td>\n",
       "      <td>4.009604e-03</td>\n",
       "      <td>2.941097e-02</td>\n",
       "      <td>6.962321e-02</td>\n",
       "      <td>-1.348442e-02</td>\n",
       "      <td>9.868404e-02</td>\n",
       "      <td>7.643973e-01</td>\n",
       "      <td>5.092659e-01</td>\n",
       "      <td>1.269430e-01</td>\n",
       "    </tr>\n",
       "    <tr>\n",
       "      <td>4</td>\n",
       "      <td>1.892708e-01</td>\n",
       "      <td>-3.616448e-01</td>\n",
       "      <td>-2.538711e-01</td>\n",
       "      <td>-4.779992e-01</td>\n",
       "      <td>1.049691e-01</td>\n",
       "      <td>-1.959032e-01</td>\n",
       "      <td>-8.926398e-02</td>\n",
       "      <td>3.644142e-02</td>\n",
       "      <td>-3.869241e-01</td>\n",
       "      <td>-4.080417e-01</td>\n",
       "      <td>...</td>\n",
       "      <td>7.132534e-02</td>\n",
       "      <td>-6.885639e-02</td>\n",
       "      <td>-1.600974e-01</td>\n",
       "      <td>5.435780e-02</td>\n",
       "      <td>-5.518730e-03</td>\n",
       "      <td>6.408185e-02</td>\n",
       "      <td>-3.551501e-02</td>\n",
       "      <td>2.999925e-02</td>\n",
       "      <td>-2.185591e-02</td>\n",
       "      <td>1.799225e-02</td>\n",
       "    </tr>\n",
       "    <tr>\n",
       "      <td>...</td>\n",
       "      <td>...</td>\n",
       "      <td>...</td>\n",
       "      <td>...</td>\n",
       "      <td>...</td>\n",
       "      <td>...</td>\n",
       "      <td>...</td>\n",
       "      <td>...</td>\n",
       "      <td>...</td>\n",
       "      <td>...</td>\n",
       "      <td>...</td>\n",
       "      <td>...</td>\n",
       "      <td>...</td>\n",
       "      <td>...</td>\n",
       "      <td>...</td>\n",
       "      <td>...</td>\n",
       "      <td>...</td>\n",
       "      <td>...</td>\n",
       "      <td>...</td>\n",
       "      <td>...</td>\n",
       "      <td>...</td>\n",
       "      <td>...</td>\n",
       "    </tr>\n",
       "    <tr>\n",
       "      <td>315</td>\n",
       "      <td>-1.267651e+30</td>\n",
       "      <td>-1.267651e+30</td>\n",
       "      <td>-1.267651e+30</td>\n",
       "      <td>-1.267651e+30</td>\n",
       "      <td>-1.267651e+30</td>\n",
       "      <td>-1.267651e+30</td>\n",
       "      <td>-1.267651e+30</td>\n",
       "      <td>-1.267651e+30</td>\n",
       "      <td>-1.267651e+30</td>\n",
       "      <td>-1.267651e+30</td>\n",
       "      <td>...</td>\n",
       "      <td>-1.267651e+30</td>\n",
       "      <td>-1.267651e+30</td>\n",
       "      <td>-1.267651e+30</td>\n",
       "      <td>-1.267651e+30</td>\n",
       "      <td>-1.267651e+30</td>\n",
       "      <td>-1.267651e+30</td>\n",
       "      <td>-1.267651e+30</td>\n",
       "      <td>-1.267651e+30</td>\n",
       "      <td>-1.267651e+30</td>\n",
       "      <td>-1.267651e+30</td>\n",
       "    </tr>\n",
       "    <tr>\n",
       "      <td>316</td>\n",
       "      <td>-1.267651e+30</td>\n",
       "      <td>-1.267651e+30</td>\n",
       "      <td>-1.267651e+30</td>\n",
       "      <td>-1.267651e+30</td>\n",
       "      <td>-1.267651e+30</td>\n",
       "      <td>-1.267651e+30</td>\n",
       "      <td>-1.267651e+30</td>\n",
       "      <td>-1.267651e+30</td>\n",
       "      <td>-1.267651e+30</td>\n",
       "      <td>-1.267651e+30</td>\n",
       "      <td>...</td>\n",
       "      <td>-1.267651e+30</td>\n",
       "      <td>-1.267651e+30</td>\n",
       "      <td>-1.267651e+30</td>\n",
       "      <td>-1.267651e+30</td>\n",
       "      <td>-1.267651e+30</td>\n",
       "      <td>-1.267651e+30</td>\n",
       "      <td>-1.267651e+30</td>\n",
       "      <td>-1.267651e+30</td>\n",
       "      <td>-1.267651e+30</td>\n",
       "      <td>-1.267651e+30</td>\n",
       "    </tr>\n",
       "    <tr>\n",
       "      <td>317</td>\n",
       "      <td>-1.267651e+30</td>\n",
       "      <td>-1.267651e+30</td>\n",
       "      <td>-1.267651e+30</td>\n",
       "      <td>-1.267651e+30</td>\n",
       "      <td>-1.267651e+30</td>\n",
       "      <td>-1.267651e+30</td>\n",
       "      <td>-1.267651e+30</td>\n",
       "      <td>-1.267651e+30</td>\n",
       "      <td>-1.267651e+30</td>\n",
       "      <td>-1.267651e+30</td>\n",
       "      <td>...</td>\n",
       "      <td>-1.267651e+30</td>\n",
       "      <td>-1.267651e+30</td>\n",
       "      <td>-1.267651e+30</td>\n",
       "      <td>-1.267651e+30</td>\n",
       "      <td>-1.267651e+30</td>\n",
       "      <td>-1.267651e+30</td>\n",
       "      <td>-1.267651e+30</td>\n",
       "      <td>-1.267651e+30</td>\n",
       "      <td>-1.267651e+30</td>\n",
       "      <td>-1.267651e+30</td>\n",
       "    </tr>\n",
       "    <tr>\n",
       "      <td>318</td>\n",
       "      <td>-1.267651e+30</td>\n",
       "      <td>-1.267651e+30</td>\n",
       "      <td>-1.267651e+30</td>\n",
       "      <td>-1.267651e+30</td>\n",
       "      <td>-1.267651e+30</td>\n",
       "      <td>-1.267651e+30</td>\n",
       "      <td>-1.267651e+30</td>\n",
       "      <td>-1.267651e+30</td>\n",
       "      <td>-1.267651e+30</td>\n",
       "      <td>-1.267651e+30</td>\n",
       "      <td>...</td>\n",
       "      <td>-1.267651e+30</td>\n",
       "      <td>-1.267651e+30</td>\n",
       "      <td>-1.267651e+30</td>\n",
       "      <td>-1.267651e+30</td>\n",
       "      <td>-1.267651e+30</td>\n",
       "      <td>-1.267651e+30</td>\n",
       "      <td>-1.267651e+30</td>\n",
       "      <td>-1.267651e+30</td>\n",
       "      <td>-1.267651e+30</td>\n",
       "      <td>-1.267651e+30</td>\n",
       "    </tr>\n",
       "    <tr>\n",
       "      <td>319</td>\n",
       "      <td>-1.267651e+30</td>\n",
       "      <td>-1.267651e+30</td>\n",
       "      <td>-1.267651e+30</td>\n",
       "      <td>-1.267651e+30</td>\n",
       "      <td>-1.267651e+30</td>\n",
       "      <td>-1.267651e+30</td>\n",
       "      <td>-1.267651e+30</td>\n",
       "      <td>-1.267651e+30</td>\n",
       "      <td>-1.267651e+30</td>\n",
       "      <td>-1.267651e+30</td>\n",
       "      <td>...</td>\n",
       "      <td>-1.267651e+30</td>\n",
       "      <td>-1.267651e+30</td>\n",
       "      <td>-1.267651e+30</td>\n",
       "      <td>-1.267651e+30</td>\n",
       "      <td>-1.267651e+30</td>\n",
       "      <td>-1.267651e+30</td>\n",
       "      <td>-1.267651e+30</td>\n",
       "      <td>-1.267651e+30</td>\n",
       "      <td>-1.267651e+30</td>\n",
       "      <td>-1.267651e+30</td>\n",
       "    </tr>\n",
       "  </tbody>\n",
       "</table>\n",
       "<p>320 rows × 36 columns</p>\n",
       "</div>"
      ],
      "text/plain": [
       "               0             1             2             3             4   \\\n",
       "0   -4.029547e-01  9.849648e-01  2.042481e-01  4.230238e-01  2.397932e-01   \n",
       "1    5.941088e-01  1.994952e-01  2.601840e-01 -3.926543e-01  4.075236e-01   \n",
       "2    1.646080e-01 -1.204964e-01 -1.745902e-01 -1.018621e-01  6.856797e-01   \n",
       "3    7.128267e-02  8.145315e-02  9.390183e-02 -1.174992e-04  2.583468e-01   \n",
       "4    1.892708e-01 -3.616448e-01 -2.538711e-01 -4.779992e-01  1.049691e-01   \n",
       "..            ...           ...           ...           ...           ...   \n",
       "315 -1.267651e+30 -1.267651e+30 -1.267651e+30 -1.267651e+30 -1.267651e+30   \n",
       "316 -1.267651e+30 -1.267651e+30 -1.267651e+30 -1.267651e+30 -1.267651e+30   \n",
       "317 -1.267651e+30 -1.267651e+30 -1.267651e+30 -1.267651e+30 -1.267651e+30   \n",
       "318 -1.267651e+30 -1.267651e+30 -1.267651e+30 -1.267651e+30 -1.267651e+30   \n",
       "319 -1.267651e+30 -1.267651e+30 -1.267651e+30 -1.267651e+30 -1.267651e+30   \n",
       "\n",
       "               5             6             7             8             9   \\\n",
       "0    1.811823e-01  2.592041e-01  5.033290e-01  2.876406e-01  2.669230e-01   \n",
       "1    5.000751e-01 -1.440047e-01 -8.859561e-03 -3.318212e-02 -4.084798e-01   \n",
       "2    3.116942e-01  4.405132e-01 -1.187112e-01 -6.027973e-02  3.566566e-01   \n",
       "3   -1.184929e-01  2.506859e-02  2.105715e-01  2.007283e-01  2.295893e-01   \n",
       "4   -1.959032e-01 -8.926398e-02  3.644142e-02 -3.869241e-01 -4.080417e-01   \n",
       "..            ...           ...           ...           ...           ...   \n",
       "315 -1.267651e+30 -1.267651e+30 -1.267651e+30 -1.267651e+30 -1.267651e+30   \n",
       "316 -1.267651e+30 -1.267651e+30 -1.267651e+30 -1.267651e+30 -1.267651e+30   \n",
       "317 -1.267651e+30 -1.267651e+30 -1.267651e+30 -1.267651e+30 -1.267651e+30   \n",
       "318 -1.267651e+30 -1.267651e+30 -1.267651e+30 -1.267651e+30 -1.267651e+30   \n",
       "319 -1.267651e+30 -1.267651e+30 -1.267651e+30 -1.267651e+30 -1.267651e+30   \n",
       "\n",
       "     ...            26            27            28            29  \\\n",
       "0    ...  4.640397e-01  4.937508e-02  3.414404e-01  7.708734e-02   \n",
       "1    ...  4.130578e-02  1.336854e+00  6.432132e-02 -9.903105e-02   \n",
       "2    ...  1.352778e-02  8.329485e-02  3.949238e-03  5.537626e-02   \n",
       "3    ... -1.128365e-01  7.414775e-02  4.009604e-03  2.941097e-02   \n",
       "4    ...  7.132534e-02 -6.885639e-02 -1.600974e-01  5.435780e-02   \n",
       "..   ...           ...           ...           ...           ...   \n",
       "315  ... -1.267651e+30 -1.267651e+30 -1.267651e+30 -1.267651e+30   \n",
       "316  ... -1.267651e+30 -1.267651e+30 -1.267651e+30 -1.267651e+30   \n",
       "317  ... -1.267651e+30 -1.267651e+30 -1.267651e+30 -1.267651e+30   \n",
       "318  ... -1.267651e+30 -1.267651e+30 -1.267651e+30 -1.267651e+30   \n",
       "319  ... -1.267651e+30 -1.267651e+30 -1.267651e+30 -1.267651e+30   \n",
       "\n",
       "               30            31            32            33            34  \\\n",
       "0    1.848868e-01 -9.566254e-03 -1.734747e-01  1.331405e+00 -6.412577e-02   \n",
       "1   -3.579566e-01 -2.172945e-02  1.041501e-01  2.704256e-01  1.046404e-01   \n",
       "2   -1.838077e-02  4.684832e-01 -2.047891e-01 -1.427619e-01  6.267340e-01   \n",
       "3    6.962321e-02 -1.348442e-02  9.868404e-02  7.643973e-01  5.092659e-01   \n",
       "4   -5.518730e-03  6.408185e-02 -3.551501e-02  2.999925e-02 -2.185591e-02   \n",
       "..            ...           ...           ...           ...           ...   \n",
       "315 -1.267651e+30 -1.267651e+30 -1.267651e+30 -1.267651e+30 -1.267651e+30   \n",
       "316 -1.267651e+30 -1.267651e+30 -1.267651e+30 -1.267651e+30 -1.267651e+30   \n",
       "317 -1.267651e+30 -1.267651e+30 -1.267651e+30 -1.267651e+30 -1.267651e+30   \n",
       "318 -1.267651e+30 -1.267651e+30 -1.267651e+30 -1.267651e+30 -1.267651e+30   \n",
       "319 -1.267651e+30 -1.267651e+30 -1.267651e+30 -1.267651e+30 -1.267651e+30   \n",
       "\n",
       "               35  \n",
       "0    7.685578e-01  \n",
       "1   -7.228448e-02  \n",
       "2    4.096892e-02  \n",
       "3    1.269430e-01  \n",
       "4    1.799225e-02  \n",
       "..            ...  \n",
       "315 -1.267651e+30  \n",
       "316 -1.267651e+30  \n",
       "317 -1.267651e+30  \n",
       "318 -1.267651e+30  \n",
       "319 -1.267651e+30  \n",
       "\n",
       "[320 rows x 36 columns]"
      ]
     },
     "execution_count": 69,
     "metadata": {},
     "output_type": "execute_result"
    }
   ],
   "source": [
    "m = pd.DataFrame(mat) # 320 times a day, 36 cross-track positions are measured\n",
    "m # could we just compress the 2d matrix to 1d, keeping track every 36?"
   ]
  },
  {
   "cell_type": "markdown",
   "metadata": {},
   "source": [
    "- i have 9 matrices, each 320x36 for 11520 observations\n",
    "    - or rather, ~4 are just 320 ( but i could extend them into 320x36 )\n",
    "    - how can i make a dataframe shaped (11520, 9)\n",
    "    - pretty sure pd.concat() will work here\n",
    "- i think flattening it out to 1d could simplify things greatly\n",
    "    - is there any reason to keep 2d shape? no...?\n",
    "        - from a data structure standpoint, the 2d shape tells us:\n",
    "            - \"which observations belong to the same track-position?\"\n",
    "        - so if we flatten all matrices equally (and for the 1d, just multiply by 36)\n",
    "            - then the structure should be solved / positions preserved?\n",
    "        - then if i have 9 (11520) matrices, i basically have a dataframe"
   ]
  },
  {
   "cell_type": "code",
   "execution_count": 86,
   "metadata": {},
   "outputs": [
    {
     "data": {
      "text/plain": [
       "array([[-4.02954668e-01,  9.84964788e-01,  2.04248086e-01, ...,\n",
       "         1.33140492e+00, -6.41257688e-02,  7.68557787e-01],\n",
       "       [ 5.94108820e-01,  1.99495152e-01,  2.60183960e-01, ...,\n",
       "         2.70425618e-01,  1.04640394e-01, -7.22844824e-02],\n",
       "       [ 1.64608046e-01, -1.20496437e-01, -1.74590215e-01, ...,\n",
       "        -1.42761916e-01,  6.26734018e-01,  4.09689248e-02],\n",
       "       ...,\n",
       "       [-1.26765060e+30, -1.26765060e+30, -1.26765060e+30, ...,\n",
       "        -1.26765060e+30, -1.26765060e+30, -1.26765060e+30],\n",
       "       [-1.26765060e+30, -1.26765060e+30, -1.26765060e+30, ...,\n",
       "        -1.26765060e+30, -1.26765060e+30, -1.26765060e+30],\n",
       "       [-1.26765060e+30, -1.26765060e+30, -1.26765060e+30, ...,\n",
       "        -1.26765060e+30, -1.26765060e+30, -1.26765060e+30]], dtype=float32)"
      ]
     },
     "execution_count": 86,
     "metadata": {},
     "output_type": "execute_result"
    }
   ],
   "source": [
    "matrix = mat.value # convert to nparray\n",
    "matrix"
   ]
  },
  {
   "cell_type": "code",
   "execution_count": 87,
   "metadata": {},
   "outputs": [
    {
     "data": {
      "text/plain": [
       "(320, 36)"
      ]
     },
     "execution_count": 87,
     "metadata": {},
     "output_type": "execute_result"
    }
   ],
   "source": [
    "matrix.shape"
   ]
  },
  {
   "cell_type": "code",
   "execution_count": 92,
   "metadata": {},
   "outputs": [
    {
     "data": {
      "text/plain": [
       "array([-4.0295467e-01,  9.8496479e-01,  2.0424809e-01, ...,\n",
       "       -1.2676506e+30, -1.2676506e+30, -1.2676506e+30], dtype=float32)"
      ]
     },
     "execution_count": 92,
     "metadata": {},
     "output_type": "execute_result"
    }
   ],
   "source": [
    "pbl = matrix.ravel() # looking at the 1st and last values, it seems like order is preserved (why wouldn't it be?)\n",
    "pbl"
   ]
  },
  {
   "cell_type": "code",
   "execution_count": 93,
   "metadata": {},
   "outputs": [
    {
     "data": {
      "text/plain": [
       "(11520,)"
      ]
     },
     "execution_count": 93,
     "metadata": {},
     "output_type": "execute_result"
    }
   ],
   "source": [
    "pbl.shape"
   ]
  },
  {
   "cell_type": "code",
   "execution_count": 94,
   "metadata": {},
   "outputs": [
    {
     "data": {
      "text/plain": [
       "<KeysViewHDF5 ['CloudFraction', 'ColumnAmountO3', 'ColumnAmountSO2_PBL', 'ColumnAmountSO2_STL', 'ColumnAmountSO2_TRL', 'ColumnAmountSO2_TRM', 'ColumnAmountSO2_TRU', 'FittingWindow_STL', 'FittingWindow_TRL', 'FittingWindow_TRM', 'FittingWindow_TRU', 'Flag_SAA', 'Flag_SO2', 'RadiativeCloudFraction', 'Reflectivity331', 'SLER', 'UVAerosolIndex', 'Wavelengths_SLER', 'dNdR', 'nPrincipalComponents']>"
      ]
     },
     "execution_count": 94,
     "metadata": {},
     "output_type": "execute_result"
    }
   ],
   "source": [
    "sci.keys()"
   ]
  },
  {
   "cell_type": "code",
   "execution_count": 95,
   "metadata": {},
   "outputs": [],
   "source": [
    "clouds = sci['RadiativeCloudFraction'].value.ravel()"
   ]
  },
  {
   "cell_type": "code",
   "execution_count": 96,
   "metadata": {},
   "outputs": [
    {
     "data": {
      "text/plain": [
       "(11520,)"
      ]
     },
     "execution_count": 96,
     "metadata": {},
     "output_type": "execute_result"
    }
   ],
   "source": [
    "clouds.shape"
   ]
  },
  {
   "cell_type": "code",
   "execution_count": 97,
   "metadata": {},
   "outputs": [
    {
     "data": {
      "text/html": [
       "<div>\n",
       "<style scoped>\n",
       "    .dataframe tbody tr th:only-of-type {\n",
       "        vertical-align: middle;\n",
       "    }\n",
       "\n",
       "    .dataframe tbody tr th {\n",
       "        vertical-align: top;\n",
       "    }\n",
       "\n",
       "    .dataframe thead th {\n",
       "        text-align: right;\n",
       "    }\n",
       "</style>\n",
       "<table border=\"1\" class=\"dataframe\">\n",
       "  <thead>\n",
       "    <tr style=\"text-align: right;\">\n",
       "      <th></th>\n",
       "      <th>clouds</th>\n",
       "      <th>pbl</th>\n",
       "    </tr>\n",
       "  </thead>\n",
       "  <tbody>\n",
       "    <tr>\n",
       "      <td>0</td>\n",
       "      <td>2.995895e-01</td>\n",
       "      <td>-4.029547e-01</td>\n",
       "    </tr>\n",
       "    <tr>\n",
       "      <td>1</td>\n",
       "      <td>0.000000e+00</td>\n",
       "      <td>9.849648e-01</td>\n",
       "    </tr>\n",
       "    <tr>\n",
       "      <td>2</td>\n",
       "      <td>0.000000e+00</td>\n",
       "      <td>2.042481e-01</td>\n",
       "    </tr>\n",
       "    <tr>\n",
       "      <td>3</td>\n",
       "      <td>5.429736e-01</td>\n",
       "      <td>4.230238e-01</td>\n",
       "    </tr>\n",
       "    <tr>\n",
       "      <td>4</td>\n",
       "      <td>7.288764e-01</td>\n",
       "      <td>2.397932e-01</td>\n",
       "    </tr>\n",
       "    <tr>\n",
       "      <td>...</td>\n",
       "      <td>...</td>\n",
       "      <td>...</td>\n",
       "    </tr>\n",
       "    <tr>\n",
       "      <td>11515</td>\n",
       "      <td>-1.267651e+30</td>\n",
       "      <td>-1.267651e+30</td>\n",
       "    </tr>\n",
       "    <tr>\n",
       "      <td>11516</td>\n",
       "      <td>-1.267651e+30</td>\n",
       "      <td>-1.267651e+30</td>\n",
       "    </tr>\n",
       "    <tr>\n",
       "      <td>11517</td>\n",
       "      <td>-1.267651e+30</td>\n",
       "      <td>-1.267651e+30</td>\n",
       "    </tr>\n",
       "    <tr>\n",
       "      <td>11518</td>\n",
       "      <td>-1.267651e+30</td>\n",
       "      <td>-1.267651e+30</td>\n",
       "    </tr>\n",
       "    <tr>\n",
       "      <td>11519</td>\n",
       "      <td>-1.267651e+30</td>\n",
       "      <td>-1.267651e+30</td>\n",
       "    </tr>\n",
       "  </tbody>\n",
       "</table>\n",
       "<p>11520 rows × 2 columns</p>\n",
       "</div>"
      ],
      "text/plain": [
       "             clouds           pbl\n",
       "0      2.995895e-01 -4.029547e-01\n",
       "1      0.000000e+00  9.849648e-01\n",
       "2      0.000000e+00  2.042481e-01\n",
       "3      5.429736e-01  4.230238e-01\n",
       "4      7.288764e-01  2.397932e-01\n",
       "...             ...           ...\n",
       "11515 -1.267651e+30 -1.267651e+30\n",
       "11516 -1.267651e+30 -1.267651e+30\n",
       "11517 -1.267651e+30 -1.267651e+30\n",
       "11518 -1.267651e+30 -1.267651e+30\n",
       "11519 -1.267651e+30 -1.267651e+30\n",
       "\n",
       "[11520 rows x 2 columns]"
      ]
     },
     "execution_count": 97,
     "metadata": {},
     "output_type": "execute_result"
    }
   ],
   "source": [
    "clouds_lst = list(clouds)\n",
    "pbl_lst = list(pbl)\n",
    "df = pd.DataFrame(list(zip(clouds_lst, pbl_lst)), columns=['clouds', 'pbl'])\n",
    "df"
   ]
  },
  {
   "cell_type": "code",
   "execution_count": 100,
   "metadata": {},
   "outputs": [],
   "source": [
    "df2 = df.copy() # deep\n"
   ]
  },
  {
   "cell_type": "code",
   "execution_count": 105,
   "metadata": {},
   "outputs": [
    {
     "name": "stdout",
     "output_type": "stream",
     "text": [
      "(11520, 2) (11520, 2)\n"
     ]
    }
   ],
   "source": [
    "print(df.shape, df2.shape)"
   ]
  },
  {
   "cell_type": "code",
   "execution_count": 104,
   "metadata": {},
   "outputs": [
    {
     "data": {
      "text/html": [
       "<div>\n",
       "<style scoped>\n",
       "    .dataframe tbody tr th:only-of-type {\n",
       "        vertical-align: middle;\n",
       "    }\n",
       "\n",
       "    .dataframe tbody tr th {\n",
       "        vertical-align: top;\n",
       "    }\n",
       "\n",
       "    .dataframe thead th {\n",
       "        text-align: right;\n",
       "    }\n",
       "</style>\n",
       "<table border=\"1\" class=\"dataframe\">\n",
       "  <thead>\n",
       "    <tr style=\"text-align: right;\">\n",
       "      <th></th>\n",
       "      <th>clouds</th>\n",
       "      <th>pbl</th>\n",
       "    </tr>\n",
       "  </thead>\n",
       "  <tbody>\n",
       "    <tr>\n",
       "      <td>0</td>\n",
       "      <td>2.995895e-01</td>\n",
       "      <td>-4.029547e-01</td>\n",
       "    </tr>\n",
       "    <tr>\n",
       "      <td>1</td>\n",
       "      <td>0.000000e+00</td>\n",
       "      <td>9.849648e-01</td>\n",
       "    </tr>\n",
       "    <tr>\n",
       "      <td>2</td>\n",
       "      <td>0.000000e+00</td>\n",
       "      <td>2.042481e-01</td>\n",
       "    </tr>\n",
       "    <tr>\n",
       "      <td>3</td>\n",
       "      <td>5.429736e-01</td>\n",
       "      <td>4.230238e-01</td>\n",
       "    </tr>\n",
       "    <tr>\n",
       "      <td>4</td>\n",
       "      <td>7.288764e-01</td>\n",
       "      <td>2.397932e-01</td>\n",
       "    </tr>\n",
       "    <tr>\n",
       "      <td>...</td>\n",
       "      <td>...</td>\n",
       "      <td>...</td>\n",
       "    </tr>\n",
       "    <tr>\n",
       "      <td>11515</td>\n",
       "      <td>-1.267651e+30</td>\n",
       "      <td>-1.267651e+30</td>\n",
       "    </tr>\n",
       "    <tr>\n",
       "      <td>11516</td>\n",
       "      <td>-1.267651e+30</td>\n",
       "      <td>-1.267651e+30</td>\n",
       "    </tr>\n",
       "    <tr>\n",
       "      <td>11517</td>\n",
       "      <td>-1.267651e+30</td>\n",
       "      <td>-1.267651e+30</td>\n",
       "    </tr>\n",
       "    <tr>\n",
       "      <td>11518</td>\n",
       "      <td>-1.267651e+30</td>\n",
       "      <td>-1.267651e+30</td>\n",
       "    </tr>\n",
       "    <tr>\n",
       "      <td>11519</td>\n",
       "      <td>-1.267651e+30</td>\n",
       "      <td>-1.267651e+30</td>\n",
       "    </tr>\n",
       "  </tbody>\n",
       "</table>\n",
       "<p>23040 rows × 2 columns</p>\n",
       "</div>"
      ],
      "text/plain": [
       "             clouds           pbl\n",
       "0      2.995895e-01 -4.029547e-01\n",
       "1      0.000000e+00  9.849648e-01\n",
       "2      0.000000e+00  2.042481e-01\n",
       "3      5.429736e-01  4.230238e-01\n",
       "4      7.288764e-01  2.397932e-01\n",
       "...             ...           ...\n",
       "11515 -1.267651e+30 -1.267651e+30\n",
       "11516 -1.267651e+30 -1.267651e+30\n",
       "11517 -1.267651e+30 -1.267651e+30\n",
       "11518 -1.267651e+30 -1.267651e+30\n",
       "11519 -1.267651e+30 -1.267651e+30\n",
       "\n",
       "[23040 rows x 2 columns]"
      ]
     },
     "execution_count": 104,
     "metadata": {},
     "output_type": "execute_result"
    }
   ],
   "source": [
    "d3 = pd.concat([df,df2])\n",
    "d3"
   ]
  },
  {
   "cell_type": "code",
   "execution_count": null,
   "metadata": {},
   "outputs": [],
   "source": []
  },
  {
   "cell_type": "markdown",
   "metadata": {},
   "source": [
    "### nice. i can just flatten the arrays and dataframe it\n",
    "- this problem was tough until i let go of the notion that i need the 320x36 shape\n",
    "    - when you're stuck, reconsidering your assumptions/accepted 'requirements' can help\n",
    "- so the new process_h5_matrix() function:\n",
    "    - open h5\n",
    "    - assign datasets to vars\n",
    "    - if 2d: flatten to 1d\n",
    "    - if 1d: multiply length by 36\n",
    "    - list & zip into DF"
   ]
  },
  {
   "cell_type": "code",
   "execution_count": 155,
   "metadata": {},
   "outputs": [],
   "source": [
    "def create_base_df():\n",
    "    d = {'lat':[0.0],'long':[0.0],'sat_lat':[0.0],'sat_long':[0.0],'sat_alt':[0.0],'time':[0.0],'sza':[0.0],\n",
    "      'pbl':[0.0],'anom':[0],'cloud':[0.0]}\n",
    "    df = pd.DataFrame(data=d)\n",
    "    return df\n",
    "    \n",
    "\n",
    "def process_orbit(df, h5): # pandas DF, filename string. adds h5's observations to dataframe\n",
    "    f = h5py.File(h5, 'r') # read file\n",
    "    geo = f['GEOLOCATION_DATA'] # h5 Groups architecture is similar to dict\n",
    "    sci = f['SCIENCE_DATA']\n",
    "    # hdf.Datasets -> np.array -> list\n",
    "    lat = list(geo['Latitude'].value.ravel())\n",
    "    long = list(geo['Longitude'].value.ravel()) # is there a less verbose way to do this?\n",
    "    sat_lat = list(geo['SpacecraftLatitude'].value.ravel())*36 # extend the 1d arrays\n",
    "    sat_long = list(geo['SpacecraftLongitude'].value.ravel())*36 # don't forget to ravel like i did\n",
    "    sat_alt = list(geo['SpacecraftAltitude'].value.ravel())*36\n",
    "    time = list(geo['TimeUTC'].value.ravel())*36 # 36 measurements per position means one \"time\" value for every consecutive 36 measurements\n",
    "    sza = list(geo['SolarZenithAngle'].value.ravel())\n",
    "    pbl = list(sci['ColumnAmountSO2_PBL'].value.ravel())\n",
    "    anom = list(sci['Flag_SAA'].value.ravel())\n",
    "    # combine lists into df\n",
    "    new = pd.DataFrame(list(zip(lat, long, sat_lat, sat_long, sat_alt, time, sza, pbl, anom)),\n",
    "                       columns=[\"lat\", \"long\", \"sat_lat\", \"sat_long\", 'sat_alt', \"time\", \"sza\", \"pbl\", \"anom\"])\n",
    "    # we don't have to filter out by SZA, Anomaly etc quite yet. save that for after the data's gathered\n",
    "    df = pd.concat([df, new]) # merge 11,520 into existing df\n",
    "#     print(len(df))\n",
    "    return df"
   ]
  },
  {
   "cell_type": "code",
   "execution_count": 144,
   "metadata": {},
   "outputs": [
    {
     "name": "stdout",
     "output_type": "stream",
     "text": [
      "11521\n",
      "time:  0.029990196228027344\n"
     ]
    },
    {
     "name": "stderr",
     "output_type": "stream",
     "text": [
      "/Users/mark/opt/anaconda3/lib/python3.7/site-packages/ipykernel_launcher.py:26: FutureWarning: Sorting because non-concatenation axis is not aligned. A future version\n",
      "of pandas will change to not sort by default.\n",
      "\n",
      "To accept the future behavior, pass 'sort=False'.\n",
      "\n",
      "To retain the current behavior and silence the warning, pass 'sort=True'.\n",
      "\n"
     ]
    }
   ],
   "source": [
    "df = create_base_df()\n",
    "start = time.time()\n",
    "df = process_orbit(df, filename)\n",
    "end = time.time()\n",
    "print(f'time:  {end-start}')"
   ]
  },
  {
   "cell_type": "code",
   "execution_count": 132,
   "metadata": {},
   "outputs": [
    {
     "data": {
      "text/plain": [
       "(321, 10)"
      ]
     },
     "execution_count": 132,
     "metadata": {},
     "output_type": "execute_result"
    }
   ],
   "source": [
    "df.shape"
   ]
  },
  {
   "cell_type": "markdown",
   "metadata": {},
   "source": [
    "## matrix test: much faster, but warning\n",
    "time:  0.01427316665649414\n",
    "/Users/mark/opt/anaconda3/lib/python3.7/site-packages/ipykernel_launcher.py:26: FutureWarning: Sorting because non-concatenation axis is not aligned. A future version\n",
    "of pandas will change to not sort by default.\n",
    "\n",
    "To accept the future behavior, pass 'sort=False'.\n",
    "\n",
    "To retain the current behavior and silence the warning, pass 'sort=True'.\n"
   ]
  },
  {
   "cell_type": "markdown",
   "metadata": {},
   "source": [
    "## good to remember: work with matrices when you can, it's much faster than iterating i,j "
   ]
  },
  {
   "cell_type": "code",
   "execution_count": null,
   "metadata": {},
   "outputs": [],
   "source": []
  },
  {
   "cell_type": "code",
   "execution_count": null,
   "metadata": {},
   "outputs": [],
   "source": []
  },
  {
   "cell_type": "code",
   "execution_count": 122,
   "metadata": {},
   "outputs": [
    {
     "data": {
      "text/plain": [
       "'one.h5'"
      ]
     },
     "execution_count": 122,
     "metadata": {},
     "output_type": "execute_result"
    }
   ],
   "source": [
    "filename"
   ]
  },
  {
   "cell_type": "markdown",
   "metadata": {},
   "source": [
    "### now build the process_all_orbits()"
   ]
  },
  {
   "cell_type": "code",
   "execution_count": 152,
   "metadata": {},
   "outputs": [
    {
     "name": "stdout",
     "output_type": "stream",
     "text": [
      "Requirement already satisfied: tqdm in /Users/mark/opt/anaconda3/lib/python3.7/site-packages (4.36.1)\r\n"
     ]
    }
   ],
   "source": [
    "!pip install tqdm"
   ]
  },
  {
   "cell_type": "code",
   "execution_count": 162,
   "metadata": {},
   "outputs": [],
   "source": [
    "df = create_base_df()"
   ]
  },
  {
   "cell_type": "code",
   "execution_count": null,
   "metadata": {},
   "outputs": [
    {
     "name": "stderr",
     "output_type": "stream",
     "text": [
      "\n",
      "\n",
      "  0%|          | 0/38976 [00:00<?, ?it/s]\u001b[A\u001b[A/Users/mark/opt/anaconda3/lib/python3.7/site-packages/ipykernel_launcher.py:26: FutureWarning: Sorting because non-concatenation axis is not aligned. A future version\n",
      "of pandas will change to not sort by default.\n",
      "\n",
      "To accept the future behavior, pass 'sort=False'.\n",
      "\n",
      "To retain the current behavior and silence the warning, pass 'sort=True'.\n",
      "\n",
      "\n",
      "\n",
      "  0%|          | 4/38976 [00:00<19:04, 34.05it/s]\u001b[A\u001b[A"
     ]
    },
    {
     "name": "stdout",
     "output_type": "stream",
     "text": [
      "14401\n",
      "28801\n",
      "43201\n",
      "57601\n",
      "72001\n",
      "86401\n",
      "100801\n"
     ]
    },
    {
     "name": "stderr",
     "output_type": "stream",
     "text": [
      "\n",
      "\n",
      "  0%|          | 8/38976 [00:00<19:33, 33.20it/s]\u001b[A\u001b[A\n",
      "\n",
      "  0%|          | 11/38976 [00:00<21:05, 30.80it/s]\u001b[A\u001b[A"
     ]
    },
    {
     "name": "stdout",
     "output_type": "stream",
     "text": [
      "115201\n",
      "129601\n",
      "144001\n",
      "158401\n",
      "172801\n",
      "187201\n"
     ]
    },
    {
     "name": "stderr",
     "output_type": "stream",
     "text": [
      "\n",
      "\n",
      "  0%|          | 14/38976 [00:00<22:55, 28.32it/s]\u001b[A\u001b[A\n",
      "\n",
      "  0%|          | 17/38976 [00:00<23:43, 27.37it/s]\u001b[A\u001b[A"
     ]
    },
    {
     "name": "stdout",
     "output_type": "stream",
     "text": [
      "201601\n",
      "216001\n",
      "230401\n",
      "244801\n",
      "259201\n",
      "273601\n"
     ]
    },
    {
     "name": "stderr",
     "output_type": "stream",
     "text": [
      "\n",
      "\n",
      "  0%|          | 20/38976 [00:00<24:32, 26.46it/s]\u001b[A\u001b[A\n",
      "\n",
      "  0%|          | 23/38976 [00:00<26:04, 24.90it/s]\u001b[A\u001b[A"
     ]
    },
    {
     "name": "stdout",
     "output_type": "stream",
     "text": [
      "288001\n",
      "302401\n",
      "316801\n",
      "331201\n",
      "345601\n"
     ]
    },
    {
     "name": "stderr",
     "output_type": "stream",
     "text": [
      "\n",
      "\n",
      "  0%|          | 26/38976 [00:01<27:31, 23.59it/s]\u001b[A\u001b[A"
     ]
    },
    {
     "name": "stdout",
     "output_type": "stream",
     "text": [
      "360001\n",
      "374401\n",
      "387721\n",
      "402121\n"
     ]
    },
    {
     "name": "stderr",
     "output_type": "stream",
     "text": [
      "\n",
      "\n",
      "  0%|          | 29/38976 [00:01<33:15, 19.52it/s]\u001b[A\u001b[A\n",
      "\n",
      "  0%|          | 31/38976 [00:01<35:09, 18.46it/s]\u001b[A\u001b[A"
     ]
    },
    {
     "name": "stdout",
     "output_type": "stream",
     "text": [
      "416521\n",
      "430921\n",
      "445321\n",
      "459721\n"
     ]
    },
    {
     "name": "stderr",
     "output_type": "stream",
     "text": [
      "\n",
      "\n",
      "  0%|          | 33/38976 [00:01<39:00, 16.64it/s]\u001b[A\u001b[A\n",
      "\n",
      "  0%|          | 35/38976 [00:01<42:19, 15.34it/s]\u001b[A\u001b[A"
     ]
    },
    {
     "name": "stdout",
     "output_type": "stream",
     "text": [
      "474121\n",
      "488521\n",
      "502921\n"
     ]
    },
    {
     "name": "stderr",
     "output_type": "stream",
     "text": [
      "\n",
      "\n",
      "  0%|          | 37/38976 [00:01<44:21, 14.63it/s]\u001b[A\u001b[A"
     ]
    },
    {
     "name": "stdout",
     "output_type": "stream",
     "text": [
      "516241\n",
      "530641\n",
      "545041\n"
     ]
    },
    {
     "name": "stderr",
     "output_type": "stream",
     "text": [
      "\n",
      "\n",
      "  0%|          | 39/38976 [00:01<45:59, 14.11it/s]\u001b[A\u001b[A\n",
      "\n",
      "  0%|          | 41/38976 [00:02<48:39, 13.34it/s]\u001b[A\u001b[A"
     ]
    },
    {
     "name": "stdout",
     "output_type": "stream",
     "text": [
      "559441\n",
      "573841\n",
      "588241\n"
     ]
    },
    {
     "name": "stderr",
     "output_type": "stream",
     "text": [
      "\n",
      "\n",
      "  0%|          | 43/38976 [00:02<50:42, 12.80it/s]\u001b[A\u001b[A"
     ]
    },
    {
     "name": "stdout",
     "output_type": "stream",
     "text": [
      "602641\n",
      "617041\n",
      "631441\n"
     ]
    },
    {
     "name": "stderr",
     "output_type": "stream",
     "text": [
      "\n",
      "\n",
      "  0%|          | 45/38976 [00:02<51:34, 12.58it/s]\u001b[A\u001b[A\n",
      "\n",
      "  0%|          | 47/38976 [00:02<53:34, 12.11it/s]\u001b[A\u001b[A"
     ]
    },
    {
     "name": "stdout",
     "output_type": "stream",
     "text": [
      "645841\n",
      "660241\n",
      "674641\n"
     ]
    },
    {
     "name": "stderr",
     "output_type": "stream",
     "text": [
      "\n",
      "\n",
      "  0%|          | 49/38976 [00:02<55:06, 11.77it/s]\u001b[A\u001b[A"
     ]
    },
    {
     "name": "stdout",
     "output_type": "stream",
     "text": [
      "689041\n",
      "703441\n",
      "717841\n"
     ]
    },
    {
     "name": "stderr",
     "output_type": "stream",
     "text": [
      "\n",
      "\n",
      "  0%|          | 51/38976 [00:02<55:56, 11.60it/s]\u001b[A\u001b[A\n",
      "\n",
      "  0%|          | 53/38976 [00:03<57:43, 11.24it/s]\u001b[A\u001b[A"
     ]
    },
    {
     "name": "stdout",
     "output_type": "stream",
     "text": [
      "731341\n",
      "745741\n",
      "760141\n"
     ]
    },
    {
     "name": "stderr",
     "output_type": "stream",
     "text": [
      "\n",
      "\n",
      "  0%|          | 55/38976 [00:03<58:02, 11.18it/s]\u001b[A\u001b[A"
     ]
    },
    {
     "name": "stdout",
     "output_type": "stream",
     "text": [
      "774541\n",
      "788941\n",
      "803341\n"
     ]
    },
    {
     "name": "stderr",
     "output_type": "stream",
     "text": [
      "\n",
      "\n",
      "  0%|          | 57/38976 [00:03<59:01, 10.99it/s]\u001b[A\u001b[A\n",
      "\n",
      "  0%|          | 59/38976 [00:03<1:00:03, 10.80it/s]\u001b[A\u001b[A"
     ]
    },
    {
     "name": "stdout",
     "output_type": "stream",
     "text": [
      "817741\n",
      "832141\n",
      "846541\n"
     ]
    },
    {
     "name": "stderr",
     "output_type": "stream",
     "text": [
      "\n",
      "\n",
      "  0%|          | 61/38976 [00:03<1:01:16, 10.58it/s]\u001b[A\u001b[A"
     ]
    },
    {
     "name": "stdout",
     "output_type": "stream",
     "text": [
      "860941\n",
      "875341\n",
      "889741\n"
     ]
    },
    {
     "name": "stderr",
     "output_type": "stream",
     "text": [
      "\n",
      "\n",
      "  0%|          | 63/38976 [00:04<1:02:32, 10.37it/s]\u001b[A\u001b[A"
     ]
    },
    {
     "name": "stdout",
     "output_type": "stream",
     "text": [
      "904141\n",
      "918541\n"
     ]
    },
    {
     "name": "stderr",
     "output_type": "stream",
     "text": [
      "\n",
      "\n",
      "  0%|          | 65/38976 [00:04<1:05:22,  9.92it/s]\u001b[A\u001b[A\n",
      "\n",
      "  0%|          | 66/38976 [00:04<1:08:42,  9.44it/s]\u001b[A\u001b[A"
     ]
    },
    {
     "name": "stdout",
     "output_type": "stream",
     "text": [
      "932941\n",
      "946441\n"
     ]
    },
    {
     "name": "stderr",
     "output_type": "stream",
     "text": [
      "\n",
      "\n",
      "  0%|          | 67/38976 [00:04<1:10:58,  9.14it/s]\u001b[A\u001b[A\n",
      "\n",
      "  0%|          | 68/38976 [00:04<1:12:46,  8.91it/s]\u001b[A\u001b[A"
     ]
    },
    {
     "name": "stdout",
     "output_type": "stream",
     "text": [
      "960841\n",
      "975241\n"
     ]
    },
    {
     "name": "stderr",
     "output_type": "stream",
     "text": [
      "\n",
      "\n",
      "  0%|          | 69/38976 [00:04<1:15:14,  8.62it/s]\u001b[A\u001b[A\n",
      "\n",
      "  0%|          | 70/38976 [00:04<1:17:30,  8.37it/s]\u001b[A\u001b[A"
     ]
    },
    {
     "name": "stdout",
     "output_type": "stream",
     "text": [
      "989641\n",
      "1004041\n"
     ]
    },
    {
     "name": "stderr",
     "output_type": "stream",
     "text": [
      "\n",
      "\n",
      "  0%|          | 71/38976 [00:05<1:18:07,  8.30it/s]\u001b[A\u001b[A\n",
      "\n",
      "  0%|          | 72/38976 [00:05<1:20:52,  8.02it/s]\u001b[A\u001b[A"
     ]
    },
    {
     "name": "stdout",
     "output_type": "stream",
     "text": [
      "1018441\n",
      "1032841\n"
     ]
    },
    {
     "name": "stderr",
     "output_type": "stream",
     "text": [
      "\n",
      "\n",
      "  0%|          | 73/38976 [00:05<1:22:20,  7.87it/s]\u001b[A\u001b[A\n",
      "\n",
      "  0%|          | 74/38976 [00:05<1:24:24,  7.68it/s]\u001b[A\u001b[A"
     ]
    },
    {
     "name": "stdout",
     "output_type": "stream",
     "text": [
      "1047241\n",
      "1060561\n"
     ]
    },
    {
     "name": "stderr",
     "output_type": "stream",
     "text": [
      "\n",
      "\n",
      "  0%|          | 75/38976 [00:05<1:28:12,  7.35it/s]\u001b[A\u001b[A\n",
      "\n",
      "  0%|          | 76/38976 [00:05<1:28:32,  7.32it/s]\u001b[A\u001b[A"
     ]
    },
    {
     "name": "stdout",
     "output_type": "stream",
     "text": [
      "1074961\n",
      "1089361\n"
     ]
    },
    {
     "name": "stderr",
     "output_type": "stream",
     "text": [
      "\n",
      "\n",
      "  0%|          | 77/38976 [00:05<1:28:49,  7.30it/s]\u001b[A\u001b[A\n",
      "\n",
      "  0%|          | 78/38976 [00:06<1:28:39,  7.31it/s]\u001b[A\u001b[A"
     ]
    },
    {
     "name": "stdout",
     "output_type": "stream",
     "text": [
      "1103761\n",
      "1117261\n"
     ]
    },
    {
     "name": "stderr",
     "output_type": "stream",
     "text": [
      "\n",
      "\n",
      "  0%|          | 79/38976 [00:06<1:31:26,  7.09it/s]\u001b[A\u001b[A\n",
      "\n",
      "  0%|          | 80/38976 [00:06<1:32:47,  6.99it/s]\u001b[A\u001b[A"
     ]
    },
    {
     "name": "stdout",
     "output_type": "stream",
     "text": [
      "1131661\n",
      "1146061\n"
     ]
    },
    {
     "name": "stderr",
     "output_type": "stream",
     "text": [
      "\n",
      "\n",
      "  0%|          | 81/38976 [00:06<1:32:52,  6.98it/s]\u001b[A\u001b[A\n",
      "\n",
      "  0%|          | 82/38976 [00:06<1:35:00,  6.82it/s]\u001b[A\u001b[A"
     ]
    },
    {
     "name": "stdout",
     "output_type": "stream",
     "text": [
      "1160461\n",
      "1174861\n"
     ]
    },
    {
     "name": "stderr",
     "output_type": "stream",
     "text": [
      "\n",
      "\n",
      "  0%|          | 83/38976 [00:06<1:36:02,  6.75it/s]\u001b[A\u001b[A\n",
      "\n",
      "  0%|          | 84/38976 [00:06<1:36:22,  6.73it/s]\u001b[A\u001b[A"
     ]
    },
    {
     "name": "stdout",
     "output_type": "stream",
     "text": [
      "1189261\n",
      "1203661\n"
     ]
    },
    {
     "name": "stderr",
     "output_type": "stream",
     "text": [
      "\n",
      "\n",
      "  0%|          | 85/38976 [00:07<1:35:16,  6.80it/s]\u001b[A\u001b[A\n",
      "\n",
      "  0%|          | 86/38976 [00:07<1:35:04,  6.82it/s]\u001b[A\u001b[A"
     ]
    },
    {
     "name": "stdout",
     "output_type": "stream",
     "text": [
      "1218061\n",
      "1232461\n"
     ]
    },
    {
     "name": "stderr",
     "output_type": "stream",
     "text": [
      "\n",
      "\n",
      "  0%|          | 87/38976 [00:07<1:34:35,  6.85it/s]\u001b[A\u001b[A\n",
      "\n",
      "  0%|          | 88/38976 [00:07<1:34:57,  6.82it/s]\u001b[A\u001b[A"
     ]
    },
    {
     "name": "stdout",
     "output_type": "stream",
     "text": [
      "1246861\n",
      "1261261\n"
     ]
    },
    {
     "name": "stderr",
     "output_type": "stream",
     "text": [
      "\n",
      "\n",
      "  0%|          | 89/38976 [00:07<1:35:18,  6.80it/s]\u001b[A\u001b[A\n",
      "\n",
      "  0%|          | 90/38976 [00:07<1:34:52,  6.83it/s]\u001b[A\u001b[A"
     ]
    },
    {
     "name": "stdout",
     "output_type": "stream",
     "text": [
      "1275661\n",
      "1290061\n"
     ]
    },
    {
     "name": "stderr",
     "output_type": "stream",
     "text": [
      "\n",
      "\n",
      "  0%|          | 91/38976 [00:07<1:35:52,  6.76it/s]\u001b[A\u001b[A\n",
      "\n",
      "  0%|          | 92/38976 [00:08<1:37:15,  6.66it/s]\u001b[A\u001b[A"
     ]
    },
    {
     "name": "stdout",
     "output_type": "stream",
     "text": [
      "1304461\n",
      "1318861\n"
     ]
    },
    {
     "name": "stderr",
     "output_type": "stream",
     "text": [
      "\n",
      "\n",
      "  0%|          | 93/38976 [00:08<1:38:59,  6.55it/s]\u001b[A\u001b[A\n",
      "\n",
      "  0%|          | 94/38976 [00:08<1:40:30,  6.45it/s]\u001b[A\u001b[A"
     ]
    },
    {
     "name": "stdout",
     "output_type": "stream",
     "text": [
      "1333261\n",
      "1347661\n"
     ]
    },
    {
     "name": "stderr",
     "output_type": "stream",
     "text": [
      "\n",
      "\n",
      "  0%|          | 95/38976 [00:08<1:40:55,  6.42it/s]\u001b[A\u001b[A\n",
      "\n",
      "  0%|          | 96/38976 [00:08<1:42:26,  6.33it/s]\u001b[A\u001b[A"
     ]
    },
    {
     "name": "stdout",
     "output_type": "stream",
     "text": [
      "1362061\n",
      "1376461\n"
     ]
    },
    {
     "name": "stderr",
     "output_type": "stream",
     "text": [
      "\n",
      "\n",
      "  0%|          | 97/38976 [00:08<1:44:00,  6.23it/s]\u001b[A\u001b[A\n",
      "\n",
      "  0%|          | 98/38976 [00:09<1:44:39,  6.19it/s]\u001b[A\u001b[A"
     ]
    },
    {
     "name": "stdout",
     "output_type": "stream",
     "text": [
      "1390861\n",
      "1405261\n"
     ]
    },
    {
     "name": "stderr",
     "output_type": "stream",
     "text": [
      "\n",
      "\n",
      "  0%|          | 99/38976 [00:09<1:46:07,  6.11it/s]\u001b[A\u001b[A\n",
      "\n",
      "  0%|          | 100/38976 [00:09<1:46:57,  6.06it/s]\u001b[A\u001b[A"
     ]
    },
    {
     "name": "stdout",
     "output_type": "stream",
     "text": [
      "1419661\n",
      "1434061\n"
     ]
    },
    {
     "name": "stderr",
     "output_type": "stream",
     "text": [
      "\n",
      "\n",
      "  0%|          | 101/38976 [00:09<1:49:01,  5.94it/s]\u001b[A\u001b[A\n",
      "\n",
      "  0%|          | 102/38976 [00:09<1:49:48,  5.90it/s]\u001b[A\u001b[A"
     ]
    },
    {
     "name": "stdout",
     "output_type": "stream",
     "text": [
      "1448461\n",
      "1462861\n"
     ]
    },
    {
     "name": "stderr",
     "output_type": "stream",
     "text": [
      "\n",
      "\n",
      "  0%|          | 103/38976 [00:09<1:50:53,  5.84it/s]\u001b[A\u001b[A\n",
      "\n",
      "  0%|          | 104/38976 [00:10<1:51:50,  5.79it/s]\u001b[A\u001b[A"
     ]
    },
    {
     "name": "stdout",
     "output_type": "stream",
     "text": [
      "1477261\n",
      "1491661\n"
     ]
    },
    {
     "name": "stderr",
     "output_type": "stream",
     "text": [
      "\n",
      "\n",
      "  0%|          | 105/38976 [00:10<1:52:08,  5.78it/s]\u001b[A\u001b[A\n",
      "\n",
      "  0%|          | 106/38976 [00:10<1:51:49,  5.79it/s]\u001b[A\u001b[A"
     ]
    },
    {
     "name": "stdout",
     "output_type": "stream",
     "text": [
      "1506061\n",
      "1520461\n"
     ]
    },
    {
     "name": "stderr",
     "output_type": "stream",
     "text": [
      "\n",
      "\n",
      "  0%|          | 107/38976 [00:10<1:53:39,  5.70it/s]\u001b[A\u001b[A\n",
      "\n",
      "  0%|          | 108/38976 [00:10<1:53:55,  5.69it/s]\u001b[A\u001b[A"
     ]
    },
    {
     "name": "stdout",
     "output_type": "stream",
     "text": [
      "1534861\n",
      "1549261\n"
     ]
    },
    {
     "name": "stderr",
     "output_type": "stream",
     "text": [
      "\n",
      "\n",
      "  0%|          | 109/38976 [00:11<1:55:41,  5.60it/s]\u001b[A\u001b[A\n",
      "\n",
      "  0%|          | 110/38976 [00:11<1:56:36,  5.56it/s]\u001b[A\u001b[A"
     ]
    },
    {
     "name": "stdout",
     "output_type": "stream",
     "text": [
      "1563661\n",
      "1578061\n"
     ]
    },
    {
     "name": "stderr",
     "output_type": "stream",
     "text": [
      "\n",
      "\n",
      "  0%|          | 111/38976 [00:11<1:58:01,  5.49it/s]\u001b[A\u001b[A\n",
      "\n",
      "  0%|          | 112/38976 [00:11<1:58:47,  5.45it/s]\u001b[A\u001b[A"
     ]
    },
    {
     "name": "stdout",
     "output_type": "stream",
     "text": [
      "1592461\n",
      "1606861\n"
     ]
    },
    {
     "name": "stderr",
     "output_type": "stream",
     "text": [
      "\n",
      "\n",
      "  0%|          | 113/38976 [00:11<1:59:13,  5.43it/s]\u001b[A\u001b[A\n",
      "\n",
      "  0%|          | 114/38976 [00:11<2:00:30,  5.37it/s]\u001b[A\u001b[A"
     ]
    },
    {
     "name": "stdout",
     "output_type": "stream",
     "text": [
      "1621261\n",
      "1635661\n"
     ]
    },
    {
     "name": "stderr",
     "output_type": "stream",
     "text": [
      "\n",
      "\n",
      "  0%|          | 115/38976 [00:12<1:59:49,  5.41it/s]\u001b[A\u001b[A\n",
      "\n",
      "  0%|          | 116/38976 [00:12<2:01:41,  5.32it/s]\u001b[A\u001b[A"
     ]
    },
    {
     "name": "stdout",
     "output_type": "stream",
     "text": [
      "1650061\n",
      "1664461\n"
     ]
    },
    {
     "name": "stderr",
     "output_type": "stream",
     "text": [
      "\n",
      "\n",
      "  0%|          | 117/38976 [00:12<2:03:45,  5.23it/s]\u001b[A\u001b[A\n",
      "\n",
      "  0%|          | 118/38976 [00:12<2:04:54,  5.19it/s]\u001b[A\u001b[A"
     ]
    },
    {
     "name": "stdout",
     "output_type": "stream",
     "text": [
      "1678861\n",
      "1693261\n"
     ]
    },
    {
     "name": "stderr",
     "output_type": "stream",
     "text": [
      "\n",
      "\n",
      "  0%|          | 119/38976 [00:12<2:05:08,  5.18it/s]\u001b[A\u001b[A"
     ]
    },
    {
     "name": "stdout",
     "output_type": "stream",
     "text": [
      "1707661\n",
      "1722061\n"
     ]
    },
    {
     "name": "stderr",
     "output_type": "stream",
     "text": [
      "\n",
      "\n",
      "  0%|          | 120/38976 [00:13<2:09:21,  5.01it/s]\u001b[A\u001b[A\n",
      "\n",
      "  0%|          | 121/38976 [00:13<2:08:57,  5.02it/s]\u001b[A\u001b[A"
     ]
    },
    {
     "name": "stdout",
     "output_type": "stream",
     "text": [
      "1736461\n",
      "1750861\n"
     ]
    },
    {
     "name": "stderr",
     "output_type": "stream",
     "text": [
      "\n",
      "\n",
      "  0%|          | 122/38976 [00:13<2:10:35,  4.96it/s]\u001b[A\u001b[A\n",
      "\n",
      "  0%|          | 123/38976 [00:13<2:11:48,  4.91it/s]\u001b[A\u001b[A"
     ]
    },
    {
     "name": "stdout",
     "output_type": "stream",
     "text": [
      "1765261\n",
      "1779661\n"
     ]
    },
    {
     "name": "stderr",
     "output_type": "stream",
     "text": [
      "\n",
      "\n",
      "  0%|          | 124/38976 [00:13<2:11:57,  4.91it/s]\u001b[A\u001b[A\n",
      "\n",
      "  0%|          | 125/38976 [00:14<2:13:16,  4.86it/s]\u001b[A\u001b[A"
     ]
    },
    {
     "name": "stdout",
     "output_type": "stream",
     "text": [
      "1794061\n",
      "1808461\n"
     ]
    },
    {
     "name": "stderr",
     "output_type": "stream",
     "text": [
      "\n",
      "\n",
      "  0%|          | 126/38976 [00:14<2:14:04,  4.83it/s]\u001b[A\u001b[A\n",
      "\n",
      "  0%|          | 127/38976 [00:14<2:14:15,  4.82it/s]\u001b[A\u001b[A"
     ]
    },
    {
     "name": "stdout",
     "output_type": "stream",
     "text": [
      "1822861\n",
      "1837261\n"
     ]
    },
    {
     "name": "stderr",
     "output_type": "stream",
     "text": [
      "\n",
      "\n",
      "  0%|          | 128/38976 [00:14<2:16:39,  4.74it/s]\u001b[A\u001b[A\n",
      "\n",
      "  0%|          | 129/38976 [00:15<2:13:30,  4.85it/s]\u001b[A\u001b[A\n",
      "\n",
      "  0%|          | 130/38976 [00:15<2:10:05,  4.98it/s]\u001b[A\u001b[A"
     ]
    },
    {
     "name": "stdout",
     "output_type": "stream",
     "text": [
      "1851661\n",
      "1866061\n"
     ]
    },
    {
     "name": "stderr",
     "output_type": "stream",
     "text": [
      "\n",
      "\n",
      "  0%|          | 131/38976 [00:15<2:08:47,  5.03it/s]\u001b[A\u001b[A\n",
      "\n",
      "  0%|          | 132/38976 [00:15<2:08:15,  5.05it/s]\u001b[A\u001b[A"
     ]
    },
    {
     "name": "stdout",
     "output_type": "stream",
     "text": [
      "1880461\n",
      "1894861\n"
     ]
    },
    {
     "name": "stderr",
     "output_type": "stream",
     "text": [
      "\n",
      "\n",
      "  0%|          | 133/38976 [00:15<2:07:37,  5.07it/s]\u001b[A\u001b[A\n",
      "\n",
      "  0%|          | 134/38976 [00:15<2:05:40,  5.15it/s]\u001b[A\u001b[A"
     ]
    },
    {
     "name": "stdout",
     "output_type": "stream",
     "text": [
      "1909261\n",
      "1923661\n"
     ]
    },
    {
     "name": "stderr",
     "output_type": "stream",
     "text": [
      "\n",
      "\n",
      "  0%|          | 135/38976 [00:16<2:05:37,  5.15it/s]\u001b[A\u001b[A"
     ]
    },
    {
     "name": "stdout",
     "output_type": "stream",
     "text": [
      "1938061\n",
      "1952461\n"
     ]
    },
    {
     "name": "stderr",
     "output_type": "stream",
     "text": [
      "\n",
      "\n",
      "  0%|          | 136/38976 [00:16<2:06:47,  5.11it/s]\u001b[A\u001b[A\n",
      "\n",
      "  0%|          | 137/38976 [00:16<2:07:51,  5.06it/s]\u001b[A\u001b[A"
     ]
    },
    {
     "name": "stdout",
     "output_type": "stream",
     "text": [
      "1966861\n",
      "1981261\n"
     ]
    },
    {
     "name": "stderr",
     "output_type": "stream",
     "text": [
      "\n",
      "\n",
      "  0%|          | 138/38976 [00:16<2:11:41,  4.92it/s]\u001b[A\u001b[A\n",
      "\n",
      "  0%|          | 139/38976 [00:16<2:12:27,  4.89it/s]\u001b[A\u001b[A"
     ]
    },
    {
     "name": "stdout",
     "output_type": "stream",
     "text": [
      "1995661\n",
      "2010061\n"
     ]
    },
    {
     "name": "stderr",
     "output_type": "stream",
     "text": [
      "\n",
      "\n",
      "  0%|          | 140/38976 [00:17<2:13:48,  4.84it/s]\u001b[A\u001b[A\n",
      "\n",
      "  0%|          | 141/38976 [00:17<2:14:55,  4.80it/s]\u001b[A\u001b[A"
     ]
    },
    {
     "name": "stdout",
     "output_type": "stream",
     "text": [
      "2024461\n",
      "2038861\n"
     ]
    },
    {
     "name": "stderr",
     "output_type": "stream",
     "text": [
      "\n",
      "\n",
      "  0%|          | 142/38976 [00:17<2:14:35,  4.81it/s]\u001b[A\u001b[A\n",
      "\n",
      "  0%|          | 143/38976 [00:17<2:15:31,  4.78it/s]\u001b[A\u001b[A"
     ]
    },
    {
     "name": "stdout",
     "output_type": "stream",
     "text": [
      "2053261\n",
      "2067661\n"
     ]
    },
    {
     "name": "stderr",
     "output_type": "stream",
     "text": [
      "\n",
      "\n",
      "  0%|          | 144/38976 [00:18<2:17:40,  4.70it/s]\u001b[A\u001b[A\n",
      "\n",
      "  0%|          | 145/38976 [00:18<2:18:18,  4.68it/s]\u001b[A\u001b[A"
     ]
    },
    {
     "name": "stdout",
     "output_type": "stream",
     "text": [
      "2082061\n",
      "2096461\n"
     ]
    },
    {
     "name": "stderr",
     "output_type": "stream",
     "text": [
      "\n",
      "\n",
      "  0%|          | 146/38976 [00:18<2:16:32,  4.74it/s]\u001b[A\u001b[A\n",
      "\n",
      "  0%|          | 147/38976 [00:18<2:18:03,  4.69it/s]\u001b[A\u001b[A"
     ]
    },
    {
     "name": "stdout",
     "output_type": "stream",
     "text": [
      "2110861\n",
      "2125261\n"
     ]
    },
    {
     "name": "stderr",
     "output_type": "stream",
     "text": [
      "\n",
      "\n",
      "  0%|          | 148/38976 [00:18<2:18:31,  4.67it/s]\u001b[A\u001b[A\n",
      "\n",
      "  0%|          | 149/38976 [00:19<2:19:41,  4.63it/s]\u001b[A\u001b[A"
     ]
    },
    {
     "name": "stdout",
     "output_type": "stream",
     "text": [
      "2139661\n",
      "2154061\n"
     ]
    },
    {
     "name": "stderr",
     "output_type": "stream",
     "text": [
      "\n",
      "\n",
      "  0%|          | 150/38976 [00:19<2:19:25,  4.64it/s]\u001b[A\u001b[A\n",
      "\n",
      "  0%|          | 151/38976 [00:19<2:21:33,  4.57it/s]\u001b[A\u001b[A"
     ]
    },
    {
     "name": "stdout",
     "output_type": "stream",
     "text": [
      "2168461\n",
      "2182861\n"
     ]
    },
    {
     "name": "stderr",
     "output_type": "stream",
     "text": [
      "\n",
      "\n",
      "  0%|          | 152/38976 [00:19<2:21:17,  4.58it/s]\u001b[A\u001b[A\n",
      "\n",
      "  0%|          | 153/38976 [00:20<2:21:25,  4.57it/s]\u001b[A\u001b[A"
     ]
    },
    {
     "name": "stdout",
     "output_type": "stream",
     "text": [
      "2197261\n"
     ]
    },
    {
     "name": "stderr",
     "output_type": "stream",
     "text": [
      "\n",
      "\n",
      "  0%|          | 154/38976 [00:20<2:23:37,  4.51it/s]\u001b[A\u001b[A"
     ]
    },
    {
     "name": "stdout",
     "output_type": "stream",
     "text": [
      "2211661\n"
     ]
    },
    {
     "name": "stderr",
     "output_type": "stream",
     "text": [
      "\n",
      "\n",
      "  0%|          | 155/38976 [00:20<2:25:14,  4.45it/s]\u001b[A\u001b[A"
     ]
    },
    {
     "name": "stdout",
     "output_type": "stream",
     "text": [
      "2226061\n"
     ]
    },
    {
     "name": "stderr",
     "output_type": "stream",
     "text": [
      "\n",
      "\n",
      "  0%|          | 156/38976 [00:20<2:27:43,  4.38it/s]\u001b[A\u001b[A"
     ]
    },
    {
     "name": "stdout",
     "output_type": "stream",
     "text": [
      "2240461\n"
     ]
    },
    {
     "name": "stderr",
     "output_type": "stream",
     "text": [
      "\n",
      "\n",
      "  0%|          | 157/38976 [00:20<2:27:44,  4.38it/s]\u001b[A\u001b[A"
     ]
    },
    {
     "name": "stdout",
     "output_type": "stream",
     "text": [
      "2254861\n"
     ]
    },
    {
     "name": "stderr",
     "output_type": "stream",
     "text": [
      "\n",
      "\n",
      "  0%|          | 158/38976 [00:21<2:28:01,  4.37it/s]\u001b[A\u001b[A"
     ]
    },
    {
     "name": "stdout",
     "output_type": "stream",
     "text": [
      "2269261\n"
     ]
    },
    {
     "name": "stderr",
     "output_type": "stream",
     "text": [
      "\n",
      "\n",
      "  0%|          | 159/38976 [00:21<2:28:52,  4.35it/s]\u001b[A\u001b[A"
     ]
    },
    {
     "name": "stdout",
     "output_type": "stream",
     "text": [
      "2282761\n"
     ]
    },
    {
     "name": "stderr",
     "output_type": "stream",
     "text": [
      "\n",
      "\n",
      "  0%|          | 160/38976 [00:21<2:30:50,  4.29it/s]\u001b[A\u001b[A"
     ]
    },
    {
     "name": "stdout",
     "output_type": "stream",
     "text": [
      "2297161\n"
     ]
    },
    {
     "name": "stderr",
     "output_type": "stream",
     "text": [
      "\n",
      "\n",
      "  0%|          | 161/38976 [00:21<2:30:54,  4.29it/s]\u001b[A\u001b[A"
     ]
    },
    {
     "name": "stdout",
     "output_type": "stream",
     "text": [
      "2311561\n"
     ]
    },
    {
     "name": "stderr",
     "output_type": "stream",
     "text": [
      "\n",
      "\n",
      "  0%|          | 162/38976 [00:22<2:32:37,  4.24it/s]\u001b[A\u001b[A"
     ]
    },
    {
     "name": "stdout",
     "output_type": "stream",
     "text": [
      "2325961\n"
     ]
    },
    {
     "name": "stderr",
     "output_type": "stream",
     "text": [
      "\n",
      "\n",
      "  0%|          | 163/38976 [00:22<2:34:16,  4.19it/s]\u001b[A\u001b[A"
     ]
    },
    {
     "name": "stdout",
     "output_type": "stream",
     "text": [
      "2340361\n"
     ]
    },
    {
     "name": "stderr",
     "output_type": "stream",
     "text": [
      "\n",
      "\n",
      "  0%|          | 164/38976 [00:22<2:33:53,  4.20it/s]\u001b[A\u001b[A"
     ]
    },
    {
     "name": "stdout",
     "output_type": "stream",
     "text": [
      "2354761\n"
     ]
    },
    {
     "name": "stderr",
     "output_type": "stream",
     "text": [
      "\n",
      "\n",
      "  0%|          | 165/38976 [00:22<2:35:42,  4.15it/s]\u001b[A\u001b[A"
     ]
    },
    {
     "name": "stdout",
     "output_type": "stream",
     "text": [
      "2369161\n"
     ]
    },
    {
     "name": "stderr",
     "output_type": "stream",
     "text": [
      "\n",
      "\n",
      "  0%|          | 166/38976 [00:23<2:36:17,  4.14it/s]\u001b[A\u001b[A"
     ]
    },
    {
     "name": "stdout",
     "output_type": "stream",
     "text": [
      "2383561\n"
     ]
    },
    {
     "name": "stderr",
     "output_type": "stream",
     "text": [
      "\n",
      "\n",
      "  0%|          | 167/38976 [00:23<2:37:10,  4.12it/s]\u001b[A\u001b[A"
     ]
    },
    {
     "name": "stdout",
     "output_type": "stream",
     "text": [
      "2397961\n"
     ]
    },
    {
     "name": "stderr",
     "output_type": "stream",
     "text": [
      "\n",
      "\n",
      "  0%|          | 168/38976 [00:23<2:38:49,  4.07it/s]\u001b[A\u001b[A"
     ]
    },
    {
     "name": "stdout",
     "output_type": "stream",
     "text": [
      "2412361\n",
      "2426761\n"
     ]
    },
    {
     "name": "stderr",
     "output_type": "stream",
     "text": [
      "\n",
      "\n",
      "  0%|          | 169/38976 [00:23<2:35:10,  4.17it/s]\u001b[A\u001b[A\n",
      "\n",
      "  0%|          | 170/38976 [00:24<2:36:24,  4.13it/s]\u001b[A\u001b[A"
     ]
    },
    {
     "name": "stdout",
     "output_type": "stream",
     "text": [
      "2441161\n"
     ]
    },
    {
     "name": "stderr",
     "output_type": "stream",
     "text": [
      "\n",
      "\n",
      "  0%|          | 171/38976 [00:24<2:37:49,  4.10it/s]\u001b[A\u001b[A"
     ]
    },
    {
     "name": "stdout",
     "output_type": "stream",
     "text": [
      "2455561\n"
     ]
    },
    {
     "name": "stderr",
     "output_type": "stream",
     "text": [
      "\n",
      "\n",
      "  0%|          | 172/38976 [00:24<2:37:52,  4.10it/s]\u001b[A\u001b[A"
     ]
    },
    {
     "name": "stdout",
     "output_type": "stream",
     "text": [
      "2469961\n"
     ]
    },
    {
     "name": "stderr",
     "output_type": "stream",
     "text": [
      "\n",
      "\n",
      "  0%|          | 173/38976 [00:24<2:39:53,  4.04it/s]\u001b[A\u001b[A"
     ]
    },
    {
     "name": "stdout",
     "output_type": "stream",
     "text": [
      "2484361\n"
     ]
    },
    {
     "name": "stderr",
     "output_type": "stream",
     "text": [
      "\n",
      "\n",
      "  0%|          | 174/38976 [00:25<2:41:45,  4.00it/s]\u001b[A\u001b[A"
     ]
    },
    {
     "name": "stdout",
     "output_type": "stream",
     "text": [
      "2498761\n"
     ]
    },
    {
     "name": "stderr",
     "output_type": "stream",
     "text": [
      "\n",
      "\n",
      "  0%|          | 175/38976 [00:25<2:43:18,  3.96it/s]\u001b[A\u001b[A"
     ]
    },
    {
     "name": "stdout",
     "output_type": "stream",
     "text": [
      "2513161\n"
     ]
    },
    {
     "name": "stderr",
     "output_type": "stream",
     "text": [
      "\n",
      "\n",
      "  0%|          | 176/38976 [00:25<2:43:54,  3.95it/s]\u001b[A\u001b[A"
     ]
    },
    {
     "name": "stdout",
     "output_type": "stream",
     "text": [
      "2527561\n"
     ]
    },
    {
     "name": "stderr",
     "output_type": "stream",
     "text": [
      "\n",
      "\n",
      "  0%|          | 177/38976 [00:25<2:45:13,  3.91it/s]\u001b[A\u001b[A"
     ]
    },
    {
     "name": "stdout",
     "output_type": "stream",
     "text": [
      "2541961\n"
     ]
    },
    {
     "name": "stderr",
     "output_type": "stream",
     "text": [
      "\n",
      "\n",
      "  0%|          | 178/38976 [00:26<2:48:28,  3.84it/s]\u001b[A\u001b[A"
     ]
    },
    {
     "name": "stdout",
     "output_type": "stream",
     "text": [
      "2556361\n"
     ]
    },
    {
     "name": "stderr",
     "output_type": "stream",
     "text": [
      "\n",
      "\n",
      "  0%|          | 179/38976 [00:26<2:49:26,  3.82it/s]\u001b[A\u001b[A"
     ]
    },
    {
     "name": "stdout",
     "output_type": "stream",
     "text": [
      "2570761\n"
     ]
    },
    {
     "name": "stderr",
     "output_type": "stream",
     "text": [
      "\n",
      "\n",
      "  0%|          | 180/38976 [00:26<2:46:52,  3.87it/s]\u001b[A\u001b[A"
     ]
    },
    {
     "name": "stdout",
     "output_type": "stream",
     "text": [
      "2585161\n"
     ]
    },
    {
     "name": "stderr",
     "output_type": "stream",
     "text": [
      "\n",
      "\n",
      "  0%|          | 181/38976 [00:26<2:46:06,  3.89it/s]\u001b[A\u001b[A"
     ]
    },
    {
     "name": "stdout",
     "output_type": "stream",
     "text": [
      "2599561\n"
     ]
    },
    {
     "name": "stderr",
     "output_type": "stream",
     "text": [
      "\n",
      "\n",
      "  0%|          | 182/38976 [00:27<2:46:52,  3.87it/s]\u001b[A\u001b[A"
     ]
    },
    {
     "name": "stdout",
     "output_type": "stream",
     "text": [
      "2613961\n"
     ]
    },
    {
     "name": "stderr",
     "output_type": "stream",
     "text": [
      "\n",
      "\n",
      "  0%|          | 183/38976 [00:27<2:47:09,  3.87it/s]\u001b[A\u001b[A"
     ]
    },
    {
     "name": "stdout",
     "output_type": "stream",
     "text": [
      "2628361\n"
     ]
    },
    {
     "name": "stderr",
     "output_type": "stream",
     "text": [
      "\n",
      "\n",
      "  0%|          | 184/38976 [00:27<2:48:24,  3.84it/s]\u001b[A\u001b[A"
     ]
    },
    {
     "name": "stdout",
     "output_type": "stream",
     "text": [
      "2642761\n"
     ]
    },
    {
     "name": "stderr",
     "output_type": "stream",
     "text": [
      "\n",
      "\n",
      "  0%|          | 185/38976 [00:27<2:47:21,  3.86it/s]\u001b[A\u001b[A"
     ]
    },
    {
     "name": "stdout",
     "output_type": "stream",
     "text": [
      "2656081\n"
     ]
    },
    {
     "name": "stderr",
     "output_type": "stream",
     "text": [
      "\n",
      "\n",
      "  0%|          | 186/38976 [00:28<2:48:33,  3.84it/s]\u001b[A\u001b[A"
     ]
    },
    {
     "name": "stdout",
     "output_type": "stream",
     "text": [
      "2670481\n"
     ]
    },
    {
     "name": "stderr",
     "output_type": "stream",
     "text": [
      "\n",
      "\n",
      "  0%|          | 187/38976 [00:28<2:49:11,  3.82it/s]\u001b[A\u001b[A"
     ]
    },
    {
     "name": "stdout",
     "output_type": "stream",
     "text": [
      "2684881\n"
     ]
    },
    {
     "name": "stderr",
     "output_type": "stream",
     "text": [
      "\n",
      "\n",
      "  0%|          | 188/38976 [00:28<2:50:35,  3.79it/s]\u001b[A\u001b[A"
     ]
    },
    {
     "name": "stdout",
     "output_type": "stream",
     "text": [
      "2699281\n"
     ]
    },
    {
     "name": "stderr",
     "output_type": "stream",
     "text": [
      "\n",
      "\n",
      "  0%|          | 189/38976 [00:29<2:54:02,  3.71it/s]\u001b[A\u001b[A"
     ]
    },
    {
     "name": "stdout",
     "output_type": "stream",
     "text": [
      "2713681\n"
     ]
    },
    {
     "name": "stderr",
     "output_type": "stream",
     "text": [
      "\n",
      "\n",
      "  0%|          | 190/38976 [00:29<2:56:27,  3.66it/s]\u001b[A\u001b[A"
     ]
    },
    {
     "name": "stdout",
     "output_type": "stream",
     "text": [
      "2728081\n"
     ]
    },
    {
     "name": "stderr",
     "output_type": "stream",
     "text": [
      "\n",
      "\n",
      "  0%|          | 191/38976 [00:29<2:56:24,  3.66it/s]\u001b[A\u001b[A"
     ]
    },
    {
     "name": "stdout",
     "output_type": "stream",
     "text": [
      "2742481\n"
     ]
    },
    {
     "name": "stderr",
     "output_type": "stream",
     "text": [
      "\n",
      "\n",
      "  0%|          | 192/38976 [00:29<2:57:25,  3.64it/s]\u001b[A\u001b[A"
     ]
    },
    {
     "name": "stdout",
     "output_type": "stream",
     "text": [
      "2756881\n"
     ]
    },
    {
     "name": "stderr",
     "output_type": "stream",
     "text": [
      "\n",
      "\n",
      "  0%|          | 193/38976 [00:30<2:57:14,  3.65it/s]\u001b[A\u001b[A"
     ]
    },
    {
     "name": "stdout",
     "output_type": "stream",
     "text": [
      "2771281\n"
     ]
    },
    {
     "name": "stderr",
     "output_type": "stream",
     "text": [
      "\n",
      "\n",
      "  0%|          | 194/38976 [00:30<2:57:56,  3.63it/s]\u001b[A\u001b[A"
     ]
    },
    {
     "name": "stdout",
     "output_type": "stream",
     "text": [
      "2785681\n"
     ]
    },
    {
     "name": "stderr",
     "output_type": "stream",
     "text": [
      "\n",
      "\n",
      "  1%|          | 195/38976 [00:30<2:58:55,  3.61it/s]\u001b[A\u001b[A"
     ]
    },
    {
     "name": "stdout",
     "output_type": "stream",
     "text": [
      "2800081\n"
     ]
    },
    {
     "name": "stderr",
     "output_type": "stream",
     "text": [
      "\n",
      "\n",
      "  1%|          | 196/38976 [00:30<2:59:42,  3.60it/s]\u001b[A\u001b[A"
     ]
    },
    {
     "name": "stdout",
     "output_type": "stream",
     "text": [
      "2814481\n"
     ]
    },
    {
     "name": "stderr",
     "output_type": "stream",
     "text": [
      "\n",
      "\n",
      "  1%|          | 197/38976 [00:31<3:00:32,  3.58it/s]\u001b[A\u001b[A"
     ]
    },
    {
     "name": "stdout",
     "output_type": "stream",
     "text": [
      "2828881\n"
     ]
    },
    {
     "name": "stderr",
     "output_type": "stream",
     "text": [
      "\n",
      "\n",
      "  1%|          | 198/38976 [00:31<3:00:49,  3.57it/s]\u001b[A\u001b[A"
     ]
    },
    {
     "name": "stdout",
     "output_type": "stream",
     "text": [
      "2843281\n"
     ]
    },
    {
     "name": "stderr",
     "output_type": "stream",
     "text": [
      "\n",
      "\n",
      "  1%|          | 199/38976 [00:31<3:15:43,  3.30it/s]\u001b[A\u001b[A"
     ]
    },
    {
     "name": "stdout",
     "output_type": "stream",
     "text": [
      "2857681\n"
     ]
    },
    {
     "name": "stderr",
     "output_type": "stream",
     "text": [
      "\n",
      "\n",
      "  1%|          | 200/38976 [00:32<3:10:39,  3.39it/s]\u001b[A\u001b[A"
     ]
    },
    {
     "name": "stdout",
     "output_type": "stream",
     "text": [
      "2872081\n"
     ]
    },
    {
     "name": "stderr",
     "output_type": "stream",
     "text": [
      "\n",
      "\n",
      "  1%|          | 201/38976 [00:32<3:08:54,  3.42it/s]\u001b[A\u001b[A"
     ]
    },
    {
     "name": "stdout",
     "output_type": "stream",
     "text": [
      "2886481\n"
     ]
    },
    {
     "name": "stderr",
     "output_type": "stream",
     "text": [
      "\n",
      "\n",
      "  1%|          | 202/38976 [00:32<3:07:33,  3.45it/s]\u001b[A\u001b[A"
     ]
    },
    {
     "name": "stdout",
     "output_type": "stream",
     "text": [
      "2900881\n"
     ]
    },
    {
     "name": "stderr",
     "output_type": "stream",
     "text": [
      "\n",
      "\n",
      "  1%|          | 203/38976 [00:33<3:07:27,  3.45it/s]\u001b[A\u001b[A"
     ]
    },
    {
     "name": "stdout",
     "output_type": "stream",
     "text": [
      "2915281\n"
     ]
    },
    {
     "name": "stderr",
     "output_type": "stream",
     "text": [
      "\n",
      "\n",
      "  1%|          | 204/38976 [00:33<3:08:29,  3.43it/s]\u001b[A\u001b[A"
     ]
    },
    {
     "name": "stdout",
     "output_type": "stream",
     "text": [
      "2929681\n"
     ]
    },
    {
     "name": "stderr",
     "output_type": "stream",
     "text": [
      "\n",
      "\n",
      "  1%|          | 205/38976 [00:33<3:10:24,  3.39it/s]\u001b[A\u001b[A"
     ]
    },
    {
     "name": "stdout",
     "output_type": "stream",
     "text": [
      "2944081\n"
     ]
    },
    {
     "name": "stderr",
     "output_type": "stream",
     "text": [
      "\n",
      "\n",
      "  1%|          | 206/38976 [00:33<3:10:20,  3.39it/s]\u001b[A\u001b[A"
     ]
    },
    {
     "name": "stdout",
     "output_type": "stream",
     "text": [
      "2958481\n"
     ]
    },
    {
     "name": "stderr",
     "output_type": "stream",
     "text": [
      "\n",
      "\n",
      "  1%|          | 207/38976 [00:34<3:09:50,  3.40it/s]\u001b[A\u001b[A"
     ]
    },
    {
     "name": "stdout",
     "output_type": "stream",
     "text": [
      "2972881\n"
     ]
    },
    {
     "name": "stderr",
     "output_type": "stream",
     "text": [
      "\n",
      "\n",
      "  1%|          | 208/38976 [00:34<3:12:14,  3.36it/s]\u001b[A\u001b[A"
     ]
    },
    {
     "name": "stdout",
     "output_type": "stream",
     "text": [
      "2987281\n"
     ]
    },
    {
     "name": "stderr",
     "output_type": "stream",
     "text": [
      "\n",
      "\n",
      "  1%|          | 209/38976 [00:34<3:10:19,  3.39it/s]\u001b[A\u001b[A"
     ]
    },
    {
     "name": "stdout",
     "output_type": "stream",
     "text": [
      "2997361\n"
     ]
    },
    {
     "name": "stderr",
     "output_type": "stream",
     "text": [
      "\n",
      "\n",
      "  1%|          | 210/38976 [00:35<3:10:03,  3.40it/s]\u001b[A\u001b[A"
     ]
    },
    {
     "name": "stdout",
     "output_type": "stream",
     "text": [
      "3011761\n"
     ]
    },
    {
     "name": "stderr",
     "output_type": "stream",
     "text": [
      "\n",
      "\n",
      "  1%|          | 211/38976 [00:35<3:04:48,  3.50it/s]\u001b[A\u001b[A"
     ]
    },
    {
     "name": "stdout",
     "output_type": "stream",
     "text": [
      "3015901\n"
     ]
    },
    {
     "name": "stderr",
     "output_type": "stream",
     "text": [
      "\n",
      "\n",
      "  1%|          | 212/38976 [00:35<3:07:20,  3.45it/s]\u001b[A\u001b[A"
     ]
    },
    {
     "name": "stdout",
     "output_type": "stream",
     "text": [
      "3030301\n"
     ]
    },
    {
     "name": "stderr",
     "output_type": "stream",
     "text": [
      "\n",
      "\n",
      "  1%|          | 213/38976 [00:35<3:08:19,  3.43it/s]\u001b[A\u001b[A"
     ]
    },
    {
     "name": "stdout",
     "output_type": "stream",
     "text": [
      "3044701\n"
     ]
    },
    {
     "name": "stderr",
     "output_type": "stream",
     "text": [
      "\n",
      "\n",
      "  1%|          | 214/38976 [00:36<3:09:05,  3.42it/s]\u001b[A\u001b[A"
     ]
    },
    {
     "name": "stdout",
     "output_type": "stream",
     "text": [
      "3059101\n"
     ]
    },
    {
     "name": "stderr",
     "output_type": "stream",
     "text": [
      "\n",
      "\n",
      "  1%|          | 215/38976 [00:36<3:08:57,  3.42it/s]\u001b[A\u001b[A"
     ]
    },
    {
     "name": "stdout",
     "output_type": "stream",
     "text": [
      "3073501\n"
     ]
    },
    {
     "name": "stderr",
     "output_type": "stream",
     "text": [
      "\n",
      "\n",
      "  1%|          | 216/38976 [00:36<3:11:48,  3.37it/s]\u001b[A\u001b[A"
     ]
    },
    {
     "name": "stdout",
     "output_type": "stream",
     "text": [
      "3087901\n"
     ]
    },
    {
     "name": "stderr",
     "output_type": "stream",
     "text": [
      "\n",
      "\n",
      "  1%|          | 217/38976 [00:37<3:15:58,  3.30it/s]\u001b[A\u001b[A"
     ]
    },
    {
     "name": "stdout",
     "output_type": "stream",
     "text": [
      "3102301\n"
     ]
    },
    {
     "name": "stderr",
     "output_type": "stream",
     "text": [
      "\n",
      "\n",
      "  1%|          | 218/38976 [00:37<3:19:16,  3.24it/s]\u001b[A\u001b[A"
     ]
    },
    {
     "name": "stdout",
     "output_type": "stream",
     "text": [
      "3116701\n"
     ]
    },
    {
     "name": "stderr",
     "output_type": "stream",
     "text": [
      "\n",
      "\n",
      "  1%|          | 219/38976 [00:37<3:21:03,  3.21it/s]\u001b[A\u001b[A"
     ]
    },
    {
     "name": "stdout",
     "output_type": "stream",
     "text": [
      "3131101\n"
     ]
    },
    {
     "name": "stderr",
     "output_type": "stream",
     "text": [
      "\n",
      "\n",
      "  1%|          | 220/38976 [00:38<3:23:23,  3.18it/s]\u001b[A\u001b[A"
     ]
    },
    {
     "name": "stdout",
     "output_type": "stream",
     "text": [
      "3145501\n"
     ]
    },
    {
     "name": "stderr",
     "output_type": "stream",
     "text": [
      "\n",
      "\n",
      "  1%|          | 221/38976 [00:38<3:24:00,  3.17it/s]\u001b[A\u001b[A"
     ]
    },
    {
     "name": "stdout",
     "output_type": "stream",
     "text": [
      "3159901\n"
     ]
    },
    {
     "name": "stderr",
     "output_type": "stream",
     "text": [
      "\n",
      "\n",
      "  1%|          | 222/38976 [00:38<3:21:42,  3.20it/s]\u001b[A\u001b[A"
     ]
    },
    {
     "name": "stdout",
     "output_type": "stream",
     "text": [
      "3174301\n"
     ]
    },
    {
     "name": "stderr",
     "output_type": "stream",
     "text": [
      "\n",
      "\n",
      "  1%|          | 223/38976 [00:39<3:20:58,  3.21it/s]\u001b[A\u001b[A"
     ]
    },
    {
     "name": "stdout",
     "output_type": "stream",
     "text": [
      "3188701\n"
     ]
    },
    {
     "name": "stderr",
     "output_type": "stream",
     "text": [
      "\n",
      "\n",
      "  1%|          | 224/38976 [00:39<3:21:24,  3.21it/s]\u001b[A\u001b[A"
     ]
    },
    {
     "name": "stdout",
     "output_type": "stream",
     "text": [
      "3203101\n"
     ]
    },
    {
     "name": "stderr",
     "output_type": "stream",
     "text": [
      "\n",
      "\n",
      "  1%|          | 225/38976 [00:39<3:18:35,  3.25it/s]\u001b[A\u001b[A"
     ]
    },
    {
     "name": "stdout",
     "output_type": "stream",
     "text": [
      "3217501\n"
     ]
    },
    {
     "name": "stderr",
     "output_type": "stream",
     "text": [
      "\n",
      "\n",
      "  1%|          | 226/38976 [00:39<3:19:14,  3.24it/s]\u001b[A\u001b[A"
     ]
    },
    {
     "name": "stdout",
     "output_type": "stream",
     "text": [
      "3231901\n"
     ]
    },
    {
     "name": "stderr",
     "output_type": "stream",
     "text": [
      "\n",
      "\n",
      "  1%|          | 227/38976 [00:40<3:21:27,  3.21it/s]\u001b[A\u001b[A"
     ]
    },
    {
     "name": "stdout",
     "output_type": "stream",
     "text": [
      "3246301\n"
     ]
    },
    {
     "name": "stderr",
     "output_type": "stream",
     "text": [
      "\n",
      "\n",
      "  1%|          | 228/38976 [00:40<3:24:10,  3.16it/s]\u001b[A\u001b[A"
     ]
    },
    {
     "name": "stdout",
     "output_type": "stream",
     "text": [
      "3260701\n"
     ]
    },
    {
     "name": "stderr",
     "output_type": "stream",
     "text": [
      "\n",
      "\n",
      "  1%|          | 229/38976 [00:40<3:27:42,  3.11it/s]\u001b[A\u001b[A"
     ]
    },
    {
     "name": "stdout",
     "output_type": "stream",
     "text": [
      "3275101\n"
     ]
    },
    {
     "name": "stderr",
     "output_type": "stream",
     "text": [
      "\n",
      "\n",
      "  1%|          | 230/38976 [00:41<3:31:45,  3.05it/s]\u001b[A\u001b[A"
     ]
    },
    {
     "name": "stdout",
     "output_type": "stream",
     "text": [
      "3289501\n"
     ]
    },
    {
     "name": "stderr",
     "output_type": "stream",
     "text": [
      "\n",
      "\n",
      "  1%|          | 231/38976 [00:41<3:34:18,  3.01it/s]\u001b[A\u001b[A"
     ]
    },
    {
     "name": "stdout",
     "output_type": "stream",
     "text": [
      "3303901\n"
     ]
    },
    {
     "name": "stderr",
     "output_type": "stream",
     "text": [
      "\n",
      "\n",
      "  1%|          | 232/38976 [00:41<3:34:02,  3.02it/s]\u001b[A\u001b[A"
     ]
    },
    {
     "name": "stdout",
     "output_type": "stream",
     "text": [
      "3318301\n"
     ]
    },
    {
     "name": "stderr",
     "output_type": "stream",
     "text": [
      "\n",
      "\n",
      "  1%|          | 233/38976 [00:42<3:33:32,  3.02it/s]\u001b[A\u001b[A"
     ]
    },
    {
     "name": "stdout",
     "output_type": "stream",
     "text": [
      "3332701\n"
     ]
    },
    {
     "name": "stderr",
     "output_type": "stream",
     "text": [
      "\n",
      "\n",
      "  1%|          | 234/38976 [00:42<3:31:32,  3.05it/s]\u001b[A\u001b[A"
     ]
    },
    {
     "name": "stdout",
     "output_type": "stream",
     "text": [
      "3347101\n"
     ]
    },
    {
     "name": "stderr",
     "output_type": "stream",
     "text": [
      "\n",
      "\n",
      "  1%|          | 235/38976 [00:42<3:32:28,  3.04it/s]\u001b[A\u001b[A"
     ]
    },
    {
     "name": "stdout",
     "output_type": "stream",
     "text": [
      "3361501\n"
     ]
    },
    {
     "name": "stderr",
     "output_type": "stream",
     "text": [
      "\n",
      "\n",
      "  1%|          | 236/38976 [00:43<3:34:59,  3.00it/s]\u001b[A\u001b[A"
     ]
    },
    {
     "name": "stdout",
     "output_type": "stream",
     "text": [
      "3375901\n"
     ]
    },
    {
     "name": "stderr",
     "output_type": "stream",
     "text": [
      "\n",
      "\n",
      "  1%|          | 237/38976 [00:43<3:34:55,  3.00it/s]\u001b[A\u001b[A"
     ]
    },
    {
     "name": "stdout",
     "output_type": "stream",
     "text": [
      "3390301\n"
     ]
    },
    {
     "name": "stderr",
     "output_type": "stream",
     "text": [
      "\n",
      "\n",
      "  1%|          | 238/38976 [00:43<3:34:20,  3.01it/s]\u001b[A\u001b[A"
     ]
    },
    {
     "name": "stdout",
     "output_type": "stream",
     "text": [
      "3404701\n"
     ]
    },
    {
     "name": "stderr",
     "output_type": "stream",
     "text": [
      "\n",
      "\n",
      "  1%|          | 239/38976 [00:44<3:39:15,  2.94it/s]\u001b[A\u001b[A"
     ]
    },
    {
     "name": "stdout",
     "output_type": "stream",
     "text": [
      "3433321\n"
     ]
    },
    {
     "name": "stderr",
     "output_type": "stream",
     "text": [
      "\n",
      "\n",
      "  1%|          | 240/38976 [00:44<3:39:28,  2.94it/s]\u001b[A\u001b[A"
     ]
    },
    {
     "name": "stdout",
     "output_type": "stream",
     "text": [
      "3447721\n"
     ]
    },
    {
     "name": "stderr",
     "output_type": "stream",
     "text": [
      "\n",
      "\n",
      "  1%|          | 241/38976 [00:44<3:42:11,  2.91it/s]\u001b[A\u001b[A"
     ]
    },
    {
     "name": "stdout",
     "output_type": "stream",
     "text": [
      "3462121\n"
     ]
    },
    {
     "name": "stderr",
     "output_type": "stream",
     "text": [
      "\n",
      "\n",
      "  1%|          | 242/38976 [00:45<3:44:52,  2.87it/s]\u001b[A\u001b[A"
     ]
    },
    {
     "name": "stdout",
     "output_type": "stream",
     "text": [
      "3476521\n"
     ]
    },
    {
     "name": "stderr",
     "output_type": "stream",
     "text": [
      "\n",
      "\n",
      "  1%|          | 243/38976 [00:45<3:44:59,  2.87it/s]\u001b[A\u001b[A"
     ]
    },
    {
     "name": "stdout",
     "output_type": "stream",
     "text": [
      "3490921\n"
     ]
    },
    {
     "name": "stderr",
     "output_type": "stream",
     "text": [
      "\n",
      "\n",
      "  1%|          | 244/38976 [00:46<3:42:49,  2.90it/s]\u001b[A\u001b[A"
     ]
    },
    {
     "name": "stdout",
     "output_type": "stream",
     "text": [
      "3505321\n"
     ]
    },
    {
     "name": "stderr",
     "output_type": "stream",
     "text": [
      "\n",
      "\n",
      "  1%|          | 245/38976 [00:46<3:41:40,  2.91it/s]\u001b[A\u001b[A"
     ]
    },
    {
     "name": "stdout",
     "output_type": "stream",
     "text": [
      "3519721\n"
     ]
    },
    {
     "name": "stderr",
     "output_type": "stream",
     "text": [
      "\n",
      "\n",
      "  1%|          | 246/38976 [00:46<3:39:29,  2.94it/s]\u001b[A\u001b[A"
     ]
    },
    {
     "name": "stdout",
     "output_type": "stream",
     "text": [
      "3534121\n"
     ]
    },
    {
     "name": "stderr",
     "output_type": "stream",
     "text": [
      "\n",
      "\n",
      "  1%|          | 247/38976 [00:47<3:39:02,  2.95it/s]\u001b[A\u001b[A"
     ]
    },
    {
     "name": "stdout",
     "output_type": "stream",
     "text": [
      "3548521\n"
     ]
    },
    {
     "name": "stderr",
     "output_type": "stream",
     "text": [
      "\n",
      "\n",
      "  1%|          | 248/38976 [00:47<3:39:18,  2.94it/s]\u001b[A\u001b[A"
     ]
    },
    {
     "name": "stdout",
     "output_type": "stream",
     "text": [
      "3562921\n"
     ]
    },
    {
     "name": "stderr",
     "output_type": "stream",
     "text": [
      "\n",
      "\n",
      "  1%|          | 249/38976 [00:47<3:40:04,  2.93it/s]\u001b[A\u001b[A"
     ]
    },
    {
     "name": "stdout",
     "output_type": "stream",
     "text": [
      "3577321\n"
     ]
    },
    {
     "name": "stderr",
     "output_type": "stream",
     "text": [
      "\n",
      "\n",
      "  1%|          | 250/38976 [00:48<3:39:36,  2.94it/s]\u001b[A\u001b[A"
     ]
    },
    {
     "name": "stdout",
     "output_type": "stream",
     "text": [
      "3591721\n"
     ]
    },
    {
     "name": "stderr",
     "output_type": "stream",
     "text": [
      "\n",
      "\n",
      "  1%|          | 251/38976 [00:48<3:41:18,  2.92it/s]\u001b[A\u001b[A"
     ]
    },
    {
     "name": "stdout",
     "output_type": "stream",
     "text": [
      "3606121\n"
     ]
    },
    {
     "name": "stderr",
     "output_type": "stream",
     "text": [
      "\n",
      "\n",
      "  1%|          | 252/38976 [00:48<3:44:06,  2.88it/s]\u001b[A\u001b[A"
     ]
    },
    {
     "name": "stdout",
     "output_type": "stream",
     "text": [
      "3620521\n"
     ]
    },
    {
     "name": "stderr",
     "output_type": "stream",
     "text": [
      "\n",
      "\n",
      "  1%|          | 253/38976 [00:49<3:48:39,  2.82it/s]\u001b[A\u001b[A"
     ]
    },
    {
     "name": "stdout",
     "output_type": "stream",
     "text": [
      "3634921\n"
     ]
    },
    {
     "name": "stderr",
     "output_type": "stream",
     "text": [
      "\n",
      "\n",
      "  1%|          | 254/38976 [00:49<3:50:43,  2.80it/s]\u001b[A\u001b[A"
     ]
    },
    {
     "name": "stdout",
     "output_type": "stream",
     "text": [
      "3649321\n"
     ]
    },
    {
     "name": "stderr",
     "output_type": "stream",
     "text": [
      "\n",
      "\n",
      "  1%|          | 255/38976 [00:49<3:51:45,  2.78it/s]\u001b[A\u001b[A"
     ]
    },
    {
     "name": "stdout",
     "output_type": "stream",
     "text": [
      "3663721\n"
     ]
    },
    {
     "name": "stderr",
     "output_type": "stream",
     "text": [
      "\n",
      "\n",
      "  1%|          | 256/38976 [00:50<3:50:44,  2.80it/s]\u001b[A\u001b[A"
     ]
    },
    {
     "name": "stdout",
     "output_type": "stream",
     "text": [
      "3678121\n"
     ]
    },
    {
     "name": "stderr",
     "output_type": "stream",
     "text": [
      "\n",
      "\n",
      "  1%|          | 257/38976 [00:50<3:49:34,  2.81it/s]\u001b[A\u001b[A"
     ]
    },
    {
     "name": "stdout",
     "output_type": "stream",
     "text": [
      "3692521\n"
     ]
    },
    {
     "name": "stderr",
     "output_type": "stream",
     "text": [
      "\n",
      "\n",
      "  1%|          | 258/38976 [00:50<3:49:47,  2.81it/s]\u001b[A\u001b[A"
     ]
    },
    {
     "name": "stdout",
     "output_type": "stream",
     "text": [
      "3706921\n"
     ]
    },
    {
     "name": "stderr",
     "output_type": "stream",
     "text": [
      "\n",
      "\n",
      "  1%|          | 259/38976 [00:51<3:49:07,  2.82it/s]\u001b[A\u001b[A"
     ]
    },
    {
     "name": "stdout",
     "output_type": "stream",
     "text": [
      "3721321\n"
     ]
    },
    {
     "name": "stderr",
     "output_type": "stream",
     "text": [
      "\n",
      "\n",
      "  1%|          | 260/38976 [00:51<3:48:44,  2.82it/s]\u001b[A\u001b[A"
     ]
    },
    {
     "name": "stdout",
     "output_type": "stream",
     "text": [
      "3735721\n"
     ]
    },
    {
     "name": "stderr",
     "output_type": "stream",
     "text": [
      "\n",
      "\n",
      "  1%|          | 261/38976 [00:52<3:48:50,  2.82it/s]\u001b[A\u001b[A"
     ]
    },
    {
     "name": "stdout",
     "output_type": "stream",
     "text": [
      "3750121\n"
     ]
    },
    {
     "name": "stderr",
     "output_type": "stream",
     "text": [
      "\n",
      "\n",
      "  1%|          | 262/38976 [00:52<3:50:16,  2.80it/s]\u001b[A\u001b[A"
     ]
    },
    {
     "name": "stdout",
     "output_type": "stream",
     "text": [
      "3764521\n"
     ]
    },
    {
     "name": "stderr",
     "output_type": "stream",
     "text": [
      "\n",
      "\n",
      "  1%|          | 263/38976 [00:52<3:48:20,  2.83it/s]\u001b[A\u001b[A"
     ]
    },
    {
     "name": "stdout",
     "output_type": "stream",
     "text": [
      "3778921\n"
     ]
    },
    {
     "name": "stderr",
     "output_type": "stream",
     "text": [
      "\n",
      "\n",
      "  1%|          | 264/38976 [00:53<3:52:20,  2.78it/s]\u001b[A\u001b[A"
     ]
    },
    {
     "name": "stdout",
     "output_type": "stream",
     "text": [
      "3793321\n"
     ]
    },
    {
     "name": "stderr",
     "output_type": "stream",
     "text": [
      "\n",
      "\n",
      "  1%|          | 265/38976 [00:53<3:54:33,  2.75it/s]\u001b[A\u001b[A"
     ]
    },
    {
     "name": "stdout",
     "output_type": "stream",
     "text": [
      "3807721\n"
     ]
    },
    {
     "name": "stderr",
     "output_type": "stream",
     "text": [
      "\n",
      "\n",
      "  1%|          | 266/38976 [00:53<3:56:19,  2.73it/s]\u001b[A\u001b[A"
     ]
    },
    {
     "name": "stdout",
     "output_type": "stream",
     "text": [
      "3822121\n"
     ]
    },
    {
     "name": "stderr",
     "output_type": "stream",
     "text": [
      "\n",
      "\n",
      "  1%|          | 267/38976 [00:54<3:55:55,  2.73it/s]\u001b[A\u001b[A"
     ]
    },
    {
     "name": "stdout",
     "output_type": "stream",
     "text": [
      "3836521\n"
     ]
    },
    {
     "name": "stderr",
     "output_type": "stream",
     "text": [
      "\n",
      "\n",
      "  1%|          | 268/38976 [00:54<3:56:54,  2.72it/s]\u001b[A\u001b[A"
     ]
    },
    {
     "name": "stdout",
     "output_type": "stream",
     "text": [
      "3850921\n"
     ]
    },
    {
     "name": "stderr",
     "output_type": "stream",
     "text": [
      "\n",
      "\n",
      "  1%|          | 269/38976 [00:54<3:58:00,  2.71it/s]\u001b[A\u001b[A"
     ]
    },
    {
     "name": "stdout",
     "output_type": "stream",
     "text": [
      "3865321\n"
     ]
    },
    {
     "name": "stderr",
     "output_type": "stream",
     "text": [
      "\n",
      "\n",
      "  1%|          | 270/38976 [00:55<3:57:40,  2.71it/s]\u001b[A\u001b[A"
     ]
    },
    {
     "name": "stdout",
     "output_type": "stream",
     "text": [
      "3879721\n"
     ]
    },
    {
     "name": "stderr",
     "output_type": "stream",
     "text": [
      "\n",
      "\n",
      "  1%|          | 271/38976 [00:55<3:58:45,  2.70it/s]\u001b[A\u001b[A"
     ]
    },
    {
     "name": "stdout",
     "output_type": "stream",
     "text": [
      "3894121\n"
     ]
    },
    {
     "name": "stderr",
     "output_type": "stream",
     "text": [
      "\n",
      "\n",
      "  1%|          | 272/38976 [00:56<3:59:29,  2.69it/s]\u001b[A\u001b[A"
     ]
    },
    {
     "name": "stdout",
     "output_type": "stream",
     "text": [
      "3908521\n"
     ]
    },
    {
     "name": "stderr",
     "output_type": "stream",
     "text": [
      "\n",
      "\n",
      "  1%|          | 273/38976 [00:56<4:01:57,  2.67it/s]\u001b[A\u001b[A"
     ]
    },
    {
     "name": "stdout",
     "output_type": "stream",
     "text": [
      "3922921\n"
     ]
    },
    {
     "name": "stderr",
     "output_type": "stream",
     "text": [
      "\n",
      "\n",
      "  1%|          | 274/38976 [00:56<4:02:46,  2.66it/s]\u001b[A\u001b[A"
     ]
    },
    {
     "name": "stdout",
     "output_type": "stream",
     "text": [
      "3932101\n"
     ]
    },
    {
     "name": "stderr",
     "output_type": "stream",
     "text": [
      "\n",
      "\n",
      "  1%|          | 275/38976 [00:57<4:07:45,  2.60it/s]\u001b[A\u001b[A"
     ]
    },
    {
     "name": "stdout",
     "output_type": "stream",
     "text": [
      "3946501\n"
     ]
    },
    {
     "name": "stderr",
     "output_type": "stream",
     "text": [
      "\n",
      "\n",
      "  1%|          | 276/38976 [00:57<4:10:44,  2.57it/s]\u001b[A\u001b[A"
     ]
    },
    {
     "name": "stdout",
     "output_type": "stream",
     "text": [
      "3960901\n"
     ]
    },
    {
     "name": "stderr",
     "output_type": "stream",
     "text": [
      "\n",
      "\n",
      "  1%|          | 277/38976 [00:58<4:11:39,  2.56it/s]\u001b[A\u001b[A"
     ]
    },
    {
     "name": "stdout",
     "output_type": "stream",
     "text": [
      "3975301\n"
     ]
    },
    {
     "name": "stderr",
     "output_type": "stream",
     "text": [
      "\n",
      "\n",
      "  1%|          | 278/38976 [00:58<4:13:40,  2.54it/s]\u001b[A\u001b[A"
     ]
    },
    {
     "name": "stdout",
     "output_type": "stream",
     "text": [
      "3989701\n"
     ]
    },
    {
     "name": "stderr",
     "output_type": "stream",
     "text": [
      "\n",
      "\n",
      "  1%|          | 279/38976 [00:58<4:12:18,  2.56it/s]\u001b[A\u001b[A"
     ]
    },
    {
     "name": "stdout",
     "output_type": "stream",
     "text": [
      "4004101\n"
     ]
    },
    {
     "name": "stderr",
     "output_type": "stream",
     "text": [
      "\n",
      "\n",
      "  1%|          | 280/38976 [00:59<4:11:53,  2.56it/s]\u001b[A\u001b[A"
     ]
    },
    {
     "name": "stdout",
     "output_type": "stream",
     "text": [
      "4018501\n"
     ]
    },
    {
     "name": "stderr",
     "output_type": "stream",
     "text": [
      "\n",
      "\n",
      "  1%|          | 281/38976 [00:59<4:09:48,  2.58it/s]\u001b[A\u001b[A"
     ]
    },
    {
     "name": "stdout",
     "output_type": "stream",
     "text": [
      "4032901\n"
     ]
    },
    {
     "name": "stderr",
     "output_type": "stream",
     "text": [
      "\n",
      "\n",
      "  1%|          | 282/38976 [00:59<4:09:46,  2.58it/s]\u001b[A\u001b[A"
     ]
    },
    {
     "name": "stdout",
     "output_type": "stream",
     "text": [
      "4047301\n"
     ]
    },
    {
     "name": "stderr",
     "output_type": "stream",
     "text": [
      "\n",
      "\n",
      "  1%|          | 283/38976 [01:00<4:09:43,  2.58it/s]\u001b[A\u001b[A"
     ]
    },
    {
     "name": "stdout",
     "output_type": "stream",
     "text": [
      "4061701\n"
     ]
    },
    {
     "name": "stderr",
     "output_type": "stream",
     "text": [
      "\n",
      "\n",
      "  1%|          | 284/38976 [01:00<4:16:50,  2.51it/s]\u001b[A\u001b[A"
     ]
    },
    {
     "name": "stdout",
     "output_type": "stream",
     "text": [
      "4076101\n"
     ]
    },
    {
     "name": "stderr",
     "output_type": "stream",
     "text": [
      "\n",
      "\n",
      "  1%|          | 285/38976 [01:01<4:20:38,  2.47it/s]\u001b[A\u001b[A"
     ]
    },
    {
     "name": "stdout",
     "output_type": "stream",
     "text": [
      "4090501\n"
     ]
    },
    {
     "name": "stderr",
     "output_type": "stream",
     "text": [
      "\n",
      "\n",
      "  1%|          | 286/38976 [01:01<4:23:41,  2.45it/s]\u001b[A\u001b[A"
     ]
    },
    {
     "name": "stdout",
     "output_type": "stream",
     "text": [
      "4104901\n"
     ]
    },
    {
     "name": "stderr",
     "output_type": "stream",
     "text": [
      "\n",
      "\n",
      "  1%|          | 287/38976 [01:02<4:26:13,  2.42it/s]\u001b[A\u001b[A"
     ]
    },
    {
     "name": "stdout",
     "output_type": "stream",
     "text": [
      "4119301\n"
     ]
    },
    {
     "name": "stderr",
     "output_type": "stream",
     "text": [
      "\n",
      "\n",
      "  1%|          | 288/38976 [01:02<4:23:33,  2.45it/s]\u001b[A\u001b[A"
     ]
    },
    {
     "name": "stdout",
     "output_type": "stream",
     "text": [
      "4129381\n"
     ]
    },
    {
     "name": "stderr",
     "output_type": "stream",
     "text": [
      "\n",
      "\n",
      "  1%|          | 289/38976 [01:02<4:21:31,  2.47it/s]\u001b[A\u001b[A"
     ]
    },
    {
     "name": "stdout",
     "output_type": "stream",
     "text": [
      "4143781\n"
     ]
    },
    {
     "name": "stderr",
     "output_type": "stream",
     "text": [
      "\n",
      "\n",
      "  1%|          | 290/38976 [01:03<4:20:29,  2.48it/s]\u001b[A\u001b[A"
     ]
    },
    {
     "name": "stdout",
     "output_type": "stream",
     "text": [
      "4153861\n"
     ]
    },
    {
     "name": "stderr",
     "output_type": "stream",
     "text": [
      "\n",
      "\n",
      "  1%|          | 291/38976 [01:03<4:19:36,  2.48it/s]\u001b[A\u001b[A"
     ]
    },
    {
     "name": "stdout",
     "output_type": "stream",
     "text": [
      "4168261\n"
     ]
    },
    {
     "name": "stderr",
     "output_type": "stream",
     "text": [
      "\n",
      "\n",
      "  1%|          | 292/38976 [01:04<4:18:59,  2.49it/s]\u001b[A\u001b[A"
     ]
    },
    {
     "name": "stdout",
     "output_type": "stream",
     "text": [
      "4182661\n"
     ]
    },
    {
     "name": "stderr",
     "output_type": "stream",
     "text": [
      "\n",
      "\n",
      "  1%|          | 293/38976 [01:04<4:18:42,  2.49it/s]\u001b[A\u001b[A"
     ]
    },
    {
     "name": "stdout",
     "output_type": "stream",
     "text": [
      "4197061\n"
     ]
    },
    {
     "name": "stderr",
     "output_type": "stream",
     "text": [
      "\n",
      "\n",
      "  1%|          | 294/38976 [01:04<4:20:46,  2.47it/s]\u001b[A\u001b[A"
     ]
    },
    {
     "name": "stdout",
     "output_type": "stream",
     "text": [
      "4211461\n"
     ]
    },
    {
     "name": "stderr",
     "output_type": "stream",
     "text": [
      "\n",
      "\n",
      "  1%|          | 295/38976 [01:05<4:25:04,  2.43it/s]\u001b[A\u001b[A"
     ]
    },
    {
     "name": "stdout",
     "output_type": "stream",
     "text": [
      "4225861\n"
     ]
    },
    {
     "name": "stderr",
     "output_type": "stream",
     "text": [
      "\n",
      "\n",
      "  1%|          | 296/38976 [01:05<4:26:58,  2.41it/s]\u001b[A\u001b[A"
     ]
    },
    {
     "name": "stdout",
     "output_type": "stream",
     "text": [
      "4240261\n"
     ]
    },
    {
     "name": "stderr",
     "output_type": "stream",
     "text": [
      "\n",
      "\n",
      "  1%|          | 297/38976 [01:06<4:29:14,  2.39it/s]\u001b[A\u001b[A"
     ]
    },
    {
     "name": "stdout",
     "output_type": "stream",
     "text": [
      "4254661\n"
     ]
    },
    {
     "name": "stderr",
     "output_type": "stream",
     "text": [
      "\n",
      "\n",
      "  1%|          | 298/38976 [01:06<4:32:20,  2.37it/s]\u001b[A\u001b[A"
     ]
    },
    {
     "name": "stdout",
     "output_type": "stream",
     "text": [
      "4269061\n"
     ]
    },
    {
     "name": "stderr",
     "output_type": "stream",
     "text": [
      "\n",
      "\n",
      "  1%|          | 299/38976 [01:06<4:32:53,  2.36it/s]\u001b[A\u001b[A"
     ]
    },
    {
     "name": "stdout",
     "output_type": "stream",
     "text": [
      "4283461\n"
     ]
    },
    {
     "name": "stderr",
     "output_type": "stream",
     "text": [
      "\n",
      "\n",
      "  1%|          | 300/38976 [01:07<4:31:47,  2.37it/s]\u001b[A\u001b[A"
     ]
    },
    {
     "name": "stdout",
     "output_type": "stream",
     "text": [
      "4297861\n"
     ]
    },
    {
     "name": "stderr",
     "output_type": "stream",
     "text": [
      "\n",
      "\n",
      "  1%|          | 301/38976 [01:07<4:31:01,  2.38it/s]\u001b[A\u001b[A"
     ]
    },
    {
     "name": "stdout",
     "output_type": "stream",
     "text": [
      "4312261\n"
     ]
    },
    {
     "name": "stderr",
     "output_type": "stream",
     "text": [
      "\n",
      "\n",
      "  1%|          | 302/38976 [01:08<4:34:16,  2.35it/s]\u001b[A\u001b[A"
     ]
    },
    {
     "name": "stdout",
     "output_type": "stream",
     "text": [
      "4340881\n"
     ]
    },
    {
     "name": "stderr",
     "output_type": "stream",
     "text": [
      "\n",
      "\n",
      "  1%|          | 303/38976 [01:08<4:33:15,  2.36it/s]\u001b[A\u001b[A"
     ]
    },
    {
     "name": "stdout",
     "output_type": "stream",
     "text": [
      "4355281\n"
     ]
    },
    {
     "name": "stderr",
     "output_type": "stream",
     "text": [
      "\n",
      "\n",
      "  1%|          | 304/38976 [01:09<4:36:21,  2.33it/s]\u001b[A\u001b[A"
     ]
    },
    {
     "name": "stdout",
     "output_type": "stream",
     "text": [
      "4369681\n"
     ]
    },
    {
     "name": "stderr",
     "output_type": "stream",
     "text": [
      "\n",
      "\n",
      "  1%|          | 305/38976 [01:09<4:37:16,  2.32it/s]\u001b[A\u001b[A"
     ]
    },
    {
     "name": "stdout",
     "output_type": "stream",
     "text": [
      "4384081\n"
     ]
    },
    {
     "name": "stderr",
     "output_type": "stream",
     "text": [
      "\n",
      "\n",
      "  1%|          | 306/38976 [01:09<4:37:06,  2.33it/s]\u001b[A\u001b[A"
     ]
    },
    {
     "name": "stdout",
     "output_type": "stream",
     "text": [
      "4398481\n"
     ]
    },
    {
     "name": "stderr",
     "output_type": "stream",
     "text": [
      "\n",
      "\n",
      "  1%|          | 307/38976 [01:10<4:38:15,  2.32it/s]\u001b[A\u001b[A"
     ]
    },
    {
     "name": "stdout",
     "output_type": "stream",
     "text": [
      "4412881\n"
     ]
    },
    {
     "name": "stderr",
     "output_type": "stream",
     "text": [
      "\n",
      "\n",
      "  1%|          | 308/38976 [01:10<4:36:13,  2.33it/s]\u001b[A\u001b[A"
     ]
    },
    {
     "name": "stdout",
     "output_type": "stream",
     "text": [
      "4427281\n"
     ]
    },
    {
     "name": "stderr",
     "output_type": "stream",
     "text": [
      "\n",
      "\n",
      "  1%|          | 309/38976 [01:11<4:34:26,  2.35it/s]\u001b[A\u001b[A"
     ]
    },
    {
     "name": "stdout",
     "output_type": "stream",
     "text": [
      "4441681\n"
     ]
    },
    {
     "name": "stderr",
     "output_type": "stream",
     "text": [
      "\n",
      "\n",
      "  1%|          | 310/38976 [01:11<4:33:56,  2.35it/s]\u001b[A\u001b[A"
     ]
    },
    {
     "name": "stdout",
     "output_type": "stream",
     "text": [
      "4456081\n"
     ]
    },
    {
     "name": "stderr",
     "output_type": "stream",
     "text": [
      "\n",
      "\n",
      "  1%|          | 311/38976 [01:12<4:32:33,  2.36it/s]\u001b[A\u001b[A"
     ]
    },
    {
     "name": "stdout",
     "output_type": "stream",
     "text": [
      "4470481\n"
     ]
    },
    {
     "name": "stderr",
     "output_type": "stream",
     "text": [
      "\n",
      "\n",
      "  1%|          | 312/38976 [01:12<4:32:22,  2.37it/s]\u001b[A\u001b[A"
     ]
    },
    {
     "name": "stdout",
     "output_type": "stream",
     "text": [
      "4484881\n"
     ]
    },
    {
     "name": "stderr",
     "output_type": "stream",
     "text": [
      "\n",
      "\n",
      "  1%|          | 313/38976 [01:12<4:33:35,  2.36it/s]\u001b[A\u001b[A"
     ]
    },
    {
     "name": "stdout",
     "output_type": "stream",
     "text": [
      "4499281\n"
     ]
    },
    {
     "name": "stderr",
     "output_type": "stream",
     "text": [
      "\n",
      "\n",
      "  1%|          | 314/38976 [01:13<4:36:56,  2.33it/s]\u001b[A\u001b[A"
     ]
    },
    {
     "name": "stdout",
     "output_type": "stream",
     "text": [
      "4513681\n"
     ]
    },
    {
     "name": "stderr",
     "output_type": "stream",
     "text": [
      "\n",
      "\n",
      "  1%|          | 315/38976 [01:13<4:34:50,  2.34it/s]\u001b[A\u001b[A"
     ]
    },
    {
     "name": "stdout",
     "output_type": "stream",
     "text": [
      "4528081\n"
     ]
    },
    {
     "name": "stderr",
     "output_type": "stream",
     "text": [
      "\n",
      "\n",
      "  1%|          | 316/38976 [01:14<4:36:07,  2.33it/s]\u001b[A\u001b[A"
     ]
    },
    {
     "name": "stdout",
     "output_type": "stream",
     "text": [
      "4542481\n"
     ]
    },
    {
     "name": "stderr",
     "output_type": "stream",
     "text": [
      "\n",
      "\n",
      "  1%|          | 317/38976 [01:14<4:36:04,  2.33it/s]\u001b[A\u001b[A"
     ]
    },
    {
     "name": "stdout",
     "output_type": "stream",
     "text": [
      "4556881\n"
     ]
    },
    {
     "name": "stderr",
     "output_type": "stream",
     "text": [
      "\n",
      "\n",
      "  1%|          | 318/38976 [01:15<4:38:14,  2.32it/s]\u001b[A\u001b[A"
     ]
    },
    {
     "name": "stdout",
     "output_type": "stream",
     "text": [
      "4571281\n"
     ]
    },
    {
     "name": "stderr",
     "output_type": "stream",
     "text": [
      "\n",
      "\n",
      "  1%|          | 319/38976 [01:15<4:39:24,  2.31it/s]\u001b[A\u001b[A"
     ]
    },
    {
     "name": "stdout",
     "output_type": "stream",
     "text": [
      "4585681\n"
     ]
    },
    {
     "name": "stderr",
     "output_type": "stream",
     "text": [
      "\n",
      "\n",
      "  1%|          | 320/38976 [01:15<4:38:56,  2.31it/s]\u001b[A\u001b[A"
     ]
    },
    {
     "name": "stdout",
     "output_type": "stream",
     "text": [
      "4600081\n"
     ]
    },
    {
     "name": "stderr",
     "output_type": "stream",
     "text": [
      "\n",
      "\n",
      "  1%|          | 321/38976 [01:16<4:39:12,  2.31it/s]\u001b[A\u001b[A"
     ]
    },
    {
     "name": "stdout",
     "output_type": "stream",
     "text": [
      "4614481\n"
     ]
    },
    {
     "name": "stderr",
     "output_type": "stream",
     "text": [
      "\n",
      "\n",
      "  1%|          | 322/38976 [01:16<4:39:39,  2.30it/s]\u001b[A\u001b[A"
     ]
    },
    {
     "name": "stdout",
     "output_type": "stream",
     "text": [
      "4628881\n"
     ]
    },
    {
     "name": "stderr",
     "output_type": "stream",
     "text": [
      "\n",
      "\n",
      "  1%|          | 323/38976 [01:17<4:41:39,  2.29it/s]\u001b[A\u001b[A"
     ]
    },
    {
     "name": "stdout",
     "output_type": "stream",
     "text": [
      "4643281\n"
     ]
    },
    {
     "name": "stderr",
     "output_type": "stream",
     "text": [
      "\n",
      "\n",
      "  1%|          | 324/38976 [01:17<4:43:02,  2.28it/s]\u001b[A\u001b[A"
     ]
    },
    {
     "name": "stdout",
     "output_type": "stream",
     "text": [
      "4657681\n"
     ]
    },
    {
     "name": "stderr",
     "output_type": "stream",
     "text": [
      "\n",
      "\n",
      "  1%|          | 325/38976 [01:18<4:45:50,  2.25it/s]\u001b[A\u001b[A"
     ]
    },
    {
     "name": "stdout",
     "output_type": "stream",
     "text": [
      "4672081\n"
     ]
    },
    {
     "name": "stderr",
     "output_type": "stream",
     "text": [
      "\n",
      "\n",
      "  1%|          | 326/38976 [01:18<4:46:31,  2.25it/s]\u001b[A\u001b[A"
     ]
    },
    {
     "name": "stdout",
     "output_type": "stream",
     "text": [
      "4686481\n"
     ]
    },
    {
     "name": "stderr",
     "output_type": "stream",
     "text": [
      "\n",
      "\n",
      "  1%|          | 327/38976 [01:19<4:47:10,  2.24it/s]\u001b[A\u001b[A"
     ]
    },
    {
     "name": "stdout",
     "output_type": "stream",
     "text": [
      "4700881\n"
     ]
    },
    {
     "name": "stderr",
     "output_type": "stream",
     "text": [
      "\n",
      "\n",
      "  1%|          | 328/38976 [01:19<4:45:26,  2.26it/s]\u001b[A\u001b[A"
     ]
    },
    {
     "name": "stdout",
     "output_type": "stream",
     "text": [
      "4715281\n"
     ]
    },
    {
     "name": "stderr",
     "output_type": "stream",
     "text": [
      "\n",
      "\n",
      "  1%|          | 329/38976 [01:19<4:44:52,  2.26it/s]\u001b[A\u001b[A"
     ]
    },
    {
     "name": "stdout",
     "output_type": "stream",
     "text": [
      "4729681\n"
     ]
    },
    {
     "name": "stderr",
     "output_type": "stream",
     "text": [
      "\n",
      "\n",
      "  1%|          | 330/38976 [01:20<4:45:24,  2.26it/s]\u001b[A\u001b[A"
     ]
    },
    {
     "name": "stdout",
     "output_type": "stream",
     "text": [
      "4744081\n"
     ]
    },
    {
     "name": "stderr",
     "output_type": "stream",
     "text": [
      "\n",
      "\n",
      "  1%|          | 331/38976 [01:20<4:48:10,  2.24it/s]\u001b[A\u001b[A"
     ]
    },
    {
     "name": "stdout",
     "output_type": "stream",
     "text": [
      "4758481\n"
     ]
    },
    {
     "name": "stderr",
     "output_type": "stream",
     "text": [
      "\n",
      "\n",
      "  1%|          | 332/38976 [01:21<4:48:48,  2.23it/s]\u001b[A\u001b[A"
     ]
    },
    {
     "name": "stdout",
     "output_type": "stream",
     "text": [
      "4772881\n"
     ]
    },
    {
     "name": "stderr",
     "output_type": "stream",
     "text": [
      "\n",
      "\n",
      "  1%|          | 333/38976 [01:21<4:55:11,  2.18it/s]\u001b[A\u001b[A"
     ]
    },
    {
     "name": "stdout",
     "output_type": "stream",
     "text": [
      "4787281\n"
     ]
    },
    {
     "name": "stderr",
     "output_type": "stream",
     "text": [
      "\n",
      "\n",
      "  1%|          | 334/38976 [01:22<4:57:09,  2.17it/s]\u001b[A\u001b[A"
     ]
    },
    {
     "name": "stdout",
     "output_type": "stream",
     "text": [
      "4801681\n"
     ]
    },
    {
     "name": "stderr",
     "output_type": "stream",
     "text": [
      "\n",
      "\n",
      "  1%|          | 335/38976 [01:22<4:54:43,  2.19it/s]\u001b[A\u001b[A"
     ]
    },
    {
     "name": "stdout",
     "output_type": "stream",
     "text": [
      "4816081\n"
     ]
    },
    {
     "name": "stderr",
     "output_type": "stream",
     "text": [
      "\n",
      "\n",
      "  1%|          | 336/38976 [01:23<4:52:14,  2.20it/s]\u001b[A\u001b[A"
     ]
    },
    {
     "name": "stdout",
     "output_type": "stream",
     "text": [
      "4830481\n"
     ]
    },
    {
     "name": "stderr",
     "output_type": "stream",
     "text": [
      "\n",
      "\n",
      "  1%|          | 337/38976 [01:23<4:52:45,  2.20it/s]\u001b[A\u001b[A"
     ]
    },
    {
     "name": "stdout",
     "output_type": "stream",
     "text": [
      "4844881\n"
     ]
    },
    {
     "name": "stderr",
     "output_type": "stream",
     "text": [
      "\n",
      "\n",
      "  1%|          | 338/38976 [01:24<4:51:16,  2.21it/s]\u001b[A\u001b[A"
     ]
    },
    {
     "name": "stdout",
     "output_type": "stream",
     "text": [
      "4859281\n"
     ]
    },
    {
     "name": "stderr",
     "output_type": "stream",
     "text": [
      "\n",
      "\n",
      "  1%|          | 339/38976 [01:24<4:52:56,  2.20it/s]\u001b[A\u001b[A"
     ]
    },
    {
     "name": "stdout",
     "output_type": "stream",
     "text": [
      "4873681\n"
     ]
    },
    {
     "name": "stderr",
     "output_type": "stream",
     "text": [
      "\n",
      "\n",
      "  1%|          | 340/38976 [01:24<4:53:27,  2.19it/s]\u001b[A\u001b[A"
     ]
    },
    {
     "name": "stdout",
     "output_type": "stream",
     "text": [
      "4888081\n"
     ]
    },
    {
     "name": "stderr",
     "output_type": "stream",
     "text": [
      "\n",
      "\n",
      "  1%|          | 341/38976 [01:25<4:55:43,  2.18it/s]\u001b[A\u001b[A"
     ]
    },
    {
     "name": "stdout",
     "output_type": "stream",
     "text": [
      "4902481\n"
     ]
    },
    {
     "name": "stderr",
     "output_type": "stream",
     "text": [
      "\n",
      "\n",
      "  1%|          | 342/38976 [01:25<4:56:22,  2.17it/s]\u001b[A\u001b[A"
     ]
    },
    {
     "name": "stdout",
     "output_type": "stream",
     "text": [
      "4916881\n"
     ]
    },
    {
     "name": "stderr",
     "output_type": "stream",
     "text": [
      "\n",
      "\n",
      "  1%|          | 343/38976 [01:26<4:57:46,  2.16it/s]\u001b[A\u001b[A"
     ]
    },
    {
     "name": "stdout",
     "output_type": "stream",
     "text": [
      "4931281\n"
     ]
    },
    {
     "name": "stderr",
     "output_type": "stream",
     "text": [
      "\n",
      "\n",
      "  1%|          | 344/38976 [01:26<4:57:14,  2.17it/s]\u001b[A\u001b[A"
     ]
    },
    {
     "name": "stdout",
     "output_type": "stream",
     "text": [
      "4945681\n"
     ]
    },
    {
     "name": "stderr",
     "output_type": "stream",
     "text": [
      "\n",
      "\n",
      "  1%|          | 345/38976 [01:27<4:58:32,  2.16it/s]\u001b[A\u001b[A"
     ]
    },
    {
     "name": "stdout",
     "output_type": "stream",
     "text": [
      "4960081\n"
     ]
    },
    {
     "name": "stderr",
     "output_type": "stream",
     "text": [
      "\n",
      "\n",
      "  1%|          | 346/38976 [01:27<4:56:46,  2.17it/s]\u001b[A\u001b[A"
     ]
    },
    {
     "name": "stdout",
     "output_type": "stream",
     "text": [
      "4974481\n"
     ]
    },
    {
     "name": "stderr",
     "output_type": "stream",
     "text": [
      "\n",
      "\n",
      "  1%|          | 347/38976 [01:28<4:50:57,  2.21it/s]\u001b[A\u001b[A"
     ]
    },
    {
     "name": "stdout",
     "output_type": "stream",
     "text": [
      "4988881\n"
     ]
    },
    {
     "name": "stderr",
     "output_type": "stream",
     "text": [
      "\n",
      "\n",
      "  1%|          | 348/38976 [01:28<4:48:16,  2.23it/s]\u001b[A\u001b[A"
     ]
    },
    {
     "name": "stdout",
     "output_type": "stream",
     "text": [
      "5003281\n"
     ]
    },
    {
     "name": "stderr",
     "output_type": "stream",
     "text": [
      "\n",
      "\n",
      "  1%|          | 349/38976 [01:29<4:55:43,  2.18it/s]\u001b[A\u001b[A"
     ]
    },
    {
     "name": "stdout",
     "output_type": "stream",
     "text": [
      "5016781\n"
     ]
    },
    {
     "name": "stderr",
     "output_type": "stream",
     "text": [
      "\n",
      "\n",
      "  1%|          | 350/38976 [01:29<5:00:38,  2.14it/s]\u001b[A\u001b[A"
     ]
    },
    {
     "name": "stdout",
     "output_type": "stream",
     "text": [
      "5031181\n"
     ]
    },
    {
     "name": "stderr",
     "output_type": "stream",
     "text": [
      "\n",
      "\n",
      "  1%|          | 351/38976 [01:30<4:59:16,  2.15it/s]\u001b[A\u001b[A"
     ]
    },
    {
     "name": "stdout",
     "output_type": "stream",
     "text": [
      "5045581\n"
     ]
    },
    {
     "name": "stderr",
     "output_type": "stream",
     "text": [
      "\n",
      "\n",
      "  1%|          | 352/38976 [01:30<4:57:51,  2.16it/s]\u001b[A\u001b[A"
     ]
    },
    {
     "name": "stdout",
     "output_type": "stream",
     "text": [
      "5059981\n"
     ]
    },
    {
     "name": "stderr",
     "output_type": "stream",
     "text": [
      "\n",
      "\n",
      "  1%|          | 353/38976 [01:30<4:57:19,  2.17it/s]\u001b[A\u001b[A"
     ]
    },
    {
     "name": "stdout",
     "output_type": "stream",
     "text": [
      "5074381\n"
     ]
    },
    {
     "name": "stderr",
     "output_type": "stream",
     "text": [
      "\n",
      "\n",
      "  1%|          | 354/38976 [01:31<4:57:52,  2.16it/s]\u001b[A\u001b[A"
     ]
    },
    {
     "name": "stdout",
     "output_type": "stream",
     "text": [
      "5088781\n"
     ]
    },
    {
     "name": "stderr",
     "output_type": "stream",
     "text": [
      "\n",
      "\n",
      "  1%|          | 355/38976 [01:31<4:58:07,  2.16it/s]\u001b[A\u001b[A"
     ]
    },
    {
     "name": "stdout",
     "output_type": "stream",
     "text": [
      "5103181\n"
     ]
    },
    {
     "name": "stderr",
     "output_type": "stream",
     "text": [
      "\n",
      "\n",
      "  1%|          | 356/38976 [01:32<4:57:59,  2.16it/s]\u001b[A\u001b[A"
     ]
    },
    {
     "name": "stdout",
     "output_type": "stream",
     "text": [
      "5117581\n"
     ]
    },
    {
     "name": "stderr",
     "output_type": "stream",
     "text": [
      "\n",
      "\n",
      "  1%|          | 357/38976 [01:32<5:02:09,  2.13it/s]\u001b[A\u001b[A"
     ]
    },
    {
     "name": "stdout",
     "output_type": "stream",
     "text": [
      "5131981\n"
     ]
    },
    {
     "name": "stderr",
     "output_type": "stream",
     "text": [
      "\n",
      "\n",
      "  1%|          | 358/38976 [01:33<5:03:43,  2.12it/s]\u001b[A\u001b[A"
     ]
    },
    {
     "name": "stdout",
     "output_type": "stream",
     "text": [
      "5146381\n"
     ]
    },
    {
     "name": "stderr",
     "output_type": "stream",
     "text": [
      "\n",
      "\n",
      "  1%|          | 359/38976 [01:33<5:05:19,  2.11it/s]\u001b[A\u001b[A"
     ]
    },
    {
     "name": "stdout",
     "output_type": "stream",
     "text": [
      "5160781\n"
     ]
    },
    {
     "name": "stderr",
     "output_type": "stream",
     "text": [
      "\n",
      "\n",
      "  1%|          | 360/38976 [01:34<5:02:06,  2.13it/s]\u001b[A\u001b[A"
     ]
    },
    {
     "name": "stdout",
     "output_type": "stream",
     "text": [
      "5169961\n"
     ]
    },
    {
     "name": "stderr",
     "output_type": "stream",
     "text": [
      "\n",
      "\n",
      "  1%|          | 361/38976 [01:34<5:03:26,  2.12it/s]\u001b[A\u001b[A"
     ]
    },
    {
     "name": "stdout",
     "output_type": "stream",
     "text": [
      "5184361\n"
     ]
    },
    {
     "name": "stderr",
     "output_type": "stream",
     "text": [
      "\n",
      "\n",
      "  1%|          | 362/38976 [01:35<5:04:36,  2.11it/s]\u001b[A\u001b[A"
     ]
    },
    {
     "name": "stdout",
     "output_type": "stream",
     "text": [
      "5198761\n"
     ]
    },
    {
     "name": "stderr",
     "output_type": "stream",
     "text": [
      "\n",
      "\n",
      "  1%|          | 363/38976 [01:35<5:03:42,  2.12it/s]\u001b[A\u001b[A"
     ]
    },
    {
     "name": "stdout",
     "output_type": "stream",
     "text": [
      "5213161\n"
     ]
    },
    {
     "name": "stderr",
     "output_type": "stream",
     "text": [
      "\n",
      "\n",
      "  1%|          | 364/38976 [01:36<5:00:59,  2.14it/s]\u001b[A\u001b[A"
     ]
    },
    {
     "name": "stdout",
     "output_type": "stream",
     "text": [
      "5227561\n"
     ]
    },
    {
     "name": "stderr",
     "output_type": "stream",
     "text": [
      "\n",
      "\n",
      "  1%|          | 365/38976 [01:36<5:02:34,  2.13it/s]\u001b[A\u001b[A"
     ]
    },
    {
     "name": "stdout",
     "output_type": "stream",
     "text": [
      "5241961\n"
     ]
    },
    {
     "name": "stderr",
     "output_type": "stream",
     "text": [
      "\n",
      "\n",
      "  1%|          | 366/38976 [01:37<5:06:46,  2.10it/s]\u001b[A\u001b[A"
     ]
    },
    {
     "name": "stdout",
     "output_type": "stream",
     "text": [
      "5256361\n"
     ]
    },
    {
     "name": "stderr",
     "output_type": "stream",
     "text": [
      "\n",
      "\n",
      "  1%|          | 367/38976 [01:37<5:08:48,  2.08it/s]\u001b[A\u001b[A"
     ]
    },
    {
     "name": "stdout",
     "output_type": "stream",
     "text": [
      "5270761\n"
     ]
    },
    {
     "name": "stderr",
     "output_type": "stream",
     "text": [
      "\n",
      "\n",
      "  1%|          | 368/38976 [01:38<5:10:04,  2.08it/s]\u001b[A\u001b[A"
     ]
    },
    {
     "name": "stdout",
     "output_type": "stream",
     "text": [
      "5285161\n"
     ]
    },
    {
     "name": "stderr",
     "output_type": "stream",
     "text": [
      "\n",
      "\n",
      "  1%|          | 369/38976 [01:38<5:09:32,  2.08it/s]\u001b[A\u001b[A"
     ]
    },
    {
     "name": "stdout",
     "output_type": "stream",
     "text": [
      "5299561\n"
     ]
    },
    {
     "name": "stderr",
     "output_type": "stream",
     "text": [
      "\n",
      "\n",
      "  1%|          | 370/38976 [01:39<5:07:53,  2.09it/s]\u001b[A\u001b[A"
     ]
    },
    {
     "name": "stdout",
     "output_type": "stream",
     "text": [
      "5313961\n"
     ]
    },
    {
     "name": "stderr",
     "output_type": "stream",
     "text": [
      "\n",
      "\n",
      "  1%|          | 371/38976 [01:39<5:06:48,  2.10it/s]\u001b[A\u001b[A"
     ]
    },
    {
     "name": "stdout",
     "output_type": "stream",
     "text": [
      "5328361\n"
     ]
    },
    {
     "name": "stderr",
     "output_type": "stream",
     "text": [
      "\n",
      "\n",
      "  1%|          | 372/38976 [01:39<5:04:59,  2.11it/s]\u001b[A\u001b[A"
     ]
    },
    {
     "name": "stdout",
     "output_type": "stream",
     "text": [
      "5342761\n"
     ]
    },
    {
     "name": "stderr",
     "output_type": "stream",
     "text": [
      "\n",
      "\n",
      "  1%|          | 373/38976 [01:40<5:07:35,  2.09it/s]\u001b[A\u001b[A"
     ]
    },
    {
     "name": "stdout",
     "output_type": "stream",
     "text": [
      "5357161\n"
     ]
    },
    {
     "name": "stderr",
     "output_type": "stream",
     "text": [
      "\n",
      "\n",
      "  1%|          | 374/38976 [01:40<5:11:31,  2.07it/s]\u001b[A\u001b[A"
     ]
    },
    {
     "name": "stdout",
     "output_type": "stream",
     "text": [
      "5371561\n"
     ]
    },
    {
     "name": "stderr",
     "output_type": "stream",
     "text": [
      "\n",
      "\n",
      "  1%|          | 375/38976 [01:41<5:13:47,  2.05it/s]\u001b[A\u001b[A"
     ]
    },
    {
     "name": "stdout",
     "output_type": "stream",
     "text": [
      "5385961\n"
     ]
    },
    {
     "name": "stderr",
     "output_type": "stream",
     "text": [
      "\n",
      "\n",
      "  1%|          | 376/38976 [01:41<5:14:05,  2.05it/s]\u001b[A\u001b[A"
     ]
    },
    {
     "name": "stdout",
     "output_type": "stream",
     "text": [
      "5400361\n"
     ]
    },
    {
     "name": "stderr",
     "output_type": "stream",
     "text": [
      "\n",
      "\n",
      "  1%|          | 377/38976 [01:42<5:17:01,  2.03it/s]\u001b[A\u001b[A"
     ]
    },
    {
     "name": "stdout",
     "output_type": "stream",
     "text": [
      "5414761\n"
     ]
    },
    {
     "name": "stderr",
     "output_type": "stream",
     "text": [
      "\n",
      "\n",
      "  1%|          | 378/38976 [01:42<5:15:51,  2.04it/s]\u001b[A\u001b[A"
     ]
    },
    {
     "name": "stdout",
     "output_type": "stream",
     "text": [
      "5429161\n"
     ]
    },
    {
     "name": "stderr",
     "output_type": "stream",
     "text": [
      "\n",
      "\n",
      "  1%|          | 379/38976 [01:43<5:15:31,  2.04it/s]\u001b[A\u001b[A"
     ]
    },
    {
     "name": "stdout",
     "output_type": "stream",
     "text": [
      "5443561\n"
     ]
    },
    {
     "name": "stderr",
     "output_type": "stream",
     "text": [
      "\n",
      "\n",
      "  1%|          | 380/38976 [01:43<5:15:11,  2.04it/s]\u001b[A\u001b[A"
     ]
    },
    {
     "name": "stdout",
     "output_type": "stream",
     "text": [
      "5457961\n"
     ]
    },
    {
     "name": "stderr",
     "output_type": "stream",
     "text": [
      "\n",
      "\n",
      "  1%|          | 381/38976 [01:44<5:15:10,  2.04it/s]\u001b[A\u001b[A"
     ]
    },
    {
     "name": "stdout",
     "output_type": "stream",
     "text": [
      "5472361\n"
     ]
    },
    {
     "name": "stderr",
     "output_type": "stream",
     "text": [
      "\n",
      "\n",
      "  1%|          | 382/38976 [01:44<5:15:29,  2.04it/s]\u001b[A\u001b[A"
     ]
    },
    {
     "name": "stdout",
     "output_type": "stream",
     "text": [
      "5481541\n"
     ]
    },
    {
     "name": "stderr",
     "output_type": "stream",
     "text": [
      "\n",
      "\n",
      "  1%|          | 383/38976 [01:45<5:20:04,  2.01it/s]\u001b[A\u001b[A"
     ]
    },
    {
     "name": "stdout",
     "output_type": "stream",
     "text": [
      "5495941\n"
     ]
    },
    {
     "name": "stderr",
     "output_type": "stream",
     "text": [
      "\n",
      "\n",
      "  1%|          | 384/38976 [01:45<5:14:48,  2.04it/s]\u001b[A\u001b[A"
     ]
    },
    {
     "name": "stdout",
     "output_type": "stream",
     "text": [
      "5510341\n"
     ]
    },
    {
     "name": "stderr",
     "output_type": "stream",
     "text": [
      "\n",
      "\n",
      "  1%|          | 385/38976 [01:46<5:16:21,  2.03it/s]\u001b[A\u001b[A"
     ]
    },
    {
     "name": "stdout",
     "output_type": "stream",
     "text": [
      "5523661\n"
     ]
    },
    {
     "name": "stderr",
     "output_type": "stream",
     "text": [
      "\n",
      "\n",
      "  1%|          | 386/38976 [01:46<5:17:18,  2.03it/s]\u001b[A\u001b[A"
     ]
    },
    {
     "name": "stdout",
     "output_type": "stream",
     "text": [
      "5538061\n"
     ]
    },
    {
     "name": "stderr",
     "output_type": "stream",
     "text": [
      "\n",
      "\n",
      "  1%|          | 387/38976 [01:47<5:18:03,  2.02it/s]\u001b[A\u001b[A"
     ]
    },
    {
     "name": "stdout",
     "output_type": "stream",
     "text": [
      "5552461\n"
     ]
    },
    {
     "name": "stderr",
     "output_type": "stream",
     "text": [
      "\n",
      "\n",
      "  1%|          | 388/38976 [01:47<5:17:18,  2.03it/s]\u001b[A\u001b[A"
     ]
    },
    {
     "name": "stdout",
     "output_type": "stream",
     "text": [
      "5566861\n"
     ]
    },
    {
     "name": "stderr",
     "output_type": "stream",
     "text": [
      "\n",
      "\n",
      "  1%|          | 389/38976 [01:48<5:18:46,  2.02it/s]\u001b[A\u001b[A"
     ]
    },
    {
     "name": "stdout",
     "output_type": "stream",
     "text": [
      "5581261\n"
     ]
    },
    {
     "name": "stderr",
     "output_type": "stream",
     "text": [
      "\n",
      "\n",
      "  1%|          | 390/38976 [01:48<5:21:32,  2.00it/s]\u001b[A\u001b[A"
     ]
    },
    {
     "name": "stdout",
     "output_type": "stream",
     "text": [
      "5595661\n"
     ]
    },
    {
     "name": "stderr",
     "output_type": "stream",
     "text": [
      "\n",
      "\n",
      "  1%|          | 391/38976 [01:49<5:24:46,  1.98it/s]\u001b[A\u001b[A"
     ]
    },
    {
     "name": "stdout",
     "output_type": "stream",
     "text": [
      "5610061\n"
     ]
    },
    {
     "name": "stderr",
     "output_type": "stream",
     "text": [
      "\n",
      "\n",
      "  1%|          | 392/38976 [01:49<5:28:30,  1.96it/s]\u001b[A\u001b[A"
     ]
    },
    {
     "name": "stdout",
     "output_type": "stream",
     "text": [
      "5624461\n"
     ]
    },
    {
     "name": "stderr",
     "output_type": "stream",
     "text": [
      "\n",
      "\n",
      "  1%|          | 393/38976 [01:50<5:31:08,  1.94it/s]\u001b[A\u001b[A"
     ]
    },
    {
     "name": "stdout",
     "output_type": "stream",
     "text": [
      "5638861\n"
     ]
    },
    {
     "name": "stderr",
     "output_type": "stream",
     "text": [
      "\n",
      "\n",
      "  1%|          | 394/38976 [01:50<5:34:00,  1.93it/s]\u001b[A\u001b[A"
     ]
    },
    {
     "name": "stdout",
     "output_type": "stream",
     "text": [
      "5653261\n"
     ]
    },
    {
     "name": "stderr",
     "output_type": "stream",
     "text": [
      "\n",
      "\n",
      "  1%|          | 395/38976 [01:51<5:32:45,  1.93it/s]\u001b[A\u001b[A"
     ]
    },
    {
     "name": "stdout",
     "output_type": "stream",
     "text": [
      "5667661\n"
     ]
    },
    {
     "name": "stderr",
     "output_type": "stream",
     "text": [
      "\n",
      "\n",
      "  1%|          | 396/38976 [01:51<5:29:22,  1.95it/s]\u001b[A\u001b[A"
     ]
    },
    {
     "name": "stdout",
     "output_type": "stream",
     "text": [
      "5681161\n"
     ]
    },
    {
     "name": "stderr",
     "output_type": "stream",
     "text": [
      "\n",
      "\n",
      "  1%|          | 397/38976 [01:52<5:28:01,  1.96it/s]\u001b[A\u001b[A"
     ]
    },
    {
     "name": "stdout",
     "output_type": "stream",
     "text": [
      "5695561\n"
     ]
    },
    {
     "name": "stderr",
     "output_type": "stream",
     "text": [
      "\n",
      "\n",
      "  1%|          | 398/38976 [01:53<5:31:15,  1.94it/s]\u001b[A\u001b[A"
     ]
    },
    {
     "name": "stdout",
     "output_type": "stream",
     "text": [
      "5709961\n"
     ]
    },
    {
     "name": "stderr",
     "output_type": "stream",
     "text": [
      "\n",
      "\n",
      "  1%|          | 399/38976 [01:53<5:33:07,  1.93it/s]\u001b[A\u001b[A"
     ]
    },
    {
     "name": "stdout",
     "output_type": "stream",
     "text": [
      "5723281\n"
     ]
    },
    {
     "name": "stderr",
     "output_type": "stream",
     "text": [
      "\n",
      "\n",
      "  1%|          | 400/38976 [01:54<5:35:00,  1.92it/s]\u001b[A\u001b[A"
     ]
    },
    {
     "name": "stdout",
     "output_type": "stream",
     "text": [
      "5737681\n"
     ]
    },
    {
     "name": "stderr",
     "output_type": "stream",
     "text": [
      "\n",
      "\n",
      "  1%|          | 401/38976 [01:54<5:35:19,  1.92it/s]\u001b[A\u001b[A"
     ]
    },
    {
     "name": "stdout",
     "output_type": "stream",
     "text": [
      "5751829\n"
     ]
    },
    {
     "name": "stderr",
     "output_type": "stream",
     "text": [
      "\n",
      "\n",
      "  1%|          | 402/38976 [01:55<5:35:26,  1.92it/s]\u001b[A\u001b[A"
     ]
    },
    {
     "name": "stdout",
     "output_type": "stream",
     "text": [
      "5766229\n"
     ]
    },
    {
     "name": "stderr",
     "output_type": "stream",
     "text": [
      "\n",
      "\n",
      "  1%|          | 403/38976 [01:55<5:34:37,  1.92it/s]\u001b[A\u001b[A"
     ]
    },
    {
     "name": "stdout",
     "output_type": "stream",
     "text": [
      "5780629\n"
     ]
    },
    {
     "name": "stderr",
     "output_type": "stream",
     "text": [
      "\n",
      "\n",
      "  1%|          | 404/38976 [01:56<5:32:51,  1.93it/s]\u001b[A\u001b[A"
     ]
    },
    {
     "name": "stdout",
     "output_type": "stream",
     "text": [
      "5795029\n"
     ]
    },
    {
     "name": "stderr",
     "output_type": "stream",
     "text": [
      "\n",
      "\n",
      "  1%|          | 405/38976 [01:56<5:34:21,  1.92it/s]\u001b[A\u001b[A"
     ]
    },
    {
     "name": "stdout",
     "output_type": "stream",
     "text": [
      "5809429\n"
     ]
    },
    {
     "name": "stderr",
     "output_type": "stream",
     "text": [
      "\n",
      "\n",
      "  1%|          | 406/38976 [01:57<5:36:49,  1.91it/s]\u001b[A\u001b[A"
     ]
    },
    {
     "name": "stdout",
     "output_type": "stream",
     "text": [
      "5823829\n"
     ]
    },
    {
     "name": "stderr",
     "output_type": "stream",
     "text": [
      "\n",
      "\n",
      "  1%|          | 407/38976 [01:57<5:39:05,  1.90it/s]\u001b[A\u001b[A"
     ]
    },
    {
     "name": "stdout",
     "output_type": "stream",
     "text": [
      "5838229\n"
     ]
    },
    {
     "name": "stderr",
     "output_type": "stream",
     "text": [
      "\n",
      "\n",
      "  1%|          | 408/38976 [01:58<5:37:13,  1.91it/s]\u001b[A\u001b[A"
     ]
    },
    {
     "name": "stdout",
     "output_type": "stream",
     "text": [
      "5852629\n"
     ]
    },
    {
     "name": "stderr",
     "output_type": "stream",
     "text": [
      "\n",
      "\n",
      "  1%|          | 409/38976 [01:58<5:37:45,  1.90it/s]\u001b[A\u001b[A"
     ]
    },
    {
     "name": "stdout",
     "output_type": "stream",
     "text": [
      "5867029\n"
     ]
    },
    {
     "name": "stderr",
     "output_type": "stream",
     "text": [
      "\n",
      "\n",
      "  1%|          | 410/38976 [01:59<5:37:25,  1.90it/s]\u001b[A\u001b[A"
     ]
    },
    {
     "name": "stdout",
     "output_type": "stream",
     "text": [
      "5881429\n"
     ]
    },
    {
     "name": "stderr",
     "output_type": "stream",
     "text": [
      "\n",
      "\n",
      "  1%|          | 411/38976 [01:59<5:36:31,  1.91it/s]\u001b[A\u001b[A"
     ]
    },
    {
     "name": "stdout",
     "output_type": "stream",
     "text": [
      "5895829\n"
     ]
    },
    {
     "name": "stderr",
     "output_type": "stream",
     "text": [
      "\n",
      "\n",
      "  1%|          | 412/38976 [02:00<5:34:40,  1.92it/s]\u001b[A\u001b[A"
     ]
    },
    {
     "name": "stdout",
     "output_type": "stream",
     "text": [
      "5910229\n"
     ]
    },
    {
     "name": "stderr",
     "output_type": "stream",
     "text": [
      "\n",
      "\n",
      "  1%|          | 413/38976 [02:00<5:37:19,  1.91it/s]\u001b[A\u001b[A"
     ]
    },
    {
     "name": "stdout",
     "output_type": "stream",
     "text": [
      "5924629\n"
     ]
    },
    {
     "name": "stderr",
     "output_type": "stream",
     "text": [
      "\n",
      "\n",
      "  1%|          | 414/38976 [02:01<5:44:12,  1.87it/s]\u001b[A\u001b[A"
     ]
    },
    {
     "name": "stdout",
     "output_type": "stream",
     "text": [
      "5939029\n"
     ]
    },
    {
     "name": "stderr",
     "output_type": "stream",
     "text": [
      "\n",
      "\n",
      "  1%|          | 415/38976 [02:01<5:46:33,  1.85it/s]\u001b[A\u001b[A"
     ]
    },
    {
     "name": "stdout",
     "output_type": "stream",
     "text": [
      "5953429\n"
     ]
    },
    {
     "name": "stderr",
     "output_type": "stream",
     "text": [
      "\n",
      "\n",
      "  1%|          | 416/38976 [02:02<5:47:03,  1.85it/s]\u001b[A\u001b[A"
     ]
    },
    {
     "name": "stdout",
     "output_type": "stream",
     "text": [
      "5967829\n"
     ]
    },
    {
     "name": "stderr",
     "output_type": "stream",
     "text": [
      "\n",
      "\n",
      "  1%|          | 417/38976 [02:03<5:46:46,  1.85it/s]\u001b[A\u001b[A"
     ]
    },
    {
     "name": "stdout",
     "output_type": "stream",
     "text": [
      "5981329\n"
     ]
    },
    {
     "name": "stderr",
     "output_type": "stream",
     "text": [
      "\n",
      "\n",
      "  1%|          | 418/38976 [02:03<5:48:12,  1.85it/s]\u001b[A\u001b[A"
     ]
    },
    {
     "name": "stdout",
     "output_type": "stream",
     "text": [
      "6009949\n"
     ]
    },
    {
     "name": "stderr",
     "output_type": "stream",
     "text": [
      "\n",
      "\n",
      "  1%|          | 419/38976 [02:04<5:47:58,  1.85it/s]\u001b[A\u001b[A"
     ]
    },
    {
     "name": "stdout",
     "output_type": "stream",
     "text": [
      "6024349\n"
     ]
    },
    {
     "name": "stderr",
     "output_type": "stream",
     "text": [
      "\n",
      "\n",
      "  1%|          | 420/38976 [02:04<5:45:21,  1.86it/s]\u001b[A\u001b[A"
     ]
    },
    {
     "name": "stdout",
     "output_type": "stream",
     "text": [
      "6038749\n"
     ]
    },
    {
     "name": "stderr",
     "output_type": "stream",
     "text": [
      "\n",
      "\n",
      "  1%|          | 421/38976 [02:05<5:47:41,  1.85it/s]\u001b[A\u001b[A"
     ]
    },
    {
     "name": "stdout",
     "output_type": "stream",
     "text": [
      "6053149\n"
     ]
    },
    {
     "name": "stderr",
     "output_type": "stream",
     "text": [
      "\n",
      "\n",
      "  1%|          | 422/38976 [02:05<5:50:05,  1.84it/s]\u001b[A\u001b[A"
     ]
    },
    {
     "name": "stdout",
     "output_type": "stream",
     "text": [
      "6067549\n"
     ]
    },
    {
     "name": "stderr",
     "output_type": "stream",
     "text": [
      "\n",
      "\n",
      "  1%|          | 423/38976 [02:06<5:50:29,  1.83it/s]\u001b[A\u001b[A"
     ]
    },
    {
     "name": "stdout",
     "output_type": "stream",
     "text": [
      "6080869\n"
     ]
    },
    {
     "name": "stderr",
     "output_type": "stream",
     "text": [
      "\n",
      "\n",
      "  1%|          | 424/38976 [02:06<5:50:44,  1.83it/s]\u001b[A\u001b[A"
     ]
    },
    {
     "name": "stdout",
     "output_type": "stream",
     "text": [
      "6095269\n"
     ]
    },
    {
     "name": "stderr",
     "output_type": "stream",
     "text": [
      "\n",
      "\n",
      "  1%|          | 425/38976 [02:07<5:48:49,  1.84it/s]\u001b[A\u001b[A"
     ]
    },
    {
     "name": "stdout",
     "output_type": "stream",
     "text": [
      "6109669\n"
     ]
    },
    {
     "name": "stderr",
     "output_type": "stream",
     "text": [
      "\n",
      "\n",
      "  1%|          | 426/38976 [02:07<5:46:47,  1.85it/s]\u001b[A\u001b[A"
     ]
    },
    {
     "name": "stdout",
     "output_type": "stream",
     "text": [
      "6124069\n"
     ]
    },
    {
     "name": "stderr",
     "output_type": "stream",
     "text": [
      "\n",
      "\n",
      "  1%|          | 427/38976 [02:08<5:49:51,  1.84it/s]\u001b[A\u001b[A"
     ]
    },
    {
     "name": "stdout",
     "output_type": "stream",
     "text": [
      "6138469\n"
     ]
    },
    {
     "name": "stderr",
     "output_type": "stream",
     "text": [
      "\n",
      "\n",
      "  1%|          | 428/38976 [02:09<5:53:32,  1.82it/s]\u001b[A\u001b[A"
     ]
    },
    {
     "name": "stdout",
     "output_type": "stream",
     "text": [
      "6152869\n"
     ]
    },
    {
     "name": "stderr",
     "output_type": "stream",
     "text": [
      "\n",
      "\n",
      "  1%|          | 429/38976 [02:09<5:54:55,  1.81it/s]\u001b[A\u001b[A"
     ]
    },
    {
     "name": "stdout",
     "output_type": "stream",
     "text": [
      "6166369\n"
     ]
    },
    {
     "name": "stderr",
     "output_type": "stream",
     "text": [
      "\n",
      "\n",
      "  1%|          | 430/38976 [02:10<5:56:53,  1.80it/s]\u001b[A\u001b[A"
     ]
    },
    {
     "name": "stdout",
     "output_type": "stream",
     "text": [
      "6180769\n"
     ]
    },
    {
     "name": "stderr",
     "output_type": "stream",
     "text": [
      "\n",
      "\n",
      "  1%|          | 431/38976 [02:10<5:55:01,  1.81it/s]\u001b[A\u001b[A"
     ]
    },
    {
     "name": "stdout",
     "output_type": "stream",
     "text": [
      "6195169\n"
     ]
    },
    {
     "name": "stderr",
     "output_type": "stream",
     "text": [
      "\n",
      "\n",
      "  1%|          | 432/38976 [02:11<5:53:55,  1.82it/s]\u001b[A\u001b[A"
     ]
    },
    {
     "name": "stdout",
     "output_type": "stream",
     "text": [
      "6209569\n"
     ]
    },
    {
     "name": "stderr",
     "output_type": "stream",
     "text": [
      "\n",
      "\n",
      "  1%|          | 433/38976 [02:11<5:54:47,  1.81it/s]\u001b[A\u001b[A"
     ]
    },
    {
     "name": "stdout",
     "output_type": "stream",
     "text": [
      "6223069\n"
     ]
    },
    {
     "name": "stderr",
     "output_type": "stream",
     "text": [
      "\n",
      "\n",
      "  1%|          | 434/38976 [02:12<5:55:49,  1.81it/s]\u001b[A\u001b[A"
     ]
    },
    {
     "name": "stdout",
     "output_type": "stream",
     "text": [
      "6237469\n"
     ]
    },
    {
     "name": "stderr",
     "output_type": "stream",
     "text": [
      "\n",
      "\n",
      "  1%|          | 435/38976 [02:12<6:00:50,  1.78it/s]\u001b[A\u001b[A"
     ]
    },
    {
     "name": "stdout",
     "output_type": "stream",
     "text": [
      "6251869\n"
     ]
    },
    {
     "name": "stderr",
     "output_type": "stream",
     "text": [
      "\n",
      "\n",
      "  1%|          | 436/38976 [02:13<6:09:46,  1.74it/s]\u001b[A\u001b[A"
     ]
    },
    {
     "name": "stdout",
     "output_type": "stream",
     "text": [
      "6280489\n"
     ]
    },
    {
     "name": "stderr",
     "output_type": "stream",
     "text": [
      "\n",
      "\n",
      "  1%|          | 437/38976 [02:14<6:12:28,  1.72it/s]\u001b[A\u001b[A"
     ]
    },
    {
     "name": "stdout",
     "output_type": "stream",
     "text": [
      "6294889\n"
     ]
    },
    {
     "name": "stderr",
     "output_type": "stream",
     "text": [
      "\n",
      "\n",
      "  1%|          | 438/38976 [02:14<6:10:24,  1.73it/s]\u001b[A\u001b[A"
     ]
    },
    {
     "name": "stdout",
     "output_type": "stream",
     "text": [
      "6309289\n"
     ]
    },
    {
     "name": "stderr",
     "output_type": "stream",
     "text": [
      "\n",
      "\n",
      "  1%|          | 439/38976 [02:15<6:09:48,  1.74it/s]\u001b[A\u001b[A"
     ]
    },
    {
     "name": "stdout",
     "output_type": "stream",
     "text": [
      "6323689\n"
     ]
    },
    {
     "name": "stderr",
     "output_type": "stream",
     "text": [
      "\n",
      "\n",
      "  1%|          | 440/38976 [02:15<6:10:45,  1.73it/s]\u001b[A\u001b[A"
     ]
    },
    {
     "name": "stdout",
     "output_type": "stream",
     "text": [
      "6338089\n"
     ]
    },
    {
     "name": "stderr",
     "output_type": "stream",
     "text": [
      "\n",
      "\n",
      "  1%|          | 441/38976 [02:16<6:11:42,  1.73it/s]\u001b[A\u001b[A"
     ]
    },
    {
     "name": "stdout",
     "output_type": "stream",
     "text": [
      "6352489\n"
     ]
    },
    {
     "name": "stderr",
     "output_type": "stream",
     "text": [
      "\n",
      "\n",
      "  1%|          | 442/38976 [02:17<6:16:00,  1.71it/s]\u001b[A\u001b[A"
     ]
    },
    {
     "name": "stdout",
     "output_type": "stream",
     "text": [
      "6366889\n"
     ]
    },
    {
     "name": "stderr",
     "output_type": "stream",
     "text": [
      "\n",
      "\n",
      "  1%|          | 443/38976 [02:17<6:19:46,  1.69it/s]\u001b[A\u001b[A"
     ]
    },
    {
     "name": "stdout",
     "output_type": "stream",
     "text": [
      "6381289\n"
     ]
    },
    {
     "name": "stderr",
     "output_type": "stream",
     "text": [
      "\n",
      "\n",
      "  1%|          | 444/38976 [02:18<6:20:12,  1.69it/s]\u001b[A\u001b[A"
     ]
    },
    {
     "name": "stdout",
     "output_type": "stream",
     "text": [
      "6395689\n"
     ]
    },
    {
     "name": "stderr",
     "output_type": "stream",
     "text": [
      "\n",
      "\n",
      "  1%|          | 445/38976 [02:18<6:16:05,  1.71it/s]\u001b[A\u001b[A"
     ]
    },
    {
     "name": "stdout",
     "output_type": "stream",
     "text": [
      "6410089\n"
     ]
    },
    {
     "name": "stderr",
     "output_type": "stream",
     "text": [
      "\n",
      "\n",
      "  1%|          | 446/38976 [02:19<6:15:14,  1.71it/s]\u001b[A\u001b[A"
     ]
    },
    {
     "name": "stdout",
     "output_type": "stream",
     "text": [
      "6424489\n"
     ]
    },
    {
     "name": "stderr",
     "output_type": "stream",
     "text": [
      "\n",
      "\n",
      "  1%|          | 447/38976 [02:20<6:15:15,  1.71it/s]\u001b[A\u001b[A"
     ]
    },
    {
     "name": "stdout",
     "output_type": "stream",
     "text": [
      "6438889\n"
     ]
    },
    {
     "name": "stderr",
     "output_type": "stream",
     "text": [
      "\n",
      "\n",
      "  1%|          | 448/38976 [02:20<6:16:35,  1.71it/s]\u001b[A\u001b[A"
     ]
    },
    {
     "name": "stdout",
     "output_type": "stream",
     "text": [
      "6453289\n"
     ]
    },
    {
     "name": "stderr",
     "output_type": "stream",
     "text": [
      "\n",
      "\n",
      "  1%|          | 449/38976 [02:21<6:19:39,  1.69it/s]\u001b[A\u001b[A"
     ]
    },
    {
     "name": "stdout",
     "output_type": "stream",
     "text": [
      "6467689\n"
     ]
    },
    {
     "name": "stderr",
     "output_type": "stream",
     "text": [
      "\n",
      "\n",
      "  1%|          | 450/38976 [02:21<6:20:21,  1.69it/s]\u001b[A\u001b[A"
     ]
    },
    {
     "name": "stdout",
     "output_type": "stream",
     "text": [
      "6482089\n"
     ]
    },
    {
     "name": "stderr",
     "output_type": "stream",
     "text": [
      "\n",
      "\n",
      "  1%|          | 451/38976 [02:22<6:18:31,  1.70it/s]\u001b[A\u001b[A"
     ]
    },
    {
     "name": "stdout",
     "output_type": "stream",
     "text": [
      "6496489\n"
     ]
    },
    {
     "name": "stderr",
     "output_type": "stream",
     "text": [
      "\n",
      "\n",
      "  1%|          | 452/38976 [02:22<6:16:39,  1.70it/s]\u001b[A\u001b[A"
     ]
    },
    {
     "name": "stdout",
     "output_type": "stream",
     "text": [
      "6510889\n"
     ]
    },
    {
     "name": "stderr",
     "output_type": "stream",
     "text": [
      "\n",
      "\n",
      "  1%|          | 453/38976 [02:23<6:14:48,  1.71it/s]\u001b[A\u001b[A"
     ]
    },
    {
     "name": "stdout",
     "output_type": "stream",
     "text": [
      "6525289\n"
     ]
    },
    {
     "name": "stderr",
     "output_type": "stream",
     "text": [
      "\n",
      "\n",
      "  1%|          | 454/38976 [02:24<6:14:25,  1.71it/s]\u001b[A\u001b[A"
     ]
    },
    {
     "name": "stdout",
     "output_type": "stream",
     "text": [
      "6539689\n"
     ]
    },
    {
     "name": "stderr",
     "output_type": "stream",
     "text": [
      "\n",
      "\n",
      "  1%|          | 455/38976 [02:24<6:14:04,  1.72it/s]\u001b[A\u001b[A"
     ]
    },
    {
     "name": "stdout",
     "output_type": "stream",
     "text": [
      "6554089\n"
     ]
    },
    {
     "name": "stderr",
     "output_type": "stream",
     "text": [
      "\n",
      "\n",
      "  1%|          | 456/38976 [02:25<6:13:05,  1.72it/s]\u001b[A\u001b[A"
     ]
    },
    {
     "name": "stdout",
     "output_type": "stream",
     "text": [
      "6568489\n"
     ]
    },
    {
     "name": "stderr",
     "output_type": "stream",
     "text": [
      "\n",
      "\n",
      "  1%|          | 457/38976 [02:25<6:15:25,  1.71it/s]\u001b[A\u001b[A"
     ]
    },
    {
     "name": "stdout",
     "output_type": "stream",
     "text": [
      "6582889\n"
     ]
    },
    {
     "name": "stderr",
     "output_type": "stream",
     "text": [
      "\n",
      "\n",
      "  1%|          | 458/38976 [02:26<6:18:31,  1.70it/s]\u001b[A\u001b[A"
     ]
    },
    {
     "name": "stdout",
     "output_type": "stream",
     "text": [
      "6597289\n"
     ]
    },
    {
     "name": "stderr",
     "output_type": "stream",
     "text": [
      "\n",
      "\n",
      "  1%|          | 459/38976 [02:27<6:18:31,  1.70it/s]\u001b[A\u001b[A"
     ]
    },
    {
     "name": "stdout",
     "output_type": "stream",
     "text": [
      "6611689\n"
     ]
    },
    {
     "name": "stderr",
     "output_type": "stream",
     "text": [
      "\n",
      "\n",
      "  1%|          | 460/38976 [02:27<6:18:00,  1.70it/s]\u001b[A\u001b[A"
     ]
    },
    {
     "name": "stdout",
     "output_type": "stream",
     "text": [
      "6625189\n"
     ]
    },
    {
     "name": "stderr",
     "output_type": "stream",
     "text": [
      "\n",
      "\n",
      "  1%|          | 461/38976 [02:28<6:18:12,  1.70it/s]\u001b[A\u001b[A"
     ]
    },
    {
     "name": "stdout",
     "output_type": "stream",
     "text": [
      "6639589\n"
     ]
    },
    {
     "name": "stderr",
     "output_type": "stream",
     "text": [
      "\n",
      "\n",
      "  1%|          | 462/38976 [02:28<6:16:22,  1.71it/s]\u001b[A\u001b[A"
     ]
    },
    {
     "name": "stdout",
     "output_type": "stream",
     "text": [
      "6653989\n"
     ]
    },
    {
     "name": "stderr",
     "output_type": "stream",
     "text": [
      "\n",
      "\n",
      "  1%|          | 463/38976 [02:29<6:22:11,  1.68it/s]\u001b[A\u001b[A"
     ]
    },
    {
     "name": "stdout",
     "output_type": "stream",
     "text": [
      "6668389\n"
     ]
    },
    {
     "name": "stderr",
     "output_type": "stream",
     "text": [
      "\n",
      "\n",
      "  1%|          | 464/38976 [02:30<6:23:27,  1.67it/s]\u001b[A\u001b[A"
     ]
    },
    {
     "name": "stdout",
     "output_type": "stream",
     "text": [
      "6682789\n"
     ]
    },
    {
     "name": "stderr",
     "output_type": "stream",
     "text": [
      "\n",
      "\n",
      "  1%|          | 465/38976 [02:30<6:26:14,  1.66it/s]\u001b[A\u001b[A"
     ]
    },
    {
     "name": "stdout",
     "output_type": "stream",
     "text": [
      "6697189\n"
     ]
    },
    {
     "name": "stderr",
     "output_type": "stream",
     "text": [
      "\n",
      "\n",
      "  1%|          | 466/38976 [02:31<6:26:38,  1.66it/s]\u001b[A\u001b[A"
     ]
    },
    {
     "name": "stdout",
     "output_type": "stream",
     "text": [
      "6711589\n"
     ]
    },
    {
     "name": "stderr",
     "output_type": "stream",
     "text": [
      "\n",
      "\n",
      "  1%|          | 467/38976 [02:31<6:25:42,  1.66it/s]\u001b[A\u001b[A"
     ]
    },
    {
     "name": "stdout",
     "output_type": "stream",
     "text": [
      "6724909\n"
     ]
    },
    {
     "name": "stderr",
     "output_type": "stream",
     "text": [
      "\n",
      "\n",
      "  1%|          | 468/38976 [02:32<6:23:50,  1.67it/s]\u001b[A\u001b[A"
     ]
    },
    {
     "name": "stdout",
     "output_type": "stream",
     "text": [
      "6739309\n"
     ]
    },
    {
     "name": "stderr",
     "output_type": "stream",
     "text": [
      "\n",
      "\n",
      "  1%|          | 469/38976 [02:33<6:24:49,  1.67it/s]\u001b[A\u001b[A"
     ]
    },
    {
     "name": "stdout",
     "output_type": "stream",
     "text": [
      "6753709\n"
     ]
    },
    {
     "name": "stderr",
     "output_type": "stream",
     "text": [
      "\n",
      "\n",
      "  1%|          | 470/38976 [02:33<6:27:29,  1.66it/s]\u001b[A\u001b[A"
     ]
    },
    {
     "name": "stdout",
     "output_type": "stream",
     "text": [
      "6768109\n"
     ]
    },
    {
     "name": "stderr",
     "output_type": "stream",
     "text": [
      "\n",
      "\n",
      "  1%|          | 471/38976 [02:34<6:21:27,  1.68it/s]\u001b[A\u001b[A"
     ]
    },
    {
     "name": "stdout",
     "output_type": "stream",
     "text": [
      "6782509\n"
     ]
    },
    {
     "name": "stderr",
     "output_type": "stream",
     "text": [
      "\n",
      "\n",
      "  1%|          | 472/38976 [02:34<6:23:46,  1.67it/s]\u001b[A\u001b[A"
     ]
    },
    {
     "name": "stdout",
     "output_type": "stream",
     "text": [
      "6796909\n"
     ]
    },
    {
     "name": "stderr",
     "output_type": "stream",
     "text": [
      "\n",
      "\n",
      "  1%|          | 473/38976 [02:35<6:23:20,  1.67it/s]\u001b[A\u001b[A"
     ]
    },
    {
     "name": "stdout",
     "output_type": "stream",
     "text": [
      "6811309\n"
     ]
    },
    {
     "name": "stderr",
     "output_type": "stream",
     "text": [
      "\n",
      "\n",
      "  1%|          | 474/38976 [02:36<6:21:48,  1.68it/s]\u001b[A\u001b[A"
     ]
    },
    {
     "name": "stdout",
     "output_type": "stream",
     "text": [
      "6825709\n"
     ]
    },
    {
     "name": "stderr",
     "output_type": "stream",
     "text": [
      "\n",
      "\n",
      "  1%|          | 475/38976 [02:36<6:21:35,  1.68it/s]\u001b[A\u001b[A"
     ]
    },
    {
     "name": "stdout",
     "output_type": "stream",
     "text": [
      "6840109\n"
     ]
    },
    {
     "name": "stderr",
     "output_type": "stream",
     "text": [
      "\n",
      "\n",
      "  1%|          | 476/38976 [02:37<6:24:44,  1.67it/s]\u001b[A\u001b[A"
     ]
    },
    {
     "name": "stdout",
     "output_type": "stream",
     "text": [
      "6854509\n"
     ]
    },
    {
     "name": "stderr",
     "output_type": "stream",
     "text": [
      "\n",
      "\n",
      "  1%|          | 477/38976 [02:37<6:27:02,  1.66it/s]\u001b[A\u001b[A"
     ]
    },
    {
     "name": "stdout",
     "output_type": "stream",
     "text": [
      "6868909\n"
     ]
    },
    {
     "name": "stderr",
     "output_type": "stream",
     "text": [
      "\n",
      "\n",
      "  1%|          | 478/38976 [02:38<6:27:46,  1.65it/s]\u001b[A\u001b[A"
     ]
    },
    {
     "name": "stdout",
     "output_type": "stream",
     "text": [
      "6883309\n"
     ]
    },
    {
     "name": "stderr",
     "output_type": "stream",
     "text": [
      "\n",
      "\n",
      "  1%|          | 479/38976 [02:39<6:25:47,  1.66it/s]\u001b[A\u001b[A"
     ]
    },
    {
     "name": "stdout",
     "output_type": "stream",
     "text": [
      "6897709\n"
     ]
    },
    {
     "name": "stderr",
     "output_type": "stream",
     "text": [
      "\n",
      "\n",
      "  1%|          | 480/38976 [02:39<6:23:50,  1.67it/s]\u001b[A\u001b[A"
     ]
    },
    {
     "name": "stdout",
     "output_type": "stream",
     "text": [
      "6912109\n"
     ]
    },
    {
     "name": "stderr",
     "output_type": "stream",
     "text": [
      "\n",
      "\n",
      "  1%|          | 481/38976 [02:40<6:26:12,  1.66it/s]\u001b[A\u001b[A"
     ]
    },
    {
     "name": "stdout",
     "output_type": "stream",
     "text": [
      "6926509\n"
     ]
    },
    {
     "name": "stderr",
     "output_type": "stream",
     "text": [
      "\n",
      "\n",
      "  1%|          | 482/38976 [02:40<6:29:24,  1.65it/s]\u001b[A\u001b[A"
     ]
    },
    {
     "name": "stdout",
     "output_type": "stream",
     "text": [
      "6940909\n"
     ]
    },
    {
     "name": "stderr",
     "output_type": "stream",
     "text": [
      "\n",
      "\n",
      "  1%|          | 483/38976 [02:41<6:33:07,  1.63it/s]\u001b[A\u001b[A"
     ]
    },
    {
     "name": "stdout",
     "output_type": "stream",
     "text": [
      "6955309\n"
     ]
    },
    {
     "name": "stderr",
     "output_type": "stream",
     "text": [
      "\n",
      "\n",
      "  1%|          | 484/38976 [02:42<6:31:45,  1.64it/s]\u001b[A\u001b[A"
     ]
    },
    {
     "name": "stdout",
     "output_type": "stream",
     "text": [
      "6969709\n"
     ]
    },
    {
     "name": "stderr",
     "output_type": "stream",
     "text": [
      "\n",
      "\n",
      "  1%|          | 485/38976 [02:42<6:33:42,  1.63it/s]\u001b[A\u001b[A"
     ]
    },
    {
     "name": "stdout",
     "output_type": "stream",
     "text": [
      "6984109\n"
     ]
    },
    {
     "name": "stderr",
     "output_type": "stream",
     "text": [
      "\n",
      "\n",
      "  1%|          | 486/38976 [02:43<6:34:05,  1.63it/s]\u001b[A\u001b[A"
     ]
    },
    {
     "name": "stdout",
     "output_type": "stream",
     "text": [
      "6998509\n"
     ]
    },
    {
     "name": "stderr",
     "output_type": "stream",
     "text": [
      "\n",
      "\n",
      "  1%|          | 487/38976 [02:43<6:34:04,  1.63it/s]\u001b[A\u001b[A"
     ]
    },
    {
     "name": "stdout",
     "output_type": "stream",
     "text": [
      "7012909\n"
     ]
    },
    {
     "name": "stderr",
     "output_type": "stream",
     "text": [
      "\n",
      "\n",
      "  1%|▏         | 488/38976 [02:44<6:35:05,  1.62it/s]\u001b[A\u001b[A"
     ]
    },
    {
     "name": "stdout",
     "output_type": "stream",
     "text": [
      "7027309\n"
     ]
    },
    {
     "name": "stderr",
     "output_type": "stream",
     "text": [
      "\n",
      "\n",
      "  1%|▏         | 489/38976 [02:45<6:38:44,  1.61it/s]\u001b[A\u001b[A"
     ]
    },
    {
     "name": "stdout",
     "output_type": "stream",
     "text": [
      "7040809\n"
     ]
    },
    {
     "name": "stderr",
     "output_type": "stream",
     "text": [
      "\n",
      "\n",
      "  1%|▏         | 490/38976 [02:45<6:44:27,  1.59it/s]\u001b[A\u001b[A"
     ]
    },
    {
     "name": "stdout",
     "output_type": "stream",
     "text": [
      "7055209\n"
     ]
    },
    {
     "name": "stderr",
     "output_type": "stream",
     "text": [
      "\n",
      "\n",
      "  1%|▏         | 491/38976 [02:46<6:46:26,  1.58it/s]\u001b[A\u001b[A"
     ]
    },
    {
     "name": "stdout",
     "output_type": "stream",
     "text": [
      "7069609\n"
     ]
    },
    {
     "name": "stderr",
     "output_type": "stream",
     "text": [
      "\n",
      "\n",
      "  1%|▏         | 492/38976 [02:47<6:43:24,  1.59it/s]\u001b[A\u001b[A"
     ]
    },
    {
     "name": "stdout",
     "output_type": "stream",
     "text": [
      "7084009\n"
     ]
    },
    {
     "name": "stderr",
     "output_type": "stream",
     "text": [
      "\n",
      "\n",
      "  1%|▏         | 493/38976 [02:47<6:42:33,  1.59it/s]\u001b[A\u001b[A"
     ]
    },
    {
     "name": "stdout",
     "output_type": "stream",
     "text": [
      "7098409\n"
     ]
    },
    {
     "name": "stderr",
     "output_type": "stream",
     "text": [
      "\n",
      "\n",
      "  1%|▏         | 494/38976 [02:48<6:47:27,  1.57it/s]\u001b[A\u001b[A"
     ]
    },
    {
     "name": "stdout",
     "output_type": "stream",
     "text": [
      "7127029\n"
     ]
    },
    {
     "name": "stderr",
     "output_type": "stream",
     "text": [
      "\n",
      "\n",
      "  1%|▏         | 495/38976 [02:49<6:48:32,  1.57it/s]\u001b[A\u001b[A"
     ]
    },
    {
     "name": "stdout",
     "output_type": "stream",
     "text": [
      "7141429\n"
     ]
    },
    {
     "name": "stderr",
     "output_type": "stream",
     "text": [
      "\n",
      "\n",
      "  1%|▏         | 496/38976 [02:49<6:50:18,  1.56it/s]\u001b[A\u001b[A"
     ]
    },
    {
     "name": "stdout",
     "output_type": "stream",
     "text": [
      "7155829\n"
     ]
    },
    {
     "name": "stderr",
     "output_type": "stream",
     "text": [
      "\n",
      "\n",
      "  1%|▏         | 497/38976 [02:50<6:50:47,  1.56it/s]\u001b[A\u001b[A"
     ]
    },
    {
     "name": "stdout",
     "output_type": "stream",
     "text": [
      "7170229\n"
     ]
    },
    {
     "name": "stderr",
     "output_type": "stream",
     "text": [
      "\n",
      "\n",
      "  1%|▏         | 498/38976 [02:50<6:48:51,  1.57it/s]\u001b[A\u001b[A"
     ]
    },
    {
     "name": "stdout",
     "output_type": "stream",
     "text": [
      "7184629\n"
     ]
    },
    {
     "name": "stderr",
     "output_type": "stream",
     "text": [
      "\n",
      "\n",
      "  1%|▏         | 499/38976 [02:51<6:48:06,  1.57it/s]\u001b[A\u001b[A"
     ]
    },
    {
     "name": "stdout",
     "output_type": "stream",
     "text": [
      "7199029\n"
     ]
    },
    {
     "name": "stderr",
     "output_type": "stream",
     "text": [
      "\n",
      "\n",
      "  1%|▏         | 500/38976 [02:52<6:46:40,  1.58it/s]\u001b[A\u001b[A"
     ]
    },
    {
     "name": "stdout",
     "output_type": "stream",
     "text": [
      "7213429\n"
     ]
    },
    {
     "name": "stderr",
     "output_type": "stream",
     "text": [
      "\n",
      "\n",
      "  1%|▏         | 501/38976 [02:52<6:49:13,  1.57it/s]\u001b[A\u001b[A"
     ]
    },
    {
     "name": "stdout",
     "output_type": "stream",
     "text": [
      "7227829\n"
     ]
    },
    {
     "name": "stderr",
     "output_type": "stream",
     "text": [
      "\n",
      "\n",
      "  1%|▏         | 502/38976 [02:53<6:50:37,  1.56it/s]\u001b[A\u001b[A"
     ]
    },
    {
     "name": "stdout",
     "output_type": "stream",
     "text": [
      "7242229\n"
     ]
    },
    {
     "name": "stderr",
     "output_type": "stream",
     "text": [
      "\n",
      "\n",
      "  1%|▏         | 503/38976 [02:54<6:52:19,  1.56it/s]\u001b[A\u001b[A"
     ]
    },
    {
     "name": "stdout",
     "output_type": "stream",
     "text": [
      "7256629\n"
     ]
    },
    {
     "name": "stderr",
     "output_type": "stream",
     "text": [
      "\n",
      "\n",
      "  1%|▏         | 504/38976 [02:54<6:50:06,  1.56it/s]\u001b[A\u001b[A"
     ]
    },
    {
     "name": "stdout",
     "output_type": "stream",
     "text": [
      "7271029\n"
     ]
    },
    {
     "name": "stderr",
     "output_type": "stream",
     "text": [
      "\n",
      "\n",
      "  1%|▏         | 505/38976 [02:55<6:51:32,  1.56it/s]\u001b[A\u001b[A"
     ]
    },
    {
     "name": "stdout",
     "output_type": "stream",
     "text": [
      "7285429\n"
     ]
    },
    {
     "name": "stderr",
     "output_type": "stream",
     "text": [
      "\n",
      "\n",
      "  1%|▏         | 506/38976 [02:56<6:53:32,  1.55it/s]\u001b[A\u001b[A"
     ]
    },
    {
     "name": "stdout",
     "output_type": "stream",
     "text": [
      "7299829\n"
     ]
    },
    {
     "name": "stderr",
     "output_type": "stream",
     "text": [
      "\n",
      "\n",
      "  1%|▏         | 507/38976 [02:56<6:53:13,  1.55it/s]\u001b[A\u001b[A"
     ]
    },
    {
     "name": "stdout",
     "output_type": "stream",
     "text": [
      "7314229\n"
     ]
    },
    {
     "name": "stderr",
     "output_type": "stream",
     "text": [
      "\n",
      "\n",
      "  1%|▏         | 508/38976 [02:57<6:54:21,  1.55it/s]\u001b[A\u001b[A"
     ]
    },
    {
     "name": "stdout",
     "output_type": "stream",
     "text": [
      "7328629\n"
     ]
    },
    {
     "name": "stderr",
     "output_type": "stream",
     "text": [
      "\n",
      "\n",
      "  1%|▏         | 509/38976 [02:58<6:57:38,  1.54it/s]\u001b[A\u001b[A"
     ]
    },
    {
     "name": "stdout",
     "output_type": "stream",
     "text": [
      "7343029\n"
     ]
    },
    {
     "name": "stderr",
     "output_type": "stream",
     "text": [
      "\n",
      "\n",
      "  1%|▏         | 510/38976 [02:58<6:56:09,  1.54it/s]\u001b[A\u001b[A"
     ]
    },
    {
     "name": "stdout",
     "output_type": "stream",
     "text": [
      "7356349\n"
     ]
    },
    {
     "name": "stderr",
     "output_type": "stream",
     "text": [
      "\n",
      "\n",
      "  1%|▏         | 511/38976 [02:59<6:56:30,  1.54it/s]\u001b[A\u001b[A"
     ]
    },
    {
     "name": "stdout",
     "output_type": "stream",
     "text": [
      "7370749\n"
     ]
    },
    {
     "name": "stderr",
     "output_type": "stream",
     "text": [
      "\n",
      "\n",
      "  1%|▏         | 512/38976 [02:59<6:55:08,  1.54it/s]\u001b[A\u001b[A"
     ]
    },
    {
     "name": "stdout",
     "output_type": "stream",
     "text": [
      "7385149\n"
     ]
    },
    {
     "name": "stderr",
     "output_type": "stream",
     "text": [
      "\n",
      "\n",
      "  1%|▏         | 513/38976 [03:00<6:58:22,  1.53it/s]\u001b[A\u001b[A"
     ]
    },
    {
     "name": "stdout",
     "output_type": "stream",
     "text": [
      "7398469\n"
     ]
    },
    {
     "name": "stderr",
     "output_type": "stream",
     "text": [
      "\n",
      "\n",
      "  1%|▏         | 514/38976 [03:01<7:03:12,  1.51it/s]\u001b[A\u001b[A"
     ]
    },
    {
     "name": "stdout",
     "output_type": "stream",
     "text": [
      "7412869\n"
     ]
    },
    {
     "name": "stderr",
     "output_type": "stream",
     "text": [
      "\n",
      "\n",
      "  1%|▏         | 515/38976 [03:01<7:04:57,  1.51it/s]\u001b[A\u001b[A"
     ]
    },
    {
     "name": "stdout",
     "output_type": "stream",
     "text": [
      "7427269\n"
     ]
    },
    {
     "name": "stderr",
     "output_type": "stream",
     "text": [
      "\n",
      "\n",
      "  1%|▏         | 516/38976 [03:02<7:04:01,  1.51it/s]\u001b[A\u001b[A"
     ]
    },
    {
     "name": "stdout",
     "output_type": "stream",
     "text": [
      "7441669\n"
     ]
    },
    {
     "name": "stderr",
     "output_type": "stream",
     "text": [
      "\n",
      "\n",
      "  1%|▏         | 517/38976 [03:03<7:01:17,  1.52it/s]\u001b[A\u001b[A"
     ]
    },
    {
     "name": "stdout",
     "output_type": "stream",
     "text": [
      "7456069\n"
     ]
    },
    {
     "name": "stderr",
     "output_type": "stream",
     "text": [
      "\n",
      "\n",
      "  1%|▏         | 518/38976 [03:03<7:01:04,  1.52it/s]\u001b[A\u001b[A"
     ]
    },
    {
     "name": "stdout",
     "output_type": "stream",
     "text": [
      "7470469\n"
     ]
    },
    {
     "name": "stderr",
     "output_type": "stream",
     "text": [
      "\n",
      "\n",
      "  1%|▏         | 519/38976 [03:04<6:58:40,  1.53it/s]\u001b[A\u001b[A"
     ]
    },
    {
     "name": "stdout",
     "output_type": "stream",
     "text": [
      "7484869\n"
     ]
    },
    {
     "name": "stderr",
     "output_type": "stream",
     "text": [
      "\n",
      "\n",
      "  1%|▏         | 520/38976 [03:05<6:59:32,  1.53it/s]\u001b[A\u001b[A"
     ]
    },
    {
     "name": "stdout",
     "output_type": "stream",
     "text": [
      "7499269\n"
     ]
    },
    {
     "name": "stderr",
     "output_type": "stream",
     "text": [
      "\n",
      "\n",
      "  1%|▏         | 521/38976 [03:05<7:03:31,  1.51it/s]\u001b[A\u001b[A"
     ]
    },
    {
     "name": "stdout",
     "output_type": "stream",
     "text": [
      "7513669\n"
     ]
    },
    {
     "name": "stderr",
     "output_type": "stream",
     "text": [
      "\n",
      "\n",
      "  1%|▏         | 522/38976 [03:06<7:08:52,  1.49it/s]\u001b[A\u001b[A"
     ]
    },
    {
     "name": "stdout",
     "output_type": "stream",
     "text": [
      "7528069\n"
     ]
    },
    {
     "name": "stderr",
     "output_type": "stream",
     "text": [
      "\n",
      "\n",
      "  1%|▏         | 523/38976 [03:07<7:07:24,  1.50it/s]\u001b[A\u001b[A"
     ]
    },
    {
     "name": "stdout",
     "output_type": "stream",
     "text": [
      "7542469\n"
     ]
    },
    {
     "name": "stderr",
     "output_type": "stream",
     "text": [
      "\n",
      "\n",
      "  1%|▏         | 524/38976 [03:07<7:00:49,  1.52it/s]\u001b[A\u001b[A"
     ]
    },
    {
     "name": "stdout",
     "output_type": "stream",
     "text": [
      "7556869\n"
     ]
    },
    {
     "name": "stderr",
     "output_type": "stream",
     "text": [
      "\n",
      "\n",
      "  1%|▏         | 525/38976 [03:08<7:04:33,  1.51it/s]\u001b[A\u001b[A"
     ]
    },
    {
     "name": "stdout",
     "output_type": "stream",
     "text": [
      "7571269\n"
     ]
    },
    {
     "name": "stderr",
     "output_type": "stream",
     "text": [
      "\n",
      "\n",
      "  1%|▏         | 526/38976 [03:09<7:07:58,  1.50it/s]\u001b[A\u001b[A"
     ]
    },
    {
     "name": "stdout",
     "output_type": "stream",
     "text": [
      "7585669\n"
     ]
    },
    {
     "name": "stderr",
     "output_type": "stream",
     "text": [
      "\n",
      "\n",
      "  1%|▏         | 527/38976 [03:09<7:09:15,  1.49it/s]\u001b[A\u001b[A"
     ]
    },
    {
     "name": "stdout",
     "output_type": "stream",
     "text": [
      "7600069\n"
     ]
    },
    {
     "name": "stderr",
     "output_type": "stream",
     "text": [
      "\n",
      "\n",
      "  1%|▏         | 528/38976 [03:10<7:09:28,  1.49it/s]\u001b[A\u001b[A"
     ]
    },
    {
     "name": "stdout",
     "output_type": "stream",
     "text": [
      "7614469\n"
     ]
    },
    {
     "name": "stderr",
     "output_type": "stream",
     "text": [
      "\n",
      "\n",
      "  1%|▏         | 529/38976 [03:11<7:06:55,  1.50it/s]\u001b[A\u001b[A"
     ]
    },
    {
     "name": "stdout",
     "output_type": "stream",
     "text": [
      "7628869\n"
     ]
    },
    {
     "name": "stderr",
     "output_type": "stream",
     "text": [
      "\n",
      "\n",
      "  1%|▏         | 530/38976 [03:11<7:06:55,  1.50it/s]\u001b[A\u001b[A"
     ]
    },
    {
     "name": "stdout",
     "output_type": "stream",
     "text": [
      "7643269\n"
     ]
    },
    {
     "name": "stderr",
     "output_type": "stream",
     "text": [
      "\n",
      "\n",
      "  1%|▏         | 531/38976 [03:12<7:05:51,  1.50it/s]\u001b[A\u001b[A"
     ]
    },
    {
     "name": "stdout",
     "output_type": "stream",
     "text": [
      "7656589\n"
     ]
    },
    {
     "name": "stderr",
     "output_type": "stream",
     "text": [
      "\n",
      "\n",
      "  1%|▏         | 532/38976 [03:13<7:08:57,  1.49it/s]\u001b[A\u001b[A"
     ]
    },
    {
     "name": "stdout",
     "output_type": "stream",
     "text": [
      "7670989\n"
     ]
    },
    {
     "name": "stderr",
     "output_type": "stream",
     "text": [
      "\n",
      "\n",
      "  1%|▏         | 533/38976 [03:13<7:12:01,  1.48it/s]\u001b[A\u001b[A"
     ]
    },
    {
     "name": "stdout",
     "output_type": "stream",
     "text": [
      "7685389\n"
     ]
    },
    {
     "name": "stderr",
     "output_type": "stream",
     "text": [
      "\n",
      "\n",
      "  1%|▏         | 534/38976 [03:14<7:20:29,  1.45it/s]\u001b[A\u001b[A"
     ]
    },
    {
     "name": "stdout",
     "output_type": "stream",
     "text": [
      "7699789\n"
     ]
    },
    {
     "name": "stderr",
     "output_type": "stream",
     "text": [
      "\n",
      "\n",
      "  1%|▏         | 535/38976 [03:15<7:22:51,  1.45it/s]\u001b[A\u001b[A"
     ]
    },
    {
     "name": "stdout",
     "output_type": "stream",
     "text": [
      "7714189\n"
     ]
    },
    {
     "name": "stderr",
     "output_type": "stream",
     "text": [
      "\n",
      "\n",
      "  1%|▏         | 536/38976 [03:16<7:20:44,  1.45it/s]\u001b[A\u001b[A"
     ]
    },
    {
     "name": "stdout",
     "output_type": "stream",
     "text": [
      "7728589\n"
     ]
    },
    {
     "name": "stderr",
     "output_type": "stream",
     "text": [
      "\n",
      "\n",
      "  1%|▏         | 537/38976 [03:16<7:15:56,  1.47it/s]\u001b[A\u001b[A"
     ]
    },
    {
     "name": "stdout",
     "output_type": "stream",
     "text": [
      "7742989\n"
     ]
    },
    {
     "name": "stderr",
     "output_type": "stream",
     "text": [
      "\n",
      "\n",
      "  1%|▏         | 538/38976 [03:17<7:20:58,  1.45it/s]\u001b[A\u001b[A"
     ]
    },
    {
     "name": "stdout",
     "output_type": "stream",
     "text": [
      "7757389\n"
     ]
    },
    {
     "name": "stderr",
     "output_type": "stream",
     "text": [
      "\n",
      "\n",
      "  1%|▏         | 539/38976 [03:18<7:21:53,  1.45it/s]\u001b[A\u001b[A"
     ]
    },
    {
     "name": "stdout",
     "output_type": "stream",
     "text": [
      "7771789\n"
     ]
    },
    {
     "name": "stderr",
     "output_type": "stream",
     "text": [
      "\n",
      "\n",
      "  1%|▏         | 540/38976 [03:18<7:21:16,  1.45it/s]\u001b[A\u001b[A"
     ]
    },
    {
     "name": "stdout",
     "output_type": "stream",
     "text": [
      "7786189\n"
     ]
    },
    {
     "name": "stderr",
     "output_type": "stream",
     "text": [
      "\n",
      "\n",
      "  1%|▏         | 541/38976 [03:19<7:20:13,  1.46it/s]\u001b[A\u001b[A"
     ]
    },
    {
     "name": "stdout",
     "output_type": "stream",
     "text": [
      "7800589\n"
     ]
    },
    {
     "name": "stderr",
     "output_type": "stream",
     "text": [
      "\n",
      "\n",
      "  1%|▏         | 542/38976 [03:20<7:18:17,  1.46it/s]\u001b[A\u001b[A"
     ]
    },
    {
     "name": "stdout",
     "output_type": "stream",
     "text": [
      "7814989\n"
     ]
    },
    {
     "name": "stderr",
     "output_type": "stream",
     "text": [
      "\n",
      "\n",
      "  1%|▏         | 543/38976 [03:20<7:20:32,  1.45it/s]\u001b[A\u001b[A"
     ]
    },
    {
     "name": "stdout",
     "output_type": "stream",
     "text": [
      "7829389\n"
     ]
    },
    {
     "name": "stderr",
     "output_type": "stream",
     "text": [
      "\n",
      "\n",
      "  1%|▏         | 544/38976 [03:21<7:26:47,  1.43it/s]\u001b[A\u001b[A"
     ]
    },
    {
     "name": "stdout",
     "output_type": "stream",
     "text": [
      "7843789\n"
     ]
    },
    {
     "name": "stderr",
     "output_type": "stream",
     "text": [
      "\n",
      "\n",
      "  1%|▏         | 545/38976 [03:22<7:27:45,  1.43it/s]\u001b[A\u001b[A"
     ]
    },
    {
     "name": "stdout",
     "output_type": "stream",
     "text": [
      "7858189\n"
     ]
    },
    {
     "name": "stderr",
     "output_type": "stream",
     "text": [
      "\n",
      "\n",
      "  1%|▏         | 546/38976 [03:22<7:26:51,  1.43it/s]\u001b[A\u001b[A"
     ]
    },
    {
     "name": "stdout",
     "output_type": "stream",
     "text": [
      "7872589\n"
     ]
    },
    {
     "name": "stderr",
     "output_type": "stream",
     "text": [
      "\n",
      "\n",
      "  1%|▏         | 547/38976 [03:23<7:27:21,  1.43it/s]\u001b[A\u001b[A"
     ]
    },
    {
     "name": "stdout",
     "output_type": "stream",
     "text": [
      "7886989\n"
     ]
    },
    {
     "name": "stderr",
     "output_type": "stream",
     "text": [
      "\n",
      "\n",
      "  1%|▏         | 548/38976 [03:24<7:23:09,  1.45it/s]\u001b[A\u001b[A"
     ]
    },
    {
     "name": "stdout",
     "output_type": "stream",
     "text": [
      "7901389\n"
     ]
    },
    {
     "name": "stderr",
     "output_type": "stream",
     "text": [
      "\n",
      "\n",
      "  1%|▏         | 549/38976 [03:25<7:21:32,  1.45it/s]\u001b[A\u001b[A"
     ]
    },
    {
     "name": "stdout",
     "output_type": "stream",
     "text": [
      "7912909\n"
     ]
    },
    {
     "name": "stderr",
     "output_type": "stream",
     "text": [
      "\n",
      "\n",
      "  1%|▏         | 550/38976 [03:25<7:24:38,  1.44it/s]\u001b[A\u001b[A"
     ]
    },
    {
     "name": "stdout",
     "output_type": "stream",
     "text": [
      "7927309\n"
     ]
    },
    {
     "name": "stderr",
     "output_type": "stream",
     "text": [
      "\n",
      "\n",
      "  1%|▏         | 551/38976 [03:26<7:27:08,  1.43it/s]\u001b[A\u001b[A"
     ]
    },
    {
     "name": "stdout",
     "output_type": "stream",
     "text": [
      "7941709\n"
     ]
    },
    {
     "name": "stderr",
     "output_type": "stream",
     "text": [
      "\n",
      "\n",
      "  1%|▏         | 552/38976 [03:27<7:26:23,  1.43it/s]\u001b[A\u001b[A"
     ]
    },
    {
     "name": "stdout",
     "output_type": "stream",
     "text": [
      "7956109\n"
     ]
    },
    {
     "name": "stderr",
     "output_type": "stream",
     "text": [
      "\n",
      "\n",
      "  1%|▏         | 553/38976 [03:27<7:29:30,  1.42it/s]\u001b[A\u001b[A"
     ]
    },
    {
     "name": "stdout",
     "output_type": "stream",
     "text": [
      "7970509\n"
     ]
    },
    {
     "name": "stderr",
     "output_type": "stream",
     "text": [
      "\n",
      "\n",
      "  1%|▏         | 554/38976 [03:28<7:28:48,  1.43it/s]\u001b[A\u001b[A"
     ]
    },
    {
     "name": "stdout",
     "output_type": "stream",
     "text": [
      "7984909\n"
     ]
    },
    {
     "name": "stderr",
     "output_type": "stream",
     "text": [
      "\n",
      "\n",
      "  1%|▏         | 555/38976 [03:29<7:34:29,  1.41it/s]\u001b[A\u001b[A"
     ]
    },
    {
     "name": "stdout",
     "output_type": "stream",
     "text": [
      "7999309\n"
     ]
    },
    {
     "name": "stderr",
     "output_type": "stream",
     "text": [
      "\n",
      "\n",
      "  1%|▏         | 556/38976 [03:30<7:35:42,  1.41it/s]\u001b[A\u001b[A"
     ]
    },
    {
     "name": "stdout",
     "output_type": "stream",
     "text": [
      "8013709\n"
     ]
    },
    {
     "name": "stderr",
     "output_type": "stream",
     "text": [
      "\n",
      "\n",
      "  1%|▏         | 557/38976 [03:30<7:35:11,  1.41it/s]\u001b[A\u001b[A"
     ]
    },
    {
     "name": "stdout",
     "output_type": "stream",
     "text": [
      "8028109\n"
     ]
    },
    {
     "name": "stderr",
     "output_type": "stream",
     "text": [
      "\n",
      "\n",
      "  1%|▏         | 558/38976 [03:31<7:33:23,  1.41it/s]\u001b[A\u001b[A"
     ]
    },
    {
     "name": "stdout",
     "output_type": "stream",
     "text": [
      "8038189\n"
     ]
    },
    {
     "name": "stderr",
     "output_type": "stream",
     "text": [
      "\n",
      "\n",
      "  1%|▏         | 559/38976 [03:32<7:31:11,  1.42it/s]\u001b[A\u001b[A"
     ]
    },
    {
     "name": "stdout",
     "output_type": "stream",
     "text": [
      "8052589\n"
     ]
    },
    {
     "name": "stderr",
     "output_type": "stream",
     "text": [
      "\n",
      "\n",
      "  1%|▏         | 560/38976 [03:32<7:31:58,  1.42it/s]\u001b[A\u001b[A"
     ]
    },
    {
     "name": "stdout",
     "output_type": "stream",
     "text": [
      "8066989\n"
     ]
    },
    {
     "name": "stderr",
     "output_type": "stream",
     "text": [
      "\n",
      "\n",
      "  1%|▏         | 561/38976 [03:33<7:37:44,  1.40it/s]\u001b[A\u001b[A"
     ]
    },
    {
     "name": "stdout",
     "output_type": "stream",
     "text": [
      "8095609\n"
     ]
    },
    {
     "name": "stderr",
     "output_type": "stream",
     "text": [
      "\n",
      "\n",
      "  1%|▏         | 562/38976 [03:34<7:40:01,  1.39it/s]\u001b[A\u001b[A"
     ]
    },
    {
     "name": "stdout",
     "output_type": "stream",
     "text": [
      "8110009\n"
     ]
    },
    {
     "name": "stderr",
     "output_type": "stream",
     "text": [
      "\n",
      "\n",
      "  1%|▏         | 563/38976 [03:35<7:40:34,  1.39it/s]\u001b[A\u001b[A"
     ]
    },
    {
     "name": "stdout",
     "output_type": "stream",
     "text": [
      "8124409\n"
     ]
    },
    {
     "name": "stderr",
     "output_type": "stream",
     "text": [
      "\n",
      "\n",
      "  1%|▏         | 564/38976 [03:35<7:38:00,  1.40it/s]\u001b[A\u001b[A"
     ]
    },
    {
     "name": "stdout",
     "output_type": "stream",
     "text": [
      "8138809\n"
     ]
    },
    {
     "name": "stderr",
     "output_type": "stream",
     "text": [
      "\n",
      "\n",
      "  1%|▏         | 565/38976 [03:36<7:38:10,  1.40it/s]\u001b[A\u001b[A"
     ]
    },
    {
     "name": "stdout",
     "output_type": "stream",
     "text": [
      "8153209\n"
     ]
    },
    {
     "name": "stderr",
     "output_type": "stream",
     "text": [
      "\n",
      "\n",
      "  1%|▏         | 566/38976 [03:37<7:43:22,  1.38it/s]\u001b[A\u001b[A"
     ]
    },
    {
     "name": "stdout",
     "output_type": "stream",
     "text": [
      "8167609\n"
     ]
    },
    {
     "name": "stderr",
     "output_type": "stream",
     "text": [
      "\n",
      "\n",
      "  1%|▏         | 567/38976 [03:37<7:46:27,  1.37it/s]\u001b[A\u001b[A"
     ]
    },
    {
     "name": "stdout",
     "output_type": "stream",
     "text": [
      "8182009\n"
     ]
    },
    {
     "name": "stderr",
     "output_type": "stream",
     "text": [
      "\n",
      "\n",
      "  1%|▏         | 568/38976 [03:38<7:45:18,  1.38it/s]\u001b[A\u001b[A"
     ]
    },
    {
     "name": "stdout",
     "output_type": "stream",
     "text": [
      "8196409\n"
     ]
    },
    {
     "name": "stderr",
     "output_type": "stream",
     "text": [
      "\n",
      "\n",
      "  1%|▏         | 569/38976 [03:39<7:46:27,  1.37it/s]\u001b[A\u001b[A"
     ]
    },
    {
     "name": "stdout",
     "output_type": "stream",
     "text": [
      "8210809\n"
     ]
    },
    {
     "name": "stderr",
     "output_type": "stream",
     "text": [
      "\n",
      "\n",
      "  1%|▏         | 570/38976 [03:40<7:46:10,  1.37it/s]\u001b[A\u001b[A"
     ]
    },
    {
     "name": "stdout",
     "output_type": "stream",
     "text": [
      "8225209\n"
     ]
    },
    {
     "name": "stderr",
     "output_type": "stream",
     "text": [
      "\n",
      "\n",
      "  1%|▏         | 571/38976 [03:40<7:49:58,  1.36it/s]\u001b[A\u001b[A"
     ]
    },
    {
     "name": "stdout",
     "output_type": "stream",
     "text": [
      "8239609\n"
     ]
    },
    {
     "name": "stderr",
     "output_type": "stream",
     "text": [
      "\n",
      "\n",
      "  1%|▏         | 572/38976 [03:41<8:02:44,  1.33it/s]\u001b[A\u001b[A"
     ]
    },
    {
     "name": "stdout",
     "output_type": "stream",
     "text": [
      "8254009\n"
     ]
    },
    {
     "name": "stderr",
     "output_type": "stream",
     "text": [
      "\n",
      "\n",
      "  1%|▏         | 573/38976 [03:42<8:01:17,  1.33it/s]\u001b[A\u001b[A"
     ]
    },
    {
     "name": "stdout",
     "output_type": "stream",
     "text": [
      "8268409\n"
     ]
    },
    {
     "name": "stderr",
     "output_type": "stream",
     "text": [
      "\n",
      "\n",
      "  1%|▏         | 574/38976 [03:43<8:01:32,  1.33it/s]\u001b[A\u001b[A"
     ]
    },
    {
     "name": "stdout",
     "output_type": "stream",
     "text": [
      "8282809\n"
     ]
    },
    {
     "name": "stderr",
     "output_type": "stream",
     "text": [
      "\n",
      "\n",
      "  1%|▏         | 575/38976 [03:43<8:00:17,  1.33it/s]\u001b[A\u001b[A"
     ]
    },
    {
     "name": "stdout",
     "output_type": "stream",
     "text": [
      "8297209\n"
     ]
    },
    {
     "name": "stderr",
     "output_type": "stream",
     "text": [
      "\n",
      "\n",
      "  1%|▏         | 576/38976 [03:44<7:58:32,  1.34it/s]\u001b[A\u001b[A"
     ]
    },
    {
     "name": "stdout",
     "output_type": "stream",
     "text": [
      "8311609\n"
     ]
    },
    {
     "name": "stderr",
     "output_type": "stream",
     "text": [
      "\n",
      "\n",
      "  1%|▏         | 577/38976 [03:45<8:07:24,  1.31it/s]\u001b[A\u001b[A"
     ]
    },
    {
     "name": "stdout",
     "output_type": "stream",
     "text": [
      "8326009\n"
     ]
    },
    {
     "name": "stderr",
     "output_type": "stream",
     "text": [
      "\n",
      "\n",
      "  1%|▏         | 578/38976 [03:46<8:14:42,  1.29it/s]\u001b[A\u001b[A"
     ]
    },
    {
     "name": "stdout",
     "output_type": "stream",
     "text": [
      "8340409\n"
     ]
    },
    {
     "name": "stderr",
     "output_type": "stream",
     "text": [
      "\n",
      "\n",
      "  1%|▏         | 579/38976 [03:47<8:15:58,  1.29it/s]\u001b[A\u001b[A"
     ]
    },
    {
     "name": "stdout",
     "output_type": "stream",
     "text": [
      "8354809\n"
     ]
    },
    {
     "name": "stderr",
     "output_type": "stream",
     "text": [
      "\n",
      "\n",
      "  1%|▏         | 580/38976 [03:47<8:17:07,  1.29it/s]\u001b[A\u001b[A"
     ]
    },
    {
     "name": "stdout",
     "output_type": "stream",
     "text": [
      "8369209\n"
     ]
    },
    {
     "name": "stderr",
     "output_type": "stream",
     "text": [
      "\n",
      "\n",
      "  1%|▏         | 581/38976 [03:48<8:23:10,  1.27it/s]\u001b[A\u001b[A"
     ]
    },
    {
     "name": "stdout",
     "output_type": "stream",
     "text": [
      "8383609\n"
     ]
    },
    {
     "name": "stderr",
     "output_type": "stream",
     "text": [
      "\n",
      "\n",
      "  1%|▏         | 582/38976 [03:49<8:35:01,  1.24it/s]\u001b[A\u001b[A"
     ]
    },
    {
     "name": "stdout",
     "output_type": "stream",
     "text": [
      "8398009\n"
     ]
    },
    {
     "name": "stderr",
     "output_type": "stream",
     "text": [
      "\n",
      "\n",
      "  1%|▏         | 583/38976 [03:50<8:21:47,  1.28it/s]\u001b[A\u001b[A"
     ]
    },
    {
     "name": "stdout",
     "output_type": "stream",
     "text": [
      "8412409\n"
     ]
    },
    {
     "name": "stderr",
     "output_type": "stream",
     "text": [
      "\n",
      "\n",
      "  1%|▏         | 584/38976 [03:50<8:05:59,  1.32it/s]\u001b[A\u001b[A"
     ]
    },
    {
     "name": "stdout",
     "output_type": "stream",
     "text": [
      "8426809\n"
     ]
    },
    {
     "name": "stderr",
     "output_type": "stream",
     "text": [
      "\n",
      "\n",
      "  2%|▏         | 585/38976 [03:51<7:54:01,  1.35it/s]\u001b[A\u001b[A"
     ]
    },
    {
     "name": "stdout",
     "output_type": "stream",
     "text": [
      "8441209\n"
     ]
    },
    {
     "name": "stderr",
     "output_type": "stream",
     "text": [
      "\n",
      "\n",
      "  2%|▏         | 586/38976 [03:52<7:37:26,  1.40it/s]\u001b[A\u001b[A"
     ]
    },
    {
     "name": "stdout",
     "output_type": "stream",
     "text": [
      "8455609\n"
     ]
    },
    {
     "name": "stderr",
     "output_type": "stream",
     "text": [
      "\n",
      "\n",
      "  2%|▏         | 587/38976 [03:52<7:25:49,  1.44it/s]\u001b[A\u001b[A"
     ]
    },
    {
     "name": "stdout",
     "output_type": "stream",
     "text": [
      "8470009\n"
     ]
    },
    {
     "name": "stderr",
     "output_type": "stream",
     "text": [
      "\n",
      "\n",
      "  2%|▏         | 588/38976 [03:53<7:28:32,  1.43it/s]\u001b[A\u001b[A"
     ]
    },
    {
     "name": "stdout",
     "output_type": "stream",
     "text": [
      "8484409\n"
     ]
    },
    {
     "name": "stderr",
     "output_type": "stream",
     "text": [
      "\n",
      "\n",
      "  2%|▏         | 589/38976 [03:54<7:31:57,  1.42it/s]\u001b[A\u001b[A"
     ]
    },
    {
     "name": "stdout",
     "output_type": "stream",
     "text": [
      "8498809\n"
     ]
    },
    {
     "name": "stderr",
     "output_type": "stream",
     "text": [
      "\n",
      "\n",
      "  2%|▏         | 590/38976 [03:54<7:19:05,  1.46it/s]\u001b[A\u001b[A"
     ]
    },
    {
     "name": "stdout",
     "output_type": "stream",
     "text": [
      "8513209\n"
     ]
    },
    {
     "name": "stderr",
     "output_type": "stream",
     "text": [
      "\n",
      "\n",
      "  2%|▏         | 591/38976 [03:55<7:19:13,  1.46it/s]\u001b[A\u001b[A"
     ]
    },
    {
     "name": "stdout",
     "output_type": "stream",
     "text": [
      "8527609\n"
     ]
    },
    {
     "name": "stderr",
     "output_type": "stream",
     "text": [
      "\n",
      "\n",
      "  2%|▏         | 592/38976 [03:56<7:22:27,  1.45it/s]\u001b[A\u001b[A"
     ]
    },
    {
     "name": "stdout",
     "output_type": "stream",
     "text": [
      "8542009\n"
     ]
    },
    {
     "name": "stderr",
     "output_type": "stream",
     "text": [
      "\n",
      "\n",
      "  2%|▏         | 593/38976 [03:57<7:14:01,  1.47it/s]\u001b[A\u001b[A"
     ]
    },
    {
     "name": "stdout",
     "output_type": "stream",
     "text": [
      "8556409\n"
     ]
    },
    {
     "name": "stderr",
     "output_type": "stream",
     "text": [
      "\n",
      "\n",
      "  2%|▏         | 594/38976 [03:57<7:20:38,  1.45it/s]\u001b[A\u001b[A"
     ]
    },
    {
     "name": "stdout",
     "output_type": "stream",
     "text": [
      "8570809\n"
     ]
    },
    {
     "name": "stderr",
     "output_type": "stream",
     "text": [
      "\n",
      "\n",
      "  2%|▏         | 595/38976 [03:58<7:24:55,  1.44it/s]\u001b[A\u001b[A"
     ]
    },
    {
     "name": "stdout",
     "output_type": "stream",
     "text": [
      "8585209\n"
     ]
    },
    {
     "name": "stderr",
     "output_type": "stream",
     "text": [
      "\n",
      "\n",
      "  2%|▏         | 596/38976 [03:59<7:13:21,  1.48it/s]\u001b[A\u001b[A"
     ]
    },
    {
     "name": "stdout",
     "output_type": "stream",
     "text": [
      "8599609\n"
     ]
    },
    {
     "name": "stderr",
     "output_type": "stream",
     "text": [
      "\n",
      "\n",
      "  2%|▏         | 597/38976 [03:59<7:15:44,  1.47it/s]\u001b[A\u001b[A"
     ]
    },
    {
     "name": "stdout",
     "output_type": "stream",
     "text": [
      "8614009\n"
     ]
    },
    {
     "name": "stderr",
     "output_type": "stream",
     "text": [
      "\n",
      "\n",
      "  2%|▏         | 598/38976 [04:00<7:14:41,  1.47it/s]\u001b[A\u001b[A"
     ]
    },
    {
     "name": "stdout",
     "output_type": "stream",
     "text": [
      "8628409\n"
     ]
    },
    {
     "name": "stderr",
     "output_type": "stream",
     "text": [
      "\n",
      "\n",
      "  2%|▏         | 599/38976 [04:01<7:09:01,  1.49it/s]\u001b[A\u001b[A"
     ]
    },
    {
     "name": "stdout",
     "output_type": "stream",
     "text": [
      "8642809\n"
     ]
    },
    {
     "name": "stderr",
     "output_type": "stream",
     "text": [
      "\n",
      "\n",
      "  2%|▏         | 600/38976 [04:01<7:09:32,  1.49it/s]\u001b[A\u001b[A"
     ]
    },
    {
     "name": "stdout",
     "output_type": "stream",
     "text": [
      "8657209\n"
     ]
    },
    {
     "name": "stderr",
     "output_type": "stream",
     "text": [
      "\n",
      "\n",
      "  2%|▏         | 601/38976 [04:02<7:04:07,  1.51it/s]\u001b[A\u001b[A"
     ]
    },
    {
     "name": "stdout",
     "output_type": "stream",
     "text": [
      "8671609\n"
     ]
    },
    {
     "name": "stderr",
     "output_type": "stream",
     "text": [
      "\n",
      "\n",
      "  2%|▏         | 602/38976 [04:03<6:58:21,  1.53it/s]\u001b[A\u001b[A"
     ]
    },
    {
     "name": "stdout",
     "output_type": "stream",
     "text": [
      "8686009\n"
     ]
    },
    {
     "name": "stderr",
     "output_type": "stream",
     "text": [
      "\n",
      "\n",
      "  2%|▏         | 603/38976 [04:03<6:54:30,  1.54it/s]\u001b[A\u001b[A"
     ]
    },
    {
     "name": "stdout",
     "output_type": "stream",
     "text": [
      "8700409\n"
     ]
    },
    {
     "name": "stderr",
     "output_type": "stream",
     "text": [
      "\n",
      "\n",
      "  2%|▏         | 604/38976 [04:04<6:51:50,  1.55it/s]\u001b[A\u001b[A"
     ]
    },
    {
     "name": "stdout",
     "output_type": "stream",
     "text": [
      "8714809\n"
     ]
    },
    {
     "name": "stderr",
     "output_type": "stream",
     "text": [
      "\n",
      "\n",
      "  2%|▏         | 605/38976 [04:04<6:52:53,  1.55it/s]\u001b[A\u001b[A"
     ]
    },
    {
     "name": "stdout",
     "output_type": "stream",
     "text": [
      "8729209\n"
     ]
    },
    {
     "name": "stderr",
     "output_type": "stream",
     "text": [
      "\n",
      "\n",
      "  2%|▏         | 606/38976 [04:05<6:55:37,  1.54it/s]\u001b[A\u001b[A"
     ]
    },
    {
     "name": "stdout",
     "output_type": "stream",
     "text": [
      "8743609\n"
     ]
    },
    {
     "name": "stderr",
     "output_type": "stream",
     "text": [
      "\n",
      "\n",
      "  2%|▏         | 607/38976 [04:06<6:56:49,  1.53it/s]\u001b[A\u001b[A"
     ]
    },
    {
     "name": "stdout",
     "output_type": "stream",
     "text": [
      "8758009\n"
     ]
    },
    {
     "name": "stderr",
     "output_type": "stream",
     "text": [
      "\n",
      "\n",
      "  2%|▏         | 608/38976 [04:06<6:56:06,  1.54it/s]\u001b[A\u001b[A"
     ]
    },
    {
     "name": "stdout",
     "output_type": "stream",
     "text": [
      "8772409\n"
     ]
    },
    {
     "name": "stderr",
     "output_type": "stream",
     "text": [
      "\n",
      "\n",
      "  2%|▏         | 609/38976 [04:07<7:00:09,  1.52it/s]\u001b[A\u001b[A"
     ]
    },
    {
     "name": "stdout",
     "output_type": "stream",
     "text": [
      "8786809\n"
     ]
    },
    {
     "name": "stderr",
     "output_type": "stream",
     "text": [
      "\n",
      "\n",
      "  2%|▏         | 610/38976 [04:08<6:59:26,  1.52it/s]\u001b[A\u001b[A"
     ]
    },
    {
     "name": "stdout",
     "output_type": "stream",
     "text": [
      "8801209\n"
     ]
    },
    {
     "name": "stderr",
     "output_type": "stream",
     "text": [
      "\n",
      "\n",
      "  2%|▏         | 611/38976 [04:08<6:58:45,  1.53it/s]\u001b[A\u001b[A"
     ]
    },
    {
     "name": "stdout",
     "output_type": "stream",
     "text": [
      "8815609\n"
     ]
    },
    {
     "name": "stderr",
     "output_type": "stream",
     "text": [
      "\n",
      "\n",
      "  2%|▏         | 612/38976 [04:09<7:03:06,  1.51it/s]\u001b[A\u001b[A"
     ]
    },
    {
     "name": "stdout",
     "output_type": "stream",
     "text": [
      "8830009\n"
     ]
    },
    {
     "name": "stderr",
     "output_type": "stream",
     "text": [
      "\n",
      "\n",
      "  2%|▏         | 613/38976 [04:10<7:03:12,  1.51it/s]\u001b[A\u001b[A"
     ]
    },
    {
     "name": "stdout",
     "output_type": "stream",
     "text": [
      "8844409\n"
     ]
    },
    {
     "name": "stderr",
     "output_type": "stream",
     "text": [
      "\n",
      "\n",
      "  2%|▏         | 614/38976 [04:10<7:01:10,  1.52it/s]\u001b[A\u001b[A"
     ]
    },
    {
     "name": "stdout",
     "output_type": "stream",
     "text": [
      "8858809\n"
     ]
    },
    {
     "name": "stderr",
     "output_type": "stream",
     "text": [
      "\n",
      "\n",
      "  2%|▏         | 615/38976 [04:11<7:03:41,  1.51it/s]\u001b[A\u001b[A"
     ]
    },
    {
     "name": "stdout",
     "output_type": "stream",
     "text": [
      "8887429\n"
     ]
    },
    {
     "name": "stderr",
     "output_type": "stream",
     "text": [
      "\n",
      "\n",
      "  2%|▏         | 616/38976 [04:12<7:02:10,  1.51it/s]\u001b[A\u001b[A"
     ]
    },
    {
     "name": "stdout",
     "output_type": "stream",
     "text": [
      "8901829\n"
     ]
    },
    {
     "name": "stderr",
     "output_type": "stream",
     "text": [
      "\n",
      "\n",
      "  2%|▏         | 617/38976 [04:12<7:00:27,  1.52it/s]\u001b[A\u001b[A"
     ]
    },
    {
     "name": "stdout",
     "output_type": "stream",
     "text": [
      "8916229\n"
     ]
    },
    {
     "name": "stderr",
     "output_type": "stream",
     "text": [
      "\n",
      "\n",
      "  2%|▏         | 618/38976 [04:13<7:02:30,  1.51it/s]\u001b[A\u001b[A"
     ]
    },
    {
     "name": "stdout",
     "output_type": "stream",
     "text": [
      "8930629\n"
     ]
    },
    {
     "name": "stderr",
     "output_type": "stream",
     "text": [
      "\n",
      "\n",
      "  2%|▏         | 619/38976 [04:14<7:03:50,  1.51it/s]\u001b[A\u001b[A"
     ]
    },
    {
     "name": "stdout",
     "output_type": "stream",
     "text": [
      "8945029\n"
     ]
    },
    {
     "name": "stderr",
     "output_type": "stream",
     "text": [
      "\n",
      "\n",
      "  2%|▏         | 620/38976 [04:14<7:01:53,  1.52it/s]\u001b[A\u001b[A"
     ]
    },
    {
     "name": "stdout",
     "output_type": "stream",
     "text": [
      "8959429\n"
     ]
    },
    {
     "name": "stderr",
     "output_type": "stream",
     "text": [
      "\n",
      "\n",
      "  2%|▏         | 621/38976 [04:15<7:01:26,  1.52it/s]\u001b[A\u001b[A"
     ]
    },
    {
     "name": "stdout",
     "output_type": "stream",
     "text": [
      "8973829\n"
     ]
    },
    {
     "name": "stderr",
     "output_type": "stream",
     "text": [
      "\n",
      "\n",
      "  2%|▏         | 622/38976 [04:16<7:02:00,  1.51it/s]\u001b[A\u001b[A"
     ]
    },
    {
     "name": "stdout",
     "output_type": "stream",
     "text": [
      "8988229\n"
     ]
    },
    {
     "name": "stderr",
     "output_type": "stream",
     "text": [
      "\n",
      "\n",
      "  2%|▏         | 623/38976 [04:16<7:02:04,  1.51it/s]\u001b[A\u001b[A"
     ]
    },
    {
     "name": "stdout",
     "output_type": "stream",
     "text": [
      "9002629\n"
     ]
    },
    {
     "name": "stderr",
     "output_type": "stream",
     "text": [
      "\n",
      "\n",
      "  2%|▏         | 624/38976 [04:17<7:04:36,  1.51it/s]\u001b[A\u001b[A"
     ]
    },
    {
     "name": "stdout",
     "output_type": "stream",
     "text": [
      "9017029\n"
     ]
    },
    {
     "name": "stderr",
     "output_type": "stream",
     "text": [
      "\n",
      "\n",
      "  2%|▏         | 625/38976 [04:18<7:06:03,  1.50it/s]\u001b[A\u001b[A"
     ]
    },
    {
     "name": "stdout",
     "output_type": "stream",
     "text": [
      "9031429\n"
     ]
    },
    {
     "name": "stderr",
     "output_type": "stream",
     "text": [
      "\n",
      "\n",
      "  2%|▏         | 626/38976 [04:18<7:06:00,  1.50it/s]\u001b[A\u001b[A"
     ]
    },
    {
     "name": "stdout",
     "output_type": "stream",
     "text": [
      "9045829\n"
     ]
    },
    {
     "name": "stderr",
     "output_type": "stream",
     "text": [
      "\n",
      "\n",
      "  2%|▏         | 627/38976 [04:19<7:04:09,  1.51it/s]\u001b[A\u001b[A"
     ]
    },
    {
     "name": "stdout",
     "output_type": "stream",
     "text": [
      "9060229\n"
     ]
    },
    {
     "name": "stderr",
     "output_type": "stream",
     "text": [
      "\n",
      "\n",
      "  2%|▏         | 628/38976 [04:20<7:02:54,  1.51it/s]\u001b[A\u001b[A"
     ]
    },
    {
     "name": "stdout",
     "output_type": "stream",
     "text": [
      "9074629\n"
     ]
    },
    {
     "name": "stderr",
     "output_type": "stream",
     "text": [
      "\n",
      "\n",
      "  2%|▏         | 629/38976 [04:20<7:02:47,  1.51it/s]\u001b[A\u001b[A"
     ]
    },
    {
     "name": "stdout",
     "output_type": "stream",
     "text": [
      "9089029\n"
     ]
    },
    {
     "name": "stderr",
     "output_type": "stream",
     "text": [
      "\n",
      "\n",
      "  2%|▏         | 630/38976 [04:21<7:06:05,  1.50it/s]\u001b[A\u001b[A"
     ]
    },
    {
     "name": "stdout",
     "output_type": "stream",
     "text": [
      "9103429\n"
     ]
    },
    {
     "name": "stderr",
     "output_type": "stream",
     "text": [
      "\n",
      "\n",
      "  2%|▏         | 631/38976 [04:22<7:08:25,  1.49it/s]\u001b[A\u001b[A"
     ]
    },
    {
     "name": "stdout",
     "output_type": "stream",
     "text": [
      "9117829\n"
     ]
    },
    {
     "name": "stderr",
     "output_type": "stream",
     "text": [
      "\n",
      "\n",
      "  2%|▏         | 632/38976 [04:22<7:07:30,  1.49it/s]\u001b[A\u001b[A"
     ]
    },
    {
     "name": "stdout",
     "output_type": "stream",
     "text": [
      "9132229\n"
     ]
    },
    {
     "name": "stderr",
     "output_type": "stream",
     "text": [
      "\n",
      "\n",
      "  2%|▏         | 633/38976 [04:23<7:08:03,  1.49it/s]\u001b[A\u001b[A"
     ]
    },
    {
     "name": "stdout",
     "output_type": "stream",
     "text": [
      "9146629\n"
     ]
    },
    {
     "name": "stderr",
     "output_type": "stream",
     "text": [
      "\n",
      "\n",
      "  2%|▏         | 634/38976 [04:24<7:05:47,  1.50it/s]\u001b[A\u001b[A"
     ]
    },
    {
     "name": "stdout",
     "output_type": "stream",
     "text": [
      "9161029\n"
     ]
    },
    {
     "name": "stderr",
     "output_type": "stream",
     "text": [
      "\n",
      "\n",
      "  2%|▏         | 635/38976 [04:24<7:05:46,  1.50it/s]\u001b[A\u001b[A"
     ]
    },
    {
     "name": "stdout",
     "output_type": "stream",
     "text": [
      "9175429\n"
     ]
    },
    {
     "name": "stderr",
     "output_type": "stream",
     "text": [
      "\n",
      "\n",
      "  2%|▏         | 636/38976 [04:25<7:08:53,  1.49it/s]\u001b[A\u001b[A"
     ]
    },
    {
     "name": "stdout",
     "output_type": "stream",
     "text": [
      "9189829\n"
     ]
    },
    {
     "name": "stderr",
     "output_type": "stream",
     "text": [
      "\n",
      "\n",
      "  2%|▏         | 637/38976 [04:26<7:10:35,  1.48it/s]\u001b[A\u001b[A"
     ]
    },
    {
     "name": "stdout",
     "output_type": "stream",
     "text": [
      "9204229\n"
     ]
    },
    {
     "name": "stderr",
     "output_type": "stream",
     "text": [
      "\n",
      "\n",
      "  2%|▏         | 638/38976 [04:26<7:09:57,  1.49it/s]\u001b[A\u001b[A"
     ]
    },
    {
     "name": "stdout",
     "output_type": "stream",
     "text": [
      "9218629\n"
     ]
    },
    {
     "name": "stderr",
     "output_type": "stream",
     "text": [
      "\n",
      "\n",
      "  2%|▏         | 639/38976 [04:27<7:09:49,  1.49it/s]\u001b[A\u001b[A"
     ]
    },
    {
     "name": "stdout",
     "output_type": "stream",
     "text": [
      "9233029\n"
     ]
    },
    {
     "name": "stderr",
     "output_type": "stream",
     "text": [
      "\n",
      "\n",
      "  2%|▏         | 640/38976 [04:28<7:08:15,  1.49it/s]\u001b[A\u001b[A"
     ]
    },
    {
     "name": "stdout",
     "output_type": "stream",
     "text": [
      "9247429\n"
     ]
    },
    {
     "name": "stderr",
     "output_type": "stream",
     "text": [
      "\n",
      "\n",
      "  2%|▏         | 641/38976 [04:28<7:10:27,  1.48it/s]\u001b[A\u001b[A"
     ]
    },
    {
     "name": "stdout",
     "output_type": "stream",
     "text": [
      "9261829\n"
     ]
    },
    {
     "name": "stderr",
     "output_type": "stream",
     "text": [
      "\n",
      "\n",
      "  2%|▏         | 642/38976 [04:29<7:13:59,  1.47it/s]\u001b[A\u001b[A"
     ]
    },
    {
     "name": "stdout",
     "output_type": "stream",
     "text": [
      "9276229\n"
     ]
    },
    {
     "name": "stderr",
     "output_type": "stream",
     "text": [
      "\n",
      "\n",
      "  2%|▏         | 643/38976 [04:30<7:18:00,  1.46it/s]\u001b[A\u001b[A"
     ]
    },
    {
     "name": "stdout",
     "output_type": "stream",
     "text": [
      "9290629\n"
     ]
    },
    {
     "name": "stderr",
     "output_type": "stream",
     "text": [
      "\n",
      "\n",
      "  2%|▏         | 644/38976 [04:30<7:17:14,  1.46it/s]\u001b[A\u001b[A"
     ]
    },
    {
     "name": "stdout",
     "output_type": "stream",
     "text": [
      "9305029\n"
     ]
    },
    {
     "name": "stderr",
     "output_type": "stream",
     "text": [
      "\n",
      "\n",
      "  2%|▏         | 645/38976 [04:31<7:15:45,  1.47it/s]\u001b[A\u001b[A"
     ]
    },
    {
     "name": "stdout",
     "output_type": "stream",
     "text": [
      "9319429\n"
     ]
    },
    {
     "name": "stderr",
     "output_type": "stream",
     "text": [
      "\n",
      "\n",
      "  2%|▏         | 646/38976 [04:32<7:14:29,  1.47it/s]\u001b[A\u001b[A"
     ]
    },
    {
     "name": "stdout",
     "output_type": "stream",
     "text": [
      "9333829\n"
     ]
    },
    {
     "name": "stderr",
     "output_type": "stream",
     "text": [
      "\n",
      "\n",
      "  2%|▏         | 647/38976 [04:33<7:17:22,  1.46it/s]\u001b[A\u001b[A"
     ]
    },
    {
     "name": "stdout",
     "output_type": "stream",
     "text": [
      "9348229\n"
     ]
    },
    {
     "name": "stderr",
     "output_type": "stream",
     "text": [
      "\n",
      "\n",
      "  2%|▏         | 648/38976 [04:33<7:23:21,  1.44it/s]\u001b[A\u001b[A"
     ]
    },
    {
     "name": "stdout",
     "output_type": "stream",
     "text": [
      "9362629\n"
     ]
    },
    {
     "name": "stderr",
     "output_type": "stream",
     "text": [
      "\n",
      "\n",
      "  2%|▏         | 649/38976 [04:34<7:24:11,  1.44it/s]\u001b[A\u001b[A"
     ]
    },
    {
     "name": "stdout",
     "output_type": "stream",
     "text": [
      "9377029\n"
     ]
    },
    {
     "name": "stderr",
     "output_type": "stream",
     "text": [
      "\n",
      "\n",
      "  2%|▏         | 650/38976 [04:35<7:22:59,  1.44it/s]\u001b[A\u001b[A"
     ]
    },
    {
     "name": "stdout",
     "output_type": "stream",
     "text": [
      "9391429\n"
     ]
    },
    {
     "name": "stderr",
     "output_type": "stream",
     "text": [
      "\n",
      "\n",
      "  2%|▏         | 651/38976 [04:35<7:21:44,  1.45it/s]\u001b[A\u001b[A"
     ]
    },
    {
     "name": "stdout",
     "output_type": "stream",
     "text": [
      "9405829\n"
     ]
    },
    {
     "name": "stderr",
     "output_type": "stream",
     "text": [
      "\n",
      "\n",
      "  2%|▏         | 652/38976 [04:36<7:21:09,  1.45it/s]\u001b[A\u001b[A"
     ]
    },
    {
     "name": "stdout",
     "output_type": "stream",
     "text": [
      "9420229\n"
     ]
    },
    {
     "name": "stderr",
     "output_type": "stream",
     "text": [
      "\n",
      "\n",
      "  2%|▏         | 653/38976 [04:37<7:22:35,  1.44it/s]\u001b[A\u001b[A"
     ]
    },
    {
     "name": "stdout",
     "output_type": "stream",
     "text": [
      "9434629\n"
     ]
    },
    {
     "name": "stderr",
     "output_type": "stream",
     "text": [
      "\n",
      "\n",
      "  2%|▏         | 654/38976 [04:37<7:26:02,  1.43it/s]\u001b[A\u001b[A"
     ]
    },
    {
     "name": "stdout",
     "output_type": "stream",
     "text": [
      "9449029\n"
     ]
    },
    {
     "name": "stderr",
     "output_type": "stream",
     "text": [
      "\n",
      "\n",
      "  2%|▏         | 655/38976 [04:38<7:44:04,  1.38it/s]\u001b[A\u001b[A"
     ]
    },
    {
     "name": "stdout",
     "output_type": "stream",
     "text": [
      "9463429\n"
     ]
    },
    {
     "name": "stderr",
     "output_type": "stream",
     "text": [
      "\n",
      "\n",
      "  2%|▏         | 656/38976 [04:39<8:07:44,  1.31it/s]\u001b[A\u001b[A"
     ]
    },
    {
     "name": "stdout",
     "output_type": "stream",
     "text": [
      "9477829\n"
     ]
    },
    {
     "name": "stderr",
     "output_type": "stream",
     "text": [
      "\n",
      "\n",
      "  2%|▏         | 657/38976 [04:40<8:14:07,  1.29it/s]\u001b[A\u001b[A"
     ]
    },
    {
     "name": "stdout",
     "output_type": "stream",
     "text": [
      "9492229\n"
     ]
    },
    {
     "name": "stderr",
     "output_type": "stream",
     "text": [
      "\n",
      "\n",
      "  2%|▏         | 658/38976 [04:41<8:20:02,  1.28it/s]\u001b[A\u001b[A"
     ]
    },
    {
     "name": "stdout",
     "output_type": "stream",
     "text": [
      "9506629\n"
     ]
    },
    {
     "name": "stderr",
     "output_type": "stream",
     "text": [
      "\n",
      "\n",
      "  2%|▏         | 659/38976 [04:41<8:24:41,  1.27it/s]\u001b[A\u001b[A"
     ]
    },
    {
     "name": "stdout",
     "output_type": "stream",
     "text": [
      "9521029\n"
     ]
    },
    {
     "name": "stderr",
     "output_type": "stream",
     "text": [
      "\n",
      "\n",
      "  2%|▏         | 660/38976 [04:42<8:28:40,  1.26it/s]\u001b[A\u001b[A"
     ]
    },
    {
     "name": "stdout",
     "output_type": "stream",
     "text": [
      "9535429\n"
     ]
    },
    {
     "name": "stderr",
     "output_type": "stream",
     "text": [
      "\n",
      "\n",
      "  2%|▏         | 661/38976 [04:43<8:29:51,  1.25it/s]\u001b[A\u001b[A"
     ]
    },
    {
     "name": "stdout",
     "output_type": "stream",
     "text": [
      "9549829\n"
     ]
    },
    {
     "name": "stderr",
     "output_type": "stream",
     "text": [
      "\n",
      "\n",
      "  2%|▏         | 662/38976 [04:44<8:29:10,  1.25it/s]\u001b[A\u001b[A"
     ]
    },
    {
     "name": "stdout",
     "output_type": "stream",
     "text": [
      "9564229\n"
     ]
    },
    {
     "name": "stderr",
     "output_type": "stream",
     "text": [
      "\n",
      "\n",
      "  2%|▏         | 663/38976 [04:45<8:32:01,  1.25it/s]\u001b[A\u001b[A"
     ]
    },
    {
     "name": "stdout",
     "output_type": "stream",
     "text": [
      "9578629\n"
     ]
    },
    {
     "name": "stderr",
     "output_type": "stream",
     "text": [
      "\n",
      "\n",
      "  2%|▏         | 664/38976 [04:45<8:35:01,  1.24it/s]\u001b[A\u001b[A"
     ]
    },
    {
     "name": "stdout",
     "output_type": "stream",
     "text": [
      "9593029\n"
     ]
    },
    {
     "name": "stderr",
     "output_type": "stream",
     "text": [
      "\n",
      "\n",
      "  2%|▏         | 665/38976 [04:46<8:33:25,  1.24it/s]\u001b[A\u001b[A"
     ]
    },
    {
     "name": "stdout",
     "output_type": "stream",
     "text": [
      "9607429\n"
     ]
    },
    {
     "name": "stderr",
     "output_type": "stream",
     "text": [
      "\n",
      "\n",
      "  2%|▏         | 666/38976 [04:47<8:32:13,  1.25it/s]\u001b[A\u001b[A"
     ]
    },
    {
     "name": "stdout",
     "output_type": "stream",
     "text": [
      "9621829\n"
     ]
    },
    {
     "name": "stderr",
     "output_type": "stream",
     "text": [
      "\n",
      "\n",
      "  2%|▏         | 667/38976 [04:48<8:30:30,  1.25it/s]\u001b[A\u001b[A"
     ]
    },
    {
     "name": "stdout",
     "output_type": "stream",
     "text": [
      "9636229\n"
     ]
    },
    {
     "name": "stderr",
     "output_type": "stream",
     "text": [
      "\n",
      "\n",
      "  2%|▏         | 668/38976 [04:49<8:40:29,  1.23it/s]\u001b[A\u001b[A"
     ]
    },
    {
     "name": "stdout",
     "output_type": "stream",
     "text": [
      "9650629\n"
     ]
    },
    {
     "name": "stderr",
     "output_type": "stream",
     "text": [
      "\n",
      "\n",
      "  2%|▏         | 669/38976 [04:50<8:44:44,  1.22it/s]\u001b[A\u001b[A"
     ]
    },
    {
     "name": "stdout",
     "output_type": "stream",
     "text": [
      "9665029\n"
     ]
    },
    {
     "name": "stderr",
     "output_type": "stream",
     "text": [
      "\n",
      "\n",
      "  2%|▏         | 670/38976 [04:50<8:40:43,  1.23it/s]\u001b[A\u001b[A"
     ]
    },
    {
     "name": "stdout",
     "output_type": "stream",
     "text": [
      "9679429\n"
     ]
    },
    {
     "name": "stderr",
     "output_type": "stream",
     "text": [
      "\n",
      "\n",
      "  2%|▏         | 671/38976 [04:51<8:42:12,  1.22it/s]\u001b[A\u001b[A"
     ]
    },
    {
     "name": "stdout",
     "output_type": "stream",
     "text": [
      "9693829\n"
     ]
    },
    {
     "name": "stderr",
     "output_type": "stream",
     "text": [
      "\n",
      "\n",
      "  2%|▏         | 672/38976 [04:52<8:42:27,  1.22it/s]\u001b[A\u001b[A"
     ]
    },
    {
     "name": "stdout",
     "output_type": "stream",
     "text": [
      "9708229\n"
     ]
    },
    {
     "name": "stderr",
     "output_type": "stream",
     "text": [
      "\n",
      "\n",
      "  2%|▏         | 673/38976 [04:53<8:47:13,  1.21it/s]\u001b[A\u001b[A"
     ]
    },
    {
     "name": "stdout",
     "output_type": "stream",
     "text": [
      "9722629\n"
     ]
    },
    {
     "name": "stderr",
     "output_type": "stream",
     "text": [
      "\n",
      "\n",
      "  2%|▏         | 674/38976 [04:54<8:50:55,  1.20it/s]\u001b[A\u001b[A"
     ]
    },
    {
     "name": "stdout",
     "output_type": "stream",
     "text": [
      "9737029\n"
     ]
    },
    {
     "name": "stderr",
     "output_type": "stream",
     "text": [
      "\n",
      "\n",
      "  2%|▏         | 675/38976 [04:55<8:46:20,  1.21it/s]\u001b[A\u001b[A"
     ]
    },
    {
     "name": "stdout",
     "output_type": "stream",
     "text": [
      "9750349\n"
     ]
    },
    {
     "name": "stderr",
     "output_type": "stream",
     "text": [
      "\n",
      "\n",
      "  2%|▏         | 676/38976 [04:55<8:45:44,  1.21it/s]\u001b[A\u001b[A"
     ]
    },
    {
     "name": "stdout",
     "output_type": "stream",
     "text": [
      "9764749\n"
     ]
    },
    {
     "name": "stderr",
     "output_type": "stream",
     "text": [
      "\n",
      "\n",
      "  2%|▏         | 677/38976 [04:56<8:50:44,  1.20it/s]\u001b[A\u001b[A"
     ]
    },
    {
     "name": "stdout",
     "output_type": "stream",
     "text": [
      "9793369\n"
     ]
    },
    {
     "name": "stderr",
     "output_type": "stream",
     "text": [
      "\n",
      "\n",
      "  2%|▏         | 678/38976 [04:57<8:53:44,  1.20it/s]\u001b[A\u001b[A"
     ]
    },
    {
     "name": "stdout",
     "output_type": "stream",
     "text": [
      "9802549\n"
     ]
    },
    {
     "name": "stderr",
     "output_type": "stream",
     "text": [
      "\n",
      "\n",
      "  2%|▏         | 679/38976 [04:58<8:56:06,  1.19it/s]\u001b[A\u001b[A"
     ]
    },
    {
     "name": "stdout",
     "output_type": "stream",
     "text": [
      "9816949\n"
     ]
    },
    {
     "name": "stderr",
     "output_type": "stream",
     "text": [
      "\n",
      "\n",
      "  2%|▏         | 680/38976 [04:59<8:50:58,  1.20it/s]\u001b[A\u001b[A"
     ]
    },
    {
     "name": "stdout",
     "output_type": "stream",
     "text": [
      "9831349\n"
     ]
    },
    {
     "name": "stderr",
     "output_type": "stream",
     "text": [
      "\n",
      "\n",
      "  2%|▏         | 681/38976 [05:00<8:50:25,  1.20it/s]\u001b[A\u001b[A"
     ]
    },
    {
     "name": "stdout",
     "output_type": "stream",
     "text": [
      "9845749\n"
     ]
    },
    {
     "name": "stderr",
     "output_type": "stream",
     "text": [
      "\n",
      "\n",
      "  2%|▏         | 682/38976 [05:00<8:54:32,  1.19it/s]\u001b[A\u001b[A"
     ]
    },
    {
     "name": "stdout",
     "output_type": "stream",
     "text": [
      "9860149\n"
     ]
    },
    {
     "name": "stderr",
     "output_type": "stream",
     "text": [
      "\n",
      "\n",
      "  2%|▏         | 683/38976 [05:01<9:01:19,  1.18it/s]\u001b[A\u001b[A"
     ]
    },
    {
     "name": "stdout",
     "output_type": "stream",
     "text": [
      "9874549\n"
     ]
    },
    {
     "name": "stderr",
     "output_type": "stream",
     "text": [
      "\n",
      "\n",
      "  2%|▏         | 684/38976 [05:02<9:02:00,  1.18it/s]\u001b[A\u001b[A"
     ]
    },
    {
     "name": "stdout",
     "output_type": "stream",
     "text": [
      "9888949\n"
     ]
    },
    {
     "name": "stderr",
     "output_type": "stream",
     "text": [
      "\n",
      "\n",
      "  2%|▏         | 685/38976 [05:03<9:00:09,  1.18it/s]\u001b[A\u001b[A"
     ]
    },
    {
     "name": "stdout",
     "output_type": "stream",
     "text": [
      "9903349\n"
     ]
    },
    {
     "name": "stderr",
     "output_type": "stream",
     "text": [
      "\n",
      "\n",
      "  2%|▏         | 686/38976 [05:04<8:57:48,  1.19it/s]\u001b[A\u001b[A"
     ]
    },
    {
     "name": "stdout",
     "output_type": "stream",
     "text": [
      "9917749\n"
     ]
    },
    {
     "name": "stderr",
     "output_type": "stream",
     "text": [
      "\n",
      "\n",
      "  2%|▏         | 687/38976 [05:05<8:59:14,  1.18it/s]\u001b[A\u001b[A"
     ]
    },
    {
     "name": "stdout",
     "output_type": "stream",
     "text": [
      "9931249\n"
     ]
    },
    {
     "name": "stderr",
     "output_type": "stream",
     "text": [
      "\n",
      "\n",
      "  2%|▏         | 688/38976 [05:05<9:00:19,  1.18it/s]\u001b[A\u001b[A"
     ]
    },
    {
     "name": "stdout",
     "output_type": "stream",
     "text": [
      "9945649\n"
     ]
    },
    {
     "name": "stderr",
     "output_type": "stream",
     "text": [
      "\n",
      "\n",
      "  2%|▏         | 689/38976 [05:06<9:00:18,  1.18it/s]\u001b[A\u001b[A"
     ]
    },
    {
     "name": "stdout",
     "output_type": "stream",
     "text": [
      "9960049\n"
     ]
    },
    {
     "name": "stderr",
     "output_type": "stream",
     "text": [
      "\n",
      "\n",
      "  2%|▏         | 690/38976 [05:07<8:59:01,  1.18it/s]\u001b[A\u001b[A"
     ]
    },
    {
     "name": "stdout",
     "output_type": "stream",
     "text": [
      "9974449\n"
     ]
    },
    {
     "name": "stderr",
     "output_type": "stream",
     "text": [
      "\n",
      "\n",
      "  2%|▏         | 691/38976 [05:08<8:58:27,  1.19it/s]\u001b[A\u001b[A"
     ]
    },
    {
     "name": "stdout",
     "output_type": "stream",
     "text": [
      "9988849\n"
     ]
    },
    {
     "name": "stderr",
     "output_type": "stream",
     "text": [
      "\n",
      "\n",
      "  2%|▏         | 692/38976 [05:09<9:01:51,  1.18it/s]\u001b[A\u001b[A"
     ]
    },
    {
     "name": "stdout",
     "output_type": "stream",
     "text": [
      "10003249\n"
     ]
    },
    {
     "name": "stderr",
     "output_type": "stream",
     "text": [
      "\n",
      "\n",
      "  2%|▏         | 693/38976 [05:10<9:03:17,  1.17it/s]\u001b[A\u001b[A"
     ]
    },
    {
     "name": "stdout",
     "output_type": "stream",
     "text": [
      "10017649\n"
     ]
    },
    {
     "name": "stderr",
     "output_type": "stream",
     "text": [
      "\n",
      "\n",
      "  2%|▏         | 694/38976 [05:11<9:02:58,  1.18it/s]\u001b[A\u001b[A"
     ]
    },
    {
     "name": "stdout",
     "output_type": "stream",
     "text": [
      "10032049\n"
     ]
    },
    {
     "name": "stderr",
     "output_type": "stream",
     "text": [
      "\n",
      "\n",
      "  2%|▏         | 695/38976 [05:11<9:02:05,  1.18it/s]\u001b[A\u001b[A"
     ]
    },
    {
     "name": "stdout",
     "output_type": "stream",
     "text": [
      "10046449\n"
     ]
    },
    {
     "name": "stderr",
     "output_type": "stream",
     "text": [
      "\n",
      "\n",
      "  2%|▏         | 696/38976 [05:12<9:03:55,  1.17it/s]\u001b[A\u001b[A"
     ]
    },
    {
     "name": "stdout",
     "output_type": "stream",
     "text": [
      "10060849\n"
     ]
    },
    {
     "name": "stderr",
     "output_type": "stream",
     "text": [
      "\n",
      "\n",
      "  2%|▏         | 697/38976 [05:13<9:09:25,  1.16it/s]\u001b[A\u001b[A"
     ]
    },
    {
     "name": "stdout",
     "output_type": "stream",
     "text": [
      "10075249\n"
     ]
    },
    {
     "name": "stderr",
     "output_type": "stream",
     "text": [
      "\n",
      "\n",
      "  2%|▏         | 698/38976 [05:14<9:09:27,  1.16it/s]\u001b[A\u001b[A"
     ]
    },
    {
     "name": "stdout",
     "output_type": "stream",
     "text": [
      "10089649\n"
     ]
    },
    {
     "name": "stderr",
     "output_type": "stream",
     "text": [
      "\n",
      "\n",
      "  2%|▏         | 699/38976 [05:15<9:10:33,  1.16it/s]\u001b[A\u001b[A"
     ]
    },
    {
     "name": "stdout",
     "output_type": "stream",
     "text": [
      "10104049\n"
     ]
    },
    {
     "name": "stderr",
     "output_type": "stream",
     "text": [
      "\n",
      "\n",
      "  2%|▏         | 700/38976 [05:16<9:08:51,  1.16it/s]\u001b[A\u001b[A"
     ]
    },
    {
     "name": "stdout",
     "output_type": "stream",
     "text": [
      "10118449\n"
     ]
    },
    {
     "name": "stderr",
     "output_type": "stream",
     "text": [
      "\n",
      "\n",
      "  2%|▏         | 701/38976 [05:17<9:09:07,  1.16it/s]\u001b[A\u001b[A"
     ]
    },
    {
     "name": "stdout",
     "output_type": "stream",
     "text": [
      "10132849\n"
     ]
    },
    {
     "name": "stderr",
     "output_type": "stream",
     "text": [
      "\n",
      "\n",
      "  2%|▏         | 702/38976 [05:17<9:11:29,  1.16it/s]\u001b[A\u001b[A"
     ]
    },
    {
     "name": "stdout",
     "output_type": "stream",
     "text": [
      "10147249\n"
     ]
    },
    {
     "name": "stderr",
     "output_type": "stream",
     "text": [
      "\n",
      "\n",
      "  2%|▏         | 703/38976 [05:18<9:11:54,  1.16it/s]\u001b[A\u001b[A"
     ]
    },
    {
     "name": "stdout",
     "output_type": "stream",
     "text": [
      "10161649\n"
     ]
    },
    {
     "name": "stderr",
     "output_type": "stream",
     "text": [
      "\n",
      "\n",
      "  2%|▏         | 704/38976 [05:19<9:10:42,  1.16it/s]\u001b[A\u001b[A"
     ]
    },
    {
     "name": "stdout",
     "output_type": "stream",
     "text": [
      "10176049\n"
     ]
    },
    {
     "name": "stderr",
     "output_type": "stream",
     "text": [
      "\n",
      "\n",
      "  2%|▏         | 705/38976 [05:20<9:07:05,  1.17it/s]\u001b[A\u001b[A"
     ]
    },
    {
     "name": "stdout",
     "output_type": "stream",
     "text": [
      "10190449\n"
     ]
    },
    {
     "name": "stderr",
     "output_type": "stream",
     "text": [
      "\n",
      "\n",
      "  2%|▏         | 706/38976 [05:21<9:07:32,  1.16it/s]\u001b[A\u001b[A"
     ]
    },
    {
     "name": "stdout",
     "output_type": "stream",
     "text": [
      "10204849\n"
     ]
    },
    {
     "name": "stderr",
     "output_type": "stream",
     "text": [
      "\n",
      "\n",
      "  2%|▏         | 707/38976 [05:22<9:07:30,  1.16it/s]\u001b[A\u001b[A"
     ]
    },
    {
     "name": "stdout",
     "output_type": "stream",
     "text": [
      "10219249\n"
     ]
    },
    {
     "name": "stderr",
     "output_type": "stream",
     "text": [
      "\n",
      "\n",
      "  2%|▏         | 708/38976 [05:23<9:04:00,  1.17it/s]\u001b[A\u001b[A"
     ]
    },
    {
     "name": "stdout",
     "output_type": "stream",
     "text": [
      "10233649\n"
     ]
    },
    {
     "name": "stderr",
     "output_type": "stream",
     "text": [
      "\n",
      "\n",
      "  2%|▏         | 709/38976 [05:23<9:00:25,  1.18it/s]\u001b[A\u001b[A"
     ]
    },
    {
     "name": "stdout",
     "output_type": "stream",
     "text": [
      "10248049\n"
     ]
    },
    {
     "name": "stderr",
     "output_type": "stream",
     "text": [
      "\n",
      "\n",
      "  2%|▏         | 710/38976 [05:24<8:59:16,  1.18it/s]\u001b[A\u001b[A"
     ]
    },
    {
     "name": "stdout",
     "output_type": "stream",
     "text": [
      "10262449\n"
     ]
    },
    {
     "name": "stderr",
     "output_type": "stream",
     "text": [
      "\n",
      "\n",
      "  2%|▏         | 711/38976 [05:25<9:03:28,  1.17it/s]\u001b[A\u001b[A"
     ]
    },
    {
     "name": "stdout",
     "output_type": "stream",
     "text": [
      "10276849\n"
     ]
    },
    {
     "name": "stderr",
     "output_type": "stream",
     "text": [
      "\n",
      "\n",
      "  2%|▏         | 712/38976 [05:26<9:04:35,  1.17it/s]\u001b[A\u001b[A"
     ]
    },
    {
     "name": "stdout",
     "output_type": "stream",
     "text": [
      "10291249\n"
     ]
    },
    {
     "name": "stderr",
     "output_type": "stream",
     "text": [
      "\n",
      "\n",
      "  2%|▏         | 713/38976 [05:27<9:02:03,  1.18it/s]\u001b[A\u001b[A"
     ]
    },
    {
     "name": "stdout",
     "output_type": "stream",
     "text": [
      "10305649\n"
     ]
    },
    {
     "name": "stderr",
     "output_type": "stream",
     "text": [
      "\n",
      "\n",
      "  2%|▏         | 714/38976 [05:28<8:58:13,  1.18it/s]\u001b[A\u001b[A"
     ]
    },
    {
     "name": "stdout",
     "output_type": "stream",
     "text": [
      "10320049\n"
     ]
    },
    {
     "name": "stderr",
     "output_type": "stream",
     "text": [
      "\n",
      "\n",
      "  2%|▏         | 715/38976 [05:29<8:58:34,  1.18it/s]\u001b[A\u001b[A"
     ]
    },
    {
     "name": "stdout",
     "output_type": "stream",
     "text": [
      "10334449\n"
     ]
    },
    {
     "name": "stderr",
     "output_type": "stream",
     "text": [
      "\n",
      "\n",
      "  2%|▏         | 716/38976 [05:29<9:03:17,  1.17it/s]\u001b[A\u001b[A"
     ]
    },
    {
     "name": "stdout",
     "output_type": "stream",
     "text": [
      "10348849\n"
     ]
    },
    {
     "name": "stderr",
     "output_type": "stream",
     "text": [
      "\n",
      "\n",
      "  2%|▏         | 717/38976 [05:30<9:04:18,  1.17it/s]\u001b[A\u001b[A"
     ]
    },
    {
     "name": "stdout",
     "output_type": "stream",
     "text": [
      "10363249\n"
     ]
    },
    {
     "name": "stderr",
     "output_type": "stream",
     "text": [
      "\n",
      "\n",
      "  2%|▏         | 718/38976 [05:31<9:04:47,  1.17it/s]\u001b[A\u001b[A"
     ]
    },
    {
     "name": "stdout",
     "output_type": "stream",
     "text": [
      "10377649\n"
     ]
    },
    {
     "name": "stderr",
     "output_type": "stream",
     "text": [
      "\n",
      "\n",
      "  2%|▏         | 719/38976 [05:32<9:03:33,  1.17it/s]\u001b[A\u001b[A"
     ]
    },
    {
     "name": "stdout",
     "output_type": "stream",
     "text": [
      "10392049\n"
     ]
    },
    {
     "name": "stderr",
     "output_type": "stream",
     "text": [
      "\n",
      "\n",
      "  2%|▏         | 720/38976 [05:33<9:05:47,  1.17it/s]\u001b[A\u001b[A"
     ]
    },
    {
     "name": "stdout",
     "output_type": "stream",
     "text": [
      "10406449\n"
     ]
    },
    {
     "name": "stderr",
     "output_type": "stream",
     "text": [
      "\n",
      "\n",
      "  2%|▏         | 721/38976 [05:34<9:07:52,  1.16it/s]\u001b[A\u001b[A"
     ]
    },
    {
     "name": "stdout",
     "output_type": "stream",
     "text": [
      "10420849\n"
     ]
    },
    {
     "name": "stderr",
     "output_type": "stream",
     "text": [
      "\n",
      "\n",
      "  2%|▏         | 722/38976 [05:35<9:06:46,  1.17it/s]\u001b[A\u001b[A"
     ]
    },
    {
     "name": "stdout",
     "output_type": "stream",
     "text": [
      "10435249\n"
     ]
    },
    {
     "name": "stderr",
     "output_type": "stream",
     "text": [
      "\n",
      "\n",
      "  2%|▏         | 723/38976 [05:35<9:04:44,  1.17it/s]\u001b[A\u001b[A"
     ]
    },
    {
     "name": "stdout",
     "output_type": "stream",
     "text": [
      "10449649\n"
     ]
    },
    {
     "name": "stderr",
     "output_type": "stream",
     "text": [
      "\n",
      "\n",
      "  2%|▏         | 724/38976 [05:36<9:03:42,  1.17it/s]\u001b[A\u001b[A"
     ]
    },
    {
     "name": "stdout",
     "output_type": "stream",
     "text": [
      "10464049\n"
     ]
    },
    {
     "name": "stderr",
     "output_type": "stream",
     "text": [
      "\n",
      "\n",
      "  2%|▏         | 725/38976 [05:37<9:10:02,  1.16it/s]\u001b[A\u001b[A"
     ]
    },
    {
     "name": "stdout",
     "output_type": "stream",
     "text": [
      "10478449\n"
     ]
    },
    {
     "name": "stderr",
     "output_type": "stream",
     "text": [
      "\n",
      "\n",
      "  2%|▏         | 726/38976 [05:38<9:15:02,  1.15it/s]\u001b[A\u001b[A"
     ]
    },
    {
     "name": "stdout",
     "output_type": "stream",
     "text": [
      "10492849\n"
     ]
    },
    {
     "name": "stderr",
     "output_type": "stream",
     "text": [
      "\n",
      "\n",
      "  2%|▏         | 727/38976 [05:39<9:15:32,  1.15it/s]\u001b[A\u001b[A"
     ]
    },
    {
     "name": "stdout",
     "output_type": "stream",
     "text": [
      "10507249\n"
     ]
    },
    {
     "name": "stderr",
     "output_type": "stream",
     "text": [
      "\n",
      "\n",
      "  2%|▏         | 728/38976 [05:40<9:16:16,  1.15it/s]\u001b[A\u001b[A"
     ]
    },
    {
     "name": "stdout",
     "output_type": "stream",
     "text": [
      "10521649\n"
     ]
    },
    {
     "name": "stderr",
     "output_type": "stream",
     "text": [
      "\n",
      "\n",
      "  2%|▏         | 729/38976 [05:41<9:18:44,  1.14it/s]\u001b[A\u001b[A"
     ]
    },
    {
     "name": "stdout",
     "output_type": "stream",
     "text": [
      "10536049\n"
     ]
    },
    {
     "name": "stderr",
     "output_type": "stream",
     "text": [
      "\n",
      "\n",
      "  2%|▏         | 730/38976 [05:42<9:22:11,  1.13it/s]\u001b[A\u001b[A"
     ]
    },
    {
     "name": "stdout",
     "output_type": "stream",
     "text": [
      "10549549\n"
     ]
    },
    {
     "name": "stderr",
     "output_type": "stream",
     "text": [
      "\n",
      "\n",
      "  2%|▏         | 731/38976 [05:42<9:22:17,  1.13it/s]\u001b[A\u001b[A"
     ]
    },
    {
     "name": "stdout",
     "output_type": "stream",
     "text": [
      "10563949\n"
     ]
    },
    {
     "name": "stderr",
     "output_type": "stream",
     "text": [
      "\n",
      "\n",
      "  2%|▏         | 732/38976 [05:43<9:21:33,  1.14it/s]\u001b[A\u001b[A"
     ]
    },
    {
     "name": "stdout",
     "output_type": "stream",
     "text": [
      "10578349\n"
     ]
    },
    {
     "name": "stderr",
     "output_type": "stream",
     "text": [
      "\n",
      "\n",
      "  2%|▏         | 733/38976 [05:44<9:21:47,  1.13it/s]\u001b[A\u001b[A"
     ]
    },
    {
     "name": "stdout",
     "output_type": "stream",
     "text": [
      "10592749\n"
     ]
    },
    {
     "name": "stderr",
     "output_type": "stream",
     "text": [
      "\n",
      "\n",
      "  2%|▏         | 734/38976 [05:45<9:26:57,  1.12it/s]\u001b[A\u001b[A"
     ]
    },
    {
     "name": "stdout",
     "output_type": "stream",
     "text": [
      "10607149\n"
     ]
    },
    {
     "name": "stderr",
     "output_type": "stream",
     "text": [
      "\n",
      "\n",
      "  2%|▏         | 735/38976 [05:46<9:29:45,  1.12it/s]\u001b[A\u001b[A"
     ]
    },
    {
     "name": "stdout",
     "output_type": "stream",
     "text": [
      "10621549\n"
     ]
    },
    {
     "name": "stderr",
     "output_type": "stream",
     "text": [
      "\n",
      "\n",
      "  2%|▏         | 736/38976 [05:47<9:28:12,  1.12it/s]\u001b[A\u001b[A"
     ]
    },
    {
     "name": "stdout",
     "output_type": "stream",
     "text": [
      "10635949\n"
     ]
    },
    {
     "name": "stderr",
     "output_type": "stream",
     "text": [
      "\n",
      "\n",
      "  2%|▏         | 737/38976 [05:48<9:27:13,  1.12it/s]\u001b[A\u001b[A"
     ]
    },
    {
     "name": "stdout",
     "output_type": "stream",
     "text": [
      "10650349\n"
     ]
    },
    {
     "name": "stderr",
     "output_type": "stream",
     "text": [
      "\n",
      "\n",
      "  2%|▏         | 738/38976 [05:49<9:28:53,  1.12it/s]\u001b[A\u001b[A"
     ]
    },
    {
     "name": "stdout",
     "output_type": "stream",
     "text": [
      "10664749\n"
     ]
    },
    {
     "name": "stderr",
     "output_type": "stream",
     "text": [
      "\n",
      "\n",
      "  2%|▏         | 739/38976 [05:50<9:30:27,  1.12it/s]\u001b[A\u001b[A"
     ]
    },
    {
     "name": "stdout",
     "output_type": "stream",
     "text": [
      "10679149\n"
     ]
    },
    {
     "name": "stderr",
     "output_type": "stream",
     "text": [
      "\n",
      "\n",
      "  2%|▏         | 740/38976 [05:50<9:29:40,  1.12it/s]\u001b[A\u001b[A"
     ]
    },
    {
     "name": "stdout",
     "output_type": "stream",
     "text": [
      "10693549\n"
     ]
    },
    {
     "name": "stderr",
     "output_type": "stream",
     "text": [
      "\n",
      "\n",
      "  2%|▏         | 741/38976 [05:51<9:28:38,  1.12it/s]\u001b[A\u001b[A"
     ]
    },
    {
     "name": "stdout",
     "output_type": "stream",
     "text": [
      "10707949\n"
     ]
    },
    {
     "name": "stderr",
     "output_type": "stream",
     "text": [
      "\n",
      "\n",
      "  2%|▏         | 742/38976 [05:52<9:30:36,  1.12it/s]\u001b[A\u001b[A"
     ]
    },
    {
     "name": "stdout",
     "output_type": "stream",
     "text": [
      "10736569\n"
     ]
    },
    {
     "name": "stderr",
     "output_type": "stream",
     "text": [
      "\n",
      "\n",
      "  2%|▏         | 743/38976 [05:53<9:30:00,  1.12it/s]\u001b[A\u001b[A"
     ]
    },
    {
     "name": "stdout",
     "output_type": "stream",
     "text": [
      "10750969\n"
     ]
    },
    {
     "name": "stderr",
     "output_type": "stream",
     "text": [
      "\n",
      "\n",
      "  2%|▏         | 744/38976 [05:54<9:28:38,  1.12it/s]\u001b[A\u001b[A"
     ]
    },
    {
     "name": "stdout",
     "output_type": "stream",
     "text": [
      "10765369\n"
     ]
    },
    {
     "name": "stderr",
     "output_type": "stream",
     "text": [
      "\n",
      "\n",
      "  2%|▏         | 745/38976 [05:55<9:25:58,  1.13it/s]\u001b[A\u001b[A"
     ]
    },
    {
     "name": "stdout",
     "output_type": "stream",
     "text": [
      "10779769\n"
     ]
    },
    {
     "name": "stderr",
     "output_type": "stream",
     "text": [
      "\n",
      "\n",
      "  2%|▏         | 746/38976 [05:56<9:23:53,  1.13it/s]\u001b[A\u001b[A"
     ]
    },
    {
     "name": "stdout",
     "output_type": "stream",
     "text": [
      "10794169\n"
     ]
    },
    {
     "name": "stderr",
     "output_type": "stream",
     "text": [
      "\n",
      "\n",
      "  2%|▏         | 747/38976 [05:57<9:25:58,  1.13it/s]\u001b[A\u001b[A"
     ]
    },
    {
     "name": "stdout",
     "output_type": "stream",
     "text": [
      "10808569\n"
     ]
    },
    {
     "name": "stderr",
     "output_type": "stream",
     "text": [
      "\n",
      "\n",
      "  2%|▏         | 748/38976 [05:58<9:27:03,  1.12it/s]\u001b[A\u001b[A"
     ]
    },
    {
     "name": "stdout",
     "output_type": "stream",
     "text": [
      "10822969\n"
     ]
    },
    {
     "name": "stderr",
     "output_type": "stream",
     "text": [
      "\n",
      "\n",
      "  2%|▏         | 749/38976 [05:58<9:26:48,  1.12it/s]\u001b[A\u001b[A"
     ]
    },
    {
     "name": "stdout",
     "output_type": "stream",
     "text": [
      "10837369\n"
     ]
    },
    {
     "name": "stderr",
     "output_type": "stream",
     "text": [
      "\n",
      "\n",
      "  2%|▏         | 750/38976 [05:59<9:25:09,  1.13it/s]\u001b[A\u001b[A"
     ]
    },
    {
     "name": "stdout",
     "output_type": "stream",
     "text": [
      "10851769\n"
     ]
    },
    {
     "name": "stderr",
     "output_type": "stream",
     "text": [
      "\n",
      "\n",
      "  2%|▏         | 751/38976 [06:00<9:24:51,  1.13it/s]\u001b[A\u001b[A"
     ]
    },
    {
     "name": "stdout",
     "output_type": "stream",
     "text": [
      "10866169\n"
     ]
    },
    {
     "name": "stderr",
     "output_type": "stream",
     "text": [
      "\n",
      "\n",
      "  2%|▏         | 752/38976 [06:01<9:29:51,  1.12it/s]\u001b[A\u001b[A"
     ]
    },
    {
     "name": "stdout",
     "output_type": "stream",
     "text": [
      "10880569\n"
     ]
    },
    {
     "name": "stderr",
     "output_type": "stream",
     "text": [
      "\n",
      "\n",
      "  2%|▏         | 753/38976 [06:02<9:31:07,  1.12it/s]\u001b[A\u001b[A"
     ]
    },
    {
     "name": "stdout",
     "output_type": "stream",
     "text": [
      "10894969\n"
     ]
    },
    {
     "name": "stderr",
     "output_type": "stream",
     "text": [
      "\n",
      "\n",
      "  2%|▏         | 754/38976 [06:03<9:29:41,  1.12it/s]\u001b[A\u001b[A"
     ]
    },
    {
     "name": "stdout",
     "output_type": "stream",
     "text": [
      "10909369\n"
     ]
    },
    {
     "name": "stderr",
     "output_type": "stream",
     "text": [
      "\n",
      "\n",
      "  2%|▏         | 755/38976 [06:04<9:27:01,  1.12it/s]\u001b[A\u001b[A"
     ]
    },
    {
     "name": "stdout",
     "output_type": "stream",
     "text": [
      "10923769\n"
     ]
    },
    {
     "name": "stderr",
     "output_type": "stream",
     "text": [
      "\n",
      "\n",
      "  2%|▏         | 756/38976 [06:05<9:28:55,  1.12it/s]\u001b[A\u001b[A"
     ]
    },
    {
     "name": "stdout",
     "output_type": "stream",
     "text": [
      "10938169\n"
     ]
    },
    {
     "name": "stderr",
     "output_type": "stream",
     "text": [
      "\n",
      "\n",
      "  2%|▏         | 757/38976 [06:06<9:33:59,  1.11it/s]\u001b[A\u001b[A"
     ]
    },
    {
     "name": "stdout",
     "output_type": "stream",
     "text": [
      "10952569\n"
     ]
    },
    {
     "name": "stderr",
     "output_type": "stream",
     "text": [
      "\n",
      "\n",
      "  2%|▏         | 758/38976 [06:07<9:33:09,  1.11it/s]\u001b[A\u001b[A"
     ]
    },
    {
     "name": "stdout",
     "output_type": "stream",
     "text": [
      "10966969\n"
     ]
    },
    {
     "name": "stderr",
     "output_type": "stream",
     "text": [
      "\n",
      "\n",
      "  2%|▏         | 759/38976 [06:07<9:32:14,  1.11it/s]\u001b[A\u001b[A"
     ]
    },
    {
     "name": "stdout",
     "output_type": "stream",
     "text": [
      "10981369\n"
     ]
    },
    {
     "name": "stderr",
     "output_type": "stream",
     "text": [
      "\n",
      "\n",
      "  2%|▏         | 760/38976 [06:08<9:34:27,  1.11it/s]\u001b[A\u001b[A"
     ]
    },
    {
     "name": "stdout",
     "output_type": "stream",
     "text": [
      "10995769\n"
     ]
    },
    {
     "name": "stderr",
     "output_type": "stream",
     "text": [
      "\n",
      "\n",
      "  2%|▏         | 761/38976 [06:09<9:36:59,  1.10it/s]\u001b[A\u001b[A"
     ]
    },
    {
     "name": "stdout",
     "output_type": "stream",
     "text": [
      "11010169\n"
     ]
    },
    {
     "name": "stderr",
     "output_type": "stream",
     "text": [
      "\n",
      "\n",
      "  2%|▏         | 762/38976 [06:10<9:38:10,  1.10it/s]\u001b[A\u001b[A"
     ]
    },
    {
     "name": "stdout",
     "output_type": "stream",
     "text": [
      "11024569\n"
     ]
    },
    {
     "name": "stderr",
     "output_type": "stream",
     "text": [
      "\n",
      "\n",
      "  2%|▏         | 763/38976 [06:11<9:36:30,  1.10it/s]\u001b[A\u001b[A"
     ]
    },
    {
     "name": "stdout",
     "output_type": "stream",
     "text": [
      "11034649\n"
     ]
    },
    {
     "name": "stderr",
     "output_type": "stream",
     "text": [
      "\n",
      "\n",
      "  2%|▏         | 764/38976 [06:12<9:34:03,  1.11it/s]\u001b[A\u001b[A"
     ]
    },
    {
     "name": "stdout",
     "output_type": "stream",
     "text": [
      "11049049\n"
     ]
    },
    {
     "name": "stderr",
     "output_type": "stream",
     "text": [
      "\n",
      "\n",
      "  2%|▏         | 765/38976 [06:13<9:38:20,  1.10it/s]\u001b[A\u001b[A"
     ]
    },
    {
     "name": "stdout",
     "output_type": "stream",
     "text": [
      "11063449\n"
     ]
    },
    {
     "name": "stderr",
     "output_type": "stream",
     "text": [
      "\n",
      "\n",
      "  2%|▏         | 766/38976 [06:14<9:42:30,  1.09it/s]\u001b[A\u001b[A"
     ]
    },
    {
     "name": "stdout",
     "output_type": "stream",
     "text": [
      "11077849\n"
     ]
    },
    {
     "name": "stderr",
     "output_type": "stream",
     "text": [
      "\n",
      "\n",
      "  2%|▏         | 767/38976 [06:15<9:43:27,  1.09it/s]\u001b[A\u001b[A"
     ]
    },
    {
     "name": "stdout",
     "output_type": "stream",
     "text": [
      "11092249\n"
     ]
    },
    {
     "name": "stderr",
     "output_type": "stream",
     "text": [
      "\n",
      "\n",
      "  2%|▏         | 768/38976 [06:16<9:44:34,  1.09it/s]\u001b[A\u001b[A"
     ]
    },
    {
     "name": "stdout",
     "output_type": "stream",
     "text": [
      "11106649\n"
     ]
    },
    {
     "name": "stderr",
     "output_type": "stream",
     "text": [
      "\n",
      "\n",
      "  2%|▏         | 769/38976 [06:17<9:48:20,  1.08it/s]\u001b[A\u001b[A"
     ]
    },
    {
     "name": "stdout",
     "output_type": "stream",
     "text": [
      "11121049\n"
     ]
    },
    {
     "name": "stderr",
     "output_type": "stream",
     "text": [
      "\n",
      "\n",
      "  2%|▏         | 770/38976 [06:18<9:51:36,  1.08it/s]\u001b[A\u001b[A"
     ]
    },
    {
     "name": "stdout",
     "output_type": "stream",
     "text": [
      "11135449\n"
     ]
    },
    {
     "name": "stderr",
     "output_type": "stream",
     "text": [
      "\n",
      "\n",
      "  2%|▏         | 771/38976 [06:18<9:53:35,  1.07it/s]\u001b[A\u001b[A"
     ]
    },
    {
     "name": "stdout",
     "output_type": "stream",
     "text": [
      "11149849\n"
     ]
    },
    {
     "name": "stderr",
     "output_type": "stream",
     "text": [
      "\n",
      "\n",
      "  2%|▏         | 772/38976 [06:19<9:51:42,  1.08it/s]\u001b[A\u001b[A"
     ]
    },
    {
     "name": "stdout",
     "output_type": "stream",
     "text": [
      "11164249\n"
     ]
    },
    {
     "name": "stderr",
     "output_type": "stream",
     "text": [
      "\n",
      "\n",
      "  2%|▏         | 773/38976 [06:20<9:51:52,  1.08it/s]\u001b[A\u001b[A"
     ]
    },
    {
     "name": "stdout",
     "output_type": "stream",
     "text": [
      "11178649\n"
     ]
    },
    {
     "name": "stderr",
     "output_type": "stream",
     "text": [
      "\n",
      "\n",
      "  2%|▏         | 774/38976 [06:21<9:57:45,  1.07it/s]\u001b[A\u001b[A"
     ]
    },
    {
     "name": "stdout",
     "output_type": "stream",
     "text": [
      "11193049\n"
     ]
    },
    {
     "name": "stderr",
     "output_type": "stream",
     "text": [
      "\n",
      "\n",
      "  2%|▏         | 775/38976 [06:22<9:57:16,  1.07it/s]\u001b[A\u001b[A"
     ]
    },
    {
     "name": "stdout",
     "output_type": "stream",
     "text": [
      "11207449\n"
     ]
    },
    {
     "name": "stderr",
     "output_type": "stream",
     "text": [
      "\n",
      "\n",
      "  2%|▏         | 776/38976 [06:23<9:55:15,  1.07it/s]\u001b[A\u001b[A"
     ]
    },
    {
     "name": "stdout",
     "output_type": "stream",
     "text": [
      "11221849\n"
     ]
    },
    {
     "name": "stderr",
     "output_type": "stream",
     "text": [
      "\n",
      "\n",
      "  2%|▏         | 777/38976 [06:24<9:53:53,  1.07it/s]\u001b[A\u001b[A"
     ]
    },
    {
     "name": "stdout",
     "output_type": "stream",
     "text": [
      "11236249\n"
     ]
    },
    {
     "name": "stderr",
     "output_type": "stream",
     "text": [
      "\n",
      "\n",
      "  2%|▏         | 778/38976 [06:25<9:58:43,  1.06it/s]\u001b[A\u001b[A"
     ]
    },
    {
     "name": "stdout",
     "output_type": "stream",
     "text": [
      "11250649\n"
     ]
    },
    {
     "name": "stderr",
     "output_type": "stream",
     "text": [
      "\n",
      "\n",
      "  2%|▏         | 779/38976 [06:26<10:01:13,  1.06it/s]\u001b[A\u001b[A"
     ]
    },
    {
     "name": "stdout",
     "output_type": "stream",
     "text": [
      "11265049\n"
     ]
    },
    {
     "name": "stderr",
     "output_type": "stream",
     "text": [
      "\n",
      "\n",
      "  2%|▏         | 780/38976 [06:27<9:54:03,  1.07it/s] \u001b[A\u001b[A"
     ]
    },
    {
     "name": "stdout",
     "output_type": "stream",
     "text": [
      "11274229\n"
     ]
    },
    {
     "name": "stderr",
     "output_type": "stream",
     "text": [
      "\n",
      "\n",
      "  2%|▏         | 781/38976 [06:28<9:50:11,  1.08it/s]\u001b[A\u001b[A"
     ]
    },
    {
     "name": "stdout",
     "output_type": "stream",
     "text": [
      "11288629\n"
     ]
    },
    {
     "name": "stderr",
     "output_type": "stream",
     "text": [
      "\n",
      "\n",
      "  2%|▏         | 782/38976 [06:29<9:51:19,  1.08it/s]\u001b[A\u001b[A"
     ]
    },
    {
     "name": "stdout",
     "output_type": "stream",
     "text": [
      "11303029\n"
     ]
    },
    {
     "name": "stderr",
     "output_type": "stream",
     "text": [
      "\n",
      "\n",
      "  2%|▏         | 783/38976 [06:30<9:52:00,  1.08it/s]\u001b[A\u001b[A"
     ]
    },
    {
     "name": "stdout",
     "output_type": "stream",
     "text": [
      "11317429\n"
     ]
    },
    {
     "name": "stderr",
     "output_type": "stream",
     "text": [
      "\n",
      "\n",
      "  2%|▏         | 784/38976 [06:31<9:51:15,  1.08it/s]\u001b[A\u001b[A"
     ]
    },
    {
     "name": "stdout",
     "output_type": "stream",
     "text": [
      "11331829\n"
     ]
    },
    {
     "name": "stderr",
     "output_type": "stream",
     "text": [
      "\n",
      "\n",
      "  2%|▏         | 785/38976 [06:32<9:49:08,  1.08it/s]\u001b[A\u001b[A"
     ]
    },
    {
     "name": "stdout",
     "output_type": "stream",
     "text": [
      "11346229\n"
     ]
    },
    {
     "name": "stderr",
     "output_type": "stream",
     "text": [
      "\n",
      "\n",
      "  2%|▏         | 786/38976 [06:32<9:49:47,  1.08it/s]\u001b[A\u001b[A"
     ]
    },
    {
     "name": "stdout",
     "output_type": "stream",
     "text": [
      "11359549\n"
     ]
    },
    {
     "name": "stderr",
     "output_type": "stream",
     "text": [
      "\n",
      "\n",
      "  2%|▏         | 787/38976 [06:33<9:53:44,  1.07it/s]\u001b[A\u001b[A"
     ]
    },
    {
     "name": "stdout",
     "output_type": "stream",
     "text": [
      "11373949\n"
     ]
    },
    {
     "name": "stderr",
     "output_type": "stream",
     "text": [
      "\n",
      "\n",
      "  2%|▏         | 788/38976 [06:34<9:53:48,  1.07it/s]\u001b[A\u001b[A"
     ]
    },
    {
     "name": "stdout",
     "output_type": "stream",
     "text": [
      "11388349\n"
     ]
    },
    {
     "name": "stderr",
     "output_type": "stream",
     "text": [
      "\n",
      "\n",
      "  2%|▏         | 789/38976 [06:35<9:53:35,  1.07it/s]\u001b[A\u001b[A"
     ]
    },
    {
     "name": "stdout",
     "output_type": "stream",
     "text": [
      "11402749\n"
     ]
    },
    {
     "name": "stderr",
     "output_type": "stream",
     "text": [
      "\n",
      "\n",
      "  2%|▏         | 790/38976 [06:36<9:51:51,  1.08it/s]\u001b[A\u001b[A"
     ]
    },
    {
     "name": "stdout",
     "output_type": "stream",
     "text": [
      "11417149\n"
     ]
    },
    {
     "name": "stderr",
     "output_type": "stream",
     "text": [
      "\n",
      "\n",
      "  2%|▏         | 791/38976 [06:37<9:56:01,  1.07it/s]\u001b[A\u001b[A"
     ]
    },
    {
     "name": "stdout",
     "output_type": "stream",
     "text": [
      "11431549\n"
     ]
    },
    {
     "name": "stderr",
     "output_type": "stream",
     "text": [
      "\n",
      "\n",
      "  2%|▏         | 792/38976 [06:38<9:55:54,  1.07it/s]\u001b[A\u001b[A"
     ]
    },
    {
     "name": "stdout",
     "output_type": "stream",
     "text": [
      "11445949\n"
     ]
    },
    {
     "name": "stderr",
     "output_type": "stream",
     "text": [
      "\n",
      "\n",
      "  2%|▏         | 793/38976 [06:39<9:57:12,  1.07it/s]\u001b[A\u001b[A"
     ]
    },
    {
     "name": "stdout",
     "output_type": "stream",
     "text": [
      "11474569\n"
     ]
    },
    {
     "name": "stderr",
     "output_type": "stream",
     "text": [
      "\n",
      "\n",
      "  2%|▏         | 794/38976 [06:40<9:54:49,  1.07it/s]\u001b[A\u001b[A"
     ]
    },
    {
     "name": "stdout",
     "output_type": "stream",
     "text": [
      "11488969\n"
     ]
    },
    {
     "name": "stderr",
     "output_type": "stream",
     "text": [
      "\n",
      "\n",
      "  2%|▏         | 795/38976 [06:41<9:59:16,  1.06it/s]\u001b[A\u001b[A"
     ]
    },
    {
     "name": "stdout",
     "output_type": "stream",
     "text": [
      "11503369\n"
     ]
    },
    {
     "name": "stderr",
     "output_type": "stream",
     "text": [
      "\n",
      "\n",
      "  2%|▏         | 796/38976 [06:42<10:01:44,  1.06it/s]\u001b[A\u001b[A"
     ]
    },
    {
     "name": "stdout",
     "output_type": "stream",
     "text": [
      "11517769\n"
     ]
    },
    {
     "name": "stderr",
     "output_type": "stream",
     "text": [
      "\n",
      "\n",
      "  2%|▏         | 797/38976 [06:43<10:00:47,  1.06it/s]\u001b[A\u001b[A"
     ]
    },
    {
     "name": "stdout",
     "output_type": "stream",
     "text": [
      "11532169\n"
     ]
    },
    {
     "name": "stderr",
     "output_type": "stream",
     "text": [
      "\n",
      "\n",
      "  2%|▏         | 798/38976 [06:44<9:58:32,  1.06it/s] \u001b[A\u001b[A"
     ]
    },
    {
     "name": "stdout",
     "output_type": "stream",
     "text": [
      "11546569\n"
     ]
    },
    {
     "name": "stderr",
     "output_type": "stream",
     "text": [
      "\n",
      "\n",
      "  2%|▏         | 799/38976 [06:45<10:00:27,  1.06it/s]\u001b[A\u001b[A"
     ]
    },
    {
     "name": "stdout",
     "output_type": "stream",
     "text": [
      "11560969\n"
     ]
    },
    {
     "name": "stderr",
     "output_type": "stream",
     "text": [
      "\n",
      "\n",
      "  2%|▏         | 800/38976 [06:46<10:03:48,  1.05it/s]\u001b[A\u001b[A"
     ]
    },
    {
     "name": "stdout",
     "output_type": "stream",
     "text": [
      "11575369\n"
     ]
    },
    {
     "name": "stderr",
     "output_type": "stream",
     "text": [
      "\n",
      "\n",
      "  2%|▏         | 801/38976 [06:47<10:02:39,  1.06it/s]\u001b[A\u001b[A"
     ]
    },
    {
     "name": "stdout",
     "output_type": "stream",
     "text": [
      "11589769\n"
     ]
    },
    {
     "name": "stderr",
     "output_type": "stream",
     "text": [
      "\n",
      "\n",
      "  2%|▏         | 802/38976 [06:48<10:01:16,  1.06it/s]\u001b[A\u001b[A"
     ]
    },
    {
     "name": "stdout",
     "output_type": "stream",
     "text": [
      "11604169\n"
     ]
    },
    {
     "name": "stderr",
     "output_type": "stream",
     "text": [
      "\n",
      "\n",
      "  2%|▏         | 803/38976 [06:48<10:03:05,  1.05it/s]\u001b[A\u001b[A"
     ]
    },
    {
     "name": "stdout",
     "output_type": "stream",
     "text": [
      "11617669\n"
     ]
    },
    {
     "name": "stderr",
     "output_type": "stream",
     "text": [
      "\n",
      "\n",
      "  2%|▏         | 804/38976 [06:49<10:05:22,  1.05it/s]\u001b[A\u001b[A"
     ]
    },
    {
     "name": "stdout",
     "output_type": "stream",
     "text": [
      "11632069\n"
     ]
    },
    {
     "name": "stderr",
     "output_type": "stream",
     "text": [
      "\n",
      "\n",
      "  2%|▏         | 805/38976 [06:50<10:06:35,  1.05it/s]\u001b[A\u001b[A"
     ]
    },
    {
     "name": "stdout",
     "output_type": "stream",
     "text": [
      "11646469\n"
     ]
    },
    {
     "name": "stderr",
     "output_type": "stream",
     "text": [
      "\n",
      "\n",
      "  2%|▏         | 806/38976 [06:51<10:02:52,  1.06it/s]\u001b[A\u001b[A"
     ]
    },
    {
     "name": "stdout",
     "output_type": "stream",
     "text": [
      "11660869\n"
     ]
    },
    {
     "name": "stderr",
     "output_type": "stream",
     "text": [
      "\n",
      "\n",
      "  2%|▏         | 807/38976 [06:52<10:03:29,  1.05it/s]\u001b[A\u001b[A"
     ]
    },
    {
     "name": "stdout",
     "output_type": "stream",
     "text": [
      "11675269\n"
     ]
    },
    {
     "name": "stderr",
     "output_type": "stream",
     "text": [
      "\n",
      "\n",
      "  2%|▏         | 808/38976 [06:53<10:06:47,  1.05it/s]\u001b[A\u001b[A"
     ]
    },
    {
     "name": "stdout",
     "output_type": "stream",
     "text": [
      "11689669\n"
     ]
    },
    {
     "name": "stderr",
     "output_type": "stream",
     "text": [
      "\n",
      "\n",
      "  2%|▏         | 809/38976 [06:54<10:07:50,  1.05it/s]\u001b[A\u001b[A"
     ]
    },
    {
     "name": "stdout",
     "output_type": "stream",
     "text": [
      "11704069\n"
     ]
    },
    {
     "name": "stderr",
     "output_type": "stream",
     "text": [
      "\n",
      "\n",
      "  2%|▏         | 810/38976 [06:55<10:08:27,  1.05it/s]\u001b[A\u001b[A"
     ]
    },
    {
     "name": "stdout",
     "output_type": "stream",
     "text": [
      "11718469\n"
     ]
    },
    {
     "name": "stderr",
     "output_type": "stream",
     "text": [
      "\n",
      "\n",
      "  2%|▏         | 811/38976 [06:56<10:05:13,  1.05it/s]\u001b[A\u001b[A"
     ]
    },
    {
     "name": "stdout",
     "output_type": "stream",
     "text": [
      "11732869\n"
     ]
    },
    {
     "name": "stderr",
     "output_type": "stream",
     "text": [
      "\n",
      "\n",
      "  2%|▏         | 812/38976 [06:57<10:09:46,  1.04it/s]\u001b[A\u001b[A"
     ]
    },
    {
     "name": "stdout",
     "output_type": "stream",
     "text": [
      "11747269\n"
     ]
    },
    {
     "name": "stderr",
     "output_type": "stream",
     "text": [
      "\n",
      "\n",
      "  2%|▏         | 813/38976 [06:58<10:12:45,  1.04it/s]\u001b[A\u001b[A"
     ]
    },
    {
     "name": "stdout",
     "output_type": "stream",
     "text": [
      "11761669\n"
     ]
    },
    {
     "name": "stderr",
     "output_type": "stream",
     "text": [
      "\n",
      "\n",
      "  2%|▏         | 814/38976 [06:59<10:10:45,  1.04it/s]\u001b[A\u001b[A"
     ]
    },
    {
     "name": "stdout",
     "output_type": "stream",
     "text": [
      "11776069\n"
     ]
    },
    {
     "name": "stderr",
     "output_type": "stream",
     "text": [
      "\n",
      "\n",
      "  2%|▏         | 815/38976 [07:00<10:08:27,  1.05it/s]\u001b[A\u001b[A"
     ]
    },
    {
     "name": "stdout",
     "output_type": "stream",
     "text": [
      "11790469\n"
     ]
    },
    {
     "name": "stderr",
     "output_type": "stream",
     "text": [
      "\n",
      "\n",
      "  2%|▏         | 816/38976 [07:01<10:16:27,  1.03it/s]\u001b[A\u001b[A"
     ]
    },
    {
     "name": "stdout",
     "output_type": "stream",
     "text": [
      "11804869\n"
     ]
    },
    {
     "name": "stderr",
     "output_type": "stream",
     "text": [
      "\n",
      "\n",
      "  2%|▏         | 817/38976 [07:02<10:23:37,  1.02it/s]\u001b[A\u001b[A"
     ]
    },
    {
     "name": "stdout",
     "output_type": "stream",
     "text": [
      "11819269\n"
     ]
    },
    {
     "name": "stderr",
     "output_type": "stream",
     "text": [
      "\n",
      "\n",
      "  2%|▏         | 818/38976 [07:03<10:22:04,  1.02it/s]\u001b[A\u001b[A"
     ]
    },
    {
     "name": "stdout",
     "output_type": "stream",
     "text": [
      "11832589\n"
     ]
    },
    {
     "name": "stderr",
     "output_type": "stream",
     "text": [
      "\n",
      "\n",
      "  2%|▏         | 819/38976 [07:04<10:21:04,  1.02it/s]\u001b[A\u001b[A"
     ]
    },
    {
     "name": "stdout",
     "output_type": "stream",
     "text": [
      "11844109\n"
     ]
    },
    {
     "name": "stderr",
     "output_type": "stream",
     "text": [
      "\n",
      "\n",
      "  2%|▏         | 820/38976 [07:05<10:25:27,  1.02it/s]\u001b[A\u001b[A"
     ]
    },
    {
     "name": "stdout",
     "output_type": "stream",
     "text": [
      "11853289\n"
     ]
    },
    {
     "name": "stderr",
     "output_type": "stream",
     "text": [
      "\n",
      "\n",
      "  2%|▏         | 821/38976 [07:06<10:28:47,  1.01it/s]\u001b[A\u001b[A"
     ]
    },
    {
     "name": "stdout",
     "output_type": "stream",
     "text": [
      "11867689\n"
     ]
    },
    {
     "name": "stderr",
     "output_type": "stream",
     "text": [
      "\n",
      "\n",
      "  2%|▏         | 822/38976 [07:07<10:27:17,  1.01it/s]\u001b[A\u001b[A"
     ]
    },
    {
     "name": "stdout",
     "output_type": "stream",
     "text": [
      "11882089\n"
     ]
    },
    {
     "name": "stderr",
     "output_type": "stream",
     "text": [
      "\n",
      "\n",
      "  2%|▏         | 823/38976 [07:08<10:25:54,  1.02it/s]\u001b[A\u001b[A"
     ]
    },
    {
     "name": "stdout",
     "output_type": "stream",
     "text": [
      "11895409\n"
     ]
    },
    {
     "name": "stderr",
     "output_type": "stream",
     "text": [
      "\n",
      "\n",
      "  2%|▏         | 824/38976 [07:09<10:26:54,  1.01it/s]\u001b[A\u001b[A"
     ]
    },
    {
     "name": "stdout",
     "output_type": "stream",
     "text": [
      "11909809\n"
     ]
    },
    {
     "name": "stderr",
     "output_type": "stream",
     "text": [
      "\n",
      "\n",
      "  2%|▏         | 825/38976 [07:10<10:30:43,  1.01it/s]\u001b[A\u001b[A"
     ]
    },
    {
     "name": "stdout",
     "output_type": "stream",
     "text": [
      "11924209\n"
     ]
    },
    {
     "name": "stderr",
     "output_type": "stream",
     "text": [
      "\n",
      "\n",
      "  2%|▏         | 826/38976 [07:11<10:30:52,  1.01it/s]\u001b[A\u001b[A"
     ]
    },
    {
     "name": "stdout",
     "output_type": "stream",
     "text": [
      "11938609\n"
     ]
    },
    {
     "name": "stderr",
     "output_type": "stream",
     "text": [
      "\n",
      "\n",
      "  2%|▏         | 827/38976 [07:12<10:26:16,  1.02it/s]\u001b[A\u001b[A"
     ]
    },
    {
     "name": "stdout",
     "output_type": "stream",
     "text": [
      "11953009\n"
     ]
    },
    {
     "name": "stderr",
     "output_type": "stream",
     "text": [
      "\n",
      "\n",
      "  2%|▏         | 828/38976 [07:13<10:26:28,  1.01it/s]\u001b[A\u001b[A"
     ]
    },
    {
     "name": "stdout",
     "output_type": "stream",
     "text": [
      "11967409\n"
     ]
    },
    {
     "name": "stderr",
     "output_type": "stream",
     "text": [
      "\n",
      "\n",
      "  2%|▏         | 829/38976 [07:14<10:27:37,  1.01it/s]\u001b[A\u001b[A"
     ]
    },
    {
     "name": "stdout",
     "output_type": "stream",
     "text": [
      "11981809\n"
     ]
    },
    {
     "name": "stderr",
     "output_type": "stream",
     "text": [
      "\n",
      "\n",
      "  2%|▏         | 830/38976 [07:15<10:25:45,  1.02it/s]\u001b[A\u001b[A"
     ]
    },
    {
     "name": "stdout",
     "output_type": "stream",
     "text": [
      "11996209\n"
     ]
    },
    {
     "name": "stderr",
     "output_type": "stream",
     "text": [
      "\n",
      "\n",
      "  2%|▏         | 831/38976 [07:16<10:24:21,  1.02it/s]\u001b[A\u001b[A"
     ]
    },
    {
     "name": "stdout",
     "output_type": "stream",
     "text": [
      "12010609\n"
     ]
    },
    {
     "name": "stderr",
     "output_type": "stream",
     "text": [
      "\n",
      "\n",
      "  2%|▏         | 832/38976 [07:17<10:24:28,  1.02it/s]\u001b[A\u001b[A"
     ]
    },
    {
     "name": "stdout",
     "output_type": "stream",
     "text": [
      "12025009\n"
     ]
    },
    {
     "name": "stderr",
     "output_type": "stream",
     "text": [
      "\n",
      "\n",
      "  2%|▏         | 833/38976 [07:18<10:25:38,  1.02it/s]\u001b[A\u001b[A"
     ]
    },
    {
     "name": "stdout",
     "output_type": "stream",
     "text": [
      "12039409\n"
     ]
    },
    {
     "name": "stderr",
     "output_type": "stream",
     "text": [
      "\n",
      "\n",
      "  2%|▏         | 834/38976 [07:19<10:23:36,  1.02it/s]\u001b[A\u001b[A"
     ]
    },
    {
     "name": "stdout",
     "output_type": "stream",
     "text": [
      "12053809\n"
     ]
    },
    {
     "name": "stderr",
     "output_type": "stream",
     "text": [
      "\n",
      "\n",
      "  2%|▏         | 835/38976 [07:20<10:20:33,  1.02it/s]\u001b[A\u001b[A"
     ]
    },
    {
     "name": "stdout",
     "output_type": "stream",
     "text": [
      "12068209\n"
     ]
    },
    {
     "name": "stderr",
     "output_type": "stream",
     "text": [
      "\n",
      "\n",
      "  2%|▏         | 836/38976 [07:21<10:23:11,  1.02it/s]\u001b[A\u001b[A"
     ]
    },
    {
     "name": "stdout",
     "output_type": "stream",
     "text": [
      "12082609\n"
     ]
    },
    {
     "name": "stderr",
     "output_type": "stream",
     "text": [
      "\n",
      "\n",
      "  2%|▏         | 837/38976 [07:22<10:27:30,  1.01it/s]\u001b[A\u001b[A"
     ]
    },
    {
     "name": "stdout",
     "output_type": "stream",
     "text": [
      "12097009\n"
     ]
    },
    {
     "name": "stderr",
     "output_type": "stream",
     "text": [
      "\n",
      "\n",
      "  2%|▏         | 838/38976 [07:23<10:27:10,  1.01it/s]\u001b[A\u001b[A"
     ]
    },
    {
     "name": "stdout",
     "output_type": "stream",
     "text": [
      "12111409\n"
     ]
    },
    {
     "name": "stderr",
     "output_type": "stream",
     "text": [
      "\n",
      "\n",
      "  2%|▏         | 839/38976 [07:24<10:24:24,  1.02it/s]\u001b[A\u001b[A"
     ]
    },
    {
     "name": "stdout",
     "output_type": "stream",
     "text": [
      "12125809\n"
     ]
    },
    {
     "name": "stderr",
     "output_type": "stream",
     "text": [
      "\n",
      "\n",
      "  2%|▏         | 840/38976 [07:25<10:24:48,  1.02it/s]\u001b[A\u001b[A"
     ]
    },
    {
     "name": "stdout",
     "output_type": "stream",
     "text": [
      "12140209\n"
     ]
    },
    {
     "name": "stderr",
     "output_type": "stream",
     "text": [
      "\n",
      "\n",
      "  2%|▏         | 841/38976 [07:26<10:28:08,  1.01it/s]\u001b[A\u001b[A"
     ]
    },
    {
     "name": "stdout",
     "output_type": "stream",
     "text": [
      "12150289\n"
     ]
    },
    {
     "name": "stderr",
     "output_type": "stream",
     "text": [
      "\n",
      "\n",
      "  2%|▏         | 842/38976 [07:27<10:27:29,  1.01it/s]\u001b[A\u001b[A"
     ]
    },
    {
     "name": "stdout",
     "output_type": "stream",
     "text": [
      "12164689\n"
     ]
    },
    {
     "name": "stderr",
     "output_type": "stream",
     "text": [
      "\n",
      "\n",
      "  2%|▏         | 843/38976 [07:28<10:25:10,  1.02it/s]\u001b[A\u001b[A"
     ]
    },
    {
     "name": "stdout",
     "output_type": "stream",
     "text": [
      "12179089\n"
     ]
    },
    {
     "name": "stderr",
     "output_type": "stream",
     "text": [
      "\n",
      "\n",
      "  2%|▏         | 844/38976 [07:29<10:25:30,  1.02it/s]\u001b[A\u001b[A"
     ]
    },
    {
     "name": "stdout",
     "output_type": "stream",
     "text": [
      "12193489\n"
     ]
    },
    {
     "name": "stderr",
     "output_type": "stream",
     "text": [
      "\n",
      "\n",
      "  2%|▏         | 845/38976 [07:30<10:29:32,  1.01it/s]\u001b[A\u001b[A"
     ]
    },
    {
     "name": "stdout",
     "output_type": "stream",
     "text": [
      "12207889\n"
     ]
    },
    {
     "name": "stderr",
     "output_type": "stream",
     "text": [
      "\n",
      "\n",
      "  2%|▏         | 846/38976 [07:31<10:30:24,  1.01it/s]\u001b[A\u001b[A"
     ]
    },
    {
     "name": "stdout",
     "output_type": "stream",
     "text": [
      "12222289\n"
     ]
    },
    {
     "name": "stderr",
     "output_type": "stream",
     "text": [
      "\n",
      "\n",
      "  2%|▏         | 847/38976 [07:32<10:27:37,  1.01it/s]\u001b[A\u001b[A"
     ]
    },
    {
     "name": "stdout",
     "output_type": "stream",
     "text": [
      "12236689\n"
     ]
    },
    {
     "name": "stderr",
     "output_type": "stream",
     "text": [
      "\n",
      "\n",
      "  2%|▏         | 848/38976 [07:33<10:29:53,  1.01it/s]\u001b[A\u001b[A"
     ]
    },
    {
     "name": "stdout",
     "output_type": "stream",
     "text": [
      "12251089\n"
     ]
    },
    {
     "name": "stderr",
     "output_type": "stream",
     "text": [
      "\n",
      "\n",
      "  2%|▏         | 849/38976 [07:34<10:35:10,  1.00it/s]\u001b[A\u001b[A"
     ]
    },
    {
     "name": "stdout",
     "output_type": "stream",
     "text": [
      "12265489\n"
     ]
    },
    {
     "name": "stderr",
     "output_type": "stream",
     "text": [
      "\n",
      "\n",
      "  2%|▏         | 850/38976 [07:35<10:31:44,  1.01it/s]\u001b[A\u001b[A"
     ]
    },
    {
     "name": "stdout",
     "output_type": "stream",
     "text": [
      "12279889\n"
     ]
    },
    {
     "name": "stderr",
     "output_type": "stream",
     "text": [
      "\n",
      "\n",
      "  2%|▏         | 851/38976 [07:35<10:28:08,  1.01it/s]\u001b[A\u001b[A"
     ]
    },
    {
     "name": "stdout",
     "output_type": "stream",
     "text": [
      "12294289\n"
     ]
    },
    {
     "name": "stderr",
     "output_type": "stream",
     "text": [
      "\n",
      "\n",
      "  2%|▏         | 852/38976 [07:36<10:29:47,  1.01it/s]\u001b[A\u001b[A"
     ]
    },
    {
     "name": "stdout",
     "output_type": "stream",
     "text": [
      "12308689\n"
     ]
    },
    {
     "name": "stderr",
     "output_type": "stream",
     "text": [
      "\n",
      "\n",
      "  2%|▏         | 853/38976 [07:38<10:34:25,  1.00it/s]\u001b[A\u001b[A"
     ]
    },
    {
     "name": "stdout",
     "output_type": "stream",
     "text": [
      "12323089\n"
     ]
    },
    {
     "name": "stderr",
     "output_type": "stream",
     "text": [
      "\n",
      "\n",
      "  2%|▏         | 854/38976 [07:38<10:33:30,  1.00it/s]\u001b[A\u001b[A"
     ]
    },
    {
     "name": "stdout",
     "output_type": "stream",
     "text": [
      "12337489\n"
     ]
    },
    {
     "name": "stderr",
     "output_type": "stream",
     "text": [
      "\n",
      "\n",
      "  2%|▏         | 855/38976 [07:39<10:31:16,  1.01it/s]\u001b[A\u001b[A"
     ]
    },
    {
     "name": "stdout",
     "output_type": "stream",
     "text": [
      "12351889\n"
     ]
    },
    {
     "name": "stderr",
     "output_type": "stream",
     "text": [
      "\n",
      "\n",
      "  2%|▏         | 856/38976 [07:40<10:33:53,  1.00it/s]\u001b[A\u001b[A"
     ]
    },
    {
     "name": "stdout",
     "output_type": "stream",
     "text": [
      "12366289\n"
     ]
    },
    {
     "name": "stderr",
     "output_type": "stream",
     "text": [
      "\n",
      "\n",
      "  2%|▏         | 857/38976 [07:42<10:36:44,  1.00s/it]\u001b[A\u001b[A"
     ]
    },
    {
     "name": "stdout",
     "output_type": "stream",
     "text": [
      "12380689\n"
     ]
    },
    {
     "name": "stderr",
     "output_type": "stream",
     "text": [
      "\n",
      "\n",
      "  2%|▏         | 858/38976 [07:43<10:38:30,  1.01s/it]\u001b[A\u001b[A"
     ]
    },
    {
     "name": "stdout",
     "output_type": "stream",
     "text": [
      "12395089\n"
     ]
    },
    {
     "name": "stderr",
     "output_type": "stream",
     "text": [
      "\n",
      "\n",
      "  2%|▏         | 859/38976 [07:44<10:36:27,  1.00s/it]\u001b[A\u001b[A"
     ]
    },
    {
     "name": "stdout",
     "output_type": "stream",
     "text": [
      "12409489\n"
     ]
    },
    {
     "name": "stderr",
     "output_type": "stream",
     "text": [
      "\n",
      "\n",
      "  2%|▏         | 860/38976 [07:45<10:36:18,  1.00s/it]\u001b[A\u001b[A"
     ]
    },
    {
     "name": "stdout",
     "output_type": "stream",
     "text": [
      "12423889\n"
     ]
    },
    {
     "name": "stderr",
     "output_type": "stream",
     "text": [
      "\n",
      "\n",
      "  2%|▏         | 861/38976 [07:46<10:41:01,  1.01s/it]\u001b[A\u001b[A"
     ]
    },
    {
     "name": "stdout",
     "output_type": "stream",
     "text": [
      "12438289\n"
     ]
    },
    {
     "name": "stderr",
     "output_type": "stream",
     "text": [
      "\n",
      "\n",
      "  2%|▏         | 862/38976 [07:47<10:39:39,  1.01s/it]\u001b[A\u001b[A"
     ]
    },
    {
     "name": "stdout",
     "output_type": "stream",
     "text": [
      "12452689\n"
     ]
    },
    {
     "name": "stderr",
     "output_type": "stream",
     "text": [
      "\n",
      "\n",
      "  2%|▏         | 863/38976 [07:48<10:36:13,  1.00s/it]\u001b[A\u001b[A"
     ]
    },
    {
     "name": "stdout",
     "output_type": "stream",
     "text": [
      "12467089\n"
     ]
    },
    {
     "name": "stderr",
     "output_type": "stream",
     "text": [
      "\n",
      "\n",
      "  2%|▏         | 864/38976 [07:49<10:37:55,  1.00s/it]\u001b[A\u001b[A"
     ]
    },
    {
     "name": "stdout",
     "output_type": "stream",
     "text": [
      "12481489\n"
     ]
    },
    {
     "name": "stderr",
     "output_type": "stream",
     "text": [
      "\n",
      "\n",
      "  2%|▏         | 865/38976 [07:50<10:43:29,  1.01s/it]\u001b[A\u001b[A"
     ]
    },
    {
     "name": "stdout",
     "output_type": "stream",
     "text": [
      "12495889\n"
     ]
    },
    {
     "name": "stderr",
     "output_type": "stream",
     "text": [
      "\n",
      "\n",
      "  2%|▏         | 866/38976 [07:51<10:43:39,  1.01s/it]\u001b[A\u001b[A"
     ]
    },
    {
     "name": "stdout",
     "output_type": "stream",
     "text": [
      "12510289\n"
     ]
    },
    {
     "name": "stderr",
     "output_type": "stream",
     "text": [
      "\n",
      "\n",
      "  2%|▏         | 867/38976 [07:52<10:40:39,  1.01s/it]\u001b[A\u001b[A"
     ]
    },
    {
     "name": "stdout",
     "output_type": "stream",
     "text": [
      "12524689\n"
     ]
    },
    {
     "name": "stderr",
     "output_type": "stream",
     "text": [
      "\n",
      "\n",
      "  2%|▏         | 868/38976 [07:53<10:40:33,  1.01s/it]\u001b[A\u001b[A"
     ]
    },
    {
     "name": "stdout",
     "output_type": "stream",
     "text": [
      "12539089\n"
     ]
    },
    {
     "name": "stderr",
     "output_type": "stream",
     "text": [
      "\n",
      "\n",
      "  2%|▏         | 869/38976 [07:54<10:43:59,  1.01s/it]\u001b[A\u001b[A"
     ]
    },
    {
     "name": "stdout",
     "output_type": "stream",
     "text": [
      "12553489\n"
     ]
    },
    {
     "name": "stderr",
     "output_type": "stream",
     "text": [
      "\n",
      "\n",
      "  2%|▏         | 870/38976 [07:55<10:42:31,  1.01s/it]\u001b[A\u001b[A"
     ]
    },
    {
     "name": "stdout",
     "output_type": "stream",
     "text": [
      "12567889\n"
     ]
    },
    {
     "name": "stderr",
     "output_type": "stream",
     "text": [
      "\n",
      "\n",
      "  2%|▏         | 871/38976 [07:56<10:42:52,  1.01s/it]\u001b[A\u001b[A"
     ]
    },
    {
     "name": "stdout",
     "output_type": "stream",
     "text": [
      "12582289\n"
     ]
    },
    {
     "name": "stderr",
     "output_type": "stream",
     "text": [
      "\n",
      "\n",
      "  2%|▏         | 872/38976 [07:57<10:45:16,  1.02s/it]\u001b[A\u001b[A"
     ]
    },
    {
     "name": "stdout",
     "output_type": "stream",
     "text": [
      "12596689\n"
     ]
    },
    {
     "name": "stderr",
     "output_type": "stream",
     "text": [
      "\n",
      "\n",
      "  2%|▏         | 873/38976 [07:58<10:49:09,  1.02s/it]\u001b[A\u001b[A"
     ]
    },
    {
     "name": "stdout",
     "output_type": "stream",
     "text": [
      "12611089\n"
     ]
    },
    {
     "name": "stderr",
     "output_type": "stream",
     "text": [
      "\n",
      "\n",
      "  2%|▏         | 874/38976 [07:59<10:47:23,  1.02s/it]\u001b[A\u001b[A"
     ]
    },
    {
     "name": "stdout",
     "output_type": "stream",
     "text": [
      "12625489\n"
     ]
    },
    {
     "name": "stderr",
     "output_type": "stream",
     "text": [
      "\n",
      "\n",
      "  2%|▏         | 875/38976 [08:00<10:44:49,  1.02s/it]\u001b[A\u001b[A"
     ]
    },
    {
     "name": "stdout",
     "output_type": "stream",
     "text": [
      "12639889\n"
     ]
    },
    {
     "name": "stderr",
     "output_type": "stream",
     "text": [
      "\n",
      "\n",
      "  2%|▏         | 876/38976 [08:01<10:47:06,  1.02s/it]\u001b[A\u001b[A"
     ]
    },
    {
     "name": "stdout",
     "output_type": "stream",
     "text": [
      "12654289\n"
     ]
    },
    {
     "name": "stderr",
     "output_type": "stream",
     "text": [
      "\n",
      "\n",
      "  2%|▏         | 877/38976 [08:02<10:51:32,  1.03s/it]\u001b[A\u001b[A"
     ]
    },
    {
     "name": "stdout",
     "output_type": "stream",
     "text": [
      "12668689\n"
     ]
    },
    {
     "name": "stderr",
     "output_type": "stream",
     "text": [
      "\n",
      "\n",
      "  2%|▏         | 878/38976 [08:03<10:48:47,  1.02s/it]\u001b[A\u001b[A"
     ]
    },
    {
     "name": "stdout",
     "output_type": "stream",
     "text": [
      "12683089\n"
     ]
    },
    {
     "name": "stderr",
     "output_type": "stream",
     "text": [
      "\n",
      "\n",
      "  2%|▏         | 879/38976 [08:04<10:45:45,  1.02s/it]\u001b[A\u001b[A"
     ]
    },
    {
     "name": "stdout",
     "output_type": "stream",
     "text": [
      "12697489\n"
     ]
    },
    {
     "name": "stderr",
     "output_type": "stream",
     "text": [
      "\n",
      "\n",
      "  2%|▏         | 880/38976 [08:05<10:48:22,  1.02s/it]\u001b[A\u001b[A"
     ]
    },
    {
     "name": "stdout",
     "output_type": "stream",
     "text": [
      "12711889\n"
     ]
    },
    {
     "name": "stderr",
     "output_type": "stream",
     "text": [
      "\n",
      "\n",
      "  2%|▏         | 881/38976 [08:06<10:50:37,  1.02s/it]\u001b[A\u001b[A"
     ]
    },
    {
     "name": "stdout",
     "output_type": "stream",
     "text": [
      "12725209\n"
     ]
    },
    {
     "name": "stderr",
     "output_type": "stream",
     "text": [
      "\n",
      "\n",
      "  2%|▏         | 882/38976 [08:07<10:46:58,  1.02s/it]\u001b[A\u001b[A"
     ]
    },
    {
     "name": "stdout",
     "output_type": "stream",
     "text": [
      "12739609\n"
     ]
    },
    {
     "name": "stderr",
     "output_type": "stream",
     "text": [
      "\n",
      "\n",
      "  2%|▏         | 883/38976 [08:08<10:43:39,  1.01s/it]\u001b[A\u001b[A"
     ]
    },
    {
     "name": "stdout",
     "output_type": "stream",
     "text": [
      "12754009\n"
     ]
    },
    {
     "name": "stderr",
     "output_type": "stream",
     "text": [
      "\n",
      "\n",
      "  2%|▏         | 884/38976 [08:09<10:45:37,  1.02s/it]\u001b[A\u001b[A"
     ]
    },
    {
     "name": "stdout",
     "output_type": "stream",
     "text": [
      "12768409\n"
     ]
    },
    {
     "name": "stderr",
     "output_type": "stream",
     "text": [
      "\n",
      "\n",
      "  2%|▏         | 885/38976 [08:10<10:48:08,  1.02s/it]\u001b[A\u001b[A"
     ]
    },
    {
     "name": "stdout",
     "output_type": "stream",
     "text": [
      "12782809\n"
     ]
    },
    {
     "name": "stderr",
     "output_type": "stream",
     "text": [
      "\n",
      "\n",
      "  2%|▏         | 886/38976 [08:11<10:47:32,  1.02s/it]\u001b[A\u001b[A"
     ]
    },
    {
     "name": "stdout",
     "output_type": "stream",
     "text": [
      "12797209\n"
     ]
    },
    {
     "name": "stderr",
     "output_type": "stream",
     "text": [
      "\n",
      "\n",
      "  2%|▏         | 887/38976 [08:12<10:44:54,  1.02s/it]\u001b[A\u001b[A"
     ]
    },
    {
     "name": "stdout",
     "output_type": "stream",
     "text": [
      "12811609\n"
     ]
    },
    {
     "name": "stderr",
     "output_type": "stream",
     "text": [
      "\n",
      "\n",
      "  2%|▏         | 888/38976 [08:13<10:47:57,  1.02s/it]\u001b[A\u001b[A"
     ]
    },
    {
     "name": "stdout",
     "output_type": "stream",
     "text": [
      "12826009\n"
     ]
    },
    {
     "name": "stderr",
     "output_type": "stream",
     "text": [
      "\n",
      "\n",
      "  2%|▏         | 889/38976 [08:14<10:51:12,  1.03s/it]\u001b[A\u001b[A"
     ]
    },
    {
     "name": "stdout",
     "output_type": "stream",
     "text": [
      "12840409\n"
     ]
    },
    {
     "name": "stderr",
     "output_type": "stream",
     "text": [
      "\n",
      "\n",
      "  2%|▏         | 890/38976 [08:15<10:49:14,  1.02s/it]\u001b[A\u001b[A"
     ]
    },
    {
     "name": "stdout",
     "output_type": "stream",
     "text": [
      "12854809\n"
     ]
    },
    {
     "name": "stderr",
     "output_type": "stream",
     "text": [
      "\n",
      "\n",
      "  2%|▏         | 891/38976 [08:16<10:47:20,  1.02s/it]\u001b[A\u001b[A"
     ]
    },
    {
     "name": "stdout",
     "output_type": "stream",
     "text": [
      "12869209\n"
     ]
    },
    {
     "name": "stderr",
     "output_type": "stream",
     "text": [
      "\n",
      "\n",
      "  2%|▏         | 892/38976 [08:17<10:52:25,  1.03s/it]\u001b[A\u001b[A"
     ]
    },
    {
     "name": "stdout",
     "output_type": "stream",
     "text": [
      "12883609\n"
     ]
    },
    {
     "name": "stderr",
     "output_type": "stream",
     "text": [
      "\n",
      "\n",
      "  2%|▏         | 893/38976 [08:18<10:52:24,  1.03s/it]\u001b[A\u001b[A"
     ]
    },
    {
     "name": "stdout",
     "output_type": "stream",
     "text": [
      "12898009\n"
     ]
    },
    {
     "name": "stderr",
     "output_type": "stream",
     "text": [
      "\n",
      "\n",
      "  2%|▏         | 894/38976 [08:19<10:51:14,  1.03s/it]\u001b[A\u001b[A"
     ]
    },
    {
     "name": "stdout",
     "output_type": "stream",
     "text": [
      "12912409\n"
     ]
    },
    {
     "name": "stderr",
     "output_type": "stream",
     "text": [
      "\n",
      "\n",
      "  2%|▏         | 895/38976 [08:20<10:48:39,  1.02s/it]\u001b[A\u001b[A"
     ]
    },
    {
     "name": "stdout",
     "output_type": "stream",
     "text": [
      "12926809\n"
     ]
    },
    {
     "name": "stderr",
     "output_type": "stream",
     "text": [
      "\n",
      "\n",
      "  2%|▏         | 896/38976 [08:21<10:52:47,  1.03s/it]\u001b[A\u001b[A"
     ]
    },
    {
     "name": "stdout",
     "output_type": "stream",
     "text": [
      "12941209\n"
     ]
    },
    {
     "name": "stderr",
     "output_type": "stream",
     "text": [
      "\n",
      "\n",
      "  2%|▏         | 897/38976 [08:22<10:53:40,  1.03s/it]\u001b[A\u001b[A"
     ]
    },
    {
     "name": "stdout",
     "output_type": "stream",
     "text": [
      "12955609\n"
     ]
    },
    {
     "name": "stderr",
     "output_type": "stream",
     "text": [
      "\n",
      "\n",
      "  2%|▏         | 898/38976 [08:23<10:51:16,  1.03s/it]\u001b[A\u001b[A"
     ]
    },
    {
     "name": "stdout",
     "output_type": "stream",
     "text": [
      "12970009\n"
     ]
    },
    {
     "name": "stderr",
     "output_type": "stream",
     "text": [
      "\n",
      "\n",
      "  2%|▏         | 899/38976 [08:24<10:51:45,  1.03s/it]\u001b[A\u001b[A"
     ]
    },
    {
     "name": "stdout",
     "output_type": "stream",
     "text": [
      "12984409\n"
     ]
    },
    {
     "name": "stderr",
     "output_type": "stream",
     "text": [
      "\n",
      "\n",
      "  2%|▏         | 900/38976 [08:25<10:55:38,  1.03s/it]\u001b[A\u001b[A"
     ]
    },
    {
     "name": "stdout",
     "output_type": "stream",
     "text": [
      "12998809\n"
     ]
    },
    {
     "name": "stderr",
     "output_type": "stream",
     "text": [
      "\n",
      "\n",
      "  2%|▏         | 901/38976 [08:26<10:55:51,  1.03s/it]\u001b[A\u001b[A"
     ]
    },
    {
     "name": "stdout",
     "output_type": "stream",
     "text": [
      "13013209\n"
     ]
    },
    {
     "name": "stderr",
     "output_type": "stream",
     "text": [
      "\n",
      "\n",
      "  2%|▏         | 902/38976 [08:27<10:53:43,  1.03s/it]\u001b[A\u001b[A"
     ]
    },
    {
     "name": "stdout",
     "output_type": "stream",
     "text": [
      "13027609\n"
     ]
    },
    {
     "name": "stderr",
     "output_type": "stream",
     "text": [
      "\n",
      "\n",
      "  2%|▏         | 903/38976 [08:28<10:55:03,  1.03s/it]\u001b[A\u001b[A"
     ]
    },
    {
     "name": "stdout",
     "output_type": "stream",
     "text": [
      "13042009\n"
     ]
    },
    {
     "name": "stderr",
     "output_type": "stream",
     "text": [
      "\n",
      "\n",
      "  2%|▏         | 904/38976 [08:29<11:01:29,  1.04s/it]\u001b[A\u001b[A"
     ]
    },
    {
     "name": "stdout",
     "output_type": "stream",
     "text": [
      "13056409\n"
     ]
    },
    {
     "name": "stderr",
     "output_type": "stream",
     "text": [
      "\n",
      "\n",
      "  2%|▏         | 905/38976 [08:31<11:01:36,  1.04s/it]\u001b[A\u001b[A"
     ]
    },
    {
     "name": "stdout",
     "output_type": "stream",
     "text": [
      "13070809\n"
     ]
    },
    {
     "name": "stderr",
     "output_type": "stream",
     "text": [
      "\n",
      "\n",
      "  2%|▏         | 906/38976 [08:32<10:58:53,  1.04s/it]\u001b[A\u001b[A"
     ]
    },
    {
     "name": "stdout",
     "output_type": "stream",
     "text": [
      "13085209\n"
     ]
    },
    {
     "name": "stderr",
     "output_type": "stream",
     "text": [
      "\n",
      "\n",
      "  2%|▏         | 907/38976 [08:33<11:02:08,  1.04s/it]\u001b[A\u001b[A"
     ]
    },
    {
     "name": "stdout",
     "output_type": "stream",
     "text": [
      "13099609\n"
     ]
    },
    {
     "name": "stderr",
     "output_type": "stream",
     "text": [
      "\n",
      "\n",
      "  2%|▏         | 908/38976 [08:34<11:04:49,  1.05s/it]\u001b[A\u001b[A"
     ]
    },
    {
     "name": "stdout",
     "output_type": "stream",
     "text": [
      "13114009\n"
     ]
    },
    {
     "name": "stderr",
     "output_type": "stream",
     "text": [
      "\n",
      "\n",
      "  2%|▏         | 909/38976 [08:35<11:06:22,  1.05s/it]\u001b[A\u001b[A"
     ]
    },
    {
     "name": "stdout",
     "output_type": "stream",
     "text": [
      "13128409\n"
     ]
    },
    {
     "name": "stderr",
     "output_type": "stream",
     "text": [
      "\n",
      "\n",
      "  2%|▏         | 910/38976 [08:36<11:03:31,  1.05s/it]\u001b[A\u001b[A"
     ]
    },
    {
     "name": "stdout",
     "output_type": "stream",
     "text": [
      "13142809\n"
     ]
    },
    {
     "name": "stderr",
     "output_type": "stream",
     "text": [
      "\n",
      "\n",
      "  2%|▏         | 911/38976 [08:37<11:05:48,  1.05s/it]\u001b[A\u001b[A"
     ]
    },
    {
     "name": "stdout",
     "output_type": "stream",
     "text": [
      "13157209\n"
     ]
    },
    {
     "name": "stderr",
     "output_type": "stream",
     "text": [
      "\n",
      "\n",
      "  2%|▏         | 912/38976 [08:38<11:07:30,  1.05s/it]\u001b[A\u001b[A"
     ]
    },
    {
     "name": "stdout",
     "output_type": "stream",
     "text": [
      "13171609\n"
     ]
    },
    {
     "name": "stderr",
     "output_type": "stream",
     "text": [
      "\n",
      "\n",
      "  2%|▏         | 913/38976 [08:39<11:05:33,  1.05s/it]\u001b[A\u001b[A"
     ]
    },
    {
     "name": "stdout",
     "output_type": "stream",
     "text": [
      "13184929\n"
     ]
    },
    {
     "name": "stderr",
     "output_type": "stream",
     "text": [
      "\n",
      "\n",
      "  2%|▏         | 914/38976 [08:40<11:03:18,  1.05s/it]\u001b[A\u001b[A"
     ]
    },
    {
     "name": "stdout",
     "output_type": "stream",
     "text": [
      "13199329\n"
     ]
    },
    {
     "name": "stderr",
     "output_type": "stream",
     "text": [
      "\n",
      "\n",
      "  2%|▏         | 915/38976 [08:41<11:06:32,  1.05s/it]\u001b[A\u001b[A"
     ]
    },
    {
     "name": "stdout",
     "output_type": "stream",
     "text": [
      "13213729\n"
     ]
    },
    {
     "name": "stderr",
     "output_type": "stream",
     "text": [
      "\n",
      "\n",
      "  2%|▏         | 916/38976 [08:42<11:08:15,  1.05s/it]\u001b[A\u001b[A"
     ]
    },
    {
     "name": "stdout",
     "output_type": "stream",
     "text": [
      "13225249\n"
     ]
    },
    {
     "name": "stderr",
     "output_type": "stream",
     "text": [
      "\n",
      "\n",
      "  2%|▏         | 917/38976 [08:43<11:06:40,  1.05s/it]\u001b[A\u001b[A"
     ]
    },
    {
     "name": "stdout",
     "output_type": "stream",
     "text": [
      "13239649\n"
     ]
    },
    {
     "name": "stderr",
     "output_type": "stream",
     "text": [
      "\n",
      "\n",
      "  2%|▏         | 918/38976 [08:44<11:04:13,  1.05s/it]\u001b[A\u001b[A"
     ]
    },
    {
     "name": "stdout",
     "output_type": "stream",
     "text": [
      "13254049\n"
     ]
    },
    {
     "name": "stderr",
     "output_type": "stream",
     "text": [
      "\n",
      "\n",
      "  2%|▏         | 919/38976 [08:45<11:11:57,  1.06s/it]\u001b[A\u001b[A"
     ]
    },
    {
     "name": "stdout",
     "output_type": "stream",
     "text": [
      "13268449\n"
     ]
    },
    {
     "name": "stderr",
     "output_type": "stream",
     "text": [
      "\n",
      "\n",
      "  2%|▏         | 920/38976 [08:46<11:12:55,  1.06s/it]\u001b[A\u001b[A"
     ]
    },
    {
     "name": "stdout",
     "output_type": "stream",
     "text": [
      "13282849\n"
     ]
    },
    {
     "name": "stderr",
     "output_type": "stream",
     "text": [
      "\n",
      "\n",
      "  2%|▏         | 921/38976 [08:47<11:09:16,  1.06s/it]\u001b[A\u001b[A"
     ]
    },
    {
     "name": "stdout",
     "output_type": "stream",
     "text": [
      "13297249\n"
     ]
    },
    {
     "name": "stderr",
     "output_type": "stream",
     "text": [
      "\n",
      "\n",
      "  2%|▏         | 922/38976 [08:48<11:08:54,  1.05s/it]\u001b[A\u001b[A"
     ]
    },
    {
     "name": "stdout",
     "output_type": "stream",
     "text": [
      "13311649\n"
     ]
    },
    {
     "name": "stderr",
     "output_type": "stream",
     "text": [
      "\n",
      "\n",
      "  2%|▏         | 923/38976 [08:50<11:14:14,  1.06s/it]\u001b[A\u001b[A"
     ]
    },
    {
     "name": "stdout",
     "output_type": "stream",
     "text": [
      "13326049\n"
     ]
    },
    {
     "name": "stderr",
     "output_type": "stream",
     "text": [
      "\n",
      "\n",
      "  2%|▏         | 924/38976 [08:51<11:17:32,  1.07s/it]\u001b[A\u001b[A"
     ]
    },
    {
     "name": "stdout",
     "output_type": "stream",
     "text": [
      "13340449\n"
     ]
    },
    {
     "name": "stderr",
     "output_type": "stream",
     "text": [
      "\n",
      "\n",
      "  2%|▏         | 925/38976 [08:52<11:14:43,  1.06s/it]\u001b[A\u001b[A"
     ]
    },
    {
     "name": "stdout",
     "output_type": "stream",
     "text": [
      "13354849\n"
     ]
    },
    {
     "name": "stderr",
     "output_type": "stream",
     "text": [
      "\n",
      "\n",
      "  2%|▏         | 926/38976 [08:53<11:16:41,  1.07s/it]\u001b[A\u001b[A"
     ]
    },
    {
     "name": "stdout",
     "output_type": "stream",
     "text": [
      "13369249\n"
     ]
    },
    {
     "name": "stderr",
     "output_type": "stream",
     "text": [
      "\n",
      "\n",
      "  2%|▏         | 927/38976 [08:54<11:20:06,  1.07s/it]\u001b[A\u001b[A"
     ]
    },
    {
     "name": "stdout",
     "output_type": "stream",
     "text": [
      "13383649\n"
     ]
    },
    {
     "name": "stderr",
     "output_type": "stream",
     "text": [
      "\n",
      "\n",
      "  2%|▏         | 928/38976 [08:55<11:17:40,  1.07s/it]\u001b[A\u001b[A"
     ]
    },
    {
     "name": "stdout",
     "output_type": "stream",
     "text": [
      "13398049\n"
     ]
    },
    {
     "name": "stderr",
     "output_type": "stream",
     "text": [
      "\n",
      "\n",
      "  2%|▏         | 929/38976 [08:56<11:18:51,  1.07s/it]\u001b[A\u001b[A"
     ]
    },
    {
     "name": "stdout",
     "output_type": "stream",
     "text": [
      "13412449\n"
     ]
    },
    {
     "name": "stderr",
     "output_type": "stream",
     "text": [
      "\n",
      "\n",
      "  2%|▏         | 930/38976 [08:57<11:20:38,  1.07s/it]\u001b[A\u001b[A"
     ]
    },
    {
     "name": "stdout",
     "output_type": "stream",
     "text": [
      "13426849\n"
     ]
    },
    {
     "name": "stderr",
     "output_type": "stream",
     "text": [
      "\n",
      "\n",
      "  2%|▏         | 931/38976 [08:58<11:21:45,  1.08s/it]\u001b[A\u001b[A"
     ]
    },
    {
     "name": "stdout",
     "output_type": "stream",
     "text": [
      "13441249\n"
     ]
    },
    {
     "name": "stderr",
     "output_type": "stream",
     "text": [
      "\n",
      "\n",
      "  2%|▏         | 932/38976 [08:59<11:20:22,  1.07s/it]\u001b[A\u001b[A"
     ]
    },
    {
     "name": "stdout",
     "output_type": "stream",
     "text": [
      "13454569\n"
     ]
    },
    {
     "name": "stderr",
     "output_type": "stream",
     "text": [
      "\n",
      "\n",
      "  2%|▏         | 933/38976 [09:00<11:27:40,  1.08s/it]\u001b[A\u001b[A"
     ]
    },
    {
     "name": "stdout",
     "output_type": "stream",
     "text": [
      "13468969\n"
     ]
    },
    {
     "name": "stderr",
     "output_type": "stream",
     "text": [
      "\n",
      "\n",
      "  2%|▏         | 934/38976 [09:01<11:47:47,  1.12s/it]\u001b[A\u001b[A"
     ]
    },
    {
     "name": "stdout",
     "output_type": "stream",
     "text": [
      "13483369\n"
     ]
    },
    {
     "name": "stderr",
     "output_type": "stream",
     "text": [
      "\n",
      "\n",
      "  2%|▏         | 935/38976 [09:03<11:57:41,  1.13s/it]\u001b[A\u001b[A"
     ]
    },
    {
     "name": "stdout",
     "output_type": "stream",
     "text": [
      "13497769\n"
     ]
    },
    {
     "name": "stderr",
     "output_type": "stream",
     "text": [
      "\n",
      "\n",
      "  2%|▏         | 936/38976 [09:04<12:01:40,  1.14s/it]\u001b[A\u001b[A"
     ]
    },
    {
     "name": "stdout",
     "output_type": "stream",
     "text": [
      "13512169\n"
     ]
    },
    {
     "name": "stderr",
     "output_type": "stream",
     "text": [
      "\n",
      "\n",
      "  2%|▏         | 937/38976 [09:05<12:02:49,  1.14s/it]\u001b[A\u001b[A"
     ]
    },
    {
     "name": "stdout",
     "output_type": "stream",
     "text": [
      "13526569\n"
     ]
    },
    {
     "name": "stderr",
     "output_type": "stream",
     "text": [
      "\n",
      "\n",
      "  2%|▏         | 938/38976 [09:06<12:04:21,  1.14s/it]\u001b[A\u001b[A"
     ]
    },
    {
     "name": "stdout",
     "output_type": "stream",
     "text": [
      "13540969\n"
     ]
    },
    {
     "name": "stderr",
     "output_type": "stream",
     "text": [
      "\n",
      "\n",
      "  2%|▏         | 939/38976 [09:07<12:03:44,  1.14s/it]\u001b[A\u001b[A"
     ]
    },
    {
     "name": "stdout",
     "output_type": "stream",
     "text": [
      "13555369\n"
     ]
    },
    {
     "name": "stderr",
     "output_type": "stream",
     "text": [
      "\n",
      "\n",
      "  2%|▏         | 940/38976 [09:08<12:03:16,  1.14s/it]\u001b[A\u001b[A"
     ]
    },
    {
     "name": "stdout",
     "output_type": "stream",
     "text": [
      "13569769\n"
     ]
    },
    {
     "name": "stderr",
     "output_type": "stream",
     "text": [
      "\n",
      "\n",
      "  2%|▏         | 941/38976 [09:09<12:01:32,  1.14s/it]\u001b[A\u001b[A"
     ]
    },
    {
     "name": "stdout",
     "output_type": "stream",
     "text": [
      "13584169\n"
     ]
    },
    {
     "name": "stderr",
     "output_type": "stream",
     "text": [
      "\n",
      "\n",
      "  2%|▏         | 942/38976 [09:11<11:57:46,  1.13s/it]\u001b[A\u001b[A"
     ]
    },
    {
     "name": "stdout",
     "output_type": "stream",
     "text": [
      "13598569\n"
     ]
    },
    {
     "name": "stderr",
     "output_type": "stream",
     "text": [
      "\n",
      "\n",
      "  2%|▏         | 943/38976 [09:12<11:52:38,  1.12s/it]\u001b[A\u001b[A"
     ]
    },
    {
     "name": "stdout",
     "output_type": "stream",
     "text": [
      "13612969\n"
     ]
    },
    {
     "name": "stderr",
     "output_type": "stream",
     "text": [
      "\n",
      "\n",
      "  2%|▏         | 944/38976 [09:13<11:51:49,  1.12s/it]\u001b[A\u001b[A"
     ]
    },
    {
     "name": "stdout",
     "output_type": "stream",
     "text": [
      "13627369\n"
     ]
    },
    {
     "name": "stderr",
     "output_type": "stream",
     "text": [
      "\n",
      "\n",
      "  2%|▏         | 945/38976 [09:14<11:48:38,  1.12s/it]\u001b[A\u001b[A"
     ]
    },
    {
     "name": "stdout",
     "output_type": "stream",
     "text": [
      "13641769\n"
     ]
    },
    {
     "name": "stderr",
     "output_type": "stream",
     "text": [
      "\n",
      "\n",
      "  2%|▏         | 946/38976 [09:15<11:45:00,  1.11s/it]\u001b[A\u001b[A"
     ]
    },
    {
     "name": "stdout",
     "output_type": "stream",
     "text": [
      "13656169\n"
     ]
    },
    {
     "name": "stderr",
     "output_type": "stream",
     "text": [
      "\n",
      "\n",
      "  2%|▏         | 947/38976 [09:16<11:40:04,  1.10s/it]\u001b[A\u001b[A"
     ]
    },
    {
     "name": "stdout",
     "output_type": "stream",
     "text": [
      "13670569\n"
     ]
    },
    {
     "name": "stderr",
     "output_type": "stream",
     "text": [
      "\n",
      "\n",
      "  2%|▏         | 948/38976 [09:17<11:42:23,  1.11s/it]\u001b[A\u001b[A"
     ]
    },
    {
     "name": "stdout",
     "output_type": "stream",
     "text": [
      "13684969\n"
     ]
    },
    {
     "name": "stderr",
     "output_type": "stream",
     "text": [
      "\n",
      "\n",
      "  2%|▏         | 949/38976 [09:18<11:43:31,  1.11s/it]\u001b[A\u001b[A"
     ]
    },
    {
     "name": "stdout",
     "output_type": "stream",
     "text": [
      "13699369\n"
     ]
    },
    {
     "name": "stderr",
     "output_type": "stream",
     "text": [
      "\n",
      "\n",
      "  2%|▏         | 950/38976 [09:19<11:39:25,  1.10s/it]\u001b[A\u001b[A"
     ]
    },
    {
     "name": "stdout",
     "output_type": "stream",
     "text": [
      "13713769\n"
     ]
    },
    {
     "name": "stderr",
     "output_type": "stream",
     "text": [
      "\n",
      "\n",
      "  2%|▏         | 951/38976 [09:21<11:39:53,  1.10s/it]\u001b[A\u001b[A"
     ]
    },
    {
     "name": "stdout",
     "output_type": "stream",
     "text": [
      "13728169\n"
     ]
    },
    {
     "name": "stderr",
     "output_type": "stream",
     "text": [
      "\n",
      "\n",
      "  2%|▏         | 952/38976 [09:22<11:42:47,  1.11s/it]\u001b[A\u001b[A"
     ]
    },
    {
     "name": "stdout",
     "output_type": "stream",
     "text": [
      "13742569\n"
     ]
    },
    {
     "name": "stderr",
     "output_type": "stream",
     "text": [
      "\n",
      "\n",
      "  2%|▏         | 953/38976 [09:23<11:42:38,  1.11s/it]\u001b[A\u001b[A"
     ]
    },
    {
     "name": "stdout",
     "output_type": "stream",
     "text": [
      "13756969\n"
     ]
    },
    {
     "name": "stderr",
     "output_type": "stream",
     "text": [
      "\n",
      "\n",
      "  2%|▏         | 954/38976 [09:24<11:38:57,  1.10s/it]\u001b[A\u001b[A"
     ]
    },
    {
     "name": "stdout",
     "output_type": "stream",
     "text": [
      "13771369\n"
     ]
    },
    {
     "name": "stderr",
     "output_type": "stream",
     "text": [
      "\n",
      "\n",
      "  2%|▏         | 955/38976 [09:25<11:43:45,  1.11s/it]\u001b[A\u001b[A"
     ]
    },
    {
     "name": "stdout",
     "output_type": "stream",
     "text": [
      "13784689\n"
     ]
    },
    {
     "name": "stderr",
     "output_type": "stream",
     "text": [
      "\n",
      "\n",
      "  2%|▏         | 956/38976 [09:26<11:44:31,  1.11s/it]\u001b[A\u001b[A"
     ]
    },
    {
     "name": "stdout",
     "output_type": "stream",
     "text": [
      "13799089\n"
     ]
    },
    {
     "name": "stderr",
     "output_type": "stream",
     "text": [
      "\n",
      "\n",
      "  2%|▏         | 957/38976 [09:27<11:42:48,  1.11s/it]\u001b[A\u001b[A"
     ]
    },
    {
     "name": "stdout",
     "output_type": "stream",
     "text": [
      "13813489\n"
     ]
    },
    {
     "name": "stderr",
     "output_type": "stream",
     "text": [
      "\n",
      "\n",
      "  2%|▏         | 958/38976 [09:28<11:42:07,  1.11s/it]\u001b[A\u001b[A"
     ]
    },
    {
     "name": "stdout",
     "output_type": "stream",
     "text": [
      "13827889\n"
     ]
    },
    {
     "name": "stderr",
     "output_type": "stream",
     "text": [
      "\n",
      "\n",
      "  2%|▏         | 959/38976 [09:29<11:46:17,  1.11s/it]\u001b[A\u001b[A"
     ]
    },
    {
     "name": "stdout",
     "output_type": "stream",
     "text": [
      "13842289\n"
     ]
    },
    {
     "name": "stderr",
     "output_type": "stream",
     "text": [
      "\n",
      "\n",
      "  2%|▏         | 960/38976 [09:31<11:46:10,  1.11s/it]\u001b[A\u001b[A"
     ]
    },
    {
     "name": "stdout",
     "output_type": "stream",
     "text": [
      "13856689\n"
     ]
    },
    {
     "name": "stderr",
     "output_type": "stream",
     "text": [
      "\n",
      "\n",
      "  2%|▏         | 961/38976 [09:32<11:44:49,  1.11s/it]\u001b[A\u001b[A"
     ]
    },
    {
     "name": "stdout",
     "output_type": "stream",
     "text": [
      "13871089\n"
     ]
    },
    {
     "name": "stderr",
     "output_type": "stream",
     "text": [
      "\n",
      "\n",
      "  2%|▏         | 962/38976 [09:33<11:46:43,  1.12s/it]\u001b[A\u001b[A"
     ]
    },
    {
     "name": "stdout",
     "output_type": "stream",
     "text": [
      "13885489\n"
     ]
    },
    {
     "name": "stderr",
     "output_type": "stream",
     "text": [
      "\n",
      "\n",
      "  2%|▏         | 963/38976 [09:34<11:51:24,  1.12s/it]\u001b[A\u001b[A"
     ]
    },
    {
     "name": "stdout",
     "output_type": "stream",
     "text": [
      "13899889\n"
     ]
    },
    {
     "name": "stderr",
     "output_type": "stream",
     "text": [
      "\n",
      "\n",
      "  2%|▏         | 964/38976 [09:35<11:48:08,  1.12s/it]\u001b[A\u001b[A"
     ]
    },
    {
     "name": "stdout",
     "output_type": "stream",
     "text": [
      "13914289\n"
     ]
    },
    {
     "name": "stderr",
     "output_type": "stream",
     "text": [
      "\n",
      "\n",
      "  2%|▏         | 965/38976 [09:36<11:46:33,  1.12s/it]\u001b[A\u001b[A"
     ]
    },
    {
     "name": "stdout",
     "output_type": "stream",
     "text": [
      "13928689\n"
     ]
    },
    {
     "name": "stderr",
     "output_type": "stream",
     "text": [
      "\n",
      "\n",
      "  2%|▏         | 966/38976 [09:37<11:56:31,  1.13s/it]\u001b[A\u001b[A"
     ]
    },
    {
     "name": "stdout",
     "output_type": "stream",
     "text": [
      "13943089\n"
     ]
    },
    {
     "name": "stderr",
     "output_type": "stream",
     "text": [
      "\n",
      "\n",
      "  2%|▏         | 967/38976 [09:38<11:55:33,  1.13s/it]\u001b[A\u001b[A"
     ]
    },
    {
     "name": "stdout",
     "output_type": "stream",
     "text": [
      "13956409\n"
     ]
    },
    {
     "name": "stderr",
     "output_type": "stream",
     "text": [
      "\n",
      "\n",
      "  2%|▏         | 968/38976 [09:40<11:52:29,  1.12s/it]\u001b[A\u001b[A"
     ]
    },
    {
     "name": "stdout",
     "output_type": "stream",
     "text": [
      "13970809\n"
     ]
    },
    {
     "name": "stderr",
     "output_type": "stream",
     "text": [
      "\n",
      "\n",
      "  2%|▏         | 969/38976 [09:41<11:53:07,  1.13s/it]\u001b[A\u001b[A"
     ]
    },
    {
     "name": "stdout",
     "output_type": "stream",
     "text": [
      "13985209\n"
     ]
    },
    {
     "name": "stderr",
     "output_type": "stream",
     "text": [
      "\n",
      "\n",
      "  2%|▏         | 970/38976 [09:42<11:56:17,  1.13s/it]\u001b[A\u001b[A"
     ]
    },
    {
     "name": "stdout",
     "output_type": "stream",
     "text": [
      "13999609\n"
     ]
    },
    {
     "name": "stderr",
     "output_type": "stream",
     "text": [
      "\n",
      "\n",
      "  2%|▏         | 971/38976 [09:43<11:54:17,  1.13s/it]\u001b[A\u001b[A"
     ]
    },
    {
     "name": "stdout",
     "output_type": "stream",
     "text": [
      "14014009\n"
     ]
    },
    {
     "name": "stderr",
     "output_type": "stream",
     "text": [
      "\n",
      "\n",
      "  2%|▏         | 972/38976 [09:44<11:52:15,  1.12s/it]\u001b[A\u001b[A"
     ]
    },
    {
     "name": "stdout",
     "output_type": "stream",
     "text": [
      "14028409\n"
     ]
    },
    {
     "name": "stderr",
     "output_type": "stream",
     "text": [
      "\n",
      "\n",
      "  2%|▏         | 973/38976 [09:45<11:57:53,  1.13s/it]\u001b[A\u001b[A"
     ]
    },
    {
     "name": "stdout",
     "output_type": "stream",
     "text": [
      "14042809\n"
     ]
    },
    {
     "name": "stderr",
     "output_type": "stream",
     "text": [
      "\n",
      "\n",
      "  2%|▏         | 974/38976 [09:46<11:58:49,  1.13s/it]\u001b[A\u001b[A"
     ]
    },
    {
     "name": "stdout",
     "output_type": "stream",
     "text": [
      "14057209\n"
     ]
    },
    {
     "name": "stderr",
     "output_type": "stream",
     "text": [
      "\n",
      "\n",
      "  3%|▎         | 975/38976 [09:47<11:55:23,  1.13s/it]\u001b[A\u001b[A"
     ]
    },
    {
     "name": "stdout",
     "output_type": "stream",
     "text": [
      "14071609\n"
     ]
    },
    {
     "name": "stderr",
     "output_type": "stream",
     "text": [
      "\n",
      "\n",
      "  3%|▎         | 976/38976 [09:49<11:55:58,  1.13s/it]\u001b[A\u001b[A"
     ]
    },
    {
     "name": "stdout",
     "output_type": "stream",
     "text": [
      "14086009\n"
     ]
    },
    {
     "name": "stderr",
     "output_type": "stream",
     "text": [
      "\n",
      "\n",
      "  3%|▎         | 977/38976 [09:50<11:58:17,  1.13s/it]\u001b[A\u001b[A"
     ]
    },
    {
     "name": "stdout",
     "output_type": "stream",
     "text": [
      "14100409\n"
     ]
    },
    {
     "name": "stderr",
     "output_type": "stream",
     "text": [
      "\n",
      "\n",
      "  3%|▎         | 978/38976 [09:51<11:57:47,  1.13s/it]\u001b[A\u001b[A"
     ]
    },
    {
     "name": "stdout",
     "output_type": "stream",
     "text": [
      "14114809\n"
     ]
    },
    {
     "name": "stderr",
     "output_type": "stream",
     "text": [
      "\n",
      "\n",
      "  3%|▎         | 979/38976 [09:52<11:54:35,  1.13s/it]\u001b[A\u001b[A"
     ]
    },
    {
     "name": "stdout",
     "output_type": "stream",
     "text": [
      "14129209\n"
     ]
    },
    {
     "name": "stderr",
     "output_type": "stream",
     "text": [
      "\n",
      "\n",
      "  3%|▎         | 980/38976 [09:53<11:56:55,  1.13s/it]\u001b[A\u001b[A"
     ]
    },
    {
     "name": "stdout",
     "output_type": "stream",
     "text": [
      "14143609\n"
     ]
    },
    {
     "name": "stderr",
     "output_type": "stream",
     "text": [
      "\n",
      "\n",
      "  3%|▎         | 981/38976 [09:54<11:56:14,  1.13s/it]\u001b[A\u001b[A"
     ]
    },
    {
     "name": "stdout",
     "output_type": "stream",
     "text": [
      "14158009\n"
     ]
    },
    {
     "name": "stderr",
     "output_type": "stream",
     "text": [
      "\n",
      "\n",
      "  3%|▎         | 982/38976 [09:55<11:51:24,  1.12s/it]\u001b[A\u001b[A"
     ]
    },
    {
     "name": "stdout",
     "output_type": "stream",
     "text": [
      "14172409\n"
     ]
    },
    {
     "name": "stderr",
     "output_type": "stream",
     "text": [
      "\n",
      "\n",
      "  3%|▎         | 983/38976 [09:56<11:50:05,  1.12s/it]\u001b[A\u001b[A"
     ]
    },
    {
     "name": "stdout",
     "output_type": "stream",
     "text": [
      "14186809\n"
     ]
    },
    {
     "name": "stderr",
     "output_type": "stream",
     "text": [
      "\n",
      "\n",
      "  3%|▎         | 984/38976 [09:58<11:53:32,  1.13s/it]\u001b[A\u001b[A"
     ]
    },
    {
     "name": "stdout",
     "output_type": "stream",
     "text": [
      "14201209\n"
     ]
    },
    {
     "name": "stderr",
     "output_type": "stream",
     "text": [
      "\n",
      "\n",
      "  3%|▎         | 985/38976 [09:59<11:52:30,  1.13s/it]\u001b[A\u001b[A"
     ]
    },
    {
     "name": "stdout",
     "output_type": "stream",
     "text": [
      "14215609\n"
     ]
    },
    {
     "name": "stderr",
     "output_type": "stream",
     "text": [
      "\n",
      "\n",
      "  3%|▎         | 986/38976 [10:00<11:48:05,  1.12s/it]\u001b[A\u001b[A"
     ]
    },
    {
     "name": "stdout",
     "output_type": "stream",
     "text": [
      "14230009\n"
     ]
    },
    {
     "name": "stderr",
     "output_type": "stream",
     "text": [
      "\n",
      "\n",
      "  3%|▎         | 987/38976 [10:01<11:54:01,  1.13s/it]\u001b[A\u001b[A"
     ]
    },
    {
     "name": "stdout",
     "output_type": "stream",
     "text": [
      "14244409\n"
     ]
    },
    {
     "name": "stderr",
     "output_type": "stream",
     "text": [
      "\n",
      "\n",
      "  3%|▎         | 988/38976 [10:02<11:54:57,  1.13s/it]\u001b[A\u001b[A"
     ]
    },
    {
     "name": "stdout",
     "output_type": "stream",
     "text": [
      "14258809\n"
     ]
    },
    {
     "name": "stderr",
     "output_type": "stream",
     "text": [
      "\n",
      "\n",
      "  3%|▎         | 989/38976 [10:03<11:52:20,  1.13s/it]\u001b[A\u001b[A"
     ]
    },
    {
     "name": "stdout",
     "output_type": "stream",
     "text": [
      "14273209\n"
     ]
    },
    {
     "name": "stderr",
     "output_type": "stream",
     "text": [
      "\n",
      "\n",
      "  3%|▎         | 990/38976 [10:04<11:50:02,  1.12s/it]\u001b[A\u001b[A"
     ]
    },
    {
     "name": "stdout",
     "output_type": "stream",
     "text": [
      "14287609\n"
     ]
    },
    {
     "name": "stderr",
     "output_type": "stream",
     "text": [
      "\n",
      "\n",
      "  3%|▎         | 991/38976 [10:06<11:56:41,  1.13s/it]\u001b[A\u001b[A"
     ]
    },
    {
     "name": "stdout",
     "output_type": "stream",
     "text": [
      "14302009\n"
     ]
    },
    {
     "name": "stderr",
     "output_type": "stream",
     "text": [
      "\n",
      "\n",
      "  3%|▎         | 992/38976 [10:07<11:59:31,  1.14s/it]\u001b[A\u001b[A"
     ]
    },
    {
     "name": "stdout",
     "output_type": "stream",
     "text": [
      "14316409\n"
     ]
    },
    {
     "name": "stderr",
     "output_type": "stream",
     "text": [
      "\n",
      "\n",
      "  3%|▎         | 993/38976 [10:08<11:57:14,  1.13s/it]\u001b[A\u001b[A"
     ]
    },
    {
     "name": "stdout",
     "output_type": "stream",
     "text": [
      "14330809\n"
     ]
    },
    {
     "name": "stderr",
     "output_type": "stream",
     "text": [
      "\n",
      "\n",
      "  3%|▎         | 994/38976 [10:09<12:01:04,  1.14s/it]\u001b[A\u001b[A"
     ]
    },
    {
     "name": "stdout",
     "output_type": "stream",
     "text": [
      "14345209\n"
     ]
    },
    {
     "name": "stderr",
     "output_type": "stream",
     "text": [
      "\n",
      "\n",
      "  3%|▎         | 995/38976 [10:10<12:05:18,  1.15s/it]\u001b[A\u001b[A"
     ]
    },
    {
     "name": "stdout",
     "output_type": "stream",
     "text": [
      "14359609\n"
     ]
    },
    {
     "name": "stderr",
     "output_type": "stream",
     "text": [
      "\n",
      "\n",
      "  3%|▎         | 996/38976 [10:11<12:06:06,  1.15s/it]\u001b[A\u001b[A"
     ]
    },
    {
     "name": "stdout",
     "output_type": "stream",
     "text": [
      "14374009\n"
     ]
    },
    {
     "name": "stderr",
     "output_type": "stream",
     "text": [
      "\n",
      "\n",
      "  3%|▎         | 997/38976 [10:12<12:05:06,  1.15s/it]\u001b[A\u001b[A"
     ]
    },
    {
     "name": "stdout",
     "output_type": "stream",
     "text": [
      "14388409\n"
     ]
    },
    {
     "name": "stderr",
     "output_type": "stream",
     "text": [
      "\n",
      "\n",
      "  3%|▎         | 998/38976 [10:14<12:09:00,  1.15s/it]\u001b[A\u001b[A"
     ]
    },
    {
     "name": "stdout",
     "output_type": "stream",
     "text": [
      "14402809\n"
     ]
    },
    {
     "name": "stderr",
     "output_type": "stream",
     "text": [
      "\n",
      "\n",
      "  3%|▎         | 999/38976 [10:15<12:09:27,  1.15s/it]\u001b[A\u001b[A"
     ]
    },
    {
     "name": "stdout",
     "output_type": "stream",
     "text": [
      "14417209\n"
     ]
    },
    {
     "name": "stderr",
     "output_type": "stream",
     "text": [
      "\n",
      "\n",
      "  3%|▎         | 1000/38976 [10:16<12:08:56,  1.15s/it]\u001b[A\u001b[A"
     ]
    },
    {
     "name": "stdout",
     "output_type": "stream",
     "text": [
      "14431609\n"
     ]
    },
    {
     "name": "stderr",
     "output_type": "stream",
     "text": [
      "\n",
      "\n",
      "  3%|▎         | 1001/38976 [10:17<12:09:13,  1.15s/it]\u001b[A\u001b[A"
     ]
    },
    {
     "name": "stdout",
     "output_type": "stream",
     "text": [
      "14446009\n"
     ]
    },
    {
     "name": "stderr",
     "output_type": "stream",
     "text": [
      "\n",
      "\n",
      "  3%|▎         | 1002/38976 [10:18<12:07:48,  1.15s/it]\u001b[A\u001b[A"
     ]
    },
    {
     "name": "stdout",
     "output_type": "stream",
     "text": [
      "14460409\n"
     ]
    },
    {
     "name": "stderr",
     "output_type": "stream",
     "text": [
      "\n",
      "\n",
      "  3%|▎         | 1003/38976 [10:19<12:02:42,  1.14s/it]\u001b[A\u001b[A"
     ]
    },
    {
     "name": "stdout",
     "output_type": "stream",
     "text": [
      "14474809\n"
     ]
    },
    {
     "name": "stderr",
     "output_type": "stream",
     "text": [
      "\n",
      "\n",
      "  3%|▎         | 1004/38976 [10:20<12:01:05,  1.14s/it]\u001b[A\u001b[A"
     ]
    },
    {
     "name": "stdout",
     "output_type": "stream",
     "text": [
      "14489209\n"
     ]
    },
    {
     "name": "stderr",
     "output_type": "stream",
     "text": [
      "\n",
      "\n",
      "  3%|▎         | 1005/38976 [10:22<12:05:47,  1.15s/it]\u001b[A\u001b[A"
     ]
    },
    {
     "name": "stdout",
     "output_type": "stream",
     "text": [
      "14503609\n"
     ]
    },
    {
     "name": "stderr",
     "output_type": "stream",
     "text": [
      "\n",
      "\n",
      "  3%|▎         | 1006/38976 [10:23<12:03:48,  1.14s/it]\u001b[A\u001b[A"
     ]
    },
    {
     "name": "stdout",
     "output_type": "stream",
     "text": [
      "14518009\n"
     ]
    },
    {
     "name": "stderr",
     "output_type": "stream",
     "text": [
      "\n",
      "\n",
      "  3%|▎         | 1007/38976 [10:24<12:02:52,  1.14s/it]\u001b[A\u001b[A"
     ]
    },
    {
     "name": "stdout",
     "output_type": "stream",
     "text": [
      "14532409\n"
     ]
    },
    {
     "name": "stderr",
     "output_type": "stream",
     "text": [
      "\n",
      "\n",
      "  3%|▎         | 1008/38976 [10:25<12:08:12,  1.15s/it]\u001b[A\u001b[A"
     ]
    },
    {
     "name": "stdout",
     "output_type": "stream",
     "text": [
      "14561029\n"
     ]
    },
    {
     "name": "stderr",
     "output_type": "stream",
     "text": [
      "\n",
      "\n",
      "  3%|▎         | 1009/38976 [10:26<12:09:09,  1.15s/it]\u001b[A\u001b[A"
     ]
    },
    {
     "name": "stdout",
     "output_type": "stream",
     "text": [
      "14575429\n"
     ]
    },
    {
     "name": "stderr",
     "output_type": "stream",
     "text": [
      "\n",
      "\n",
      "  3%|▎         | 1010/38976 [10:27<12:03:48,  1.14s/it]\u001b[A\u001b[A"
     ]
    },
    {
     "name": "stdout",
     "output_type": "stream",
     "text": [
      "14588929\n"
     ]
    },
    {
     "name": "stderr",
     "output_type": "stream",
     "text": [
      "\n",
      "\n",
      "  3%|▎         | 1011/38976 [10:28<12:02:50,  1.14s/it]\u001b[A\u001b[A"
     ]
    },
    {
     "name": "stdout",
     "output_type": "stream",
     "text": [
      "14603329\n"
     ]
    },
    {
     "name": "stderr",
     "output_type": "stream",
     "text": [
      "\n",
      "\n",
      "  3%|▎         | 1012/38976 [10:30<12:08:33,  1.15s/it]\u001b[A\u001b[A"
     ]
    },
    {
     "name": "stdout",
     "output_type": "stream",
     "text": [
      "14617729\n"
     ]
    },
    {
     "name": "stderr",
     "output_type": "stream",
     "text": [
      "\n",
      "\n",
      "  3%|▎         | 1013/38976 [10:31<12:06:07,  1.15s/it]\u001b[A\u001b[A"
     ]
    },
    {
     "name": "stdout",
     "output_type": "stream",
     "text": [
      "14632129\n"
     ]
    },
    {
     "name": "stderr",
     "output_type": "stream",
     "text": [
      "\n",
      "\n",
      "  3%|▎         | 1014/38976 [10:32<11:58:19,  1.14s/it]\u001b[A\u001b[A"
     ]
    },
    {
     "name": "stdout",
     "output_type": "stream",
     "text": [
      "14646529\n"
     ]
    },
    {
     "name": "stderr",
     "output_type": "stream",
     "text": [
      "\n",
      "\n",
      "  3%|▎         | 1015/38976 [10:33<11:58:49,  1.14s/it]\u001b[A\u001b[A"
     ]
    },
    {
     "name": "stdout",
     "output_type": "stream",
     "text": [
      "14660929\n"
     ]
    },
    {
     "name": "stderr",
     "output_type": "stream",
     "text": [
      "\n",
      "\n",
      "  3%|▎         | 1016/38976 [10:34<11:57:53,  1.13s/it]\u001b[A\u001b[A"
     ]
    },
    {
     "name": "stdout",
     "output_type": "stream",
     "text": [
      "14675329\n"
     ]
    },
    {
     "name": "stderr",
     "output_type": "stream",
     "text": [
      "\n",
      "\n",
      "  3%|▎         | 1017/38976 [10:35<11:53:26,  1.13s/it]\u001b[A\u001b[A"
     ]
    },
    {
     "name": "stdout",
     "output_type": "stream",
     "text": [
      "14689729\n"
     ]
    },
    {
     "name": "stderr",
     "output_type": "stream",
     "text": [
      "\n",
      "\n",
      "  3%|▎         | 1018/38976 [10:36<11:53:01,  1.13s/it]\u001b[A\u001b[A"
     ]
    },
    {
     "name": "stdout",
     "output_type": "stream",
     "text": [
      "14704129\n"
     ]
    },
    {
     "name": "stderr",
     "output_type": "stream",
     "text": [
      "\n",
      "\n",
      "  3%|▎         | 1019/38976 [10:38<11:58:13,  1.14s/it]\u001b[A\u001b[A"
     ]
    },
    {
     "name": "stdout",
     "output_type": "stream",
     "text": [
      "14718529\n"
     ]
    },
    {
     "name": "stderr",
     "output_type": "stream",
     "text": [
      "\n",
      "\n",
      "  3%|▎         | 1020/38976 [10:39<12:00:10,  1.14s/it]\u001b[A\u001b[A"
     ]
    },
    {
     "name": "stdout",
     "output_type": "stream",
     "text": [
      "14732929\n"
     ]
    },
    {
     "name": "stderr",
     "output_type": "stream",
     "text": [
      "\n",
      "\n",
      "  3%|▎         | 1021/38976 [10:40<11:49:54,  1.12s/it]\u001b[A\u001b[A"
     ]
    },
    {
     "name": "stdout",
     "output_type": "stream",
     "text": [
      "14747329\n"
     ]
    },
    {
     "name": "stderr",
     "output_type": "stream",
     "text": [
      "\n",
      "\n",
      "  3%|▎         | 1022/38976 [10:41<11:44:12,  1.11s/it]\u001b[A\u001b[A"
     ]
    },
    {
     "name": "stdout",
     "output_type": "stream",
     "text": [
      "14761729\n"
     ]
    },
    {
     "name": "stderr",
     "output_type": "stream",
     "text": [
      "\n",
      "\n",
      "  3%|▎         | 1023/38976 [10:42<11:37:25,  1.10s/it]\u001b[A\u001b[A"
     ]
    },
    {
     "name": "stdout",
     "output_type": "stream",
     "text": [
      "14776129\n"
     ]
    },
    {
     "name": "stderr",
     "output_type": "stream",
     "text": [
      "\n",
      "\n",
      "  3%|▎         | 1024/38976 [10:43<11:32:20,  1.09s/it]\u001b[A\u001b[A"
     ]
    },
    {
     "name": "stdout",
     "output_type": "stream",
     "text": [
      "14790529\n"
     ]
    },
    {
     "name": "stderr",
     "output_type": "stream",
     "text": [
      "\n",
      "\n",
      "  3%|▎         | 1025/38976 [10:44<11:29:14,  1.09s/it]\u001b[A\u001b[A"
     ]
    },
    {
     "name": "stdout",
     "output_type": "stream",
     "text": [
      "14804929\n"
     ]
    },
    {
     "name": "stderr",
     "output_type": "stream",
     "text": [
      "\n",
      "\n",
      "  3%|▎         | 1026/38976 [10:45<11:26:00,  1.08s/it]\u001b[A\u001b[A"
     ]
    },
    {
     "name": "stdout",
     "output_type": "stream",
     "text": [
      "14819329\n"
     ]
    },
    {
     "name": "stderr",
     "output_type": "stream",
     "text": [
      "\n",
      "\n",
      "  3%|▎         | 1027/38976 [10:46<11:27:57,  1.09s/it]\u001b[A\u001b[A"
     ]
    },
    {
     "name": "stdout",
     "output_type": "stream",
     "text": [
      "14833729\n"
     ]
    },
    {
     "name": "stderr",
     "output_type": "stream",
     "text": [
      "\n",
      "\n",
      "  3%|▎         | 1028/38976 [10:47<11:23:38,  1.08s/it]\u001b[A\u001b[A"
     ]
    },
    {
     "name": "stdout",
     "output_type": "stream",
     "text": [
      "14848129\n"
     ]
    },
    {
     "name": "stderr",
     "output_type": "stream",
     "text": [
      "\n",
      "\n",
      "  3%|▎         | 1029/38976 [10:48<11:21:14,  1.08s/it]\u001b[A\u001b[A"
     ]
    },
    {
     "name": "stdout",
     "output_type": "stream",
     "text": [
      "14862529\n"
     ]
    },
    {
     "name": "stderr",
     "output_type": "stream",
     "text": [
      "\n",
      "\n",
      "  3%|▎         | 1030/38976 [10:49<11:21:12,  1.08s/it]\u001b[A\u001b[A"
     ]
    },
    {
     "name": "stdout",
     "output_type": "stream",
     "text": [
      "14876929\n"
     ]
    },
    {
     "name": "stderr",
     "output_type": "stream",
     "text": [
      "\n",
      "\n",
      "  3%|▎         | 1031/38976 [10:51<11:19:49,  1.07s/it]\u001b[A\u001b[A"
     ]
    },
    {
     "name": "stdout",
     "output_type": "stream",
     "text": [
      "14891329\n"
     ]
    },
    {
     "name": "stderr",
     "output_type": "stream",
     "text": [
      "\n",
      "\n",
      "  3%|▎         | 1032/38976 [10:52<11:21:32,  1.08s/it]\u001b[A\u001b[A"
     ]
    },
    {
     "name": "stdout",
     "output_type": "stream",
     "text": [
      "14905729\n"
     ]
    },
    {
     "name": "stderr",
     "output_type": "stream",
     "text": [
      "\n",
      "\n",
      "  3%|▎         | 1033/38976 [10:53<11:20:26,  1.08s/it]\u001b[A\u001b[A"
     ]
    },
    {
     "name": "stdout",
     "output_type": "stream",
     "text": [
      "14920129\n"
     ]
    },
    {
     "name": "stderr",
     "output_type": "stream",
     "text": [
      "\n",
      "\n",
      "  3%|▎         | 1034/38976 [10:54<11:19:24,  1.07s/it]\u001b[A\u001b[A"
     ]
    },
    {
     "name": "stdout",
     "output_type": "stream",
     "text": [
      "14934529\n"
     ]
    },
    {
     "name": "stderr",
     "output_type": "stream",
     "text": [
      "\n",
      "\n",
      "  3%|▎         | 1035/38976 [10:55<11:20:32,  1.08s/it]\u001b[A\u001b[A"
     ]
    },
    {
     "name": "stdout",
     "output_type": "stream",
     "text": [
      "14948929\n"
     ]
    },
    {
     "name": "stderr",
     "output_type": "stream",
     "text": [
      "\n",
      "\n",
      "  3%|▎         | 1036/38976 [10:56<11:22:13,  1.08s/it]\u001b[A\u001b[A"
     ]
    },
    {
     "name": "stdout",
     "output_type": "stream",
     "text": [
      "14963329\n"
     ]
    },
    {
     "name": "stderr",
     "output_type": "stream",
     "text": [
      "\n",
      "\n",
      "  3%|▎         | 1037/38976 [10:57<11:19:26,  1.07s/it]\u001b[A\u001b[A"
     ]
    },
    {
     "name": "stdout",
     "output_type": "stream",
     "text": [
      "14977729\n"
     ]
    },
    {
     "name": "stderr",
     "output_type": "stream",
     "text": [
      "\n",
      "\n",
      "  3%|▎         | 1038/38976 [10:58<11:19:03,  1.07s/it]\u001b[A\u001b[A"
     ]
    },
    {
     "name": "stdout",
     "output_type": "stream",
     "text": [
      "14992129\n"
     ]
    },
    {
     "name": "stderr",
     "output_type": "stream",
     "text": [
      "\n",
      "\n",
      "  3%|▎         | 1039/38976 [10:59<11:22:38,  1.08s/it]\u001b[A\u001b[A"
     ]
    },
    {
     "name": "stdout",
     "output_type": "stream",
     "text": [
      "15006529\n"
     ]
    },
    {
     "name": "stderr",
     "output_type": "stream",
     "text": [
      "\n",
      "\n",
      "  3%|▎         | 1040/38976 [11:00<11:24:07,  1.08s/it]\u001b[A\u001b[A"
     ]
    },
    {
     "name": "stdout",
     "output_type": "stream",
     "text": [
      "15018049\n"
     ]
    },
    {
     "name": "stderr",
     "output_type": "stream",
     "text": [
      "\n",
      "\n",
      "  3%|▎         | 1041/38976 [11:01<11:35:03,  1.10s/it]\u001b[A\u001b[A"
     ]
    },
    {
     "name": "stdout",
     "output_type": "stream",
     "text": [
      "15032449\n"
     ]
    },
    {
     "name": "stderr",
     "output_type": "stream",
     "text": [
      "\n",
      "\n",
      "  3%|▎         | 1042/38976 [11:02<11:30:55,  1.09s/it]\u001b[A\u001b[A"
     ]
    },
    {
     "name": "stdout",
     "output_type": "stream",
     "text": [
      "15046849\n"
     ]
    },
    {
     "name": "stderr",
     "output_type": "stream",
     "text": [
      "\n",
      "\n",
      "  3%|▎         | 1043/38976 [11:04<11:29:57,  1.09s/it]\u001b[A\u001b[A"
     ]
    },
    {
     "name": "stdout",
     "output_type": "stream",
     "text": [
      "15061249\n"
     ]
    },
    {
     "name": "stderr",
     "output_type": "stream",
     "text": [
      "\n",
      "\n",
      "  3%|▎         | 1044/38976 [11:05<11:30:09,  1.09s/it]\u001b[A\u001b[A"
     ]
    },
    {
     "name": "stdout",
     "output_type": "stream",
     "text": [
      "15075649\n"
     ]
    },
    {
     "name": "stderr",
     "output_type": "stream",
     "text": [
      "\n",
      "\n",
      "  3%|▎         | 1045/38976 [11:06<11:30:15,  1.09s/it]\u001b[A\u001b[A"
     ]
    },
    {
     "name": "stdout",
     "output_type": "stream",
     "text": [
      "15090049\n"
     ]
    },
    {
     "name": "stderr",
     "output_type": "stream",
     "text": [
      "\n",
      "\n",
      "  3%|▎         | 1046/38976 [11:07<11:29:33,  1.09s/it]\u001b[A\u001b[A"
     ]
    },
    {
     "name": "stdout",
     "output_type": "stream",
     "text": [
      "15104449\n"
     ]
    },
    {
     "name": "stderr",
     "output_type": "stream",
     "text": [
      "\n",
      "\n",
      "  3%|▎         | 1047/38976 [11:08<11:31:04,  1.09s/it]\u001b[A\u001b[A"
     ]
    },
    {
     "name": "stdout",
     "output_type": "stream",
     "text": [
      "15118849\n"
     ]
    },
    {
     "name": "stderr",
     "output_type": "stream",
     "text": [
      "\n",
      "\n",
      "  3%|▎         | 1048/38976 [11:09<11:33:13,  1.10s/it]\u001b[A\u001b[A"
     ]
    },
    {
     "name": "stdout",
     "output_type": "stream",
     "text": [
      "15133249\n"
     ]
    },
    {
     "name": "stderr",
     "output_type": "stream",
     "text": [
      "\n",
      "\n",
      "  3%|▎         | 1049/38976 [11:10<11:34:18,  1.10s/it]\u001b[A\u001b[A"
     ]
    },
    {
     "name": "stdout",
     "output_type": "stream",
     "text": [
      "15147649\n"
     ]
    },
    {
     "name": "stderr",
     "output_type": "stream",
     "text": [
      "\n",
      "\n",
      "  3%|▎         | 1050/38976 [11:11<11:32:31,  1.10s/it]\u001b[A\u001b[A"
     ]
    },
    {
     "name": "stdout",
     "output_type": "stream",
     "text": [
      "15162049\n"
     ]
    },
    {
     "name": "stderr",
     "output_type": "stream",
     "text": [
      "\n",
      "\n",
      "  3%|▎         | 1051/38976 [11:12<11:33:20,  1.10s/it]\u001b[A\u001b[A"
     ]
    },
    {
     "name": "stdout",
     "output_type": "stream",
     "text": [
      "15176449\n"
     ]
    },
    {
     "name": "stderr",
     "output_type": "stream",
     "text": [
      "\n",
      "\n",
      "  3%|▎         | 1052/38976 [11:13<11:37:30,  1.10s/it]\u001b[A\u001b[A"
     ]
    },
    {
     "name": "stdout",
     "output_type": "stream",
     "text": [
      "15189769\n"
     ]
    },
    {
     "name": "stderr",
     "output_type": "stream",
     "text": [
      "\n",
      "\n",
      "  3%|▎         | 1053/38976 [11:15<11:34:37,  1.10s/it]\u001b[A\u001b[A"
     ]
    },
    {
     "name": "stdout",
     "output_type": "stream",
     "text": [
      "15204169\n"
     ]
    },
    {
     "name": "stderr",
     "output_type": "stream",
     "text": [
      "\n",
      "\n",
      "  3%|▎         | 1054/38976 [11:16<11:36:29,  1.10s/it]\u001b[A\u001b[A"
     ]
    },
    {
     "name": "stdout",
     "output_type": "stream",
     "text": [
      "15218569\n"
     ]
    },
    {
     "name": "stderr",
     "output_type": "stream",
     "text": [
      "\n",
      "\n",
      "  3%|▎         | 1055/38976 [11:17<11:34:31,  1.10s/it]\u001b[A\u001b[A"
     ]
    },
    {
     "name": "stdout",
     "output_type": "stream",
     "text": [
      "15232969\n"
     ]
    },
    {
     "name": "stderr",
     "output_type": "stream",
     "text": [
      "\n",
      "\n",
      "  3%|▎         | 1056/38976 [11:18<11:33:49,  1.10s/it]\u001b[A\u001b[A"
     ]
    },
    {
     "name": "stdout",
     "output_type": "stream",
     "text": [
      "15247369\n"
     ]
    },
    {
     "name": "stderr",
     "output_type": "stream",
     "text": [
      "\n",
      "\n",
      "  3%|▎         | 1057/38976 [11:19<11:37:48,  1.10s/it]\u001b[A\u001b[A"
     ]
    },
    {
     "name": "stdout",
     "output_type": "stream",
     "text": [
      "15261769\n"
     ]
    },
    {
     "name": "stderr",
     "output_type": "stream",
     "text": [
      "\n",
      "\n",
      "  3%|▎         | 1058/38976 [11:20<11:37:58,  1.10s/it]\u001b[A\u001b[A"
     ]
    },
    {
     "name": "stdout",
     "output_type": "stream",
     "text": [
      "15276169\n"
     ]
    },
    {
     "name": "stderr",
     "output_type": "stream",
     "text": [
      "\n",
      "\n",
      "  3%|▎         | 1059/38976 [11:21<11:40:52,  1.11s/it]\u001b[A\u001b[A"
     ]
    },
    {
     "name": "stdout",
     "output_type": "stream",
     "text": [
      "15290569\n"
     ]
    },
    {
     "name": "stderr",
     "output_type": "stream",
     "text": [
      "\n",
      "\n",
      "  3%|▎         | 1060/38976 [11:22<11:40:41,  1.11s/it]\u001b[A\u001b[A"
     ]
    },
    {
     "name": "stdout",
     "output_type": "stream",
     "text": [
      "15304969\n"
     ]
    },
    {
     "name": "stderr",
     "output_type": "stream",
     "text": [
      "\n",
      "\n",
      "  3%|▎         | 1061/38976 [11:23<11:40:09,  1.11s/it]\u001b[A\u001b[A"
     ]
    },
    {
     "name": "stdout",
     "output_type": "stream",
     "text": [
      "15319369\n"
     ]
    },
    {
     "name": "stderr",
     "output_type": "stream",
     "text": [
      "\n",
      "\n",
      "  3%|▎         | 1062/38976 [11:24<11:39:55,  1.11s/it]\u001b[A\u001b[A"
     ]
    },
    {
     "name": "stdout",
     "output_type": "stream",
     "text": [
      "15333769\n"
     ]
    },
    {
     "name": "stderr",
     "output_type": "stream",
     "text": [
      "\n",
      "\n",
      "  3%|▎         | 1063/38976 [11:26<11:43:29,  1.11s/it]\u001b[A\u001b[A"
     ]
    },
    {
     "name": "stdout",
     "output_type": "stream",
     "text": [
      "15348169\n"
     ]
    },
    {
     "name": "stderr",
     "output_type": "stream",
     "text": [
      "\n",
      "\n",
      "  3%|▎         | 1064/38976 [11:27<11:45:25,  1.12s/it]\u001b[A\u001b[A"
     ]
    },
    {
     "name": "stdout",
     "output_type": "stream",
     "text": [
      "15362569\n"
     ]
    },
    {
     "name": "stderr",
     "output_type": "stream",
     "text": [
      "\n",
      "\n",
      "  3%|▎         | 1065/38976 [11:28<11:45:01,  1.12s/it]\u001b[A\u001b[A"
     ]
    },
    {
     "name": "stdout",
     "output_type": "stream",
     "text": [
      "15376969\n"
     ]
    },
    {
     "name": "stderr",
     "output_type": "stream",
     "text": [
      "\n",
      "\n",
      "  3%|▎         | 1066/38976 [11:29<11:45:46,  1.12s/it]\u001b[A\u001b[A"
     ]
    },
    {
     "name": "stdout",
     "output_type": "stream",
     "text": [
      "15391369\n"
     ]
    },
    {
     "name": "stderr",
     "output_type": "stream",
     "text": [
      "\n",
      "\n",
      "  3%|▎         | 1067/38976 [11:30<11:47:12,  1.12s/it]\u001b[A\u001b[A"
     ]
    },
    {
     "name": "stdout",
     "output_type": "stream",
     "text": [
      "15405769\n"
     ]
    },
    {
     "name": "stderr",
     "output_type": "stream",
     "text": [
      "\n",
      "\n",
      "  3%|▎         | 1068/38976 [11:31<11:48:53,  1.12s/it]\u001b[A\u001b[A"
     ]
    },
    {
     "name": "stdout",
     "output_type": "stream",
     "text": [
      "15420169\n"
     ]
    },
    {
     "name": "stderr",
     "output_type": "stream",
     "text": [
      "\n",
      "\n",
      "  3%|▎         | 1069/38976 [11:32<11:49:25,  1.12s/it]\u001b[A\u001b[A"
     ]
    },
    {
     "name": "stdout",
     "output_type": "stream",
     "text": [
      "15434569\n"
     ]
    },
    {
     "name": "stderr",
     "output_type": "stream",
     "text": [
      "\n",
      "\n",
      "  3%|▎         | 1070/38976 [11:33<11:48:36,  1.12s/it]\u001b[A\u001b[A"
     ]
    },
    {
     "name": "stdout",
     "output_type": "stream",
     "text": [
      "15448969\n"
     ]
    },
    {
     "name": "stderr",
     "output_type": "stream",
     "text": [
      "\n",
      "\n",
      "  3%|▎         | 1071/38976 [11:35<11:47:16,  1.12s/it]\u001b[A\u001b[A"
     ]
    },
    {
     "name": "stdout",
     "output_type": "stream",
     "text": [
      "15463369\n"
     ]
    },
    {
     "name": "stderr",
     "output_type": "stream",
     "text": [
      "\n",
      "\n",
      "  3%|▎         | 1072/38976 [11:36<11:56:20,  1.13s/it]\u001b[A\u001b[A"
     ]
    },
    {
     "name": "stdout",
     "output_type": "stream",
     "text": [
      "15477769\n"
     ]
    },
    {
     "name": "stderr",
     "output_type": "stream",
     "text": [
      "\n",
      "\n",
      "  3%|▎         | 1073/38976 [11:37<12:00:53,  1.14s/it]\u001b[A\u001b[A"
     ]
    },
    {
     "name": "stdout",
     "output_type": "stream",
     "text": [
      "15492169\n"
     ]
    },
    {
     "name": "stderr",
     "output_type": "stream",
     "text": [
      "\n",
      "\n",
      "  3%|▎         | 1074/38976 [11:38<12:03:09,  1.14s/it]\u001b[A\u001b[A"
     ]
    },
    {
     "name": "stdout",
     "output_type": "stream",
     "text": [
      "15506569\n"
     ]
    },
    {
     "name": "stderr",
     "output_type": "stream",
     "text": [
      "\n",
      "\n",
      "  3%|▎         | 1075/38976 [11:39<12:00:16,  1.14s/it]\u001b[A\u001b[A"
     ]
    },
    {
     "name": "stdout",
     "output_type": "stream",
     "text": [
      "15520969\n"
     ]
    },
    {
     "name": "stderr",
     "output_type": "stream",
     "text": [
      "\n",
      "\n",
      "  3%|▎         | 1076/38976 [11:40<12:00:49,  1.14s/it]\u001b[A\u001b[A"
     ]
    },
    {
     "name": "stdout",
     "output_type": "stream",
     "text": [
      "15535369\n"
     ]
    },
    {
     "name": "stderr",
     "output_type": "stream",
     "text": [
      "\n",
      "\n",
      "  3%|▎         | 1077/38976 [11:41<12:05:32,  1.15s/it]\u001b[A\u001b[A"
     ]
    },
    {
     "name": "stdout",
     "output_type": "stream",
     "text": [
      "15549769\n"
     ]
    },
    {
     "name": "stderr",
     "output_type": "stream",
     "text": [
      "\n",
      "\n",
      "  3%|▎         | 1078/38976 [11:43<12:03:34,  1.15s/it]\u001b[A\u001b[A"
     ]
    },
    {
     "name": "stdout",
     "output_type": "stream",
     "text": [
      "15564169\n"
     ]
    },
    {
     "name": "stderr",
     "output_type": "stream",
     "text": [
      "\n",
      "\n",
      "  3%|▎         | 1079/38976 [11:44<12:05:02,  1.15s/it]\u001b[A\u001b[A"
     ]
    },
    {
     "name": "stdout",
     "output_type": "stream",
     "text": [
      "15578569\n"
     ]
    },
    {
     "name": "stderr",
     "output_type": "stream",
     "text": [
      "\n",
      "\n",
      "  3%|▎         | 1080/38976 [11:45<12:06:55,  1.15s/it]\u001b[A\u001b[A"
     ]
    },
    {
     "name": "stdout",
     "output_type": "stream",
     "text": [
      "15592969\n"
     ]
    },
    {
     "name": "stderr",
     "output_type": "stream",
     "text": [
      "\n",
      "\n",
      "  3%|▎         | 1081/38976 [11:46<12:15:15,  1.16s/it]\u001b[A\u001b[A"
     ]
    },
    {
     "name": "stdout",
     "output_type": "stream",
     "text": [
      "15621589\n"
     ]
    },
    {
     "name": "stderr",
     "output_type": "stream",
     "text": [
      "\n",
      "\n",
      "  3%|▎         | 1082/38976 [11:47<12:15:03,  1.16s/it]\u001b[A\u001b[A"
     ]
    },
    {
     "name": "stdout",
     "output_type": "stream",
     "text": [
      "15635989\n"
     ]
    },
    {
     "name": "stderr",
     "output_type": "stream",
     "text": [
      "\n",
      "\n",
      "  3%|▎         | 1083/38976 [11:48<12:17:18,  1.17s/it]\u001b[A\u001b[A"
     ]
    },
    {
     "name": "stdout",
     "output_type": "stream",
     "text": [
      "15650389\n"
     ]
    },
    {
     "name": "stderr",
     "output_type": "stream",
     "text": [
      "\n",
      "\n",
      "  3%|▎         | 1084/38976 [11:50<12:16:51,  1.17s/it]\u001b[A\u001b[A"
     ]
    },
    {
     "name": "stdout",
     "output_type": "stream",
     "text": [
      "15664789\n"
     ]
    },
    {
     "name": "stderr",
     "output_type": "stream",
     "text": [
      "\n",
      "\n",
      "  3%|▎         | 1085/38976 [11:51<12:23:43,  1.18s/it]\u001b[A\u001b[A"
     ]
    },
    {
     "name": "stdout",
     "output_type": "stream",
     "text": [
      "15679189\n"
     ]
    },
    {
     "name": "stderr",
     "output_type": "stream",
     "text": [
      "\n",
      "\n",
      "  3%|▎         | 1086/38976 [11:52<12:26:49,  1.18s/it]\u001b[A\u001b[A"
     ]
    },
    {
     "name": "stdout",
     "output_type": "stream",
     "text": [
      "15693589\n"
     ]
    },
    {
     "name": "stderr",
     "output_type": "stream",
     "text": [
      "\n",
      "\n",
      "  3%|▎         | 1087/38976 [11:53<12:23:52,  1.18s/it]\u001b[A\u001b[A"
     ]
    },
    {
     "name": "stdout",
     "output_type": "stream",
     "text": [
      "15707989\n"
     ]
    },
    {
     "name": "stderr",
     "output_type": "stream",
     "text": [
      "\n",
      "\n",
      "  3%|▎         | 1088/38976 [11:54<12:24:17,  1.18s/it]\u001b[A\u001b[A"
     ]
    },
    {
     "name": "stdout",
     "output_type": "stream",
     "text": [
      "15722389\n"
     ]
    },
    {
     "name": "stderr",
     "output_type": "stream",
     "text": [
      "\n",
      "\n",
      "  3%|▎         | 1089/38976 [11:56<12:27:39,  1.18s/it]\u001b[A\u001b[A"
     ]
    },
    {
     "name": "stdout",
     "output_type": "stream",
     "text": [
      "15736789\n"
     ]
    },
    {
     "name": "stderr",
     "output_type": "stream",
     "text": [
      "\n",
      "\n",
      "  3%|▎         | 1090/38976 [11:57<12:25:30,  1.18s/it]\u001b[A\u001b[A"
     ]
    },
    {
     "name": "stdout",
     "output_type": "stream",
     "text": [
      "15750289\n"
     ]
    },
    {
     "name": "stderr",
     "output_type": "stream",
     "text": [
      "\n",
      "\n",
      "  3%|▎         | 1091/38976 [11:58<12:32:08,  1.19s/it]\u001b[A\u001b[A"
     ]
    },
    {
     "name": "stdout",
     "output_type": "stream",
     "text": [
      "15764689\n"
     ]
    },
    {
     "name": "stderr",
     "output_type": "stream",
     "text": [
      "\n",
      "\n",
      "  3%|▎         | 1092/38976 [11:59<12:34:55,  1.20s/it]\u001b[A\u001b[A"
     ]
    },
    {
     "name": "stdout",
     "output_type": "stream",
     "text": [
      "15779089\n"
     ]
    },
    {
     "name": "stderr",
     "output_type": "stream",
     "text": [
      "\n",
      "\n",
      "  3%|▎         | 1093/38976 [12:00<12:34:14,  1.19s/it]\u001b[A\u001b[A"
     ]
    },
    {
     "name": "stdout",
     "output_type": "stream",
     "text": [
      "15793489\n"
     ]
    },
    {
     "name": "stderr",
     "output_type": "stream",
     "text": [
      "\n",
      "\n",
      "  3%|▎         | 1094/38976 [12:02<12:39:09,  1.20s/it]\u001b[A\u001b[A"
     ]
    },
    {
     "name": "stdout",
     "output_type": "stream",
     "text": [
      "15807889\n"
     ]
    },
    {
     "name": "stderr",
     "output_type": "stream",
     "text": [
      "\n",
      "\n",
      "  3%|▎         | 1095/38976 [12:03<12:42:46,  1.21s/it]\u001b[A\u001b[A"
     ]
    },
    {
     "name": "stdout",
     "output_type": "stream",
     "text": [
      "15822289\n"
     ]
    },
    {
     "name": "stderr",
     "output_type": "stream",
     "text": [
      "\n",
      "\n",
      "  3%|▎         | 1096/38976 [12:04<12:44:34,  1.21s/it]\u001b[A\u001b[A"
     ]
    },
    {
     "name": "stdout",
     "output_type": "stream",
     "text": [
      "15836689\n"
     ]
    },
    {
     "name": "stderr",
     "output_type": "stream",
     "text": [
      "\n",
      "\n",
      "  3%|▎         | 1097/38976 [12:05<12:47:32,  1.22s/it]\u001b[A\u001b[A"
     ]
    },
    {
     "name": "stdout",
     "output_type": "stream",
     "text": [
      "15851089\n"
     ]
    },
    {
     "name": "stderr",
     "output_type": "stream",
     "text": [
      "\n",
      "\n",
      "  3%|▎         | 1098/38976 [12:06<12:50:10,  1.22s/it]\u001b[A\u001b[A"
     ]
    },
    {
     "name": "stdout",
     "output_type": "stream",
     "text": [
      "15865489\n"
     ]
    },
    {
     "name": "stderr",
     "output_type": "stream",
     "text": [
      "\n",
      "\n",
      "  3%|▎         | 1099/38976 [12:08<12:50:55,  1.22s/it]\u001b[A\u001b[A"
     ]
    },
    {
     "name": "stdout",
     "output_type": "stream",
     "text": [
      "15879889\n"
     ]
    },
    {
     "name": "stderr",
     "output_type": "stream",
     "text": [
      "\n",
      "\n",
      "  3%|▎         | 1100/38976 [12:09<12:50:28,  1.22s/it]\u001b[A\u001b[A"
     ]
    },
    {
     "name": "stdout",
     "output_type": "stream",
     "text": [
      "15894289\n"
     ]
    },
    {
     "name": "stderr",
     "output_type": "stream",
     "text": [
      "\n",
      "\n",
      "  3%|▎         | 1101/38976 [12:10<12:51:04,  1.22s/it]\u001b[A\u001b[A"
     ]
    },
    {
     "name": "stdout",
     "output_type": "stream",
     "text": [
      "15908689\n"
     ]
    },
    {
     "name": "stderr",
     "output_type": "stream",
     "text": [
      "\n",
      "\n",
      "  3%|▎         | 1102/38976 [12:11<12:55:10,  1.23s/it]\u001b[A\u001b[A"
     ]
    },
    {
     "name": "stdout",
     "output_type": "stream",
     "text": [
      "15923089\n"
     ]
    },
    {
     "name": "stderr",
     "output_type": "stream",
     "text": [
      "\n",
      "\n",
      "  3%|▎         | 1103/38976 [12:13<12:53:55,  1.23s/it]\u001b[A\u001b[A"
     ]
    },
    {
     "name": "stdout",
     "output_type": "stream",
     "text": [
      "15937489\n"
     ]
    },
    {
     "name": "stderr",
     "output_type": "stream",
     "text": [
      "\n",
      "\n",
      "  3%|▎         | 1104/38976 [12:14<12:53:24,  1.23s/it]\u001b[A\u001b[A"
     ]
    },
    {
     "name": "stdout",
     "output_type": "stream",
     "text": [
      "15950989\n"
     ]
    },
    {
     "name": "stderr",
     "output_type": "stream",
     "text": [
      "\n",
      "\n",
      "  3%|▎         | 1105/38976 [12:15<13:02:10,  1.24s/it]\u001b[A\u001b[A"
     ]
    },
    {
     "name": "stdout",
     "output_type": "stream",
     "text": [
      "15965389\n"
     ]
    },
    {
     "name": "stderr",
     "output_type": "stream",
     "text": [
      "\n",
      "\n",
      "  3%|▎         | 1106/38976 [12:16<13:04:51,  1.24s/it]\u001b[A\u001b[A"
     ]
    },
    {
     "name": "stdout",
     "output_type": "stream",
     "text": [
      "15979789\n"
     ]
    },
    {
     "name": "stderr",
     "output_type": "stream",
     "text": [
      "\n",
      "\n",
      "  3%|▎         | 1107/38976 [12:18<13:03:04,  1.24s/it]\u001b[A\u001b[A"
     ]
    },
    {
     "name": "stdout",
     "output_type": "stream",
     "text": [
      "15994189\n"
     ]
    },
    {
     "name": "stderr",
     "output_type": "stream",
     "text": [
      "\n",
      "\n",
      "  3%|▎         | 1108/38976 [12:19<13:07:07,  1.25s/it]\u001b[A\u001b[A"
     ]
    },
    {
     "name": "stdout",
     "output_type": "stream",
     "text": [
      "16008589\n"
     ]
    },
    {
     "name": "stderr",
     "output_type": "stream",
     "text": [
      "\n",
      "\n",
      "  3%|▎         | 1109/38976 [12:20<13:06:20,  1.25s/it]\u001b[A\u001b[A"
     ]
    },
    {
     "name": "stdout",
     "output_type": "stream",
     "text": [
      "16022989\n"
     ]
    },
    {
     "name": "stderr",
     "output_type": "stream",
     "text": [
      "\n",
      "\n",
      "  3%|▎         | 1110/38976 [12:21<13:11:58,  1.25s/it]\u001b[A\u001b[A"
     ]
    },
    {
     "name": "stdout",
     "output_type": "stream",
     "text": [
      "16037389\n"
     ]
    },
    {
     "name": "stderr",
     "output_type": "stream",
     "text": [
      "\n",
      "\n",
      "  3%|▎         | 1111/38976 [12:23<13:14:34,  1.26s/it]\u001b[A\u001b[A"
     ]
    },
    {
     "name": "stdout",
     "output_type": "stream",
     "text": [
      "16051789\n"
     ]
    },
    {
     "name": "stderr",
     "output_type": "stream",
     "text": [
      "\n",
      "\n",
      "  3%|▎         | 1112/38976 [12:24<13:15:39,  1.26s/it]\u001b[A\u001b[A"
     ]
    },
    {
     "name": "stdout",
     "output_type": "stream",
     "text": [
      "16066189\n"
     ]
    },
    {
     "name": "stderr",
     "output_type": "stream",
     "text": [
      "\n",
      "\n",
      "  3%|▎         | 1113/38976 [12:25<13:14:44,  1.26s/it]\u001b[A\u001b[A"
     ]
    },
    {
     "name": "stdout",
     "output_type": "stream",
     "text": [
      "16079689\n"
     ]
    },
    {
     "name": "stderr",
     "output_type": "stream",
     "text": [
      "\n",
      "\n",
      "  3%|▎         | 1114/38976 [12:26<13:17:15,  1.26s/it]\u001b[A\u001b[A"
     ]
    },
    {
     "name": "stdout",
     "output_type": "stream",
     "text": [
      "16094089\n"
     ]
    },
    {
     "name": "stderr",
     "output_type": "stream",
     "text": [
      "\n",
      "\n",
      "  3%|▎         | 1115/38976 [12:28<13:21:14,  1.27s/it]\u001b[A\u001b[A"
     ]
    },
    {
     "name": "stdout",
     "output_type": "stream",
     "text": [
      "16108489\n"
     ]
    },
    {
     "name": "stderr",
     "output_type": "stream",
     "text": [
      "\n",
      "\n",
      "  3%|▎         | 1116/38976 [12:29<13:25:18,  1.28s/it]\u001b[A\u001b[A"
     ]
    },
    {
     "name": "stdout",
     "output_type": "stream",
     "text": [
      "16122889\n"
     ]
    },
    {
     "name": "stderr",
     "output_type": "stream",
     "text": [
      "\n",
      "\n",
      "  3%|▎         | 1117/38976 [12:30<13:26:31,  1.28s/it]\u001b[A\u001b[A"
     ]
    },
    {
     "name": "stdout",
     "output_type": "stream",
     "text": [
      "16137289\n"
     ]
    },
    {
     "name": "stderr",
     "output_type": "stream",
     "text": [
      "\n",
      "\n",
      "  3%|▎         | 1118/38976 [12:32<13:27:35,  1.28s/it]\u001b[A\u001b[A"
     ]
    },
    {
     "name": "stdout",
     "output_type": "stream",
     "text": [
      "16151689\n"
     ]
    },
    {
     "name": "stderr",
     "output_type": "stream",
     "text": [
      "\n",
      "\n",
      "  3%|▎         | 1119/38976 [12:33<13:29:59,  1.28s/it]\u001b[A\u001b[A"
     ]
    },
    {
     "name": "stdout",
     "output_type": "stream",
     "text": [
      "16166089\n"
     ]
    },
    {
     "name": "stderr",
     "output_type": "stream",
     "text": [
      "\n",
      "\n",
      "  3%|▎         | 1120/38976 [12:34<13:32:43,  1.29s/it]\u001b[A\u001b[A"
     ]
    },
    {
     "name": "stdout",
     "output_type": "stream",
     "text": [
      "16180489\n"
     ]
    },
    {
     "name": "stderr",
     "output_type": "stream",
     "text": [
      "\n",
      "\n",
      "  3%|▎         | 1121/38976 [12:35<13:32:40,  1.29s/it]\u001b[A\u001b[A"
     ]
    },
    {
     "name": "stdout",
     "output_type": "stream",
     "text": [
      "16194889\n"
     ]
    },
    {
     "name": "stderr",
     "output_type": "stream",
     "text": [
      "\n",
      "\n",
      "  3%|▎         | 1122/38976 [12:37<13:32:21,  1.29s/it]\u001b[A\u001b[A"
     ]
    },
    {
     "name": "stdout",
     "output_type": "stream",
     "text": [
      "16209289\n"
     ]
    },
    {
     "name": "stderr",
     "output_type": "stream",
     "text": [
      "\n",
      "\n",
      "  3%|▎         | 1123/38976 [12:38<13:32:44,  1.29s/it]\u001b[A\u001b[A"
     ]
    },
    {
     "name": "stdout",
     "output_type": "stream",
     "text": [
      "16223689\n"
     ]
    },
    {
     "name": "stderr",
     "output_type": "stream",
     "text": [
      "\n",
      "\n",
      "  3%|▎         | 1124/38976 [12:39<13:43:49,  1.31s/it]\u001b[A\u001b[A"
     ]
    },
    {
     "name": "stdout",
     "output_type": "stream",
     "text": [
      "16238089\n"
     ]
    },
    {
     "name": "stderr",
     "output_type": "stream",
     "text": [
      "\n",
      "\n",
      "  3%|▎         | 1125/38976 [12:41<13:42:30,  1.30s/it]\u001b[A\u001b[A"
     ]
    },
    {
     "name": "stdout",
     "output_type": "stream",
     "text": [
      "16252489\n"
     ]
    },
    {
     "name": "stderr",
     "output_type": "stream",
     "text": [
      "\n",
      "\n",
      "  3%|▎         | 1126/38976 [12:42<13:42:04,  1.30s/it]\u001b[A\u001b[A"
     ]
    },
    {
     "name": "stdout",
     "output_type": "stream",
     "text": [
      "16266889\n"
     ]
    },
    {
     "name": "stderr",
     "output_type": "stream",
     "text": [
      "\n",
      "\n",
      "  3%|▎         | 1127/38976 [12:43<13:42:02,  1.30s/it]\u001b[A\u001b[A"
     ]
    },
    {
     "name": "stdout",
     "output_type": "stream",
     "text": [
      "16281289\n"
     ]
    },
    {
     "name": "stderr",
     "output_type": "stream",
     "text": [
      "\n",
      "\n",
      "  3%|▎         | 1128/38976 [12:45<13:45:10,  1.31s/it]\u001b[A\u001b[A"
     ]
    },
    {
     "name": "stdout",
     "output_type": "stream",
     "text": [
      "16295689\n"
     ]
    },
    {
     "name": "stderr",
     "output_type": "stream",
     "text": [
      "\n",
      "\n",
      "  3%|▎         | 1129/38976 [12:46<13:46:14,  1.31s/it]\u001b[A\u001b[A"
     ]
    },
    {
     "name": "stdout",
     "output_type": "stream",
     "text": [
      "16310089\n"
     ]
    },
    {
     "name": "stderr",
     "output_type": "stream",
     "text": [
      "\n",
      "\n",
      "  3%|▎         | 1130/38976 [12:47<13:46:23,  1.31s/it]\u001b[A\u001b[A"
     ]
    },
    {
     "name": "stdout",
     "output_type": "stream",
     "text": [
      "16324489\n"
     ]
    },
    {
     "name": "stderr",
     "output_type": "stream",
     "text": [
      "\n",
      "\n",
      "  3%|▎         | 1131/38976 [12:49<13:46:37,  1.31s/it]\u001b[A\u001b[A"
     ]
    },
    {
     "name": "stdout",
     "output_type": "stream",
     "text": [
      "16338889\n"
     ]
    },
    {
     "name": "stderr",
     "output_type": "stream",
     "text": [
      "\n",
      "\n",
      "  3%|▎         | 1132/38976 [12:50<13:46:49,  1.31s/it]\u001b[A\u001b[A"
     ]
    },
    {
     "name": "stdout",
     "output_type": "stream",
     "text": [
      "16353289\n"
     ]
    },
    {
     "name": "stderr",
     "output_type": "stream",
     "text": [
      "\n",
      "\n",
      "  3%|▎         | 1133/38976 [12:51<13:48:29,  1.31s/it]\u001b[A\u001b[A"
     ]
    },
    {
     "name": "stdout",
     "output_type": "stream",
     "text": [
      "16367689\n"
     ]
    },
    {
     "name": "stderr",
     "output_type": "stream",
     "text": [
      "\n",
      "\n",
      "  3%|▎         | 1134/38976 [12:52<13:47:55,  1.31s/it]\u001b[A\u001b[A"
     ]
    },
    {
     "name": "stdout",
     "output_type": "stream",
     "text": [
      "16382089\n"
     ]
    },
    {
     "name": "stderr",
     "output_type": "stream",
     "text": [
      "\n",
      "\n",
      "  3%|▎         | 1135/38976 [12:54<13:52:26,  1.32s/it]\u001b[A\u001b[A"
     ]
    },
    {
     "name": "stdout",
     "output_type": "stream",
     "text": [
      "16396489\n"
     ]
    },
    {
     "name": "stderr",
     "output_type": "stream",
     "text": [
      "\n",
      "\n",
      "  3%|▎         | 1136/38976 [12:55<14:13:07,  1.35s/it]\u001b[A\u001b[A"
     ]
    },
    {
     "name": "stdout",
     "output_type": "stream",
     "text": [
      "16410889\n"
     ]
    },
    {
     "name": "stderr",
     "output_type": "stream",
     "text": [
      "\n",
      "\n",
      "  3%|▎         | 1137/38976 [12:57<14:16:46,  1.36s/it]\u001b[A\u001b[A"
     ]
    },
    {
     "name": "stdout",
     "output_type": "stream",
     "text": [
      "16425289\n"
     ]
    },
    {
     "name": "stderr",
     "output_type": "stream",
     "text": [
      "\n",
      "\n",
      "  3%|▎         | 1138/38976 [12:58<14:16:34,  1.36s/it]\u001b[A\u001b[A"
     ]
    },
    {
     "name": "stdout",
     "output_type": "stream",
     "text": [
      "16439689\n"
     ]
    },
    {
     "name": "stderr",
     "output_type": "stream",
     "text": [
      "\n",
      "\n",
      "  3%|▎         | 1139/38976 [12:59<14:14:10,  1.35s/it]\u001b[A\u001b[A"
     ]
    },
    {
     "name": "stdout",
     "output_type": "stream",
     "text": [
      "16454089\n"
     ]
    },
    {
     "name": "stderr",
     "output_type": "stream",
     "text": [
      "\n",
      "\n",
      "  3%|▎         | 1140/38976 [13:01<14:17:45,  1.36s/it]\u001b[A\u001b[A"
     ]
    },
    {
     "name": "stdout",
     "output_type": "stream",
     "text": [
      "16468489\n"
     ]
    },
    {
     "name": "stderr",
     "output_type": "stream",
     "text": [
      "\n",
      "\n",
      "  3%|▎         | 1141/38976 [13:02<14:33:15,  1.38s/it]\u001b[A\u001b[A"
     ]
    },
    {
     "name": "stdout",
     "output_type": "stream",
     "text": [
      "16482889\n"
     ]
    },
    {
     "name": "stderr",
     "output_type": "stream",
     "text": [
      "\n",
      "\n",
      "  3%|▎         | 1142/38976 [13:04<14:34:57,  1.39s/it]\u001b[A\u001b[A"
     ]
    },
    {
     "name": "stdout",
     "output_type": "stream",
     "text": [
      "16496389\n"
     ]
    },
    {
     "name": "stderr",
     "output_type": "stream",
     "text": [
      "\n",
      "\n",
      "  3%|▎         | 1143/38976 [13:05<14:33:37,  1.39s/it]\u001b[A\u001b[A"
     ]
    },
    {
     "name": "stdout",
     "output_type": "stream",
     "text": [
      "16510789\n"
     ]
    },
    {
     "name": "stderr",
     "output_type": "stream",
     "text": [
      "\n",
      "\n",
      "  3%|▎         | 1144/38976 [13:06<14:33:10,  1.38s/it]\u001b[A\u001b[A"
     ]
    },
    {
     "name": "stdout",
     "output_type": "stream",
     "text": [
      "16525189\n"
     ]
    },
    {
     "name": "stderr",
     "output_type": "stream",
     "text": [
      "\n",
      "\n",
      "  3%|▎         | 1145/38976 [13:08<14:30:42,  1.38s/it]\u001b[A\u001b[A"
     ]
    },
    {
     "name": "stdout",
     "output_type": "stream",
     "text": [
      "16539589\n"
     ]
    },
    {
     "name": "stderr",
     "output_type": "stream",
     "text": [
      "\n",
      "\n",
      "  3%|▎         | 1146/38976 [13:09<14:29:51,  1.38s/it]\u001b[A\u001b[A"
     ]
    },
    {
     "name": "stdout",
     "output_type": "stream",
     "text": [
      "16553989\n"
     ]
    },
    {
     "name": "stderr",
     "output_type": "stream",
     "text": [
      "\n",
      "\n",
      "  3%|▎         | 1147/38976 [13:10<14:31:08,  1.38s/it]\u001b[A\u001b[A"
     ]
    },
    {
     "name": "stdout",
     "output_type": "stream",
     "text": [
      "16568389\n"
     ]
    },
    {
     "name": "stderr",
     "output_type": "stream",
     "text": [
      "\n",
      "\n",
      "  3%|▎         | 1148/38976 [13:12<14:34:31,  1.39s/it]\u001b[A\u001b[A"
     ]
    },
    {
     "name": "stdout",
     "output_type": "stream",
     "text": [
      "16582789\n"
     ]
    },
    {
     "name": "stderr",
     "output_type": "stream",
     "text": [
      "\n",
      "\n",
      "  3%|▎         | 1149/38976 [13:13<14:35:36,  1.39s/it]\u001b[A\u001b[A"
     ]
    },
    {
     "name": "stdout",
     "output_type": "stream",
     "text": [
      "16597189\n"
     ]
    },
    {
     "name": "stderr",
     "output_type": "stream",
     "text": [
      "\n",
      "\n",
      "  3%|▎         | 1150/38976 [13:15<14:37:10,  1.39s/it]\u001b[A\u001b[A"
     ]
    },
    {
     "name": "stdout",
     "output_type": "stream",
     "text": [
      "16611589\n"
     ]
    },
    {
     "name": "stderr",
     "output_type": "stream",
     "text": [
      "\n",
      "\n",
      "  3%|▎         | 1151/38976 [13:16<14:35:28,  1.39s/it]\u001b[A\u001b[A"
     ]
    },
    {
     "name": "stdout",
     "output_type": "stream",
     "text": [
      "16625989\n"
     ]
    },
    {
     "name": "stderr",
     "output_type": "stream",
     "text": [
      "\n",
      "\n",
      "  3%|▎         | 1152/38976 [13:17<14:34:17,  1.39s/it]\u001b[A\u001b[A"
     ]
    },
    {
     "name": "stdout",
     "output_type": "stream",
     "text": [
      "16640389\n"
     ]
    },
    {
     "name": "stderr",
     "output_type": "stream",
     "text": [
      "\n",
      "\n",
      "  3%|▎         | 1153/38976 [13:19<14:33:46,  1.39s/it]\u001b[A\u001b[A"
     ]
    },
    {
     "name": "stdout",
     "output_type": "stream",
     "text": [
      "16653889\n"
     ]
    },
    {
     "name": "stderr",
     "output_type": "stream",
     "text": [
      "\n",
      "\n",
      "  3%|▎         | 1154/38976 [13:20<14:35:02,  1.39s/it]\u001b[A\u001b[A"
     ]
    },
    {
     "name": "stdout",
     "output_type": "stream",
     "text": [
      "16668289\n"
     ]
    },
    {
     "name": "stderr",
     "output_type": "stream",
     "text": [
      "\n",
      "\n",
      "  3%|▎         | 1155/38976 [13:22<14:39:11,  1.39s/it]\u001b[A\u001b[A"
     ]
    },
    {
     "name": "stdout",
     "output_type": "stream",
     "text": [
      "16682689\n"
     ]
    },
    {
     "name": "stderr",
     "output_type": "stream",
     "text": [
      "\n",
      "\n",
      "  3%|▎         | 1156/38976 [13:23<15:04:26,  1.43s/it]\u001b[A\u001b[A"
     ]
    },
    {
     "name": "stdout",
     "output_type": "stream",
     "text": [
      "16697089\n"
     ]
    },
    {
     "name": "stderr",
     "output_type": "stream",
     "text": [
      "\n",
      "\n",
      "  3%|▎         | 1157/38976 [13:25<15:20:00,  1.46s/it]\u001b[A\u001b[A"
     ]
    },
    {
     "name": "stdout",
     "output_type": "stream",
     "text": [
      "16711489\n"
     ]
    },
    {
     "name": "stderr",
     "output_type": "stream",
     "text": [
      "\n",
      "\n",
      "  3%|▎         | 1158/38976 [13:26<15:35:32,  1.48s/it]\u001b[A\u001b[A"
     ]
    },
    {
     "name": "stdout",
     "output_type": "stream",
     "text": [
      "16725889\n"
     ]
    },
    {
     "name": "stderr",
     "output_type": "stream",
     "text": [
      "\n",
      "\n",
      "  3%|▎         | 1159/38976 [13:28<15:42:49,  1.50s/it]\u001b[A\u001b[A"
     ]
    },
    {
     "name": "stdout",
     "output_type": "stream",
     "text": [
      "16740289\n"
     ]
    },
    {
     "name": "stderr",
     "output_type": "stream",
     "text": [
      "\n",
      "\n",
      "  3%|▎         | 1160/38976 [13:29<15:46:11,  1.50s/it]\u001b[A\u001b[A"
     ]
    },
    {
     "name": "stdout",
     "output_type": "stream",
     "text": [
      "16754689\n"
     ]
    },
    {
     "name": "stderr",
     "output_type": "stream",
     "text": [
      "\n",
      "\n",
      "  3%|▎         | 1161/38976 [13:31<15:41:58,  1.49s/it]\u001b[A\u001b[A"
     ]
    },
    {
     "name": "stdout",
     "output_type": "stream",
     "text": [
      "16769089\n"
     ]
    },
    {
     "name": "stderr",
     "output_type": "stream",
     "text": [
      "\n",
      "\n",
      "  3%|▎         | 1162/38976 [13:32<15:34:57,  1.48s/it]\u001b[A\u001b[A"
     ]
    },
    {
     "name": "stdout",
     "output_type": "stream",
     "text": [
      "16780609\n"
     ]
    },
    {
     "name": "stderr",
     "output_type": "stream",
     "text": [
      "\n",
      "\n",
      "  3%|▎         | 1163/38976 [13:34<15:35:08,  1.48s/it]\u001b[A\u001b[A"
     ]
    },
    {
     "name": "stdout",
     "output_type": "stream",
     "text": [
      "16795009\n"
     ]
    },
    {
     "name": "stderr",
     "output_type": "stream",
     "text": [
      "\n",
      "\n",
      "  3%|▎         | 1164/38976 [13:35<15:36:01,  1.49s/it]\u001b[A\u001b[A"
     ]
    },
    {
     "name": "stdout",
     "output_type": "stream",
     "text": [
      "16809409\n"
     ]
    },
    {
     "name": "stderr",
     "output_type": "stream",
     "text": [
      "\n",
      "\n",
      "  3%|▎         | 1165/38976 [13:37<15:50:16,  1.51s/it]\u001b[A\u001b[A"
     ]
    },
    {
     "name": "stdout",
     "output_type": "stream",
     "text": [
      "16823809\n"
     ]
    },
    {
     "name": "stderr",
     "output_type": "stream",
     "text": [
      "\n",
      "\n",
      "  3%|▎         | 1166/38976 [13:38<15:58:30,  1.52s/it]\u001b[A\u001b[A"
     ]
    },
    {
     "name": "stdout",
     "output_type": "stream",
     "text": [
      "16838209\n"
     ]
    },
    {
     "name": "stderr",
     "output_type": "stream",
     "text": [
      "\n",
      "\n",
      "  3%|▎         | 1167/38976 [13:40<16:02:52,  1.53s/it]\u001b[A\u001b[A"
     ]
    },
    {
     "name": "stdout",
     "output_type": "stream",
     "text": [
      "16852609\n"
     ]
    },
    {
     "name": "stderr",
     "output_type": "stream",
     "text": [
      "\n",
      "\n",
      "  3%|▎         | 1168/38976 [13:41<15:58:26,  1.52s/it]\u001b[A\u001b[A"
     ]
    },
    {
     "name": "stdout",
     "output_type": "stream",
     "text": [
      "16867009\n"
     ]
    },
    {
     "name": "stderr",
     "output_type": "stream",
     "text": [
      "\n",
      "\n",
      "  3%|▎         | 1169/38976 [13:43<15:56:27,  1.52s/it]\u001b[A\u001b[A"
     ]
    },
    {
     "name": "stdout",
     "output_type": "stream",
     "text": [
      "16880329\n"
     ]
    },
    {
     "name": "stderr",
     "output_type": "stream",
     "text": [
      "\n",
      "\n",
      "  3%|▎         | 1170/38976 [13:44<16:06:11,  1.53s/it]\u001b[A\u001b[A"
     ]
    },
    {
     "name": "stdout",
     "output_type": "stream",
     "text": [
      "16894729\n"
     ]
    },
    {
     "name": "stderr",
     "output_type": "stream",
     "text": [
      "\n",
      "\n",
      "  3%|▎         | 1171/38976 [13:46<16:02:06,  1.53s/it]\u001b[A\u001b[A"
     ]
    },
    {
     "name": "stdout",
     "output_type": "stream",
     "text": [
      "16909129\n"
     ]
    },
    {
     "name": "stderr",
     "output_type": "stream",
     "text": [
      "\n",
      "\n",
      "  3%|▎         | 1172/38976 [13:47<15:48:18,  1.51s/it]\u001b[A\u001b[A"
     ]
    },
    {
     "name": "stdout",
     "output_type": "stream",
     "text": [
      "16923529\n"
     ]
    },
    {
     "name": "stderr",
     "output_type": "stream",
     "text": [
      "\n",
      "\n",
      "  3%|▎         | 1173/38976 [13:49<15:38:45,  1.49s/it]\u001b[A\u001b[A"
     ]
    },
    {
     "name": "stdout",
     "output_type": "stream",
     "text": [
      "16937929\n"
     ]
    },
    {
     "name": "stderr",
     "output_type": "stream",
     "text": [
      "\n",
      "\n",
      "  3%|▎         | 1174/38976 [13:50<15:33:26,  1.48s/it]\u001b[A\u001b[A"
     ]
    },
    {
     "name": "stdout",
     "output_type": "stream",
     "text": [
      "16952329\n"
     ]
    },
    {
     "name": "stderr",
     "output_type": "stream",
     "text": [
      "\n",
      "\n",
      "  3%|▎         | 1175/38976 [13:52<15:29:38,  1.48s/it]\u001b[A\u001b[A"
     ]
    },
    {
     "name": "stdout",
     "output_type": "stream",
     "text": [
      "16966729\n"
     ]
    },
    {
     "name": "stderr",
     "output_type": "stream",
     "text": [
      "\n",
      "\n",
      "  3%|▎         | 1176/38976 [13:53<15:32:06,  1.48s/it]\u001b[A\u001b[A"
     ]
    },
    {
     "name": "stdout",
     "output_type": "stream",
     "text": [
      "16981129\n"
     ]
    },
    {
     "name": "stderr",
     "output_type": "stream",
     "text": [
      "\n",
      "\n",
      "  3%|▎         | 1177/38976 [13:55<15:31:27,  1.48s/it]\u001b[A\u001b[A"
     ]
    },
    {
     "name": "stdout",
     "output_type": "stream",
     "text": [
      "16995529\n"
     ]
    },
    {
     "name": "stderr",
     "output_type": "stream",
     "text": [
      "\n",
      "\n",
      "  3%|▎         | 1178/38976 [13:56<15:27:47,  1.47s/it]\u001b[A\u001b[A"
     ]
    },
    {
     "name": "stdout",
     "output_type": "stream",
     "text": [
      "17009929\n"
     ]
    },
    {
     "name": "stderr",
     "output_type": "stream",
     "text": [
      "\n",
      "\n",
      "  3%|▎         | 1179/38976 [13:58<15:27:40,  1.47s/it]\u001b[A\u001b[A"
     ]
    },
    {
     "name": "stdout",
     "output_type": "stream",
     "text": [
      "17024329\n"
     ]
    },
    {
     "name": "stderr",
     "output_type": "stream",
     "text": [
      "\n",
      "\n",
      "  3%|▎         | 1180/38976 [13:59<15:27:03,  1.47s/it]\u001b[A\u001b[A"
     ]
    },
    {
     "name": "stdout",
     "output_type": "stream",
     "text": [
      "17038729\n"
     ]
    },
    {
     "name": "stderr",
     "output_type": "stream",
     "text": [
      "\n",
      "\n",
      "  3%|▎         | 1181/38976 [14:01<15:21:11,  1.46s/it]\u001b[A\u001b[A"
     ]
    },
    {
     "name": "stdout",
     "output_type": "stream",
     "text": [
      "17053129\n"
     ]
    },
    {
     "name": "stderr",
     "output_type": "stream",
     "text": [
      "\n",
      "\n",
      "  3%|▎         | 1182/38976 [14:02<15:27:40,  1.47s/it]\u001b[A\u001b[A"
     ]
    },
    {
     "name": "stdout",
     "output_type": "stream",
     "text": [
      "17081749\n"
     ]
    },
    {
     "name": "stderr",
     "output_type": "stream",
     "text": [
      "\n",
      "\n",
      "  3%|▎         | 1183/38976 [14:03<15:20:59,  1.46s/it]\u001b[A\u001b[A"
     ]
    },
    {
     "name": "stdout",
     "output_type": "stream",
     "text": [
      "17096149\n"
     ]
    },
    {
     "name": "stderr",
     "output_type": "stream",
     "text": [
      "\n",
      "\n",
      "  3%|▎         | 1184/38976 [14:05<15:20:27,  1.46s/it]\u001b[A\u001b[A"
     ]
    },
    {
     "name": "stdout",
     "output_type": "stream",
     "text": [
      "17110549\n"
     ]
    }
   ],
   "source": [
    "from tqdm import tqdm\n",
    "def process_all_h5(df): # loads all h5s into a dataframe. will save locally every ~500 files\n",
    "    mypath = os.getcwd() + \"/data/\" # get all files in data folder\n",
    "    files = [f for f in listdir(mypath) if isfile(join(mypath, f))]\n",
    "    for f in tqdm(files): # h5py is kind of picky with absolute filenames & root folder files\n",
    "        path = mypath+f\n",
    "        df = process_orbit(df, path) # ah, that did the trick\n",
    "        \n",
    "start = time.time()\n",
    "df = process_all_h5(df)\n",
    "end = time.time()\n",
    "print(f'time:   {end-start}')"
   ]
  },
  {
   "cell_type": "code",
   "execution_count": null,
   "metadata": {},
   "outputs": [],
   "source": []
  },
  {
   "cell_type": "code",
   "execution_count": null,
   "metadata": {},
   "outputs": [],
   "source": []
  },
  {
   "cell_type": "code",
   "execution_count": null,
   "metadata": {},
   "outputs": [],
   "source": [
    "lst = []\n",
    "for filename in os.listdir(os.getcwd()):\n",
    "    if filename.endswith('.h5'):\n",
    "        with h5py.File(filename, 'r') as f:\n",
    "            print('keys: %s' %f.keys())\n",
    "            a_group_key = list(f.keys())[0]\n",
    "            data = list(f[a_group_key])"
   ]
  },
  {
   "cell_type": "code",
   "execution_count": null,
   "metadata": {},
   "outputs": [],
   "source": []
  },
  {
   "cell_type": "code",
   "execution_count": null,
   "metadata": {},
   "outputs": [],
   "source": []
  },
  {
   "cell_type": "code",
   "execution_count": null,
   "metadata": {},
   "outputs": [],
   "source": []
  },
  {
   "cell_type": "code",
   "execution_count": null,
   "metadata": {},
   "outputs": [],
   "source": []
  },
  {
   "cell_type": "code",
   "execution_count": null,
   "metadata": {},
   "outputs": [],
   "source": []
  },
  {
   "cell_type": "code",
   "execution_count": null,
   "metadata": {},
   "outputs": [],
   "source": []
  },
  {
   "cell_type": "code",
   "execution_count": null,
   "metadata": {},
   "outputs": [],
   "source": []
  },
  {
   "cell_type": "code",
   "execution_count": null,
   "metadata": {},
   "outputs": [],
   "source": []
  },
  {
   "cell_type": "code",
   "execution_count": null,
   "metadata": {},
   "outputs": [],
   "source": []
  },
  {
   "cell_type": "code",
   "execution_count": null,
   "metadata": {},
   "outputs": [],
   "source": []
  },
  {
   "cell_type": "code",
   "execution_count": null,
   "metadata": {},
   "outputs": [],
   "source": []
  }
 ],
 "metadata": {
  "kernelspec": {
   "display_name": "Python 3",
   "language": "python",
   "name": "python3"
  },
  "language_info": {
   "codemirror_mode": {
    "name": "ipython",
    "version": 3
   },
   "file_extension": ".py",
   "mimetype": "text/x-python",
   "name": "python",
   "nbconvert_exporter": "python",
   "pygments_lexer": "ipython3",
   "version": "3.7.4"
  },
  "toc": {
   "base_numbering": 1,
   "nav_menu": {},
   "number_sections": true,
   "sideBar": false,
   "skip_h1_title": false,
   "title_cell": "Table of Contents",
   "title_sidebar": "Contents",
   "toc_cell": true,
   "toc_position": {},
   "toc_section_display": false,
   "toc_window_display": false
  }
 },
 "nbformat": 4,
 "nbformat_minor": 2
}
