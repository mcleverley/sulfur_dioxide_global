{
 "cells": [
  {
   "cell_type": "markdown",
   "metadata": {
    "toc": true
   },
   "source": [
    "<h1>Table of Contents<span class=\"tocSkip\"></span></h1>\n",
    "<div class=\"toc\"><ul class=\"toc-item\"><li><ul class=\"toc-item\"><li><span><a href=\"#set-up-Spark-using-joe's-lecture-notes\" data-toc-modified-id=\"set-up-Spark-using-joe's-lecture-notes-0.1\"><span class=\"toc-item-num\">0.1&nbsp;&nbsp;</span>set up Spark using joe's lecture notes</a></span></li></ul></li><li><span><a href=\"#right,-that-was-a-nightmare-to-deal-with.\" data-toc-modified-id=\"right,-that-was-a-nightmare-to-deal-with.-1\"><span class=\"toc-item-num\">1&nbsp;&nbsp;</span>right, that was a nightmare to deal with.</a></span><ul class=\"toc-item\"><li><span><a href=\"#manually-installing-pyspark-is-not-recommended-until-i-have-a-better-software-understanding-in-general\" data-toc-modified-id=\"manually-installing-pyspark-is-not-recommended-until-i-have-a-better-software-understanding-in-general-1.1\"><span class=\"toc-item-num\">1.1&nbsp;&nbsp;</span>manually installing pyspark is <em>not recommended</em> until i have a better software understanding in general</a></span></li><li><span><a href=\"#docker-&amp;-kitematic-->-pyspark_notebook-image-handled-it-tidily\" data-toc-modified-id=\"docker-&amp;-kitematic-->-pyspark_notebook-image-handled-it-tidily-1.2\"><span class=\"toc-item-num\">1.2&nbsp;&nbsp;</span>docker &amp; kitematic -&gt; pyspark_notebook image handled it tidily</a></span></li><li><span><a href=\"#plan\" data-toc-modified-id=\"plan-1.3\"><span class=\"toc-item-num\">1.3&nbsp;&nbsp;</span>plan</a></span></li></ul></li></ul></div>"
   ]
  },
  {
   "cell_type": "markdown",
   "metadata": {},
   "source": [
    "## set up Spark using joe's lecture notes\n",
    "- apache spark on Amazon EMR is probably the best way\n",
    "- I can pipe my SQL SO2 data into an s3 bucket -> EMR File System"
   ]
  },
  {
   "cell_type": "code",
   "execution_count": null,
   "metadata": {},
   "outputs": [],
   "source": []
  },
  {
   "cell_type": "markdown",
   "metadata": {},
   "source": [
    "# right, that was a nightmare to deal with.\n",
    "## manually installing pyspark is _not recommended_ until i have a better software understanding in general\n",
    "## docker & kitematic -> pyspark_notebook image handled it tidily\n",
    "- so i'll be doing the spark work in there for now. i wonder how to integrate it with git?"
   ]
  },
  {
   "cell_type": "markdown",
   "metadata": {},
   "source": [
    " 5/24 spark progress\n",
    " - did the basic lab, figured out how RDDs and DFs work with spark\n",
    " - how can i get my 86gb from SQL into spark? i wonder if there's a \n",
    " - yeah, there's a module\n",
    "     - https://spark.apache.org/docs/latest/api/python/pyspark.sql.html\n",
    "     - there's usually a module\n",
    " - but if i'm just running spark on my local machine, it'll still take me 5-18 hours to stream the data.\n",
    "     - and then what, it's in local memory? i don't think that works out\n",
    " - need to learn to set up spark cluster\n",
    "     - AWS EMR hosting? probably\n",
    " "
   ]
  },
  {
   "cell_type": "code",
   "execution_count": null,
   "metadata": {},
   "outputs": [],
   "source": []
  },
  {
   "cell_type": "markdown",
   "metadata": {},
   "source": [
    "## plan\n",
    "- what sort of spark analysis do i want on this dataset?\n",
    "    - timeseries analysis by geolocation\n",
    "    - 'anomaly detection' for a specific \"hex\"\n",
    "        - in hex A (location in world), was SO2 significantly higher/lower than yearly average?\n",
    "        - pyspark would be good for this\n",
    "    - use EMR for cluster hosting\n",
    "    - S3 for data input\n",
    "EMR is rather costly, so i'll start by learning how to get my SQL 90gb into S3"
   ]
  },
  {
   "cell_type": "code",
   "execution_count": null,
   "metadata": {},
   "outputs": [],
   "source": []
  },
  {
   "cell_type": "code",
   "execution_count": null,
   "metadata": {},
   "outputs": [],
   "source": []
  },
  {
   "cell_type": "code",
   "execution_count": null,
   "metadata": {},
   "outputs": [],
   "source": []
  },
  {
   "cell_type": "code",
   "execution_count": null,
   "metadata": {},
   "outputs": [],
   "source": []
  },
  {
   "cell_type": "code",
   "execution_count": null,
   "metadata": {},
   "outputs": [],
   "source": []
  }
 ],
 "metadata": {
  "kernelspec": {
   "display_name": "Python 3",
   "language": "python",
   "name": "python3"
  },
  "language_info": {
   "codemirror_mode": {
    "name": "ipython",
    "version": 3
   },
   "file_extension": ".py",
   "mimetype": "text/x-python",
   "name": "python",
   "nbconvert_exporter": "python",
   "pygments_lexer": "ipython3",
   "version": "3.7.4"
  },
  "toc": {
   "base_numbering": 1,
   "nav_menu": {},
   "number_sections": true,
   "sideBar": true,
   "skip_h1_title": false,
   "title_cell": "Table of Contents",
   "title_sidebar": "Contents",
   "toc_cell": true,
   "toc_position": {},
   "toc_section_display": true,
   "toc_window_display": true
  }
 },
 "nbformat": 4,
 "nbformat_minor": 2
}
