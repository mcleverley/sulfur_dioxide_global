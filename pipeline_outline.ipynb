{
 "cells": [
  {
   "cell_type": "markdown",
   "metadata": {
    "toc": true
   },
   "source": [
    "<h1>Table of Contents<span class=\"tocSkip\"></span></h1>\n",
    "<div class=\"toc\"><ul class=\"toc-item\"><li><span><a href=\"#imports\" data-toc-modified-id=\"imports-1\"><span class=\"toc-item-num\">1&nbsp;&nbsp;</span>imports</a></span></li><li><span><a href=\"#methods\" data-toc-modified-id=\"methods-2\"><span class=\"toc-item-num\">2&nbsp;&nbsp;</span>methods</a></span></li></ul></div>"
   ]
  },
  {
   "cell_type": "markdown",
   "metadata": {},
   "source": [
    "## imports"
   ]
  },
  {
   "cell_type": "code",
   "execution_count": 2,
   "metadata": {},
   "outputs": [],
   "source": [
    "import pandas as pd\n",
    "import numpy as np\n",
    "import pandas as pd\n",
    "import mysql.connector\n",
    "from tqdm import tqdm\n",
    "import h5py\n",
    "from sqlalchemy import types, create_engine \n",
    "import os\n",
    "from os import listdir\n",
    "from os.path import isfile, join\n",
    "import config\n",
    "import time"
   ]
  },
  {
   "cell_type": "markdown",
   "metadata": {},
   "source": [
    "## methods"
   ]
  },
  {
   "cell_type": "code",
   "execution_count": null,
   "metadata": {},
   "outputs": [],
   "source": [
    "def create_base_df():\n",
    "    d = {'lat':[0.0],'long':[0.0],'sat_lat':[0.0],'sat_long':[0.0],'sat_alt':[0.0],'time':[0.0],'sza':[0.0],\n",
    "      'pbl':[0.0],'anom':[0],'cloud':[0.0]}\n",
    "    df = pd.DataFrame(data=d)\n",
    "    return df\n",
    "\n",
    "def get_files_list(): # gets list of filepath strings in ~/data\n",
    "    mypath = os.getcwd()+'/data/'\n",
    "    files = [f for f in listdir(mypath) if isfile(join(mypath, f))]\n",
    "    for f in files:\n",
    "        f = mypath+f # append full path for h5py loading\n",
    "    files = list(map(lambda f: mypath+f, files))\n",
    "    return files \n",
    "\n",
    "def process_orbit(h5): # filename string. adds h5's observations to dataframe\n",
    "    # the formatting/array shape is all uniform. thanks, NASA\n",
    "    f = h5py.File(h5, 'r') # read file\n",
    "    geo = f['GEOLOCATION_DATA'] # h5 Groups architecture is similar to dict\n",
    "    sci = f['SCIENCE_DATA']\n",
    "    # hdf.Datasets -> np.array -> flatten -> list. faster than looping through each matrix\n",
    "    lat = list(geo['Latitude'].value.ravel())\n",
    "    long = list(geo['Longitude'].value.ravel()) # is there a less verbose way to do this?\n",
    "    sat_lat = list(geo['SpacecraftLatitude'].value.ravel())*36 # extend the 1d arrays\n",
    "    sat_long = list(geo['SpacecraftLongitude'].value.ravel())*36 # don't forget to ravel like i did\n",
    "    sat_alt = list(geo['SpacecraftAltitude'].value.ravel())*36\n",
    "    time = list(geo['TimeUTC'].value.ravel())*36 # 36 measurements per position means one \"time\" value for every consecutive 36 measurements\n",
    "    sza = list(geo['SolarZenithAngle'].value.ravel())\n",
    "    pbl = list(sci['ColumnAmountSO2_PBL'].value.ravel())\n",
    "    anom = list(sci['Flag_SAA'].value.ravel())\n",
    "    volc = list(sci['Flag_SO2'].value.ravel())\n",
    "    # combine lists into df\n",
    "    new = pd.DataFrame(list(zip(lat, long, sat_lat, sat_long, sat_alt, time, sza, pbl, anom, volc)),\n",
    "                       columns=[\"lat\", \"long\", \"sat_lat\", \"sat_long\", \n",
    "                                'sat_alt', \"time\", \"sza\", \"pbl\", \"anom\", 'volc'])\n",
    "    new['time'] = new['time'].astype(str) # change time format\n",
    "    new['time'] = new['time'].apply(lambda st: st[2:12]+' '+st[13:21]) # change time format\n",
    "    return new # returns new df\n",
    "\n",
    "def process_all_h5(df): # loads all h5s into a base dataframe. \n",
    "    mypath = os.getcwd() + \"/data/\" # get all files in data folder\n",
    "    files = [f for f in listdir(mypath) if isfile(join(mypath, f))]\n",
    "    for c,f in enumerate(files): # h5py is kind of picky with absolute filenames & root folder files\n",
    "        print(c)\n",
    "        path = mypath+f\n",
    "        new = process_orbit(path)\n",
    "        df = pd.concat([df, new])\n",
    "        print(f'LENGTH:  {len(df)}')\n",
    "        df.to_csv('increm.csv')\n",
    "    return df\n",
    "\n",
    "def make_vars():\n",
    "    user = config.user # substitute your own username, password & SQL server host\n",
    "    pw = config.pw\n",
    "    host = config.host\n",
    "    connst = f'mysql+pymysql://{user}:{pw}@{host}.clqqz5nrghvl.us-east-1.rds.amazonaws.com/so2'\n",
    "    engine = create_engine(connst, echo=False) # don't set pool_recycle\n",
    "\n",
    "def process_h5s(files, processed, engine): # filepath strings, used filepath strings, sqlalchemy engine\n",
    "    # loads all h5s into dataframes -> uploads to SQL\n",
    "    # to keep track of progress\n",
    "    for f in tqdm(files):\n",
    "        df = process_orbit(f)\n",
    "        df.to_sql('so2', con=engine, if_exists='append') # sqlalchemy takes care of sessions, commits etc rather nicely\n",
    "#         processed.append(f.pop(0)) # move string to processed\n",
    "    return processed # is there a point to this if i can't interrupt the jupyter cell?\n",
    "\n",
    "def run_h5_processing():\n",
    "    df = create_base_df()\n",
    "    start = time.time()\n",
    "    df = process_all_h5(df)\n",
    "    df.to_csv('all_data.csv')\n",
    "    end = time.time()\n",
    "    print('All h5s in ~/data have been processed.')\n",
    "    print(f'time:   {end-start}')\n",
    "    return\n",
    "\n"
   ]
  },
  {
   "cell_type": "code",
   "execution_count": null,
   "metadata": {},
   "outputs": [],
   "source": []
  },
  {
   "cell_type": "markdown",
   "metadata": {},
   "source": []
  },
  {
   "cell_type": "code",
   "execution_count": null,
   "metadata": {},
   "outputs": [],
   "source": []
  },
  {
   "cell_type": "code",
   "execution_count": null,
   "metadata": {},
   "outputs": [],
   "source": []
  },
  {
   "cell_type": "code",
   "execution_count": null,
   "metadata": {},
   "outputs": [],
   "source": []
  },
  {
   "cell_type": "code",
   "execution_count": null,
   "metadata": {},
   "outputs": [],
   "source": []
  },
  {
   "cell_type": "code",
   "execution_count": null,
   "metadata": {},
   "outputs": [],
   "source": []
  },
  {
   "cell_type": "code",
   "execution_count": null,
   "metadata": {},
   "outputs": [],
   "source": []
  },
  {
   "cell_type": "code",
   "execution_count": null,
   "metadata": {},
   "outputs": [],
   "source": []
  },
  {
   "cell_type": "code",
   "execution_count": null,
   "metadata": {},
   "outputs": [],
   "source": []
  },
  {
   "cell_type": "code",
   "execution_count": null,
   "metadata": {},
   "outputs": [],
   "source": []
  },
  {
   "cell_type": "code",
   "execution_count": null,
   "metadata": {},
   "outputs": [],
   "source": []
  },
  {
   "cell_type": "code",
   "execution_count": null,
   "metadata": {},
   "outputs": [],
   "source": []
  },
  {
   "cell_type": "code",
   "execution_count": null,
   "metadata": {},
   "outputs": [],
   "source": []
  },
  {
   "cell_type": "code",
   "execution_count": null,
   "metadata": {},
   "outputs": [],
   "source": []
  },
  {
   "cell_type": "code",
   "execution_count": null,
   "metadata": {},
   "outputs": [],
   "source": []
  }
 ],
 "metadata": {
  "kernelspec": {
   "display_name": "Python 3",
   "language": "python",
   "name": "python3"
  },
  "language_info": {
   "codemirror_mode": {
    "name": "ipython",
    "version": 3
   },
   "file_extension": ".py",
   "mimetype": "text/x-python",
   "name": "python",
   "nbconvert_exporter": "python",
   "pygments_lexer": "ipython3",
   "version": "3.7.4"
  },
  "toc": {
   "base_numbering": 1,
   "nav_menu": {},
   "number_sections": true,
   "sideBar": true,
   "skip_h1_title": false,
   "title_cell": "Table of Contents",
   "title_sidebar": "Contents",
   "toc_cell": true,
   "toc_position": {
    "height": "calc(100% - 180px)",
    "left": "10px",
    "top": "150px",
    "width": "304px"
   },
   "toc_section_display": true,
   "toc_window_display": true
  }
 },
 "nbformat": 4,
 "nbformat_minor": 2
}
